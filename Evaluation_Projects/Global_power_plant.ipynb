{
  "nbformat": 4,
  "nbformat_minor": 0,
  "metadata": {
    "colab": {
      "provenance": []
    },
    "kernelspec": {
      "name": "python3",
      "display_name": "Python 3"
    },
    "language_info": {
      "name": "python"
    }
  },
  "cells": [
    {
      "cell_type": "markdown",
      "source": [
        "**Evaluation Project 4**\n",
        "\n",
        "**Global Power Plant Database**\n",
        "\n",
        "**Problem Statement:**\n",
        "\n",
        "**Description**\n",
        "\n",
        "The Global Power Plant Database is a comprehensive, open source database of power plants around the world. It centralizes power plant data to make it easier to navigate, compare and draw insights for one’s own analysis. The database covers approximately 35,000 power plants from 167 countries and includes thermal plants (e.g. coal, gas, oil, nuclear, biomass, waste, geothermal) and renewables (e.g. hydro, wind, solar). Each power plant is geolocated and entries contain information on plant capacity, generation, ownership, and fuel type. It will be continuously updated as data becomes available.\n",
        "\n",
        "**Key attributes of the database**\n",
        "\n",
        "The database includes the following indicators:\n",
        "\n",
        "**`country` (text):** 3 character country code corresponding to the ISO 3166-1 alpha-3 specification [5]\n",
        "\n",
        "**`country_long` (text):** longer form of the country designation\n",
        "\n",
        "**`name` (text):** name or title of the power plant, generally in Romanized form\n",
        "\n",
        "**`gppd_idnr` (text):** 10 or 12 character identifier for the power plant\n",
        "\n",
        "**`capacity_mw` (number):** electrical generating capacity in megawatts\n",
        "\n",
        "**`latitude` (number):** geolocation in decimal degrees; WGS84 (EPSG:4326)\n",
        " \n",
        "**`longitude` (number):** geolocation in decimal degrees; WGS84 (EPSG:4326)\n",
        "\n",
        "**`primary_fuel` (text):** energy source used in primary electricity generation or export\n",
        "\n",
        "**`other_fuel1` (text):** energy source used in electricity generation or export\n",
        "\n",
        "**`other_fuel2` (text):** energy source used in electricity generation or export\n",
        "\n",
        "**`other_fuel3` (text):** energy source used in electricity generation or export\n",
        "\n",
        "**`commissioning_year` (number):** year of plant operation, weighted by unit-capacity when data is available\n",
        "\n",
        "**`owner` (text):** majority shareholder of the power plant, generally in Romanized form\n",
        "\n",
        "**`source` (text):** entity reporting the data; could be an organization, report, or document, generally in Romanized form\n",
        "\n",
        "**`url` (text):** web document corresponding to the `source` field\n",
        "\n",
        "**`geolocation_source` (text):** attribution for geolocation information\n",
        "\n",
        "**`wepp_id` (text):** a reference to a unique plant identifier in the widely-used PLATTS-WEPP database.\n",
        "\n",
        "**`year_of_capacity_data` (number):** year the capacity information was reported\n",
        "\n",
        "**`generation_gwh_2013` (number):** electricity generation in gigawatt-hours reported for the year 2013\n",
        "\n",
        "**`generation_gwh_2014` (number):** electricity generation in gigawatt-hours reported for the year 2014\n",
        "\n",
        "**`generation_gwh_2015` (number):** electricity generation in gigawatt-hours reported for the year 2015\n",
        "\n",
        "**`generation_gwh_2016` (number):** electricity generation in gigawatt-hours reported for the year 2016\n",
        "\n",
        "**`generation_gwh_2017` (number):** electricity generation in gigawatt-hours reported for the year 2017\n",
        "\n",
        "**`generation_gwh_2018` (number):** electricity generation in gigawatt-hours reported for the year 2018\n",
        "\n",
        "**`generation_gwh_2019` (number):** electricity generation in gigawatt-hours reported for the year 2019\n",
        "\n",
        "**`generation_data_source` (text):** attribution for the reported generation information\n",
        "\n",
        "**`estimated_generation_gwh_2013` (number):** estimated electricity generation in gigawatt-hours for the year 2013\n",
        "\n",
        "**`estimated_generation_gwh_2014` (number):** estimated electricity generation in gigawatt-hours for the year 2014 \n",
        "\n",
        "**`estimated_generation_gwh_2015` (number):** estimated electricity generation in gigawatt-hours for the year 2015 \n",
        "\n",
        "**`estimated_generation_gwh_2016` (number):** estimated electricity generation in gigawatt-hours for the year 2016 \n",
        "\n",
        "**`estimated_generation_gwh_2017` (number):** estimated electricity generation in gigawatt-hours for the year 2017 \n",
        "\n",
        "**'estimated_generation_note_2013` (text):** label of the model/method used to estimate generation for the year 2013\n",
        "\n",
        "**`estimated_generation_note_2014` (text):** label of the model/method used to estimate generation for the year 2014 \n",
        "\n",
        "**`estimated_generation_note_2015` (text):** label of the model/method used to estimate generation for the year 2015\n",
        "\n",
        "**`estimated_generation_note_2016` (text):** label of the model/method used to estimate generation for the year 2016\n",
        "\n",
        "**`estimated_generation_note_2017` (text):** label of the model/method used to estimate generation for the year 2017 \n",
        "\n",
        "**Fuel Type Aggregation**\n",
        "\n",
        "We define the **\"Fuel Type\"** attribute of our database based on common fuel categories. \n",
        "\n",
        "**Prediction :**   Make two prediction  **1) Primary Fuel**    \n",
        "                                        **2) capacity_mw**\n",
        "\n",
        "**Find the dataset link below.**\n",
        "\n",
        "\n",
        "Downlaod Files:\n",
        "\n",
        "https://github.com/wri/global-power-plant-database/blob/master/source_databases_csv/database_IND.csv"
      ],
      "metadata": {
        "id": "afVH_fn2hCxy"
      }
    },
    {
      "cell_type": "code",
      "execution_count": 5,
      "metadata": {
        "id": "P2Wm3QHbvb8-"
      },
      "outputs": [],
      "source": [
        "import pandas as pd\n",
        "import numpy as np"
      ]
    },
    {
      "cell_type": "code",
      "source": [
        "df = pd.read_csv('https://github.com/wri/global-power-plant-database/raw/master/source_databases_csv/database_IND.csv')"
      ],
      "metadata": {
        "id": "IsAADrabviJS"
      },
      "execution_count": 6,
      "outputs": []
    },
    {
      "cell_type": "code",
      "source": [
        "df.head()"
      ],
      "metadata": {
        "id": "y62N0Xc8oglf",
        "outputId": "16bebc8c-0734-4285-ee76-241467d419c2",
        "colab": {
          "base_uri": "https://localhost:8080/",
          "height": 438
        }
      },
      "execution_count": null,
      "outputs": [
        {
          "output_type": "execute_result",
          "data": {
            "text/plain": [
              "  country country_long                      name   gppd_idnr  capacity_mw  \\\n",
              "0     IND        India          ACME Solar Tower  WRI1020239          2.5   \n",
              "1     IND        India       ADITYA CEMENT WORKS  WRI1019881         98.0   \n",
              "2     IND        India  AES Saurashtra Windfarms  WRI1026669         39.2   \n",
              "3     IND        India               AGARTALA GT  IND0000001        135.0   \n",
              "4     IND        India              AKALTARA TPP  IND0000002       1800.0   \n",
              "\n",
              "   latitude  longitude primary_fuel other_fuel1 other_fuel2  ...  \\\n",
              "0   28.1839    73.2407        Solar         NaN         NaN  ...   \n",
              "1   24.7663    74.6090         Coal         NaN         NaN  ...   \n",
              "2   21.9038    69.3732         Wind         NaN         NaN  ...   \n",
              "3   23.8712    91.3602          Gas         NaN         NaN  ...   \n",
              "4   21.9603    82.4091         Coal         Oil         NaN  ...   \n",
              "\n",
              "   year_of_capacity_data  generation_gwh_2013 generation_gwh_2014  \\\n",
              "0                    NaN                  NaN                 NaN   \n",
              "1                    NaN                  NaN                 NaN   \n",
              "2                    NaN                  NaN                 NaN   \n",
              "3                 2019.0                  NaN          617.789264   \n",
              "4                 2019.0                  NaN         3035.550000   \n",
              "\n",
              "  generation_gwh_2015 generation_gwh_2016 generation_gwh_2017  \\\n",
              "0                 NaN                 NaN                 NaN   \n",
              "1                 NaN                 NaN                 NaN   \n",
              "2                 NaN                 NaN                 NaN   \n",
              "3             843.747          886.004428          663.774500   \n",
              "4            5916.370         6243.000000         5385.579736   \n",
              "\n",
              "   generation_gwh_2018  generation_gwh_2019         generation_data_source  \\\n",
              "0                  NaN                  NaN                            NaN   \n",
              "1                  NaN                  NaN                            NaN   \n",
              "2                  NaN                  NaN                            NaN   \n",
              "3           626.239128                  NaN  Central Electricity Authority   \n",
              "4          7279.000000                  NaN  Central Electricity Authority   \n",
              "\n",
              "   estimated_generation_gwh  \n",
              "0                       NaN  \n",
              "1                       NaN  \n",
              "2                       NaN  \n",
              "3                       NaN  \n",
              "4                       NaN  \n",
              "\n",
              "[5 rows x 27 columns]"
            ],
            "text/html": [
              "\n",
              "  <div id=\"df-3b9e3313-04b6-4b2f-9d8c-7ab6485359fa\">\n",
              "    <div class=\"colab-df-container\">\n",
              "      <div>\n",
              "<style scoped>\n",
              "    .dataframe tbody tr th:only-of-type {\n",
              "        vertical-align: middle;\n",
              "    }\n",
              "\n",
              "    .dataframe tbody tr th {\n",
              "        vertical-align: top;\n",
              "    }\n",
              "\n",
              "    .dataframe thead th {\n",
              "        text-align: right;\n",
              "    }\n",
              "</style>\n",
              "<table border=\"1\" class=\"dataframe\">\n",
              "  <thead>\n",
              "    <tr style=\"text-align: right;\">\n",
              "      <th></th>\n",
              "      <th>country</th>\n",
              "      <th>country_long</th>\n",
              "      <th>name</th>\n",
              "      <th>gppd_idnr</th>\n",
              "      <th>capacity_mw</th>\n",
              "      <th>latitude</th>\n",
              "      <th>longitude</th>\n",
              "      <th>primary_fuel</th>\n",
              "      <th>other_fuel1</th>\n",
              "      <th>other_fuel2</th>\n",
              "      <th>...</th>\n",
              "      <th>year_of_capacity_data</th>\n",
              "      <th>generation_gwh_2013</th>\n",
              "      <th>generation_gwh_2014</th>\n",
              "      <th>generation_gwh_2015</th>\n",
              "      <th>generation_gwh_2016</th>\n",
              "      <th>generation_gwh_2017</th>\n",
              "      <th>generation_gwh_2018</th>\n",
              "      <th>generation_gwh_2019</th>\n",
              "      <th>generation_data_source</th>\n",
              "      <th>estimated_generation_gwh</th>\n",
              "    </tr>\n",
              "  </thead>\n",
              "  <tbody>\n",
              "    <tr>\n",
              "      <th>0</th>\n",
              "      <td>IND</td>\n",
              "      <td>India</td>\n",
              "      <td>ACME Solar Tower</td>\n",
              "      <td>WRI1020239</td>\n",
              "      <td>2.5</td>\n",
              "      <td>28.1839</td>\n",
              "      <td>73.2407</td>\n",
              "      <td>Solar</td>\n",
              "      <td>NaN</td>\n",
              "      <td>NaN</td>\n",
              "      <td>...</td>\n",
              "      <td>NaN</td>\n",
              "      <td>NaN</td>\n",
              "      <td>NaN</td>\n",
              "      <td>NaN</td>\n",
              "      <td>NaN</td>\n",
              "      <td>NaN</td>\n",
              "      <td>NaN</td>\n",
              "      <td>NaN</td>\n",
              "      <td>NaN</td>\n",
              "      <td>NaN</td>\n",
              "    </tr>\n",
              "    <tr>\n",
              "      <th>1</th>\n",
              "      <td>IND</td>\n",
              "      <td>India</td>\n",
              "      <td>ADITYA CEMENT WORKS</td>\n",
              "      <td>WRI1019881</td>\n",
              "      <td>98.0</td>\n",
              "      <td>24.7663</td>\n",
              "      <td>74.6090</td>\n",
              "      <td>Coal</td>\n",
              "      <td>NaN</td>\n",
              "      <td>NaN</td>\n",
              "      <td>...</td>\n",
              "      <td>NaN</td>\n",
              "      <td>NaN</td>\n",
              "      <td>NaN</td>\n",
              "      <td>NaN</td>\n",
              "      <td>NaN</td>\n",
              "      <td>NaN</td>\n",
              "      <td>NaN</td>\n",
              "      <td>NaN</td>\n",
              "      <td>NaN</td>\n",
              "      <td>NaN</td>\n",
              "    </tr>\n",
              "    <tr>\n",
              "      <th>2</th>\n",
              "      <td>IND</td>\n",
              "      <td>India</td>\n",
              "      <td>AES Saurashtra Windfarms</td>\n",
              "      <td>WRI1026669</td>\n",
              "      <td>39.2</td>\n",
              "      <td>21.9038</td>\n",
              "      <td>69.3732</td>\n",
              "      <td>Wind</td>\n",
              "      <td>NaN</td>\n",
              "      <td>NaN</td>\n",
              "      <td>...</td>\n",
              "      <td>NaN</td>\n",
              "      <td>NaN</td>\n",
              "      <td>NaN</td>\n",
              "      <td>NaN</td>\n",
              "      <td>NaN</td>\n",
              "      <td>NaN</td>\n",
              "      <td>NaN</td>\n",
              "      <td>NaN</td>\n",
              "      <td>NaN</td>\n",
              "      <td>NaN</td>\n",
              "    </tr>\n",
              "    <tr>\n",
              "      <th>3</th>\n",
              "      <td>IND</td>\n",
              "      <td>India</td>\n",
              "      <td>AGARTALA GT</td>\n",
              "      <td>IND0000001</td>\n",
              "      <td>135.0</td>\n",
              "      <td>23.8712</td>\n",
              "      <td>91.3602</td>\n",
              "      <td>Gas</td>\n",
              "      <td>NaN</td>\n",
              "      <td>NaN</td>\n",
              "      <td>...</td>\n",
              "      <td>2019.0</td>\n",
              "      <td>NaN</td>\n",
              "      <td>617.789264</td>\n",
              "      <td>843.747</td>\n",
              "      <td>886.004428</td>\n",
              "      <td>663.774500</td>\n",
              "      <td>626.239128</td>\n",
              "      <td>NaN</td>\n",
              "      <td>Central Electricity Authority</td>\n",
              "      <td>NaN</td>\n",
              "    </tr>\n",
              "    <tr>\n",
              "      <th>4</th>\n",
              "      <td>IND</td>\n",
              "      <td>India</td>\n",
              "      <td>AKALTARA TPP</td>\n",
              "      <td>IND0000002</td>\n",
              "      <td>1800.0</td>\n",
              "      <td>21.9603</td>\n",
              "      <td>82.4091</td>\n",
              "      <td>Coal</td>\n",
              "      <td>Oil</td>\n",
              "      <td>NaN</td>\n",
              "      <td>...</td>\n",
              "      <td>2019.0</td>\n",
              "      <td>NaN</td>\n",
              "      <td>3035.550000</td>\n",
              "      <td>5916.370</td>\n",
              "      <td>6243.000000</td>\n",
              "      <td>5385.579736</td>\n",
              "      <td>7279.000000</td>\n",
              "      <td>NaN</td>\n",
              "      <td>Central Electricity Authority</td>\n",
              "      <td>NaN</td>\n",
              "    </tr>\n",
              "  </tbody>\n",
              "</table>\n",
              "<p>5 rows × 27 columns</p>\n",
              "</div>\n",
              "      <button class=\"colab-df-convert\" onclick=\"convertToInteractive('df-3b9e3313-04b6-4b2f-9d8c-7ab6485359fa')\"\n",
              "              title=\"Convert this dataframe to an interactive table.\"\n",
              "              style=\"display:none;\">\n",
              "        \n",
              "  <svg xmlns=\"http://www.w3.org/2000/svg\" height=\"24px\"viewBox=\"0 0 24 24\"\n",
              "       width=\"24px\">\n",
              "    <path d=\"M0 0h24v24H0V0z\" fill=\"none\"/>\n",
              "    <path d=\"M18.56 5.44l.94 2.06.94-2.06 2.06-.94-2.06-.94-.94-2.06-.94 2.06-2.06.94zm-11 1L8.5 8.5l.94-2.06 2.06-.94-2.06-.94L8.5 2.5l-.94 2.06-2.06.94zm10 10l.94 2.06.94-2.06 2.06-.94-2.06-.94-.94-2.06-.94 2.06-2.06.94z\"/><path d=\"M17.41 7.96l-1.37-1.37c-.4-.4-.92-.59-1.43-.59-.52 0-1.04.2-1.43.59L10.3 9.45l-7.72 7.72c-.78.78-.78 2.05 0 2.83L4 21.41c.39.39.9.59 1.41.59.51 0 1.02-.2 1.41-.59l7.78-7.78 2.81-2.81c.8-.78.8-2.07 0-2.86zM5.41 20L4 18.59l7.72-7.72 1.47 1.35L5.41 20z\"/>\n",
              "  </svg>\n",
              "      </button>\n",
              "      \n",
              "  <style>\n",
              "    .colab-df-container {\n",
              "      display:flex;\n",
              "      flex-wrap:wrap;\n",
              "      gap: 12px;\n",
              "    }\n",
              "\n",
              "    .colab-df-convert {\n",
              "      background-color: #E8F0FE;\n",
              "      border: none;\n",
              "      border-radius: 50%;\n",
              "      cursor: pointer;\n",
              "      display: none;\n",
              "      fill: #1967D2;\n",
              "      height: 32px;\n",
              "      padding: 0 0 0 0;\n",
              "      width: 32px;\n",
              "    }\n",
              "\n",
              "    .colab-df-convert:hover {\n",
              "      background-color: #E2EBFA;\n",
              "      box-shadow: 0px 1px 2px rgba(60, 64, 67, 0.3), 0px 1px 3px 1px rgba(60, 64, 67, 0.15);\n",
              "      fill: #174EA6;\n",
              "    }\n",
              "\n",
              "    [theme=dark] .colab-df-convert {\n",
              "      background-color: #3B4455;\n",
              "      fill: #D2E3FC;\n",
              "    }\n",
              "\n",
              "    [theme=dark] .colab-df-convert:hover {\n",
              "      background-color: #434B5C;\n",
              "      box-shadow: 0px 1px 3px 1px rgba(0, 0, 0, 0.15);\n",
              "      filter: drop-shadow(0px 1px 2px rgba(0, 0, 0, 0.3));\n",
              "      fill: #FFFFFF;\n",
              "    }\n",
              "  </style>\n",
              "\n",
              "      <script>\n",
              "        const buttonEl =\n",
              "          document.querySelector('#df-3b9e3313-04b6-4b2f-9d8c-7ab6485359fa button.colab-df-convert');\n",
              "        buttonEl.style.display =\n",
              "          google.colab.kernel.accessAllowed ? 'block' : 'none';\n",
              "\n",
              "        async function convertToInteractive(key) {\n",
              "          const element = document.querySelector('#df-3b9e3313-04b6-4b2f-9d8c-7ab6485359fa');\n",
              "          const dataTable =\n",
              "            await google.colab.kernel.invokeFunction('convertToInteractive',\n",
              "                                                     [key], {});\n",
              "          if (!dataTable) return;\n",
              "\n",
              "          const docLinkHtml = 'Like what you see? Visit the ' +\n",
              "            '<a target=\"_blank\" href=https://colab.research.google.com/notebooks/data_table.ipynb>data table notebook</a>'\n",
              "            + ' to learn more about interactive tables.';\n",
              "          element.innerHTML = '';\n",
              "          dataTable['output_type'] = 'display_data';\n",
              "          await google.colab.output.renderOutput(dataTable, element);\n",
              "          const docLink = document.createElement('div');\n",
              "          docLink.innerHTML = docLinkHtml;\n",
              "          element.appendChild(docLink);\n",
              "        }\n",
              "      </script>\n",
              "    </div>\n",
              "  </div>\n",
              "  "
            ]
          },
          "metadata": {},
          "execution_count": 3
        }
      ]
    },
    {
      "cell_type": "code",
      "source": [
        "print('No of Rows in the given dtaset:',df.shape[0])\n",
        "print('No of Columns in the given dataset:',df.shape[1])"
      ],
      "metadata": {
        "colab": {
          "base_uri": "https://localhost:8080/"
        },
        "id": "41Mc3Lm9o7Gx",
        "outputId": "48af8209-45c9-4280-ea23-6d3d97c0dcdf"
      },
      "execution_count": null,
      "outputs": [
        {
          "output_type": "stream",
          "name": "stdout",
          "text": [
            "No of Rows in the given dtaset: 907\n",
            "No of Columns in the given dataset: 27\n"
          ]
        }
      ]
    },
    {
      "cell_type": "code",
      "source": [
        "df.isnull().sum()"
      ],
      "metadata": {
        "colab": {
          "base_uri": "https://localhost:8080/"
        },
        "id": "a8YwgTm8pMDI",
        "outputId": "3bf26166-e805-4dd4-cf4c-dbabc13977a6"
      },
      "execution_count": null,
      "outputs": [
        {
          "output_type": "execute_result",
          "data": {
            "text/plain": [
              "country                       0\n",
              "country_long                  0\n",
              "name                          0\n",
              "gppd_idnr                     0\n",
              "capacity_mw                   0\n",
              "latitude                     46\n",
              "longitude                    46\n",
              "primary_fuel                  0\n",
              "other_fuel1                 709\n",
              "other_fuel2                 906\n",
              "other_fuel3                 907\n",
              "commissioning_year          380\n",
              "owner                       565\n",
              "source                        0\n",
              "url                           0\n",
              "geolocation_source           19\n",
              "wepp_id                     907\n",
              "year_of_capacity_data       388\n",
              "generation_gwh_2013         907\n",
              "generation_gwh_2014         509\n",
              "generation_gwh_2015         485\n",
              "generation_gwh_2016         473\n",
              "generation_gwh_2017         467\n",
              "generation_gwh_2018         459\n",
              "generation_gwh_2019         907\n",
              "generation_data_source      458\n",
              "estimated_generation_gwh    907\n",
              "dtype: int64"
            ]
          },
          "metadata": {},
          "execution_count": 5
        }
      ]
    },
    {
      "cell_type": "markdown",
      "source": [
        "**We observe lot of missing data in various columns**\n",
        "\n",
        "* Various **non-relevant columns** in the dataset as it does not contribute in predicting our target variable:\n",
        "\n",
        "  * **country** - non relevant info\n",
        "\n",
        "  * **country_long** - non relevant info\n",
        "\n",
        "  * **gppd_idnr** -non relevant info\n",
        "\n",
        "  * **url**- non relevant info\n",
        "\n",
        "* Various **empty columns** in the given database:\n",
        "\n",
        "  * **other_fuel2** - out of 907 observations, 906 are empty or missing\n",
        "\n",
        "  * **other_fuel3** - empty column\n",
        "\n",
        "  * **wepp_id** - empty column\n",
        "\n",
        "  * **generation_gwh_2013** - empty column\n",
        "\n",
        "  * **generation_gwh_2019** - empty column\n",
        "\n",
        "  * **estimated_generation_gwh** - empty column\n",
        "\n",
        "* **owner** has more than 60% null values\n",
        "\n",
        "**Hence it is better to drop all these columns**\n"
      ],
      "metadata": {
        "id": "zOu5grj0pP7v"
      }
    },
    {
      "cell_type": "code",
      "source": [
        "df['year_of_capacity_data'].unique()"
      ],
      "metadata": {
        "colab": {
          "base_uri": "https://localhost:8080/"
        },
        "id": "WUvsQXYZqfpG",
        "outputId": "56a0113c-05b0-4bca-c7f0-96ceda705f9c"
      },
      "execution_count": null,
      "outputs": [
        {
          "output_type": "execute_result",
          "data": {
            "text/plain": [
              "array([  nan, 2019.])"
            ]
          },
          "metadata": {},
          "execution_count": 6
        }
      ]
    },
    {
      "cell_type": "markdown",
      "source": [
        "**year_of_capacity_data**- **388 Missing values** but it has single unique value i.e 2019 so it will not affect our target prediction and hence can be dropped"
      ],
      "metadata": {
        "id": "kmumAOYVqiQ1"
      }
    },
    {
      "cell_type": "code",
      "source": [
        "df.columns"
      ],
      "metadata": {
        "colab": {
          "base_uri": "https://localhost:8080/"
        },
        "id": "LS4EXxd-3RLc",
        "outputId": "bde2928b-e07a-4d7a-a685-55e8d84fa44e"
      },
      "execution_count": null,
      "outputs": [
        {
          "output_type": "execute_result",
          "data": {
            "text/plain": [
              "Index(['country', 'country_long', 'name', 'gppd_idnr', 'capacity_mw',\n",
              "       'latitude', 'longitude', 'primary_fuel', 'other_fuel1', 'other_fuel2',\n",
              "       'other_fuel3', 'commissioning_year', 'owner', 'source', 'url',\n",
              "       'geolocation_source', 'wepp_id', 'year_of_capacity_data',\n",
              "       'generation_gwh_2013', 'generation_gwh_2014', 'generation_gwh_2015',\n",
              "       'generation_gwh_2016', 'generation_gwh_2017', 'generation_gwh_2018',\n",
              "       'generation_gwh_2019', 'generation_data_source',\n",
              "       'estimated_generation_gwh'],\n",
              "      dtype='object')"
            ]
          },
          "metadata": {},
          "execution_count": 7
        }
      ]
    },
    {
      "cell_type": "code",
      "source": [
        "df.drop(columns=['country', 'country_long', 'gppd_idnr', 'other_fuel2',\n",
        "       'other_fuel3','owner', 'url', 'wepp_id', 'year_of_capacity_data',\n",
        "       'generation_gwh_2013','generation_gwh_2019', 'estimated_generation_gwh'],\n",
        "        axis=1,inplace=True)"
      ],
      "metadata": {
        "id": "3fqhemXT1oEC"
      },
      "execution_count": 7,
      "outputs": []
    },
    {
      "cell_type": "code",
      "source": [
        "df.head()"
      ],
      "metadata": {
        "colab": {
          "base_uri": "https://localhost:8080/",
          "height": 461
        },
        "id": "0IqJ-WKT4Gx3",
        "outputId": "34919295-0934-4352-e56a-71179e858a56"
      },
      "execution_count": null,
      "outputs": [
        {
          "output_type": "execute_result",
          "data": {
            "text/plain": [
              "                       name  capacity_mw  latitude  longitude primary_fuel  \\\n",
              "0          ACME Solar Tower          2.5   28.1839    73.2407        Solar   \n",
              "1       ADITYA CEMENT WORKS         98.0   24.7663    74.6090         Coal   \n",
              "2  AES Saurashtra Windfarms         39.2   21.9038    69.3732         Wind   \n",
              "3               AGARTALA GT        135.0   23.8712    91.3602          Gas   \n",
              "4              AKALTARA TPP       1800.0   21.9603    82.4091         Coal   \n",
              "\n",
              "  other_fuel1  commissioning_year                                source  \\\n",
              "0         NaN              2011.0  National Renewable Energy Laboratory   \n",
              "1         NaN                 NaN                  Ultratech Cement ltd   \n",
              "2         NaN                 NaN                                   CDM   \n",
              "3         NaN              2004.0         Central Electricity Authority   \n",
              "4         Oil              2015.0         Central Electricity Authority   \n",
              "\n",
              "                     geolocation_source  generation_gwh_2014  \\\n",
              "0  National Renewable Energy Laboratory                  NaN   \n",
              "1                                   WRI                  NaN   \n",
              "2                                   WRI                  NaN   \n",
              "3                                   WRI           617.789264   \n",
              "4                                   WRI          3035.550000   \n",
              "\n",
              "   generation_gwh_2015  generation_gwh_2016  generation_gwh_2017  \\\n",
              "0                  NaN                  NaN                  NaN   \n",
              "1                  NaN                  NaN                  NaN   \n",
              "2                  NaN                  NaN                  NaN   \n",
              "3              843.747           886.004428           663.774500   \n",
              "4             5916.370          6243.000000          5385.579736   \n",
              "\n",
              "   generation_gwh_2018         generation_data_source  \n",
              "0                  NaN                            NaN  \n",
              "1                  NaN                            NaN  \n",
              "2                  NaN                            NaN  \n",
              "3           626.239128  Central Electricity Authority  \n",
              "4          7279.000000  Central Electricity Authority  "
            ],
            "text/html": [
              "\n",
              "  <div id=\"df-0a061e67-9d0d-4f16-81e6-6739378a1dc0\">\n",
              "    <div class=\"colab-df-container\">\n",
              "      <div>\n",
              "<style scoped>\n",
              "    .dataframe tbody tr th:only-of-type {\n",
              "        vertical-align: middle;\n",
              "    }\n",
              "\n",
              "    .dataframe tbody tr th {\n",
              "        vertical-align: top;\n",
              "    }\n",
              "\n",
              "    .dataframe thead th {\n",
              "        text-align: right;\n",
              "    }\n",
              "</style>\n",
              "<table border=\"1\" class=\"dataframe\">\n",
              "  <thead>\n",
              "    <tr style=\"text-align: right;\">\n",
              "      <th></th>\n",
              "      <th>name</th>\n",
              "      <th>capacity_mw</th>\n",
              "      <th>latitude</th>\n",
              "      <th>longitude</th>\n",
              "      <th>primary_fuel</th>\n",
              "      <th>other_fuel1</th>\n",
              "      <th>commissioning_year</th>\n",
              "      <th>source</th>\n",
              "      <th>geolocation_source</th>\n",
              "      <th>generation_gwh_2014</th>\n",
              "      <th>generation_gwh_2015</th>\n",
              "      <th>generation_gwh_2016</th>\n",
              "      <th>generation_gwh_2017</th>\n",
              "      <th>generation_gwh_2018</th>\n",
              "      <th>generation_data_source</th>\n",
              "    </tr>\n",
              "  </thead>\n",
              "  <tbody>\n",
              "    <tr>\n",
              "      <th>0</th>\n",
              "      <td>ACME Solar Tower</td>\n",
              "      <td>2.5</td>\n",
              "      <td>28.1839</td>\n",
              "      <td>73.2407</td>\n",
              "      <td>Solar</td>\n",
              "      <td>NaN</td>\n",
              "      <td>2011.0</td>\n",
              "      <td>National Renewable Energy Laboratory</td>\n",
              "      <td>National Renewable Energy Laboratory</td>\n",
              "      <td>NaN</td>\n",
              "      <td>NaN</td>\n",
              "      <td>NaN</td>\n",
              "      <td>NaN</td>\n",
              "      <td>NaN</td>\n",
              "      <td>NaN</td>\n",
              "    </tr>\n",
              "    <tr>\n",
              "      <th>1</th>\n",
              "      <td>ADITYA CEMENT WORKS</td>\n",
              "      <td>98.0</td>\n",
              "      <td>24.7663</td>\n",
              "      <td>74.6090</td>\n",
              "      <td>Coal</td>\n",
              "      <td>NaN</td>\n",
              "      <td>NaN</td>\n",
              "      <td>Ultratech Cement ltd</td>\n",
              "      <td>WRI</td>\n",
              "      <td>NaN</td>\n",
              "      <td>NaN</td>\n",
              "      <td>NaN</td>\n",
              "      <td>NaN</td>\n",
              "      <td>NaN</td>\n",
              "      <td>NaN</td>\n",
              "    </tr>\n",
              "    <tr>\n",
              "      <th>2</th>\n",
              "      <td>AES Saurashtra Windfarms</td>\n",
              "      <td>39.2</td>\n",
              "      <td>21.9038</td>\n",
              "      <td>69.3732</td>\n",
              "      <td>Wind</td>\n",
              "      <td>NaN</td>\n",
              "      <td>NaN</td>\n",
              "      <td>CDM</td>\n",
              "      <td>WRI</td>\n",
              "      <td>NaN</td>\n",
              "      <td>NaN</td>\n",
              "      <td>NaN</td>\n",
              "      <td>NaN</td>\n",
              "      <td>NaN</td>\n",
              "      <td>NaN</td>\n",
              "    </tr>\n",
              "    <tr>\n",
              "      <th>3</th>\n",
              "      <td>AGARTALA GT</td>\n",
              "      <td>135.0</td>\n",
              "      <td>23.8712</td>\n",
              "      <td>91.3602</td>\n",
              "      <td>Gas</td>\n",
              "      <td>NaN</td>\n",
              "      <td>2004.0</td>\n",
              "      <td>Central Electricity Authority</td>\n",
              "      <td>WRI</td>\n",
              "      <td>617.789264</td>\n",
              "      <td>843.747</td>\n",
              "      <td>886.004428</td>\n",
              "      <td>663.774500</td>\n",
              "      <td>626.239128</td>\n",
              "      <td>Central Electricity Authority</td>\n",
              "    </tr>\n",
              "    <tr>\n",
              "      <th>4</th>\n",
              "      <td>AKALTARA TPP</td>\n",
              "      <td>1800.0</td>\n",
              "      <td>21.9603</td>\n",
              "      <td>82.4091</td>\n",
              "      <td>Coal</td>\n",
              "      <td>Oil</td>\n",
              "      <td>2015.0</td>\n",
              "      <td>Central Electricity Authority</td>\n",
              "      <td>WRI</td>\n",
              "      <td>3035.550000</td>\n",
              "      <td>5916.370</td>\n",
              "      <td>6243.000000</td>\n",
              "      <td>5385.579736</td>\n",
              "      <td>7279.000000</td>\n",
              "      <td>Central Electricity Authority</td>\n",
              "    </tr>\n",
              "  </tbody>\n",
              "</table>\n",
              "</div>\n",
              "      <button class=\"colab-df-convert\" onclick=\"convertToInteractive('df-0a061e67-9d0d-4f16-81e6-6739378a1dc0')\"\n",
              "              title=\"Convert this dataframe to an interactive table.\"\n",
              "              style=\"display:none;\">\n",
              "        \n",
              "  <svg xmlns=\"http://www.w3.org/2000/svg\" height=\"24px\"viewBox=\"0 0 24 24\"\n",
              "       width=\"24px\">\n",
              "    <path d=\"M0 0h24v24H0V0z\" fill=\"none\"/>\n",
              "    <path d=\"M18.56 5.44l.94 2.06.94-2.06 2.06-.94-2.06-.94-.94-2.06-.94 2.06-2.06.94zm-11 1L8.5 8.5l.94-2.06 2.06-.94-2.06-.94L8.5 2.5l-.94 2.06-2.06.94zm10 10l.94 2.06.94-2.06 2.06-.94-2.06-.94-.94-2.06-.94 2.06-2.06.94z\"/><path d=\"M17.41 7.96l-1.37-1.37c-.4-.4-.92-.59-1.43-.59-.52 0-1.04.2-1.43.59L10.3 9.45l-7.72 7.72c-.78.78-.78 2.05 0 2.83L4 21.41c.39.39.9.59 1.41.59.51 0 1.02-.2 1.41-.59l7.78-7.78 2.81-2.81c.8-.78.8-2.07 0-2.86zM5.41 20L4 18.59l7.72-7.72 1.47 1.35L5.41 20z\"/>\n",
              "  </svg>\n",
              "      </button>\n",
              "      \n",
              "  <style>\n",
              "    .colab-df-container {\n",
              "      display:flex;\n",
              "      flex-wrap:wrap;\n",
              "      gap: 12px;\n",
              "    }\n",
              "\n",
              "    .colab-df-convert {\n",
              "      background-color: #E8F0FE;\n",
              "      border: none;\n",
              "      border-radius: 50%;\n",
              "      cursor: pointer;\n",
              "      display: none;\n",
              "      fill: #1967D2;\n",
              "      height: 32px;\n",
              "      padding: 0 0 0 0;\n",
              "      width: 32px;\n",
              "    }\n",
              "\n",
              "    .colab-df-convert:hover {\n",
              "      background-color: #E2EBFA;\n",
              "      box-shadow: 0px 1px 2px rgba(60, 64, 67, 0.3), 0px 1px 3px 1px rgba(60, 64, 67, 0.15);\n",
              "      fill: #174EA6;\n",
              "    }\n",
              "\n",
              "    [theme=dark] .colab-df-convert {\n",
              "      background-color: #3B4455;\n",
              "      fill: #D2E3FC;\n",
              "    }\n",
              "\n",
              "    [theme=dark] .colab-df-convert:hover {\n",
              "      background-color: #434B5C;\n",
              "      box-shadow: 0px 1px 3px 1px rgba(0, 0, 0, 0.15);\n",
              "      filter: drop-shadow(0px 1px 2px rgba(0, 0, 0, 0.3));\n",
              "      fill: #FFFFFF;\n",
              "    }\n",
              "  </style>\n",
              "\n",
              "      <script>\n",
              "        const buttonEl =\n",
              "          document.querySelector('#df-0a061e67-9d0d-4f16-81e6-6739378a1dc0 button.colab-df-convert');\n",
              "        buttonEl.style.display =\n",
              "          google.colab.kernel.accessAllowed ? 'block' : 'none';\n",
              "\n",
              "        async function convertToInteractive(key) {\n",
              "          const element = document.querySelector('#df-0a061e67-9d0d-4f16-81e6-6739378a1dc0');\n",
              "          const dataTable =\n",
              "            await google.colab.kernel.invokeFunction('convertToInteractive',\n",
              "                                                     [key], {});\n",
              "          if (!dataTable) return;\n",
              "\n",
              "          const docLinkHtml = 'Like what you see? Visit the ' +\n",
              "            '<a target=\"_blank\" href=https://colab.research.google.com/notebooks/data_table.ipynb>data table notebook</a>'\n",
              "            + ' to learn more about interactive tables.';\n",
              "          element.innerHTML = '';\n",
              "          dataTable['output_type'] = 'display_data';\n",
              "          await google.colab.output.renderOutput(dataTable, element);\n",
              "          const docLink = document.createElement('div');\n",
              "          docLink.innerHTML = docLinkHtml;\n",
              "          element.appendChild(docLink);\n",
              "        }\n",
              "      </script>\n",
              "    </div>\n",
              "  </div>\n",
              "  "
            ]
          },
          "metadata": {},
          "execution_count": 9
        }
      ]
    },
    {
      "cell_type": "code",
      "source": [
        "#Checking null value after dropping these columns\n",
        "df.isnull().sum()\n"
      ],
      "metadata": {
        "colab": {
          "base_uri": "https://localhost:8080/"
        },
        "id": "oOlnFeh54lJT",
        "outputId": "8cbfac3a-827c-4300-fa06-1bfeeecf6ebb"
      },
      "execution_count": null,
      "outputs": [
        {
          "output_type": "execute_result",
          "data": {
            "text/plain": [
              "name                        0\n",
              "capacity_mw                 0\n",
              "latitude                   46\n",
              "longitude                  46\n",
              "primary_fuel                0\n",
              "other_fuel1               709\n",
              "commissioning_year        380\n",
              "source                      0\n",
              "geolocation_source         19\n",
              "generation_gwh_2014       509\n",
              "generation_gwh_2015       485\n",
              "generation_gwh_2016       473\n",
              "generation_gwh_2017       467\n",
              "generation_gwh_2018       459\n",
              "generation_data_source    458\n",
              "dtype: int64"
            ]
          },
          "metadata": {},
          "execution_count": 6
        }
      ]
    },
    {
      "cell_type": "markdown",
      "source": [
        "* **latitude and longitude** has 46 missing values each, we can fill these values using mean or median or mode, if there are no outliers present in the column,fill it by mean and if there are outliers, fill it by median as mean are more sensitive to outliers\n",
        "\n",
        "* **other_fuel1** has 709 missing values out of total 907 observations, almost 80% data is missing for **other_fuel1**. We will drop this column after performing data analysis,some info might be useful in the data analysis.\n",
        "\n",
        "* **commissioning_year** has 380 missing values, but it can't be dropped as it will be useful in finding the **power plant age** and hence need to keep this column and lets see further how can we treat the missing values of it\n",
        "\n",
        "* **geolocation_source** has 19 missing values and can be imputed using mode value of the column.\n",
        "\n",
        "* **generation_gwh** for the year 2014 to 2018 has more than 50% missing values and will see after analysis and correlation, how to handle these"
      ],
      "metadata": {
        "id": "htEvPTL1XBG2"
      }
    },
    {
      "cell_type": "code",
      "source": [
        "import seaborn as sns\n",
        "import matplotlib.pyplot as plt\n",
        "%matplotlib inline\n",
        "import warnings\n",
        "warnings.filterwarnings('ignore')\n",
        "from collections import Counter\n",
        "import plotly.graph_objs as go\n",
        "import plotly.offline as py"
      ],
      "metadata": {
        "id": "akNZyEUMipnm"
      },
      "execution_count": 8,
      "outputs": []
    },
    {
      "cell_type": "code",
      "source": [
        "# Checking outliers in latitude and longitude\n",
        "\n",
        "plt.figure(figsize=(10,6))\n",
        "plt.subplot(1,2,1)\n",
        "sns.boxplot( y='latitude', data=df,color='blue')\n",
        "plt.ylabel('latitude',fontsize=12)\n",
        "plt.subplot(1,2,2)\n",
        "sns.boxplot(x='longitude',data=df, color='green')\n",
        "plt.xlabel('longitude',fontsize=12)\n",
        "plt.tight_layout()\n",
        "plt.show()"
      ],
      "metadata": {
        "colab": {
          "base_uri": "https://localhost:8080/",
          "height": 441
        },
        "id": "-0tL8CRkgbAt",
        "outputId": "c8c623e9-9e68-44ad-9efb-f8575214bd22"
      },
      "execution_count": null,
      "outputs": [
        {
          "output_type": "display_data",
          "data": {
            "text/plain": [
              "<Figure size 720x432 with 2 Axes>"
            ],
            "image/png": "[encoded data removed]"
          },
          "metadata": {
            "needs_background": "light"
          }
        }
      ]
    },
    {
      "cell_type": "markdown",
      "source": [
        "**No outliers in latitude hence missing values will be filled by mean and for longitude by median**"
      ],
      "metadata": {
        "id": "2dLObC7YjeXw"
      }
    },
    {
      "cell_type": "code",
      "source": [
        "df['latitude'] = df['latitude'].fillna(df['latitude'].mean())\n",
        "\n",
        "df['longitude'] = df['longitude'].fillna(df['longitude'].median())\n",
        "\n",
        "df['geolocation_source'] = df['geolocation_source'].fillna(df['geolocation_source'].mode()[0])"
      ],
      "metadata": {
        "id": "-sjCAx1DjzDV"
      },
      "execution_count": 9,
      "outputs": []
    },
    {
      "cell_type": "code",
      "source": [
        "df.isnull().sum()"
      ],
      "metadata": {
        "colab": {
          "base_uri": "https://localhost:8080/"
        },
        "id": "YSdfGfT4lN4J",
        "outputId": "5da66d04-df12-492e-db91-a376dc4f0512"
      },
      "execution_count": null,
      "outputs": [
        {
          "output_type": "execute_result",
          "data": {
            "text/plain": [
              "name                        0\n",
              "capacity_mw                 0\n",
              "latitude                    0\n",
              "longitude                   0\n",
              "primary_fuel                0\n",
              "other_fuel1               709\n",
              "commissioning_year        380\n",
              "source                      0\n",
              "geolocation_source          0\n",
              "generation_gwh_2014       509\n",
              "generation_gwh_2015       485\n",
              "generation_gwh_2016       473\n",
              "generation_gwh_2017       467\n",
              "generation_gwh_2018       459\n",
              "generation_data_source    458\n",
              "dtype: int64"
            ]
          },
          "metadata": {},
          "execution_count": 10
        }
      ]
    },
    {
      "cell_type": "code",
      "source": [
        "df.describe().T"
      ],
      "metadata": {
        "colab": {
          "base_uri": "https://localhost:8080/",
          "height": 332
        },
        "id": "9pdswcVul5Ub",
        "outputId": "4dda8b61-2b83-4da7-c9f5-96f1a809dda9"
      },
      "execution_count": null,
      "outputs": [
        {
          "output_type": "execute_result",
          "data": {
            "text/plain": [
              "                     count         mean          std        min          25%  \\\n",
              "capacity_mw          907.0   326.223755   590.085456     0.0000    16.725000   \n",
              "latitude             907.0    21.197918     6.079148     8.1689    17.072000   \n",
              "longitude            907.0    77.427103     4.815073    68.6447    74.388900   \n",
              "commissioning_year   527.0  1997.091082    17.082868  1927.0000  1988.000000   \n",
              "generation_gwh_2014  398.0  2431.823590  4026.440035     0.0000   223.557672   \n",
              "generation_gwh_2015  422.0  2428.226946  4194.596959     0.0000   176.381063   \n",
              "generation_gwh_2016  434.0  2467.936859  4162.884308     0.0000   188.285252   \n",
              "generation_gwh_2017  440.0  2547.759305  4196.991169     0.0000   177.874930   \n",
              "generation_gwh_2018  448.0  2600.804099  4314.880456     0.0000   193.378250   \n",
              "\n",
              "                             50%          75%        max  \n",
              "capacity_mw            59.200000   385.250000   4760.000  \n",
              "latitude               21.281800    25.176450     34.649  \n",
              "longitude              76.719500    79.206100     95.408  \n",
              "commissioning_year   2001.000000  2012.000000   2018.000  \n",
              "generation_gwh_2014   801.123775  3035.306250  28127.000  \n",
              "generation_gwh_2015   711.181225  3084.121250  30539.000  \n",
              "generation_gwh_2016   737.205450  3282.861313  30015.000  \n",
              "generation_gwh_2017   817.977250  3275.690475  35116.000  \n",
              "generation_gwh_2018   751.644375  3143.535900  35136.000  "
            ],
            "text/html": [
              "\n",
              "  <div id=\"df-1b9a1127-9f59-4b11-9796-84fec50a67d0\">\n",
              "    <div class=\"colab-df-container\">\n",
              "      <div>\n",
              "<style scoped>\n",
              "    .dataframe tbody tr th:only-of-type {\n",
              "        vertical-align: middle;\n",
              "    }\n",
              "\n",
              "    .dataframe tbody tr th {\n",
              "        vertical-align: top;\n",
              "    }\n",
              "\n",
              "    .dataframe thead th {\n",
              "        text-align: right;\n",
              "    }\n",
              "</style>\n",
              "<table border=\"1\" class=\"dataframe\">\n",
              "  <thead>\n",
              "    <tr style=\"text-align: right;\">\n",
              "      <th></th>\n",
              "      <th>count</th>\n",
              "      <th>mean</th>\n",
              "      <th>std</th>\n",
              "      <th>min</th>\n",
              "      <th>25%</th>\n",
              "      <th>50%</th>\n",
              "      <th>75%</th>\n",
              "      <th>max</th>\n",
              "    </tr>\n",
              "  </thead>\n",
              "  <tbody>\n",
              "    <tr>\n",
              "      <th>capacity_mw</th>\n",
              "      <td>907.0</td>\n",
              "      <td>326.223755</td>\n",
              "      <td>590.085456</td>\n",
              "      <td>0.0000</td>\n",
              "      <td>16.725000</td>\n",
              "      <td>59.200000</td>\n",
              "      <td>385.250000</td>\n",
              "      <td>4760.000</td>\n",
              "    </tr>\n",
              "    <tr>\n",
              "      <th>latitude</th>\n",
              "      <td>907.0</td>\n",
              "      <td>21.197918</td>\n",
              "      <td>6.079148</td>\n",
              "      <td>8.1689</td>\n",
              "      <td>17.072000</td>\n",
              "      <td>21.281800</td>\n",
              "      <td>25.176450</td>\n",
              "      <td>34.649</td>\n",
              "    </tr>\n",
              "    <tr>\n",
              "      <th>longitude</th>\n",
              "      <td>907.0</td>\n",
              "      <td>77.427103</td>\n",
              "      <td>4.815073</td>\n",
              "      <td>68.6447</td>\n",
              "      <td>74.388900</td>\n",
              "      <td>76.719500</td>\n",
              "      <td>79.206100</td>\n",
              "      <td>95.408</td>\n",
              "    </tr>\n",
              "    <tr>\n",
              "      <th>commissioning_year</th>\n",
              "      <td>527.0</td>\n",
              "      <td>1997.091082</td>\n",
              "      <td>17.082868</td>\n",
              "      <td>1927.0000</td>\n",
              "      <td>1988.000000</td>\n",
              "      <td>2001.000000</td>\n",
              "      <td>2012.000000</td>\n",
              "      <td>2018.000</td>\n",
              "    </tr>\n",
              "    <tr>\n",
              "      <th>generation_gwh_2014</th>\n",
              "      <td>398.0</td>\n",
              "      <td>2431.823590</td>\n",
              "      <td>4026.440035</td>\n",
              "      <td>0.0000</td>\n",
              "      <td>223.557672</td>\n",
              "      <td>801.123775</td>\n",
              "      <td>3035.306250</td>\n",
              "      <td>28127.000</td>\n",
              "    </tr>\n",
              "    <tr>\n",
              "      <th>generation_gwh_2015</th>\n",
              "      <td>422.0</td>\n",
              "      <td>2428.226946</td>\n",
              "      <td>4194.596959</td>\n",
              "      <td>0.0000</td>\n",
              "      <td>176.381063</td>\n",
              "      <td>711.181225</td>\n",
              "      <td>3084.121250</td>\n",
              "      <td>30539.000</td>\n",
              "    </tr>\n",
              "    <tr>\n",
              "      <th>generation_gwh_2016</th>\n",
              "      <td>434.0</td>\n",
              "      <td>2467.936859</td>\n",
              "      <td>4162.884308</td>\n",
              "      <td>0.0000</td>\n",
              "      <td>188.285252</td>\n",
              "      <td>737.205450</td>\n",
              "      <td>3282.861313</td>\n",
              "      <td>30015.000</td>\n",
              "    </tr>\n",
              "    <tr>\n",
              "      <th>generation_gwh_2017</th>\n",
              "      <td>440.0</td>\n",
              "      <td>2547.759305</td>\n",
              "      <td>4196.991169</td>\n",
              "      <td>0.0000</td>\n",
              "      <td>177.874930</td>\n",
              "      <td>817.977250</td>\n",
              "      <td>3275.690475</td>\n",
              "      <td>35116.000</td>\n",
              "    </tr>\n",
              "    <tr>\n",
              "      <th>generation_gwh_2018</th>\n",
              "      <td>448.0</td>\n",
              "      <td>2600.804099</td>\n",
              "      <td>4314.880456</td>\n",
              "      <td>0.0000</td>\n",
              "      <td>193.378250</td>\n",
              "      <td>751.644375</td>\n",
              "      <td>3143.535900</td>\n",
              "      <td>35136.000</td>\n",
              "    </tr>\n",
              "  </tbody>\n",
              "</table>\n",
              "</div>\n",
              "      <button class=\"colab-df-convert\" onclick=\"convertToInteractive('df-1b9a1127-9f59-4b11-9796-84fec50a67d0')\"\n",
              "              title=\"Convert this dataframe to an interactive table.\"\n",
              "              style=\"display:none;\">\n",
              "        \n",
              "  <svg xmlns=\"http://www.w3.org/2000/svg\" height=\"24px\"viewBox=\"0 0 24 24\"\n",
              "       width=\"24px\">\n",
              "    <path d=\"M0 0h24v24H0V0z\" fill=\"none\"/>\n",
              "    <path d=\"M18.56 5.44l.94 2.06.94-2.06 2.06-.94-2.06-.94-.94-2.06-.94 2.06-2.06.94zm-11 1L8.5 8.5l.94-2.06 2.06-.94-2.06-.94L8.5 2.5l-.94 2.06-2.06.94zm10 10l.94 2.06.94-2.06 2.06-.94-2.06-.94-.94-2.06-.94 2.06-2.06.94z\"/><path d=\"M17.41 7.96l-1.37-1.37c-.4-.4-.92-.59-1.43-.59-.52 0-1.04.2-1.43.59L10.3 9.45l-7.72 7.72c-.78.78-.78 2.05 0 2.83L4 21.41c.39.39.9.59 1.41.59.51 0 1.02-.2 1.41-.59l7.78-7.78 2.81-2.81c.8-.78.8-2.07 0-2.86zM5.41 20L4 18.59l7.72-7.72 1.47 1.35L5.41 20z\"/>\n",
              "  </svg>\n",
              "      </button>\n",
              "      \n",
              "  <style>\n",
              "    .colab-df-container {\n",
              "      display:flex;\n",
              "      flex-wrap:wrap;\n",
              "      gap: 12px;\n",
              "    }\n",
              "\n",
              "    .colab-df-convert {\n",
              "      background-color: #E8F0FE;\n",
              "      border: none;\n",
              "      border-radius: 50%;\n",
              "      cursor: pointer;\n",
              "      display: none;\n",
              "      fill: #1967D2;\n",
              "      height: 32px;\n",
              "      padding: 0 0 0 0;\n",
              "      width: 32px;\n",
              "    }\n",
              "\n",
              "    .colab-df-convert:hover {\n",
              "      background-color: #E2EBFA;\n",
              "      box-shadow: 0px 1px 2px rgba(60, 64, 67, 0.3), 0px 1px 3px 1px rgba(60, 64, 67, 0.15);\n",
              "      fill: #174EA6;\n",
              "    }\n",
              "\n",
              "    [theme=dark] .colab-df-convert {\n",
              "      background-color: #3B4455;\n",
              "      fill: #D2E3FC;\n",
              "    }\n",
              "\n",
              "    [theme=dark] .colab-df-convert:hover {\n",
              "      background-color: #434B5C;\n",
              "      box-shadow: 0px 1px 3px 1px rgba(0, 0, 0, 0.15);\n",
              "      filter: drop-shadow(0px 1px 2px rgba(0, 0, 0, 0.3));\n",
              "      fill: #FFFFFF;\n",
              "    }\n",
              "  </style>\n",
              "\n",
              "      <script>\n",
              "        const buttonEl =\n",
              "          document.querySelector('#df-1b9a1127-9f59-4b11-9796-84fec50a67d0 button.colab-df-convert');\n",
              "        buttonEl.style.display =\n",
              "          google.colab.kernel.accessAllowed ? 'block' : 'none';\n",
              "\n",
              "        async function convertToInteractive(key) {\n",
              "          const element = document.querySelector('#df-1b9a1127-9f59-4b11-9796-84fec50a67d0');\n",
              "          const dataTable =\n",
              "            await google.colab.kernel.invokeFunction('convertToInteractive',\n",
              "                                                     [key], {});\n",
              "          if (!dataTable) return;\n",
              "\n",
              "          const docLinkHtml = 'Like what you see? Visit the ' +\n",
              "            '<a target=\"_blank\" href=https://colab.research.google.com/notebooks/data_table.ipynb>data table notebook</a>'\n",
              "            + ' to learn more about interactive tables.';\n",
              "          element.innerHTML = '';\n",
              "          dataTable['output_type'] = 'display_data';\n",
              "          await google.colab.output.renderOutput(dataTable, element);\n",
              "          const docLink = document.createElement('div');\n",
              "          docLink.innerHTML = docLinkHtml;\n",
              "          element.appendChild(docLink);\n",
              "        }\n",
              "      </script>\n",
              "    </div>\n",
              "  </div>\n",
              "  "
            ]
          },
          "metadata": {},
          "execution_count": 9
        }
      ]
    },
    {
      "cell_type": "markdown",
      "source": [
        "* **Median of capacity_mw is 59 MW** which means there are various small power plants in the database and **Maximum capacity is 4760 MW** which means we have biggest power plant of 4760 MW capacity in the given database\n",
        "\n",
        "* As far as **commissioning_year** is concerned, oldest power plant is over 90 years old having commissioned on 1927 and some new power plant has commissioned in recent times**i.e** 2018\n",
        "\n",
        "* The maximum **generation capacity** has increased from 28k gwh to 35gwh that means some large power plants has been commissioned in the recent times"
      ],
      "metadata": {
        "id": "OtX4Nj6im8XV"
      }
    },
    {
      "cell_type": "markdown",
      "source": [
        "**Data Analysis**"
      ],
      "metadata": {
        "id": "x_cnEZw9qBtn"
      }
    },
    {
      "cell_type": "code",
      "source": [
        "df.dtypes"
      ],
      "metadata": {
        "colab": {
          "base_uri": "https://localhost:8080/"
        },
        "id": "8K4g7qwjrKTy",
        "outputId": "4090b12f-844f-4268-a400-0083c06161c5"
      },
      "execution_count": null,
      "outputs": [
        {
          "output_type": "execute_result",
          "data": {
            "text/plain": [
              "name                       object\n",
              "capacity_mw               float64\n",
              "latitude                  float64\n",
              "longitude                 float64\n",
              "primary_fuel               object\n",
              "other_fuel1                object\n",
              "commissioning_year        float64\n",
              "source                     object\n",
              "geolocation_source         object\n",
              "generation_gwh_2014       float64\n",
              "generation_gwh_2015       float64\n",
              "generation_gwh_2016       float64\n",
              "generation_gwh_2017       float64\n",
              "generation_gwh_2018       float64\n",
              "generation_data_source     object\n",
              "dtype: object"
            ]
          },
          "metadata": {},
          "execution_count": 10
        }
      ]
    },
    {
      "cell_type": "code",
      "source": [
        "catg = ['primary_fuel','other_fuel1','geolocation_source','generation_data_source']\n",
        "for i in catg:\n",
        "    plt.figure(figsize=(10,6))\n",
        "    df[i].value_counts().plot.pie(autopct='%1.1f%%')\n",
        "    centre=plt.Circle((0,0),0.7,fc='white')\n",
        "    fig=plt.gcf()\n",
        "    fig.gca().add_artist(centre)\n",
        "    plt.xlabel(i)\n",
        "    plt.ylabel('')\n",
        "    plt.figure()"
      ],
      "metadata": {
        "colab": {
          "base_uri": "https://localhost:8080/",
          "height": 1000
        },
        "id": "IL9gZ9icmg_X",
        "outputId": "c0b3a997-47cc-4541-9d5d-8428f0c5ab27"
      },
      "execution_count": null,
      "outputs": [
        {
          "output_type": "display_data",
          "data": {
            "text/plain": [
              "<Figure size 720x432 with 1 Axes>"
            ],
            "image/png": "[encoded data removed]"
          },
          "metadata": {}
        },
        {
          "output_type": "display_data",
          "data": {
            "text/plain": [
              "<Figure size 432x288 with 0 Axes>"
            ]
          },
          "metadata": {}
        },
        {
          "output_type": "display_data",
          "data": {
            "text/plain": [
              "<Figure size 720x432 with 1 Axes>"
            ],
            "image/png": "[encoded data removed]"
          },
          "metadata": {}
        },
        {
          "output_type": "display_data",
          "data": {
            "text/plain": [
              "<Figure size 432x288 with 0 Axes>"
            ]
          },
          "metadata": {}
        },
        {
          "output_type": "display_data",
          "data": {
            "text/plain": [
              "<Figure size 720x432 with 1 Axes>"
            ],
            "image/png": "[encoded data removed]"
          },
          "metadata": {}
        },
        {
          "output_type": "display_data",
          "data": {
            "text/plain": [
              "<Figure size 432x288 with 0 Axes>"
            ]
          },
          "metadata": {}
        },
        {
          "output_type": "display_data",
          "data": {
            "text/plain": [
              "<Figure size 720x432 with 1 Axes>"
            ],
            "image/png": "[encoded data removed]"
          },
          "metadata": {}
        },
        {
          "output_type": "display_data",
          "data": {
            "text/plain": [
              "<Figure size 432x288 with 0 Axes>"
            ]
          },
          "metadata": {}
        }
      ]
    },
    {
      "cell_type": "markdown",
      "source": [
        "* Most of the power plants in India are **Thermal Power Plants** followed by **Hydro Power Plants** for the electricity generation\n",
        "\n",
        "* Country is moving towards renewable source of energy like **Solar,Wind,Biomass and Nuclear**\n",
        "\n",
        "* More than 98% of power plants use **Oil** as other fuel option. But based on the domain knowledge,alternative fuel option for various power plants:\n",
        "  * Thermal power plants - Oil and Natural gas\n",
        "  * Gas power plant - Oil\n",
        "  * For renewable based power plants, no additional fuel option needed\n",
        "\n",
        "* But proceeding ahead, it is better to drop other fuel1 column\n",
        "\n",
        "* The geolocation source of more than **86% of power plants comes from WRI**\n"
      ],
      "metadata": {
        "id": "EO8QC73Zsk3w"
      }
    },
    {
      "cell_type": "code",
      "source": [
        "df.drop(columns=['generation_data_source','other_fuel1'],axis=1,inplace=True)"
      ],
      "metadata": {
        "id": "ViQdGUcLyfyC"
      },
      "execution_count": 10,
      "outputs": []
    },
    {
      "cell_type": "code",
      "source": [
        "df.isnull().sum()"
      ],
      "metadata": {
        "colab": {
          "base_uri": "https://localhost:8080/"
        },
        "id": "yJ7XFoqGz-u8",
        "outputId": "c8e7c32c-fe89-4ff1-f0f7-55b1efc30941"
      },
      "execution_count": null,
      "outputs": [
        {
          "output_type": "execute_result",
          "data": {
            "text/plain": [
              "name                     0\n",
              "capacity_mw              0\n",
              "latitude                 0\n",
              "longitude                0\n",
              "primary_fuel             0\n",
              "commissioning_year     380\n",
              "source                   0\n",
              "geolocation_source       0\n",
              "generation_gwh_2014    509\n",
              "generation_gwh_2015    485\n",
              "generation_gwh_2016    473\n",
              "generation_gwh_2017    467\n",
              "generation_gwh_2018    459\n",
              "dtype: int64"
            ]
          },
          "metadata": {},
          "execution_count": 7
        }
      ]
    },
    {
      "cell_type": "code",
      "source": [
        "# Checking capacity of power plant based on the source of fuel\n",
        "\n",
        "df['capacity_mw'].groupby(df['primary_fuel']).agg([sum])"
      ],
      "metadata": {
        "colab": {
          "base_uri": "https://localhost:8080/",
          "height": 332
        },
        "id": "QSZZYR7O4HyL",
        "outputId": "662b9069-4f4d-49e0-9a4c-d6a17781b556"
      },
      "execution_count": null,
      "outputs": [
        {
          "output_type": "execute_result",
          "data": {
            "text/plain": [
              "                     sum\n",
              "primary_fuel            \n",
              "Biomass         1003.260\n",
              "Coal          205839.220\n",
              "Gas            25172.506\n",
              "Hydro          46441.770\n",
              "Nuclear         8780.000\n",
              "Oil             1778.840\n",
              "Solar           2757.500\n",
              "Wind            4111.850"
            ],
            "text/html": [
              "\n",
              "  <div id=\"df-1183c7a4-47ef-4574-9e7c-00ca64f2ba1c\">\n",
              "    <div class=\"colab-df-container\">\n",
              "      <div>\n",
              "<style scoped>\n",
              "    .dataframe tbody tr th:only-of-type {\n",
              "        vertical-align: middle;\n",
              "    }\n",
              "\n",
              "    .dataframe tbody tr th {\n",
              "        vertical-align: top;\n",
              "    }\n",
              "\n",
              "    .dataframe thead th {\n",
              "        text-align: right;\n",
              "    }\n",
              "</style>\n",
              "<table border=\"1\" class=\"dataframe\">\n",
              "  <thead>\n",
              "    <tr style=\"text-align: right;\">\n",
              "      <th></th>\n",
              "      <th>sum</th>\n",
              "    </tr>\n",
              "    <tr>\n",
              "      <th>primary_fuel</th>\n",
              "      <th></th>\n",
              "    </tr>\n",
              "  </thead>\n",
              "  <tbody>\n",
              "    <tr>\n",
              "      <th>Biomass</th>\n",
              "      <td>1003.260</td>\n",
              "    </tr>\n",
              "    <tr>\n",
              "      <th>Coal</th>\n",
              "      <td>205839.220</td>\n",
              "    </tr>\n",
              "    <tr>\n",
              "      <th>Gas</th>\n",
              "      <td>25172.506</td>\n",
              "    </tr>\n",
              "    <tr>\n",
              "      <th>Hydro</th>\n",
              "      <td>46441.770</td>\n",
              "    </tr>\n",
              "    <tr>\n",
              "      <th>Nuclear</th>\n",
              "      <td>8780.000</td>\n",
              "    </tr>\n",
              "    <tr>\n",
              "      <th>Oil</th>\n",
              "      <td>1778.840</td>\n",
              "    </tr>\n",
              "    <tr>\n",
              "      <th>Solar</th>\n",
              "      <td>2757.500</td>\n",
              "    </tr>\n",
              "    <tr>\n",
              "      <th>Wind</th>\n",
              "      <td>4111.850</td>\n",
              "    </tr>\n",
              "  </tbody>\n",
              "</table>\n",
              "</div>\n",
              "      <button class=\"colab-df-convert\" onclick=\"convertToInteractive('df-1183c7a4-47ef-4574-9e7c-00ca64f2ba1c')\"\n",
              "              title=\"Convert this dataframe to an interactive table.\"\n",
              "              style=\"display:none;\">\n",
              "        \n",
              "  <svg xmlns=\"http://www.w3.org/2000/svg\" height=\"24px\"viewBox=\"0 0 24 24\"\n",
              "       width=\"24px\">\n",
              "    <path d=\"M0 0h24v24H0V0z\" fill=\"none\"/>\n",
              "    <path d=\"M18.56 5.44l.94 2.06.94-2.06 2.06-.94-2.06-.94-.94-2.06-.94 2.06-2.06.94zm-11 1L8.5 8.5l.94-2.06 2.06-.94-2.06-.94L8.5 2.5l-.94 2.06-2.06.94zm10 10l.94 2.06.94-2.06 2.06-.94-2.06-.94-.94-2.06-.94 2.06-2.06.94z\"/><path d=\"M17.41 7.96l-1.37-1.37c-.4-.4-.92-.59-1.43-.59-.52 0-1.04.2-1.43.59L10.3 9.45l-7.72 7.72c-.78.78-.78 2.05 0 2.83L4 21.41c.39.39.9.59 1.41.59.51 0 1.02-.2 1.41-.59l7.78-7.78 2.81-2.81c.8-.78.8-2.07 0-2.86zM5.41 20L4 18.59l7.72-7.72 1.47 1.35L5.41 20z\"/>\n",
              "  </svg>\n",
              "      </button>\n",
              "      \n",
              "  <style>\n",
              "    .colab-df-container {\n",
              "      display:flex;\n",
              "      flex-wrap:wrap;\n",
              "      gap: 12px;\n",
              "    }\n",
              "\n",
              "    .colab-df-convert {\n",
              "      background-color: #E8F0FE;\n",
              "      border: none;\n",
              "      border-radius: 50%;\n",
              "      cursor: pointer;\n",
              "      display: none;\n",
              "      fill: #1967D2;\n",
              "      height: 32px;\n",
              "      padding: 0 0 0 0;\n",
              "      width: 32px;\n",
              "    }\n",
              "\n",
              "    .colab-df-convert:hover {\n",
              "      background-color: #E2EBFA;\n",
              "      box-shadow: 0px 1px 2px rgba(60, 64, 67, 0.3), 0px 1px 3px 1px rgba(60, 64, 67, 0.15);\n",
              "      fill: #174EA6;\n",
              "    }\n",
              "\n",
              "    [theme=dark] .colab-df-convert {\n",
              "      background-color: #3B4455;\n",
              "      fill: #D2E3FC;\n",
              "    }\n",
              "\n",
              "    [theme=dark] .colab-df-convert:hover {\n",
              "      background-color: #434B5C;\n",
              "      box-shadow: 0px 1px 3px 1px rgba(0, 0, 0, 0.15);\n",
              "      filter: drop-shadow(0px 1px 2px rgba(0, 0, 0, 0.3));\n",
              "      fill: #FFFFFF;\n",
              "    }\n",
              "  </style>\n",
              "\n",
              "      <script>\n",
              "        const buttonEl =\n",
              "          document.querySelector('#df-1183c7a4-47ef-4574-9e7c-00ca64f2ba1c button.colab-df-convert');\n",
              "        buttonEl.style.display =\n",
              "          google.colab.kernel.accessAllowed ? 'block' : 'none';\n",
              "\n",
              "        async function convertToInteractive(key) {\n",
              "          const element = document.querySelector('#df-1183c7a4-47ef-4574-9e7c-00ca64f2ba1c');\n",
              "          const dataTable =\n",
              "            await google.colab.kernel.invokeFunction('convertToInteractive',\n",
              "                                                     [key], {});\n",
              "          if (!dataTable) return;\n",
              "\n",
              "          const docLinkHtml = 'Like what you see? Visit the ' +\n",
              "            '<a target=\"_blank\" href=https://colab.research.google.com/notebooks/data_table.ipynb>data table notebook</a>'\n",
              "            + ' to learn more about interactive tables.';\n",
              "          element.innerHTML = '';\n",
              "          dataTable['output_type'] = 'display_data';\n",
              "          await google.colab.output.renderOutput(dataTable, element);\n",
              "          const docLink = document.createElement('div');\n",
              "          docLink.innerHTML = docLinkHtml;\n",
              "          element.appendChild(docLink);\n",
              "        }\n",
              "      </script>\n",
              "    </div>\n",
              "  </div>\n",
              "  "
            ]
          },
          "metadata": {},
          "execution_count": 7
        }
      ]
    },
    {
      "cell_type": "markdown",
      "source": [
        "* **Majority of the electricity generation in the country comes from coal based Thermal power plant as we have seen this in the pie chart before as well**\n",
        "\n",
        "* Second largest generation of electricity comes from **Hydro Power Plants** that means country is moving from conventional source to non conventional source of electricity generation\n",
        "\n",
        "* Combination of Solar,Wind and biomass based elctricity generation aggregates about 7872 MW which is less than **Nuclear Power Plant** generation alone\n",
        "\n",
        "* Moving towards cleaner fuel will help India to move closer to its target of carbon neutrality in the coming years"
      ],
      "metadata": {
        "id": "OM5ftYbV_Vo7"
      }
    },
    {
      "cell_type": "code",
      "source": [
        "# Checking generation gwh in 2014\n",
        "sns.barplot(x='primary_fuel',y='generation_gwh_2014',data=df)"
      ],
      "metadata": {
        "colab": {
          "base_uri": "https://localhost:8080/",
          "height": 299
        },
        "id": "oNMYbCH0zd6g",
        "outputId": "7715b88f-f6e2-409e-b88e-b0a06f686ce4"
      },
      "execution_count": null,
      "outputs": [
        {
          "output_type": "execute_result",
          "data": {
            "text/plain": [
              "<matplotlib.axes._subplots.AxesSubplot at 0x7fa2763a3cd0>"
            ]
          },
          "metadata": {},
          "execution_count": 21
        },
        {
          "output_type": "display_data",
          "data": {
            "text/plain": [
              "<Figure size 432x288 with 1 Axes>"
            ],
            "image/png": "[encoded data removed]"
          },
          "metadata": {
            "needs_background": "light"
          }
        }
      ]
    },
    {
      "cell_type": "code",
      "source": [
        "# Checking generation gwh in 2015\n",
        "sns.barplot(x='primary_fuel',y='generation_gwh_2015',data=df)"
      ],
      "metadata": {
        "colab": {
          "base_uri": "https://localhost:8080/",
          "height": 297
        },
        "id": "-DYAVHwqzeSL",
        "outputId": "2a53ddf9-93a1-4ff3-ddd0-1d0d1c308b7c"
      },
      "execution_count": null,
      "outputs": [
        {
          "output_type": "execute_result",
          "data": {
            "text/plain": [
              "<matplotlib.axes._subplots.AxesSubplot at 0x7fa2762d2130>"
            ]
          },
          "metadata": {},
          "execution_count": 22
        },
        {
          "output_type": "display_data",
          "data": {
            "text/plain": [
              "<Figure size 432x288 with 1 Axes>"
            ],
            "image/png": "[encoded data removed]"
          },
          "metadata": {
            "needs_background": "light"
          }
        }
      ]
    },
    {
      "cell_type": "code",
      "source": [
        "# Checking generation gwh in 2016\n",
        "sns.barplot(x='primary_fuel',y='generation_gwh_2016',data=df)\n",
        "plt.show()"
      ],
      "metadata": {
        "colab": {
          "base_uri": "https://localhost:8080/",
          "height": 280
        },
        "id": "dnMgAYkDzepx",
        "outputId": "c3b4f74b-d806-4395-bac3-7e9444cc2f42"
      },
      "execution_count": null,
      "outputs": [
        {
          "output_type": "display_data",
          "data": {
            "text/plain": [
              "<Figure size 432x288 with 1 Axes>"
            ],
            "image/png": "[encoded data removed]"
          },
          "metadata": {
            "needs_background": "light"
          }
        }
      ]
    },
    {
      "cell_type": "code",
      "source": [
        "sns.barplot(x='primary_fuel',y='generation_gwh_2017',data=df)"
      ],
      "metadata": {
        "colab": {
          "base_uri": "https://localhost:8080/",
          "height": 297
        },
        "id": "H-JRne7BG0IA",
        "outputId": "e195ed51-9809-411d-b0d4-5606d42d3ee9"
      },
      "execution_count": null,
      "outputs": [
        {
          "output_type": "execute_result",
          "data": {
            "text/plain": [
              "<matplotlib.axes._subplots.AxesSubplot at 0x7fa2769c4e80>"
            ]
          },
          "metadata": {},
          "execution_count": 24
        },
        {
          "output_type": "display_data",
          "data": {
            "text/plain": [
              "<Figure size 432x288 with 1 Axes>"
            ],
            "image/png": "[encoded data removed]"
          },
          "metadata": {
            "needs_background": "light"
          }
        }
      ]
    },
    {
      "cell_type": "code",
      "source": [
        "sns.barplot(x='primary_fuel',y='generation_gwh_2018',data=df)"
      ],
      "metadata": {
        "colab": {
          "base_uri": "https://localhost:8080/",
          "height": 297
        },
        "id": "B1lZoaxtHMXa",
        "outputId": "96cbb5da-a661-424d-f4bf-5dc97ae3dcbe"
      },
      "execution_count": null,
      "outputs": [
        {
          "output_type": "execute_result",
          "data": {
            "text/plain": [
              "<matplotlib.axes._subplots.AxesSubplot at 0x7fa2762fe9a0>"
            ]
          },
          "metadata": {},
          "execution_count": 25
        },
        {
          "output_type": "display_data",
          "data": {
            "text/plain": [
              "<Figure size 432x288 with 1 Axes>"
            ],
            "image/png": "[encoded data removed]"
          },
          "metadata": {
            "needs_background": "light"
          }
        }
      ]
    },
    {
      "cell_type": "markdown",
      "source": [
        "* As far as **generation in GWH** is concerned, we can see a very **similar trend** throughout from 2014 to 2018. Most of the electricity generation is dominated by **coal based power plant**s followed by **Nuclear** and then Gas and hydro.\n",
        "\n",
        "* But when quantity of power plants is seen out of total only 1% is Nuclear based and more than 28% is coal based. Hence only 1% Nuclear power plant is generating as much electricity as 28% coal based plants that means **mean electricity generation** of **Nuclear based plants** are **much higher**. **Nuclear plants** are very **high energy efficient plants**"
      ],
      "metadata": {
        "id": "F3LBt2hX0mLy"
      }
    },
    {
      "cell_type": "code",
      "source": [
        "#Lets check the relation between primary_fuel and  Mean capacity of power generation\n",
        "plt.figure(figsize = (8,6))\n",
        "sns.barplot(x = 'primary_fuel', y = 'capacity_mw', data = df)\n",
        "plt.title('Comparision between Primary fuel Type and Mean Capacity in MW', fontsize=20, fontweight='bold')\n",
        "plt.xlabel('Primary fuel Type',fontsize=16,fontweight ='bold')\n",
        "plt.ylabel('Mean Capacity in MW',fontsize=16,fontweight ='bold')\n",
        "plt.xticks(fontsize=16,fontweight ='bold',rotation=90)\n",
        "plt.yticks(fontsize=16,fontweight ='bold')\n",
        "plt.show()"
      ],
      "metadata": {
        "colab": {
          "base_uri": "https://localhost:8080/",
          "height": 479
        },
        "id": "PPnusRPb3t7r",
        "outputId": "2dabe2d9-1b9d-433b-d451-91bde2cb8663"
      },
      "execution_count": null,
      "outputs": [
        {
          "output_type": "display_data",
          "data": {
            "text/plain": [
              "<Figure size 576x432 with 1 Axes>"
            ],
            "image/png": "[encoded data removed]"
          },
          "metadata": {
            "needs_background": "light"
          }
        }
      ]
    },
    {
      "cell_type": "markdown",
      "source": [
        "**It is clearly visible that Nuclear power plants are highly energy efficient**"
      ],
      "metadata": {
        "id": "vA6XOASp954N"
      }
    },
    {
      "cell_type": "code",
      "source": [
        "#Lets check the relation between primary_fuel and  longitude of power plants\n",
        "plt.figure(figsize = (8,6))\n",
        "sns.boxplot(df['primary_fuel'],df[\"longitude\"])\n",
        "plt.title('Comparision between Primary fuel Type and Longitude of plants', fontsize=20, fontweight='bold')\n",
        "plt.xlabel('Primary fuel Type',fontsize=16,fontweight ='bold')\n",
        "plt.ylabel('Longitude',fontsize=16,fontweight ='bold')\n",
        "plt.xticks(fontsize=16,fontweight ='bold',rotation=90)\n",
        "plt.yticks(fontsize=16,fontweight ='bold')\n",
        "plt.show()"
      ],
      "metadata": {
        "colab": {
          "base_uri": "https://localhost:8080/",
          "height": 479
        },
        "id": "g71YyZxu-LPq",
        "outputId": "42f9993c-80e0-427e-91bf-791fa7474ed6"
      },
      "execution_count": null,
      "outputs": [
        {
          "output_type": "display_data",
          "data": {
            "text/plain": [
              "<Figure size 576x432 with 1 Axes>"
            ],
            "image/png": "[encoded data removed]"
          },
          "metadata": {
            "needs_background": "light"
          }
        }
      ]
    },
    {
      "cell_type": "code",
      "source": [
        "#Lets check the relation between primary_fuel and  latitude of power plants\n",
        "plt.figure(figsize = (8,6))\n",
        "sns.boxplot(df['primary_fuel'],df[\"latitude\"])\n",
        "plt.title('Comparision between Primary fuel Type and Latitude of plants', fontsize=20, fontweight='bold')\n",
        "plt.xlabel('Primary fuel Type',fontsize=16,fontweight ='bold')\n",
        "plt.ylabel('Latitude',fontsize=16,fontweight ='bold')\n",
        "plt.xticks(fontsize=16,fontweight ='bold',rotation=90)\n",
        "plt.yticks(fontsize=16,fontweight ='bold')\n",
        "plt.show()"
      ],
      "metadata": {
        "colab": {
          "base_uri": "https://localhost:8080/",
          "height": 479
        },
        "id": "alMbgIKvr9hv",
        "outputId": "c8ea53e8-48e4-4a40-e891-0078197e5ccc"
      },
      "execution_count": null,
      "outputs": [
        {
          "output_type": "display_data",
          "data": {
            "text/plain": [
              "<Figure size 576x432 with 1 Axes>"
            ],
            "image/png": "[encoded data removed]"
          },
          "metadata": {
            "needs_background": "light"
          }
        }
      ]
    },
    {
      "cell_type": "markdown",
      "source": [
        "* **India is a vast country.** Lying entirely in the Northern hemisphere ,the main land extends between **latitudes 8°4'N and 37°6'N** and **longitudes 68°7'E and 97°25'E.**\n",
        "\n",
        "* Majority of the coal based power plants lies between **latitude 20°N to 25°N** and **longitude 77°E to 82°E**\n",
        "\n",
        "* Majority of Nuclear based power plants lies between **latitude 12.5°N to 25°N** and **longitude 74°E to 77°E**"
      ],
      "metadata": {
        "id": "myU_j3IKtpNw"
      }
    },
    {
      "cell_type": "code",
      "source": [
        "cont = ['capacity_mw','commissioning_year', 'latitude','longitude', 'generation_gwh_2014',\n",
        "       'generation_gwh_2015','generation_gwh_2016', 'generation_gwh_2017',\n",
        "       'generation_gwh_2018']"
      ],
      "metadata": {
        "id": "pTYzKvmxvcqr"
      },
      "execution_count": 7,
      "outputs": []
    },
    {
      "cell_type": "code",
      "source": [
        "# Lets see how data is distributed for each column. Machine learnong model is built on the assumption that data is\n",
        "#distributed normally.\n",
        "\n",
        "plt.figure(figsize=(20,25),facecolor='white')\n",
        "plotnumber=1\n",
        "\n",
        "for column in cont:\n",
        "    if plotnumber<=9:\n",
        "        ax = plt.subplot(3,3,plotnumber)\n",
        "        sns.distplot(df[column])\n",
        "        plt.xlabel(column,fontsize=20)\n",
        "    plotnumber+=1\n",
        "plt.show()"
      ],
      "metadata": {
        "colab": {
          "base_uri": "https://localhost:8080/",
          "height": 1000
        },
        "id": "VP9ghNATyEP3",
        "outputId": "1277fb4d-3dbf-46b6-fd47-1e19de28f6af"
      },
      "execution_count": null,
      "outputs": [
        {
          "output_type": "display_data",
          "data": {
            "text/plain": [
              "<Figure size 1440x1800 with 9 Axes>"
            ],
            "image/png": "[encoded data removed]"
          },
          "metadata": {}
        }
      ]
    },
    {
      "cell_type": "markdown",
      "source": [
        "* **Distribution of data for continuous variables of the dataset are heavily skewed**\n",
        "\n",
        "* Lets check the exact skewness of each continuous variable\n"
      ],
      "metadata": {
        "id": "eaLSSaJeypt1"
      }
    },
    {
      "cell_type": "code",
      "source": [
        "df.skew()"
      ],
      "metadata": {
        "colab": {
          "base_uri": "https://localhost:8080/"
        },
        "id": "sehKIp5LzDOa",
        "outputId": "95d4f856-b05d-4212-a6d4-58422978a49e"
      },
      "execution_count": null,
      "outputs": [
        {
          "output_type": "execute_result",
          "data": {
            "text/plain": [
              "capacity_mw            3.123576\n",
              "latitude              -0.149698\n",
              "longitude              1.163320\n",
              "commissioning_year    -1.067949\n",
              "generation_gwh_2014    3.342707\n",
              "generation_gwh_2015    3.665904\n",
              "generation_gwh_2016    3.512370\n",
              "generation_gwh_2017    3.566070\n",
              "generation_gwh_2018    3.476298\n",
              "dtype: float64"
            ]
          },
          "metadata": {},
          "execution_count": 9
        }
      ]
    },
    {
      "cell_type": "markdown",
      "source": [
        "**Skewness ranges from -1.06 to 3.66 which is not in permissible range. Hence it is required to reduce the skewness proceeding ahead**"
      ],
      "metadata": {
        "id": "aZAsS5BTzMlZ"
      }
    },
    {
      "cell_type": "code",
      "source": [
        "# Lets see the outliers present in the data using boxplot\n",
        "\n",
        "plt.figure(figsize=(20,25),facecolor='white')\n",
        "plotnumber=1\n",
        "\n",
        "for column in cont:\n",
        "    if plotnumber<=9:\n",
        "        ax = plt.subplot(3,3,plotnumber)\n",
        "        sns.boxplot(df[column])\n",
        "        plt.xlabel(column,fontsize=20)\n",
        "    plotnumber+=1\n",
        "plt.show()"
      ],
      "metadata": {
        "colab": {
          "base_uri": "https://localhost:8080/",
          "height": 1000
        },
        "id": "DLRE_BXAzn6L",
        "outputId": "e9bd7f4a-f0bc-4e3b-ed6a-42fb54e3f86d"
      },
      "execution_count": null,
      "outputs": [
        {
          "output_type": "display_data",
          "data": {
            "text/plain": [
              "<Figure size 1440x1800 with 9 Axes>"
            ],
            "image/png": "[encoded data removed]"
          },
          "metadata": {}
        }
      ]
    },
    {
      "cell_type": "code",
      "source": [
        "# Plotting heatmap and checking correlation\n",
        "\n",
        "plt.figure(figsize=(21,14))\n",
        "sns.heatmap(df.corr(),annot =True,linewidths=0.15,linecolor='black',fmt=\"0.2f\")"
      ],
      "metadata": {
        "colab": {
          "base_uri": "https://localhost:8080/",
          "height": 931
        },
        "id": "5tS5M3eo4Dlb",
        "outputId": "2eb5ea62-7f1d-4bd6-ecf1-b69f32f7378e"
      },
      "execution_count": null,
      "outputs": [
        {
          "output_type": "execute_result",
          "data": {
            "text/plain": [
              "<matplotlib.axes._subplots.AxesSubplot at 0x7fd4cbc5a580>"
            ]
          },
          "metadata": {},
          "execution_count": 12
        },
        {
          "output_type": "display_data",
          "data": {
            "text/plain": [
              "<Figure size 1512x1008 with 2 Axes>"
            ],
            "image/png": "[encoded data removed]"
          },
          "metadata": {
            "needs_background": "light"
          }
        }
      ]
    },
    {
      "cell_type": "markdown",
      "source": [
        "* Generation in GWH for different years are highly correlated and hence we have to check multicollinearity in the database\n",
        "\n",
        "* These generations in GWH has strong strong correlation with our regression target variable 'capacity_mw'\n",
        "\n",
        "Lets check multicollinearity but before that encoding the categorical variables into numerical values"
      ],
      "metadata": {
        "id": "BTDIGLOZqaNY"
      }
    },
    {
      "cell_type": "code",
      "source": [
        "df.head()"
      ],
      "metadata": {
        "colab": {
          "base_uri": "https://localhost:8080/",
          "height": 461
        },
        "id": "Cc26NTVur6eu",
        "outputId": "cc1b5c5f-8368-4410-de31-9fc460c1c4c2"
      },
      "execution_count": null,
      "outputs": [
        {
          "output_type": "execute_result",
          "data": {
            "text/plain": [
              "                       name  capacity_mw  latitude  longitude primary_fuel  \\\n",
              "0          ACME Solar Tower          2.5   28.1839    73.2407        Solar   \n",
              "1       ADITYA CEMENT WORKS         98.0   24.7663    74.6090         Coal   \n",
              "2  AES Saurashtra Windfarms         39.2   21.9038    69.3732         Wind   \n",
              "3               AGARTALA GT        135.0   23.8712    91.3602          Gas   \n",
              "4              AKALTARA TPP       1800.0   21.9603    82.4091         Coal   \n",
              "\n",
              "  other_fuel1  commissioning_year                                source  \\\n",
              "0         Oil              2011.0  National Renewable Energy Laboratory   \n",
              "1         Oil                 NaN                  Ultratech Cement ltd   \n",
              "2         Oil                 NaN                                   CDM   \n",
              "3         Oil              2004.0         Central Electricity Authority   \n",
              "4         Oil              2015.0         Central Electricity Authority   \n",
              "\n",
              "                     geolocation_source  generation_gwh_2014  \\\n",
              "0  National Renewable Energy Laboratory                  NaN   \n",
              "1                                   WRI                  NaN   \n",
              "2                                   WRI                  NaN   \n",
              "3                                   WRI           617.789264   \n",
              "4                                   WRI          3035.550000   \n",
              "\n",
              "   generation_gwh_2015  generation_gwh_2016  generation_gwh_2017  \\\n",
              "0                  NaN                  NaN                  NaN   \n",
              "1                  NaN                  NaN                  NaN   \n",
              "2                  NaN                  NaN                  NaN   \n",
              "3              843.747           886.004428           663.774500   \n",
              "4             5916.370          6243.000000          5385.579736   \n",
              "\n",
              "   generation_gwh_2018         generation_data_source  \n",
              "0                  NaN                            NaN  \n",
              "1                  NaN                            NaN  \n",
              "2                  NaN                            NaN  \n",
              "3           626.239128  Central Electricity Authority  \n",
              "4          7279.000000  Central Electricity Authority  "
            ],
            "text/html": [
              "\n",
              "  <div id=\"df-c9e9c975-4796-40d6-bb99-e9bde4d729be\">\n",
              "    <div class=\"colab-df-container\">\n",
              "      <div>\n",
              "<style scoped>\n",
              "    .dataframe tbody tr th:only-of-type {\n",
              "        vertical-align: middle;\n",
              "    }\n",
              "\n",
              "    .dataframe tbody tr th {\n",
              "        vertical-align: top;\n",
              "    }\n",
              "\n",
              "    .dataframe thead th {\n",
              "        text-align: right;\n",
              "    }\n",
              "</style>\n",
              "<table border=\"1\" class=\"dataframe\">\n",
              "  <thead>\n",
              "    <tr style=\"text-align: right;\">\n",
              "      <th></th>\n",
              "      <th>name</th>\n",
              "      <th>capacity_mw</th>\n",
              "      <th>latitude</th>\n",
              "      <th>longitude</th>\n",
              "      <th>primary_fuel</th>\n",
              "      <th>other_fuel1</th>\n",
              "      <th>commissioning_year</th>\n",
              "      <th>source</th>\n",
              "      <th>geolocation_source</th>\n",
              "      <th>generation_gwh_2014</th>\n",
              "      <th>generation_gwh_2015</th>\n",
              "      <th>generation_gwh_2016</th>\n",
              "      <th>generation_gwh_2017</th>\n",
              "      <th>generation_gwh_2018</th>\n",
              "      <th>generation_data_source</th>\n",
              "    </tr>\n",
              "  </thead>\n",
              "  <tbody>\n",
              "    <tr>\n",
              "      <th>0</th>\n",
              "      <td>ACME Solar Tower</td>\n",
              "      <td>2.5</td>\n",
              "      <td>28.1839</td>\n",
              "      <td>73.2407</td>\n",
              "      <td>Solar</td>\n",
              "      <td>Oil</td>\n",
              "      <td>2011.0</td>\n",
              "      <td>National Renewable Energy Laboratory</td>\n",
              "      <td>National Renewable Energy Laboratory</td>\n",
              "      <td>NaN</td>\n",
              "      <td>NaN</td>\n",
              "      <td>NaN</td>\n",
              "      <td>NaN</td>\n",
              "      <td>NaN</td>\n",
              "      <td>NaN</td>\n",
              "    </tr>\n",
              "    <tr>\n",
              "      <th>1</th>\n",
              "      <td>ADITYA CEMENT WORKS</td>\n",
              "      <td>98.0</td>\n",
              "      <td>24.7663</td>\n",
              "      <td>74.6090</td>\n",
              "      <td>Coal</td>\n",
              "      <td>Oil</td>\n",
              "      <td>NaN</td>\n",
              "      <td>Ultratech Cement ltd</td>\n",
              "      <td>WRI</td>\n",
              "      <td>NaN</td>\n",
              "      <td>NaN</td>\n",
              "      <td>NaN</td>\n",
              "      <td>NaN</td>\n",
              "      <td>NaN</td>\n",
              "      <td>NaN</td>\n",
              "    </tr>\n",
              "    <tr>\n",
              "      <th>2</th>\n",
              "      <td>AES Saurashtra Windfarms</td>\n",
              "      <td>39.2</td>\n",
              "      <td>21.9038</td>\n",
              "      <td>69.3732</td>\n",
              "      <td>Wind</td>\n",
              "      <td>Oil</td>\n",
              "      <td>NaN</td>\n",
              "      <td>CDM</td>\n",
              "      <td>WRI</td>\n",
              "      <td>NaN</td>\n",
              "      <td>NaN</td>\n",
              "      <td>NaN</td>\n",
              "      <td>NaN</td>\n",
              "      <td>NaN</td>\n",
              "      <td>NaN</td>\n",
              "    </tr>\n",
              "    <tr>\n",
              "      <th>3</th>\n",
              "      <td>AGARTALA GT</td>\n",
              "      <td>135.0</td>\n",
              "      <td>23.8712</td>\n",
              "      <td>91.3602</td>\n",
              "      <td>Gas</td>\n",
              "      <td>Oil</td>\n",
              "      <td>2004.0</td>\n",
              "      <td>Central Electricity Authority</td>\n",
              "      <td>WRI</td>\n",
              "      <td>617.789264</td>\n",
              "      <td>843.747</td>\n",
              "      <td>886.004428</td>\n",
              "      <td>663.774500</td>\n",
              "      <td>626.239128</td>\n",
              "      <td>Central Electricity Authority</td>\n",
              "    </tr>\n",
              "    <tr>\n",
              "      <th>4</th>\n",
              "      <td>AKALTARA TPP</td>\n",
              "      <td>1800.0</td>\n",
              "      <td>21.9603</td>\n",
              "      <td>82.4091</td>\n",
              "      <td>Coal</td>\n",
              "      <td>Oil</td>\n",
              "      <td>2015.0</td>\n",
              "      <td>Central Electricity Authority</td>\n",
              "      <td>WRI</td>\n",
              "      <td>3035.550000</td>\n",
              "      <td>5916.370</td>\n",
              "      <td>6243.000000</td>\n",
              "      <td>5385.579736</td>\n",
              "      <td>7279.000000</td>\n",
              "      <td>Central Electricity Authority</td>\n",
              "    </tr>\n",
              "  </tbody>\n",
              "</table>\n",
              "</div>\n",
              "      <button class=\"colab-df-convert\" onclick=\"convertToInteractive('df-c9e9c975-4796-40d6-bb99-e9bde4d729be')\"\n",
              "              title=\"Convert this dataframe to an interactive table.\"\n",
              "              style=\"display:none;\">\n",
              "        \n",
              "  <svg xmlns=\"http://www.w3.org/2000/svg\" height=\"24px\"viewBox=\"0 0 24 24\"\n",
              "       width=\"24px\">\n",
              "    <path d=\"M0 0h24v24H0V0z\" fill=\"none\"/>\n",
              "    <path d=\"M18.56 5.44l.94 2.06.94-2.06 2.06-.94-2.06-.94-.94-2.06-.94 2.06-2.06.94zm-11 1L8.5 8.5l.94-2.06 2.06-.94-2.06-.94L8.5 2.5l-.94 2.06-2.06.94zm10 10l.94 2.06.94-2.06 2.06-.94-2.06-.94-.94-2.06-.94 2.06-2.06.94z\"/><path d=\"M17.41 7.96l-1.37-1.37c-.4-.4-.92-.59-1.43-.59-.52 0-1.04.2-1.43.59L10.3 9.45l-7.72 7.72c-.78.78-.78 2.05 0 2.83L4 21.41c.39.39.9.59 1.41.59.51 0 1.02-.2 1.41-.59l7.78-7.78 2.81-2.81c.8-.78.8-2.07 0-2.86zM5.41 20L4 18.59l7.72-7.72 1.47 1.35L5.41 20z\"/>\n",
              "  </svg>\n",
              "      </button>\n",
              "      \n",
              "  <style>\n",
              "    .colab-df-container {\n",
              "      display:flex;\n",
              "      flex-wrap:wrap;\n",
              "      gap: 12px;\n",
              "    }\n",
              "\n",
              "    .colab-df-convert {\n",
              "      background-color: #E8F0FE;\n",
              "      border: none;\n",
              "      border-radius: 50%;\n",
              "      cursor: pointer;\n",
              "      display: none;\n",
              "      fill: #1967D2;\n",
              "      height: 32px;\n",
              "      padding: 0 0 0 0;\n",
              "      width: 32px;\n",
              "    }\n",
              "\n",
              "    .colab-df-convert:hover {\n",
              "      background-color: #E2EBFA;\n",
              "      box-shadow: 0px 1px 2px rgba(60, 64, 67, 0.3), 0px 1px 3px 1px rgba(60, 64, 67, 0.15);\n",
              "      fill: #174EA6;\n",
              "    }\n",
              "\n",
              "    [theme=dark] .colab-df-convert {\n",
              "      background-color: #3B4455;\n",
              "      fill: #D2E3FC;\n",
              "    }\n",
              "\n",
              "    [theme=dark] .colab-df-convert:hover {\n",
              "      background-color: #434B5C;\n",
              "      box-shadow: 0px 1px 3px 1px rgba(0, 0, 0, 0.15);\n",
              "      filter: drop-shadow(0px 1px 2px rgba(0, 0, 0, 0.3));\n",
              "      fill: #FFFFFF;\n",
              "    }\n",
              "  </style>\n",
              "\n",
              "      <script>\n",
              "        const buttonEl =\n",
              "          document.querySelector('#df-c9e9c975-4796-40d6-bb99-e9bde4d729be button.colab-df-convert');\n",
              "        buttonEl.style.display =\n",
              "          google.colab.kernel.accessAllowed ? 'block' : 'none';\n",
              "\n",
              "        async function convertToInteractive(key) {\n",
              "          const element = document.querySelector('#df-c9e9c975-4796-40d6-bb99-e9bde4d729be');\n",
              "          const dataTable =\n",
              "            await google.colab.kernel.invokeFunction('convertToInteractive',\n",
              "                                                     [key], {});\n",
              "          if (!dataTable) return;\n",
              "\n",
              "          const docLinkHtml = 'Like what you see? Visit the ' +\n",
              "            '<a target=\"_blank\" href=https://colab.research.google.com/notebooks/data_table.ipynb>data table notebook</a>'\n",
              "            + ' to learn more about interactive tables.';\n",
              "          element.innerHTML = '';\n",
              "          dataTable['output_type'] = 'display_data';\n",
              "          await google.colab.output.renderOutput(dataTable, element);\n",
              "          const docLink = document.createElement('div');\n",
              "          docLink.innerHTML = docLinkHtml;\n",
              "          element.appendChild(docLink);\n",
              "        }\n",
              "      </script>\n",
              "    </div>\n",
              "  </div>\n",
              "  "
            ]
          },
          "metadata": {},
          "execution_count": 13
        }
      ]
    },
    {
      "cell_type": "code",
      "source": [
        "# Filling commissioning year missing values with the most frequent values as its correlation with the target is good\n",
        "\n",
        "df['commissioning_year'] = df['commissioning_year'].fillna(df['commissioning_year'].mode()[0])\n",
        "\n",
        "# Filling generation_gwh missing values with mean values\n",
        "\n",
        "df['generation_gwh_2014'] = df['generation_gwh_2014'].fillna(df['generation_gwh_2014'].mean())\n",
        "\n",
        "df['generation_gwh_2015'] = df['generation_gwh_2015'].fillna(df['generation_gwh_2015'].mean())\n",
        "\n",
        "df['generation_gwh_2016'] = df['generation_gwh_2016'].fillna(df['generation_gwh_2016'].mean())\n",
        "\n",
        "df['generation_gwh_2017'] = df['generation_gwh_2017'].fillna(df['generation_gwh_2017'].mean())\n",
        "\n",
        "df['generation_gwh_2018'] = df['generation_gwh_2018'].fillna(df['generation_gwh_2018'].mean())"
      ],
      "metadata": {
        "id": "OUwwq5vVsYrH"
      },
      "execution_count": 11,
      "outputs": []
    },
    {
      "cell_type": "code",
      "source": [
        "df.isnull().sum()"
      ],
      "metadata": {
        "colab": {
          "base_uri": "https://localhost:8080/"
        },
        "id": "uWL70K07uPBL",
        "outputId": "b9551c2f-8802-4fb8-99d7-c3f297d2071d"
      },
      "execution_count": 12,
      "outputs": [
        {
          "output_type": "execute_result",
          "data": {
            "text/plain": [
              "name                   0\n",
              "capacity_mw            0\n",
              "latitude               0\n",
              "longitude              0\n",
              "primary_fuel           0\n",
              "commissioning_year     0\n",
              "source                 0\n",
              "geolocation_source     0\n",
              "generation_gwh_2014    0\n",
              "generation_gwh_2015    0\n",
              "generation_gwh_2016    0\n",
              "generation_gwh_2017    0\n",
              "generation_gwh_2018    0\n",
              "dtype: int64"
            ]
          },
          "metadata": {},
          "execution_count": 12
        }
      ]
    },
    {
      "cell_type": "markdown",
      "source": [
        "**Encoding the categorical variables**"
      ],
      "metadata": {
        "id": "LjjLe-7trzSQ"
      }
    },
    {
      "cell_type": "code",
      "source": [
        "df.head()"
      ],
      "metadata": {
        "colab": {
          "base_uri": "https://localhost:8080/",
          "height": 461
        },
        "id": "2P4PEk063EwE",
        "outputId": "24c558b8-feb4-4c19-fffb-1ae26e4d19ba"
      },
      "execution_count": null,
      "outputs": [
        {
          "output_type": "execute_result",
          "data": {
            "text/plain": [
              "                       name  capacity_mw  latitude  longitude primary_fuel  \\\n",
              "0          ACME Solar Tower          2.5   28.1839    73.2407        Solar   \n",
              "1       ADITYA CEMENT WORKS         98.0   24.7663    74.6090         Coal   \n",
              "2  AES Saurashtra Windfarms         39.2   21.9038    69.3732         Wind   \n",
              "3               AGARTALA GT        135.0   23.8712    91.3602          Gas   \n",
              "4              AKALTARA TPP       1800.0   21.9603    82.4091         Coal   \n",
              "\n",
              "   commissioning_year                                source  \\\n",
              "0              2011.0  National Renewable Energy Laboratory   \n",
              "1              2015.0                  Ultratech Cement ltd   \n",
              "2              2015.0                                   CDM   \n",
              "3              2004.0         Central Electricity Authority   \n",
              "4              2015.0         Central Electricity Authority   \n",
              "\n",
              "                     geolocation_source  generation_gwh_2014  \\\n",
              "0  National Renewable Energy Laboratory          2431.823590   \n",
              "1                                   WRI          2431.823590   \n",
              "2                                   WRI          2431.823590   \n",
              "3                                   WRI           617.789264   \n",
              "4                                   WRI          3035.550000   \n",
              "\n",
              "   generation_gwh_2015  generation_gwh_2016  generation_gwh_2017  \\\n",
              "0          2428.226946          2467.936859          2547.759305   \n",
              "1          2428.226946          2467.936859          2547.759305   \n",
              "2          2428.226946          2467.936859          2547.759305   \n",
              "3           843.747000           886.004428           663.774500   \n",
              "4          5916.370000          6243.000000          5385.579736   \n",
              "\n",
              "   generation_gwh_2018  \n",
              "0          2600.804099  \n",
              "1          2600.804099  \n",
              "2          2600.804099  \n",
              "3           626.239128  \n",
              "4          7279.000000  "
            ],
            "text/html": [
              "\n",
              "  <div id=\"df-7e39a1f8-35d0-49f8-a992-f25aad7b08f9\">\n",
              "    <div class=\"colab-df-container\">\n",
              "      <div>\n",
              "<style scoped>\n",
              "    .dataframe tbody tr th:only-of-type {\n",
              "        vertical-align: middle;\n",
              "    }\n",
              "\n",
              "    .dataframe tbody tr th {\n",
              "        vertical-align: top;\n",
              "    }\n",
              "\n",
              "    .dataframe thead th {\n",
              "        text-align: right;\n",
              "    }\n",
              "</style>\n",
              "<table border=\"1\" class=\"dataframe\">\n",
              "  <thead>\n",
              "    <tr style=\"text-align: right;\">\n",
              "      <th></th>\n",
              "      <th>name</th>\n",
              "      <th>capacity_mw</th>\n",
              "      <th>latitude</th>\n",
              "      <th>longitude</th>\n",
              "      <th>primary_fuel</th>\n",
              "      <th>commissioning_year</th>\n",
              "      <th>source</th>\n",
              "      <th>geolocation_source</th>\n",
              "      <th>generation_gwh_2014</th>\n",
              "      <th>generation_gwh_2015</th>\n",
              "      <th>generation_gwh_2016</th>\n",
              "      <th>generation_gwh_2017</th>\n",
              "      <th>generation_gwh_2018</th>\n",
              "    </tr>\n",
              "  </thead>\n",
              "  <tbody>\n",
              "    <tr>\n",
              "      <th>0</th>\n",
              "      <td>ACME Solar Tower</td>\n",
              "      <td>2.5</td>\n",
              "      <td>28.1839</td>\n",
              "      <td>73.2407</td>\n",
              "      <td>Solar</td>\n",
              "      <td>2011.0</td>\n",
              "      <td>National Renewable Energy Laboratory</td>\n",
              "      <td>National Renewable Energy Laboratory</td>\n",
              "      <td>2431.823590</td>\n",
              "      <td>2428.226946</td>\n",
              "      <td>2467.936859</td>\n",
              "      <td>2547.759305</td>\n",
              "      <td>2600.804099</td>\n",
              "    </tr>\n",
              "    <tr>\n",
              "      <th>1</th>\n",
              "      <td>ADITYA CEMENT WORKS</td>\n",
              "      <td>98.0</td>\n",
              "      <td>24.7663</td>\n",
              "      <td>74.6090</td>\n",
              "      <td>Coal</td>\n",
              "      <td>2015.0</td>\n",
              "      <td>Ultratech Cement ltd</td>\n",
              "      <td>WRI</td>\n",
              "      <td>2431.823590</td>\n",
              "      <td>2428.226946</td>\n",
              "      <td>2467.936859</td>\n",
              "      <td>2547.759305</td>\n",
              "      <td>2600.804099</td>\n",
              "    </tr>\n",
              "    <tr>\n",
              "      <th>2</th>\n",
              "      <td>AES Saurashtra Windfarms</td>\n",
              "      <td>39.2</td>\n",
              "      <td>21.9038</td>\n",
              "      <td>69.3732</td>\n",
              "      <td>Wind</td>\n",
              "      <td>2015.0</td>\n",
              "      <td>CDM</td>\n",
              "      <td>WRI</td>\n",
              "      <td>2431.823590</td>\n",
              "      <td>2428.226946</td>\n",
              "      <td>2467.936859</td>\n",
              "      <td>2547.759305</td>\n",
              "      <td>2600.804099</td>\n",
              "    </tr>\n",
              "    <tr>\n",
              "      <th>3</th>\n",
              "      <td>AGARTALA GT</td>\n",
              "      <td>135.0</td>\n",
              "      <td>23.8712</td>\n",
              "      <td>91.3602</td>\n",
              "      <td>Gas</td>\n",
              "      <td>2004.0</td>\n",
              "      <td>Central Electricity Authority</td>\n",
              "      <td>WRI</td>\n",
              "      <td>617.789264</td>\n",
              "      <td>843.747000</td>\n",
              "      <td>886.004428</td>\n",
              "      <td>663.774500</td>\n",
              "      <td>626.239128</td>\n",
              "    </tr>\n",
              "    <tr>\n",
              "      <th>4</th>\n",
              "      <td>AKALTARA TPP</td>\n",
              "      <td>1800.0</td>\n",
              "      <td>21.9603</td>\n",
              "      <td>82.4091</td>\n",
              "      <td>Coal</td>\n",
              "      <td>2015.0</td>\n",
              "      <td>Central Electricity Authority</td>\n",
              "      <td>WRI</td>\n",
              "      <td>3035.550000</td>\n",
              "      <td>5916.370000</td>\n",
              "      <td>6243.000000</td>\n",
              "      <td>5385.579736</td>\n",
              "      <td>7279.000000</td>\n",
              "    </tr>\n",
              "  </tbody>\n",
              "</table>\n",
              "</div>\n",
              "      <button class=\"colab-df-convert\" onclick=\"convertToInteractive('df-7e39a1f8-35d0-49f8-a992-f25aad7b08f9')\"\n",
              "              title=\"Convert this dataframe to an interactive table.\"\n",
              "              style=\"display:none;\">\n",
              "        \n",
              "  <svg xmlns=\"http://www.w3.org/2000/svg\" height=\"24px\"viewBox=\"0 0 24 24\"\n",
              "       width=\"24px\">\n",
              "    <path d=\"M0 0h24v24H0V0z\" fill=\"none\"/>\n",
              "    <path d=\"M18.56 5.44l.94 2.06.94-2.06 2.06-.94-2.06-.94-.94-2.06-.94 2.06-2.06.94zm-11 1L8.5 8.5l.94-2.06 2.06-.94-2.06-.94L8.5 2.5l-.94 2.06-2.06.94zm10 10l.94 2.06.94-2.06 2.06-.94-2.06-.94-.94-2.06-.94 2.06-2.06.94z\"/><path d=\"M17.41 7.96l-1.37-1.37c-.4-.4-.92-.59-1.43-.59-.52 0-1.04.2-1.43.59L10.3 9.45l-7.72 7.72c-.78.78-.78 2.05 0 2.83L4 21.41c.39.39.9.59 1.41.59.51 0 1.02-.2 1.41-.59l7.78-7.78 2.81-2.81c.8-.78.8-2.07 0-2.86zM5.41 20L4 18.59l7.72-7.72 1.47 1.35L5.41 20z\"/>\n",
              "  </svg>\n",
              "      </button>\n",
              "      \n",
              "  <style>\n",
              "    .colab-df-container {\n",
              "      display:flex;\n",
              "      flex-wrap:wrap;\n",
              "      gap: 12px;\n",
              "    }\n",
              "\n",
              "    .colab-df-convert {\n",
              "      background-color: #E8F0FE;\n",
              "      border: none;\n",
              "      border-radius: 50%;\n",
              "      cursor: pointer;\n",
              "      display: none;\n",
              "      fill: #1967D2;\n",
              "      height: 32px;\n",
              "      padding: 0 0 0 0;\n",
              "      width: 32px;\n",
              "    }\n",
              "\n",
              "    .colab-df-convert:hover {\n",
              "      background-color: #E2EBFA;\n",
              "      box-shadow: 0px 1px 2px rgba(60, 64, 67, 0.3), 0px 1px 3px 1px rgba(60, 64, 67, 0.15);\n",
              "      fill: #174EA6;\n",
              "    }\n",
              "\n",
              "    [theme=dark] .colab-df-convert {\n",
              "      background-color: #3B4455;\n",
              "      fill: #D2E3FC;\n",
              "    }\n",
              "\n",
              "    [theme=dark] .colab-df-convert:hover {\n",
              "      background-color: #434B5C;\n",
              "      box-shadow: 0px 1px 3px 1px rgba(0, 0, 0, 0.15);\n",
              "      filter: drop-shadow(0px 1px 2px rgba(0, 0, 0, 0.3));\n",
              "      fill: #FFFFFF;\n",
              "    }\n",
              "  </style>\n",
              "\n",
              "      <script>\n",
              "        const buttonEl =\n",
              "          document.querySelector('#df-7e39a1f8-35d0-49f8-a992-f25aad7b08f9 button.colab-df-convert');\n",
              "        buttonEl.style.display =\n",
              "          google.colab.kernel.accessAllowed ? 'block' : 'none';\n",
              "\n",
              "        async function convertToInteractive(key) {\n",
              "          const element = document.querySelector('#df-7e39a1f8-35d0-49f8-a992-f25aad7b08f9');\n",
              "          const dataTable =\n",
              "            await google.colab.kernel.invokeFunction('convertToInteractive',\n",
              "                                                     [key], {});\n",
              "          if (!dataTable) return;\n",
              "\n",
              "          const docLinkHtml = 'Like what you see? Visit the ' +\n",
              "            '<a target=\"_blank\" href=https://colab.research.google.com/notebooks/data_table.ipynb>data table notebook</a>'\n",
              "            + ' to learn more about interactive tables.';\n",
              "          element.innerHTML = '';\n",
              "          dataTable['output_type'] = 'display_data';\n",
              "          await google.colab.output.renderOutput(dataTable, element);\n",
              "          const docLink = document.createElement('div');\n",
              "          docLink.innerHTML = docLinkHtml;\n",
              "          element.appendChild(docLink);\n",
              "        }\n",
              "      </script>\n",
              "    </div>\n",
              "  </div>\n",
              "  "
            ]
          },
          "metadata": {},
          "execution_count": 17
        }
      ]
    },
    {
      "cell_type": "code",
      "source": [
        "from sklearn.preprocessing import LabelEncoder\n",
        "\n",
        "le = LabelEncoder()\n"
      ],
      "metadata": {
        "id": "dhaMX2e644ob"
      },
      "execution_count": 13,
      "outputs": []
    },
    {
      "cell_type": "code",
      "source": [
        "for i in df.columns:\n",
        "    if df[i].dtypes == \"object\":\n",
        "        df[i] = le.fit_transform(df[i].values.reshape(-1,1))"
      ],
      "metadata": {
        "id": "XfsUwtNV5X5i"
      },
      "execution_count": 14,
      "outputs": []
    },
    {
      "cell_type": "code",
      "source": [
        "df.head()"
      ],
      "metadata": {
        "colab": {
          "base_uri": "https://localhost:8080/",
          "height": 270
        },
        "id": "pwgqRuqq6QcC",
        "outputId": "d8cce7d6-a9b2-41cc-b2d7-787ed88baacc"
      },
      "execution_count": 15,
      "outputs": [
        {
          "output_type": "execute_result",
          "data": {
            "text/plain": [
              "   name  capacity_mw  latitude  longitude  primary_fuel  commissioning_year  \\\n",
              "0     0          2.5   28.1839    73.2407             6              2011.0   \n",
              "1     1         98.0   24.7663    74.6090             1              2015.0   \n",
              "2     2         39.2   21.9038    69.3732             7              2015.0   \n",
              "3     3        135.0   23.8712    91.3602             2              2004.0   \n",
              "4     4       1800.0   21.9603    82.4091             1              2015.0   \n",
              "\n",
              "   source  geolocation_source  generation_gwh_2014  generation_gwh_2015  \\\n",
              "0     109                   1          2431.823590          2428.226946   \n",
              "1     174                   2          2431.823590          2428.226946   \n",
              "2      21                   2          2431.823590          2428.226946   \n",
              "3      22                   2           617.789264           843.747000   \n",
              "4      22                   2          3035.550000          5916.370000   \n",
              "\n",
              "   generation_gwh_2016  generation_gwh_2017  generation_gwh_2018  \n",
              "0          2467.936859          2547.759305          2600.804099  \n",
              "1          2467.936859          2547.759305          2600.804099  \n",
              "2          2467.936859          2547.759305          2600.804099  \n",
              "3           886.004428           663.774500           626.239128  \n",
              "4          6243.000000          5385.579736          7279.000000  "
            ],
            "text/html": [
              "\n",
              "  <div id=\"df-545365a8-3b5f-4c04-9406-03a2af715728\">\n",
              "    <div class=\"colab-df-container\">\n",
              "      <div>\n",
              "<style scoped>\n",
              "    .dataframe tbody tr th:only-of-type {\n",
              "        vertical-align: middle;\n",
              "    }\n",
              "\n",
              "    .dataframe tbody tr th {\n",
              "        vertical-align: top;\n",
              "    }\n",
              "\n",
              "    .dataframe thead th {\n",
              "        text-align: right;\n",
              "    }\n",
              "</style>\n",
              "<table border=\"1\" class=\"dataframe\">\n",
              "  <thead>\n",
              "    <tr style=\"text-align: right;\">\n",
              "      <th></th>\n",
              "      <th>name</th>\n",
              "      <th>capacity_mw</th>\n",
              "      <th>latitude</th>\n",
              "      <th>longitude</th>\n",
              "      <th>primary_fuel</th>\n",
              "      <th>commissioning_year</th>\n",
              "      <th>source</th>\n",
              "      <th>geolocation_source</th>\n",
              "      <th>generation_gwh_2014</th>\n",
              "      <th>generation_gwh_2015</th>\n",
              "      <th>generation_gwh_2016</th>\n",
              "      <th>generation_gwh_2017</th>\n",
              "      <th>generation_gwh_2018</th>\n",
              "    </tr>\n",
              "  </thead>\n",
              "  <tbody>\n",
              "    <tr>\n",
              "      <th>0</th>\n",
              "      <td>0</td>\n",
              "      <td>2.5</td>\n",
              "      <td>28.1839</td>\n",
              "      <td>73.2407</td>\n",
              "      <td>6</td>\n",
              "      <td>2011.0</td>\n",
              "      <td>109</td>\n",
              "      <td>1</td>\n",
              "      <td>2431.823590</td>\n",
              "      <td>2428.226946</td>\n",
              "      <td>2467.936859</td>\n",
              "      <td>2547.759305</td>\n",
              "      <td>2600.804099</td>\n",
              "    </tr>\n",
              "    <tr>\n",
              "      <th>1</th>\n",
              "      <td>1</td>\n",
              "      <td>98.0</td>\n",
              "      <td>24.7663</td>\n",
              "      <td>74.6090</td>\n",
              "      <td>1</td>\n",
              "      <td>2015.0</td>\n",
              "      <td>174</td>\n",
              "      <td>2</td>\n",
              "      <td>2431.823590</td>\n",
              "      <td>2428.226946</td>\n",
              "      <td>2467.936859</td>\n",
              "      <td>2547.759305</td>\n",
              "      <td>2600.804099</td>\n",
              "    </tr>\n",
              "    <tr>\n",
              "      <th>2</th>\n",
              "      <td>2</td>\n",
              "      <td>39.2</td>\n",
              "      <td>21.9038</td>\n",
              "      <td>69.3732</td>\n",
              "      <td>7</td>\n",
              "      <td>2015.0</td>\n",
              "      <td>21</td>\n",
              "      <td>2</td>\n",
              "      <td>2431.823590</td>\n",
              "      <td>2428.226946</td>\n",
              "      <td>2467.936859</td>\n",
              "      <td>2547.759305</td>\n",
              "      <td>2600.804099</td>\n",
              "    </tr>\n",
              "    <tr>\n",
              "      <th>3</th>\n",
              "      <td>3</td>\n",
              "      <td>135.0</td>\n",
              "      <td>23.8712</td>\n",
              "      <td>91.3602</td>\n",
              "      <td>2</td>\n",
              "      <td>2004.0</td>\n",
              "      <td>22</td>\n",
              "      <td>2</td>\n",
              "      <td>617.789264</td>\n",
              "      <td>843.747000</td>\n",
              "      <td>886.004428</td>\n",
              "      <td>663.774500</td>\n",
              "      <td>626.239128</td>\n",
              "    </tr>\n",
              "    <tr>\n",
              "      <th>4</th>\n",
              "      <td>4</td>\n",
              "      <td>1800.0</td>\n",
              "      <td>21.9603</td>\n",
              "      <td>82.4091</td>\n",
              "      <td>1</td>\n",
              "      <td>2015.0</td>\n",
              "      <td>22</td>\n",
              "      <td>2</td>\n",
              "      <td>3035.550000</td>\n",
              "      <td>5916.370000</td>\n",
              "      <td>6243.000000</td>\n",
              "      <td>5385.579736</td>\n",
              "      <td>7279.000000</td>\n",
              "    </tr>\n",
              "  </tbody>\n",
              "</table>\n",
              "</div>\n",
              "      <button class=\"colab-df-convert\" onclick=\"convertToInteractive('df-545365a8-3b5f-4c04-9406-03a2af715728')\"\n",
              "              title=\"Convert this dataframe to an interactive table.\"\n",
              "              style=\"display:none;\">\n",
              "        \n",
              "  <svg xmlns=\"http://www.w3.org/2000/svg\" height=\"24px\"viewBox=\"0 0 24 24\"\n",
              "       width=\"24px\">\n",
              "    <path d=\"M0 0h24v24H0V0z\" fill=\"none\"/>\n",
              "    <path d=\"M18.56 5.44l.94 2.06.94-2.06 2.06-.94-2.06-.94-.94-2.06-.94 2.06-2.06.94zm-11 1L8.5 8.5l.94-2.06 2.06-.94-2.06-.94L8.5 2.5l-.94 2.06-2.06.94zm10 10l.94 2.06.94-2.06 2.06-.94-2.06-.94-.94-2.06-.94 2.06-2.06.94z\"/><path d=\"M17.41 7.96l-1.37-1.37c-.4-.4-.92-.59-1.43-.59-.52 0-1.04.2-1.43.59L10.3 9.45l-7.72 7.72c-.78.78-.78 2.05 0 2.83L4 21.41c.39.39.9.59 1.41.59.51 0 1.02-.2 1.41-.59l7.78-7.78 2.81-2.81c.8-.78.8-2.07 0-2.86zM5.41 20L4 18.59l7.72-7.72 1.47 1.35L5.41 20z\"/>\n",
              "  </svg>\n",
              "      </button>\n",
              "      \n",
              "  <style>\n",
              "    .colab-df-container {\n",
              "      display:flex;\n",
              "      flex-wrap:wrap;\n",
              "      gap: 12px;\n",
              "    }\n",
              "\n",
              "    .colab-df-convert {\n",
              "      background-color: #E8F0FE;\n",
              "      border: none;\n",
              "      border-radius: 50%;\n",
              "      cursor: pointer;\n",
              "      display: none;\n",
              "      fill: #1967D2;\n",
              "      height: 32px;\n",
              "      padding: 0 0 0 0;\n",
              "      width: 32px;\n",
              "    }\n",
              "\n",
              "    .colab-df-convert:hover {\n",
              "      background-color: #E2EBFA;\n",
              "      box-shadow: 0px 1px 2px rgba(60, 64, 67, 0.3), 0px 1px 3px 1px rgba(60, 64, 67, 0.15);\n",
              "      fill: #174EA6;\n",
              "    }\n",
              "\n",
              "    [theme=dark] .colab-df-convert {\n",
              "      background-color: #3B4455;\n",
              "      fill: #D2E3FC;\n",
              "    }\n",
              "\n",
              "    [theme=dark] .colab-df-convert:hover {\n",
              "      background-color: #434B5C;\n",
              "      box-shadow: 0px 1px 3px 1px rgba(0, 0, 0, 0.15);\n",
              "      filter: drop-shadow(0px 1px 2px rgba(0, 0, 0, 0.3));\n",
              "      fill: #FFFFFF;\n",
              "    }\n",
              "  </style>\n",
              "\n",
              "      <script>\n",
              "        const buttonEl =\n",
              "          document.querySelector('#df-545365a8-3b5f-4c04-9406-03a2af715728 button.colab-df-convert');\n",
              "        buttonEl.style.display =\n",
              "          google.colab.kernel.accessAllowed ? 'block' : 'none';\n",
              "\n",
              "        async function convertToInteractive(key) {\n",
              "          const element = document.querySelector('#df-545365a8-3b5f-4c04-9406-03a2af715728');\n",
              "          const dataTable =\n",
              "            await google.colab.kernel.invokeFunction('convertToInteractive',\n",
              "                                                     [key], {});\n",
              "          if (!dataTable) return;\n",
              "\n",
              "          const docLinkHtml = 'Like what you see? Visit the ' +\n",
              "            '<a target=\"_blank\" href=https://colab.research.google.com/notebooks/data_table.ipynb>data table notebook</a>'\n",
              "            + ' to learn more about interactive tables.';\n",
              "          element.innerHTML = '';\n",
              "          dataTable['output_type'] = 'display_data';\n",
              "          await google.colab.output.renderOutput(dataTable, element);\n",
              "          const docLink = document.createElement('div');\n",
              "          docLink.innerHTML = docLinkHtml;\n",
              "          element.appendChild(docLink);\n",
              "        }\n",
              "      </script>\n",
              "    </div>\n",
              "  </div>\n",
              "  "
            ]
          },
          "metadata": {},
          "execution_count": 15
        }
      ]
    },
    {
      "cell_type": "markdown",
      "source": [
        "**Outlier Removal**"
      ],
      "metadata": {
        "id": "5NM5Y-TT8BHr"
      }
    },
    {
      "cell_type": "code",
      "source": [
        "# Removing outliers using zscore and keeping threshold as 3 (3 std from mean : 99.7% of data included)\n",
        "\n",
        "from scipy.stats import zscore\n",
        "\n",
        "z_score = np.abs(zscore(df))\n",
        "\n",
        "filtering_entry = (z_score < 3).all(axis = 1)\n",
        "\n",
        "df_new = df[filtering_entry]"
      ],
      "metadata": {
        "id": "1tFqAWck8HyV"
      },
      "execution_count": 16,
      "outputs": []
    },
    {
      "cell_type": "code",
      "source": [
        "df_new.shape"
      ],
      "metadata": {
        "colab": {
          "base_uri": "https://localhost:8080/"
        },
        "id": "oVTxT9DM8c4X",
        "outputId": "378ae7fd-52b3-4759-fde7-88a949c4303c"
      },
      "execution_count": 17,
      "outputs": [
        {
          "output_type": "execute_result",
          "data": {
            "text/plain": [
              "(835, 13)"
            ]
          },
          "metadata": {},
          "execution_count": 17
        }
      ]
    },
    {
      "cell_type": "code",
      "source": [
        "print(\"Data loss in % : \",(907-835)/907*100)"
      ],
      "metadata": {
        "colab": {
          "base_uri": "https://localhost:8080/"
        },
        "id": "i5U1TLEC8cDU",
        "outputId": "000a43a7-cb90-4899-8644-9b30a51ca283"
      },
      "execution_count": null,
      "outputs": [
        {
          "output_type": "stream",
          "name": "stdout",
          "text": [
            "Data loss in % :  7.938257993384785\n"
          ]
        }
      ]
    },
    {
      "cell_type": "markdown",
      "source": [
        "Out of 907 observations,almost 8% data is lost which is a very big number for the given database, lets check multicollinearity and skewness reduction and then we will decide to keep the lost data or not"
      ],
      "metadata": {
        "id": "kBJRwD6k96Oz"
      }
    },
    {
      "cell_type": "markdown",
      "source": [
        "**Skewness Reduction**"
      ],
      "metadata": {
        "id": "vj1ajrxy-pt7"
      }
    },
    {
      "cell_type": "code",
      "source": [
        "# Considering skewness reduction through PowerTransformer\n",
        "\n",
        "from sklearn.preprocessing import PowerTransformer\n",
        "\n",
        "pt = PowerTransformer()"
      ],
      "metadata": {
        "id": "8zkRNaeA8zz4"
      },
      "execution_count": 18,
      "outputs": []
    },
    {
      "cell_type": "code",
      "source": [
        "\n",
        "# Seperating features and target variable for regression task\n",
        "\n",
        "X_reg = df_new.drop('capacity_mw',axis=1)\n",
        "\n",
        "y_reg = df_new['capacity_mw']"
      ],
      "metadata": {
        "id": "syVeF7tn_5Ek"
      },
      "execution_count": 19,
      "outputs": []
    },
    {
      "cell_type": "code",
      "source": [
        "\n",
        "# Seperating features and target variable for classification task\n",
        "\n",
        "X_clf = df_new.drop('primary_fuel',axis=1)\n",
        "\n",
        "y_clf = df_new['primary_fuel']"
      ],
      "metadata": {
        "id": "wKu58566AFMs"
      },
      "execution_count": 20,
      "outputs": []
    },
    {
      "cell_type": "code",
      "source": [
        "X_new_ptr = pt.fit_transform(X_reg)\n",
        "\n",
        "X_new_ptc = pt.fit_transform(X_clf )\n",
        "\n",
        "# Converting numpy array(X_new_pt) into Dataframe and reassigning the values\n",
        "\n",
        "X_reg = pd.DataFrame(X_new_ptr,columns= X_reg.columns)\n",
        "\n",
        "X_clf = pd.DataFrame(X_new_ptc,columns= X_clf.columns)\n",
        "\n",
        "# Checking Skewness\n",
        "\n",
        "X_reg.skew().sort_values(ascending=False)"
      ],
      "metadata": {
        "colab": {
          "base_uri": "https://localhost:8080/"
        },
        "id": "MPNrizFTAii9",
        "outputId": "7bfaf86e-0991-4a88-c9c9-be13dc5b0e41"
      },
      "execution_count": 21,
      "outputs": [
        {
          "output_type": "execute_result",
          "data": {
            "text/plain": [
              "longitude             -0.000766\n",
              "primary_fuel          -0.057488\n",
              "latitude              -0.071759\n",
              "source                -0.179941\n",
              "generation_gwh_2014   -0.251408\n",
              "name                  -0.286147\n",
              "generation_gwh_2015   -0.313787\n",
              "generation_gwh_2016   -0.313789\n",
              "generation_gwh_2017   -0.344189\n",
              "generation_gwh_2018   -0.357624\n",
              "commissioning_year    -1.070265\n",
              "geolocation_source    -2.078069\n",
              "dtype: float64"
            ]
          },
          "metadata": {},
          "execution_count": 21
        }
      ]
    },
    {
      "cell_type": "code",
      "source": [
        "X_clf.skew().sort_values(ascending=False)   # Checking skewness for classification task features"
      ],
      "metadata": {
        "colab": {
          "base_uri": "https://localhost:8080/"
        },
        "id": "FB43sPMSDSfW",
        "outputId": "a385a23a-817b-4e4c-ce48-bf9a349ffaa4"
      },
      "execution_count": 18,
      "outputs": [
        {
          "output_type": "execute_result",
          "data": {
            "text/plain": [
              "capacity_mw            0.011820\n",
              "longitude             -0.000766\n",
              "latitude              -0.071759\n",
              "source                -0.179941\n",
              "generation_gwh_2014   -0.251408\n",
              "name                  -0.286147\n",
              "generation_gwh_2015   -0.313787\n",
              "generation_gwh_2016   -0.313789\n",
              "generation_gwh_2017   -0.344189\n",
              "generation_gwh_2018   -0.357624\n",
              "commissioning_year    -1.070265\n",
              "geolocation_source    -2.078069\n",
              "dtype: float64"
            ]
          },
          "metadata": {},
          "execution_count": 18
        }
      ]
    },
    {
      "cell_type": "markdown",
      "source": [
        "**Skewness of all the columns are within permissible limit except commissioning_year and geolocation_source**\n",
        "\n",
        "**geolocation_source** - categorical column and hence skewness is irrelevant \n",
        "\n",
        "**commissioning_year** - we need to reduce it below -0.5 but lets check multicollinearity first"
      ],
      "metadata": {
        "id": "dUcuovBFDwAs"
      }
    },
    {
      "cell_type": "markdown",
      "source": [
        "**Checking Multicollinearity**"
      ],
      "metadata": {
        "id": "GoYEFh_MGUn2"
      }
    },
    {
      "cell_type": "code",
      "source": [
        "# Standard Scaling\n",
        "\n",
        "from sklearn.preprocessing import StandardScaler\n",
        "scaler= StandardScaler()\n",
        "X_scaler = scaler.fit_transform(X_reg)"
      ],
      "metadata": {
        "id": "FIKJ5T8KLGu7"
      },
      "execution_count": 22,
      "outputs": []
    },
    {
      "cell_type": "code",
      "source": [
        "# Checking multicollinearity in the dataset\n",
        "from statsmodels.stats.outliers_influence import variance_inflation_factor\n",
        "vif = pd.DataFrame()\n",
        "vif['vif'] = [variance_inflation_factor(X_reg.values,i) for i in range(X_scaler.shape[1])]\n",
        "vif['Features'] = X_reg.columns\n",
        "\n",
        "vif"
      ],
      "metadata": {
        "colab": {
          "base_uri": "https://localhost:8080/",
          "height": 426
        },
        "id": "ut85TilSEgJC",
        "outputId": "bc0df359-92b7-42b1-a6c9-02d90f2295b7"
      },
      "execution_count": 23,
      "outputs": [
        {
          "output_type": "execute_result",
          "data": {
            "text/plain": [
              "          vif             Features\n",
              "0    1.039413                 name\n",
              "1    1.078465             latitude\n",
              "2    1.281719            longitude\n",
              "3    1.558805         primary_fuel\n",
              "4    1.273653   commissioning_year\n",
              "5    1.370379               source\n",
              "6    1.753561   geolocation_source\n",
              "7    4.195645  generation_gwh_2014\n",
              "8    7.994156  generation_gwh_2015\n",
              "9   11.875171  generation_gwh_2016\n",
              "10  11.545679  generation_gwh_2017\n",
              "11  12.293160  generation_gwh_2018"
            ],
            "text/html": [
              "\n",
              "  <div id=\"df-9a0bd410-2123-4698-8436-8f1e7339f954\">\n",
              "    <div class=\"colab-df-container\">\n",
              "      <div>\n",
              "<style scoped>\n",
              "    .dataframe tbody tr th:only-of-type {\n",
              "        vertical-align: middle;\n",
              "    }\n",
              "\n",
              "    .dataframe tbody tr th {\n",
              "        vertical-align: top;\n",
              "    }\n",
              "\n",
              "    .dataframe thead th {\n",
              "        text-align: right;\n",
              "    }\n",
              "</style>\n",
              "<table border=\"1\" class=\"dataframe\">\n",
              "  <thead>\n",
              "    <tr style=\"text-align: right;\">\n",
              "      <th></th>\n",
              "      <th>vif</th>\n",
              "      <th>Features</th>\n",
              "    </tr>\n",
              "  </thead>\n",
              "  <tbody>\n",
              "    <tr>\n",
              "      <th>0</th>\n",
              "      <td>1.039413</td>\n",
              "      <td>name</td>\n",
              "    </tr>\n",
              "    <tr>\n",
              "      <th>1</th>\n",
              "      <td>1.078465</td>\n",
              "      <td>latitude</td>\n",
              "    </tr>\n",
              "    <tr>\n",
              "      <th>2</th>\n",
              "      <td>1.281719</td>\n",
              "      <td>longitude</td>\n",
              "    </tr>\n",
              "    <tr>\n",
              "      <th>3</th>\n",
              "      <td>1.558805</td>\n",
              "      <td>primary_fuel</td>\n",
              "    </tr>\n",
              "    <tr>\n",
              "      <th>4</th>\n",
              "      <td>1.273653</td>\n",
              "      <td>commissioning_year</td>\n",
              "    </tr>\n",
              "    <tr>\n",
              "      <th>5</th>\n",
              "      <td>1.370379</td>\n",
              "      <td>source</td>\n",
              "    </tr>\n",
              "    <tr>\n",
              "      <th>6</th>\n",
              "      <td>1.753561</td>\n",
              "      <td>geolocation_source</td>\n",
              "    </tr>\n",
              "    <tr>\n",
              "      <th>7</th>\n",
              "      <td>4.195645</td>\n",
              "      <td>generation_gwh_2014</td>\n",
              "    </tr>\n",
              "    <tr>\n",
              "      <th>8</th>\n",
              "      <td>7.994156</td>\n",
              "      <td>generation_gwh_2015</td>\n",
              "    </tr>\n",
              "    <tr>\n",
              "      <th>9</th>\n",
              "      <td>11.875171</td>\n",
              "      <td>generation_gwh_2016</td>\n",
              "    </tr>\n",
              "    <tr>\n",
              "      <th>10</th>\n",
              "      <td>11.545679</td>\n",
              "      <td>generation_gwh_2017</td>\n",
              "    </tr>\n",
              "    <tr>\n",
              "      <th>11</th>\n",
              "      <td>12.293160</td>\n",
              "      <td>generation_gwh_2018</td>\n",
              "    </tr>\n",
              "  </tbody>\n",
              "</table>\n",
              "</div>\n",
              "      <button class=\"colab-df-convert\" onclick=\"convertToInteractive('df-9a0bd410-2123-4698-8436-8f1e7339f954')\"\n",
              "              title=\"Convert this dataframe to an interactive table.\"\n",
              "              style=\"display:none;\">\n",
              "        \n",
              "  <svg xmlns=\"http://www.w3.org/2000/svg\" height=\"24px\"viewBox=\"0 0 24 24\"\n",
              "       width=\"24px\">\n",
              "    <path d=\"M0 0h24v24H0V0z\" fill=\"none\"/>\n",
              "    <path d=\"M18.56 5.44l.94 2.06.94-2.06 2.06-.94-2.06-.94-.94-2.06-.94 2.06-2.06.94zm-11 1L8.5 8.5l.94-2.06 2.06-.94-2.06-.94L8.5 2.5l-.94 2.06-2.06.94zm10 10l.94 2.06.94-2.06 2.06-.94-2.06-.94-.94-2.06-.94 2.06-2.06.94z\"/><path d=\"M17.41 7.96l-1.37-1.37c-.4-.4-.92-.59-1.43-.59-.52 0-1.04.2-1.43.59L10.3 9.45l-7.72 7.72c-.78.78-.78 2.05 0 2.83L4 21.41c.39.39.9.59 1.41.59.51 0 1.02-.2 1.41-.59l7.78-7.78 2.81-2.81c.8-.78.8-2.07 0-2.86zM5.41 20L4 18.59l7.72-7.72 1.47 1.35L5.41 20z\"/>\n",
              "  </svg>\n",
              "      </button>\n",
              "      \n",
              "  <style>\n",
              "    .colab-df-container {\n",
              "      display:flex;\n",
              "      flex-wrap:wrap;\n",
              "      gap: 12px;\n",
              "    }\n",
              "\n",
              "    .colab-df-convert {\n",
              "      background-color: #E8F0FE;\n",
              "      border: none;\n",
              "      border-radius: 50%;\n",
              "      cursor: pointer;\n",
              "      display: none;\n",
              "      fill: #1967D2;\n",
              "      height: 32px;\n",
              "      padding: 0 0 0 0;\n",
              "      width: 32px;\n",
              "    }\n",
              "\n",
              "    .colab-df-convert:hover {\n",
              "      background-color: #E2EBFA;\n",
              "      box-shadow: 0px 1px 2px rgba(60, 64, 67, 0.3), 0px 1px 3px 1px rgba(60, 64, 67, 0.15);\n",
              "      fill: #174EA6;\n",
              "    }\n",
              "\n",
              "    [theme=dark] .colab-df-convert {\n",
              "      background-color: #3B4455;\n",
              "      fill: #D2E3FC;\n",
              "    }\n",
              "\n",
              "    [theme=dark] .colab-df-convert:hover {\n",
              "      background-color: #434B5C;\n",
              "      box-shadow: 0px 1px 3px 1px rgba(0, 0, 0, 0.15);\n",
              "      filter: drop-shadow(0px 1px 2px rgba(0, 0, 0, 0.3));\n",
              "      fill: #FFFFFF;\n",
              "    }\n",
              "  </style>\n",
              "\n",
              "      <script>\n",
              "        const buttonEl =\n",
              "          document.querySelector('#df-9a0bd410-2123-4698-8436-8f1e7339f954 button.colab-df-convert');\n",
              "        buttonEl.style.display =\n",
              "          google.colab.kernel.accessAllowed ? 'block' : 'none';\n",
              "\n",
              "        async function convertToInteractive(key) {\n",
              "          const element = document.querySelector('#df-9a0bd410-2123-4698-8436-8f1e7339f954');\n",
              "          const dataTable =\n",
              "            await google.colab.kernel.invokeFunction('convertToInteractive',\n",
              "                                                     [key], {});\n",
              "          if (!dataTable) return;\n",
              "\n",
              "          const docLinkHtml = 'Like what you see? Visit the ' +\n",
              "            '<a target=\"_blank\" href=https://colab.research.google.com/notebooks/data_table.ipynb>data table notebook</a>'\n",
              "            + ' to learn more about interactive tables.';\n",
              "          element.innerHTML = '';\n",
              "          dataTable['output_type'] = 'display_data';\n",
              "          await google.colab.output.renderOutput(dataTable, element);\n",
              "          const docLink = document.createElement('div');\n",
              "          docLink.innerHTML = docLinkHtml;\n",
              "          element.appendChild(docLink);\n",
              "        }\n",
              "      </script>\n",
              "    </div>\n",
              "  </div>\n",
              "  "
            ]
          },
          "metadata": {},
          "execution_count": 23
        }
      ]
    },
    {
      "cell_type": "markdown",
      "source": [
        "**Permissible limit of Multicollinearity is 10**\n",
        "\n",
        "To proceed further,  we need to drop generation_gwh_2016,generation_gwh_2017 and generation_gwh_2018 which has high multicollinearity \n",
        "\n",
        "**OR**\n",
        "\n",
        "We can perform PCA to reduce the effect of multicollinearity"
      ],
      "metadata": {
        "id": "Mv7YW4hNNZ69"
      }
    },
    {
      "cell_type": "markdown",
      "source": [
        "**Principal Component Analysis**"
      ],
      "metadata": {
        "id": "s7IS2LbMQH6U"
      }
    },
    {
      "cell_type": "code",
      "source": [
        "df_new.shape"
      ],
      "metadata": {
        "colab": {
          "base_uri": "https://localhost:8080/"
        },
        "id": "EBYaMaovQGlL",
        "outputId": "c649e985-1ce4-492c-9f1d-90c9a9896468"
      },
      "execution_count": 21,
      "outputs": [
        {
          "output_type": "execute_result",
          "data": {
            "text/plain": [
              "(835, 13)"
            ]
          },
          "metadata": {},
          "execution_count": 21
        }
      ]
    },
    {
      "cell_type": "code",
      "source": [
        "from sklearn.decomposition import PCA\n",
        "\n",
        "pca = PCA()\n",
        "\n",
        "pca.fit_transform(X_scaler)"
      ],
      "metadata": {
        "colab": {
          "base_uri": "https://localhost:8080/"
        },
        "id": "ZxGMBjSMT_3N",
        "outputId": "9e74a2af-e283-499f-91cc-96cdf9dd239f"
      },
      "execution_count": 24,
      "outputs": [
        {
          "output_type": "execute_result",
          "data": {
            "text/plain": [
              "array([[ 1.45553790e+00,  3.02840008e+00, -1.87351326e+00, ...,\n",
              "        -4.41158981e-02, -9.45714282e-03,  2.12877465e-02],\n",
              "       [ 1.15075557e+00,  4.63199065e-01, -2.64467526e+00, ...,\n",
              "        -6.30598103e-02,  1.34800196e-02,  1.37139697e-02],\n",
              "       [ 1.05379176e+00,  1.54565309e+00, -1.98282351e-01, ...,\n",
              "        -8.85996293e-02, -3.47913149e-02, -1.19174738e-03],\n",
              "       ...,\n",
              "       [ 8.61783491e-01,  9.48553559e-02,  2.25057785e+00, ...,\n",
              "         1.78168992e-02,  9.72942912e-03, -2.15979852e-02],\n",
              "       [ 1.08316936e+00, -1.11267311e-01,  1.38116449e-01, ...,\n",
              "         3.75909218e-02,  1.16421243e-02, -2.95201389e-02],\n",
              "       [ 7.85390365e-01, -2.76590119e-01,  2.59632392e+00, ...,\n",
              "         1.38851610e-02,  1.20943911e-02, -1.95808956e-02]])"
            ]
          },
          "metadata": {},
          "execution_count": 24
        }
      ]
    },
    {
      "cell_type": "code",
      "source": [
        "# Lets plot scree plot to check the best components\n",
        "\n",
        "plt.figure()\n",
        "plt.plot(np.cumsum(pca.explained_variance_ratio_))\n",
        "plt.xlabel('Principal Components')\n",
        "plt.ylabel('Variance Covered')\n",
        "plt.title('PCA')\n",
        "plt.show()"
      ],
      "metadata": {
        "colab": {
          "base_uri": "https://localhost:8080/",
          "height": 295
        },
        "id": "fEBwWayIUYBy",
        "outputId": "5a2ec439-253b-4e5e-dde9-2d70b5cb52fe"
      },
      "execution_count": null,
      "outputs": [
        {
          "output_type": "display_data",
          "data": {
            "text/plain": [
              "<Figure size 432x288 with 1 Axes>"
            ],
            "image/png": "[encoded data removed]"
          },
          "metadata": {
            "needs_background": "light"
          }
        }
      ]
    },
    {
      "cell_type": "markdown",
      "source": [
        "**Around 8 components are able to explain >95% variance. Its safe to consider 8 PC's**"
      ],
      "metadata": {
        "id": "zCkLQEdlU7Yc"
      }
    },
    {
      "cell_type": "code",
      "source": [
        "pca = PCA(n_components=8)\n",
        "new_pcomp = pca.fit_transform(X_scaler)\n",
        "princ_comp = pd.DataFrame(new_pcomp,columns=['PC1','PC2','PC3','PC4','PC5','PC6','PC7','PC8'])\n",
        "princ_comp"
      ],
      "metadata": {
        "colab": {
          "base_uri": "https://localhost:8080/",
          "height": 424
        },
        "id": "0tB4C93mVLBP",
        "outputId": "3352eb0d-b3cd-4f77-d8f7-c754f5e15c51"
      },
      "execution_count": 25,
      "outputs": [
        {
          "output_type": "execute_result",
          "data": {
            "text/plain": [
              "          PC1       PC2       PC3       PC4       PC5       PC6       PC7  \\\n",
              "0    1.455538  3.028400 -1.873513  0.549678  0.613751 -0.301512  1.088124   \n",
              "1    1.150756  0.463199 -2.644675 -0.899473  1.032177 -0.948520 -0.431074   \n",
              "2    1.053792  1.545653 -0.198282  1.645576  2.315067 -0.539906 -1.231844   \n",
              "3   -2.204627 -1.032991 -2.162597  0.390063  0.715847  1.371661  1.157717   \n",
              "4    3.378265 -1.878526 -1.875195  0.516195  1.337276  0.865165  0.443465   \n",
              "..        ...       ...       ...       ...       ...       ...       ...   \n",
              "830 -2.011357 -0.524768  0.893530 -1.500410 -0.590077  0.591763 -1.090813   \n",
              "831  1.356129  1.762842  1.572405 -1.741327 -0.637067  0.803175  1.643457   \n",
              "832  0.861783  0.094855  2.250578 -0.177000 -0.038643  0.684549 -0.398070   \n",
              "833  1.083169 -0.111267  0.138116 -1.141112 -1.305921 -0.641947 -1.365610   \n",
              "834  0.785390 -0.276590  2.596324 -0.652392  0.380676  0.919344  0.076632   \n",
              "\n",
              "          PC8  \n",
              "0   -0.008877  \n",
              "1    0.173574  \n",
              "2    0.194037  \n",
              "3   -0.010829  \n",
              "4    0.501146  \n",
              "..        ...  \n",
              "830 -0.403595  \n",
              "831 -0.249246  \n",
              "832  0.124605  \n",
              "833  0.112035  \n",
              "834  0.054315  \n",
              "\n",
              "[835 rows x 8 columns]"
            ],
            "text/html": [
              "\n",
              "  <div id=\"df-2ab299a3-5edb-464d-8b9d-87783046325b\">\n",
              "    <div class=\"colab-df-container\">\n",
              "      <div>\n",
              "<style scoped>\n",
              "    .dataframe tbody tr th:only-of-type {\n",
              "        vertical-align: middle;\n",
              "    }\n",
              "\n",
              "    .dataframe tbody tr th {\n",
              "        vertical-align: top;\n",
              "    }\n",
              "\n",
              "    .dataframe thead th {\n",
              "        text-align: right;\n",
              "    }\n",
              "</style>\n",
              "<table border=\"1\" class=\"dataframe\">\n",
              "  <thead>\n",
              "    <tr style=\"text-align: right;\">\n",
              "      <th></th>\n",
              "      <th>PC1</th>\n",
              "      <th>PC2</th>\n",
              "      <th>PC3</th>\n",
              "      <th>PC4</th>\n",
              "      <th>PC5</th>\n",
              "      <th>PC6</th>\n",
              "      <th>PC7</th>\n",
              "      <th>PC8</th>\n",
              "    </tr>\n",
              "  </thead>\n",
              "  <tbody>\n",
              "    <tr>\n",
              "      <th>0</th>\n",
              "      <td>1.455538</td>\n",
              "      <td>3.028400</td>\n",
              "      <td>-1.873513</td>\n",
              "      <td>0.549678</td>\n",
              "      <td>0.613751</td>\n",
              "      <td>-0.301512</td>\n",
              "      <td>1.088124</td>\n",
              "      <td>-0.008877</td>\n",
              "    </tr>\n",
              "    <tr>\n",
              "      <th>1</th>\n",
              "      <td>1.150756</td>\n",
              "      <td>0.463199</td>\n",
              "      <td>-2.644675</td>\n",
              "      <td>-0.899473</td>\n",
              "      <td>1.032177</td>\n",
              "      <td>-0.948520</td>\n",
              "      <td>-0.431074</td>\n",
              "      <td>0.173574</td>\n",
              "    </tr>\n",
              "    <tr>\n",
              "      <th>2</th>\n",
              "      <td>1.053792</td>\n",
              "      <td>1.545653</td>\n",
              "      <td>-0.198282</td>\n",
              "      <td>1.645576</td>\n",
              "      <td>2.315067</td>\n",
              "      <td>-0.539906</td>\n",
              "      <td>-1.231844</td>\n",
              "      <td>0.194037</td>\n",
              "    </tr>\n",
              "    <tr>\n",
              "      <th>3</th>\n",
              "      <td>-2.204627</td>\n",
              "      <td>-1.032991</td>\n",
              "      <td>-2.162597</td>\n",
              "      <td>0.390063</td>\n",
              "      <td>0.715847</td>\n",
              "      <td>1.371661</td>\n",
              "      <td>1.157717</td>\n",
              "      <td>-0.010829</td>\n",
              "    </tr>\n",
              "    <tr>\n",
              "      <th>4</th>\n",
              "      <td>3.378265</td>\n",
              "      <td>-1.878526</td>\n",
              "      <td>-1.875195</td>\n",
              "      <td>0.516195</td>\n",
              "      <td>1.337276</td>\n",
              "      <td>0.865165</td>\n",
              "      <td>0.443465</td>\n",
              "      <td>0.501146</td>\n",
              "    </tr>\n",
              "    <tr>\n",
              "      <th>...</th>\n",
              "      <td>...</td>\n",
              "      <td>...</td>\n",
              "      <td>...</td>\n",
              "      <td>...</td>\n",
              "      <td>...</td>\n",
              "      <td>...</td>\n",
              "      <td>...</td>\n",
              "      <td>...</td>\n",
              "    </tr>\n",
              "    <tr>\n",
              "      <th>830</th>\n",
              "      <td>-2.011357</td>\n",
              "      <td>-0.524768</td>\n",
              "      <td>0.893530</td>\n",
              "      <td>-1.500410</td>\n",
              "      <td>-0.590077</td>\n",
              "      <td>0.591763</td>\n",
              "      <td>-1.090813</td>\n",
              "      <td>-0.403595</td>\n",
              "    </tr>\n",
              "    <tr>\n",
              "      <th>831</th>\n",
              "      <td>1.356129</td>\n",
              "      <td>1.762842</td>\n",
              "      <td>1.572405</td>\n",
              "      <td>-1.741327</td>\n",
              "      <td>-0.637067</td>\n",
              "      <td>0.803175</td>\n",
              "      <td>1.643457</td>\n",
              "      <td>-0.249246</td>\n",
              "    </tr>\n",
              "    <tr>\n",
              "      <th>832</th>\n",
              "      <td>0.861783</td>\n",
              "      <td>0.094855</td>\n",
              "      <td>2.250578</td>\n",
              "      <td>-0.177000</td>\n",
              "      <td>-0.038643</td>\n",
              "      <td>0.684549</td>\n",
              "      <td>-0.398070</td>\n",
              "      <td>0.124605</td>\n",
              "    </tr>\n",
              "    <tr>\n",
              "      <th>833</th>\n",
              "      <td>1.083169</td>\n",
              "      <td>-0.111267</td>\n",
              "      <td>0.138116</td>\n",
              "      <td>-1.141112</td>\n",
              "      <td>-1.305921</td>\n",
              "      <td>-0.641947</td>\n",
              "      <td>-1.365610</td>\n",
              "      <td>0.112035</td>\n",
              "    </tr>\n",
              "    <tr>\n",
              "      <th>834</th>\n",
              "      <td>0.785390</td>\n",
              "      <td>-0.276590</td>\n",
              "      <td>2.596324</td>\n",
              "      <td>-0.652392</td>\n",
              "      <td>0.380676</td>\n",
              "      <td>0.919344</td>\n",
              "      <td>0.076632</td>\n",
              "      <td>0.054315</td>\n",
              "    </tr>\n",
              "  </tbody>\n",
              "</table>\n",
              "<p>835 rows × 8 columns</p>\n",
              "</div>\n",
              "      <button class=\"colab-df-convert\" onclick=\"convertToInteractive('df-2ab299a3-5edb-464d-8b9d-87783046325b')\"\n",
              "              title=\"Convert this dataframe to an interactive table.\"\n",
              "              style=\"display:none;\">\n",
              "        \n",
              "  <svg xmlns=\"http://www.w3.org/2000/svg\" height=\"24px\"viewBox=\"0 0 24 24\"\n",
              "       width=\"24px\">\n",
              "    <path d=\"M0 0h24v24H0V0z\" fill=\"none\"/>\n",
              "    <path d=\"M18.56 5.44l.94 2.06.94-2.06 2.06-.94-2.06-.94-.94-2.06-.94 2.06-2.06.94zm-11 1L8.5 8.5l.94-2.06 2.06-.94-2.06-.94L8.5 2.5l-.94 2.06-2.06.94zm10 10l.94 2.06.94-2.06 2.06-.94-2.06-.94-.94-2.06-.94 2.06-2.06.94z\"/><path d=\"M17.41 7.96l-1.37-1.37c-.4-.4-.92-.59-1.43-.59-.52 0-1.04.2-1.43.59L10.3 9.45l-7.72 7.72c-.78.78-.78 2.05 0 2.83L4 21.41c.39.39.9.59 1.41.59.51 0 1.02-.2 1.41-.59l7.78-7.78 2.81-2.81c.8-.78.8-2.07 0-2.86zM5.41 20L4 18.59l7.72-7.72 1.47 1.35L5.41 20z\"/>\n",
              "  </svg>\n",
              "      </button>\n",
              "      \n",
              "  <style>\n",
              "    .colab-df-container {\n",
              "      display:flex;\n",
              "      flex-wrap:wrap;\n",
              "      gap: 12px;\n",
              "    }\n",
              "\n",
              "    .colab-df-convert {\n",
              "      background-color: #E8F0FE;\n",
              "      border: none;\n",
              "      border-radius: 50%;\n",
              "      cursor: pointer;\n",
              "      display: none;\n",
              "      fill: #1967D2;\n",
              "      height: 32px;\n",
              "      padding: 0 0 0 0;\n",
              "      width: 32px;\n",
              "    }\n",
              "\n",
              "    .colab-df-convert:hover {\n",
              "      background-color: #E2EBFA;\n",
              "      box-shadow: 0px 1px 2px rgba(60, 64, 67, 0.3), 0px 1px 3px 1px rgba(60, 64, 67, 0.15);\n",
              "      fill: #174EA6;\n",
              "    }\n",
              "\n",
              "    [theme=dark] .colab-df-convert {\n",
              "      background-color: #3B4455;\n",
              "      fill: #D2E3FC;\n",
              "    }\n",
              "\n",
              "    [theme=dark] .colab-df-convert:hover {\n",
              "      background-color: #434B5C;\n",
              "      box-shadow: 0px 1px 3px 1px rgba(0, 0, 0, 0.15);\n",
              "      filter: drop-shadow(0px 1px 2px rgba(0, 0, 0, 0.3));\n",
              "      fill: #FFFFFF;\n",
              "    }\n",
              "  </style>\n",
              "\n",
              "      <script>\n",
              "        const buttonEl =\n",
              "          document.querySelector('#df-2ab299a3-5edb-464d-8b9d-87783046325b button.colab-df-convert');\n",
              "        buttonEl.style.display =\n",
              "          google.colab.kernel.accessAllowed ? 'block' : 'none';\n",
              "\n",
              "        async function convertToInteractive(key) {\n",
              "          const element = document.querySelector('#df-2ab299a3-5edb-464d-8b9d-87783046325b');\n",
              "          const dataTable =\n",
              "            await google.colab.kernel.invokeFunction('convertToInteractive',\n",
              "                                                     [key], {});\n",
              "          if (!dataTable) return;\n",
              "\n",
              "          const docLinkHtml = 'Like what you see? Visit the ' +\n",
              "            '<a target=\"_blank\" href=https://colab.research.google.com/notebooks/data_table.ipynb>data table notebook</a>'\n",
              "            + ' to learn more about interactive tables.';\n",
              "          element.innerHTML = '';\n",
              "          dataTable['output_type'] = 'display_data';\n",
              "          await google.colab.output.renderOutput(dataTable, element);\n",
              "          const docLink = document.createElement('div');\n",
              "          docLink.innerHTML = docLinkHtml;\n",
              "          element.appendChild(docLink);\n",
              "        }\n",
              "      </script>\n",
              "    </div>\n",
              "  </div>\n",
              "  "
            ]
          },
          "metadata": {},
          "execution_count": 25
        }
      ]
    },
    {
      "cell_type": "markdown",
      "source": [
        "**Model Building - Regression Task**"
      ],
      "metadata": {
        "id": "f9SL-7RbVzx-"
      }
    },
    {
      "cell_type": "markdown",
      "source": [
        "**Target variable for regression - capacity_mw**"
      ],
      "metadata": {
        "id": "h1WcWMxoRylu"
      }
    },
    {
      "cell_type": "code",
      "source": [
        "# Importing required libraries\n",
        "\n",
        "from sklearn.model_selection import train_test_split,GridSearchCV\n",
        "from sklearn.linear_model import LinearRegression\n",
        "from sklearn.linear_model import Ridge, Lasso, RidgeCV, LassoCV\n",
        "from sklearn.tree import DecisionTreeRegressor\n",
        "from sklearn.metrics import r2_score,mean_absolute_error,mean_squared_error\n",
        "from sklearn.ensemble import RandomForestRegressor\n",
        "from sklearn.neighbors import KNeighborsRegressor\n",
        "from sklearn.svm import SVR\n",
        "from sklearn.ensemble import AdaBoostRegressor, GradientBoostingRegressor\n",
        "import pickle\n",
        "from sklearn import metrics\n",
        "from sklearn.model_selection import cross_val_score"
      ],
      "metadata": {
        "id": "cnS3Zp5VVpcP"
      },
      "execution_count": 4,
      "outputs": []
    },
    {
      "cell_type": "markdown",
      "source": [
        "**Best Random State**"
      ],
      "metadata": {
        "id": "7nTQXHl5Vki6"
      }
    },
    {
      "cell_type": "code",
      "source": [
        "maxR2score = 0 # Max R2 score\n",
        "maxRS = 0   # Best random state for which maximum r2 score is achieved\n",
        "\n",
        "for i in range(1,100):\n",
        "    X_train,X_test,y_train,y_test = train_test_split(princ_comp,y_reg,test_size=0.2,random_state=i)\n",
        "    \n",
        "    lr = LinearRegression()\n",
        "    \n",
        "    lr.fit(X_train,y_train)\n",
        "    \n",
        "    pred_lr = lr.predict(X_test)\n",
        "   \n",
        "    score_lr = r2_score(y_test,pred_lr)\n",
        "     \n",
        "    \n",
        "    if score_lr>maxR2score:\n",
        "   \n",
        "        maxR2score = score_lr\n",
        "              \n",
        "        maxRS = i\n",
        "        \n",
        "print(\"Maximum R2 Score:\",maxR2score,\"at random state \", maxRS)"
      ],
      "metadata": {
        "colab": {
          "base_uri": "https://localhost:8080/"
        },
        "id": "3-XLVXKkWBlp",
        "outputId": "c46055f9-2330-4751-aea3-763f571fcfec"
      },
      "execution_count": 27,
      "outputs": [
        {
          "output_type": "stream",
          "name": "stdout",
          "text": [
            "Maximum R2 Score: 0.4852667285373049 at random state  65\n"
          ]
        }
      ]
    },
    {
      "cell_type": "markdown",
      "source": [
        "**Linear Regression Model**"
      ],
      "metadata": {
        "id": "lHPzT5wJVJER"
      }
    },
    {
      "cell_type": "code",
      "source": [
        "lr = LinearRegression()\n",
        "\n",
        "X_train,X_test,y_train,y_test = train_test_split(princ_comp,y_reg,test_size=0.2,random_state=65)\n",
        "\n",
        "lr.fit(X_train,y_train)\n",
        "\n",
        "pred_train = lr.predict(X_train)\n",
        "\n",
        "pred_test = lr.predict(X_test)\n",
        "\n",
        "score_train = r2_score(y_train,pred_train)\n",
        "\n",
        "score_test = r2_score(y_test,pred_test)\n",
        "\n",
        "print(\"Training accuracy:\",score_train*100)\n",
        "\n",
        "print(\"Testing accuracy:\",score_test*100)\n",
        "\n",
        "cv_score = cross_val_score(lr,princ_comp,y_reg,cv=5)\n",
        "\n",
        "cv_mean = cv_score.mean()\n",
        "\n",
        "print(f\"At cross fold 5, the cv score is {cv_mean} and accuracy score for training is {score_train} and accuracy for testing is {score_test}\")\n",
        "\n",
        "# MSE - ignoring some outliers means larger errors are punished. Hard to interpretate but most popular\n",
        "\n",
        "mse = mean_squared_error(y_test,pred_test)\n",
        "\n",
        "# RMSE\n",
        "\n",
        "rmse = np.sqrt(mse)\n",
        "\n",
        "print(\"Root mean squared Error:\",rmse)"
      ],
      "metadata": {
        "colab": {
          "base_uri": "https://localhost:8080/"
        },
        "id": "cUDtqY7fSDBe",
        "outputId": "d928ec86-bbb4-4a41-eba1-4b2904a13409"
      },
      "execution_count": 28,
      "outputs": [
        {
          "output_type": "stream",
          "name": "stdout",
          "text": [
            "Training accuracy: 33.64140819570297\n",
            "Testing accuracy: 48.52667285373049\n",
            "At cross fold 5, the cv score is 0.33154385556311305 and accuracy score for training is 0.3364140819570297 and accuracy for testing is 0.4852667285373049\n",
            "Root mean squared Error: 279.0629471472192\n"
          ]
        }
      ]
    },
    {
      "cell_type": "markdown",
      "source": [
        "**Lasso Regularization**"
      ],
      "metadata": {
        "id": "cl6OILEeWyGI"
      }
    },
    {
      "cell_type": "code",
      "source": [
        "lasscv = LassoCV(alphas = None, max_iter = 1000, normalize = True)\n",
        "\n",
        "lasscv.fit(X_train,y_train)\n",
        "\n",
        "#Best alpha parameter\n",
        "alpha = lasscv.alpha_\n",
        "\n",
        "lasso_reg =Lasso(alpha)\n",
        "\n",
        "lasso_reg.fit(X_train,y_train)\n",
        "\n",
        "pred_test = lasso_reg.predict(X_test)\n",
        "\n",
        "print(lasso_reg.score(X_test,y_test)*100)"
      ],
      "metadata": {
        "colab": {
          "base_uri": "https://localhost:8080/"
        },
        "id": "GZeJ7PmnSC0T",
        "outputId": "2dc3b0f4-77d1-43ad-9441-f552ef26b662"
      },
      "execution_count": null,
      "outputs": [
        {
          "output_type": "stream",
          "name": "stdout",
          "text": [
            "48.52943206438787\n"
          ]
        }
      ]
    },
    {
      "cell_type": "markdown",
      "source": [
        "**Need to try more models as we can see clearly that the Linear regression model doesn't fit good for the given database**"
      ],
      "metadata": {
        "id": "_vNsoHPcX_bu"
      }
    },
    {
      "cell_type": "markdown",
      "source": [
        "**KNN Regressor**"
      ],
      "metadata": {
        "id": "FE2JIp3bZ-Zj"
      }
    },
    {
      "cell_type": "code",
      "source": [
        "knn = KNeighborsRegressor()\n",
        "\n",
        "knn.fit(X_train,y_train)\n",
        "\n",
        "pred_train = knn.predict(X_train)       # Predicting training data with the model\n",
        "\n",
        "acc_train = metrics.r2_score(y_train,pred_train)    # Training accuracy\n",
        "\n",
        "print(\"=====K Neighbors Regressor=====\")\n",
        "\n",
        "print(\"R square score for training dataset for K Neighbors regressor: \", acc_train)\n",
        "\n",
        "pred_test = knn.predict(X_test)       # Predicting test data with the model\n",
        "\n",
        "acc_test = metrics.r2_score(y_test,pred_test)     # Testing accuracy\n",
        "\n",
        "print(\"R square score for test dataset for K Neighbors Regressor: \", acc_test)\n",
        "\n",
        "knn_score = cross_val_score(knn,princ_comp,y_reg,cv=5)\n",
        "\n",
        "knn_m = knn_score.mean()\n",
        "\n",
        "print(\"Cross val score for K Neighbors Regresor:\",knn_m*100)\n",
        "\n",
        "\n",
        "mse = mean_squared_error(y_test,pred_test)\n",
        "\n",
        "# RMSE\n",
        "\n",
        "rmse = np.sqrt(mse)\n",
        "\n",
        "print(\"Root mean squared Error for K Neighbors Regressor:\",rmse)\n"
      ],
      "metadata": {
        "colab": {
          "base_uri": "https://localhost:8080/"
        },
        "id": "bgWq05z9SClg",
        "outputId": "92843c51-f460-44a9-ab0d-6c7a99012f4e"
      },
      "execution_count": 29,
      "outputs": [
        {
          "output_type": "stream",
          "name": "stdout",
          "text": [
            "=====K Neighbors Regressor=====\n",
            "R square score for training dataset for K Neighbors regressor:  0.7760256231061808\n",
            "R square score for test dataset for K Neighbors Regressor:  0.7693105772571449\n",
            "Cross val score for K Neighbors Regresor: 65.99179267754893\n",
            "Root mean squared Error for K Neighbors Regressor: 186.82065783866392\n"
          ]
        }
      ]
    },
    {
      "cell_type": "markdown",
      "source": [
        "**We get improved performance with KNN Regressor when compared to Linear Regression model**"
      ],
      "metadata": {
        "id": "vMKt_F_2agF2"
      }
    },
    {
      "cell_type": "markdown",
      "source": [
        "**Tuning parameters for KNN Regressor**"
      ],
      "metadata": {
        "id": "I3fhYEWQd8MF"
      }
    },
    {
      "cell_type": "code",
      "source": [
        "params_knn = {'n_neighbors':[4,5,6,7,8],\n",
        "              'weights':['uniform','distance'],\n",
        "              'algorithm':['auto','ball_tree', 'kd_tree', 'brute'],\n",
        "              'n_jobs':[-1,1]\n",
        "             }\n",
        "\n",
        "grd_knn = GridSearchCV(knn,params_knn)\n",
        "\n",
        "grd_knn.fit(X_train,y_train)\n",
        "\n",
        "print(grd_knn.best_params_)"
      ],
      "metadata": {
        "colab": {
          "base_uri": "https://localhost:8080/"
        },
        "id": "a9ICtGRESCUE",
        "outputId": "b6669663-1093-417a-cc08-3d77f898760f"
      },
      "execution_count": null,
      "outputs": [
        {
          "output_type": "stream",
          "name": "stdout",
          "text": [
            "{'algorithm': 'brute', 'n_jobs': -1, 'n_neighbors': 6, 'weights': 'distance'}\n"
          ]
        }
      ]
    },
    {
      "cell_type": "code",
      "source": [
        "knn = grd_knn.best_estimator_\n",
        "\n",
        "knn.fit(X_train,y_train)\n",
        "\n",
        "pred_train = knn.predict(X_train)       # Predicting training data with the model\n",
        "\n",
        "acc_train = metrics.r2_score(y_train,pred_train)    # Training accuracy\n",
        "\n",
        "print(\"R square score for training dataset for K Neighbors regressor after tuning: \", acc_train)\n",
        "\n",
        "pred_test = knn.predict(X_test)       # Predicting test data with the model\n",
        "\n",
        "acc_test = metrics.r2_score(y_test,pred_test)\n",
        "\n",
        "print(\"R square score for test dataset for K Neighbors Regressor after tuning: \", acc_test)\n",
        "\n",
        "knn_score = cross_val_score(knn,princ_comp,y_reg,cv=5)\n",
        "\n",
        "knn_m = knn_score.mean()\n",
        "\n",
        "print(\"Cross val score for K Neighbors Regresor after tuning:\",knn_m*100)\n",
        "\n",
        "\n",
        "mse = mean_squared_error(y_test,pred_test)\n",
        "\n",
        "# RMSE\n",
        "\n",
        "rmse = np.sqrt(mse)\n",
        "\n",
        "print(\"Root mean squared Error for K Neighbors Regressor after tuning:\",rmse)\n"
      ],
      "metadata": {
        "colab": {
          "base_uri": "https://localhost:8080/"
        },
        "id": "EEbUPQxySCDh",
        "outputId": "20310938-36a2-44a5-c80f-4737c253ac43"
      },
      "execution_count": null,
      "outputs": [
        {
          "output_type": "stream",
          "name": "stdout",
          "text": [
            "R square score for training dataset for K Neighbors regressor after tuning:  0.9999999999999987\n",
            "R square score for test dataset for K Neighbors Regressor after tuning:  0.7832313153718937\n",
            "Cross val score for K Neighbors Regresor after tuning: 67.39803974162557\n",
            "Root mean squared Error for K Neighbors Regressor after tuning: 181.0961956294183\n"
          ]
        }
      ]
    },
    {
      "cell_type": "markdown",
      "source": [
        "**Random Forest Regressor**"
      ],
      "metadata": {
        "id": "Jg-sJaL9etmJ"
      }
    },
    {
      "cell_type": "code",
      "source": [
        "rf = RandomForestRegressor()\n",
        "\n",
        "rf.fit(X_train,y_train)\n",
        "\n",
        "rf.score(X_train,y_train)\n",
        "\n",
        "pred_train = rf.predict(X_train)\n",
        "\n",
        "pred_test = rf.predict(X_test)\n",
        "\n",
        "score_train = r2_score(y_train,pred_train)\n",
        "\n",
        "score_test = r2_score(y_test,pred_test)\n",
        "\n",
        "print(\"=====RANDOM FOREST REGRESSOR=====\")\n",
        "\n",
        "print(\"Training accuracy for Random Forest model:\",score_train*100)\n",
        "\n",
        "print(\"Testing accuracy for Random Forest model:\",score_test*100)\n",
        "\n",
        "cv_score = cross_val_score(rf,princ_comp,y_reg,cv=5)\n",
        "\n",
        "cv_mean = cv_score.mean()\n",
        "\n",
        "print(f\"At cross fold 5, the cv score is {cv_mean*100} \")\n",
        "\n",
        "# MSE - ignoring some outliers means larger errors are punished. Hard to interpretate but most popular\n",
        "\n",
        "mse = mean_squared_error(y_test,pred_test)\n",
        "\n",
        "# RMSE\n",
        "\n",
        "rmse = np.sqrt(mse)\n",
        "\n",
        "print(\"Root mean squared Error for Random Forest Regressor:\",rmse)\n"
      ],
      "metadata": {
        "colab": {
          "base_uri": "https://localhost:8080/"
        },
        "id": "c5X9_4siSAqr",
        "outputId": "8a45e202-d998-4847-9a84-ac94540360d1"
      },
      "execution_count": 27,
      "outputs": [
        {
          "output_type": "stream",
          "name": "stdout",
          "text": [
            "=====RANDOM FOREST REGRESSOR=====\n",
            "Training accuracy for Random Forest model: 95.90972955863953\n",
            "Testing accuracy for Random Forest model: 66.54672261587001\n",
            "At cross fold 5, the cv score is 66.7879516519583 \n",
            "Root mean squared Error for Random Forest Regressor: 247.9908672649426\n"
          ]
        }
      ]
    },
    {
      "cell_type": "markdown",
      "source": [
        "**Tuning parameters for Random Forest Regressor**"
      ],
      "metadata": {
        "id": "_O2KoAQ2fzXr"
      }
    },
    {
      "cell_type": "code",
      "source": [
        "# For Random Forest Regressor\n",
        "\n",
        "params_rf = {'criterion':['mse','mae'],\n",
        "             'min_samples_split':range(4,9),\n",
        "             'max_features':['auto','sqrt','log2'],\n",
        "             'max_samples':(0.1,0.2,0.25)}\n",
        "\n",
        "grd_rf = GridSearchCV(rf,params_rf)\n",
        "\n",
        "grd_rf.fit(X_train,y_train)\n",
        "\n",
        "print(grd_rf.best_params_)"
      ],
      "metadata": {
        "colab": {
          "base_uri": "https://localhost:8080/"
        },
        "id": "1e7hzC6mf-Dd",
        "outputId": "8bd2f653-ac26-48e7-ca59-20546d2c628e"
      },
      "execution_count": null,
      "outputs": [
        {
          "output_type": "stream",
          "name": "stdout",
          "text": [
            "{'criterion': 'mae', 'max_features': 'auto', 'max_samples': 0.25, 'min_samples_split': 4}\n"
          ]
        }
      ]
    },
    {
      "cell_type": "code",
      "source": [
        "rf = grd_rf.best_estimator_\n",
        "\n",
        "rf.fit(X_train,y_train)\n",
        "\n",
        "rf.score(X_train,y_train)\n",
        "\n",
        "pred_test = rf.predict(X_test)\n",
        "\n",
        "rfs = r2_score(y_test,pred_test)\n",
        "\n",
        "print(\"=====After tuning parameters of Random Forest=====\")\n",
        "\n",
        "print(\"R2 score for Random Forest Model after tuning:\",rfs*100)\n",
        "\n",
        "rf_score = cross_val_score(rf,princ_comp,y_reg,cv=5)\n",
        "\n",
        "rfc = rf_score.mean()\n",
        "\n",
        "print(\"Cross val score for Random Forest model after tuning:\",rfc*100)\n",
        "\n",
        "# MSE - ignoring some outliers means larger errors are punished. Hard to interpretate but most popular\n",
        "\n",
        "mse = mean_squared_error(y_test,pred_test)\n",
        "\n",
        "# RMSE\n",
        "\n",
        "rmse = np.sqrt(mse)\n",
        "\n",
        "print(\"Root mean squared Error for Random Forest model after tuning:\",rmse)"
      ],
      "metadata": {
        "colab": {
          "base_uri": "https://localhost:8080/"
        },
        "id": "hEVTkxIkgEL5",
        "outputId": "4832d5b9-5329-4f58-90a4-236df186aeba"
      },
      "execution_count": null,
      "outputs": [
        {
          "output_type": "stream",
          "name": "stdout",
          "text": [
            "=====After tuning parameters of Random Forest=====\n",
            "R2 score for Random Forest Model after tuning: 80.31934376251006\n",
            "Cross val score for Random Forest model after tuning: 68.13971858625571\n",
            "Root mean squared Error for Random Forest model after tuning: 172.55630941865363\n"
          ]
        }
      ]
    },
    {
      "cell_type": "markdown",
      "source": [
        "**Decision Tree Regressor**"
      ],
      "metadata": {
        "id": "zlyR8wizhETI"
      }
    },
    {
      "cell_type": "code",
      "source": [
        "dt = DecisionTreeRegressor()\n",
        "\n",
        "dt.fit(X_train,y_train)\n",
        "\n",
        "dt.score(X_train,y_train)\n",
        "\n",
        "pred_train = dt.predict(X_train)\n",
        "\n",
        "pred_test = dt.predict(X_test)\n",
        "\n",
        "score_train = r2_score(y_train,pred_train)\n",
        "\n",
        "score_test = r2_score(y_test,pred_test)\n",
        "\n",
        "print(\"=====DECISION TREE REGRESSOR=====\")\n",
        "\n",
        "print(\"Training accuracy for Decision Tree model:\",score_train*100)\n",
        "\n",
        "print(\"Testing accuracy for Decision Tree model:\",score_test*100)\n",
        "\n",
        "cv_score = cross_val_score(dt,princ_comp,y_reg,cv=5)\n",
        "\n",
        "cv_mean = cv_score.mean()\n",
        "\n",
        "print(f\"At cross fold 5, the cv score is {cv_mean*100} \")\n",
        "\n",
        "# MSE - ignoring some outliers means larger errors are punished. Hard to interpretate but most popular\n",
        "\n",
        "mse = mean_squared_error(y_test,pred_test)\n",
        "\n",
        "# RMSE\n",
        "\n",
        "rmse = np.sqrt(mse)\n",
        "\n",
        "print(\"Root mean squared Error for Decision Tree Regressor model:\",rmse)\n"
      ],
      "metadata": {
        "colab": {
          "base_uri": "https://localhost:8080/"
        },
        "id": "C45smHUMhXtJ",
        "outputId": "a6694ca5-be97-495e-ace0-af8d1f85497d"
      },
      "execution_count": 28,
      "outputs": [
        {
          "output_type": "stream",
          "name": "stdout",
          "text": [
            "=====DECISION TREE REGRESSOR=====\n",
            "Training accuracy for Decision Tree model: 100.0\n",
            "Testing accuracy for Decision Tree model: 26.105355965478328\n",
            "At cross fold 5, the cv score is 18.045947050291787 \n",
            "Root mean squared Error for Decision Tree Regressor model: 368.5724184203364\n"
          ]
        }
      ]
    },
    {
      "cell_type": "markdown",
      "source": [
        "**Tuning parameters for Decision Tree Regressor**"
      ],
      "metadata": {
        "id": "fAOiaxPxhwXP"
      }
    },
    {
      "cell_type": "code",
      "source": [
        "dt_params = {'criterion': [\"squared_error\", \"friedman_mse\", \"absolute_error\"],\n",
        "              'max_depth': range(13,20),\n",
        "              'min_samples_leaf': range(1,5),\n",
        "              'min_samples_split': range(2,7),\n",
        "              'max_leaf_nodes': range(30,40),\n",
        "             }\n",
        "\n",
        "grd_dt = GridSearchCV(estimator = dt, param_grid = dt_params,cv = 5, n_jobs =-1)\n",
        "\n",
        "X_train,X_test,y_train,y_test = train_test_split(princ_comp,y_reg,test_size=0.2,random_state=65)\n",
        "\n",
        "grd_dt.fit(X_train,y_train)\n",
        "\n",
        "print(\"Best parameters : \",grd_dt.best_params_)"
      ],
      "metadata": {
        "colab": {
          "base_uri": "https://localhost:8080/"
        },
        "id": "rTlWHW55h2WO",
        "outputId": "2c6e017a-ff69-4dbd-c89b-4f7921c0e528"
      },
      "execution_count": null,
      "outputs": [
        {
          "output_type": "stream",
          "name": "stdout",
          "text": [
            "Best parameters :  {'criterion': 'absolute_error', 'max_depth': 19, 'max_leaf_nodes': 32, 'min_samples_leaf': 2, 'min_samples_split': 5}\n"
          ]
        }
      ]
    },
    {
      "cell_type": "code",
      "source": [
        "dt = grd_dt.best_estimator_\n",
        "\n",
        "dt.fit(X_train,y_train)\n",
        "\n",
        "dt.score(X_train,y_train)\n",
        "\n",
        "pred_test = dt.predict(X_test)\n",
        "\n",
        "dts = r2_score(y_test,pred_test)\n",
        "\n",
        "print(\"=====After tuning parameters of Decision Tree Regressor=====\")\n",
        "\n",
        "print(\"R2 score for Decision Tree Regressor Model after tuning:\",dts*100)\n",
        "\n",
        "dt_score = cross_val_score(dt,princ_comp,y_reg,cv=5)\n",
        "\n",
        "dtc = dt_score.mean()\n",
        "\n",
        "print(\"Cross val score for Decision Tree Regressor model after tuning:\",dtc*100)\n",
        "\n",
        "# MSE - ignoring some outliers means larger errors are punished. Hard to interpretate but most popular\n",
        "\n",
        "mse = mean_squared_error(y_test,pred_test)\n",
        "\n",
        "# RMSE\n",
        "\n",
        "rmse = np.sqrt(mse)\n",
        "\n",
        "print(\"Root mean squared Error for Decision Tree Regressor model after tuning:\",rmse)\n"
      ],
      "metadata": {
        "colab": {
          "base_uri": "https://localhost:8080/"
        },
        "id": "ErGVoVEDiZk7",
        "outputId": "57fed011-06a8-495e-c2b9-78eff1bb4fdf"
      },
      "execution_count": null,
      "outputs": [
        {
          "output_type": "stream",
          "name": "stdout",
          "text": [
            "=====After tuning parameters of Decision Tree Regressor=====\n",
            "R2 score for Decision Tree Regressor Model after tuning: 60.44363327284936\n",
            "Cross val score for Decision Tree Regressor model after tuning: 57.54161195790051\n",
            "Root mean squared Error for Decision Tree Regressor model after tuning: 244.6353725381761\n"
          ]
        }
      ]
    },
    {
      "cell_type": "markdown",
      "source": [
        "**Ada Boost Regressor**"
      ],
      "metadata": {
        "id": "VKUAeitCwp8-"
      }
    },
    {
      "cell_type": "code",
      "source": [
        "ada = AdaBoostRegressor()\n",
        "\n",
        "ada.fit(X_train,y_train)\n",
        "\n",
        "pred_train = ada.predict(X_train)       # Predicting training data with the model\n",
        "\n",
        "acc_train = metrics.r2_score(y_train,pred_train)    # Training accuracy\n",
        "\n",
        "print(\"=====ADA BOOST REGRESSOR=====\")\n",
        "\n",
        "print(\"R square score for training dataset for Ada Boost regressor: \", acc_train)\n",
        "\n",
        "pred_test = ada.predict(X_test)       # Predicting test data with the model\n",
        "\n",
        "acc_test = metrics.r2_score(y_test,pred_test)\n",
        "\n",
        "print(\"R square score for test dataset for Ada Boost Regressor: \", acc_test)\n",
        "\n",
        "ada_score = cross_val_score(ada,princ_comp,y_reg,cv=5)\n",
        "\n",
        "ada_m = ada_score.mean()\n",
        "\n",
        "print(\"Cross val score for Ada Boost Regresor:\",ada_m*100)\n",
        "\n",
        "\n",
        "mse = mean_squared_error(y_test,pred_test)\n",
        "\n",
        "# RMSE\n",
        "\n",
        "rmse = np.sqrt(mse)\n",
        "\n",
        "print(\"Root mean squared Error for ada boost Regressor:\",rmse)\n"
      ],
      "metadata": {
        "colab": {
          "base_uri": "https://localhost:8080/"
        },
        "id": "w3RuteU12Mwv",
        "outputId": "2a4c0b25-db69-448a-f2a4-e6b6fa6ede07"
      },
      "execution_count": 29,
      "outputs": [
        {
          "output_type": "stream",
          "name": "stdout",
          "text": [
            "=====ADA BOOST REGRESSOR=====\n",
            "R square score for training dataset for Ada Boost regressor:  0.6702207565324936\n",
            "R square score for test dataset for Ada Boost Regressor:  0.4385298612483486\n",
            "Cross val score for Ada Boost Regresor: 36.576206264718536\n",
            "Root mean squared Error for ada boost Regressor: 321.277035233285\n"
          ]
        }
      ]
    },
    {
      "cell_type": "markdown",
      "source": [
        "**Tuning parameters for Ada Boost Regressor**"
      ],
      "metadata": {
        "id": "AOgFkLEu4jON"
      }
    },
    {
      "cell_type": "code",
      "source": [
        "params_ada = {'n_estimators': [48,49,51,53,60],\n",
        "              'learning_rate':[0.90,0.85,0.30,0.95,1.0],\n",
        "              'loss' :['linear', 'square', 'exponential']\n",
        "             }\n",
        "\n",
        "grd_ada = GridSearchCV(ada,params_ada)\n",
        "\n",
        "grd_ada.fit(X_train,y_train)\n",
        "\n",
        "print(grd_ada.best_params_)"
      ],
      "metadata": {
        "colab": {
          "base_uri": "https://localhost:8080/"
        },
        "id": "q2mQVMkd4p2A",
        "outputId": "0dab7c23-35c3-49fc-d5ab-66af2f5b58dc"
      },
      "execution_count": null,
      "outputs": [
        {
          "output_type": "stream",
          "name": "stdout",
          "text": [
            "{'learning_rate': 0.3, 'loss': 'exponential', 'n_estimators': 48}\n"
          ]
        }
      ]
    },
    {
      "cell_type": "code",
      "source": [
        "ada = grd_ada.best_estimator_\n",
        "\n",
        "ada.fit(X_train,y_train)\n",
        "\n",
        "pred_train = ada.predict(X_train)       # Predicting training data with the model\n",
        "\n",
        "acc_train = metrics.r2_score(y_train,pred_train)    # Training accuracy\n",
        "\n",
        "print(\"R square score for training dataset for Ada Boost regressor after tuning: \", acc_train)\n",
        "\n",
        "pred_test = ada.predict(X_test)       # Predicting test data with the model\n",
        "\n",
        "acc_test = metrics.r2_score(y_test,pred_test)\n",
        "\n",
        "print(\"R square score for test dataset for Ada Boost Regressor after tuning: \", acc_test)\n",
        "\n",
        "ada_score = cross_val_score(ada,princ_comp,y_reg,cv=5)\n",
        "\n",
        "ada_m = ada_score.mean()\n",
        "\n",
        "print(\"Cross val score for Ada Boost Regresora after tuning:\",ada_m*100)\n",
        "\n",
        "\n",
        "mse = mean_squared_error(y_test,pred_test)\n",
        "\n",
        "# RMSE\n",
        "\n",
        "rmse = np.sqrt(mse)\n",
        "\n",
        "print(\"Root mean squared Error for ada boost Regressor after tuning:\",rmse)\n",
        "\n"
      ],
      "metadata": {
        "colab": {
          "base_uri": "https://localhost:8080/"
        },
        "id": "t70ignHl43Fv",
        "outputId": "75efa5f9-c0d2-4b56-9170-cdf1f5b0679e"
      },
      "execution_count": null,
      "outputs": [
        {
          "output_type": "stream",
          "name": "stdout",
          "text": [
            "R square score for training dataset for Ada Boost regressor after tuning:  0.6377988372950472\n",
            "R square score for test dataset for Ada Boost Regressor after tuning:  0.625207251510351\n",
            "Cross val score for Ada Boost Regresora after tuning: 52.97290631383276\n",
            "Root mean squared Error for ada boost Regressor after tuning: 238.12590612757862\n"
          ]
        }
      ]
    },
    {
      "cell_type": "markdown",
      "source": [
        "**Support Vector Regressor**"
      ],
      "metadata": {
        "id": "_DHcxRbT5NeY"
      }
    },
    {
      "cell_type": "code",
      "source": [
        "svr = SVR()\n",
        "\n",
        "svr.fit(X_train,y_train)\n",
        "\n",
        "pred_train = svr.predict(X_train)       # Predicting training data with the model\n",
        "\n",
        "acc_train = metrics.r2_score(y_train,pred_train)    # Training accuracy\n",
        "\n",
        "print(\"R square score for training dataset for SVR: \", acc_train)\n",
        "\n",
        "pred_test = svr.predict(X_test)       # Predicting test data with the model\n",
        "\n",
        "acc_test = metrics.r2_score(y_test,pred_test)\n",
        "\n",
        "print(\"R square score for test dataset for SVR: \", acc_test)\n",
        "\n",
        "svr_score = cross_val_score(svr,princ_comp,y_reg,cv=5)\n",
        "\n",
        "svr_m = svr_score.mean()\n",
        "\n",
        "print(\"Cross val score for SVR:\",svr_m*100)\n",
        "\n",
        "\n",
        "mse = mean_squared_error(y_test,pred_test)\n",
        "\n",
        "# RMSE\n",
        "\n",
        "rmse = np.sqrt(mse)\n",
        "\n",
        "print(\"Root mean squared Error for SVR:\",rmse)"
      ],
      "metadata": {
        "colab": {
          "base_uri": "https://localhost:8080/"
        },
        "id": "dDN9FoCX5Szc",
        "outputId": "90e28354-2696-4e87-fb40-28be41bd909d"
      },
      "execution_count": 30,
      "outputs": [
        {
          "output_type": "stream",
          "name": "stdout",
          "text": [
            "R square score for training dataset for SVR:  -0.20245839977920466\n",
            "R square score for test dataset for SVR:  -0.2216454250405524\n",
            "Cross val score for SVR: -21.123856327794627\n",
            "Root mean squared Error for SVR: 473.90243269035665\n"
          ]
        }
      ]
    },
    {
      "cell_type": "markdown",
      "source": [
        "**Tuning parameters for SVC**"
      ],
      "metadata": {
        "id": "SNpX-QM45jLo"
      }
    },
    {
      "cell_type": "code",
      "source": [
        "# Hyperparameter tuning for Support Vector Regressor\n",
        "\n",
        "params_svr = {'kernel':['linear', 'rbf', 'sigmoid'],\n",
        "              'gamma':['scale','auto'],\n",
        "              'epsilon':[0.1,0.01]\n",
        "             }\n",
        "\n",
        "grd_svr = GridSearchCV(svr,params_svr)\n",
        "\n",
        "grd_svr.fit(X_train,y_train)\n",
        "\n",
        "print(grd_svr.best_params_)"
      ],
      "metadata": {
        "colab": {
          "base_uri": "https://localhost:8080/"
        },
        "id": "QziK1qnh5nHq",
        "outputId": "f5342024-a4d4-4a29-f5dc-5d6ae297e6b4"
      },
      "execution_count": null,
      "outputs": [
        {
          "output_type": "stream",
          "name": "stdout",
          "text": [
            "{'epsilon': 0.01, 'gamma': 'scale', 'kernel': 'linear'}\n"
          ]
        }
      ]
    },
    {
      "cell_type": "code",
      "source": [
        "svr = grd_svr.best_estimator_\n",
        "\n",
        "svr.fit(X_train,y_train)\n",
        "\n",
        "pred_train = svr.predict(X_train)       # Predicting training data with the model\n",
        "\n",
        "acc_train = metrics.r2_score(y_train,pred_train)    # Training accuracy\n",
        "\n",
        "print(\"R square score for training dataset for SVR after tuning: \", acc_train)\n",
        "\n",
        "pred_test = svr.predict(X_test)       # Predicting test data with the model\n",
        "\n",
        "acc_test = metrics.r2_score(y_test,pred_test)\n",
        "\n",
        "print(\"R square score for test dataset for SVR after tuning: \", acc_test)\n",
        "\n",
        "svr_score = cross_val_score(svr,princ_comp,y_reg,cv=5)\n",
        "\n",
        "svr_m = svr_score.mean()\n",
        "\n",
        "print(\"Cross val score for SVR after tuning:\",svr_m*100)\n",
        "\n",
        "\n",
        "mse = mean_squared_error(y_test,pred_test)\n",
        "\n",
        "# RMSE\n",
        "\n",
        "rmse = np.sqrt(mse)\n",
        "\n",
        "print(\"Root mean squared Error for SVR after tuning:\",rmse)"
      ],
      "metadata": {
        "colab": {
          "base_uri": "https://localhost:8080/"
        },
        "id": "oAG0AwHK5rk0",
        "outputId": "3ba4923a-3ae0-4c59-936b-394addac834b"
      },
      "execution_count": null,
      "outputs": [
        {
          "output_type": "stream",
          "name": "stdout",
          "text": [
            "R square score for training dataset for SVR after tuning:  0.03449256010519941\n",
            "R square score for test dataset for SVR after tuning:  0.11998855411626907\n",
            "Cross val score for SVR after tuning: 6.288675326097345\n",
            "Root mean squared Error for SVR after tuning: 364.8843328000771\n"
          ]
        }
      ]
    },
    {
      "cell_type": "markdown",
      "source": [
        "**Gradient Boost Regressor**"
      ],
      "metadata": {
        "id": "wUy8yQ-f6Ceo"
      }
    },
    {
      "cell_type": "code",
      "source": [
        "gbr = GradientBoostingRegressor()\n",
        "\n",
        "gbr.fit(X_train,y_train)\n",
        "\n",
        "pred_train = gbr.predict(X_train)       # Predicting training data with the model\n",
        "\n",
        "acc_train = metrics.r2_score(y_train,pred_train)    # Training accuracy\n",
        "\n",
        "print(\"=====GRADIENT BOOST REGRESSOR=====\")\n",
        "\n",
        "print(\"R square score for training dataset for Gradient Boost regressor: \", acc_train)\n",
        "\n",
        "pred_test = gbr.predict(X_test)       # Predicting test data with the model\n",
        "\n",
        "acc_test = metrics.r2_score(y_test,pred_test)\n",
        "\n",
        "print(\"R square score for test dataset for Gradient Boost Regressor: \", acc_test)\n",
        "\n",
        "gbr_score = cross_val_score(gbr,princ_comp,y_reg,cv=5)\n",
        "\n",
        "gbr_m = gbr_score.mean()\n",
        "\n",
        "print(\"Cross val score for Gradient Boost Regresor:\",gbr_m*100)\n",
        "\n",
        "\n",
        "mse = mean_squared_error(y_test,pred_test)\n",
        "\n",
        "# RMSE\n",
        "\n",
        "rmse = np.sqrt(mse)\n",
        "\n",
        "print(\"Root mean squared Error for Gradient boost Regressor:\",rmse)\n"
      ],
      "metadata": {
        "colab": {
          "base_uri": "https://localhost:8080/"
        },
        "id": "LYfdydpE6Hl4",
        "outputId": "6be4c1f5-1d02-46f7-a8d2-e22fba4290f4"
      },
      "execution_count": 31,
      "outputs": [
        {
          "output_type": "stream",
          "name": "stdout",
          "text": [
            "=====GRADIENT BOOST REGRESSOR=====\n",
            "R square score for training dataset for Gradient Boost regressor:  0.9078504550831163\n",
            "R square score for test dataset for Gradient Boost Regressor:  0.6392122235212246\n",
            "Cross val score for Gradient Boost Regresor: 64.03236408774882\n",
            "Root mean squared Error for Gradient boost Regressor: 257.5385577158257\n"
          ]
        }
      ]
    },
    {
      "cell_type": "markdown",
      "source": [
        "**Tuning parameters for Gradient Boost Regressor**"
      ],
      "metadata": {
        "id": "RblGuFe8-GJG"
      }
    },
    {
      "cell_type": "code",
      "source": [
        "gbr_params = {'loss' : ['squared_error', 'absolute_error', 'huber', 'quantile'],\n",
        "              'learning_rate':(0.001,0.01,0.1),\n",
        "              'criterion' : ['friedman_mse', 'squared_error', 'mse', 'mae'],\n",
        "              'max_depth': range(2,6)}\n",
        "\n",
        "grd_gbr = GridSearchCV(gbr,gbr_params)\n",
        "\n",
        "grd_gbr.fit(X_train,y_train)\n",
        "\n",
        "print(grd_gbr.best_params_)"
      ],
      "metadata": {
        "colab": {
          "base_uri": "https://localhost:8080/"
        },
        "id": "W9Ffk76H-OzL",
        "outputId": "bb64cf26-4e35-4ccc-d4a3-67435271bbd0"
      },
      "execution_count": 33,
      "outputs": [
        {
          "output_type": "stream",
          "name": "stdout",
          "text": [
            "{'criterion': 'mse', 'learning_rate': 0.1, 'loss': 'huber', 'max_depth': 5}\n"
          ]
        }
      ]
    },
    {
      "cell_type": "code",
      "source": [
        "gbr = grd_gbr.best_estimator_\n",
        "\n",
        "gbr.fit(X_train,y_train)\n",
        "\n",
        "pred_train = gbr.predict(X_train)       # Predicting training data with the model\n",
        "\n",
        "acc_train = metrics.r2_score(y_train,pred_train)    # Training accuracy\n",
        "\n",
        "print(\"=====GRADIENT BOOST REGRESSOR=====\")\n",
        "\n",
        "print(\"R square score for training dataset for Gradient Boost regressor after tuning: \", acc_train)\n",
        "\n",
        "pred_test = gbr.predict(X_test)       # Predicting test data with the model\n",
        "\n",
        "acc_test = metrics.r2_score(y_test,pred_test)\n",
        "\n",
        "print(\"R square score for test dataset for Gradient Boost Regressor after tuning: \", acc_test)\n",
        "\n",
        "gbr_score = cross_val_score(gbr,princ_comp,y_reg,cv=5)\n",
        "\n",
        "gbr_m = gbr_score.mean()\n",
        "\n",
        "print(\"Cross val score for Gradient Boost Regresor after tuning:\",gbr_m*100)\n",
        "\n",
        "\n",
        "mse = mean_squared_error(y_test,pred_test)\n",
        "\n",
        "# RMSE\n",
        "\n",
        "rmse = np.sqrt(mse)\n",
        "\n",
        "print(\"Root mean squared Error for Gradient boost Regressor after tuning:\",rmse)\n"
      ],
      "metadata": {
        "colab": {
          "base_uri": "https://localhost:8080/"
        },
        "id": "wv2tlaSNCISj",
        "outputId": "9202e56f-86b8-4b3f-fdce-9cfe71ae0dcb"
      },
      "execution_count": 34,
      "outputs": [
        {
          "output_type": "stream",
          "name": "stdout",
          "text": [
            "=====GRADIENT BOOST REGRESSOR=====\n",
            "R square score for training dataset for Gradient Boost regressor after tuning:  0.9194578876558701\n",
            "R square score for test dataset for Gradient Boost Regressor after tuning:  0.6265027007784144\n",
            "Cross val score for Gradient Boost Regresor after tuning: 62.68426856661564\n",
            "Root mean squared Error for Gradient boost Regressor after tuning: 262.0354709839\n"
          ]
        }
      ]
    },
    {
      "cell_type": "markdown",
      "source": [
        "**XGradient Boosting Regressor**"
      ],
      "metadata": {
        "id": "G0qf6iLlPwyD"
      }
    },
    {
      "cell_type": "code",
      "source": [
        "from xgboost import XGBRegressor\n",
        "\n",
        "xgb = XGBRegressor()\n",
        "\n",
        "xgb.fit(X_train,y_train)\n",
        "\n",
        "xgb.score(X_train,y_train)\n",
        "\n",
        "pred_train = xgb.predict(X_train)\n",
        "\n",
        "pred_test = xgb.predict(X_test)\n",
        "\n",
        "score_train = r2_score(y_train,pred_train)\n",
        "\n",
        "score_test = r2_score(y_test,pred_test)\n",
        "\n",
        "print(\"=====XGradient Boosting REGRESSOR=====\")\n",
        "\n",
        "print(\"Training accuracy for XGradient Boost model:\",score_train*100)\n",
        "\n",
        "print(\"Testing accuracy for XGradient Boost model:\",score_test*100)\n",
        "\n",
        "cv_score = cross_val_score(xgb,X_scaler,y_reg,cv=5)\n",
        "\n",
        "cv_mean = cv_score.mean()\n",
        "\n",
        "print(f\"At cross fold 5, the cv score is {cv_mean*100} \")\n",
        "\n",
        "# MSE - ignoring some outliers means larger errors are punished. Hard to interpretate but most popular\n",
        "\n",
        "mse = mean_squared_error(y_test,pred_test)\n",
        "\n",
        "# RMSE\n",
        "\n",
        "rmse = np.sqrt(mse)\n",
        "\n",
        "print(\"Root mean squared Error for XGradient Boosting model:\",rmse)\n"
      ],
      "metadata": {
        "colab": {
          "base_uri": "https://localhost:8080/"
        },
        "id": "Zl85bLuUP68c",
        "outputId": "48ceb38b-b9c3-49cc-9aaa-470410b325f8"
      },
      "execution_count": 35,
      "outputs": [
        {
          "output_type": "stream",
          "name": "stdout",
          "text": [
            "[09:00:52] WARNING: /workspace/src/objective/regression_obj.cu:152: reg:linear is now deprecated in favor of reg:squarederror.\n",
            "=====XGradient Boosting REGRESSOR=====\n",
            "Training accuracy for XGradient Boost model: 88.33947042513806\n",
            "Testing accuracy for XGradient Boost model: 64.44543787089113\n",
            "[09:00:52] WARNING: /workspace/src/objective/regression_obj.cu:152: reg:linear is now deprecated in favor of reg:squarederror.\n",
            "[09:00:52] WARNING: /workspace/src/objective/regression_obj.cu:152: reg:linear is now deprecated in favor of reg:squarederror.\n",
            "[09:00:52] WARNING: /workspace/src/objective/regression_obj.cu:152: reg:linear is now deprecated in favor of reg:squarederror.\n",
            "[09:00:52] WARNING: /workspace/src/objective/regression_obj.cu:152: reg:linear is now deprecated in favor of reg:squarederror.\n",
            "[09:00:52] WARNING: /workspace/src/objective/regression_obj.cu:152: reg:linear is now deprecated in favor of reg:squarederror.\n",
            "At cross fold 5, the cv score is 74.78887763723505 \n",
            "Root mean squared Error for XGradient Boosting model: 255.66072658417568\n"
          ]
        }
      ]
    },
    {
      "cell_type": "markdown",
      "source": [
        "**Among all the models KNN Regressor fits best as a model because there is minimum difference between training and test R2 score and max R2 score as 76.93% and minimum RMSE error**"
      ],
      "metadata": {
        "id": "oanpiT3Dxyyo"
      }
    },
    {
      "cell_type": "markdown",
      "source": [
        "**Saving the model for capacity_mw prediction**"
      ],
      "metadata": {
        "id": "oiX8WcQzzUU0"
      }
    },
    {
      "cell_type": "code",
      "source": [
        "import pickle\n",
        "filename = 'GPPD_capcityMW_reg.pkl'\n",
        "pickle.dump(knn,open(filename,'wb'))"
      ],
      "metadata": {
        "id": "kFf1LIaCyQ3Y"
      },
      "execution_count": 30,
      "outputs": []
    },
    {
      "cell_type": "markdown",
      "source": [
        "**Conclusion for capacity_mw prediction**"
      ],
      "metadata": {
        "id": "akYyRruK2UJF"
      }
    },
    {
      "cell_type": "code",
      "source": [
        "loaded_model = pickle.load(open('GPPD_capcityMW_reg.pkl','rb'))\n",
        "result = loaded_model.score(X_test,y_test)\n",
        "pred_test = loaded_model.predict(X_test)\n",
        "print(result*100,'%')"
      ],
      "metadata": {
        "colab": {
          "base_uri": "https://localhost:8080/"
        },
        "id": "b_ddWKyc2avN",
        "outputId": "fbc104a3-52fd-4f0e-dc44-5b677c46432b"
      },
      "execution_count": 31,
      "outputs": [
        {
          "output_type": "stream",
          "name": "stdout",
          "text": [
            "76.9310577257145 %\n"
          ]
        }
      ]
    },
    {
      "cell_type": "code",
      "source": [
        "conclusion_capacity = pd.DataFrame([loaded_model.predict(X_test)[:],y_test[:]],index=[\"Predicted\",\"Original\"])\n",
        "conclusion_capacity"
      ],
      "metadata": {
        "colab": {
          "base_uri": "https://localhost:8080/",
          "height": 141
        },
        "id": "d5pkDHQc2zSi",
        "outputId": "16dee950-ff92-41da-c01f-28e1dbdba3de"
      },
      "execution_count": 32,
      "outputs": [
        {
          "output_type": "execute_result",
          "data": {
            "text/plain": [
              "            0      1     2      3        4     5      6      7     8    \\\n",
              "Predicted  31.8  16.68  88.0  12.06  270.972   6.8   88.7  553.0  17.5   \n",
              "Original    1.0  22.50  81.5  25.00  374.571  10.0  161.0  855.0  15.0   \n",
              "\n",
              "              9    ...    157    158     159    160    161     162    163  \\\n",
              "Predicted  1116.0  ...  48.56  640.8   628.2   73.2  11.70  1294.0   51.3   \n",
              "Original   1000.0  ...  25.20  720.0  1379.0  600.0  21.84  1080.0  600.0   \n",
              "\n",
              "             164   165    166  \n",
              "Predicted  575.2  7.94  22.65  \n",
              "Original   520.0  3.30   6.30  \n",
              "\n",
              "[2 rows x 167 columns]"
            ],
            "text/html": [
              "\n",
              "  <div id=\"df-c2145772-b1e5-4fd1-82a6-853f9e6f7ec6\">\n",
              "    <div class=\"colab-df-container\">\n",
              "      <div>\n",
              "<style scoped>\n",
              "    .dataframe tbody tr th:only-of-type {\n",
              "        vertical-align: middle;\n",
              "    }\n",
              "\n",
              "    .dataframe tbody tr th {\n",
              "        vertical-align: top;\n",
              "    }\n",
              "\n",
              "    .dataframe thead th {\n",
              "        text-align: right;\n",
              "    }\n",
              "</style>\n",
              "<table border=\"1\" class=\"dataframe\">\n",
              "  <thead>\n",
              "    <tr style=\"text-align: right;\">\n",
              "      <th></th>\n",
              "      <th>0</th>\n",
              "      <th>1</th>\n",
              "      <th>2</th>\n",
              "      <th>3</th>\n",
              "      <th>4</th>\n",
              "      <th>5</th>\n",
              "      <th>6</th>\n",
              "      <th>7</th>\n",
              "      <th>8</th>\n",
              "      <th>9</th>\n",
              "      <th>...</th>\n",
              "      <th>157</th>\n",
              "      <th>158</th>\n",
              "      <th>159</th>\n",
              "      <th>160</th>\n",
              "      <th>161</th>\n",
              "      <th>162</th>\n",
              "      <th>163</th>\n",
              "      <th>164</th>\n",
              "      <th>165</th>\n",
              "      <th>166</th>\n",
              "    </tr>\n",
              "  </thead>\n",
              "  <tbody>\n",
              "    <tr>\n",
              "      <th>Predicted</th>\n",
              "      <td>31.8</td>\n",
              "      <td>16.68</td>\n",
              "      <td>88.0</td>\n",
              "      <td>12.06</td>\n",
              "      <td>270.972</td>\n",
              "      <td>6.8</td>\n",
              "      <td>88.7</td>\n",
              "      <td>553.0</td>\n",
              "      <td>17.5</td>\n",
              "      <td>1116.0</td>\n",
              "      <td>...</td>\n",
              "      <td>48.56</td>\n",
              "      <td>640.8</td>\n",
              "      <td>628.2</td>\n",
              "      <td>73.2</td>\n",
              "      <td>11.70</td>\n",
              "      <td>1294.0</td>\n",
              "      <td>51.3</td>\n",
              "      <td>575.2</td>\n",
              "      <td>7.94</td>\n",
              "      <td>22.65</td>\n",
              "    </tr>\n",
              "    <tr>\n",
              "      <th>Original</th>\n",
              "      <td>1.0</td>\n",
              "      <td>22.50</td>\n",
              "      <td>81.5</td>\n",
              "      <td>25.00</td>\n",
              "      <td>374.571</td>\n",
              "      <td>10.0</td>\n",
              "      <td>161.0</td>\n",
              "      <td>855.0</td>\n",
              "      <td>15.0</td>\n",
              "      <td>1000.0</td>\n",
              "      <td>...</td>\n",
              "      <td>25.20</td>\n",
              "      <td>720.0</td>\n",
              "      <td>1379.0</td>\n",
              "      <td>600.0</td>\n",
              "      <td>21.84</td>\n",
              "      <td>1080.0</td>\n",
              "      <td>600.0</td>\n",
              "      <td>520.0</td>\n",
              "      <td>3.30</td>\n",
              "      <td>6.30</td>\n",
              "    </tr>\n",
              "  </tbody>\n",
              "</table>\n",
              "<p>2 rows × 167 columns</p>\n",
              "</div>\n",
              "      <button class=\"colab-df-convert\" onclick=\"convertToInteractive('df-c2145772-b1e5-4fd1-82a6-853f9e6f7ec6')\"\n",
              "              title=\"Convert this dataframe to an interactive table.\"\n",
              "              style=\"display:none;\">\n",
              "        \n",
              "  <svg xmlns=\"http://www.w3.org/2000/svg\" height=\"24px\"viewBox=\"0 0 24 24\"\n",
              "       width=\"24px\">\n",
              "    <path d=\"M0 0h24v24H0V0z\" fill=\"none\"/>\n",
              "    <path d=\"M18.56 5.44l.94 2.06.94-2.06 2.06-.94-2.06-.94-.94-2.06-.94 2.06-2.06.94zm-11 1L8.5 8.5l.94-2.06 2.06-.94-2.06-.94L8.5 2.5l-.94 2.06-2.06.94zm10 10l.94 2.06.94-2.06 2.06-.94-2.06-.94-.94-2.06-.94 2.06-2.06.94z\"/><path d=\"M17.41 7.96l-1.37-1.37c-.4-.4-.92-.59-1.43-.59-.52 0-1.04.2-1.43.59L10.3 9.45l-7.72 7.72c-.78.78-.78 2.05 0 2.83L4 21.41c.39.39.9.59 1.41.59.51 0 1.02-.2 1.41-.59l7.78-7.78 2.81-2.81c.8-.78.8-2.07 0-2.86zM5.41 20L4 18.59l7.72-7.72 1.47 1.35L5.41 20z\"/>\n",
              "  </svg>\n",
              "      </button>\n",
              "      \n",
              "  <style>\n",
              "    .colab-df-container {\n",
              "      display:flex;\n",
              "      flex-wrap:wrap;\n",
              "      gap: 12px;\n",
              "    }\n",
              "\n",
              "    .colab-df-convert {\n",
              "      background-color: #E8F0FE;\n",
              "      border: none;\n",
              "      border-radius: 50%;\n",
              "      cursor: pointer;\n",
              "      display: none;\n",
              "      fill: #1967D2;\n",
              "      height: 32px;\n",
              "      padding: 0 0 0 0;\n",
              "      width: 32px;\n",
              "    }\n",
              "\n",
              "    .colab-df-convert:hover {\n",
              "      background-color: #E2EBFA;\n",
              "      box-shadow: 0px 1px 2px rgba(60, 64, 67, 0.3), 0px 1px 3px 1px rgba(60, 64, 67, 0.15);\n",
              "      fill: #174EA6;\n",
              "    }\n",
              "\n",
              "    [theme=dark] .colab-df-convert {\n",
              "      background-color: #3B4455;\n",
              "      fill: #D2E3FC;\n",
              "    }\n",
              "\n",
              "    [theme=dark] .colab-df-convert:hover {\n",
              "      background-color: #434B5C;\n",
              "      box-shadow: 0px 1px 3px 1px rgba(0, 0, 0, 0.15);\n",
              "      filter: drop-shadow(0px 1px 2px rgba(0, 0, 0, 0.3));\n",
              "      fill: #FFFFFF;\n",
              "    }\n",
              "  </style>\n",
              "\n",
              "      <script>\n",
              "        const buttonEl =\n",
              "          document.querySelector('#df-c2145772-b1e5-4fd1-82a6-853f9e6f7ec6 button.colab-df-convert');\n",
              "        buttonEl.style.display =\n",
              "          google.colab.kernel.accessAllowed ? 'block' : 'none';\n",
              "\n",
              "        async function convertToInteractive(key) {\n",
              "          const element = document.querySelector('#df-c2145772-b1e5-4fd1-82a6-853f9e6f7ec6');\n",
              "          const dataTable =\n",
              "            await google.colab.kernel.invokeFunction('convertToInteractive',\n",
              "                                                     [key], {});\n",
              "          if (!dataTable) return;\n",
              "\n",
              "          const docLinkHtml = 'Like what you see? Visit the ' +\n",
              "            '<a target=\"_blank\" href=https://colab.research.google.com/notebooks/data_table.ipynb>data table notebook</a>'\n",
              "            + ' to learn more about interactive tables.';\n",
              "          element.innerHTML = '';\n",
              "          dataTable['output_type'] = 'display_data';\n",
              "          await google.colab.output.renderOutput(dataTable, element);\n",
              "          const docLink = document.createElement('div');\n",
              "          docLink.innerHTML = docLinkHtml;\n",
              "          element.appendChild(docLink);\n",
              "        }\n",
              "      </script>\n",
              "    </div>\n",
              "  </div>\n",
              "  "
            ]
          },
          "metadata": {},
          "execution_count": 32
        }
      ]
    },
    {
      "cell_type": "markdown",
      "source": [
        "**Model Building - Classification task**"
      ],
      "metadata": {
        "id": "R4RLv4BQ3GJe"
      }
    },
    {
      "cell_type": "code",
      "source": [
        "# Importing required libraries\n",
        "\n",
        "from sklearn.linear_model import LogisticRegression\n",
        "from sklearn.tree import DecisionTreeClassifier\n",
        "from sklearn.metrics import accuracy_score,classification_report, confusion_matrix\n",
        "from sklearn.ensemble import RandomForestClassifier\n",
        "from sklearn.neighbors import KNeighborsClassifier\n",
        "from sklearn.svm import SVC\n",
        "from sklearn.metrics import plot_roc_curve\n",
        "from sklearn.ensemble import AdaBoostClassifier,GradientBoostingClassifier\n",
        "import pickle\n",
        "from sklearn import metrics\n",
        "from sklearn.model_selection import cross_val_score"
      ],
      "metadata": {
        "id": "Qs0p_Cen3N-i"
      },
      "execution_count": 48,
      "outputs": []
    },
    {
      "cell_type": "code",
      "source": [
        "# Seperating features and target variable for classification task\n",
        "\n",
        "X_clf = df_new.drop('primary_fuel',axis=1)\n",
        "\n",
        "y_clf = df_new['primary_fuel']"
      ],
      "metadata": {
        "id": "ddiagdIQ4gbu"
      },
      "execution_count": 34,
      "outputs": []
    },
    {
      "cell_type": "code",
      "source": [
        "# Standard Scaling\n",
        "\n",
        "from sklearn.preprocessing import StandardScaler\n",
        "scaler= StandardScaler()\n",
        "X_scaler = scaler.fit_transform(X_clf)"
      ],
      "metadata": {
        "id": "J5PXfjjz41Os"
      },
      "execution_count": 35,
      "outputs": []
    },
    {
      "cell_type": "code",
      "source": [
        "# Applying PCA \n",
        "\n",
        "pca = PCA()\n",
        "\n",
        "pca.fit_transform(X_scaler)"
      ],
      "metadata": {
        "colab": {
          "base_uri": "https://localhost:8080/"
        },
        "id": "YNXy6OG-5Ntc",
        "outputId": "ae6f160f-8ca0-45e3-c0df-edacb53e4c54"
      },
      "execution_count": 36,
      "outputs": [
        {
          "output_type": "execute_result",
          "data": {
            "text/plain": [
              "array([[ 3.91928538e-01,  2.40666790e+00, -1.57632516e+00, ...,\n",
              "        -3.83361541e-02, -1.89732143e-02, -2.08323595e-03],\n",
              "       [ 4.92261483e-01,  2.27519884e+00, -1.04995309e+00, ...,\n",
              "        -1.64087954e-02, -7.61410478e-03, -9.72494751e-03],\n",
              "       [ 2.77810858e-01,  7.80409099e-01, -6.65119048e-01, ...,\n",
              "        -7.48762128e-02, -3.08560919e-02,  1.49786899e-02],\n",
              "       ...,\n",
              "       [ 3.20475111e-01, -1.94867492e-01,  2.01808582e+00, ...,\n",
              "        -1.09731108e-02,  9.98051735e-04,  2.34280209e-02],\n",
              "       [ 4.31898275e-01,  6.15260236e-01,  1.09639783e+00, ...,\n",
              "         4.09543080e-02, -8.66323038e-04,  2.35355612e-02],\n",
              "       [ 2.93987829e-01, -4.80735369e-01,  2.55090538e+00, ...,\n",
              "        -3.16589546e-02,  6.68400830e-03,  1.93245699e-02]])"
            ]
          },
          "metadata": {},
          "execution_count": 36
        }
      ]
    },
    {
      "cell_type": "code",
      "source": [
        "# Lets plot scree plot to check the best components\n",
        "\n",
        "plt.figure()\n",
        "plt.plot(np.cumsum(pca.explained_variance_ratio_))\n",
        "plt.xlabel('Principal Components')\n",
        "plt.ylabel('Variance Covered')\n",
        "plt.title('PCA')\n",
        "plt.show()"
      ],
      "metadata": {
        "colab": {
          "base_uri": "https://localhost:8080/",
          "height": 295
        },
        "id": "lCLFyq_k5gjx",
        "outputId": "1288741e-7755-4a6c-b408-207a20672cae"
      },
      "execution_count": 37,
      "outputs": [
        {
          "output_type": "display_data",
          "data": {
            "text/plain": [
              "<Figure size 432x288 with 1 Axes>"
            ],
            "image/png": "[encoded data removed]"
          },
          "metadata": {
            "needs_background": "light"
          }
        }
      ]
    },
    {
      "cell_type": "code",
      "source": [
        "# 8 components are able to explain more than 95% ofvariance\n",
        "pca = PCA(n_components=8)\n",
        "new_pcomp = pca.fit_transform(X_scaler)\n",
        "princ_comp = pd.DataFrame(new_pcomp,columns=['PC1','PC2','PC3','PC4','PC5','PC6','PC7','PC8'])\n",
        "princ_comp"
      ],
      "metadata": {
        "colab": {
          "base_uri": "https://localhost:8080/",
          "height": 424
        },
        "id": "rK2SlZql5ss_",
        "outputId": "022149a0-e88f-499a-96a2-d2334a8000b8"
      },
      "execution_count": 38,
      "outputs": [
        {
          "output_type": "execute_result",
          "data": {
            "text/plain": [
              "          PC1       PC2       PC3       PC4       PC5       PC6       PC7  \\\n",
              "0    0.391929  2.406668 -1.576325 -0.665994  0.237548  0.374061 -0.177493   \n",
              "1    0.492261  2.275199 -1.049953 -1.057354 -0.629727  0.514584 -0.709649   \n",
              "2    0.277811  0.780409 -0.665119 -2.003945  0.919821 -1.165371 -0.050608   \n",
              "3   -2.181022 -1.449944 -2.097969 -0.046316 -2.488425  0.767208 -0.769002   \n",
              "4    5.415800 -1.929072 -1.882813 -0.849412 -1.218086  0.147915  1.569090   \n",
              "..        ...       ...       ...       ...       ...       ...       ...   \n",
              "830 -0.917279 -1.611434  1.126046  1.327941 -0.606060 -0.998401  2.405562   \n",
              "831  0.486364  1.801000  2.013755  1.175493 -0.837004  1.045854  0.573264   \n",
              "832  0.320475 -0.194867  2.018086  0.389595 -0.008860 -0.852566 -0.333801   \n",
              "833  0.431898  0.615260  1.096398  1.131516  0.467835 -1.082299 -0.498957   \n",
              "834  0.293988 -0.480735  2.550905  0.071853 -0.541900 -0.448998 -0.300128   \n",
              "\n",
              "          PC8  \n",
              "0   -0.453528  \n",
              "1   -2.325163  \n",
              "2    0.098016  \n",
              "3    0.543593  \n",
              "4   -0.402806  \n",
              "..        ...  \n",
              "830 -0.806373  \n",
              "831  1.347618  \n",
              "832  0.377751  \n",
              "833 -0.526674  \n",
              "834  0.555544  \n",
              "\n",
              "[835 rows x 8 columns]"
            ],
            "text/html": [
              "\n",
              "  <div id=\"df-a0da19ab-60ec-42b4-a2a1-cd5a8125de1c\">\n",
              "    <div class=\"colab-df-container\">\n",
              "      <div>\n",
              "<style scoped>\n",
              "    .dataframe tbody tr th:only-of-type {\n",
              "        vertical-align: middle;\n",
              "    }\n",
              "\n",
              "    .dataframe tbody tr th {\n",
              "        vertical-align: top;\n",
              "    }\n",
              "\n",
              "    .dataframe thead th {\n",
              "        text-align: right;\n",
              "    }\n",
              "</style>\n",
              "<table border=\"1\" class=\"dataframe\">\n",
              "  <thead>\n",
              "    <tr style=\"text-align: right;\">\n",
              "      <th></th>\n",
              "      <th>PC1</th>\n",
              "      <th>PC2</th>\n",
              "      <th>PC3</th>\n",
              "      <th>PC4</th>\n",
              "      <th>PC5</th>\n",
              "      <th>PC6</th>\n",
              "      <th>PC7</th>\n",
              "      <th>PC8</th>\n",
              "    </tr>\n",
              "  </thead>\n",
              "  <tbody>\n",
              "    <tr>\n",
              "      <th>0</th>\n",
              "      <td>0.391929</td>\n",
              "      <td>2.406668</td>\n",
              "      <td>-1.576325</td>\n",
              "      <td>-0.665994</td>\n",
              "      <td>0.237548</td>\n",
              "      <td>0.374061</td>\n",
              "      <td>-0.177493</td>\n",
              "      <td>-0.453528</td>\n",
              "    </tr>\n",
              "    <tr>\n",
              "      <th>1</th>\n",
              "      <td>0.492261</td>\n",
              "      <td>2.275199</td>\n",
              "      <td>-1.049953</td>\n",
              "      <td>-1.057354</td>\n",
              "      <td>-0.629727</td>\n",
              "      <td>0.514584</td>\n",
              "      <td>-0.709649</td>\n",
              "      <td>-2.325163</td>\n",
              "    </tr>\n",
              "    <tr>\n",
              "      <th>2</th>\n",
              "      <td>0.277811</td>\n",
              "      <td>0.780409</td>\n",
              "      <td>-0.665119</td>\n",
              "      <td>-2.003945</td>\n",
              "      <td>0.919821</td>\n",
              "      <td>-1.165371</td>\n",
              "      <td>-0.050608</td>\n",
              "      <td>0.098016</td>\n",
              "    </tr>\n",
              "    <tr>\n",
              "      <th>3</th>\n",
              "      <td>-2.181022</td>\n",
              "      <td>-1.449944</td>\n",
              "      <td>-2.097969</td>\n",
              "      <td>-0.046316</td>\n",
              "      <td>-2.488425</td>\n",
              "      <td>0.767208</td>\n",
              "      <td>-0.769002</td>\n",
              "      <td>0.543593</td>\n",
              "    </tr>\n",
              "    <tr>\n",
              "      <th>4</th>\n",
              "      <td>5.415800</td>\n",
              "      <td>-1.929072</td>\n",
              "      <td>-1.882813</td>\n",
              "      <td>-0.849412</td>\n",
              "      <td>-1.218086</td>\n",
              "      <td>0.147915</td>\n",
              "      <td>1.569090</td>\n",
              "      <td>-0.402806</td>\n",
              "    </tr>\n",
              "    <tr>\n",
              "      <th>...</th>\n",
              "      <td>...</td>\n",
              "      <td>...</td>\n",
              "      <td>...</td>\n",
              "      <td>...</td>\n",
              "      <td>...</td>\n",
              "      <td>...</td>\n",
              "      <td>...</td>\n",
              "      <td>...</td>\n",
              "    </tr>\n",
              "    <tr>\n",
              "      <th>830</th>\n",
              "      <td>-0.917279</td>\n",
              "      <td>-1.611434</td>\n",
              "      <td>1.126046</td>\n",
              "      <td>1.327941</td>\n",
              "      <td>-0.606060</td>\n",
              "      <td>-0.998401</td>\n",
              "      <td>2.405562</td>\n",
              "      <td>-0.806373</td>\n",
              "    </tr>\n",
              "    <tr>\n",
              "      <th>831</th>\n",
              "      <td>0.486364</td>\n",
              "      <td>1.801000</td>\n",
              "      <td>2.013755</td>\n",
              "      <td>1.175493</td>\n",
              "      <td>-0.837004</td>\n",
              "      <td>1.045854</td>\n",
              "      <td>0.573264</td>\n",
              "      <td>1.347618</td>\n",
              "    </tr>\n",
              "    <tr>\n",
              "      <th>832</th>\n",
              "      <td>0.320475</td>\n",
              "      <td>-0.194867</td>\n",
              "      <td>2.018086</td>\n",
              "      <td>0.389595</td>\n",
              "      <td>-0.008860</td>\n",
              "      <td>-0.852566</td>\n",
              "      <td>-0.333801</td>\n",
              "      <td>0.377751</td>\n",
              "    </tr>\n",
              "    <tr>\n",
              "      <th>833</th>\n",
              "      <td>0.431898</td>\n",
              "      <td>0.615260</td>\n",
              "      <td>1.096398</td>\n",
              "      <td>1.131516</td>\n",
              "      <td>0.467835</td>\n",
              "      <td>-1.082299</td>\n",
              "      <td>-0.498957</td>\n",
              "      <td>-0.526674</td>\n",
              "    </tr>\n",
              "    <tr>\n",
              "      <th>834</th>\n",
              "      <td>0.293988</td>\n",
              "      <td>-0.480735</td>\n",
              "      <td>2.550905</td>\n",
              "      <td>0.071853</td>\n",
              "      <td>-0.541900</td>\n",
              "      <td>-0.448998</td>\n",
              "      <td>-0.300128</td>\n",
              "      <td>0.555544</td>\n",
              "    </tr>\n",
              "  </tbody>\n",
              "</table>\n",
              "<p>835 rows × 8 columns</p>\n",
              "</div>\n",
              "      <button class=\"colab-df-convert\" onclick=\"convertToInteractive('df-a0da19ab-60ec-42b4-a2a1-cd5a8125de1c')\"\n",
              "              title=\"Convert this dataframe to an interactive table.\"\n",
              "              style=\"display:none;\">\n",
              "        \n",
              "  <svg xmlns=\"http://www.w3.org/2000/svg\" height=\"24px\"viewBox=\"0 0 24 24\"\n",
              "       width=\"24px\">\n",
              "    <path d=\"M0 0h24v24H0V0z\" fill=\"none\"/>\n",
              "    <path d=\"M18.56 5.44l.94 2.06.94-2.06 2.06-.94-2.06-.94-.94-2.06-.94 2.06-2.06.94zm-11 1L8.5 8.5l.94-2.06 2.06-.94-2.06-.94L8.5 2.5l-.94 2.06-2.06.94zm10 10l.94 2.06.94-2.06 2.06-.94-2.06-.94-.94-2.06-.94 2.06-2.06.94z\"/><path d=\"M17.41 7.96l-1.37-1.37c-.4-.4-.92-.59-1.43-.59-.52 0-1.04.2-1.43.59L10.3 9.45l-7.72 7.72c-.78.78-.78 2.05 0 2.83L4 21.41c.39.39.9.59 1.41.59.51 0 1.02-.2 1.41-.59l7.78-7.78 2.81-2.81c.8-.78.8-2.07 0-2.86zM5.41 20L4 18.59l7.72-7.72 1.47 1.35L5.41 20z\"/>\n",
              "  </svg>\n",
              "      </button>\n",
              "      \n",
              "  <style>\n",
              "    .colab-df-container {\n",
              "      display:flex;\n",
              "      flex-wrap:wrap;\n",
              "      gap: 12px;\n",
              "    }\n",
              "\n",
              "    .colab-df-convert {\n",
              "      background-color: #E8F0FE;\n",
              "      border: none;\n",
              "      border-radius: 50%;\n",
              "      cursor: pointer;\n",
              "      display: none;\n",
              "      fill: #1967D2;\n",
              "      height: 32px;\n",
              "      padding: 0 0 0 0;\n",
              "      width: 32px;\n",
              "    }\n",
              "\n",
              "    .colab-df-convert:hover {\n",
              "      background-color: #E2EBFA;\n",
              "      box-shadow: 0px 1px 2px rgba(60, 64, 67, 0.3), 0px 1px 3px 1px rgba(60, 64, 67, 0.15);\n",
              "      fill: #174EA6;\n",
              "    }\n",
              "\n",
              "    [theme=dark] .colab-df-convert {\n",
              "      background-color: #3B4455;\n",
              "      fill: #D2E3FC;\n",
              "    }\n",
              "\n",
              "    [theme=dark] .colab-df-convert:hover {\n",
              "      background-color: #434B5C;\n",
              "      box-shadow: 0px 1px 3px 1px rgba(0, 0, 0, 0.15);\n",
              "      filter: drop-shadow(0px 1px 2px rgba(0, 0, 0, 0.3));\n",
              "      fill: #FFFFFF;\n",
              "    }\n",
              "  </style>\n",
              "\n",
              "      <script>\n",
              "        const buttonEl =\n",
              "          document.querySelector('#df-a0da19ab-60ec-42b4-a2a1-cd5a8125de1c button.colab-df-convert');\n",
              "        buttonEl.style.display =\n",
              "          google.colab.kernel.accessAllowed ? 'block' : 'none';\n",
              "\n",
              "        async function convertToInteractive(key) {\n",
              "          const element = document.querySelector('#df-a0da19ab-60ec-42b4-a2a1-cd5a8125de1c');\n",
              "          const dataTable =\n",
              "            await google.colab.kernel.invokeFunction('convertToInteractive',\n",
              "                                                     [key], {});\n",
              "          if (!dataTable) return;\n",
              "\n",
              "          const docLinkHtml = 'Like what you see? Visit the ' +\n",
              "            '<a target=\"_blank\" href=https://colab.research.google.com/notebooks/data_table.ipynb>data table notebook</a>'\n",
              "            + ' to learn more about interactive tables.';\n",
              "          element.innerHTML = '';\n",
              "          dataTable['output_type'] = 'display_data';\n",
              "          await google.colab.output.renderOutput(dataTable, element);\n",
              "          const docLink = document.createElement('div');\n",
              "          docLink.innerHTML = docLinkHtml;\n",
              "          element.appendChild(docLink);\n",
              "        }\n",
              "      </script>\n",
              "    </div>\n",
              "  </div>\n",
              "  "
            ]
          },
          "metadata": {},
          "execution_count": 38
        }
      ]
    },
    {
      "cell_type": "markdown",
      "source": [
        "**Defining function for calculating Model Performance**"
      ],
      "metadata": {
        "id": "7Bhb74wn6GSf"
      }
    },
    {
      "cell_type": "code",
      "source": [
        "# Defining function for calculating the performance of the classification model\n",
        "\n",
        "def metric_score(clf,X_train,X_test,y_train,y_test,train = True):\n",
        "    if train:\n",
        "        y_pred = clf.predict(X_train)\n",
        "        \n",
        "        print(\"-----------------Train Result--------------------\")\n",
        "        \n",
        "        print(f\"Accuracy Score : {accuracy_score(y_train,y_pred)*100:.2f}%\")\n",
        "        \n",
        "    elif train == False:\n",
        "        \n",
        "        pred = clf.predict(X_test)\n",
        "        \n",
        "        matrix = confusion_matrix(y_test,pred)\n",
        "        \n",
        "        print(\"-----------------Test Result--------------------\")\n",
        "        \n",
        "        print(\"Confusion Matrix \\n\",matrix)\n",
        "        \n",
        "        print(f\"Accuracy Score : {accuracy_score(y_test,pred)*100:.2f}%\")\n",
        "        \n",
        "        print(\"\\n Test Classification Report \\n \", classification_report(y_test,pred,digits =2))"
      ],
      "metadata": {
        "id": "6u3MrKoU6N1k"
      },
      "execution_count": 39,
      "outputs": []
    },
    {
      "cell_type": "code",
      "source": [
        "df_new.primary_fuel.unique()"
      ],
      "metadata": {
        "colab": {
          "base_uri": "https://localhost:8080/"
        },
        "id": "UUZ6D1c-6V2-",
        "outputId": "9b5ef16d-9950-4604-d2ae-f9e0258b0ed6"
      },
      "execution_count": 40,
      "outputs": [
        {
          "output_type": "execute_result",
          "data": {
            "text/plain": [
              "array([6, 1, 7, 2, 3, 0, 5, 4])"
            ]
          },
          "metadata": {},
          "execution_count": 40
        }
      ]
    },
    {
      "cell_type": "markdown",
      "source": [
        "**Code:**\n",
        "\n",
        "  * Biomass Plant - 0\n",
        "  * Coal based Plant - 1\n",
        "  * Gas based Plant - 2\n",
        "  * Hydro based Plant - 3\n",
        "  * Nuclear based Plant - 4\n",
        "  * Oil based Plant - 5\n",
        "  * Solar based Pant - 6\n",
        "  * Wind based Plant - 7\n"
      ],
      "metadata": {
        "id": "k0yWtF9u69WS"
      }
    },
    {
      "cell_type": "code",
      "source": [
        "df_new.primary_fuel.value_counts()"
      ],
      "metadata": {
        "colab": {
          "base_uri": "https://localhost:8080/"
        },
        "id": "2h3gYJvH8EbG",
        "outputId": "1bd82b78-aba3-4a72-a8eb-146c5246f246"
      },
      "execution_count": 42,
      "outputs": [
        {
          "output_type": "execute_result",
          "data": {
            "text/plain": [
              "1    231\n",
              "3    222\n",
              "7    123\n",
              "6    121\n",
              "2     64\n",
              "0     45\n",
              "5     20\n",
              "4      9\n",
              "Name: primary_fuel, dtype: int64"
            ]
          },
          "metadata": {},
          "execution_count": 42
        }
      ]
    },
    {
      "cell_type": "markdown",
      "source": [
        "**We can convert into two classes of fuel : Conventional and Non conventional**\n",
        "\n",
        "  * Conventional or Non renewable fuel - **Coal,Gas and Oil** - **code as 0**\n",
        "  * Non -conventional or Renewable fuel - **Biomass,Hydro,Nuclear,Solar and Wind** - **code as 1**"
      ],
      "metadata": {
        "id": "CNCzHCY29xV3"
      }
    },
    {
      "cell_type": "code",
      "source": [
        "df_new['primary_fuel'] = df_new['primary_fuel'].replace({0:1,1:0,2:0,3:1,4:1,5:0,6:1,7:1})"
      ],
      "metadata": {
        "id": "AlxnJIZ7_aaN"
      },
      "execution_count": 44,
      "outputs": []
    },
    {
      "cell_type": "code",
      "source": [
        "df_new['primary_fuel'].value_counts()"
      ],
      "metadata": {
        "colab": {
          "base_uri": "https://localhost:8080/"
        },
        "id": "iAVRq-bUL_b2",
        "outputId": "5b86732b-d119-4abf-f14b-d0f5ba4a8c6e"
      },
      "execution_count": 47,
      "outputs": [
        {
          "output_type": "execute_result",
          "data": {
            "text/plain": [
              "1    520\n",
              "0    315\n",
              "Name: primary_fuel, dtype: int64"
            ]
          },
          "metadata": {},
          "execution_count": 47
        }
      ]
    },
    {
      "cell_type": "markdown",
      "source": [
        "**The data is balanced and will proceed further for model building**"
      ],
      "metadata": {
        "id": "jH2hc6vTQSYY"
      }
    },
    {
      "cell_type": "markdown",
      "source": [
        "**Finding best random state for classification task**"
      ],
      "metadata": {
        "id": "Z0Xy4MV8RyuV"
      }
    },
    {
      "cell_type": "code",
      "source": [
        "maxAccu = 0 # Max Accuracy\n",
        "maxRS = 0   # Best random state for which maximum accuracy is achieved\n",
        "\n",
        "for i in range(0,1000):\n",
        "    X_train,X_test,y_train,y_test = train_test_split(X_scaler,y_clf,test_size=0.2,random_state=i)\n",
        "  \n",
        "    lr = LogisticRegression()\n",
        "    \n",
        "    lr.fit(X_train,y_train)    # Training the model\n",
        "   \n",
        "    pred_lr = lr.predict(X_test)    # Predicting the target variable\n",
        " \n",
        "    acc_lr = accuracy_score(y_test,pred_lr)\n",
        "  \n",
        "    if acc_lr>maxAccu:\n",
        "    \n",
        "        maxAccu = acc_lr\n",
        "        \n",
        "        maxRS = i\n",
        "        \n",
        "print(\"Maximum Accuracy:\",maxAccu,\"at random state \", maxRS)\n"
      ],
      "metadata": {
        "colab": {
          "base_uri": "https://localhost:8080/"
        },
        "id": "Sx7eSiUIQkO3",
        "outputId": "6d9e012d-84a7-480e-f74c-428872907321"
      },
      "execution_count": 50,
      "outputs": [
        {
          "output_type": "stream",
          "name": "stdout",
          "text": [
            "Maximum Accuracy: 0.8562874251497006 at random state  226\n"
          ]
        }
      ]
    },
    {
      "cell_type": "markdown",
      "source": [
        "**Train Test Split using best random state**"
      ],
      "metadata": {
        "id": "nI0Zc0qhTsAf"
      }
    },
    {
      "cell_type": "code",
      "source": [
        "X_train,X_test,y_train,y_test = train_test_split(X_scaler,y_clf,test_size=0.2,random_state=226)"
      ],
      "metadata": {
        "id": "mniJHjdTTpzN"
      },
      "execution_count": 51,
      "outputs": []
    },
    {
      "cell_type": "markdown",
      "source": [
        "**Logistic Regression**"
      ],
      "metadata": {
        "id": "tatahZy3T9Cf"
      }
    },
    {
      "cell_type": "code",
      "source": [
        "lr = LogisticRegression()\n",
        "\n",
        "lr.fit(X_train,y_train)\n",
        "\n",
        "pred_lr = lr.predict(X_test)    # Predicted values\n",
        "\n",
        "metric_score(lr,X_train,X_test,y_train,y_test,train=True)\n",
        "\n",
        "metric_score(lr,X_train,X_test,y_train,y_test,train=False)\n",
        "\n",
        "cr_lr = cross_val_score(lr,X_scaler,y_clf,cv=5)\n",
        "\n",
        "print(\"Cross validation score of Logistic regression model :\",cr_lr.mean()*100)"
      ],
      "metadata": {
        "colab": {
          "base_uri": "https://localhost:8080/"
        },
        "id": "cadZuly4T8TR",
        "outputId": "f021c4cb-6026-488d-8a13-15c4267e64b4"
      },
      "execution_count": 52,
      "outputs": [
        {
          "output_type": "stream",
          "name": "stdout",
          "text": [
            "-----------------Train Result--------------------\n",
            "Accuracy Score : 76.80%\n",
            "-----------------Test Result--------------------\n",
            "Confusion Matrix \n",
            " [[ 42  12]\n",
            " [ 12 101]]\n",
            "Accuracy Score : 85.63%\n",
            "\n",
            " Test Classification Report \n",
            "                precision    recall  f1-score   support\n",
            "\n",
            "           0       0.78      0.78      0.78        54\n",
            "           1       0.89      0.89      0.89       113\n",
            "\n",
            "    accuracy                           0.86       167\n",
            "   macro avg       0.84      0.84      0.84       167\n",
            "weighted avg       0.86      0.86      0.86       167\n",
            "\n",
            "Cross validation score of Logistic regression model : 76.64670658682635\n"
          ]
        }
      ]
    },
    {
      "cell_type": "markdown",
      "source": [
        "**Tuning parameters for Logistic Regression Model**"
      ],
      "metadata": {
        "id": "Ldxe1aomUhz2"
      }
    },
    {
      "cell_type": "code",
      "source": [
        "lr_params = {'penalty':['l1', 'l2'],\n",
        "             'tol':[0.0001,0.001,0.01],\n",
        "             'solver':['newton-cg', 'lbfgs', 'liblinear'],\n",
        "             'multi_class':['auto', 'ovr', 'multinomial']}\n",
        "\n",
        "grd_lr = GridSearchCV(lr,param_grid = lr_params, n_jobs =-1)\n",
        "\n",
        "grd_lr.fit(X_train,y_train)\n",
        "\n",
        "print(\"Best parameters : \",grd_lr.best_params_)"
      ],
      "metadata": {
        "colab": {
          "base_uri": "https://localhost:8080/"
        },
        "id": "hVlIivXdUnT8",
        "outputId": "ae5b996d-941c-48d8-90c8-7d08071178e6"
      },
      "execution_count": 53,
      "outputs": [
        {
          "output_type": "stream",
          "name": "stdout",
          "text": [
            "Best parameters :  {'multi_class': 'auto', 'penalty': 'l2', 'solver': 'newton-cg', 'tol': 0.0001}\n"
          ]
        }
      ]
    },
    {
      "cell_type": "code",
      "source": [
        "lr = grd_lr.best_estimator_\n",
        "\n",
        "lr.fit(X_train,y_train)\n",
        "\n",
        "pred_lr = lr.predict(X_test)    # Predicted values\n",
        "\n",
        "metric_score(lr,X_train,X_test,y_train,y_test,train=True)\n",
        "\n",
        "metric_score(lr,X_train,X_test,y_train,y_test,train=False)\n",
        "\n",
        "cr_lr = cross_val_score(lr,X_scaler,y_clf,cv=5)\n",
        "\n",
        "print(\"Cross validation score of Logistic regression model :\",cr_lr.mean()*100)"
      ],
      "metadata": {
        "colab": {
          "base_uri": "https://localhost:8080/"
        },
        "id": "nuFPfo-4U6V5",
        "outputId": "5ec56d9b-cb69-4b77-9c10-8b37993e80e3"
      },
      "execution_count": 54,
      "outputs": [
        {
          "output_type": "stream",
          "name": "stdout",
          "text": [
            "-----------------Train Result--------------------\n",
            "Accuracy Score : 76.80%\n",
            "-----------------Test Result--------------------\n",
            "Confusion Matrix \n",
            " [[ 42  12]\n",
            " [ 12 101]]\n",
            "Accuracy Score : 85.63%\n",
            "\n",
            " Test Classification Report \n",
            "                precision    recall  f1-score   support\n",
            "\n",
            "           0       0.78      0.78      0.78        54\n",
            "           1       0.89      0.89      0.89       113\n",
            "\n",
            "    accuracy                           0.86       167\n",
            "   macro avg       0.84      0.84      0.84       167\n",
            "weighted avg       0.86      0.86      0.86       167\n",
            "\n",
            "Cross validation score of Logistic regression model : 76.64670658682635\n"
          ]
        }
      ]
    },
    {
      "cell_type": "markdown",
      "source": [
        "**KNeighbors Classifier**"
      ],
      "metadata": {
        "id": "T1DWvp59VRCb"
      }
    },
    {
      "cell_type": "code",
      "source": [
        "knn = KNeighborsClassifier()\n",
        "\n",
        "knn.fit(X_train,y_train)\n",
        "\n",
        "pred_knn = knn.predict(X_test)    # Predicted values\n",
        "\n",
        "metric_score(knn,X_train,X_test,y_train,y_test,train=True)\n",
        "\n",
        "metric_score(knn,X_train,X_test,y_train,y_test,train=False)\n",
        "\n",
        "cr_knn = cross_val_score(knn,X_scaler,y_clf,cv=5)\n",
        "\n",
        "print(\"Cross validation score of K Neighbors Classifier model :\",cr_knn.mean()*100)"
      ],
      "metadata": {
        "colab": {
          "base_uri": "https://localhost:8080/"
        },
        "id": "sxb4cg8cVV1i",
        "outputId": "558d31e5-f0a2-4aaf-fdea-b72fba449319"
      },
      "execution_count": 55,
      "outputs": [
        {
          "output_type": "stream",
          "name": "stdout",
          "text": [
            "-----------------Train Result--------------------\n",
            "Accuracy Score : 87.57%\n",
            "-----------------Test Result--------------------\n",
            "Confusion Matrix \n",
            " [[ 46   8]\n",
            " [ 12 101]]\n",
            "Accuracy Score : 88.02%\n",
            "\n",
            " Test Classification Report \n",
            "                precision    recall  f1-score   support\n",
            "\n",
            "           0       0.79      0.85      0.82        54\n",
            "           1       0.93      0.89      0.91       113\n",
            "\n",
            "    accuracy                           0.88       167\n",
            "   macro avg       0.86      0.87      0.87       167\n",
            "weighted avg       0.88      0.88      0.88       167\n",
            "\n",
            "Cross validation score of K Neighbors Classifier model : 79.76047904191617\n"
          ]
        }
      ]
    },
    {
      "cell_type": "markdown",
      "source": [
        "**Tuning parameters for KNN**"
      ],
      "metadata": {
        "id": "9p5xII4XVjHU"
      }
    },
    {
      "cell_type": "code",
      "source": [
        "knn_params = { 'n_neighbors':[4,5,6,7],\n",
        "        'weights':['uniform','distance'],\n",
        "    'algorithm':['auto','ball_tree','kd_tree','brute'],\n",
        "    'leaf_size':[25,30,35]}\n",
        "\n",
        "grd_knn = GridSearchCV(knn,param_grid = knn_params,cv = 5, n_jobs =-1)\n",
        "\n",
        "grd_knn.fit(X_train,y_train)\n",
        "\n",
        "print(\"Best parameters : \",grd_knn.best_params_)"
      ],
      "metadata": {
        "colab": {
          "base_uri": "https://localhost:8080/"
        },
        "id": "gdNXJg4kVm5x",
        "outputId": "248afdea-00fd-4a60-cf75-8eff33959d76"
      },
      "execution_count": 56,
      "outputs": [
        {
          "output_type": "stream",
          "name": "stdout",
          "text": [
            "Best parameters :  {'algorithm': 'auto', 'leaf_size': 25, 'n_neighbors': 4, 'weights': 'distance'}\n"
          ]
        }
      ]
    },
    {
      "cell_type": "code",
      "source": [
        "knn = grd_knn.best_estimator_\n",
        "\n",
        "knn.fit(X_train,y_train)\n",
        "\n",
        "pred_knn = knn.predict(X_test)    # Predicted values\n",
        "\n",
        "metric_score(knn,X_train,X_test,y_train,y_test,train=True)\n",
        "\n",
        "metric_score(knn,X_train,X_test,y_train,y_test,train=False)\n",
        "\n",
        "cr_knn = cross_val_score(knn,X_scaler,y_clf,cv=5)\n",
        "\n",
        "print(\"Cross validation score of K Neighbors Classifier model :\",cr_knn.mean()*100)\n"
      ],
      "metadata": {
        "colab": {
          "base_uri": "https://localhost:8080/"
        },
        "id": "NfsfTUDaV3nV",
        "outputId": "6c573af9-8004-4458-db52-a036e5d7ee5a"
      },
      "execution_count": 57,
      "outputs": [
        {
          "output_type": "stream",
          "name": "stdout",
          "text": [
            "-----------------Train Result--------------------\n",
            "Accuracy Score : 100.00%\n",
            "-----------------Test Result--------------------\n",
            "Confusion Matrix \n",
            " [[ 47   7]\n",
            " [ 12 101]]\n",
            "Accuracy Score : 88.62%\n",
            "\n",
            " Test Classification Report \n",
            "                precision    recall  f1-score   support\n",
            "\n",
            "           0       0.80      0.87      0.83        54\n",
            "           1       0.94      0.89      0.91       113\n",
            "\n",
            "    accuracy                           0.89       167\n",
            "   macro avg       0.87      0.88      0.87       167\n",
            "weighted avg       0.89      0.89      0.89       167\n",
            "\n",
            "Cross validation score of K Neighbors Classifier model : 82.03592814371257\n"
          ]
        }
      ]
    },
    {
      "cell_type": "markdown",
      "source": [
        "**Decision Tree Classifier**"
      ],
      "metadata": {
        "id": "Aa-60d0VWII0"
      }
    },
    {
      "cell_type": "code",
      "source": [
        "dt = DecisionTreeClassifier()\n",
        "\n",
        "dt.fit(X_train,y_train)      # Model training\n",
        "\n",
        "pred_dt = dt.predict(X_test)    # Predicted values\n",
        "\n",
        "metric_score(dt,X_train,X_test,y_train,y_test,train=True)  # Training result\n",
        "\n",
        "metric_score(dt,X_train,X_test,y_train,y_test,train=False)  # Test result\n",
        "\n",
        "cr_dt = cross_val_score(dt,X_scaler,y_clf,cv=5)\n",
        "\n",
        "print(\"Cross validation score of Decision Tree Classifier model :\",cr_dt.mean()*100)"
      ],
      "metadata": {
        "colab": {
          "base_uri": "https://localhost:8080/"
        },
        "id": "T52bmrLnWNNp",
        "outputId": "27c33d69-7f27-4641-d5ae-6bdbbb3dd64d"
      },
      "execution_count": 58,
      "outputs": [
        {
          "output_type": "stream",
          "name": "stdout",
          "text": [
            "-----------------Train Result--------------------\n",
            "Accuracy Score : 100.00%\n",
            "-----------------Test Result--------------------\n",
            "Confusion Matrix \n",
            " [[42 12]\n",
            " [14 99]]\n",
            "Accuracy Score : 84.43%\n",
            "\n",
            " Test Classification Report \n",
            "                precision    recall  f1-score   support\n",
            "\n",
            "           0       0.75      0.78      0.76        54\n",
            "           1       0.89      0.88      0.88       113\n",
            "\n",
            "    accuracy                           0.84       167\n",
            "   macro avg       0.82      0.83      0.82       167\n",
            "weighted avg       0.85      0.84      0.85       167\n",
            "\n",
            "Cross validation score of Decision Tree Classifier model : 85.38922155688621\n"
          ]
        }
      ]
    },
    {
      "cell_type": "markdown",
      "source": [
        "**Tuning parameters for Decision Tree Model**"
      ],
      "metadata": {
        "id": "QzuN2UpsWwIJ"
      }
    },
    {
      "cell_type": "code",
      "source": [
        "grid_param = {'max_depth': range(15,20),\n",
        "              'min_samples_leaf': range(8,14),\n",
        "              'min_samples_split': range(2,6),\n",
        "              'max_leaf_nodes': range(40,50)\n",
        "             }\n",
        "\n",
        "grid_search = GridSearchCV(estimator = dt, param_grid = grid_param,n_jobs =-1)\n",
        "\n",
        "grid_search.fit(X_train,y_train)\n",
        "\n",
        "print(\"Best parameters : \",grid_search.best_params_)"
      ],
      "metadata": {
        "colab": {
          "base_uri": "https://localhost:8080/"
        },
        "id": "4SL9EAJXW4XK",
        "outputId": "f17287fc-83c8-4dbe-9a04-532d39b3b51f"
      },
      "execution_count": 59,
      "outputs": [
        {
          "output_type": "stream",
          "name": "stdout",
          "text": [
            "Best parameters :  {'max_depth': 15, 'max_leaf_nodes': 45, 'min_samples_leaf': 8, 'min_samples_split': 5}\n"
          ]
        }
      ]
    },
    {
      "cell_type": "code",
      "source": [
        "dt = grid_search.best_estimator_\n",
        "\n",
        "dt.fit(X_train,y_train)      # Model training\n",
        "\n",
        "pred_dt = dt.predict(X_test)    # Predicted values\n",
        "\n",
        "metric_score(dt,X_train,X_test,y_train,y_test,train=True)  # Training result\n",
        "\n",
        "metric_score(dt,X_train,X_test,y_train,y_test,train=False)  # Test result\n",
        "\n",
        "cr_dt = cross_val_score(dt,X_scaler,y_clf,cv=5)\n",
        "\n",
        "print(\"Cross validation score of Decision Tree Classifier model :\",cr_dt.mean()*100)\n"
      ],
      "metadata": {
        "colab": {
          "base_uri": "https://localhost:8080/"
        },
        "id": "EOII0OdJXRtt",
        "outputId": "1f5b2372-e5e5-4698-c14f-7d25c9a85713"
      },
      "execution_count": 60,
      "outputs": [
        {
          "output_type": "stream",
          "name": "stdout",
          "text": [
            "-----------------Train Result--------------------\n",
            "Accuracy Score : 88.47%\n",
            "-----------------Test Result--------------------\n",
            "Confusion Matrix \n",
            " [[ 44  10]\n",
            " [ 12 101]]\n",
            "Accuracy Score : 86.83%\n",
            "\n",
            " Test Classification Report \n",
            "                precision    recall  f1-score   support\n",
            "\n",
            "           0       0.79      0.81      0.80        54\n",
            "           1       0.91      0.89      0.90       113\n",
            "\n",
            "    accuracy                           0.87       167\n",
            "   macro avg       0.85      0.85      0.85       167\n",
            "weighted avg       0.87      0.87      0.87       167\n",
            "\n",
            "Cross validation score of Decision Tree Classifier model : 83.71257485029939\n"
          ]
        }
      ]
    },
    {
      "cell_type": "markdown",
      "source": [
        "**Random Forest Classifier**"
      ],
      "metadata": {
        "id": "GZJh6mvXXi1m"
      }
    },
    {
      "cell_type": "code",
      "source": [
        "rf = RandomForestClassifier()\n",
        "\n",
        "rf.fit(X_train,y_train)      # Model training\n",
        "\n",
        "pred_rf = rf.predict(X_test)    # Predicted values\n",
        "\n",
        "metric_score(rf,X_train,X_test,y_train,y_test,train=True)  # Training result\n",
        "\n",
        "metric_score(rf,X_train,X_test,y_train,y_test,train=False)  # Test result\n",
        "\n",
        "cr_rf = cross_val_score(rf,X_scaler,y_clf,cv=5)\n",
        "\n",
        "print(\"Cross validation score of Random Forest Classifier model :\",cr_rf.mean()*100)"
      ],
      "metadata": {
        "colab": {
          "base_uri": "https://localhost:8080/"
        },
        "id": "FmogBKB7Xnqm",
        "outputId": "71e7c10f-aa0b-4215-8b27-bfb47a736493"
      },
      "execution_count": 61,
      "outputs": [
        {
          "output_type": "stream",
          "name": "stdout",
          "text": [
            "-----------------Train Result--------------------\n",
            "Accuracy Score : 100.00%\n",
            "-----------------Test Result--------------------\n",
            "Confusion Matrix \n",
            " [[ 50   4]\n",
            " [  4 109]]\n",
            "Accuracy Score : 95.21%\n",
            "\n",
            " Test Classification Report \n",
            "                precision    recall  f1-score   support\n",
            "\n",
            "           0       0.93      0.93      0.93        54\n",
            "           1       0.96      0.96      0.96       113\n",
            "\n",
            "    accuracy                           0.95       167\n",
            "   macro avg       0.95      0.95      0.95       167\n",
            "weighted avg       0.95      0.95      0.95       167\n",
            "\n",
            "Cross validation score of Random Forest Classifier model : 90.17964071856287\n"
          ]
        }
      ]
    },
    {
      "cell_type": "markdown",
      "source": [
        "**Tuning parameters for Random Forest Classifier**"
      ],
      "metadata": {
        "id": "IptJYEQWX--_"
      }
    },
    {
      "cell_type": "code",
      "source": [
        "params_rf = {'criterion':['gini','entropy'],\n",
        "         'max_depth': [10,12,25],\n",
        "         'min_samples_split' :[2,3,4],\n",
        "         'min_samples_leaf' :[1,2,3]}\n",
        "\n",
        "grd_rf = GridSearchCV(rf,param_grid = params_rf,n_jobs =-1)\n",
        "\n",
        "grd_rf.fit(X_train,y_train)\n",
        "\n",
        "print(\"Best parameters : \",grd_rf.best_params_)"
      ],
      "metadata": {
        "colab": {
          "base_uri": "https://localhost:8080/"
        },
        "id": "wtLDXGLCYFcS",
        "outputId": "b6506bb1-24d7-4ade-e383-3a5ccd39b070"
      },
      "execution_count": 62,
      "outputs": [
        {
          "output_type": "stream",
          "name": "stdout",
          "text": [
            "Best parameters :  {'criterion': 'entropy', 'max_depth': 25, 'min_samples_leaf': 1, 'min_samples_split': 3}\n"
          ]
        }
      ]
    },
    {
      "cell_type": "code",
      "source": [
        "rf = grd_rf.best_estimator_\n",
        "\n",
        "rf.fit(X_train,y_train)\n",
        "\n",
        "pred_rf = rf.predict(X_test)    # Predicted values\n",
        "\n",
        "metric_score(rf,X_train,X_test,y_train,y_test,train=True)  # Training result\n",
        "\n",
        "metric_score(rf,X_train,X_test,y_train,y_test,train=False)  # Test result\n",
        "\n",
        "cr_rf = cross_val_score(rf,X_scaler,y_clf,cv=5)\n",
        "\n",
        "print(\"Cross validation score of Random Forest Classifier model :\",cr_rf.mean()*100)"
      ],
      "metadata": {
        "colab": {
          "base_uri": "https://localhost:8080/"
        },
        "id": "eRxI4SaQYZ-U",
        "outputId": "614ae804-5fba-40e4-ec6b-715640730a54"
      },
      "execution_count": 63,
      "outputs": [
        {
          "output_type": "stream",
          "name": "stdout",
          "text": [
            "-----------------Train Result--------------------\n",
            "Accuracy Score : 100.00%\n",
            "-----------------Test Result--------------------\n",
            "Confusion Matrix \n",
            " [[ 48   6]\n",
            " [  6 107]]\n",
            "Accuracy Score : 92.81%\n",
            "\n",
            " Test Classification Report \n",
            "                precision    recall  f1-score   support\n",
            "\n",
            "           0       0.89      0.89      0.89        54\n",
            "           1       0.95      0.95      0.95       113\n",
            "\n",
            "    accuracy                           0.93       167\n",
            "   macro avg       0.92      0.92      0.92       167\n",
            "weighted avg       0.93      0.93      0.93       167\n",
            "\n",
            "Cross validation score of Random Forest Classifier model : 90.05988023952096\n"
          ]
        }
      ]
    },
    {
      "cell_type": "markdown",
      "source": [
        "**SVC**"
      ],
      "metadata": {
        "id": "7bPGnp0IY31W"
      }
    },
    {
      "cell_type": "code",
      "source": [
        "svc = SVC()\n",
        "\n",
        "svc.fit(X_train,y_train)\n",
        "\n",
        "pred_svc = svc.predict(X_test)    # Predicted values\n",
        "\n",
        "metric_score(svc,X_train,X_test,y_train,y_test,train=True)\n",
        "\n",
        "metric_score(svc,X_train,X_test,y_train,y_test,train=False)\n",
        "\n",
        "cr_svc = cross_val_score(svc,X_scaler,y_clf,cv=5)\n",
        "\n",
        "print(\"Cross validation score of Support Vector Classifier model :\",cr_svc.mean()*100)\n"
      ],
      "metadata": {
        "colab": {
          "base_uri": "https://localhost:8080/"
        },
        "id": "4Akfhf61ZPAA",
        "outputId": "f94d8ff2-3df6-4e56-cc62-ba332f7b377f"
      },
      "execution_count": 64,
      "outputs": [
        {
          "output_type": "stream",
          "name": "stdout",
          "text": [
            "-----------------Train Result--------------------\n",
            "Accuracy Score : 84.88%\n",
            "-----------------Test Result--------------------\n",
            "Confusion Matrix \n",
            " [[ 46   8]\n",
            " [ 13 100]]\n",
            "Accuracy Score : 87.43%\n",
            "\n",
            " Test Classification Report \n",
            "                precision    recall  f1-score   support\n",
            "\n",
            "           0       0.78      0.85      0.81        54\n",
            "           1       0.93      0.88      0.90       113\n",
            "\n",
            "    accuracy                           0.87       167\n",
            "   macro avg       0.85      0.87      0.86       167\n",
            "weighted avg       0.88      0.87      0.88       167\n",
            "\n",
            "Cross validation score of Support Vector Classifier model : 80.95808383233532\n"
          ]
        }
      ]
    },
    {
      "cell_type": "markdown",
      "source": [
        "**Tuning parameters for SVC**"
      ],
      "metadata": {
        "id": "PwNdHm5VZfs6"
      }
    },
    {
      "cell_type": "code",
      "source": [
        "svc_params = {'kernel':['rbf','linear','poly','sigmoid'],\n",
        "              'gamma':['scale','auto'],\n",
        "              'decision_function_shape':['ovr','ovo']\n",
        "              }\n",
        "\n",
        "grd_svc = GridSearchCV(svc,param_grid = svc_params,n_jobs =-1)\n",
        "\n",
        "grd_svc.fit(X_train,y_train)\n",
        "\n",
        "print(\"Best parameters : \",grd_svc.best_params_)"
      ],
      "metadata": {
        "colab": {
          "base_uri": "https://localhost:8080/"
        },
        "id": "B1Kug1PrZlHM",
        "outputId": "187fd29c-b596-47e5-a999-b7e9c9609959"
      },
      "execution_count": 65,
      "outputs": [
        {
          "output_type": "stream",
          "name": "stdout",
          "text": [
            "Best parameters :  {'decision_function_shape': 'ovr', 'gamma': 'scale', 'kernel': 'rbf'}\n"
          ]
        }
      ]
    },
    {
      "cell_type": "code",
      "source": [
        "svc = grd_svc.best_estimator_\n",
        "\n",
        "svc.fit(X_train,y_train)\n",
        "\n",
        "pred_svc = svc.predict(X_test)    # Predicted values\n",
        "\n",
        "metric_score(svc,X_train,X_test,y_train,y_test,train=True)\n",
        "\n",
        "metric_score(svc,X_train,X_test,y_train,y_test,train=False)\n",
        "\n",
        "cr_svc = cross_val_score(svc,X_scaler,y_clf,cv=5)\n",
        "\n",
        "print(\"Cross validation score of Support Vector Classifier model :\",cr_svc.mean()*100)\n"
      ],
      "metadata": {
        "colab": {
          "base_uri": "https://localhost:8080/"
        },
        "id": "PIjaFIMxZ2Lq",
        "outputId": "01926a0a-50b9-40ff-ab18-bd7d6f1ada87"
      },
      "execution_count": 66,
      "outputs": [
        {
          "output_type": "stream",
          "name": "stdout",
          "text": [
            "-----------------Train Result--------------------\n",
            "Accuracy Score : 84.88%\n",
            "-----------------Test Result--------------------\n",
            "Confusion Matrix \n",
            " [[ 46   8]\n",
            " [ 13 100]]\n",
            "Accuracy Score : 87.43%\n",
            "\n",
            " Test Classification Report \n",
            "                precision    recall  f1-score   support\n",
            "\n",
            "           0       0.78      0.85      0.81        54\n",
            "           1       0.93      0.88      0.90       113\n",
            "\n",
            "    accuracy                           0.87       167\n",
            "   macro avg       0.85      0.87      0.86       167\n",
            "weighted avg       0.88      0.87      0.88       167\n",
            "\n",
            "Cross validation score of Support Vector Classifier model : 80.95808383233532\n"
          ]
        }
      ]
    },
    {
      "cell_type": "markdown",
      "source": [
        "**Plotting ROC AUC curve to choose best model**"
      ],
      "metadata": {
        "id": "4pF3hD-KdWf5"
      }
    },
    {
      "cell_type": "code",
      "source": [
        "from sklearn.metrics import plot_roc_curve\n",
        "\n",
        "# Plotting ROC AUC curve on training data\n",
        "\n",
        "disp = plot_roc_curve(rf,X_train,y_train)\n",
        "\n",
        "plot_roc_curve(lr,X_train,y_train,ax=disp.ax_)\n",
        "\n",
        "plot_roc_curve(dt,X_train,y_train,ax=disp.ax_)\n",
        "\n",
        "plot_roc_curve(knn,X_train,y_train,ax=disp.ax_)\n",
        "\n",
        "plot_roc_curve(svc,X_train,y_train,ax=disp.ax_)\n",
        "\n",
        "plt.legend(prop={'size':10},loc='lower right')\n",
        "\n",
        "plt.show()"
      ],
      "metadata": {
        "colab": {
          "base_uri": "https://localhost:8080/",
          "height": 279
        },
        "id": "AuFVRDoadYeD",
        "outputId": "13535d77-f64d-45ab-f950-a229848ebe47"
      },
      "execution_count": 67,
      "outputs": [
        {
          "output_type": "display_data",
          "data": {
            "text/plain": [
              "<Figure size 432x288 with 1 Axes>"
            ],
            "image/png": "[encoded data removed]"
          },
          "metadata": {
            "needs_background": "light"
          }
        }
      ]
    },
    {
      "cell_type": "code",
      "source": [
        "# Plotting ROC AUC curve on test data\n",
        "\n",
        "disp = plot_roc_curve(rf,X_test,y_test)\n",
        "\n",
        "plot_roc_curve(lr,X_test,y_test,ax=disp.ax_)\n",
        "\n",
        "plot_roc_curve(dt,X_test,y_test,ax=disp.ax_)\n",
        "\n",
        "plot_roc_curve(knn,X_test,y_test,ax=disp.ax_)\n",
        "\n",
        "plot_roc_curve(svc,X_test,y_test,ax=disp.ax_)\n",
        "\n",
        "plt.legend(prop={'size':10},loc='lower right')\n",
        "\n",
        "plt.show()"
      ],
      "metadata": {
        "colab": {
          "base_uri": "https://localhost:8080/",
          "height": 279
        },
        "id": "8l7rDnsWdv9Y",
        "outputId": "1d84b059-a52f-4151-d5a0-39de4ee68122"
      },
      "execution_count": 68,
      "outputs": [
        {
          "output_type": "display_data",
          "data": {
            "text/plain": [
              "<Figure size 432x288 with 1 Axes>"
            ],
            "image/png": "[encoded data removed]"
          },
          "metadata": {
            "needs_background": "light"
          }
        }
      ]
    },
    {
      "cell_type": "markdown",
      "source": [
        "**Best model as per ROC AUC Curve: - Random Forest Classifier as the difference between training and test accuracy is minimum and also more area is covered under Random Forest curve**"
      ],
      "metadata": {
        "id": "mRCmq1IPeFaX"
      }
    },
    {
      "cell_type": "markdown",
      "source": [
        "**Saving the model for primary_fuel prediction**"
      ],
      "metadata": {
        "id": "w_o00TkKeQUv"
      }
    },
    {
      "cell_type": "code",
      "source": [
        "filename = 'GPPD_primaryFuel_clf.pkl'\n",
        "pickle.dump(rf,open(filename,'wb'))\n"
      ],
      "metadata": {
        "id": "TSf-VKtWeYFZ"
      },
      "execution_count": 69,
      "outputs": []
    },
    {
      "cell_type": "markdown",
      "source": [
        "**Conclusion for primary_fuel prediction**"
      ],
      "metadata": {
        "id": "iAF5ltEFfHOU"
      }
    },
    {
      "cell_type": "code",
      "source": [
        "loaded_model = pickle.load(open('GPPD_primaryFuel_clf.pkl','rb'))\n",
        "\n",
        "pred_rf = loaded_model.predict(X_test)\n",
        "\n",
        "result = accuracy_score(y_test,pred_rf)\n",
        "\n",
        "print(result*100)"
      ],
      "metadata": {
        "colab": {
          "base_uri": "https://localhost:8080/"
        },
        "id": "2xAieNCfeJpq",
        "outputId": "feb8c60c-434a-4fe6-e338-02607eaf0cf0"
      },
      "execution_count": 70,
      "outputs": [
        {
          "output_type": "stream",
          "name": "stdout",
          "text": [
            "92.81437125748504\n"
          ]
        }
      ]
    },
    {
      "cell_type": "code",
      "source": [
        "conclusion = pd.DataFrame([pred_rf,y_test],index=['Predicted','Original'])\n",
        "\n",
        "conclusion"
      ],
      "metadata": {
        "colab": {
          "base_uri": "https://localhost:8080/",
          "height": 141
        },
        "id": "zzGFVLQ6fdYi",
        "outputId": "f26f4ab2-0bb0-4b7b-ad38-20f13a667ddc"
      },
      "execution_count": 71,
      "outputs": [
        {
          "output_type": "execute_result",
          "data": {
            "text/plain": [
              "           0    1    2    3    4    5    6    7    8    9    ...  157  158  \\\n",
              "Predicted    1    1    1    1    0    1    0    0    1    1  ...    0    1   \n",
              "Original     1    1    1    1    0    1    0    0    1    1  ...    0    1   \n",
              "\n",
              "           159  160  161  162  163  164  165  166  \n",
              "Predicted    1    1    1    0    1    1    1    0  \n",
              "Original     1    1    1    0    0    0    1    0  \n",
              "\n",
              "[2 rows x 167 columns]"
            ],
            "text/html": [
              "\n",
              "  <div id=\"df-51d6e384-b37e-4a13-b4bd-8e53e688061c\">\n",
              "    <div class=\"colab-df-container\">\n",
              "      <div>\n",
              "<style scoped>\n",
              "    .dataframe tbody tr th:only-of-type {\n",
              "        vertical-align: middle;\n",
              "    }\n",
              "\n",
              "    .dataframe tbody tr th {\n",
              "        vertical-align: top;\n",
              "    }\n",
              "\n",
              "    .dataframe thead th {\n",
              "        text-align: right;\n",
              "    }\n",
              "</style>\n",
              "<table border=\"1\" class=\"dataframe\">\n",
              "  <thead>\n",
              "    <tr style=\"text-align: right;\">\n",
              "      <th></th>\n",
              "      <th>0</th>\n",
              "      <th>1</th>\n",
              "      <th>2</th>\n",
              "      <th>3</th>\n",
              "      <th>4</th>\n",
              "      <th>5</th>\n",
              "      <th>6</th>\n",
              "      <th>7</th>\n",
              "      <th>8</th>\n",
              "      <th>9</th>\n",
              "      <th>...</th>\n",
              "      <th>157</th>\n",
              "      <th>158</th>\n",
              "      <th>159</th>\n",
              "      <th>160</th>\n",
              "      <th>161</th>\n",
              "      <th>162</th>\n",
              "      <th>163</th>\n",
              "      <th>164</th>\n",
              "      <th>165</th>\n",
              "      <th>166</th>\n",
              "    </tr>\n",
              "  </thead>\n",
              "  <tbody>\n",
              "    <tr>\n",
              "      <th>Predicted</th>\n",
              "      <td>1</td>\n",
              "      <td>1</td>\n",
              "      <td>1</td>\n",
              "      <td>1</td>\n",
              "      <td>0</td>\n",
              "      <td>1</td>\n",
              "      <td>0</td>\n",
              "      <td>0</td>\n",
              "      <td>1</td>\n",
              "      <td>1</td>\n",
              "      <td>...</td>\n",
              "      <td>0</td>\n",
              "      <td>1</td>\n",
              "      <td>1</td>\n",
              "      <td>1</td>\n",
              "      <td>1</td>\n",
              "      <td>0</td>\n",
              "      <td>1</td>\n",
              "      <td>1</td>\n",
              "      <td>1</td>\n",
              "      <td>0</td>\n",
              "    </tr>\n",
              "    <tr>\n",
              "      <th>Original</th>\n",
              "      <td>1</td>\n",
              "      <td>1</td>\n",
              "      <td>1</td>\n",
              "      <td>1</td>\n",
              "      <td>0</td>\n",
              "      <td>1</td>\n",
              "      <td>0</td>\n",
              "      <td>0</td>\n",
              "      <td>1</td>\n",
              "      <td>1</td>\n",
              "      <td>...</td>\n",
              "      <td>0</td>\n",
              "      <td>1</td>\n",
              "      <td>1</td>\n",
              "      <td>1</td>\n",
              "      <td>1</td>\n",
              "      <td>0</td>\n",
              "      <td>0</td>\n",
              "      <td>0</td>\n",
              "      <td>1</td>\n",
              "      <td>0</td>\n",
              "    </tr>\n",
              "  </tbody>\n",
              "</table>\n",
              "<p>2 rows × 167 columns</p>\n",
              "</div>\n",
              "      <button class=\"colab-df-convert\" onclick=\"convertToInteractive('df-51d6e384-b37e-4a13-b4bd-8e53e688061c')\"\n",
              "              title=\"Convert this dataframe to an interactive table.\"\n",
              "              style=\"display:none;\">\n",
              "        \n",
              "  <svg xmlns=\"http://www.w3.org/2000/svg\" height=\"24px\"viewBox=\"0 0 24 24\"\n",
              "       width=\"24px\">\n",
              "    <path d=\"M0 0h24v24H0V0z\" fill=\"none\"/>\n",
              "    <path d=\"M18.56 5.44l.94 2.06.94-2.06 2.06-.94-2.06-.94-.94-2.06-.94 2.06-2.06.94zm-11 1L8.5 8.5l.94-2.06 2.06-.94-2.06-.94L8.5 2.5l-.94 2.06-2.06.94zm10 10l.94 2.06.94-2.06 2.06-.94-2.06-.94-.94-2.06-.94 2.06-2.06.94z\"/><path d=\"M17.41 7.96l-1.37-1.37c-.4-.4-.92-.59-1.43-.59-.52 0-1.04.2-1.43.59L10.3 9.45l-7.72 7.72c-.78.78-.78 2.05 0 2.83L4 21.41c.39.39.9.59 1.41.59.51 0 1.02-.2 1.41-.59l7.78-7.78 2.81-2.81c.8-.78.8-2.07 0-2.86zM5.41 20L4 18.59l7.72-7.72 1.47 1.35L5.41 20z\"/>\n",
              "  </svg>\n",
              "      </button>\n",
              "      \n",
              "  <style>\n",
              "    .colab-df-container {\n",
              "      display:flex;\n",
              "      flex-wrap:wrap;\n",
              "      gap: 12px;\n",
              "    }\n",
              "\n",
              "    .colab-df-convert {\n",
              "      background-color: #E8F0FE;\n",
              "      border: none;\n",
              "      border-radius: 50%;\n",
              "      cursor: pointer;\n",
              "      display: none;\n",
              "      fill: #1967D2;\n",
              "      height: 32px;\n",
              "      padding: 0 0 0 0;\n",
              "      width: 32px;\n",
              "    }\n",
              "\n",
              "    .colab-df-convert:hover {\n",
              "      background-color: #E2EBFA;\n",
              "      box-shadow: 0px 1px 2px rgba(60, 64, 67, 0.3), 0px 1px 3px 1px rgba(60, 64, 67, 0.15);\n",
              "      fill: #174EA6;\n",
              "    }\n",
              "\n",
              "    [theme=dark] .colab-df-convert {\n",
              "      background-color: #3B4455;\n",
              "      fill: #D2E3FC;\n",
              "    }\n",
              "\n",
              "    [theme=dark] .colab-df-convert:hover {\n",
              "      background-color: #434B5C;\n",
              "      box-shadow: 0px 1px 3px 1px rgba(0, 0, 0, 0.15);\n",
              "      filter: drop-shadow(0px 1px 2px rgba(0, 0, 0, 0.3));\n",
              "      fill: #FFFFFF;\n",
              "    }\n",
              "  </style>\n",
              "\n",
              "      <script>\n",
              "        const buttonEl =\n",
              "          document.querySelector('#df-51d6e384-b37e-4a13-b4bd-8e53e688061c button.colab-df-convert');\n",
              "        buttonEl.style.display =\n",
              "          google.colab.kernel.accessAllowed ? 'block' : 'none';\n",
              "\n",
              "        async function convertToInteractive(key) {\n",
              "          const element = document.querySelector('#df-51d6e384-b37e-4a13-b4bd-8e53e688061c');\n",
              "          const dataTable =\n",
              "            await google.colab.kernel.invokeFunction('convertToInteractive',\n",
              "                                                     [key], {});\n",
              "          if (!dataTable) return;\n",
              "\n",
              "          const docLinkHtml = 'Like what you see? Visit the ' +\n",
              "            '<a target=\"_blank\" href=https://colab.research.google.com/notebooks/data_table.ipynb>data table notebook</a>'\n",
              "            + ' to learn more about interactive tables.';\n",
              "          element.innerHTML = '';\n",
              "          dataTable['output_type'] = 'display_data';\n",
              "          await google.colab.output.renderOutput(dataTable, element);\n",
              "          const docLink = document.createElement('div');\n",
              "          docLink.innerHTML = docLinkHtml;\n",
              "          element.appendChild(docLink);\n",
              "        }\n",
              "      </script>\n",
              "    </div>\n",
              "  </div>\n",
              "  "
            ]
          },
          "metadata": {},
          "execution_count": 71
        }
      ]
    },
    {
      "cell_type": "code",
      "source": [],
      "metadata": {
        "id": "7b7NdugSg9X9"
      },
      "execution_count": null,
      "outputs": []
    }
  ]
}