{
  "nbformat": 4,
  "nbformat_minor": 0,
  "metadata": {
    "colab": {
      "provenance": []
    },
    "kernelspec": {
      "name": "python3",
      "display_name": "Python 3"
    },
    "language_info": {
      "name": "python"
    }
  },
  "cells": [
    {
      "cell_type": "markdown",
      "source": [
        "**Evaluation Project - 6**\n",
        "\n",
        "**Loan Application Status Prediction**\n",
        "\n",
        "**Problem Statement:**\n",
        "\n",
        "This dataset includes details of applicants who have applied for loan. The dataset includes details like credit history, loan amount, their income, dependents etc. \n",
        "\n",
        "**Independent Variables:**\n",
        "\n",
        "- Loan_ID\n",
        "\n",
        "- Gender\n",
        "\n",
        "- Married\n",
        "\n",
        "- Dependents\n",
        "\n",
        "- Education\n",
        "\n",
        "- Self_Employed\n",
        "\n",
        "- ApplicantIncome\n",
        "\n",
        "- CoapplicantIncome\n",
        "\n",
        "- Loan_Amount\n",
        "\n",
        "- Loan_Amount_Term\n",
        "\n",
        "- Credit History\n",
        "\n",
        "- Property_Area\n",
        "\n",
        "**Dependent Variable (Target Variable):**\n",
        "\n",
        "- Loan_Status\n",
        "\n",
        "You have to build a model that can predict whether the loan of the applicant will be approved or not on the basis of the details provided in the dataset. \n",
        "\n",
        "Note: The link of the dataset is below. \n",
        "\n",
        "Downlaod Files:\n",
        "\n",
        "https://github.com/dsrscientist/DSData/blob/master/loan_prediction.csv"
      ],
      "metadata": {
        "id": "z6aCy6r0sUNm"
      }
    },
    {
      "cell_type": "code",
      "source": [
        "import pandas as pd\n",
        "import numpy as np\n",
        "import warnings # Filtering warnings\n",
        "warnings.filterwarnings('ignore')"
      ],
      "metadata": {
        "id": "v4mYuwIktPNU"
      },
      "execution_count": null,
      "outputs": []
    },
    {
      "cell_type": "code",
      "execution_count": null,
      "metadata": {
        "id": "jbPaEVaFnyHs"
      },
      "outputs": [],
      "source": [
        "df = pd.read_csv('https://raw.githubusercontent.com/dsrscientist/DSData/master/loan_prediction.csv')"
      ]
    },
    {
      "cell_type": "code",
      "source": [
        "df.head()"
      ],
      "metadata": {
        "colab": {
          "base_uri": "https://localhost:8080/",
          "height": 288
        },
        "id": "GmOSp9bGubMZ",
        "outputId": "2c3894c5-3c90-481a-8c80-fec9db3d8109"
      },
      "execution_count": null,
      "outputs": [
        {
          "output_type": "execute_result",
          "data": {
            "text/plain": [
              "    Loan_ID Gender Married Dependents     Education Self_Employed  \\\n",
              "0  LP001002   Male      No          0      Graduate            No   \n",
              "1  LP001003   Male     Yes          1      Graduate            No   \n",
              "2  LP001005   Male     Yes          0      Graduate           Yes   \n",
              "3  LP001006   Male     Yes          0  Not Graduate            No   \n",
              "4  LP001008   Male      No          0      Graduate            No   \n",
              "\n",
              "   ApplicantIncome  CoapplicantIncome  LoanAmount  Loan_Amount_Term  \\\n",
              "0             5849                0.0         NaN             360.0   \n",
              "1             4583             1508.0       128.0             360.0   \n",
              "2             3000                0.0        66.0             360.0   \n",
              "3             2583             2358.0       120.0             360.0   \n",
              "4             6000                0.0       141.0             360.0   \n",
              "\n",
              "   Credit_History Property_Area Loan_Status  \n",
              "0             1.0         Urban           Y  \n",
              "1             1.0         Rural           N  \n",
              "2             1.0         Urban           Y  \n",
              "3             1.0         Urban           Y  \n",
              "4             1.0         Urban           Y  "
            ],
            "text/html": [
              "\n",
              "  <div id=\"df-36aa6c2e-740e-47b1-8bf7-a71de661935a\">\n",
              "    <div class=\"colab-df-container\">\n",
              "      <div>\n",
              "<style scoped>\n",
              "    .dataframe tbody tr th:only-of-type {\n",
              "        vertical-align: middle;\n",
              "    }\n",
              "\n",
              "    .dataframe tbody tr th {\n",
              "        vertical-align: top;\n",
              "    }\n",
              "\n",
              "    .dataframe thead th {\n",
              "        text-align: right;\n",
              "    }\n",
              "</style>\n",
              "<table border=\"1\" class=\"dataframe\">\n",
              "  <thead>\n",
              "    <tr style=\"text-align: right;\">\n",
              "      <th></th>\n",
              "      <th>Loan_ID</th>\n",
              "      <th>Gender</th>\n",
              "      <th>Married</th>\n",
              "      <th>Dependents</th>\n",
              "      <th>Education</th>\n",
              "      <th>Self_Employed</th>\n",
              "      <th>ApplicantIncome</th>\n",
              "      <th>CoapplicantIncome</th>\n",
              "      <th>LoanAmount</th>\n",
              "      <th>Loan_Amount_Term</th>\n",
              "      <th>Credit_History</th>\n",
              "      <th>Property_Area</th>\n",
              "      <th>Loan_Status</th>\n",
              "    </tr>\n",
              "  </thead>\n",
              "  <tbody>\n",
              "    <tr>\n",
              "      <th>0</th>\n",
              "      <td>LP001002</td>\n",
              "      <td>Male</td>\n",
              "      <td>No</td>\n",
              "      <td>0</td>\n",
              "      <td>Graduate</td>\n",
              "      <td>No</td>\n",
              "      <td>5849</td>\n",
              "      <td>0.0</td>\n",
              "      <td>NaN</td>\n",
              "      <td>360.0</td>\n",
              "      <td>1.0</td>\n",
              "      <td>Urban</td>\n",
              "      <td>Y</td>\n",
              "    </tr>\n",
              "    <tr>\n",
              "      <th>1</th>\n",
              "      <td>LP001003</td>\n",
              "      <td>Male</td>\n",
              "      <td>Yes</td>\n",
              "      <td>1</td>\n",
              "      <td>Graduate</td>\n",
              "      <td>No</td>\n",
              "      <td>4583</td>\n",
              "      <td>1508.0</td>\n",
              "      <td>128.0</td>\n",
              "      <td>360.0</td>\n",
              "      <td>1.0</td>\n",
              "      <td>Rural</td>\n",
              "      <td>N</td>\n",
              "    </tr>\n",
              "    <tr>\n",
              "      <th>2</th>\n",
              "      <td>LP001005</td>\n",
              "      <td>Male</td>\n",
              "      <td>Yes</td>\n",
              "      <td>0</td>\n",
              "      <td>Graduate</td>\n",
              "      <td>Yes</td>\n",
              "      <td>3000</td>\n",
              "      <td>0.0</td>\n",
              "      <td>66.0</td>\n",
              "      <td>360.0</td>\n",
              "      <td>1.0</td>\n",
              "      <td>Urban</td>\n",
              "      <td>Y</td>\n",
              "    </tr>\n",
              "    <tr>\n",
              "      <th>3</th>\n",
              "      <td>LP001006</td>\n",
              "      <td>Male</td>\n",
              "      <td>Yes</td>\n",
              "      <td>0</td>\n",
              "      <td>Not Graduate</td>\n",
              "      <td>No</td>\n",
              "      <td>2583</td>\n",
              "      <td>2358.0</td>\n",
              "      <td>120.0</td>\n",
              "      <td>360.0</td>\n",
              "      <td>1.0</td>\n",
              "      <td>Urban</td>\n",
              "      <td>Y</td>\n",
              "    </tr>\n",
              "    <tr>\n",
              "      <th>4</th>\n",
              "      <td>LP001008</td>\n",
              "      <td>Male</td>\n",
              "      <td>No</td>\n",
              "      <td>0</td>\n",
              "      <td>Graduate</td>\n",
              "      <td>No</td>\n",
              "      <td>6000</td>\n",
              "      <td>0.0</td>\n",
              "      <td>141.0</td>\n",
              "      <td>360.0</td>\n",
              "      <td>1.0</td>\n",
              "      <td>Urban</td>\n",
              "      <td>Y</td>\n",
              "    </tr>\n",
              "  </tbody>\n",
              "</table>\n",
              "</div>\n",
              "      <button class=\"colab-df-convert\" onclick=\"convertToInteractive('df-36aa6c2e-740e-47b1-8bf7-a71de661935a')\"\n",
              "              title=\"Convert this dataframe to an interactive table.\"\n",
              "              style=\"display:none;\">\n",
              "        \n",
              "  <svg xmlns=\"http://www.w3.org/2000/svg\" height=\"24px\"viewBox=\"0 0 24 24\"\n",
              "       width=\"24px\">\n",
              "    <path d=\"M0 0h24v24H0V0z\" fill=\"none\"/>\n",
              "    <path d=\"M18.56 5.44l.94 2.06.94-2.06 2.06-.94-2.06-.94-.94-2.06-.94 2.06-2.06.94zm-11 1L8.5 8.5l.94-2.06 2.06-.94-2.06-.94L8.5 2.5l-.94 2.06-2.06.94zm10 10l.94 2.06.94-2.06 2.06-.94-2.06-.94-.94-2.06-.94 2.06-2.06.94z\"/><path d=\"M17.41 7.96l-1.37-1.37c-.4-.4-.92-.59-1.43-.59-.52 0-1.04.2-1.43.59L10.3 9.45l-7.72 7.72c-.78.78-.78 2.05 0 2.83L4 21.41c.39.39.9.59 1.41.59.51 0 1.02-.2 1.41-.59l7.78-7.78 2.81-2.81c.8-.78.8-2.07 0-2.86zM5.41 20L4 18.59l7.72-7.72 1.47 1.35L5.41 20z\"/>\n",
              "  </svg>\n",
              "      </button>\n",
              "      \n",
              "  <style>\n",
              "    .colab-df-container {\n",
              "      display:flex;\n",
              "      flex-wrap:wrap;\n",
              "      gap: 12px;\n",
              "    }\n",
              "\n",
              "    .colab-df-convert {\n",
              "      background-color: #E8F0FE;\n",
              "      border: none;\n",
              "      border-radius: 50%;\n",
              "      cursor: pointer;\n",
              "      display: none;\n",
              "      fill: #1967D2;\n",
              "      height: 32px;\n",
              "      padding: 0 0 0 0;\n",
              "      width: 32px;\n",
              "    }\n",
              "\n",
              "    .colab-df-convert:hover {\n",
              "      background-color: #E2EBFA;\n",
              "      box-shadow: 0px 1px 2px rgba(60, 64, 67, 0.3), 0px 1px 3px 1px rgba(60, 64, 67, 0.15);\n",
              "      fill: #174EA6;\n",
              "    }\n",
              "\n",
              "    [theme=dark] .colab-df-convert {\n",
              "      background-color: #3B4455;\n",
              "      fill: #D2E3FC;\n",
              "    }\n",
              "\n",
              "    [theme=dark] .colab-df-convert:hover {\n",
              "      background-color: #434B5C;\n",
              "      box-shadow: 0px 1px 3px 1px rgba(0, 0, 0, 0.15);\n",
              "      filter: drop-shadow(0px 1px 2px rgba(0, 0, 0, 0.3));\n",
              "      fill: #FFFFFF;\n",
              "    }\n",
              "  </style>\n",
              "\n",
              "      <script>\n",
              "        const buttonEl =\n",
              "          document.querySelector('#df-36aa6c2e-740e-47b1-8bf7-a71de661935a button.colab-df-convert');\n",
              "        buttonEl.style.display =\n",
              "          google.colab.kernel.accessAllowed ? 'block' : 'none';\n",
              "\n",
              "        async function convertToInteractive(key) {\n",
              "          const element = document.querySelector('#df-36aa6c2e-740e-47b1-8bf7-a71de661935a');\n",
              "          const dataTable =\n",
              "            await google.colab.kernel.invokeFunction('convertToInteractive',\n",
              "                                                     [key], {});\n",
              "          if (!dataTable) return;\n",
              "\n",
              "          const docLinkHtml = 'Like what you see? Visit the ' +\n",
              "            '<a target=\"_blank\" href=https://colab.research.google.com/notebooks/data_table.ipynb>data table notebook</a>'\n",
              "            + ' to learn more about interactive tables.';\n",
              "          element.innerHTML = '';\n",
              "          dataTable['output_type'] = 'display_data';\n",
              "          await google.colab.output.renderOutput(dataTable, element);\n",
              "          const docLink = document.createElement('div');\n",
              "          docLink.innerHTML = docLinkHtml;\n",
              "          element.appendChild(docLink);\n",
              "        }\n",
              "      </script>\n",
              "    </div>\n",
              "  </div>\n",
              "  "
            ]
          },
          "metadata": {},
          "execution_count": 3
        }
      ]
    },
    {
      "cell_type": "code",
      "source": [
        "print(\"Number of rows in the given dataset:\",df.shape[0])\n",
        "\n",
        "print(\"Number of columns in the given dataset:\",df.shape[1])"
      ],
      "metadata": {
        "colab": {
          "base_uri": "https://localhost:8080/"
        },
        "id": "1HAIBR5-um9O",
        "outputId": "d428074c-adde-42d7-a40d-705377a6be82"
      },
      "execution_count": null,
      "outputs": [
        {
          "output_type": "stream",
          "name": "stdout",
          "text": [
            "Number of rows in the given dataset: 614\n",
            "Number of columns in the given dataset: 13\n"
          ]
        }
      ]
    },
    {
      "cell_type": "code",
      "source": [
        "df.columns"
      ],
      "metadata": {
        "colab": {
          "base_uri": "https://localhost:8080/"
        },
        "id": "4npWvbQxvSCS",
        "outputId": "d78d08b6-f4f0-457c-9dfe-63da21a8e685"
      },
      "execution_count": null,
      "outputs": [
        {
          "output_type": "execute_result",
          "data": {
            "text/plain": [
              "Index(['Loan_ID', 'Gender', 'Married', 'Dependents', 'Education',\n",
              "       'Self_Employed', 'ApplicantIncome', 'CoapplicantIncome', 'LoanAmount',\n",
              "       'Loan_Amount_Term', 'Credit_History', 'Property_Area', 'Loan_Status'],\n",
              "      dtype='object')"
            ]
          },
          "metadata": {},
          "execution_count": 5
        }
      ]
    },
    {
      "cell_type": "code",
      "source": [
        "# Checking for duplicate data if any\n",
        "\n",
        "df.duplicated().sum()"
      ],
      "metadata": {
        "colab": {
          "base_uri": "https://localhost:8080/"
        },
        "id": "8UV9X2pbvspt",
        "outputId": "0dfef27d-3ea8-40fd-b140-c366e1e63a71"
      },
      "execution_count": null,
      "outputs": [
        {
          "output_type": "execute_result",
          "data": {
            "text/plain": [
              "0"
            ]
          },
          "metadata": {},
          "execution_count": 6
        }
      ]
    },
    {
      "cell_type": "markdown",
      "source": [
        "**No duplicate observations present in the given dataset**"
      ],
      "metadata": {
        "id": "U0STddYfv46x"
      }
    },
    {
      "cell_type": "code",
      "source": [
        "df.isnull().sum()"
      ],
      "metadata": {
        "colab": {
          "base_uri": "https://localhost:8080/"
        },
        "id": "b8n9oOfdvfvB",
        "outputId": "cb26be3f-7820-42f4-e949-6f9bdae70b14"
      },
      "execution_count": null,
      "outputs": [
        {
          "output_type": "execute_result",
          "data": {
            "text/plain": [
              "Loan_ID               0\n",
              "Gender               13\n",
              "Married               3\n",
              "Dependents           15\n",
              "Education             0\n",
              "Self_Employed        32\n",
              "ApplicantIncome       0\n",
              "CoapplicantIncome     0\n",
              "LoanAmount           22\n",
              "Loan_Amount_Term     14\n",
              "Credit_History       50\n",
              "Property_Area         0\n",
              "Loan_Status           0\n",
              "dtype: int64"
            ]
          },
          "metadata": {},
          "execution_count": 7
        }
      ]
    },
    {
      "cell_type": "markdown",
      "source": [
        "**Missing values found in below columns:**\n",
        "\n",
        "  * Gender\n",
        "  * Married\n",
        "  * Dependents\n",
        "  * Self_Employed\n",
        "  * LoanAmount\n",
        "  * Loan_Amount_Term\n",
        "  * Credit_History"
      ],
      "metadata": {
        "id": "Ef1CyY2_uii3"
      }
    },
    {
      "cell_type": "code",
      "source": [
        "# Checking datatypes of the columns\n",
        "\n",
        "df.dtypes"
      ],
      "metadata": {
        "colab": {
          "base_uri": "https://localhost:8080/"
        },
        "id": "Si0l5x3Iw5HE",
        "outputId": "df9a16e3-de25-432b-de84-ce9c2c73056a"
      },
      "execution_count": null,
      "outputs": [
        {
          "output_type": "execute_result",
          "data": {
            "text/plain": [
              "Loan_ID               object\n",
              "Gender                object\n",
              "Married               object\n",
              "Dependents            object\n",
              "Education             object\n",
              "Self_Employed         object\n",
              "ApplicantIncome        int64\n",
              "CoapplicantIncome    float64\n",
              "LoanAmount           float64\n",
              "Loan_Amount_Term     float64\n",
              "Credit_History       float64\n",
              "Property_Area         object\n",
              "Loan_Status           object\n",
              "dtype: object"
            ]
          },
          "metadata": {},
          "execution_count": 8
        }
      ]
    },
    {
      "cell_type": "code",
      "source": [
        "df['Credit_History'].value_counts()"
      ],
      "metadata": {
        "colab": {
          "base_uri": "https://localhost:8080/"
        },
        "id": "w3bn0yPWzkMU",
        "outputId": "074c6cb9-ced3-48f7-ea0d-5933d58f244b"
      },
      "execution_count": null,
      "outputs": [
        {
          "output_type": "execute_result",
          "data": {
            "text/plain": [
              "1.0    475\n",
              "0.0     89\n",
              "Name: Credit_History, dtype: int64"
            ]
          },
          "metadata": {},
          "execution_count": 9
        }
      ]
    },
    {
      "cell_type": "code",
      "source": [
        "import seaborn as sns\n",
        "import matplotlib.pyplot as plt\n",
        "%matplotlib inline\n",
        "from collections import Counter\n",
        "import plotly.graph_objs as go\n",
        "import plotly.offline as py"
      ],
      "metadata": {
        "id": "q8UrlY4_1Y6E"
      },
      "execution_count": null,
      "outputs": []
    },
    {
      "cell_type": "code",
      "source": [
        "sns.boxplot(df['LoanAmount'])"
      ],
      "metadata": {
        "colab": {
          "base_uri": "https://localhost:8080/",
          "height": 296
        },
        "id": "JXO2jkTo09k9",
        "outputId": "31d64528-1a27-4228-da2c-cfe7938ec44e"
      },
      "execution_count": null,
      "outputs": [
        {
          "output_type": "execute_result",
          "data": {
            "text/plain": [
              "<matplotlib.axes._subplots.AxesSubplot at 0x7fe30028d730>"
            ]
          },
          "metadata": {},
          "execution_count": 11
        },
        {
          "output_type": "display_data",
          "data": {
            "text/plain": [
              "<Figure size 432x288 with 1 Axes>"
            ],
            "image/png": "[encoded data removed]"
          },
          "metadata": {
            "needs_background": "light"
          }
        }
      ]
    },
    {
      "cell_type": "markdown",
      "source": [
        "**Since outliers present in the Loan Amount, imputation of missing values can be done using Median as mean is sensitive to outliers**"
      ],
      "metadata": {
        "id": "Rhsude_f1miA"
      }
    },
    {
      "cell_type": "code",
      "source": [
        "df['Loan_Amount_Term'].value_counts()"
      ],
      "metadata": {
        "colab": {
          "base_uri": "https://localhost:8080/"
        },
        "id": "n7X2y7mm2Cv2",
        "outputId": "234ccee5-9e66-4e75-9416-072c8b974f1b"
      },
      "execution_count": null,
      "outputs": [
        {
          "output_type": "execute_result",
          "data": {
            "text/plain": [
              "360.0    512\n",
              "180.0     44\n",
              "480.0     15\n",
              "300.0     13\n",
              "240.0      4\n",
              "84.0       4\n",
              "120.0      3\n",
              "60.0       2\n",
              "36.0       2\n",
              "12.0       1\n",
              "Name: Loan_Amount_Term, dtype: int64"
            ]
          },
          "metadata": {},
          "execution_count": 12
        }
      ]
    },
    {
      "cell_type": "markdown",
      "source": [
        "**Imputation of missing values:**\n",
        "\n",
        "  * Gender,Married,Dependents and Self_Employed are categorical in nature and missing values can be imputed using most frequent values in these columns\n",
        "\n",
        "  * Credit_History column can be imputed using mode value as it has two unique values\n",
        "\n",
        "  * LoanAmount can be imputed using Median because of the presence of outliers\n",
        "\n",
        "  * Most frequent Loan amount term is 360 months and missing values can be imputed using mode for this column"
      ],
      "metadata": {
        "id": "_e9ssAhfyqV-"
      }
    },
    {
      "cell_type": "code",
      "source": [
        "# Imputation of categorical columns\n",
        "\n",
        "df['Gender'] = df['Gender'].fillna(df['Gender'].mode()[0])\n",
        "\n",
        "df['Married'] = df['Married'].fillna(df['Married'].mode()[0])\n",
        "\n",
        "df['Dependents'] = df['Dependents'].fillna(df['Dependents'].mode()[0])\n",
        "\n",
        "df['Self_Employed'] = df['Self_Employed'].fillna(df['Self_Employed'].mode()[0])\n",
        "\n",
        "df['Credit_History'] = df['Credit_History'].fillna(df['Credit_History'].mode()[0])\n",
        "\n",
        "# Imputation of numerical columns\n",
        "\n",
        "df['LoanAmount'] = df['LoanAmount'].fillna(df['LoanAmount'].median())\n",
        "\n",
        "df['Loan_Amount_Term'] = df['Loan_Amount_Term'].fillna(df['Loan_Amount_Term'].mode()[0])\n",
        "\n"
      ],
      "metadata": {
        "id": "E5NWIwLFOtF4"
      },
      "execution_count": null,
      "outputs": []
    },
    {
      "cell_type": "code",
      "source": [
        "df.isnull().sum()"
      ],
      "metadata": {
        "colab": {
          "base_uri": "https://localhost:8080/"
        },
        "id": "Ys4yWqCTQ0NT",
        "outputId": "87fe9ef3-f144-462a-b0ee-918b21efb9e7"
      },
      "execution_count": null,
      "outputs": [
        {
          "output_type": "execute_result",
          "data": {
            "text/plain": [
              "Loan_ID              0\n",
              "Gender               0\n",
              "Married              0\n",
              "Dependents           0\n",
              "Education            0\n",
              "Self_Employed        0\n",
              "ApplicantIncome      0\n",
              "CoapplicantIncome    0\n",
              "LoanAmount           0\n",
              "Loan_Amount_Term     0\n",
              "Credit_History       0\n",
              "Property_Area        0\n",
              "Loan_Status          0\n",
              "dtype: int64"
            ]
          },
          "metadata": {},
          "execution_count": 14
        }
      ]
    },
    {
      "cell_type": "markdown",
      "source": [
        "**So missing values imputation has been done,let's do some more analysis of the dataset**"
      ],
      "metadata": {
        "id": "yKmK7N5qQ8OE"
      }
    },
    {
      "cell_type": "code",
      "source": [
        "df.describe().T"
      ],
      "metadata": {
        "colab": {
          "base_uri": "https://localhost:8080/",
          "height": 206
        },
        "id": "hHQ_eKSqRV88",
        "outputId": "69c31669-d7ed-4b0b-f9a8-4df565b85e34"
      },
      "execution_count": null,
      "outputs": [
        {
          "output_type": "execute_result",
          "data": {
            "text/plain": [
              "                   count         mean          std    min      25%     50%  \\\n",
              "ApplicantIncome    614.0  5403.459283  6109.041673  150.0  2877.50  3812.5   \n",
              "CoapplicantIncome  614.0  1621.245798  2926.248369    0.0     0.00  1188.5   \n",
              "LoanAmount         614.0   145.752443    84.107233    9.0   100.25   128.0   \n",
              "Loan_Amount_Term   614.0   342.410423    64.428629   12.0   360.00   360.0   \n",
              "Credit_History     614.0     0.855049     0.352339    0.0     1.00     1.0   \n",
              "\n",
              "                       75%      max  \n",
              "ApplicantIncome    5795.00  81000.0  \n",
              "CoapplicantIncome  2297.25  41667.0  \n",
              "LoanAmount          164.75    700.0  \n",
              "Loan_Amount_Term    360.00    480.0  \n",
              "Credit_History        1.00      1.0  "
            ],
            "text/html": [
              "\n",
              "  <div id=\"df-03cf8c55-b62b-439d-83d1-5cc02ffb42fd\">\n",
              "    <div class=\"colab-df-container\">\n",
              "      <div>\n",
              "<style scoped>\n",
              "    .dataframe tbody tr th:only-of-type {\n",
              "        vertical-align: middle;\n",
              "    }\n",
              "\n",
              "    .dataframe tbody tr th {\n",
              "        vertical-align: top;\n",
              "    }\n",
              "\n",
              "    .dataframe thead th {\n",
              "        text-align: right;\n",
              "    }\n",
              "</style>\n",
              "<table border=\"1\" class=\"dataframe\">\n",
              "  <thead>\n",
              "    <tr style=\"text-align: right;\">\n",
              "      <th></th>\n",
              "      <th>count</th>\n",
              "      <th>mean</th>\n",
              "      <th>std</th>\n",
              "      <th>min</th>\n",
              "      <th>25%</th>\n",
              "      <th>50%</th>\n",
              "      <th>75%</th>\n",
              "      <th>max</th>\n",
              "    </tr>\n",
              "  </thead>\n",
              "  <tbody>\n",
              "    <tr>\n",
              "      <th>ApplicantIncome</th>\n",
              "      <td>614.0</td>\n",
              "      <td>5403.459283</td>\n",
              "      <td>6109.041673</td>\n",
              "      <td>150.0</td>\n",
              "      <td>2877.50</td>\n",
              "      <td>3812.5</td>\n",
              "      <td>5795.00</td>\n",
              "      <td>81000.0</td>\n",
              "    </tr>\n",
              "    <tr>\n",
              "      <th>CoapplicantIncome</th>\n",
              "      <td>614.0</td>\n",
              "      <td>1621.245798</td>\n",
              "      <td>2926.248369</td>\n",
              "      <td>0.0</td>\n",
              "      <td>0.00</td>\n",
              "      <td>1188.5</td>\n",
              "      <td>2297.25</td>\n",
              "      <td>41667.0</td>\n",
              "    </tr>\n",
              "    <tr>\n",
              "      <th>LoanAmount</th>\n",
              "      <td>614.0</td>\n",
              "      <td>145.752443</td>\n",
              "      <td>84.107233</td>\n",
              "      <td>9.0</td>\n",
              "      <td>100.25</td>\n",
              "      <td>128.0</td>\n",
              "      <td>164.75</td>\n",
              "      <td>700.0</td>\n",
              "    </tr>\n",
              "    <tr>\n",
              "      <th>Loan_Amount_Term</th>\n",
              "      <td>614.0</td>\n",
              "      <td>342.410423</td>\n",
              "      <td>64.428629</td>\n",
              "      <td>12.0</td>\n",
              "      <td>360.00</td>\n",
              "      <td>360.0</td>\n",
              "      <td>360.00</td>\n",
              "      <td>480.0</td>\n",
              "    </tr>\n",
              "    <tr>\n",
              "      <th>Credit_History</th>\n",
              "      <td>614.0</td>\n",
              "      <td>0.855049</td>\n",
              "      <td>0.352339</td>\n",
              "      <td>0.0</td>\n",
              "      <td>1.00</td>\n",
              "      <td>1.0</td>\n",
              "      <td>1.00</td>\n",
              "      <td>1.0</td>\n",
              "    </tr>\n",
              "  </tbody>\n",
              "</table>\n",
              "</div>\n",
              "      <button class=\"colab-df-convert\" onclick=\"convertToInteractive('df-03cf8c55-b62b-439d-83d1-5cc02ffb42fd')\"\n",
              "              title=\"Convert this dataframe to an interactive table.\"\n",
              "              style=\"display:none;\">\n",
              "        \n",
              "  <svg xmlns=\"http://www.w3.org/2000/svg\" height=\"24px\"viewBox=\"0 0 24 24\"\n",
              "       width=\"24px\">\n",
              "    <path d=\"M0 0h24v24H0V0z\" fill=\"none\"/>\n",
              "    <path d=\"M18.56 5.44l.94 2.06.94-2.06 2.06-.94-2.06-.94-.94-2.06-.94 2.06-2.06.94zm-11 1L8.5 8.5l.94-2.06 2.06-.94-2.06-.94L8.5 2.5l-.94 2.06-2.06.94zm10 10l.94 2.06.94-2.06 2.06-.94-2.06-.94-.94-2.06-.94 2.06-2.06.94z\"/><path d=\"M17.41 7.96l-1.37-1.37c-.4-.4-.92-.59-1.43-.59-.52 0-1.04.2-1.43.59L10.3 9.45l-7.72 7.72c-.78.78-.78 2.05 0 2.83L4 21.41c.39.39.9.59 1.41.59.51 0 1.02-.2 1.41-.59l7.78-7.78 2.81-2.81c.8-.78.8-2.07 0-2.86zM5.41 20L4 18.59l7.72-7.72 1.47 1.35L5.41 20z\"/>\n",
              "  </svg>\n",
              "      </button>\n",
              "      \n",
              "  <style>\n",
              "    .colab-df-container {\n",
              "      display:flex;\n",
              "      flex-wrap:wrap;\n",
              "      gap: 12px;\n",
              "    }\n",
              "\n",
              "    .colab-df-convert {\n",
              "      background-color: #E8F0FE;\n",
              "      border: none;\n",
              "      border-radius: 50%;\n",
              "      cursor: pointer;\n",
              "      display: none;\n",
              "      fill: #1967D2;\n",
              "      height: 32px;\n",
              "      padding: 0 0 0 0;\n",
              "      width: 32px;\n",
              "    }\n",
              "\n",
              "    .colab-df-convert:hover {\n",
              "      background-color: #E2EBFA;\n",
              "      box-shadow: 0px 1px 2px rgba(60, 64, 67, 0.3), 0px 1px 3px 1px rgba(60, 64, 67, 0.15);\n",
              "      fill: #174EA6;\n",
              "    }\n",
              "\n",
              "    [theme=dark] .colab-df-convert {\n",
              "      background-color: #3B4455;\n",
              "      fill: #D2E3FC;\n",
              "    }\n",
              "\n",
              "    [theme=dark] .colab-df-convert:hover {\n",
              "      background-color: #434B5C;\n",
              "      box-shadow: 0px 1px 3px 1px rgba(0, 0, 0, 0.15);\n",
              "      filter: drop-shadow(0px 1px 2px rgba(0, 0, 0, 0.3));\n",
              "      fill: #FFFFFF;\n",
              "    }\n",
              "  </style>\n",
              "\n",
              "      <script>\n",
              "        const buttonEl =\n",
              "          document.querySelector('#df-03cf8c55-b62b-439d-83d1-5cc02ffb42fd button.colab-df-convert');\n",
              "        buttonEl.style.display =\n",
              "          google.colab.kernel.accessAllowed ? 'block' : 'none';\n",
              "\n",
              "        async function convertToInteractive(key) {\n",
              "          const element = document.querySelector('#df-03cf8c55-b62b-439d-83d1-5cc02ffb42fd');\n",
              "          const dataTable =\n",
              "            await google.colab.kernel.invokeFunction('convertToInteractive',\n",
              "                                                     [key], {});\n",
              "          if (!dataTable) return;\n",
              "\n",
              "          const docLinkHtml = 'Like what you see? Visit the ' +\n",
              "            '<a target=\"_blank\" href=https://colab.research.google.com/notebooks/data_table.ipynb>data table notebook</a>'\n",
              "            + ' to learn more about interactive tables.';\n",
              "          element.innerHTML = '';\n",
              "          dataTable['output_type'] = 'display_data';\n",
              "          await google.colab.output.renderOutput(dataTable, element);\n",
              "          const docLink = document.createElement('div');\n",
              "          docLink.innerHTML = docLinkHtml;\n",
              "          element.appendChild(docLink);\n",
              "        }\n",
              "      </script>\n",
              "    </div>\n",
              "  </div>\n",
              "  "
            ]
          },
          "metadata": {},
          "execution_count": 15
        }
      ]
    },
    {
      "cell_type": "markdown",
      "source": [
        "  * For Applicant Income & Coapplicant Income columns, Std deviation value is greater than mean value. So data is spread and skewed.\n",
        "\n",
        "  * Looking into 75% value and Max value of Applicant Income, Coapplicant Income and Loan Amount, presence of outliers can be seen.\n",
        "\n",
        "  * Minimum Tenure for Loan is 12 Months and Maximum Loan tenure is 480 Months.\n",
        "Minimum Applicant income is 150 and maximum is 81000.\n"
      ],
      "metadata": {
        "id": "uIsL2yI6SJnI"
      }
    },
    {
      "cell_type": "code",
      "source": [
        "# Separating the categorical variables\n",
        "\n",
        "catg = ['Gender', 'Married', 'Dependents', 'Education',\n",
        "       'Self_Employed', 'Credit_History', 'Property_Area', 'Loan_Status']"
      ],
      "metadata": {
        "id": "1nEXbx63UKpZ"
      },
      "execution_count": null,
      "outputs": []
    },
    {
      "cell_type": "code",
      "source": [
        "plt.figure(figsize=(20,25),facecolor='cyan')\n",
        "plotnumber=1\n",
        "\n",
        "for column in catg:\n",
        "    if plotnumber<=9:\n",
        "        ax = plt.subplot(3,3,plotnumber)\n",
        "        sns.countplot(df[column])\n",
        "        plt.xlabel(column,fontsize=20)\n",
        "    plotnumber+=1\n",
        "plt.show()"
      ],
      "metadata": {
        "colab": {
          "base_uri": "https://localhost:8080/",
          "height": 1000
        },
        "id": "RmIKVY9EVtIm",
        "outputId": "da69d793-2ffa-4329-9b95-cf5b9c5a53f7"
      },
      "execution_count": null,
      "outputs": [
        {
          "output_type": "display_data",
          "data": {
            "text/plain": [
              "<Figure size 1440x1800 with 8 Axes>"
            ],
            "image/png": "[encoded data removed]"
          },
          "metadata": {}
        }
      ]
    },
    {
      "cell_type": "markdown",
      "source": [
        "  * Out of Total loan application 80 % applicants are Male. We can Explore loan amount for each gender applied and evaluate whether on the same basis loan is approved for each gender or not?\n",
        "\n",
        "  * Only 20% applicants are self employed. So it will interesting to gain insight on relation between Applicant income and loan approval for non self employed category. We will look to find any benchmark range of Income for loan approval.Another benchmark we will try to find is about loan requirement for these two categories.\n",
        "\n",
        "  * Nearly 70% are married and 75% of loan applicants are graduates\n",
        "Almost 60% of the applicants have no dependents.\n",
        "\n",
        "  * Most of applicants come from Semi Urban areas, followed by Urban and Rural areas.\n",
        "\n",
        "  * 80% people previously have credit history. Normally people having credit history are seen more prone to get loan approval.\n",
        "\n",
        "  * Nearly 70 % applicant gets loan approved."
      ],
      "metadata": {
        "id": "915dq-VDYHAL"
      }
    },
    {
      "cell_type": "code",
      "source": [
        "plt.figure(figsize=(12,8))\n",
        "p = sns.countplot(df['Gender'], hue=df['Loan_Status'], palette='Accent')\n",
        "plt.title('Loan Status as per Gender', fontsize=24)\n",
        "p.set_xlabel('Gender',fontsize=20)\n",
        "plt.xticks(fontsize=18,rotation=0)\n",
        "plt.yticks(fontsize=18,fontweight ='bold')\n",
        "plt.legend(fontsize=18)\n",
        "plt.show()"
      ],
      "metadata": {
        "colab": {
          "base_uri": "https://localhost:8080/",
          "height": 539
        },
        "id": "1rw-Yp6vZLwV",
        "outputId": "8f8d7267-d042-4c5c-ae26-373c4b7b0f9b"
      },
      "execution_count": null,
      "outputs": [
        {
          "output_type": "display_data",
          "data": {
            "text/plain": [
              "<Figure size 864x576 with 1 Axes>"
            ],
            "image/png": "[encoded data removed]"
          },
          "metadata": {
            "needs_background": "light"
          }
        }
      ]
    },
    {
      "cell_type": "markdown",
      "source": [
        "* **81.8% Applicant are male.**\n",
        "\n",
        "* Irrespective Gender 65 % Applicant from each gender gets loan approval.It means that gender doesnot play any role loan approval.\n",
        "\n",
        "* No Discrimation on name of Gender done."
      ],
      "metadata": {
        "id": "WLfnq7Z5arzK"
      }
    },
    {
      "cell_type": "code",
      "source": [
        "plt.figure(figsize=(12,8))\n",
        "p = sns.countplot(df['Married'], hue=df['Loan_Status'], palette='Spectral')\n",
        "plt.title('Loan Status as per Marital Status', fontsize=24)\n",
        "p.set_xlabel('Married',fontsize=20)\n",
        "plt.xticks(fontsize=18,rotation=0)\n",
        "plt.yticks(fontsize=18,fontweight ='bold')\n",
        "plt.legend(fontsize=18)\n",
        "plt.show()"
      ],
      "metadata": {
        "colab": {
          "base_uri": "https://localhost:8080/",
          "height": 539
        },
        "id": "PVWItbmjbI5c",
        "outputId": "16301939-08c2-45c6-e83e-a59d18724981"
      },
      "execution_count": null,
      "outputs": [
        {
          "output_type": "display_data",
          "data": {
            "text/plain": [
              "<Figure size 864x576 with 1 Axes>"
            ],
            "image/png": "[encoded data removed]"
          },
          "metadata": {
            "needs_background": "light"
          }
        }
      ]
    },
    {
      "cell_type": "code",
      "source": [
        "pd.crosstab([df['Gender'],df['Married']],[df.Loan_Status],margins=True).style.background_gradient(cmap=\"YlGnBu\")"
      ],
      "metadata": {
        "colab": {
          "base_uri": "https://localhost:8080/",
          "height": 238
        },
        "id": "2oyFSzhkcNdm",
        "outputId": "92db40e7-5d86-4a24-9978-9c9ea55ed6c5"
      },
      "execution_count": null,
      "outputs": [
        {
          "output_type": "execute_result",
          "data": {
            "text/plain": [
              "<pandas.io.formats.style.Styler at 0x7f01e933ff10>"
            ],
            "text/html": [
              "<style type=\"text/css\">\n",
              "#T_f0a45_row0_col0 {\n",
              "  background-color: #eff9b5;\n",
              "  color: #000000;\n",
              "}\n",
              "#T_f0a45_row0_col1 {\n",
              "  background-color: #f5fbc4;\n",
              "  color: #000000;\n",
              "}\n",
              "#T_f0a45_row0_col2 {\n",
              "  background-color: #f3fabf;\n",
              "  color: #000000;\n",
              "}\n",
              "#T_f0a45_row1_col0, #T_f0a45_row1_col1, #T_f0a45_row1_col2 {\n",
              "  background-color: #ffffd9;\n",
              "  color: #000000;\n",
              "}\n",
              "#T_f0a45_row2_col0 {\n",
              "  background-color: #ceecb3;\n",
              "  color: #000000;\n",
              "}\n",
              "#T_f0a45_row2_col1 {\n",
              "  background-color: #e7f6b1;\n",
              "  color: #000000;\n",
              "}\n",
              "#T_f0a45_row2_col2 {\n",
              "  background-color: #dff2b2;\n",
              "  color: #000000;\n",
              "}\n",
              "#T_f0a45_row3_col0 {\n",
              "  background-color: #3aaec3;\n",
              "  color: #f1f1f1;\n",
              "}\n",
              "#T_f0a45_row3_col1 {\n",
              "  background-color: #2397c1;\n",
              "  color: #f1f1f1;\n",
              "}\n",
              "#T_f0a45_row3_col2 {\n",
              "  background-color: #2a9ec1;\n",
              "  color: #f1f1f1;\n",
              "}\n",
              "#T_f0a45_row4_col0, #T_f0a45_row4_col1, #T_f0a45_row4_col2 {\n",
              "  background-color: #081d58;\n",
              "  color: #f1f1f1;\n",
              "}\n",
              "</style>\n",
              "<table id=\"T_f0a45_\" class=\"dataframe\">\n",
              "  <thead>\n",
              "    <tr>\n",
              "      <th class=\"blank\" >&nbsp;</th>\n",
              "      <th class=\"index_name level0\" >Loan_Status</th>\n",
              "      <th class=\"col_heading level0 col0\" >N</th>\n",
              "      <th class=\"col_heading level0 col1\" >Y</th>\n",
              "      <th class=\"col_heading level0 col2\" >All</th>\n",
              "    </tr>\n",
              "    <tr>\n",
              "      <th class=\"index_name level0\" >Gender</th>\n",
              "      <th class=\"index_name level1\" >Married</th>\n",
              "      <th class=\"blank col0\" >&nbsp;</th>\n",
              "      <th class=\"blank col1\" >&nbsp;</th>\n",
              "      <th class=\"blank col2\" >&nbsp;</th>\n",
              "    </tr>\n",
              "  </thead>\n",
              "  <tbody>\n",
              "    <tr>\n",
              "      <th id=\"T_f0a45_level0_row0\" class=\"row_heading level0 row0\" rowspan=\"2\">Female</th>\n",
              "      <th id=\"T_f0a45_level1_row0\" class=\"row_heading level1 row0\" >No</th>\n",
              "      <td id=\"T_f0a45_row0_col0\" class=\"data row0 col0\" >29</td>\n",
              "      <td id=\"T_f0a45_row0_col1\" class=\"data row0 col1\" >51</td>\n",
              "      <td id=\"T_f0a45_row0_col2\" class=\"data row0 col2\" >80</td>\n",
              "    </tr>\n",
              "    <tr>\n",
              "      <th id=\"T_f0a45_level1_row1\" class=\"row_heading level1 row1\" >Yes</th>\n",
              "      <td id=\"T_f0a45_row1_col0\" class=\"data row1 col0\" >8</td>\n",
              "      <td id=\"T_f0a45_row1_col1\" class=\"data row1 col1\" >24</td>\n",
              "      <td id=\"T_f0a45_row1_col2\" class=\"data row1 col2\" >32</td>\n",
              "    </tr>\n",
              "    <tr>\n",
              "      <th id=\"T_f0a45_level0_row2\" class=\"row_heading level0 row2\" rowspan=\"2\">Male</th>\n",
              "      <th id=\"T_f0a45_level1_row2\" class=\"row_heading level1 row2\" >No</th>\n",
              "      <td id=\"T_f0a45_row2_col0\" class=\"data row2 col0\" >50</td>\n",
              "      <td id=\"T_f0a45_row2_col1\" class=\"data row2 col1\" >83</td>\n",
              "      <td id=\"T_f0a45_row2_col2\" class=\"data row2 col2\" >133</td>\n",
              "    </tr>\n",
              "    <tr>\n",
              "      <th id=\"T_f0a45_level1_row3\" class=\"row_heading level1 row3\" >Yes</th>\n",
              "      <td id=\"T_f0a45_row3_col0\" class=\"data row3 col0\" >105</td>\n",
              "      <td id=\"T_f0a45_row3_col1\" class=\"data row3 col1\" >264</td>\n",
              "      <td id=\"T_f0a45_row3_col2\" class=\"data row3 col2\" >369</td>\n",
              "    </tr>\n",
              "    <tr>\n",
              "      <th id=\"T_f0a45_level0_row4\" class=\"row_heading level0 row4\" >All</th>\n",
              "      <th id=\"T_f0a45_level1_row4\" class=\"row_heading level1 row4\" ></th>\n",
              "      <td id=\"T_f0a45_row4_col0\" class=\"data row4 col0\" >192</td>\n",
              "      <td id=\"T_f0a45_row4_col1\" class=\"data row4 col1\" >422</td>\n",
              "      <td id=\"T_f0a45_row4_col2\" class=\"data row4 col2\" >614</td>\n",
              "    </tr>\n",
              "  </tbody>\n",
              "</table>\n"
            ]
          },
          "metadata": {},
          "execution_count": 24
        }
      ]
    },
    {
      "cell_type": "markdown",
      "source": [
        "* *65.3 % loan applicants are married.** We can see from Count plot that Married people have more possibility of getting loan approval.\n",
        "  * But Here comes Interesting observation from crosstab :\n",
        "    * Unmarried Women are more chances of getting loan approval compare to married women.We will try to find which factor actually play deciding role here like education, employeement or Income.\n",
        "\n",
        "    * Married Men are more chances of loan approval."
      ],
      "metadata": {
        "id": "QgNuw_YwbvhC"
      }
    },
    {
      "cell_type": "code",
      "source": [
        "plt.figure(figsize=(12,8))\n",
        "p = sns.countplot(df['Dependents'], hue=df['Loan_Status'], palette='Spectral')\n",
        "plt.title('Loan Status as per Dependents', fontsize=24)\n",
        "p.set_xlabel('Dependents',fontsize=20)\n",
        "plt.xticks(fontsize=18,rotation=0)\n",
        "plt.yticks(fontsize=18,fontweight ='bold')\n",
        "plt.legend(fontsize=18)\n",
        "plt.show()"
      ],
      "metadata": {
        "colab": {
          "base_uri": "https://localhost:8080/",
          "height": 539
        },
        "id": "VfOai_JhcyRJ",
        "outputId": "b9c0883c-7edc-4a23-8d7e-7553d0dbeac0"
      },
      "execution_count": null,
      "outputs": [
        {
          "output_type": "display_data",
          "data": {
            "text/plain": [
              "<Figure size 864x576 with 1 Axes>"
            ],
            "image/png": "[encoded data removed]"
          },
          "metadata": {
            "needs_background": "light"
          }
        }
      ]
    },
    {
      "cell_type": "code",
      "source": [
        "pd.crosstab([df['Dependents']],[df.Loan_Status,df['Gender']],margins=True).style.background_gradient(cmap='summer_r')"
      ],
      "metadata": {
        "colab": {
          "base_uri": "https://localhost:8080/",
          "height": 269
        },
        "id": "oAFoKMZ5e1G1",
        "outputId": "64039049-a039-4a0f-e490-d47547a7ba6c"
      },
      "execution_count": null,
      "outputs": [
        {
          "output_type": "execute_result",
          "data": {
            "text/plain": [
              "<pandas.io.formats.style.Styler at 0x7f01e8ea5e80>"
            ],
            "text/html": [
              "<style type=\"text/css\">\n",
              "#T_c6f45_row0_col0 {\n",
              "  background-color: #49a466;\n",
              "  color: #f1f1f1;\n",
              "}\n",
              "#T_c6f45_row0_col1 {\n",
              "  background-color: #7fbf66;\n",
              "  color: #000000;\n",
              "}\n",
              "#T_c6f45_row0_col2 {\n",
              "  background-color: #41a066;\n",
              "  color: #f1f1f1;\n",
              "}\n",
              "#T_c6f45_row0_col3 {\n",
              "  background-color: #7ebe66;\n",
              "  color: #000000;\n",
              "}\n",
              "#T_c6f45_row0_col4 {\n",
              "  background-color: #73b966;\n",
              "  color: #f1f1f1;\n",
              "}\n",
              "#T_c6f45_row1_col0 {\n",
              "  background-color: #e2f066;\n",
              "  color: #000000;\n",
              "}\n",
              "#T_c6f45_row1_col1 {\n",
              "  background-color: #e6f266;\n",
              "  color: #000000;\n",
              "}\n",
              "#T_c6f45_row1_col2 {\n",
              "  background-color: #d6eb66;\n",
              "  color: #000000;\n",
              "}\n",
              "#T_c6f45_row1_col3 {\n",
              "  background-color: #eef666;\n",
              "  color: #000000;\n",
              "}\n",
              "#T_c6f45_row1_col4 {\n",
              "  background-color: #e8f466;\n",
              "  color: #000000;\n",
              "}\n",
              "#T_c6f45_row2_col0, #T_c6f45_row3_col0, #T_c6f45_row3_col1, #T_c6f45_row3_col2, #T_c6f45_row3_col3, #T_c6f45_row3_col4 {\n",
              "  background-color: #ffff66;\n",
              "  color: #000000;\n",
              "}\n",
              "#T_c6f45_row2_col1 {\n",
              "  background-color: #f3f966;\n",
              "  color: #000000;\n",
              "}\n",
              "#T_c6f45_row2_col2 {\n",
              "  background-color: #f2f866;\n",
              "  color: #000000;\n",
              "}\n",
              "#T_c6f45_row2_col3 {\n",
              "  background-color: #e0f066;\n",
              "  color: #000000;\n",
              "}\n",
              "#T_c6f45_row2_col4 {\n",
              "  background-color: #e9f466;\n",
              "  color: #000000;\n",
              "}\n",
              "#T_c6f45_row4_col0, #T_c6f45_row4_col1, #T_c6f45_row4_col2, #T_c6f45_row4_col3, #T_c6f45_row4_col4 {\n",
              "  background-color: #008066;\n",
              "  color: #f1f1f1;\n",
              "}\n",
              "</style>\n",
              "<table id=\"T_c6f45_\" class=\"dataframe\">\n",
              "  <thead>\n",
              "    <tr>\n",
              "      <th class=\"index_name level0\" >Loan_Status</th>\n",
              "      <th class=\"col_heading level0 col0\" colspan=\"2\">N</th>\n",
              "      <th class=\"col_heading level0 col2\" colspan=\"2\">Y</th>\n",
              "      <th class=\"col_heading level0 col4\" >All</th>\n",
              "    </tr>\n",
              "    <tr>\n",
              "      <th class=\"index_name level1\" >Gender</th>\n",
              "      <th class=\"col_heading level1 col0\" >Female</th>\n",
              "      <th class=\"col_heading level1 col1\" >Male</th>\n",
              "      <th class=\"col_heading level1 col2\" >Female</th>\n",
              "      <th class=\"col_heading level1 col3\" >Male</th>\n",
              "      <th class=\"col_heading level1 col4\" ></th>\n",
              "    </tr>\n",
              "    <tr>\n",
              "      <th class=\"index_name level0\" >Dependents</th>\n",
              "      <th class=\"blank col0\" >&nbsp;</th>\n",
              "      <th class=\"blank col1\" >&nbsp;</th>\n",
              "      <th class=\"blank col2\" >&nbsp;</th>\n",
              "      <th class=\"blank col3\" >&nbsp;</th>\n",
              "      <th class=\"blank col4\" >&nbsp;</th>\n",
              "    </tr>\n",
              "  </thead>\n",
              "  <tbody>\n",
              "    <tr>\n",
              "      <th id=\"T_c6f45_level0_row0\" class=\"row_heading level0 row0\" >0</th>\n",
              "      <td id=\"T_c6f45_row0_col0\" class=\"data row0 col0\" >27</td>\n",
              "      <td id=\"T_c6f45_row0_col1\" class=\"data row0 col1\" >86</td>\n",
              "      <td id=\"T_c6f45_row0_col2\" class=\"data row0 col2\" >56</td>\n",
              "      <td id=\"T_c6f45_row0_col3\" class=\"data row0 col3\" >191</td>\n",
              "      <td id=\"T_c6f45_row0_col4\" class=\"data row0 col4\" >360</td>\n",
              "    </tr>\n",
              "    <tr>\n",
              "      <th id=\"T_c6f45_level0_row1\" class=\"row_heading level0 row1\" >1</th>\n",
              "      <td id=\"T_c6f45_row1_col0\" class=\"data row1 col0\" >6</td>\n",
              "      <td id=\"T_c6f45_row1_col1\" class=\"data row1 col1\" >30</td>\n",
              "      <td id=\"T_c6f45_row1_col2\" class=\"data row1 col2\" >13</td>\n",
              "      <td id=\"T_c6f45_row1_col3\" class=\"data row1 col3\" >53</td>\n",
              "      <td id=\"T_c6f45_row1_col4\" class=\"data row1 col4\" >102</td>\n",
              "    </tr>\n",
              "    <tr>\n",
              "      <th id=\"T_c6f45_level0_row2\" class=\"row_heading level0 row2\" >2</th>\n",
              "      <td id=\"T_c6f45_row2_col0\" class=\"data row2 col0\" >2</td>\n",
              "      <td id=\"T_c6f45_row2_col1\" class=\"data row2 col1\" >23</td>\n",
              "      <td id=\"T_c6f45_row2_col2\" class=\"data row2 col2\" >5</td>\n",
              "      <td id=\"T_c6f45_row2_col3\" class=\"data row2 col3\" >71</td>\n",
              "      <td id=\"T_c6f45_row2_col4\" class=\"data row2 col4\" >101</td>\n",
              "    </tr>\n",
              "    <tr>\n",
              "      <th id=\"T_c6f45_level0_row3\" class=\"row_heading level0 row3\" >3+</th>\n",
              "      <td id=\"T_c6f45_row3_col0\" class=\"data row3 col0\" >2</td>\n",
              "      <td id=\"T_c6f45_row3_col1\" class=\"data row3 col1\" >16</td>\n",
              "      <td id=\"T_c6f45_row3_col2\" class=\"data row3 col2\" >1</td>\n",
              "      <td id=\"T_c6f45_row3_col3\" class=\"data row3 col3\" >32</td>\n",
              "      <td id=\"T_c6f45_row3_col4\" class=\"data row3 col4\" >51</td>\n",
              "    </tr>\n",
              "    <tr>\n",
              "      <th id=\"T_c6f45_level0_row4\" class=\"row_heading level0 row4\" >All</th>\n",
              "      <td id=\"T_c6f45_row4_col0\" class=\"data row4 col0\" >37</td>\n",
              "      <td id=\"T_c6f45_row4_col1\" class=\"data row4 col1\" >155</td>\n",
              "      <td id=\"T_c6f45_row4_col2\" class=\"data row4 col2\" >75</td>\n",
              "      <td id=\"T_c6f45_row4_col3\" class=\"data row4 col3\" >347</td>\n",
              "      <td id=\"T_c6f45_row4_col4\" class=\"data row4 col4\" >614</td>\n",
              "    </tr>\n",
              "  </tbody>\n",
              "</table>\n"
            ]
          },
          "metadata": {},
          "execution_count": 26
        }
      ]
    },
    {
      "cell_type": "markdown",
      "source": [
        "* **58.6% Applicants** have no dependents on them.\n",
        " \n",
        "* 33% Applicants have either 1 or 2 dependents. It will interesting check whether with increase in number dependents their is increase in requirement loan amount.\n",
        "\n",
        "* Female having zero dependents have more chances to get loan approval compare to Females with dependents.\n",
        "\n",
        "* For male Maximum loan approval comes with 0 dependents followed by 2 dependents."
      ],
      "metadata": {
        "id": "xxZtGTRrdLeh"
      }
    },
    {
      "cell_type": "code",
      "source": [
        "plt.figure(figsize=(12,8))\n",
        "p = sns.countplot(df['Education'], hue=df['Loan_Status'], palette='gist_earth')\n",
        "plt.title('Loan Status as per Education', fontsize=24)\n",
        "p.set_xlabel('Education',fontsize=20)\n",
        "plt.xticks(fontsize=18,rotation=0)\n",
        "plt.yticks(fontsize=18,fontweight ='bold')\n",
        "plt.legend(fontsize=18)\n",
        "plt.show()"
      ],
      "metadata": {
        "colab": {
          "base_uri": "https://localhost:8080/",
          "height": 539
        },
        "id": "xgF8e7nafdgz",
        "outputId": "38dc5954-75a6-4c6e-b649-49fe6be7252f"
      },
      "execution_count": null,
      "outputs": [
        {
          "output_type": "display_data",
          "data": {
            "text/plain": [
              "<Figure size 864x576 with 1 Axes>"
            ],
            "image/png": "[encoded data removed]"
          },
          "metadata": {
            "needs_background": "light"
          }
        }
      ]
    },
    {
      "cell_type": "code",
      "source": [
        " pd.crosstab([df['Education'],df['Gender']],[df.Loan_Status],margins=True).style.background_gradient(cmap='Blues')"
      ],
      "metadata": {
        "colab": {
          "base_uri": "https://localhost:8080/",
          "height": 238
        },
        "id": "vA3cwZN-f4VK",
        "outputId": "00dc9646-14b5-4bdf-bb29-d59c404651e8"
      },
      "execution_count": null,
      "outputs": [
        {
          "output_type": "execute_result",
          "data": {
            "text/plain": [
              "<pandas.io.formats.style.Styler at 0x7f01e8b92fd0>"
            ],
            "text/html": [
              "<style type=\"text/css\">\n",
              "#T_e6470_row0_col0 {\n",
              "  background-color: #dceaf6;\n",
              "  color: #000000;\n",
              "}\n",
              "#T_e6470_row0_col1 {\n",
              "  background-color: #e0ecf8;\n",
              "  color: #000000;\n",
              "}\n",
              "#T_e6470_row0_col2 {\n",
              "  background-color: #dfebf7;\n",
              "  color: #000000;\n",
              "}\n",
              "#T_e6470_row1_col0 {\n",
              "  background-color: #5aa2cf;\n",
              "  color: #f1f1f1;\n",
              "}\n",
              "#T_e6470_row1_col1 {\n",
              "  background-color: #3b8bc2;\n",
              "  color: #f1f1f1;\n",
              "}\n",
              "#T_e6470_row1_col2 {\n",
              "  background-color: #4493c7;\n",
              "  color: #f1f1f1;\n",
              "}\n",
              "#T_e6470_row2_col0, #T_e6470_row2_col1, #T_e6470_row2_col2 {\n",
              "  background-color: #f7fbff;\n",
              "  color: #000000;\n",
              "}\n",
              "#T_e6470_row3_col0 {\n",
              "  background-color: #cddff1;\n",
              "  color: #000000;\n",
              "}\n",
              "#T_e6470_row3_col1 {\n",
              "  background-color: #ddeaf7;\n",
              "  color: #000000;\n",
              "}\n",
              "#T_e6470_row3_col2 {\n",
              "  background-color: #d8e7f5;\n",
              "  color: #000000;\n",
              "}\n",
              "#T_e6470_row4_col0, #T_e6470_row4_col1, #T_e6470_row4_col2 {\n",
              "  background-color: #08306b;\n",
              "  color: #f1f1f1;\n",
              "}\n",
              "</style>\n",
              "<table id=\"T_e6470_\" class=\"dataframe\">\n",
              "  <thead>\n",
              "    <tr>\n",
              "      <th class=\"blank\" >&nbsp;</th>\n",
              "      <th class=\"index_name level0\" >Loan_Status</th>\n",
              "      <th class=\"col_heading level0 col0\" >N</th>\n",
              "      <th class=\"col_heading level0 col1\" >Y</th>\n",
              "      <th class=\"col_heading level0 col2\" >All</th>\n",
              "    </tr>\n",
              "    <tr>\n",
              "      <th class=\"index_name level0\" >Education</th>\n",
              "      <th class=\"index_name level1\" >Gender</th>\n",
              "      <th class=\"blank col0\" >&nbsp;</th>\n",
              "      <th class=\"blank col1\" >&nbsp;</th>\n",
              "      <th class=\"blank col2\" >&nbsp;</th>\n",
              "    </tr>\n",
              "  </thead>\n",
              "  <tbody>\n",
              "    <tr>\n",
              "      <th id=\"T_e6470_level0_row0\" class=\"row_heading level0 row0\" rowspan=\"2\">Graduate</th>\n",
              "      <th id=\"T_e6470_level1_row0\" class=\"row_heading level1 row0\" >Female</th>\n",
              "      <td id=\"T_e6470_row0_col0\" class=\"data row0 col0\" >31</td>\n",
              "      <td id=\"T_e6470_row0_col1\" class=\"data row0 col1\" >61</td>\n",
              "      <td id=\"T_e6470_row0_col2\" class=\"data row0 col2\" >92</td>\n",
              "    </tr>\n",
              "    <tr>\n",
              "      <th id=\"T_e6470_level1_row1\" class=\"row_heading level1 row1\" >Male</th>\n",
              "      <td id=\"T_e6470_row1_col0\" class=\"data row1 col0\" >109</td>\n",
              "      <td id=\"T_e6470_row1_col1\" class=\"data row1 col1\" >279</td>\n",
              "      <td id=\"T_e6470_row1_col2\" class=\"data row1 col2\" >388</td>\n",
              "    </tr>\n",
              "    <tr>\n",
              "      <th id=\"T_e6470_level0_row2\" class=\"row_heading level0 row2\" rowspan=\"2\">Not Graduate</th>\n",
              "      <th id=\"T_e6470_level1_row2\" class=\"row_heading level1 row2\" >Female</th>\n",
              "      <td id=\"T_e6470_row2_col0\" class=\"data row2 col0\" >6</td>\n",
              "      <td id=\"T_e6470_row2_col1\" class=\"data row2 col1\" >14</td>\n",
              "      <td id=\"T_e6470_row2_col2\" class=\"data row2 col2\" >20</td>\n",
              "    </tr>\n",
              "    <tr>\n",
              "      <th id=\"T_e6470_level1_row3\" class=\"row_heading level1 row3\" >Male</th>\n",
              "      <td id=\"T_e6470_row3_col0\" class=\"data row3 col0\" >46</td>\n",
              "      <td id=\"T_e6470_row3_col1\" class=\"data row3 col1\" >68</td>\n",
              "      <td id=\"T_e6470_row3_col2\" class=\"data row3 col2\" >114</td>\n",
              "    </tr>\n",
              "    <tr>\n",
              "      <th id=\"T_e6470_level0_row4\" class=\"row_heading level0 row4\" >All</th>\n",
              "      <th id=\"T_e6470_level1_row4\" class=\"row_heading level1 row4\" ></th>\n",
              "      <td id=\"T_e6470_row4_col0\" class=\"data row4 col0\" >192</td>\n",
              "      <td id=\"T_e6470_row4_col1\" class=\"data row4 col1\" >422</td>\n",
              "      <td id=\"T_e6470_row4_col2\" class=\"data row4 col2\" >614</td>\n",
              "    </tr>\n",
              "  </tbody>\n",
              "</table>\n"
            ]
          },
          "metadata": {},
          "execution_count": 28
        }
      ]
    },
    {
      "cell_type": "markdown",
      "source": [
        "**Graduate applicants are more likely to get loan approval irrespective gender.**"
      ],
      "metadata": {
        "id": "R8ciwCd_gG-v"
      }
    },
    {
      "cell_type": "code",
      "source": [
        "# Separating numerical variables\n",
        "\n",
        "num = ['ApplicantIncome', 'CoapplicantIncome', 'LoanAmount',\n",
        "       'Loan_Amount_Term']"
      ],
      "metadata": {
        "id": "9plEddmvgfed"
      },
      "execution_count": null,
      "outputs": []
    },
    {
      "cell_type": "code",
      "source": [
        "plt.figure(figsize=(20,25),facecolor='w')\n",
        "plotnumber=1\n",
        "\n",
        "for column in num:\n",
        "    if plotnumber<=4:\n",
        "        ax = plt.subplot(2,2,plotnumber)\n",
        "        sns.distplot(df[column])\n",
        "        plt.xlabel(column,fontsize=20)\n",
        "    plotnumber+=1\n",
        "plt.show()"
      ],
      "metadata": {
        "colab": {
          "base_uri": "https://localhost:8080/",
          "height": 1000
        },
        "id": "aee26tfmg_bE",
        "outputId": "c5f52cef-2392-4f13-98e6-b30d20c9442e"
      },
      "execution_count": null,
      "outputs": [
        {
          "output_type": "display_data",
          "data": {
            "text/plain": [
              "<Figure size 1440x1800 with 4 Axes>"
            ],
            "image/png": "[encoded data removed]"
          },
          "metadata": {}
        }
      ]
    },
    {
      "cell_type": "code",
      "source": [
        "df.skew()"
      ],
      "metadata": {
        "colab": {
          "base_uri": "https://localhost:8080/"
        },
        "id": "eR9gsaOZhMhs",
        "outputId": "475b5230-a1e0-493d-a648-c605bfe61f19"
      },
      "execution_count": null,
      "outputs": [
        {
          "output_type": "execute_result",
          "data": {
            "text/plain": [
              "ApplicantIncome      6.539513\n",
              "CoapplicantIncome    7.491531\n",
              "LoanAmount           2.743053\n",
              "Loan_Amount_Term    -2.402112\n",
              "Credit_History      -2.021971\n",
              "dtype: float64"
            ]
          },
          "metadata": {},
          "execution_count": 19
        }
      ]
    },
    {
      "cell_type": "code",
      "source": [
        "# Lets see the outliers present in the data using boxplot\n",
        "\n",
        "plt.figure(figsize=(12,8),facecolor='orange')\n",
        "plotnumber=1\n",
        "\n",
        "for column in num:\n",
        "    if plotnumber<=4:\n",
        "        ax = plt.subplot(2,2,plotnumber)\n",
        "        sns.boxplot(df[column])\n",
        "        plt.xlabel(column,fontsize=20)\n",
        "    plotnumber+=1\n",
        "plt.show()"
      ],
      "metadata": {
        "colab": {
          "base_uri": "https://localhost:8080/",
          "height": 506
        },
        "id": "YQhAfKQ2hZtC",
        "outputId": "fbaa0068-82b8-4d10-e70d-689775f1565b"
      },
      "execution_count": null,
      "outputs": [
        {
          "output_type": "display_data",
          "data": {
            "text/plain": [
              "<Figure size 864x576 with 4 Axes>"
            ],
            "image/png": "[encoded data removed]"
          },
          "metadata": {}
        }
      ]
    },
    {
      "cell_type": "code",
      "source": [
        "# Plotting heatmap and checking correlation\n",
        "\n",
        "plt.figure(figsize=(10,4))\n",
        "sns.heatmap(df.corr(),annot =True,linewidths=0.15,linecolor='black',fmt=\"0.2f\")"
      ],
      "metadata": {
        "colab": {
          "base_uri": "https://localhost:8080/",
          "height": 373
        },
        "id": "OGjNgy9Cg_Xk",
        "outputId": "fb3ae44a-d180-4454-a702-5284b72cfe15"
      },
      "execution_count": null,
      "outputs": [
        {
          "output_type": "execute_result",
          "data": {
            "text/plain": [
              "<matplotlib.axes._subplots.AxesSubplot at 0x7fe2f8323e80>"
            ]
          },
          "metadata": {},
          "execution_count": 20
        },
        {
          "output_type": "display_data",
          "data": {
            "text/plain": [
              "<Figure size 720x288 with 2 Axes>"
            ],
            "image/png": "[encoded data removed]"
          },
          "metadata": {
            "needs_background": "light"
          }
        }
      ]
    },
    {
      "cell_type": "markdown",
      "source": [
        "**Encoding the categorical variables**"
      ],
      "metadata": {
        "id": "CAeHH7A_jFtU"
      }
    },
    {
      "cell_type": "code",
      "source": [
        "from sklearn.preprocessing import LabelEncoder\n",
        "\n",
        "le = LabelEncoder()"
      ],
      "metadata": {
        "id": "yhx_sN9rjLHE"
      },
      "execution_count": null,
      "outputs": []
    },
    {
      "cell_type": "code",
      "source": [
        "for i in df.columns:\n",
        "    if df[i].dtypes == \"object\":\n",
        "        df[i] = le.fit_transform(df[i].values.reshape(-1,1))"
      ],
      "metadata": {
        "id": "98k3HuoRjMme"
      },
      "execution_count": null,
      "outputs": []
    },
    {
      "cell_type": "code",
      "source": [
        "df.head()"
      ],
      "metadata": {
        "colab": {
          "base_uri": "https://localhost:8080/",
          "height": 270
        },
        "id": "a9xbzPjtjSdq",
        "outputId": "bc94ba19-24f1-458b-fa65-e39d1c2d727e"
      },
      "execution_count": null,
      "outputs": [
        {
          "output_type": "execute_result",
          "data": {
            "text/plain": [
              "   Loan_ID  Gender  Married  Dependents  Education  Self_Employed  \\\n",
              "0        0       1        0           0          0              0   \n",
              "1        1       1        1           1          0              0   \n",
              "2        2       1        1           0          0              1   \n",
              "3        3       1        1           0          1              0   \n",
              "4        4       1        0           0          0              0   \n",
              "\n",
              "   ApplicantIncome  CoapplicantIncome  LoanAmount  Loan_Amount_Term  \\\n",
              "0             5849                0.0       128.0             360.0   \n",
              "1             4583             1508.0       128.0             360.0   \n",
              "2             3000                0.0        66.0             360.0   \n",
              "3             2583             2358.0       120.0             360.0   \n",
              "4             6000                0.0       141.0             360.0   \n",
              "\n",
              "   Credit_History  Property_Area  Loan_Status  \n",
              "0             1.0              2            1  \n",
              "1             1.0              0            0  \n",
              "2             1.0              2            1  \n",
              "3             1.0              2            1  \n",
              "4             1.0              2            1  "
            ],
            "text/html": [
              "\n",
              "  <div id=\"df-5e791298-553b-4b73-8673-08a5b3f9171e\">\n",
              "    <div class=\"colab-df-container\">\n",
              "      <div>\n",
              "<style scoped>\n",
              "    .dataframe tbody tr th:only-of-type {\n",
              "        vertical-align: middle;\n",
              "    }\n",
              "\n",
              "    .dataframe tbody tr th {\n",
              "        vertical-align: top;\n",
              "    }\n",
              "\n",
              "    .dataframe thead th {\n",
              "        text-align: right;\n",
              "    }\n",
              "</style>\n",
              "<table border=\"1\" class=\"dataframe\">\n",
              "  <thead>\n",
              "    <tr style=\"text-align: right;\">\n",
              "      <th></th>\n",
              "      <th>Loan_ID</th>\n",
              "      <th>Gender</th>\n",
              "      <th>Married</th>\n",
              "      <th>Dependents</th>\n",
              "      <th>Education</th>\n",
              "      <th>Self_Employed</th>\n",
              "      <th>ApplicantIncome</th>\n",
              "      <th>CoapplicantIncome</th>\n",
              "      <th>LoanAmount</th>\n",
              "      <th>Loan_Amount_Term</th>\n",
              "      <th>Credit_History</th>\n",
              "      <th>Property_Area</th>\n",
              "      <th>Loan_Status</th>\n",
              "    </tr>\n",
              "  </thead>\n",
              "  <tbody>\n",
              "    <tr>\n",
              "      <th>0</th>\n",
              "      <td>0</td>\n",
              "      <td>1</td>\n",
              "      <td>0</td>\n",
              "      <td>0</td>\n",
              "      <td>0</td>\n",
              "      <td>0</td>\n",
              "      <td>5849</td>\n",
              "      <td>0.0</td>\n",
              "      <td>128.0</td>\n",
              "      <td>360.0</td>\n",
              "      <td>1.0</td>\n",
              "      <td>2</td>\n",
              "      <td>1</td>\n",
              "    </tr>\n",
              "    <tr>\n",
              "      <th>1</th>\n",
              "      <td>1</td>\n",
              "      <td>1</td>\n",
              "      <td>1</td>\n",
              "      <td>1</td>\n",
              "      <td>0</td>\n",
              "      <td>0</td>\n",
              "      <td>4583</td>\n",
              "      <td>1508.0</td>\n",
              "      <td>128.0</td>\n",
              "      <td>360.0</td>\n",
              "      <td>1.0</td>\n",
              "      <td>0</td>\n",
              "      <td>0</td>\n",
              "    </tr>\n",
              "    <tr>\n",
              "      <th>2</th>\n",
              "      <td>2</td>\n",
              "      <td>1</td>\n",
              "      <td>1</td>\n",
              "      <td>0</td>\n",
              "      <td>0</td>\n",
              "      <td>1</td>\n",
              "      <td>3000</td>\n",
              "      <td>0.0</td>\n",
              "      <td>66.0</td>\n",
              "      <td>360.0</td>\n",
              "      <td>1.0</td>\n",
              "      <td>2</td>\n",
              "      <td>1</td>\n",
              "    </tr>\n",
              "    <tr>\n",
              "      <th>3</th>\n",
              "      <td>3</td>\n",
              "      <td>1</td>\n",
              "      <td>1</td>\n",
              "      <td>0</td>\n",
              "      <td>1</td>\n",
              "      <td>0</td>\n",
              "      <td>2583</td>\n",
              "      <td>2358.0</td>\n",
              "      <td>120.0</td>\n",
              "      <td>360.0</td>\n",
              "      <td>1.0</td>\n",
              "      <td>2</td>\n",
              "      <td>1</td>\n",
              "    </tr>\n",
              "    <tr>\n",
              "      <th>4</th>\n",
              "      <td>4</td>\n",
              "      <td>1</td>\n",
              "      <td>0</td>\n",
              "      <td>0</td>\n",
              "      <td>0</td>\n",
              "      <td>0</td>\n",
              "      <td>6000</td>\n",
              "      <td>0.0</td>\n",
              "      <td>141.0</td>\n",
              "      <td>360.0</td>\n",
              "      <td>1.0</td>\n",
              "      <td>2</td>\n",
              "      <td>1</td>\n",
              "    </tr>\n",
              "  </tbody>\n",
              "</table>\n",
              "</div>\n",
              "      <button class=\"colab-df-convert\" onclick=\"convertToInteractive('df-5e791298-553b-4b73-8673-08a5b3f9171e')\"\n",
              "              title=\"Convert this dataframe to an interactive table.\"\n",
              "              style=\"display:none;\">\n",
              "        \n",
              "  <svg xmlns=\"http://www.w3.org/2000/svg\" height=\"24px\"viewBox=\"0 0 24 24\"\n",
              "       width=\"24px\">\n",
              "    <path d=\"M0 0h24v24H0V0z\" fill=\"none\"/>\n",
              "    <path d=\"M18.56 5.44l.94 2.06.94-2.06 2.06-.94-2.06-.94-.94-2.06-.94 2.06-2.06.94zm-11 1L8.5 8.5l.94-2.06 2.06-.94-2.06-.94L8.5 2.5l-.94 2.06-2.06.94zm10 10l.94 2.06.94-2.06 2.06-.94-2.06-.94-.94-2.06-.94 2.06-2.06.94z\"/><path d=\"M17.41 7.96l-1.37-1.37c-.4-.4-.92-.59-1.43-.59-.52 0-1.04.2-1.43.59L10.3 9.45l-7.72 7.72c-.78.78-.78 2.05 0 2.83L4 21.41c.39.39.9.59 1.41.59.51 0 1.02-.2 1.41-.59l7.78-7.78 2.81-2.81c.8-.78.8-2.07 0-2.86zM5.41 20L4 18.59l7.72-7.72 1.47 1.35L5.41 20z\"/>\n",
              "  </svg>\n",
              "      </button>\n",
              "      \n",
              "  <style>\n",
              "    .colab-df-container {\n",
              "      display:flex;\n",
              "      flex-wrap:wrap;\n",
              "      gap: 12px;\n",
              "    }\n",
              "\n",
              "    .colab-df-convert {\n",
              "      background-color: #E8F0FE;\n",
              "      border: none;\n",
              "      border-radius: 50%;\n",
              "      cursor: pointer;\n",
              "      display: none;\n",
              "      fill: #1967D2;\n",
              "      height: 32px;\n",
              "      padding: 0 0 0 0;\n",
              "      width: 32px;\n",
              "    }\n",
              "\n",
              "    .colab-df-convert:hover {\n",
              "      background-color: #E2EBFA;\n",
              "      box-shadow: 0px 1px 2px rgba(60, 64, 67, 0.3), 0px 1px 3px 1px rgba(60, 64, 67, 0.15);\n",
              "      fill: #174EA6;\n",
              "    }\n",
              "\n",
              "    [theme=dark] .colab-df-convert {\n",
              "      background-color: #3B4455;\n",
              "      fill: #D2E3FC;\n",
              "    }\n",
              "\n",
              "    [theme=dark] .colab-df-convert:hover {\n",
              "      background-color: #434B5C;\n",
              "      box-shadow: 0px 1px 3px 1px rgba(0, 0, 0, 0.15);\n",
              "      filter: drop-shadow(0px 1px 2px rgba(0, 0, 0, 0.3));\n",
              "      fill: #FFFFFF;\n",
              "    }\n",
              "  </style>\n",
              "\n",
              "      <script>\n",
              "        const buttonEl =\n",
              "          document.querySelector('#df-5e791298-553b-4b73-8673-08a5b3f9171e button.colab-df-convert');\n",
              "        buttonEl.style.display =\n",
              "          google.colab.kernel.accessAllowed ? 'block' : 'none';\n",
              "\n",
              "        async function convertToInteractive(key) {\n",
              "          const element = document.querySelector('#df-5e791298-553b-4b73-8673-08a5b3f9171e');\n",
              "          const dataTable =\n",
              "            await google.colab.kernel.invokeFunction('convertToInteractive',\n",
              "                                                     [key], {});\n",
              "          if (!dataTable) return;\n",
              "\n",
              "          const docLinkHtml = 'Like what you see? Visit the ' +\n",
              "            '<a target=\"_blank\" href=https://colab.research.google.com/notebooks/data_table.ipynb>data table notebook</a>'\n",
              "            + ' to learn more about interactive tables.';\n",
              "          element.innerHTML = '';\n",
              "          dataTable['output_type'] = 'display_data';\n",
              "          await google.colab.output.renderOutput(dataTable, element);\n",
              "          const docLink = document.createElement('div');\n",
              "          docLink.innerHTML = docLinkHtml;\n",
              "          element.appendChild(docLink);\n",
              "        }\n",
              "      </script>\n",
              "    </div>\n",
              "  </div>\n",
              "  "
            ]
          },
          "metadata": {},
          "execution_count": 23
        }
      ]
    },
    {
      "cell_type": "markdown",
      "source": [
        "**Outlier Removal**"
      ],
      "metadata": {
        "id": "eNyxk4OfjhQ9"
      }
    },
    {
      "cell_type": "code",
      "source": [
        "# Removing outliers using zscore and keeping threshold as 3 (3 std from mean : 99.7% of data included)\n",
        "\n",
        "from scipy.stats import zscore\n",
        "\n",
        "z_score = np.abs(zscore(df))\n",
        "\n",
        "filtering_entry = (z_score < 3).all(axis = 1)\n",
        "\n",
        "df_new = df[filtering_entry]"
      ],
      "metadata": {
        "id": "M0HWHW4njkxB"
      },
      "execution_count": null,
      "outputs": []
    },
    {
      "cell_type": "code",
      "source": [
        "df_new.shape"
      ],
      "metadata": {
        "colab": {
          "base_uri": "https://localhost:8080/"
        },
        "id": "uEBDudAZjr5-",
        "outputId": "79890f0a-c76f-4e19-a5f9-3ad66cb476ce"
      },
      "execution_count": null,
      "outputs": [
        {
          "output_type": "execute_result",
          "data": {
            "text/plain": [
              "(577, 13)"
            ]
          },
          "metadata": {},
          "execution_count": 25
        }
      ]
    },
    {
      "cell_type": "code",
      "source": [
        "print(\"Data loss in % : \",(614-577)/614*100)"
      ],
      "metadata": {
        "colab": {
          "base_uri": "https://localhost:8080/"
        },
        "id": "ffCVhhUMjy0E",
        "outputId": "84baed88-ac34-4cd5-c17d-910ef8b7e7aa"
      },
      "execution_count": null,
      "outputs": [
        {
          "output_type": "stream",
          "name": "stdout",
          "text": [
            "Data loss in % :  6.026058631921824\n"
          ]
        }
      ]
    },
    {
      "cell_type": "markdown",
      "source": [
        "**Power Transformer**"
      ],
      "metadata": {
        "id": "yotySYTGj9O0"
      }
    },
    {
      "cell_type": "code",
      "source": [
        "# Considering skewness reduction through PowerTransformer\n",
        "\n",
        "from sklearn.preprocessing import PowerTransformer\n",
        "\n",
        "pt = PowerTransformer()"
      ],
      "metadata": {
        "id": "yYNOGJYRkC8J"
      },
      "execution_count": null,
      "outputs": []
    },
    {
      "cell_type": "code",
      "source": [
        "# Seperating features and target variable for classification task\n",
        "\n",
        "X = df_new.drop('Loan_Status',axis=1)\n",
        "\n",
        "y = df_new['Loan_Status']"
      ],
      "metadata": {
        "id": "CI0ul5owkKes"
      },
      "execution_count": null,
      "outputs": []
    },
    {
      "cell_type": "code",
      "source": [
        "# Applying Power transformer\n",
        "\n",
        "X_new_pt = pt.fit_transform(X)\n",
        "\n",
        "# Converting numpy array(X_new_pt) into Dataframe and reassigning the values\n",
        "\n",
        "X = pd.DataFrame(X_new_pt,columns= X.columns)\n",
        "\n",
        "# Checking Skewness\n",
        "\n",
        "X.skew().sort_values(ascending=False)"
      ],
      "metadata": {
        "colab": {
          "base_uri": "https://localhost:8080/"
        },
        "id": "NdUG1s2SkWXY",
        "outputId": "b2fca567-f6da-4e71-d7f1-3483c6d5c1e8"
      },
      "execution_count": null,
      "outputs": [
        {
          "output_type": "execute_result",
          "data": {
            "text/plain": [
              "Self_Employed        2.252848\n",
              "Education            1.306588\n",
              "Loan_Amount_Term     0.727533\n",
              "Dependents           0.478360\n",
              "LoanAmount           0.048425\n",
              "ApplicantIncome      0.027981\n",
              "Property_Area       -0.155094\n",
              "CoapplicantIncome   -0.191876\n",
              "Loan_ID             -0.284298\n",
              "Married             -0.630211\n",
              "Gender              -1.622920\n",
              "Credit_History      -1.976043\n",
              "dtype: float64"
            ]
          },
          "metadata": {},
          "execution_count": 29
        }
      ]
    },
    {
      "cell_type": "markdown",
      "source": [
        "* **All numerical variables** have skewness within the permissible limit\n",
        "\n",
        "* Skewness present in the categorical variables is irrelevant"
      ],
      "metadata": {
        "id": "PBi-pyx0kfH-"
      }
    },
    {
      "cell_type": "code",
      "source": [
        "# Checking multicollinearity in the dataset\n",
        "from statsmodels.stats.outliers_influence import variance_inflation_factor\n",
        "vif = pd.DataFrame()\n",
        "vif['vif'] = [variance_inflation_factor(X.values,i) for i in range(X.shape[1])]\n",
        "vif['Features'] = X.columns\n",
        "\n",
        "vif"
      ],
      "metadata": {
        "colab": {
          "base_uri": "https://localhost:8080/",
          "height": 426
        },
        "id": "fcwpWT8mkxAt",
        "outputId": "a737e451-af63-418f-8725-671a79342e84"
      },
      "execution_count": null,
      "outputs": [
        {
          "output_type": "execute_result",
          "data": {
            "text/plain": [
              "         vif           Features\n",
              "0   1.044161            Loan_ID\n",
              "1   1.219752             Gender\n",
              "2   1.433278            Married\n",
              "3   1.189534         Dependents\n",
              "4   1.066531          Education\n",
              "5   1.056094      Self_Employed\n",
              "6   1.763646    ApplicantIncome\n",
              "7   1.583442  CoapplicantIncome\n",
              "8   1.549898         LoanAmount\n",
              "9   1.048362   Loan_Amount_Term\n",
              "10  1.009921     Credit_History\n",
              "11  1.060586      Property_Area"
            ],
            "text/html": [
              "\n",
              "  <div id=\"df-98d5434a-8062-4220-9804-067d46b84e79\">\n",
              "    <div class=\"colab-df-container\">\n",
              "      <div>\n",
              "<style scoped>\n",
              "    .dataframe tbody tr th:only-of-type {\n",
              "        vertical-align: middle;\n",
              "    }\n",
              "\n",
              "    .dataframe tbody tr th {\n",
              "        vertical-align: top;\n",
              "    }\n",
              "\n",
              "    .dataframe thead th {\n",
              "        text-align: right;\n",
              "    }\n",
              "</style>\n",
              "<table border=\"1\" class=\"dataframe\">\n",
              "  <thead>\n",
              "    <tr style=\"text-align: right;\">\n",
              "      <th></th>\n",
              "      <th>vif</th>\n",
              "      <th>Features</th>\n",
              "    </tr>\n",
              "  </thead>\n",
              "  <tbody>\n",
              "    <tr>\n",
              "      <th>0</th>\n",
              "      <td>1.044161</td>\n",
              "      <td>Loan_ID</td>\n",
              "    </tr>\n",
              "    <tr>\n",
              "      <th>1</th>\n",
              "      <td>1.219752</td>\n",
              "      <td>Gender</td>\n",
              "    </tr>\n",
              "    <tr>\n",
              "      <th>2</th>\n",
              "      <td>1.433278</td>\n",
              "      <td>Married</td>\n",
              "    </tr>\n",
              "    <tr>\n",
              "      <th>3</th>\n",
              "      <td>1.189534</td>\n",
              "      <td>Dependents</td>\n",
              "    </tr>\n",
              "    <tr>\n",
              "      <th>4</th>\n",
              "      <td>1.066531</td>\n",
              "      <td>Education</td>\n",
              "    </tr>\n",
              "    <tr>\n",
              "      <th>5</th>\n",
              "      <td>1.056094</td>\n",
              "      <td>Self_Employed</td>\n",
              "    </tr>\n",
              "    <tr>\n",
              "      <th>6</th>\n",
              "      <td>1.763646</td>\n",
              "      <td>ApplicantIncome</td>\n",
              "    </tr>\n",
              "    <tr>\n",
              "      <th>7</th>\n",
              "      <td>1.583442</td>\n",
              "      <td>CoapplicantIncome</td>\n",
              "    </tr>\n",
              "    <tr>\n",
              "      <th>8</th>\n",
              "      <td>1.549898</td>\n",
              "      <td>LoanAmount</td>\n",
              "    </tr>\n",
              "    <tr>\n",
              "      <th>9</th>\n",
              "      <td>1.048362</td>\n",
              "      <td>Loan_Amount_Term</td>\n",
              "    </tr>\n",
              "    <tr>\n",
              "      <th>10</th>\n",
              "      <td>1.009921</td>\n",
              "      <td>Credit_History</td>\n",
              "    </tr>\n",
              "    <tr>\n",
              "      <th>11</th>\n",
              "      <td>1.060586</td>\n",
              "      <td>Property_Area</td>\n",
              "    </tr>\n",
              "  </tbody>\n",
              "</table>\n",
              "</div>\n",
              "      <button class=\"colab-df-convert\" onclick=\"convertToInteractive('df-98d5434a-8062-4220-9804-067d46b84e79')\"\n",
              "              title=\"Convert this dataframe to an interactive table.\"\n",
              "              style=\"display:none;\">\n",
              "        \n",
              "  <svg xmlns=\"http://www.w3.org/2000/svg\" height=\"24px\"viewBox=\"0 0 24 24\"\n",
              "       width=\"24px\">\n",
              "    <path d=\"M0 0h24v24H0V0z\" fill=\"none\"/>\n",
              "    <path d=\"M18.56 5.44l.94 2.06.94-2.06 2.06-.94-2.06-.94-.94-2.06-.94 2.06-2.06.94zm-11 1L8.5 8.5l.94-2.06 2.06-.94-2.06-.94L8.5 2.5l-.94 2.06-2.06.94zm10 10l.94 2.06.94-2.06 2.06-.94-2.06-.94-.94-2.06-.94 2.06-2.06.94z\"/><path d=\"M17.41 7.96l-1.37-1.37c-.4-.4-.92-.59-1.43-.59-.52 0-1.04.2-1.43.59L10.3 9.45l-7.72 7.72c-.78.78-.78 2.05 0 2.83L4 21.41c.39.39.9.59 1.41.59.51 0 1.02-.2 1.41-.59l7.78-7.78 2.81-2.81c.8-.78.8-2.07 0-2.86zM5.41 20L4 18.59l7.72-7.72 1.47 1.35L5.41 20z\"/>\n",
              "  </svg>\n",
              "      </button>\n",
              "      \n",
              "  <style>\n",
              "    .colab-df-container {\n",
              "      display:flex;\n",
              "      flex-wrap:wrap;\n",
              "      gap: 12px;\n",
              "    }\n",
              "\n",
              "    .colab-df-convert {\n",
              "      background-color: #E8F0FE;\n",
              "      border: none;\n",
              "      border-radius: 50%;\n",
              "      cursor: pointer;\n",
              "      display: none;\n",
              "      fill: #1967D2;\n",
              "      height: 32px;\n",
              "      padding: 0 0 0 0;\n",
              "      width: 32px;\n",
              "    }\n",
              "\n",
              "    .colab-df-convert:hover {\n",
              "      background-color: #E2EBFA;\n",
              "      box-shadow: 0px 1px 2px rgba(60, 64, 67, 0.3), 0px 1px 3px 1px rgba(60, 64, 67, 0.15);\n",
              "      fill: #174EA6;\n",
              "    }\n",
              "\n",
              "    [theme=dark] .colab-df-convert {\n",
              "      background-color: #3B4455;\n",
              "      fill: #D2E3FC;\n",
              "    }\n",
              "\n",
              "    [theme=dark] .colab-df-convert:hover {\n",
              "      background-color: #434B5C;\n",
              "      box-shadow: 0px 1px 3px 1px rgba(0, 0, 0, 0.15);\n",
              "      filter: drop-shadow(0px 1px 2px rgba(0, 0, 0, 0.3));\n",
              "      fill: #FFFFFF;\n",
              "    }\n",
              "  </style>\n",
              "\n",
              "      <script>\n",
              "        const buttonEl =\n",
              "          document.querySelector('#df-98d5434a-8062-4220-9804-067d46b84e79 button.colab-df-convert');\n",
              "        buttonEl.style.display =\n",
              "          google.colab.kernel.accessAllowed ? 'block' : 'none';\n",
              "\n",
              "        async function convertToInteractive(key) {\n",
              "          const element = document.querySelector('#df-98d5434a-8062-4220-9804-067d46b84e79');\n",
              "          const dataTable =\n",
              "            await google.colab.kernel.invokeFunction('convertToInteractive',\n",
              "                                                     [key], {});\n",
              "          if (!dataTable) return;\n",
              "\n",
              "          const docLinkHtml = 'Like what you see? Visit the ' +\n",
              "            '<a target=\"_blank\" href=https://colab.research.google.com/notebooks/data_table.ipynb>data table notebook</a>'\n",
              "            + ' to learn more about interactive tables.';\n",
              "          element.innerHTML = '';\n",
              "          dataTable['output_type'] = 'display_data';\n",
              "          await google.colab.output.renderOutput(dataTable, element);\n",
              "          const docLink = document.createElement('div');\n",
              "          docLink.innerHTML = docLinkHtml;\n",
              "          element.appendChild(docLink);\n",
              "        }\n",
              "      </script>\n",
              "    </div>\n",
              "  </div>\n",
              "  "
            ]
          },
          "metadata": {},
          "execution_count": 30
        }
      ]
    },
    {
      "cell_type": "markdown",
      "source": [
        "**No multicollinearity exists in the given dataset**"
      ],
      "metadata": {
        "id": "2RKi25nTk8do"
      }
    },
    {
      "cell_type": "markdown",
      "source": [
        "**TARGET VARIABLE**"
      ],
      "metadata": {
        "id": "_2UXolW8lHVo"
      }
    },
    {
      "cell_type": "code",
      "source": [
        "df_new['Loan_Status'].value_counts()"
      ],
      "metadata": {
        "colab": {
          "base_uri": "https://localhost:8080/"
        },
        "id": "k1Zu6cvelL5x",
        "outputId": "c3372e64-cf02-4289-80b8-86346587dfe7"
      },
      "execution_count": null,
      "outputs": [
        {
          "output_type": "execute_result",
          "data": {
            "text/plain": [
              "1    398\n",
              "0    179\n",
              "Name: Loan_Status, dtype: int64"
            ]
          },
          "metadata": {},
          "execution_count": 31
        }
      ]
    },
    {
      "cell_type": "code",
      "source": [
        "print(\"The number of target classes before fit{}\".format(Counter(y)))"
      ],
      "metadata": {
        "colab": {
          "base_uri": "https://localhost:8080/"
        },
        "id": "oDeA0W-4lCkQ",
        "outputId": "09c18897-fae6-4134-9ecd-4cebd78a16f6"
      },
      "execution_count": null,
      "outputs": [
        {
          "output_type": "stream",
          "name": "stdout",
          "text": [
            "The number of target classes before fitCounter({1: 398, 0: 179})\n"
          ]
        }
      ]
    },
    {
      "cell_type": "markdown",
      "source": [
        "**Data is imbalanced,need balancing**"
      ],
      "metadata": {
        "id": "UE9OsLRClodZ"
      }
    },
    {
      "cell_type": "markdown",
      "source": [
        "**BALANCING TARGET VARIABLE USING SMOTE**"
      ],
      "metadata": {
        "id": "vZfNBVbplvzY"
      }
    },
    {
      "cell_type": "code",
      "source": [
        "from imblearn.over_sampling import SMOTE\n",
        "\n",
        "over_smp = SMOTE(0.8)\n",
        "\n",
        "X,y = over_smp.fit_resample(X,y)\n",
        "\n",
        "print(\"The number of target classes after fit{}\".format(Counter(y)))"
      ],
      "metadata": {
        "colab": {
          "base_uri": "https://localhost:8080/"
        },
        "id": "F1EiWwCAl4ly",
        "outputId": "16d0a24e-93b2-4bdb-d37a-44764b712345"
      },
      "execution_count": null,
      "outputs": [
        {
          "output_type": "stream",
          "name": "stdout",
          "text": [
            "The number of target classes after fitCounter({1: 398, 0: 318})\n"
          ]
        }
      ]
    },
    {
      "cell_type": "markdown",
      "source": [
        "**SCALING USING STANDARD SCALER**"
      ],
      "metadata": {
        "id": "6mJ7o9E8mKbq"
      }
    },
    {
      "cell_type": "code",
      "source": [
        "from sklearn.preprocessing import StandardScaler\n",
        "\n",
        "scaler = StandardScaler()\n",
        "\n",
        "X_scaler = scaler.fit_transform(X)"
      ],
      "metadata": {
        "id": "148f4DnNluvo"
      },
      "execution_count": null,
      "outputs": []
    },
    {
      "cell_type": "markdown",
      "source": [
        "**MODEL BUILDING**"
      ],
      "metadata": {
        "id": "K1Z1dJiYmY_I"
      }
    },
    {
      "cell_type": "code",
      "source": [
        "# Importing required libraries\n",
        "\n",
        "from sklearn.linear_model import LogisticRegression\n",
        "from sklearn.tree import DecisionTreeClassifier\n",
        "from sklearn.metrics import accuracy_score,classification_report, confusion_matrix\n",
        "from sklearn.ensemble import RandomForestClassifier\n",
        "from sklearn.neighbors import KNeighborsClassifier\n",
        "from sklearn.svm import SVC\n",
        "from sklearn.metrics import plot_roc_curve\n",
        "from sklearn.ensemble import AdaBoostClassifier,GradientBoostingClassifier\n",
        "import pickle\n",
        "from sklearn.model_selection import cross_val_score\n",
        "from sklearn.model_selection import train_test_split, GridSearchCV"
      ],
      "metadata": {
        "id": "L6dooTwgmcka"
      },
      "execution_count": null,
      "outputs": []
    },
    {
      "cell_type": "code",
      "source": [
        "# Defining function for calculating the performance of the classification model\n",
        "\n",
        "def metric_score(clf,X_train,X_test,y_train,y_test,train = True):\n",
        "    if train:\n",
        "        y_pred = clf.predict(X_train)\n",
        "        \n",
        "        print(\"-----------------Train Result--------------------\")\n",
        "        \n",
        "        print(f\"Accuracy Score : {accuracy_score(y_train,y_pred)*100:.2f}%\")\n",
        "        \n",
        "    elif train == False:\n",
        "        \n",
        "        pred = clf.predict(X_test)\n",
        "        \n",
        "        matrix = confusion_matrix(y_test,pred)\n",
        "        \n",
        "        print(\"-----------------Test Result--------------------\")\n",
        "        \n",
        "        print(\"Confusion Matrix \\n\",matrix)\n",
        "        \n",
        "        print(f\"Accuracy Score : {accuracy_score(y_test,pred)*100:.2f}%\")\n",
        "        \n",
        "        print(\"\\n Test Classification Report \\n \", classification_report(y_test,pred,digits =2))"
      ],
      "metadata": {
        "id": "u_6Cmta-nBzO"
      },
      "execution_count": null,
      "outputs": []
    },
    {
      "cell_type": "markdown",
      "source": [
        "**BEST RANDOM STATE**"
      ],
      "metadata": {
        "id": "nw5bFMcWmlpS"
      }
    },
    {
      "cell_type": "code",
      "source": [
        "maxAccu = 0 # Max Accuracy\n",
        "maxRS = 0   # Best random state for which maximum accuracy is achieved\n",
        "\n",
        "for i in range(0,1000):\n",
        "    X_train,X_test,y_train,y_test = train_test_split(X_scaler,y,test_size=0.2,random_state=i)\n",
        "  \n",
        "    lr = LogisticRegression()\n",
        "    \n",
        "    lr.fit(X_train,y_train)    # Training the model\n",
        "   \n",
        "    pred_lr = lr.predict(X_test)    # Predicting the target variable\n",
        " \n",
        "    acc_lr = accuracy_score(y_test,pred_lr)\n",
        "  \n",
        "    if acc_lr>maxAccu:\n",
        "    \n",
        "        maxAccu = acc_lr\n",
        "        \n",
        "        maxRS = i\n",
        "        \n",
        "print(\"Maximum Accuracy:\",maxAccu,\"at random state \", maxRS)\n"
      ],
      "metadata": {
        "colab": {
          "base_uri": "https://localhost:8080/"
        },
        "id": "MGsxDgermow3",
        "outputId": "a5951dd5-1f2d-4a92-92de-5e85bb514e18"
      },
      "execution_count": null,
      "outputs": [
        {
          "output_type": "stream",
          "name": "stdout",
          "text": [
            "Maximum Accuracy: 0.8472222222222222 at random state  307\n"
          ]
        }
      ]
    },
    {
      "cell_type": "markdown",
      "source": [
        "**Train Test Split using best Random State**"
      ],
      "metadata": {
        "id": "p-Vtw-XH77Oi"
      }
    },
    {
      "cell_type": "code",
      "source": [
        "X_train,X_test,y_train,y_test = train_test_split(X_scaler,y,test_size=0.2,random_state=307)"
      ],
      "metadata": {
        "id": "AjUWdOa58EwA"
      },
      "execution_count": null,
      "outputs": []
    },
    {
      "cell_type": "markdown",
      "source": [
        "**Logistic Regression**"
      ],
      "metadata": {
        "id": "rmgirM6W9wAB"
      }
    },
    {
      "cell_type": "code",
      "source": [
        "lr = LogisticRegression()\n",
        "\n",
        "lr.fit(X_train,y_train)\n",
        "\n",
        "pred_lr = lr.predict(X_test)    # Predicted values\n",
        "\n",
        "metric_score(lr,X_train,X_test,y_train,y_test,train=True)\n",
        "\n",
        "metric_score(lr,X_train,X_test,y_train,y_test,train=False)\n",
        "\n",
        "cr_lr = cross_val_score(lr,X_scaler,y,cv=5)\n",
        "\n",
        "print(\"Cross validation score of Logistic regression model :\",cr_lr.mean()*100)"
      ],
      "metadata": {
        "colab": {
          "base_uri": "https://localhost:8080/"
        },
        "id": "eszeyX6F9z74",
        "outputId": "ecfcb312-5d54-4aff-c6ff-943258549598"
      },
      "execution_count": null,
      "outputs": [
        {
          "output_type": "stream",
          "name": "stdout",
          "text": [
            "-----------------Train Result--------------------\n",
            "Accuracy Score : 74.65%\n",
            "-----------------Test Result--------------------\n",
            "Confusion Matrix \n",
            " [[37 28]\n",
            " [ 9 70]]\n",
            "Accuracy Score : 74.31%\n",
            "\n",
            " Test Classification Report \n",
            "                precision    recall  f1-score   support\n",
            "\n",
            "           0       0.80      0.57      0.67        65\n",
            "           1       0.71      0.89      0.79        79\n",
            "\n",
            "    accuracy                           0.74       144\n",
            "   macro avg       0.76      0.73      0.73       144\n",
            "weighted avg       0.75      0.74      0.73       144\n",
            "\n",
            "Cross validation score of Logistic regression model : 68.59557109557109\n"
          ]
        }
      ]
    },
    {
      "cell_type": "markdown",
      "source": [
        "**Tuning parameters for Logistic Regression**"
      ],
      "metadata": {
        "id": "bqkFbZeY-MVh"
      }
    },
    {
      "cell_type": "code",
      "source": [
        "lr_params = {'penalty':['l1', 'l2','elasticnet'],\n",
        "             'tol':[0.0001,0.001,0.01],\n",
        "             'solver':['newton-cg', 'lbfgs', 'liblinear'],\n",
        "             'multi_class':['auto', 'ovr', 'multinomial']}\n",
        "\n",
        "grd_lr = GridSearchCV(lr,param_grid = lr_params, n_jobs =-1)\n",
        "\n",
        "grd_lr.fit(X_train,y_train)\n",
        "\n",
        "print(\"Best parameters : \",grd_lr.best_params_)"
      ],
      "metadata": {
        "colab": {
          "base_uri": "https://localhost:8080/"
        },
        "id": "qeW2v3v5-R_5",
        "outputId": "831dac2f-807b-4a48-f8f7-8e2777516489"
      },
      "execution_count": null,
      "outputs": [
        {
          "output_type": "stream",
          "name": "stdout",
          "text": [
            "Best parameters :  {'multi_class': 'auto', 'penalty': 'l1', 'solver': 'liblinear', 'tol': 0.0001}\n"
          ]
        }
      ]
    },
    {
      "cell_type": "code",
      "source": [
        "lr = grd_lr.best_estimator_\n",
        "\n",
        "lr.fit(X_train,y_train)\n",
        "\n",
        "pred_lr = lr.predict(X_test)    # Predicted values\n",
        "\n",
        "metric_score(lr,X_train,X_test,y_train,y_test,train=True)\n",
        "\n",
        "metric_score(lr,X_train,X_test,y_train,y_test,train=False)\n",
        "\n",
        "cr_lr = cross_val_score(lr,X_scaler,y,cv=5)\n",
        "\n",
        "print(\"Cross validation score of Logistic regression model :\",cr_lr.mean()*100)"
      ],
      "metadata": {
        "colab": {
          "base_uri": "https://localhost:8080/"
        },
        "id": "w-W2_I_WADWE",
        "outputId": "7a3b9365-385a-4d95-aa4a-edc5c3b26570"
      },
      "execution_count": null,
      "outputs": [
        {
          "output_type": "stream",
          "name": "stdout",
          "text": [
            "-----------------Train Result--------------------\n",
            "Accuracy Score : 74.48%\n",
            "-----------------Test Result--------------------\n",
            "Confusion Matrix \n",
            " [[35 30]\n",
            " [ 6 73]]\n",
            "Accuracy Score : 75.00%\n",
            "\n",
            " Test Classification Report \n",
            "                precision    recall  f1-score   support\n",
            "\n",
            "           0       0.85      0.54      0.66        65\n",
            "           1       0.71      0.92      0.80        79\n",
            "\n",
            "    accuracy                           0.75       144\n",
            "   macro avg       0.78      0.73      0.73       144\n",
            "weighted avg       0.77      0.75      0.74       144\n",
            "\n",
            "Cross validation score of Logistic regression model : 69.01223776223776\n"
          ]
        }
      ]
    },
    {
      "cell_type": "markdown",
      "source": [
        "**KNN Classifier**"
      ],
      "metadata": {
        "id": "zOu4LKHiAK5s"
      }
    },
    {
      "cell_type": "code",
      "source": [
        "knn = KNeighborsClassifier()\n",
        "\n",
        "knn.fit(X_train,y_train)\n",
        "\n",
        "pred_knn = knn.predict(X_test)    # Predicted values\n",
        "\n",
        "metric_score(knn,X_train,X_test,y_train,y_test,train=True)\n",
        "\n",
        "metric_score(knn,X_train,X_test,y_train,y_test,train=False)\n",
        "\n",
        "cr_knn = cross_val_score(knn,X_scaler,y,cv=5)\n",
        "\n",
        "print(\"Cross validation score of K Neighbors Classifier model :\",cr_knn.mean()*100)"
      ],
      "metadata": {
        "colab": {
          "base_uri": "https://localhost:8080/"
        },
        "id": "gq73wvM5ARn6",
        "outputId": "640029ad-1163-4a98-f084-26ac5b022961"
      },
      "execution_count": null,
      "outputs": [
        {
          "output_type": "stream",
          "name": "stdout",
          "text": [
            "-----------------Train Result--------------------\n",
            "Accuracy Score : 81.64%\n",
            "-----------------Test Result--------------------\n",
            "Confusion Matrix \n",
            " [[48 17]\n",
            " [20 59]]\n",
            "Accuracy Score : 74.31%\n",
            "\n",
            " Test Classification Report \n",
            "                precision    recall  f1-score   support\n",
            "\n",
            "           0       0.71      0.74      0.72        65\n",
            "           1       0.78      0.75      0.76        79\n",
            "\n",
            "    accuracy                           0.74       144\n",
            "   macro avg       0.74      0.74      0.74       144\n",
            "weighted avg       0.74      0.74      0.74       144\n",
            "\n",
            "Cross validation score of K Neighbors Classifier model : 70.81293706293707\n"
          ]
        }
      ]
    },
    {
      "cell_type": "markdown",
      "source": [
        "**Tuning parameters for KNN**"
      ],
      "metadata": {
        "id": "3xxe0yk0ApUM"
      }
    },
    {
      "cell_type": "code",
      "source": [
        "knn_params = { 'n_neighbors':[4,5,6],\n",
        "        'weights':['uniform','distance'],\n",
        "    'algorithm':['auto','ball_tree','brute'],\n",
        "    'leaf_size':[25,30]}\n",
        "\n",
        "grd_knn = GridSearchCV(knn,param_grid = knn_params, n_jobs =-1)\n",
        "\n",
        "grd_knn.fit(X_train,y_train)\n",
        "\n",
        "print(\"Best parameters : \",grd_knn.best_params_)"
      ],
      "metadata": {
        "colab": {
          "base_uri": "https://localhost:8080/"
        },
        "id": "b4g6PF9PAuCm",
        "outputId": "b1ddc315-7519-459f-ba9b-19a9874ab30c"
      },
      "execution_count": null,
      "outputs": [
        {
          "output_type": "stream",
          "name": "stdout",
          "text": [
            "Best parameters :  {'algorithm': 'auto', 'leaf_size': 25, 'n_neighbors': 6, 'weights': 'distance'}\n"
          ]
        }
      ]
    },
    {
      "cell_type": "code",
      "source": [
        "knn = grd_knn.best_estimator_\n",
        "\n",
        "knn.fit(X_train,y_train)\n",
        "\n",
        "pred_knn = knn.predict(X_test)    # Predicted values\n",
        "\n",
        "metric_score(knn,X_train,X_test,y_train,y_test,train=True)\n",
        "\n",
        "metric_score(knn,X_train,X_test,y_train,y_test,train=False)\n",
        "\n",
        "cr_knn = cross_val_score(knn,X_scaler,y,cv=5)\n",
        "\n",
        "print(\"Cross validation score of K Neighbors Classifier model :\",cr_knn.mean()*100)"
      ],
      "metadata": {
        "colab": {
          "base_uri": "https://localhost:8080/"
        },
        "id": "FsOFL-H8BXe_",
        "outputId": "fdae1d7c-d9a8-4d90-91da-44230a848feb"
      },
      "execution_count": null,
      "outputs": [
        {
          "output_type": "stream",
          "name": "stdout",
          "text": [
            "-----------------Train Result--------------------\n",
            "Accuracy Score : 100.00%\n",
            "-----------------Test Result--------------------\n",
            "Confusion Matrix \n",
            " [[54 11]\n",
            " [17 62]]\n",
            "Accuracy Score : 80.56%\n",
            "\n",
            " Test Classification Report \n",
            "                precision    recall  f1-score   support\n",
            "\n",
            "           0       0.76      0.83      0.79        65\n",
            "           1       0.85      0.78      0.82        79\n",
            "\n",
            "    accuracy                           0.81       144\n",
            "   macro avg       0.80      0.81      0.80       144\n",
            "weighted avg       0.81      0.81      0.81       144\n",
            "\n",
            "Cross validation score of K Neighbors Classifier model : 75.28069153069154\n"
          ]
        }
      ]
    },
    {
      "cell_type": "markdown",
      "source": [
        "**Decision Tree Classifier**"
      ],
      "metadata": {
        "id": "RVG_KjSPCBPX"
      }
    },
    {
      "cell_type": "code",
      "source": [
        "dt = DecisionTreeClassifier()\n",
        "\n",
        "dt.fit(X_train,y_train)      # Model training\n",
        "\n",
        "pred_dt = dt.predict(X_test)    # Predicted values\n",
        "\n",
        "metric_score(dt,X_train,X_test,y_train,y_test,train=True)  # Training result\n",
        "\n",
        "metric_score(dt,X_train,X_test,y_train,y_test,train=False)  # Test result\n",
        "\n",
        "cr_dt = cross_val_score(dt,X_scaler,y,cv=5)\n",
        "\n",
        "print(\"Cross validation score of Decision Tree Classifier model :\",cr_dt.mean()*100)"
      ],
      "metadata": {
        "colab": {
          "base_uri": "https://localhost:8080/"
        },
        "id": "YCh9gfmvCIhJ",
        "outputId": "e9a7c38a-5611-426c-c795-95a5a4f4016e"
      },
      "execution_count": null,
      "outputs": [
        {
          "output_type": "stream",
          "name": "stdout",
          "text": [
            "-----------------Train Result--------------------\n",
            "Accuracy Score : 100.00%\n",
            "-----------------Test Result--------------------\n",
            "Confusion Matrix \n",
            " [[51 14]\n",
            " [17 62]]\n",
            "Accuracy Score : 78.47%\n",
            "\n",
            " Test Classification Report \n",
            "                precision    recall  f1-score   support\n",
            "\n",
            "           0       0.75      0.78      0.77        65\n",
            "           1       0.82      0.78      0.80        79\n",
            "\n",
            "    accuracy                           0.78       144\n",
            "   macro avg       0.78      0.78      0.78       144\n",
            "weighted avg       0.79      0.78      0.79       144\n",
            "\n",
            "Cross validation score of Decision Tree Classifier model : 42.88461538461538\n"
          ]
        }
      ]
    },
    {
      "cell_type": "markdown",
      "source": [
        "**Tuning parameters for Decision Tree**"
      ],
      "metadata": {
        "id": "dLQtJbroFVnB"
      }
    },
    {
      "cell_type": "code",
      "source": [
        "grid_param = {'max_depth': range(15,20),\n",
        "              'criterion': ['gini','entropy'],\n",
        "              'min_samples_leaf': range(8,14),\n",
        "              'min_samples_split': range(2,6),\n",
        "              'max_leaf_nodes': range(40,50)\n",
        "             }\n",
        "\n",
        "grid_search = GridSearchCV(estimator = dt, param_grid = grid_param,n_jobs =-1)\n",
        "\n",
        "grid_search.fit(X_train,y_train)\n",
        "\n",
        "print(\"Best parameters : \",grid_search.best_params_)"
      ],
      "metadata": {
        "colab": {
          "base_uri": "https://localhost:8080/"
        },
        "id": "FaaiI8BKFdP_",
        "outputId": "5ee0e0b1-d467-4426-d3c4-299c59f83c87"
      },
      "execution_count": null,
      "outputs": [
        {
          "output_type": "stream",
          "name": "stdout",
          "text": [
            "Best parameters :  {'criterion': 'entropy', 'max_depth': 15, 'max_leaf_nodes': 44, 'min_samples_leaf': 9, 'min_samples_split': 5}\n"
          ]
        }
      ]
    },
    {
      "cell_type": "code",
      "source": [
        "dt = grid_search.best_estimator_\n",
        "\n",
        "dt.fit(X_train,y_train)      # Model training\n",
        "\n",
        "pred_dt = dt.predict(X_test)    # Predicted values\n",
        "\n",
        "metric_score(dt,X_train,X_test,y_train,y_test,train=True)  # Training result\n",
        "\n",
        "metric_score(dt,X_train,X_test,y_train,y_test,train=False)  # Test result\n",
        "\n",
        "cr_dt = cross_val_score(dt,X_scaler,y,cv=5)\n",
        "\n",
        "print(\"Cross validation score of Decision Tree Classifier model :\",cr_dt.mean()*100)"
      ],
      "metadata": {
        "colab": {
          "base_uri": "https://localhost:8080/"
        },
        "id": "trrpjQPyHLKx",
        "outputId": "4b64ed09-5056-4165-9a68-61dc87148789"
      },
      "execution_count": null,
      "outputs": [
        {
          "output_type": "stream",
          "name": "stdout",
          "text": [
            "-----------------Train Result--------------------\n",
            "Accuracy Score : 87.59%\n",
            "-----------------Test Result--------------------\n",
            "Confusion Matrix \n",
            " [[48 17]\n",
            " [20 59]]\n",
            "Accuracy Score : 74.31%\n",
            "\n",
            " Test Classification Report \n",
            "                precision    recall  f1-score   support\n",
            "\n",
            "           0       0.71      0.74      0.72        65\n",
            "           1       0.78      0.75      0.76        79\n",
            "\n",
            "    accuracy                           0.74       144\n",
            "   macro avg       0.74      0.74      0.74       144\n",
            "weighted avg       0.74      0.74      0.74       144\n",
            "\n",
            "Cross validation score of Decision Tree Classifier model : 44.004467754467754\n"
          ]
        }
      ]
    },
    {
      "cell_type": "markdown",
      "source": [
        "**Random Forest Classifier**"
      ],
      "metadata": {
        "id": "xdjv1kj-HULE"
      }
    },
    {
      "cell_type": "code",
      "source": [
        "rf = RandomForestClassifier()\n",
        "\n",
        "rf.fit(X_train,y_train)      # Model training\n",
        "\n",
        "pred_rf = rf.predict(X_test)    # Predicted values\n",
        "\n",
        "metric_score(rf,X_train,X_test,y_train,y_test,train=True)  # Training result\n",
        "\n",
        "metric_score(rf,X_train,X_test,y_train,y_test,train=False)  # Test result\n",
        "\n",
        "cr_rf = cross_val_score(rf,X_scaler,y,cv=5)\n",
        "\n",
        "print(\"Cross validation score of Random Forest Classifier model :\",cr_rf.mean()*100)"
      ],
      "metadata": {
        "colab": {
          "base_uri": "https://localhost:8080/"
        },
        "id": "NuBKrCPBHX1w",
        "outputId": "ce99197e-e6fc-4770-b77a-7debb0b674da"
      },
      "execution_count": null,
      "outputs": [
        {
          "output_type": "stream",
          "name": "stdout",
          "text": [
            "-----------------Train Result--------------------\n",
            "Accuracy Score : 100.00%\n",
            "-----------------Test Result--------------------\n",
            "Confusion Matrix \n",
            " [[48 17]\n",
            " [10 69]]\n",
            "Accuracy Score : 81.25%\n",
            "\n",
            " Test Classification Report \n",
            "                precision    recall  f1-score   support\n",
            "\n",
            "           0       0.83      0.74      0.78        65\n",
            "           1       0.80      0.87      0.84        79\n",
            "\n",
            "    accuracy                           0.81       144\n",
            "   macro avg       0.81      0.81      0.81       144\n",
            "weighted avg       0.81      0.81      0.81       144\n",
            "\n",
            "Cross validation score of Random Forest Classifier model : 49.177350427350426\n"
          ]
        }
      ]
    },
    {
      "cell_type": "markdown",
      "source": [
        "**Tuning parameters for Random Forest**"
      ],
      "metadata": {
        "id": "3zumNcNiH_p5"
      }
    },
    {
      "cell_type": "code",
      "source": [
        "params_rf = {'criterion':['gini','entropy'],\n",
        "         'max_depth': [10,13,15],\n",
        "         'min_samples_split' :[2,3,4],\n",
        "         'min_samples_leaf' :[1,2,3]}\n",
        "\n",
        "grd_rf = GridSearchCV(rf,param_grid = params_rf,n_jobs =-1)\n",
        "\n",
        "grd_rf.fit(X_train,y_train)\n",
        "\n",
        "print(\"Best parameters : \",grd_rf.best_params_)"
      ],
      "metadata": {
        "colab": {
          "base_uri": "https://localhost:8080/"
        },
        "id": "5E_nbGviIGbp",
        "outputId": "ea8187fd-bd6d-49ca-d78e-61a3dc6a9532"
      },
      "execution_count": null,
      "outputs": [
        {
          "output_type": "stream",
          "name": "stdout",
          "text": [
            "Best parameters :  {'criterion': 'entropy', 'max_depth': 15, 'min_samples_leaf': 1, 'min_samples_split': 4}\n"
          ]
        }
      ]
    },
    {
      "cell_type": "code",
      "source": [
        "rf = grd_rf.best_estimator_\n",
        "\n",
        "rf.fit(X_train,y_train)\n",
        "\n",
        "pred_rf = rf.predict(X_test)    # Predicted values\n",
        "\n",
        "metric_score(rf,X_train,X_test,y_train,y_test,train=True)  # Training result\n",
        "\n",
        "metric_score(rf,X_train,X_test,y_train,y_test,train=False)  # Test result\n",
        "\n",
        "cr_rf = cross_val_score(rf,X_scaler,y,cv=5)\n",
        "\n",
        "print(\"Cross validation score of Random Forest Classifier model :\",cr_rf.mean()*100)"
      ],
      "metadata": {
        "colab": {
          "base_uri": "https://localhost:8080/"
        },
        "id": "5VHxqxfZJeGc",
        "outputId": "30ad45f4-4650-4327-b24a-568c4e9d63c4"
      },
      "execution_count": null,
      "outputs": [
        {
          "output_type": "stream",
          "name": "stdout",
          "text": [
            "-----------------Train Result--------------------\n",
            "Accuracy Score : 99.48%\n",
            "-----------------Test Result--------------------\n",
            "Confusion Matrix \n",
            " [[48 17]\n",
            " [10 69]]\n",
            "Accuracy Score : 81.25%\n",
            "\n",
            " Test Classification Report \n",
            "                precision    recall  f1-score   support\n",
            "\n",
            "           0       0.83      0.74      0.78        65\n",
            "           1       0.80      0.87      0.84        79\n",
            "\n",
            "    accuracy                           0.81       144\n",
            "   macro avg       0.81      0.81      0.81       144\n",
            "weighted avg       0.81      0.81      0.81       144\n",
            "\n",
            "Cross validation score of Random Forest Classifier model : 45.54390054390055\n"
          ]
        }
      ]
    },
    {
      "cell_type": "markdown",
      "source": [
        "**Support Vector Classifier**"
      ],
      "metadata": {
        "id": "MXoFVp3fSH81"
      }
    },
    {
      "cell_type": "code",
      "source": [
        "svc = SVC()\n",
        "\n",
        "svc.fit(X_train,y_train)\n",
        "\n",
        "pred_svc = svc.predict(X_test)    # Predicted values\n",
        "\n",
        "metric_score(svc,X_train,X_test,y_train,y_test,train=True)\n",
        "\n",
        "metric_score(svc,X_train,X_test,y_train,y_test,train=False)\n",
        "\n",
        "cr_svc = cross_val_score(svc,X_scaler,y,cv=5)\n",
        "\n",
        "print(\"Cross validation score of Support Vector Classifier model :\",cr_svc.mean()*100)"
      ],
      "metadata": {
        "colab": {
          "base_uri": "https://localhost:8080/"
        },
        "id": "GOckmOf8SMv3",
        "outputId": "6d24ecf7-d8d3-495f-bf21-6a040c33a433"
      },
      "execution_count": null,
      "outputs": [
        {
          "output_type": "stream",
          "name": "stdout",
          "text": [
            "-----------------Train Result--------------------\n",
            "Accuracy Score : 83.04%\n",
            "-----------------Test Result--------------------\n",
            "Confusion Matrix \n",
            " [[43 22]\n",
            " [10 69]]\n",
            "Accuracy Score : 77.78%\n",
            "\n",
            " Test Classification Report \n",
            "                precision    recall  f1-score   support\n",
            "\n",
            "           0       0.81      0.66      0.73        65\n",
            "           1       0.76      0.87      0.81        79\n",
            "\n",
            "    accuracy                           0.78       144\n",
            "   macro avg       0.78      0.77      0.77       144\n",
            "weighted avg       0.78      0.78      0.77       144\n",
            "\n",
            "Cross validation score of Support Vector Classifier model : 69.69988344988344\n"
          ]
        }
      ]
    },
    {
      "cell_type": "markdown",
      "source": [
        "**Tuning parameters for SVC**"
      ],
      "metadata": {
        "id": "O53JAGBhS3Gc"
      }
    },
    {
      "cell_type": "code",
      "source": [
        "svc_params = {'kernel':['rbf','linear','poly','sigmoid'],\n",
        "              'gamma':['scale','auto'],\n",
        "              'decision_function_shape':['ovr','ovo']\n",
        "              }\n",
        "\n",
        "grd_svc = GridSearchCV(svc,param_grid = svc_params,n_jobs =-1)\n",
        "\n",
        "grd_svc.fit(X_train,y_train)\n",
        "\n",
        "print(\"Best parameters : \",grd_svc.best_params_)"
      ],
      "metadata": {
        "colab": {
          "base_uri": "https://localhost:8080/"
        },
        "id": "9sPX04ibS7HA",
        "outputId": "11ec7fd0-0398-4123-98a8-924d9f714bef"
      },
      "execution_count": null,
      "outputs": [
        {
          "output_type": "stream",
          "name": "stdout",
          "text": [
            "Best parameters :  {'decision_function_shape': 'ovr', 'gamma': 'auto', 'kernel': 'rbf'}\n"
          ]
        }
      ]
    },
    {
      "cell_type": "code",
      "source": [
        "svc = grd_svc.best_estimator_\n",
        "\n",
        "svc.fit(X_train,y_train)\n",
        "\n",
        "pred_svc = svc.predict(X_test)    # Predicted values\n",
        "\n",
        "metric_score(svc,X_train,X_test,y_train,y_test,train=True)\n",
        "\n",
        "metric_score(svc,X_train,X_test,y_train,y_test,train=False)\n",
        "\n",
        "cr_svc = cross_val_score(svc,X_scaler,y,cv=5)\n",
        "\n",
        "print(\"Cross validation score of Support Vector Classifier model :\",cr_svc.mean()*100)"
      ],
      "metadata": {
        "colab": {
          "base_uri": "https://localhost:8080/"
        },
        "id": "MUY-tnxyTzCB",
        "outputId": "ce22feec-7b6b-4b4b-ba32-87eb50c118b0"
      },
      "execution_count": null,
      "outputs": [
        {
          "output_type": "stream",
          "name": "stdout",
          "text": [
            "-----------------Train Result--------------------\n",
            "Accuracy Score : 82.69%\n",
            "-----------------Test Result--------------------\n",
            "Confusion Matrix \n",
            " [[43 22]\n",
            " [10 69]]\n",
            "Accuracy Score : 77.78%\n",
            "\n",
            " Test Classification Report \n",
            "                precision    recall  f1-score   support\n",
            "\n",
            "           0       0.81      0.66      0.73        65\n",
            "           1       0.76      0.87      0.81        79\n",
            "\n",
            "    accuracy                           0.78       144\n",
            "   macro avg       0.78      0.77      0.77       144\n",
            "weighted avg       0.78      0.78      0.77       144\n",
            "\n",
            "Cross validation score of Support Vector Classifier model : 69.69988344988344\n"
          ]
        }
      ]
    },
    {
      "cell_type": "markdown",
      "source": [
        "**PLOTTING ROC AUC CURVE**"
      ],
      "metadata": {
        "id": "OnrGT8CVUDf4"
      }
    },
    {
      "cell_type": "code",
      "source": [
        "from sklearn.metrics import plot_roc_curve\n",
        "\n",
        "# Plotting ROC AUC curve on training data\n",
        "\n",
        "disp = plot_roc_curve(rf,X_train,y_train)\n",
        "\n",
        "plot_roc_curve(lr,X_train,y_train,ax=disp.ax_)\n",
        "\n",
        "plot_roc_curve(dt,X_train,y_train,ax=disp.ax_)\n",
        "\n",
        "plot_roc_curve(knn,X_train,y_train,ax=disp.ax_)\n",
        "\n",
        "plot_roc_curve(svc,X_train,y_train,ax=disp.ax_)\n",
        "\n",
        "plt.legend(prop={'size':10},loc='lower right')\n",
        "\n",
        "plt.show()"
      ],
      "metadata": {
        "colab": {
          "base_uri": "https://localhost:8080/",
          "height": 279
        },
        "id": "MG3o-8Z4UHtu",
        "outputId": "fdf8da00-dfd3-415e-a657-2f4545a97835"
      },
      "execution_count": null,
      "outputs": [
        {
          "output_type": "display_data",
          "data": {
            "text/plain": [
              "<Figure size 432x288 with 1 Axes>"
            ],
            "image/png": "[encoded data removed]"
          },
          "metadata": {
            "needs_background": "light"
          }
        }
      ]
    },
    {
      "cell_type": "code",
      "source": [
        "# Plotting ROC AUC curve on test data\n",
        "\n",
        "disp = plot_roc_curve(rf,X_test,y_test)\n",
        "\n",
        "plot_roc_curve(lr,X_test,y_test,ax=disp.ax_)\n",
        "\n",
        "plot_roc_curve(dt,X_test,y_test,ax=disp.ax_)\n",
        "\n",
        "plot_roc_curve(knn,X_test,y_test,ax=disp.ax_)\n",
        "\n",
        "plot_roc_curve(svc,X_test,y_test,ax=disp.ax_)\n",
        "\n",
        "plt.legend(prop={'size':10},loc='lower right')\n",
        "\n",
        "plt.show()"
      ],
      "metadata": {
        "colab": {
          "base_uri": "https://localhost:8080/",
          "height": 279
        },
        "id": "kQS1gvPoUSnk",
        "outputId": "1d257469-16cd-43b6-db3f-a6d6b87a034c"
      },
      "execution_count": null,
      "outputs": [
        {
          "output_type": "display_data",
          "data": {
            "text/plain": [
              "<Figure size 432x288 with 1 Axes>"
            ],
            "image/png": "[encoded data removed]"
          },
          "metadata": {
            "needs_background": "light"
          }
        }
      ]
    },
    {
      "cell_type": "markdown",
      "source": [
        "**As per ROC AUC Curve**, **Logistic Regression** looks to be the **best model** from the lot as there is *minimum difference* between the *training and test accuracy* and *better cross validation score*"
      ],
      "metadata": {
        "id": "MgFN2N9JV9g5"
      }
    },
    {
      "cell_type": "markdown",
      "source": [
        "**Saving the Model**"
      ],
      "metadata": {
        "id": "KznX6h07XHad"
      }
    },
    {
      "cell_type": "code",
      "source": [
        "filename = 'loan_application_clf.pkl'\n",
        "pickle.dump(lr,open(filename,'wb'))"
      ],
      "metadata": {
        "id": "KNhHDJySXK8z"
      },
      "execution_count": null,
      "outputs": []
    },
    {
      "cell_type": "markdown",
      "source": [
        "**CONCLUSION**"
      ],
      "metadata": {
        "id": "sZWADMlRXcDw"
      }
    },
    {
      "cell_type": "code",
      "source": [
        "loaded_model = pickle.load(open('loan_application_clf.pkl','rb'))\n",
        "\n",
        "pred_lr = loaded_model.predict(X_test)\n",
        "\n",
        "result = accuracy_score(y_test,pred_lr)\n",
        "\n",
        "print(result*100)"
      ],
      "metadata": {
        "colab": {
          "base_uri": "https://localhost:8080/"
        },
        "id": "fRbqOFToXgka",
        "outputId": "982e9ce5-cab3-495f-f732-06b844f6923e"
      },
      "execution_count": null,
      "outputs": [
        {
          "output_type": "stream",
          "name": "stdout",
          "text": [
            "75.0\n"
          ]
        }
      ]
    },
    {
      "cell_type": "code",
      "source": [
        "conclusion = pd.DataFrame([pred_lr,y_test],index=['Predicted','Original'])\n",
        "\n",
        "conclusion"
      ],
      "metadata": {
        "colab": {
          "base_uri": "https://localhost:8080/",
          "height": 141
        },
        "id": "HQLCg3mqWy8P",
        "outputId": "b1a0bccb-0a36-4d5d-ed76-d73c1726cd7b"
      },
      "execution_count": null,
      "outputs": [
        {
          "output_type": "execute_result",
          "data": {
            "text/plain": [
              "           0    1    2    3    4    5    6    7    8    9    ...  134  135  \\\n",
              "Predicted    1    1    1    1    1    1    1    0    1    0  ...    1    1   \n",
              "Original     1    1    1    0    0    0    0    0    0    0  ...    1    1   \n",
              "\n",
              "           136  137  138  139  140  141  142  143  \n",
              "Predicted    0    0    1    1    1    0    0    1  \n",
              "Original     0    0    1    1    0    0    0    1  \n",
              "\n",
              "[2 rows x 144 columns]"
            ],
            "text/html": [
              "\n",
              "  <div id=\"df-63c3d562-ee29-4088-8180-a2f817ff5d87\">\n",
              "    <div class=\"colab-df-container\">\n",
              "      <div>\n",
              "<style scoped>\n",
              "    .dataframe tbody tr th:only-of-type {\n",
              "        vertical-align: middle;\n",
              "    }\n",
              "\n",
              "    .dataframe tbody tr th {\n",
              "        vertical-align: top;\n",
              "    }\n",
              "\n",
              "    .dataframe thead th {\n",
              "        text-align: right;\n",
              "    }\n",
              "</style>\n",
              "<table border=\"1\" class=\"dataframe\">\n",
              "  <thead>\n",
              "    <tr style=\"text-align: right;\">\n",
              "      <th></th>\n",
              "      <th>0</th>\n",
              "      <th>1</th>\n",
              "      <th>2</th>\n",
              "      <th>3</th>\n",
              "      <th>4</th>\n",
              "      <th>5</th>\n",
              "      <th>6</th>\n",
              "      <th>7</th>\n",
              "      <th>8</th>\n",
              "      <th>9</th>\n",
              "      <th>...</th>\n",
              "      <th>134</th>\n",
              "      <th>135</th>\n",
              "      <th>136</th>\n",
              "      <th>137</th>\n",
              "      <th>138</th>\n",
              "      <th>139</th>\n",
              "      <th>140</th>\n",
              "      <th>141</th>\n",
              "      <th>142</th>\n",
              "      <th>143</th>\n",
              "    </tr>\n",
              "  </thead>\n",
              "  <tbody>\n",
              "    <tr>\n",
              "      <th>Predicted</th>\n",
              "      <td>1</td>\n",
              "      <td>1</td>\n",
              "      <td>1</td>\n",
              "      <td>1</td>\n",
              "      <td>1</td>\n",
              "      <td>1</td>\n",
              "      <td>1</td>\n",
              "      <td>0</td>\n",
              "      <td>1</td>\n",
              "      <td>0</td>\n",
              "      <td>...</td>\n",
              "      <td>1</td>\n",
              "      <td>1</td>\n",
              "      <td>0</td>\n",
              "      <td>0</td>\n",
              "      <td>1</td>\n",
              "      <td>1</td>\n",
              "      <td>1</td>\n",
              "      <td>0</td>\n",
              "      <td>0</td>\n",
              "      <td>1</td>\n",
              "    </tr>\n",
              "    <tr>\n",
              "      <th>Original</th>\n",
              "      <td>1</td>\n",
              "      <td>1</td>\n",
              "      <td>1</td>\n",
              "      <td>0</td>\n",
              "      <td>0</td>\n",
              "      <td>0</td>\n",
              "      <td>0</td>\n",
              "      <td>0</td>\n",
              "      <td>0</td>\n",
              "      <td>0</td>\n",
              "      <td>...</td>\n",
              "      <td>1</td>\n",
              "      <td>1</td>\n",
              "      <td>0</td>\n",
              "      <td>0</td>\n",
              "      <td>1</td>\n",
              "      <td>1</td>\n",
              "      <td>0</td>\n",
              "      <td>0</td>\n",
              "      <td>0</td>\n",
              "      <td>1</td>\n",
              "    </tr>\n",
              "  </tbody>\n",
              "</table>\n",
              "<p>2 rows × 144 columns</p>\n",
              "</div>\n",
              "      <button class=\"colab-df-convert\" onclick=\"convertToInteractive('df-63c3d562-ee29-4088-8180-a2f817ff5d87')\"\n",
              "              title=\"Convert this dataframe to an interactive table.\"\n",
              "              style=\"display:none;\">\n",
              "        \n",
              "  <svg xmlns=\"http://www.w3.org/2000/svg\" height=\"24px\"viewBox=\"0 0 24 24\"\n",
              "       width=\"24px\">\n",
              "    <path d=\"M0 0h24v24H0V0z\" fill=\"none\"/>\n",
              "    <path d=\"M18.56 5.44l.94 2.06.94-2.06 2.06-.94-2.06-.94-.94-2.06-.94 2.06-2.06.94zm-11 1L8.5 8.5l.94-2.06 2.06-.94-2.06-.94L8.5 2.5l-.94 2.06-2.06.94zm10 10l.94 2.06.94-2.06 2.06-.94-2.06-.94-.94-2.06-.94 2.06-2.06.94z\"/><path d=\"M17.41 7.96l-1.37-1.37c-.4-.4-.92-.59-1.43-.59-.52 0-1.04.2-1.43.59L10.3 9.45l-7.72 7.72c-.78.78-.78 2.05 0 2.83L4 21.41c.39.39.9.59 1.41.59.51 0 1.02-.2 1.41-.59l7.78-7.78 2.81-2.81c.8-.78.8-2.07 0-2.86zM5.41 20L4 18.59l7.72-7.72 1.47 1.35L5.41 20z\"/>\n",
              "  </svg>\n",
              "      </button>\n",
              "      \n",
              "  <style>\n",
              "    .colab-df-container {\n",
              "      display:flex;\n",
              "      flex-wrap:wrap;\n",
              "      gap: 12px;\n",
              "    }\n",
              "\n",
              "    .colab-df-convert {\n",
              "      background-color: #E8F0FE;\n",
              "      border: none;\n",
              "      border-radius: 50%;\n",
              "      cursor: pointer;\n",
              "      display: none;\n",
              "      fill: #1967D2;\n",
              "      height: 32px;\n",
              "      padding: 0 0 0 0;\n",
              "      width: 32px;\n",
              "    }\n",
              "\n",
              "    .colab-df-convert:hover {\n",
              "      background-color: #E2EBFA;\n",
              "      box-shadow: 0px 1px 2px rgba(60, 64, 67, 0.3), 0px 1px 3px 1px rgba(60, 64, 67, 0.15);\n",
              "      fill: #174EA6;\n",
              "    }\n",
              "\n",
              "    [theme=dark] .colab-df-convert {\n",
              "      background-color: #3B4455;\n",
              "      fill: #D2E3FC;\n",
              "    }\n",
              "\n",
              "    [theme=dark] .colab-df-convert:hover {\n",
              "      background-color: #434B5C;\n",
              "      box-shadow: 0px 1px 3px 1px rgba(0, 0, 0, 0.15);\n",
              "      filter: drop-shadow(0px 1px 2px rgba(0, 0, 0, 0.3));\n",
              "      fill: #FFFFFF;\n",
              "    }\n",
              "  </style>\n",
              "\n",
              "      <script>\n",
              "        const buttonEl =\n",
              "          document.querySelector('#df-63c3d562-ee29-4088-8180-a2f817ff5d87 button.colab-df-convert');\n",
              "        buttonEl.style.display =\n",
              "          google.colab.kernel.accessAllowed ? 'block' : 'none';\n",
              "\n",
              "        async function convertToInteractive(key) {\n",
              "          const element = document.querySelector('#df-63c3d562-ee29-4088-8180-a2f817ff5d87');\n",
              "          const dataTable =\n",
              "            await google.colab.kernel.invokeFunction('convertToInteractive',\n",
              "                                                     [key], {});\n",
              "          if (!dataTable) return;\n",
              "\n",
              "          const docLinkHtml = 'Like what you see? Visit the ' +\n",
              "            '<a target=\"_blank\" href=https://colab.research.google.com/notebooks/data_table.ipynb>data table notebook</a>'\n",
              "            + ' to learn more about interactive tables.';\n",
              "          element.innerHTML = '';\n",
              "          dataTable['output_type'] = 'display_data';\n",
              "          await google.colab.output.renderOutput(dataTable, element);\n",
              "          const docLink = document.createElement('div');\n",
              "          docLink.innerHTML = docLinkHtml;\n",
              "          element.appendChild(docLink);\n",
              "        }\n",
              "      </script>\n",
              "    </div>\n",
              "  </div>\n",
              "  "
            ]
          },
          "metadata": {},
          "execution_count": 59
        }
      ]
    }
  ]
}