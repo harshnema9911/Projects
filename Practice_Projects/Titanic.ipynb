{
 "cells": [
  {
   "cell_type": "code",
   "execution_count": 1,
   "id": "d7d47cb3",
   "metadata": {},
   "outputs": [],
   "source": [
    "import pandas as pd\n",
    "import numpy as np\n",
    "import seaborn as sns\n",
    "import matplotlib.pyplot as plt\n",
    "import warnings\n",
    "warnings.filterwarnings('ignore')\n",
    "%matplotlib inline\n",
    "from collections import Counter\n",
    "from sklearn.model_selection import train_test_split,GridSearchCV\n",
    "from sklearn.linear_model import LogisticRegression\n",
    "from sklearn.tree import DecisionTreeClassifier\n",
    "from sklearn.metrics import accuracy_score,classification_report\n",
    "from sklearn.ensemble import RandomForestClassifier\n",
    "from sklearn.neighbors import KNeighborsClassifier\n",
    "from sklearn.svm import SVC\n",
    "from sklearn.metrics import plot_roc_curve\n",
    "import pickle"
   ]
  },
  {
   "cell_type": "code",
   "execution_count": 2,
   "id": "858c3de7",
   "metadata": {},
   "outputs": [],
   "source": [
    "df = pd.read_csv('https://raw.githubusercontent.com/dsrscientist/dataset1/master/titanic_train.csv')"
   ]
  },
  {
   "cell_type": "code",
   "execution_count": 3,
   "id": "40024f77",
   "metadata": {},
   "outputs": [
    {
     "data": {
      "text/html": [
       "<div>\n",
       "<style scoped>\n",
       "    .dataframe tbody tr th:only-of-type {\n",
       "        vertical-align: middle;\n",
       "    }\n",
       "\n",
       "    .dataframe tbody tr th {\n",
       "        vertical-align: top;\n",
       "    }\n",
       "\n",
       "    .dataframe thead th {\n",
       "        text-align: right;\n",
       "    }\n",
       "</style>\n",
       "<table border=\"1\" class=\"dataframe\">\n",
       "  <thead>\n",
       "    <tr style=\"text-align: right;\">\n",
       "      <th></th>\n",
       "      <th>PassengerId</th>\n",
       "      <th>Survived</th>\n",
       "      <th>Pclass</th>\n",
       "      <th>Name</th>\n",
       "      <th>Sex</th>\n",
       "      <th>Age</th>\n",
       "      <th>SibSp</th>\n",
       "      <th>Parch</th>\n",
       "      <th>Ticket</th>\n",
       "      <th>Fare</th>\n",
       "      <th>Cabin</th>\n",
       "      <th>Embarked</th>\n",
       "    </tr>\n",
       "  </thead>\n",
       "  <tbody>\n",
       "    <tr>\n",
       "      <th>0</th>\n",
       "      <td>1</td>\n",
       "      <td>0</td>\n",
       "      <td>3</td>\n",
       "      <td>Braund, Mr. Owen Harris</td>\n",
       "      <td>male</td>\n",
       "      <td>22.0</td>\n",
       "      <td>1</td>\n",
       "      <td>0</td>\n",
       "      <td>A/5 21171</td>\n",
       "      <td>7.2500</td>\n",
       "      <td>NaN</td>\n",
       "      <td>S</td>\n",
       "    </tr>\n",
       "    <tr>\n",
       "      <th>1</th>\n",
       "      <td>2</td>\n",
       "      <td>1</td>\n",
       "      <td>1</td>\n",
       "      <td>Cumings, Mrs. John Bradley (Florence Briggs Th...</td>\n",
       "      <td>female</td>\n",
       "      <td>38.0</td>\n",
       "      <td>1</td>\n",
       "      <td>0</td>\n",
       "      <td>PC 17599</td>\n",
       "      <td>71.2833</td>\n",
       "      <td>C85</td>\n",
       "      <td>C</td>\n",
       "    </tr>\n",
       "    <tr>\n",
       "      <th>2</th>\n",
       "      <td>3</td>\n",
       "      <td>1</td>\n",
       "      <td>3</td>\n",
       "      <td>Heikkinen, Miss. Laina</td>\n",
       "      <td>female</td>\n",
       "      <td>26.0</td>\n",
       "      <td>0</td>\n",
       "      <td>0</td>\n",
       "      <td>STON/O2. 3101282</td>\n",
       "      <td>7.9250</td>\n",
       "      <td>NaN</td>\n",
       "      <td>S</td>\n",
       "    </tr>\n",
       "    <tr>\n",
       "      <th>3</th>\n",
       "      <td>4</td>\n",
       "      <td>1</td>\n",
       "      <td>1</td>\n",
       "      <td>Futrelle, Mrs. Jacques Heath (Lily May Peel)</td>\n",
       "      <td>female</td>\n",
       "      <td>35.0</td>\n",
       "      <td>1</td>\n",
       "      <td>0</td>\n",
       "      <td>113803</td>\n",
       "      <td>53.1000</td>\n",
       "      <td>C123</td>\n",
       "      <td>S</td>\n",
       "    </tr>\n",
       "    <tr>\n",
       "      <th>4</th>\n",
       "      <td>5</td>\n",
       "      <td>0</td>\n",
       "      <td>3</td>\n",
       "      <td>Allen, Mr. William Henry</td>\n",
       "      <td>male</td>\n",
       "      <td>35.0</td>\n",
       "      <td>0</td>\n",
       "      <td>0</td>\n",
       "      <td>373450</td>\n",
       "      <td>8.0500</td>\n",
       "      <td>NaN</td>\n",
       "      <td>S</td>\n",
       "    </tr>\n",
       "  </tbody>\n",
       "</table>\n",
       "</div>"
      ],
      "text/plain": [
       "   PassengerId  Survived  Pclass  \\\n",
       "0            1         0       3   \n",
       "1            2         1       1   \n",
       "2            3         1       3   \n",
       "3            4         1       1   \n",
       "4            5         0       3   \n",
       "\n",
       "                                                Name     Sex   Age  SibSp  \\\n",
       "0                            Braund, Mr. Owen Harris    male  22.0      1   \n",
       "1  Cumings, Mrs. John Bradley (Florence Briggs Th...  female  38.0      1   \n",
       "2                             Heikkinen, Miss. Laina  female  26.0      0   \n",
       "3       Futrelle, Mrs. Jacques Heath (Lily May Peel)  female  35.0      1   \n",
       "4                           Allen, Mr. William Henry    male  35.0      0   \n",
       "\n",
       "   Parch            Ticket     Fare Cabin Embarked  \n",
       "0      0         A/5 21171   7.2500   NaN        S  \n",
       "1      0          PC 17599  71.2833   C85        C  \n",
       "2      0  STON/O2. 3101282   7.9250   NaN        S  \n",
       "3      0            113803  53.1000  C123        S  \n",
       "4      0            373450   8.0500   NaN        S  "
      ]
     },
     "execution_count": 3,
     "metadata": {},
     "output_type": "execute_result"
    }
   ],
   "source": [
    "df.head()"
   ]
  },
  {
   "cell_type": "markdown",
   "id": "8f4f255d",
   "metadata": {},
   "source": [
    "**The Titanic Problem is based on the sinking of the ‘Unsinkable’ ship Titanic in early 1912. It gives us information about multiple people like their ages, sexes, sibling counts, embarkment points, and whether or not they survived the disaster. Based on these features, we have to predict if an arbitrary passenger on Titanic would survive the sinking or not.**"
   ]
  },
  {
   "cell_type": "code",
   "execution_count": 4,
   "id": "f2498a45",
   "metadata": {},
   "outputs": [
    {
     "data": {
      "text/plain": [
       "(891, 12)"
      ]
     },
     "execution_count": 4,
     "metadata": {},
     "output_type": "execute_result"
    }
   ],
   "source": [
    "df.shape"
   ]
  },
  {
   "cell_type": "code",
   "execution_count": 5,
   "id": "5d2a8c63",
   "metadata": {},
   "outputs": [
    {
     "data": {
      "text/plain": [
       "Index(['PassengerId', 'Survived', 'Pclass', 'Name', 'Sex', 'Age', 'SibSp',\n",
       "       'Parch', 'Ticket', 'Fare', 'Cabin', 'Embarked'],\n",
       "      dtype='object')"
      ]
     },
     "execution_count": 5,
     "metadata": {},
     "output_type": "execute_result"
    }
   ],
   "source": [
    "df.columns"
   ]
  },
  {
   "cell_type": "markdown",
   "id": "9e8c1e89",
   "metadata": {},
   "source": [
    "1. **PassengerId:** Id's of passengers\n",
    "\n",
    "\n",
    "2. **Survived** - Survival (0 = No; 1 = Yes)\n",
    "\n",
    "\n",
    "3. **Pclass** - Passenger Class (1 = 1st; 2 = 2nd; 3 = 3rd)\n",
    "\n",
    "\n",
    "4. **Name** - Name of the passenger\n",
    "\n",
    "\n",
    "5. **Sex** - Sex of the passenger (Male or female)\n",
    "\n",
    "\n",
    "6. **Age** - Age of the passenger\n",
    "\n",
    "\n",
    "7. **SibSp** - Number of Siblings/Spouses Aboard\n",
    "\n",
    "\n",
    "8. **Parch** - Number of Parents/Children Aboard\n",
    "\n",
    "\n",
    "9. **Ticket** - Ticket Number\n",
    "\n",
    "\n",
    "10. **Fare** - Passenger Fare\n",
    "\n",
    "\n",
    "11. **Cabin** - Cabin number of the passengers\n",
    "\n",
    "\n",
    "12. **Embarked** - Port of Embarkation (C = Cherbourg; Q = Queenstown; S = Southampton)"
   ]
  },
  {
   "cell_type": "code",
   "execution_count": 6,
   "id": "ae062a22",
   "metadata": {},
   "outputs": [
    {
     "data": {
      "text/plain": [
       "PassengerId      int64\n",
       "Survived         int64\n",
       "Pclass           int64\n",
       "Name            object\n",
       "Sex             object\n",
       "Age            float64\n",
       "SibSp            int64\n",
       "Parch            int64\n",
       "Ticket          object\n",
       "Fare           float64\n",
       "Cabin           object\n",
       "Embarked        object\n",
       "dtype: object"
      ]
     },
     "execution_count": 6,
     "metadata": {},
     "output_type": "execute_result"
    }
   ],
   "source": [
    "df.dtypes"
   ]
  },
  {
   "cell_type": "code",
   "execution_count": 6,
   "id": "7acfd71b",
   "metadata": {},
   "outputs": [
    {
     "data": {
      "text/plain": [
       "PassengerId      0\n",
       "Survived         0\n",
       "Pclass           0\n",
       "Name             0\n",
       "Sex              0\n",
       "Age            177\n",
       "SibSp            0\n",
       "Parch            0\n",
       "Ticket           0\n",
       "Fare             0\n",
       "Cabin          687\n",
       "Embarked         2\n",
       "dtype: int64"
      ]
     },
     "execution_count": 6,
     "metadata": {},
     "output_type": "execute_result"
    }
   ],
   "source": [
    "# Checking the missing values in the dataset\n",
    "\n",
    "df.isnull().sum()"
   ]
  },
  {
   "cell_type": "markdown",
   "id": "4a9f15e8",
   "metadata": {},
   "source": [
    "* **Cabin** has 687 null values.Out of 891 rows, 687 has missing values. It will be good to drop the **Cabin** column as cabin number would not help in predicting the arbitrary passenger on Titanic would survive the sinking or not.\n",
    "\n",
    "\n",
    "* **Age** has 177 missing values. It will be good to fill the missing values with most frequent (Mode) ages in the column.\n",
    "\n",
    "\n",
    "* **Embarked** has 2 missing values and need to filled with mode."
   ]
  },
  {
   "cell_type": "code",
   "execution_count": 7,
   "id": "59ed307e",
   "metadata": {},
   "outputs": [],
   "source": [
    "df.drop('Cabin',axis=1,inplace=True)"
   ]
  },
  {
   "cell_type": "code",
   "execution_count": 8,
   "id": "3c5abf88",
   "metadata": {},
   "outputs": [
    {
     "data": {
      "text/plain": [
       "PassengerId      0\n",
       "Survived         0\n",
       "Pclass           0\n",
       "Name             0\n",
       "Sex              0\n",
       "Age            177\n",
       "SibSp            0\n",
       "Parch            0\n",
       "Ticket           0\n",
       "Fare             0\n",
       "Embarked         2\n",
       "dtype: int64"
      ]
     },
     "execution_count": 8,
     "metadata": {},
     "output_type": "execute_result"
    }
   ],
   "source": [
    "df.isnull().sum()"
   ]
  },
  {
   "cell_type": "code",
   "execution_count": 9,
   "id": "4b08c3d6",
   "metadata": {},
   "outputs": [],
   "source": [
    "df['Age'] = df['Age'].fillna(df['Age'].mode()[0])"
   ]
  },
  {
   "cell_type": "code",
   "execution_count": 10,
   "id": "39f03e6b",
   "metadata": {},
   "outputs": [],
   "source": [
    "df['Embarked'] = df['Embarked'].fillna(df['Embarked'].mode()[0])"
   ]
  },
  {
   "cell_type": "code",
   "execution_count": 11,
   "id": "8a63370e",
   "metadata": {},
   "outputs": [
    {
     "data": {
      "text/plain": [
       "PassengerId    0\n",
       "Survived       0\n",
       "Pclass         0\n",
       "Name           0\n",
       "Sex            0\n",
       "Age            0\n",
       "SibSp          0\n",
       "Parch          0\n",
       "Ticket         0\n",
       "Fare           0\n",
       "Embarked       0\n",
       "dtype: int64"
      ]
     },
     "execution_count": 11,
     "metadata": {},
     "output_type": "execute_result"
    }
   ],
   "source": [
    "df.isnull().sum()"
   ]
  },
  {
   "cell_type": "markdown",
   "id": "95c2078e",
   "metadata": {},
   "source": [
    "**No missing values now in the dataset.Looks good to proceed**"
   ]
  },
  {
   "cell_type": "code",
   "execution_count": 13,
   "id": "3b09debd",
   "metadata": {},
   "outputs": [
    {
     "data": {
      "text/html": [
       "<div>\n",
       "<style scoped>\n",
       "    .dataframe tbody tr th:only-of-type {\n",
       "        vertical-align: middle;\n",
       "    }\n",
       "\n",
       "    .dataframe tbody tr th {\n",
       "        vertical-align: top;\n",
       "    }\n",
       "\n",
       "    .dataframe thead th {\n",
       "        text-align: right;\n",
       "    }\n",
       "</style>\n",
       "<table border=\"1\" class=\"dataframe\">\n",
       "  <thead>\n",
       "    <tr style=\"text-align: right;\">\n",
       "      <th></th>\n",
       "      <th>PassengerId</th>\n",
       "      <th>Survived</th>\n",
       "      <th>Pclass</th>\n",
       "      <th>Name</th>\n",
       "      <th>Sex</th>\n",
       "      <th>Age</th>\n",
       "      <th>SibSp</th>\n",
       "      <th>Parch</th>\n",
       "      <th>Ticket</th>\n",
       "      <th>Fare</th>\n",
       "      <th>Embarked</th>\n",
       "    </tr>\n",
       "  </thead>\n",
       "  <tbody>\n",
       "    <tr>\n",
       "      <th>0</th>\n",
       "      <td>1</td>\n",
       "      <td>0</td>\n",
       "      <td>3</td>\n",
       "      <td>Braund, Mr. Owen Harris</td>\n",
       "      <td>male</td>\n",
       "      <td>22.0</td>\n",
       "      <td>1</td>\n",
       "      <td>0</td>\n",
       "      <td>A/5 21171</td>\n",
       "      <td>7.2500</td>\n",
       "      <td>S</td>\n",
       "    </tr>\n",
       "    <tr>\n",
       "      <th>1</th>\n",
       "      <td>2</td>\n",
       "      <td>1</td>\n",
       "      <td>1</td>\n",
       "      <td>Cumings, Mrs. John Bradley (Florence Briggs Th...</td>\n",
       "      <td>female</td>\n",
       "      <td>38.0</td>\n",
       "      <td>1</td>\n",
       "      <td>0</td>\n",
       "      <td>PC 17599</td>\n",
       "      <td>71.2833</td>\n",
       "      <td>C</td>\n",
       "    </tr>\n",
       "    <tr>\n",
       "      <th>2</th>\n",
       "      <td>3</td>\n",
       "      <td>1</td>\n",
       "      <td>3</td>\n",
       "      <td>Heikkinen, Miss. Laina</td>\n",
       "      <td>female</td>\n",
       "      <td>26.0</td>\n",
       "      <td>0</td>\n",
       "      <td>0</td>\n",
       "      <td>STON/O2. 3101282</td>\n",
       "      <td>7.9250</td>\n",
       "      <td>S</td>\n",
       "    </tr>\n",
       "    <tr>\n",
       "      <th>3</th>\n",
       "      <td>4</td>\n",
       "      <td>1</td>\n",
       "      <td>1</td>\n",
       "      <td>Futrelle, Mrs. Jacques Heath (Lily May Peel)</td>\n",
       "      <td>female</td>\n",
       "      <td>35.0</td>\n",
       "      <td>1</td>\n",
       "      <td>0</td>\n",
       "      <td>113803</td>\n",
       "      <td>53.1000</td>\n",
       "      <td>S</td>\n",
       "    </tr>\n",
       "    <tr>\n",
       "      <th>4</th>\n",
       "      <td>5</td>\n",
       "      <td>0</td>\n",
       "      <td>3</td>\n",
       "      <td>Allen, Mr. William Henry</td>\n",
       "      <td>male</td>\n",
       "      <td>35.0</td>\n",
       "      <td>0</td>\n",
       "      <td>0</td>\n",
       "      <td>373450</td>\n",
       "      <td>8.0500</td>\n",
       "      <td>S</td>\n",
       "    </tr>\n",
       "  </tbody>\n",
       "</table>\n",
       "</div>"
      ],
      "text/plain": [
       "   PassengerId  Survived  Pclass  \\\n",
       "0            1         0       3   \n",
       "1            2         1       1   \n",
       "2            3         1       3   \n",
       "3            4         1       1   \n",
       "4            5         0       3   \n",
       "\n",
       "                                                Name     Sex   Age  SibSp  \\\n",
       "0                            Braund, Mr. Owen Harris    male  22.0      1   \n",
       "1  Cumings, Mrs. John Bradley (Florence Briggs Th...  female  38.0      1   \n",
       "2                             Heikkinen, Miss. Laina  female  26.0      0   \n",
       "3       Futrelle, Mrs. Jacques Heath (Lily May Peel)  female  35.0      1   \n",
       "4                           Allen, Mr. William Henry    male  35.0      0   \n",
       "\n",
       "   Parch            Ticket     Fare Embarked  \n",
       "0      0         A/5 21171   7.2500        S  \n",
       "1      0          PC 17599  71.2833        C  \n",
       "2      0  STON/O2. 3101282   7.9250        S  \n",
       "3      0            113803  53.1000        S  \n",
       "4      0            373450   8.0500        S  "
      ]
     },
     "execution_count": 13,
     "metadata": {},
     "output_type": "execute_result"
    }
   ],
   "source": [
    "df.head()"
   ]
  },
  {
   "cell_type": "markdown",
   "id": "84ecb4cd",
   "metadata": {},
   "source": [
    "# Data Analysis"
   ]
  },
  {
   "cell_type": "markdown",
   "id": "42f458d0",
   "metadata": {},
   "source": [
    "* a) **Categorical columns Analysis**"
   ]
  },
  {
   "cell_type": "code",
   "execution_count": 14,
   "id": "b47c382e",
   "metadata": {},
   "outputs": [
    {
     "data": {
      "text/plain": [
       "Counter({'male': 577, 'female': 314})"
      ]
     },
     "execution_count": 14,
     "metadata": {},
     "output_type": "execute_result"
    },
    {
     "data": {
      "image/png": "[encoded data removed]",
      "text/plain": [
       "<Figure size 432x288 with 1 Axes>"
      ]
     },
     "metadata": {
      "needs_background": "light"
     },
     "output_type": "display_data"
    }
   ],
   "source": [
    "sns.countplot(df['Sex'])\n",
    "Counter(df['Sex'])"
   ]
  },
  {
   "cell_type": "markdown",
   "id": "ff473b7e",
   "metadata": {},
   "source": [
    "**Number of Male passengers are more than Female passengers**"
   ]
  },
  {
   "cell_type": "code",
   "execution_count": 15,
   "id": "55f6fbdd",
   "metadata": {},
   "outputs": [
    {
     "data": {
      "text/plain": [
       "Counter({0: 549, 1: 342})"
      ]
     },
     "execution_count": 15,
     "metadata": {},
     "output_type": "execute_result"
    },
    {
     "data": {
      "image/png": "[encoded data removed]",
      "text/plain": [
       "<Figure size 432x288 with 1 Axes>"
      ]
     },
     "metadata": {
      "needs_background": "light"
     },
     "output_type": "display_data"
    }
   ],
   "source": [
    "sns.countplot(df['Survived'])\n",
    "Counter(df['Survived'])"
   ]
  },
  {
   "cell_type": "markdown",
   "id": "1c47c3c5",
   "metadata": {},
   "source": [
    "**Out of 891 passengers, only 342 passengers had survived and the remaining 549 passengers were decleared dead.**"
   ]
  },
  {
   "cell_type": "code",
   "execution_count": 16,
   "id": "8b8f336c",
   "metadata": {},
   "outputs": [
    {
     "data": {
      "text/plain": [
       "<AxesSubplot:xlabel='Sex', ylabel='count'>"
      ]
     },
     "execution_count": 16,
     "metadata": {},
     "output_type": "execute_result"
    },
    {
     "data": {
      "image/png": "[encoded data removed]",
      "text/plain": [
       "<Figure size 432x288 with 1 Axes>"
      ]
     },
     "metadata": {
      "needs_background": "light"
     },
     "output_type": "display_data"
    }
   ],
   "source": [
    "sns.countplot(df['Sex'],hue=df['Survived'])"
   ]
  },
  {
   "cell_type": "markdown",
   "id": "8e7556cd",
   "metadata": {},
   "source": [
    "**We can observe that more number of females survived when compared to male but we have seen previously that more number of males passengers were travelling.It indicates that female passengers were given priority during the rescue operations.**"
   ]
  },
  {
   "cell_type": "code",
   "execution_count": 17,
   "id": "78ea511e",
   "metadata": {},
   "outputs": [
    {
     "data": {
      "text/plain": [
       "Counter({3: 491, 1: 216, 2: 184})"
      ]
     },
     "execution_count": 17,
     "metadata": {},
     "output_type": "execute_result"
    },
    {
     "data": {
      "image/png": "[encoded data removed]",
      "text/plain": [
       "<Figure size 432x288 with 1 Axes>"
      ]
     },
     "metadata": {
      "needs_background": "light"
     },
     "output_type": "display_data"
    }
   ],
   "source": [
    "sns.countplot(df['Pclass'])\n",
    "Counter(df['Pclass'])"
   ]
  },
  {
   "cell_type": "markdown",
   "id": "781e3f0a",
   "metadata": {},
   "source": [
    "**More passengers were travelling in the IIIrd class compartments i.e 491**"
   ]
  },
  {
   "cell_type": "code",
   "execution_count": 18,
   "id": "cc9e8438",
   "metadata": {},
   "outputs": [
    {
     "data": {
      "text/plain": [
       "Counter({1: 209, 0: 608, 3: 16, 4: 18, 2: 28, 5: 5, 8: 7})"
      ]
     },
     "execution_count": 18,
     "metadata": {},
     "output_type": "execute_result"
    },
    {
     "data": {
      "image/png": "[encoded data removed]",
      "text/plain": [
       "<Figure size 432x288 with 1 Axes>"
      ]
     },
     "metadata": {
      "needs_background": "light"
     },
     "output_type": "display_data"
    }
   ],
   "source": [
    "sns.countplot(df['SibSp'])\n",
    "Counter(df['SibSp'])"
   ]
  },
  {
   "cell_type": "markdown",
   "id": "cfb8770b",
   "metadata": {},
   "source": [
    "**We can observe that out of 891 passengers 608 have no siblings/spouses**"
   ]
  },
  {
   "cell_type": "code",
   "execution_count": 19,
   "id": "1a91d36c",
   "metadata": {},
   "outputs": [
    {
     "data": {
      "text/plain": [
       "Counter({'S': 646, 'C': 168, 'Q': 77})"
      ]
     },
     "execution_count": 19,
     "metadata": {},
     "output_type": "execute_result"
    },
    {
     "data": {
      "image/png": "[encoded data removed]",
      "text/plain": [
       "<Figure size 432x288 with 1 Axes>"
      ]
     },
     "metadata": {
      "needs_background": "light"
     },
     "output_type": "display_data"
    }
   ],
   "source": [
    "sns.countplot(df['Embarked'])\n",
    "Counter(df['Embarked'])"
   ]
  },
  {
   "cell_type": "markdown",
   "id": "65f83cf0",
   "metadata": {},
   "source": [
    "**We observe that Port S = Southampton is the major embarkment port for the passengers**"
   ]
  },
  {
   "cell_type": "code",
   "execution_count": 20,
   "id": "59230225",
   "metadata": {},
   "outputs": [
    {
     "data": {
      "text/plain": [
       "Counter({0: 678, 1: 118, 2: 80, 5: 5, 3: 5, 4: 4, 6: 1})"
      ]
     },
     "execution_count": 20,
     "metadata": {},
     "output_type": "execute_result"
    },
    {
     "data": {
      "image/png": "[encoded data removed]",
      "text/plain": [
       "<Figure size 432x288 with 1 Axes>"
      ]
     },
     "metadata": {
      "needs_background": "light"
     },
     "output_type": "display_data"
    }
   ],
   "source": [
    "sns.countplot(df['Parch'])\n",
    "Counter(df['Parch'])"
   ]
  },
  {
   "cell_type": "markdown",
   "id": "ebf4f1de",
   "metadata": {},
   "source": [
    "**Out of 891 passengers, 678 passengers have no parents abroad**"
   ]
  },
  {
   "cell_type": "markdown",
   "id": "e049d798",
   "metadata": {},
   "source": [
    "* b) **Continuous data aanalysis**"
   ]
  },
  {
   "cell_type": "code",
   "execution_count": 21,
   "id": "bc110219",
   "metadata": {},
   "outputs": [
    {
     "data": {
      "text/plain": [
       "<AxesSubplot:xlabel='Age', ylabel='Density'>"
      ]
     },
     "execution_count": 21,
     "metadata": {},
     "output_type": "execute_result"
    },
    {
     "data": {
      "image/png": "[encoded data removed]",
      "text/plain": [
       "<Figure size 432x288 with 1 Axes>"
      ]
     },
     "metadata": {
      "needs_background": "light"
     },
     "output_type": "display_data"
    }
   ],
   "source": [
    "sns.distplot(df['Age'])"
   ]
  },
  {
   "cell_type": "markdown",
   "id": "b4395bb5",
   "metadata": {},
   "source": [
    "**Age data looks normally distributed**"
   ]
  },
  {
   "cell_type": "code",
   "execution_count": 12,
   "id": "fb4fd27b",
   "metadata": {},
   "outputs": [
    {
     "data": {
      "text/plain": [
       "<AxesSubplot:xlabel='Fare', ylabel='Density'>"
      ]
     },
     "execution_count": 12,
     "metadata": {},
     "output_type": "execute_result"
    },
    {
     "data": {
      "image/png": "[encoded data removed]",
      "text/plain": [
       "<Figure size 432x288 with 1 Axes>"
      ]
     },
     "metadata": {
      "needs_background": "light"
     },
     "output_type": "display_data"
    }
   ],
   "source": [
    "sns.distplot(df['Fare'])"
   ]
  },
  {
   "cell_type": "markdown",
   "id": "e9e391af",
   "metadata": {},
   "source": [
    "**We observe that the 'Fare' data is positively skewed. Need to reduce skewness to make data normally distributed**"
   ]
  },
  {
   "cell_type": "code",
   "execution_count": 13,
   "id": "5736b3a2",
   "metadata": {},
   "outputs": [
    {
     "data": {
      "image/png": "[encoded data removed]",
      "text/plain": [
       "<Figure size 432x288 with 1 Axes>"
      ]
     },
     "metadata": {
      "needs_background": "light"
     },
     "output_type": "display_data"
    }
   ],
   "source": [
    "class_fare = df.pivot_table(index='Pclass', values='Fare')\n",
    "class_fare.plot(kind='bar')\n",
    "plt.xlabel('Pclass')\n",
    "plt.ylabel('Avg Fare')\n",
    "plt.xticks(rotation=0)\n",
    "plt.show()"
   ]
  },
  {
   "cell_type": "code",
   "execution_count": 14,
   "id": "e74e8ce5",
   "metadata": {},
   "outputs": [
    {
     "data": {
      "image/png": "[encoded data removed]",
      "text/plain": [
       "<Figure size 432x288 with 1 Axes>"
      ]
     },
     "metadata": {
      "needs_background": "light"
     },
     "output_type": "display_data"
    }
   ],
   "source": [
    "class_fare = df.pivot_table(index='Pclass', values='Fare',aggfunc=np.sum)\n",
    "class_fare.plot(kind='bar')\n",
    "plt.xlabel('Pclass')\n",
    "plt.ylabel('Total Fare')\n",
    "plt.xticks(rotation=0)\n",
    "plt.show()"
   ]
  },
  {
   "cell_type": "markdown",
   "id": "695bafd6",
   "metadata": {},
   "source": [
    "**Total fare for first class tickets are much higher than the 2nd and 3rd class tickets fare and hence the data distribution of 'Fare' is much higher for first class and positively skewed**"
   ]
  },
  {
   "cell_type": "markdown",
   "id": "6b8a0325",
   "metadata": {},
   "source": [
    "# Log transformation for uniform data distribution of 'Fare'"
   ]
  },
  {
   "cell_type": "code",
   "execution_count": 15,
   "id": "6439a0c8",
   "metadata": {},
   "outputs": [],
   "source": [
    "df['Fare'] = np.log(df['Fare']+1)"
   ]
  },
  {
   "cell_type": "code",
   "execution_count": 16,
   "id": "729415c8",
   "metadata": {},
   "outputs": [
    {
     "data": {
      "text/plain": [
       "<AxesSubplot:xlabel='Fare', ylabel='Density'>"
      ]
     },
     "execution_count": 16,
     "metadata": {},
     "output_type": "execute_result"
    },
    {
     "data": {
      "image/png": "[encoded data removed]",
      "text/plain": [
       "<Figure size 432x288 with 1 Axes>"
      ]
     },
     "metadata": {
      "needs_background": "light"
     },
     "output_type": "display_data"
    }
   ],
   "source": [
    "sns.distplot(df['Fare'])"
   ]
  },
  {
   "cell_type": "markdown",
   "id": "7f5e95f9",
   "metadata": {},
   "source": [
    "**So Data is uniformly distributed now**"
   ]
  },
  {
   "cell_type": "markdown",
   "id": "5c5a727b",
   "metadata": {},
   "source": [
    "# Correlation Matrix"
   ]
  },
  {
   "cell_type": "code",
   "execution_count": 28,
   "id": "a1def229",
   "metadata": {},
   "outputs": [
    {
     "data": {
      "text/plain": [
       "<AxesSubplot:>"
      ]
     },
     "execution_count": 28,
     "metadata": {},
     "output_type": "execute_result"
    },
    {
     "data": {
      "image/png": "[encoded data removed]",
      "text/plain": [
       "<Figure size 1080x648 with 2 Axes>"
      ]
     },
     "metadata": {
      "needs_background": "light"
     },
     "output_type": "display_data"
    }
   ],
   "source": [
    "corr = df.corr()\n",
    "plt.figure(figsize=(15,9))\n",
    "sns.heatmap(corr,annot=True,cmap='coolwarm')\n"
   ]
  },
  {
   "cell_type": "markdown",
   "id": "c5c3f328",
   "metadata": {},
   "source": [
    "**Looks good to go ahead**"
   ]
  },
  {
   "cell_type": "code",
   "execution_count": 29,
   "id": "ab4fc0be",
   "metadata": {},
   "outputs": [
    {
     "data": {
      "text/html": [
       "<div>\n",
       "<style scoped>\n",
       "    .dataframe tbody tr th:only-of-type {\n",
       "        vertical-align: middle;\n",
       "    }\n",
       "\n",
       "    .dataframe tbody tr th {\n",
       "        vertical-align: top;\n",
       "    }\n",
       "\n",
       "    .dataframe thead th {\n",
       "        text-align: right;\n",
       "    }\n",
       "</style>\n",
       "<table border=\"1\" class=\"dataframe\">\n",
       "  <thead>\n",
       "    <tr style=\"text-align: right;\">\n",
       "      <th></th>\n",
       "      <th>PassengerId</th>\n",
       "      <th>Survived</th>\n",
       "      <th>Pclass</th>\n",
       "      <th>Name</th>\n",
       "      <th>Sex</th>\n",
       "      <th>Age</th>\n",
       "      <th>SibSp</th>\n",
       "      <th>Parch</th>\n",
       "      <th>Ticket</th>\n",
       "      <th>Fare</th>\n",
       "      <th>Embarked</th>\n",
       "    </tr>\n",
       "  </thead>\n",
       "  <tbody>\n",
       "    <tr>\n",
       "      <th>0</th>\n",
       "      <td>1</td>\n",
       "      <td>0</td>\n",
       "      <td>3</td>\n",
       "      <td>Braund, Mr. Owen Harris</td>\n",
       "      <td>male</td>\n",
       "      <td>22.0</td>\n",
       "      <td>1</td>\n",
       "      <td>0</td>\n",
       "      <td>A/5 21171</td>\n",
       "      <td>2.110213</td>\n",
       "      <td>S</td>\n",
       "    </tr>\n",
       "    <tr>\n",
       "      <th>1</th>\n",
       "      <td>2</td>\n",
       "      <td>1</td>\n",
       "      <td>1</td>\n",
       "      <td>Cumings, Mrs. John Bradley (Florence Briggs Th...</td>\n",
       "      <td>female</td>\n",
       "      <td>38.0</td>\n",
       "      <td>1</td>\n",
       "      <td>0</td>\n",
       "      <td>PC 17599</td>\n",
       "      <td>4.280593</td>\n",
       "      <td>C</td>\n",
       "    </tr>\n",
       "    <tr>\n",
       "      <th>2</th>\n",
       "      <td>3</td>\n",
       "      <td>1</td>\n",
       "      <td>3</td>\n",
       "      <td>Heikkinen, Miss. Laina</td>\n",
       "      <td>female</td>\n",
       "      <td>26.0</td>\n",
       "      <td>0</td>\n",
       "      <td>0</td>\n",
       "      <td>STON/O2. 3101282</td>\n",
       "      <td>2.188856</td>\n",
       "      <td>S</td>\n",
       "    </tr>\n",
       "    <tr>\n",
       "      <th>3</th>\n",
       "      <td>4</td>\n",
       "      <td>1</td>\n",
       "      <td>1</td>\n",
       "      <td>Futrelle, Mrs. Jacques Heath (Lily May Peel)</td>\n",
       "      <td>female</td>\n",
       "      <td>35.0</td>\n",
       "      <td>1</td>\n",
       "      <td>0</td>\n",
       "      <td>113803</td>\n",
       "      <td>3.990834</td>\n",
       "      <td>S</td>\n",
       "    </tr>\n",
       "    <tr>\n",
       "      <th>4</th>\n",
       "      <td>5</td>\n",
       "      <td>0</td>\n",
       "      <td>3</td>\n",
       "      <td>Allen, Mr. William Henry</td>\n",
       "      <td>male</td>\n",
       "      <td>35.0</td>\n",
       "      <td>0</td>\n",
       "      <td>0</td>\n",
       "      <td>373450</td>\n",
       "      <td>2.202765</td>\n",
       "      <td>S</td>\n",
       "    </tr>\n",
       "  </tbody>\n",
       "</table>\n",
       "</div>"
      ],
      "text/plain": [
       "   PassengerId  Survived  Pclass  \\\n",
       "0            1         0       3   \n",
       "1            2         1       1   \n",
       "2            3         1       3   \n",
       "3            4         1       1   \n",
       "4            5         0       3   \n",
       "\n",
       "                                                Name     Sex   Age  SibSp  \\\n",
       "0                            Braund, Mr. Owen Harris    male  22.0      1   \n",
       "1  Cumings, Mrs. John Bradley (Florence Briggs Th...  female  38.0      1   \n",
       "2                             Heikkinen, Miss. Laina  female  26.0      0   \n",
       "3       Futrelle, Mrs. Jacques Heath (Lily May Peel)  female  35.0      1   \n",
       "4                           Allen, Mr. William Henry    male  35.0      0   \n",
       "\n",
       "   Parch            Ticket      Fare Embarked  \n",
       "0      0         A/5 21171  2.110213        S  \n",
       "1      0          PC 17599  4.280593        C  \n",
       "2      0  STON/O2. 3101282  2.188856        S  \n",
       "3      0            113803  3.990834        S  \n",
       "4      0            373450  2.202765        S  "
      ]
     },
     "execution_count": 29,
     "metadata": {},
     "output_type": "execute_result"
    }
   ],
   "source": [
    "df.head()"
   ]
  },
  {
   "cell_type": "markdown",
   "id": "fbd096fb",
   "metadata": {},
   "source": [
    "* **\"PassengerId\"** column is not an important attribute to predict our target hence we will drop this column\n",
    "\n",
    "\n",
    "* **\"Name\" and \"Ticket\"** columns also needs to be dropped as they are just an identity and will not serve the purpose for our prediction\n",
    "\n",
    "\n",
    "* **\"Sex\" and \"Embarked\"** - Encoding required for converting categories into number"
   ]
  },
  {
   "cell_type": "code",
   "execution_count": 17,
   "id": "1e959bec",
   "metadata": {},
   "outputs": [],
   "source": [
    "df.drop(['PassengerId','Name','Ticket'],axis=1,inplace=True)"
   ]
  },
  {
   "cell_type": "markdown",
   "id": "554d1d23",
   "metadata": {},
   "source": [
    "# Encoding of Categorical columns using Ordinal Encoder"
   ]
  },
  {
   "cell_type": "code",
   "execution_count": 18,
   "id": "a5db4a8d",
   "metadata": {},
   "outputs": [],
   "source": [
    "from sklearn.preprocessing import OrdinalEncoder"
   ]
  },
  {
   "cell_type": "code",
   "execution_count": 19,
   "id": "4ca0dee1",
   "metadata": {},
   "outputs": [],
   "source": [
    "oen = OrdinalEncoder()"
   ]
  },
  {
   "cell_type": "code",
   "execution_count": 20,
   "id": "7386fd9d",
   "metadata": {},
   "outputs": [],
   "source": [
    "for i in df.columns:\n",
    "    if df[i].dtypes == \"object\":\n",
    "        df[i] = oen.fit_transform(df[i].values.reshape(-1,1))"
   ]
  },
  {
   "cell_type": "code",
   "execution_count": 21,
   "id": "2bc2493e",
   "metadata": {},
   "outputs": [
    {
     "data": {
      "text/html": [
       "<div>\n",
       "<style scoped>\n",
       "    .dataframe tbody tr th:only-of-type {\n",
       "        vertical-align: middle;\n",
       "    }\n",
       "\n",
       "    .dataframe tbody tr th {\n",
       "        vertical-align: top;\n",
       "    }\n",
       "\n",
       "    .dataframe thead th {\n",
       "        text-align: right;\n",
       "    }\n",
       "</style>\n",
       "<table border=\"1\" class=\"dataframe\">\n",
       "  <thead>\n",
       "    <tr style=\"text-align: right;\">\n",
       "      <th></th>\n",
       "      <th>Survived</th>\n",
       "      <th>Pclass</th>\n",
       "      <th>Sex</th>\n",
       "      <th>Age</th>\n",
       "      <th>SibSp</th>\n",
       "      <th>Parch</th>\n",
       "      <th>Fare</th>\n",
       "      <th>Embarked</th>\n",
       "    </tr>\n",
       "  </thead>\n",
       "  <tbody>\n",
       "    <tr>\n",
       "      <th>0</th>\n",
       "      <td>0</td>\n",
       "      <td>3</td>\n",
       "      <td>1.0</td>\n",
       "      <td>22.0</td>\n",
       "      <td>1</td>\n",
       "      <td>0</td>\n",
       "      <td>2.110213</td>\n",
       "      <td>2.0</td>\n",
       "    </tr>\n",
       "    <tr>\n",
       "      <th>1</th>\n",
       "      <td>1</td>\n",
       "      <td>1</td>\n",
       "      <td>0.0</td>\n",
       "      <td>38.0</td>\n",
       "      <td>1</td>\n",
       "      <td>0</td>\n",
       "      <td>4.280593</td>\n",
       "      <td>0.0</td>\n",
       "    </tr>\n",
       "    <tr>\n",
       "      <th>2</th>\n",
       "      <td>1</td>\n",
       "      <td>3</td>\n",
       "      <td>0.0</td>\n",
       "      <td>26.0</td>\n",
       "      <td>0</td>\n",
       "      <td>0</td>\n",
       "      <td>2.188856</td>\n",
       "      <td>2.0</td>\n",
       "    </tr>\n",
       "    <tr>\n",
       "      <th>3</th>\n",
       "      <td>1</td>\n",
       "      <td>1</td>\n",
       "      <td>0.0</td>\n",
       "      <td>35.0</td>\n",
       "      <td>1</td>\n",
       "      <td>0</td>\n",
       "      <td>3.990834</td>\n",
       "      <td>2.0</td>\n",
       "    </tr>\n",
       "    <tr>\n",
       "      <th>4</th>\n",
       "      <td>0</td>\n",
       "      <td>3</td>\n",
       "      <td>1.0</td>\n",
       "      <td>35.0</td>\n",
       "      <td>0</td>\n",
       "      <td>0</td>\n",
       "      <td>2.202765</td>\n",
       "      <td>2.0</td>\n",
       "    </tr>\n",
       "  </tbody>\n",
       "</table>\n",
       "</div>"
      ],
      "text/plain": [
       "   Survived  Pclass  Sex   Age  SibSp  Parch      Fare  Embarked\n",
       "0         0       3  1.0  22.0      1      0  2.110213       2.0\n",
       "1         1       1  0.0  38.0      1      0  4.280593       0.0\n",
       "2         1       3  0.0  26.0      0      0  2.188856       2.0\n",
       "3         1       1  0.0  35.0      1      0  3.990834       2.0\n",
       "4         0       3  1.0  35.0      0      0  2.202765       2.0"
      ]
     },
     "execution_count": 21,
     "metadata": {},
     "output_type": "execute_result"
    }
   ],
   "source": [
    "df.head()"
   ]
  },
  {
   "cell_type": "markdown",
   "id": "14392961",
   "metadata": {},
   "source": [
    "# Separating features and target variable"
   ]
  },
  {
   "cell_type": "code",
   "execution_count": 22,
   "id": "4bc0addb",
   "metadata": {},
   "outputs": [],
   "source": [
    "X = df.drop('Survived',axis=1)\n",
    "y = df['Survived']"
   ]
  },
  {
   "cell_type": "code",
   "execution_count": 36,
   "id": "02feb142",
   "metadata": {},
   "outputs": [
    {
     "data": {
      "text/html": [
       "<div>\n",
       "<style scoped>\n",
       "    .dataframe tbody tr th:only-of-type {\n",
       "        vertical-align: middle;\n",
       "    }\n",
       "\n",
       "    .dataframe tbody tr th {\n",
       "        vertical-align: top;\n",
       "    }\n",
       "\n",
       "    .dataframe thead th {\n",
       "        text-align: right;\n",
       "    }\n",
       "</style>\n",
       "<table border=\"1\" class=\"dataframe\">\n",
       "  <thead>\n",
       "    <tr style=\"text-align: right;\">\n",
       "      <th></th>\n",
       "      <th>Pclass</th>\n",
       "      <th>Sex</th>\n",
       "      <th>Age</th>\n",
       "      <th>SibSp</th>\n",
       "      <th>Parch</th>\n",
       "      <th>Fare</th>\n",
       "      <th>Embarked</th>\n",
       "    </tr>\n",
       "  </thead>\n",
       "  <tbody>\n",
       "    <tr>\n",
       "      <th>0</th>\n",
       "      <td>3</td>\n",
       "      <td>1.0</td>\n",
       "      <td>22.0</td>\n",
       "      <td>1</td>\n",
       "      <td>0</td>\n",
       "      <td>2.110213</td>\n",
       "      <td>2.0</td>\n",
       "    </tr>\n",
       "    <tr>\n",
       "      <th>1</th>\n",
       "      <td>1</td>\n",
       "      <td>0.0</td>\n",
       "      <td>38.0</td>\n",
       "      <td>1</td>\n",
       "      <td>0</td>\n",
       "      <td>4.280593</td>\n",
       "      <td>0.0</td>\n",
       "    </tr>\n",
       "    <tr>\n",
       "      <th>2</th>\n",
       "      <td>3</td>\n",
       "      <td>0.0</td>\n",
       "      <td>26.0</td>\n",
       "      <td>0</td>\n",
       "      <td>0</td>\n",
       "      <td>2.188856</td>\n",
       "      <td>2.0</td>\n",
       "    </tr>\n",
       "    <tr>\n",
       "      <th>3</th>\n",
       "      <td>1</td>\n",
       "      <td>0.0</td>\n",
       "      <td>35.0</td>\n",
       "      <td>1</td>\n",
       "      <td>0</td>\n",
       "      <td>3.990834</td>\n",
       "      <td>2.0</td>\n",
       "    </tr>\n",
       "    <tr>\n",
       "      <th>4</th>\n",
       "      <td>3</td>\n",
       "      <td>1.0</td>\n",
       "      <td>35.0</td>\n",
       "      <td>0</td>\n",
       "      <td>0</td>\n",
       "      <td>2.202765</td>\n",
       "      <td>2.0</td>\n",
       "    </tr>\n",
       "    <tr>\n",
       "      <th>...</th>\n",
       "      <td>...</td>\n",
       "      <td>...</td>\n",
       "      <td>...</td>\n",
       "      <td>...</td>\n",
       "      <td>...</td>\n",
       "      <td>...</td>\n",
       "      <td>...</td>\n",
       "    </tr>\n",
       "    <tr>\n",
       "      <th>886</th>\n",
       "      <td>2</td>\n",
       "      <td>1.0</td>\n",
       "      <td>27.0</td>\n",
       "      <td>0</td>\n",
       "      <td>0</td>\n",
       "      <td>2.639057</td>\n",
       "      <td>2.0</td>\n",
       "    </tr>\n",
       "    <tr>\n",
       "      <th>887</th>\n",
       "      <td>1</td>\n",
       "      <td>0.0</td>\n",
       "      <td>19.0</td>\n",
       "      <td>0</td>\n",
       "      <td>0</td>\n",
       "      <td>3.433987</td>\n",
       "      <td>2.0</td>\n",
       "    </tr>\n",
       "    <tr>\n",
       "      <th>888</th>\n",
       "      <td>3</td>\n",
       "      <td>0.0</td>\n",
       "      <td>24.0</td>\n",
       "      <td>1</td>\n",
       "      <td>2</td>\n",
       "      <td>3.196630</td>\n",
       "      <td>2.0</td>\n",
       "    </tr>\n",
       "    <tr>\n",
       "      <th>889</th>\n",
       "      <td>1</td>\n",
       "      <td>1.0</td>\n",
       "      <td>26.0</td>\n",
       "      <td>0</td>\n",
       "      <td>0</td>\n",
       "      <td>3.433987</td>\n",
       "      <td>0.0</td>\n",
       "    </tr>\n",
       "    <tr>\n",
       "      <th>890</th>\n",
       "      <td>3</td>\n",
       "      <td>1.0</td>\n",
       "      <td>32.0</td>\n",
       "      <td>0</td>\n",
       "      <td>0</td>\n",
       "      <td>2.169054</td>\n",
       "      <td>1.0</td>\n",
       "    </tr>\n",
       "  </tbody>\n",
       "</table>\n",
       "<p>891 rows × 7 columns</p>\n",
       "</div>"
      ],
      "text/plain": [
       "     Pclass  Sex   Age  SibSp  Parch      Fare  Embarked\n",
       "0         3  1.0  22.0      1      0  2.110213       2.0\n",
       "1         1  0.0  38.0      1      0  4.280593       0.0\n",
       "2         3  0.0  26.0      0      0  2.188856       2.0\n",
       "3         1  0.0  35.0      1      0  3.990834       2.0\n",
       "4         3  1.0  35.0      0      0  2.202765       2.0\n",
       "..      ...  ...   ...    ...    ...       ...       ...\n",
       "886       2  1.0  27.0      0      0  2.639057       2.0\n",
       "887       1  0.0  19.0      0      0  3.433987       2.0\n",
       "888       3  0.0  24.0      1      2  3.196630       2.0\n",
       "889       1  1.0  26.0      0      0  3.433987       0.0\n",
       "890       3  1.0  32.0      0      0  2.169054       1.0\n",
       "\n",
       "[891 rows x 7 columns]"
      ]
     },
     "execution_count": 36,
     "metadata": {},
     "output_type": "execute_result"
    }
   ],
   "source": [
    "X"
   ]
  },
  {
   "cell_type": "markdown",
   "id": "4d590b25",
   "metadata": {},
   "source": [
    "# Best Random State"
   ]
  },
  {
   "cell_type": "code",
   "execution_count": 23,
   "id": "b3199430",
   "metadata": {},
   "outputs": [
    {
     "name": "stdout",
     "output_type": "stream",
     "text": [
      "Testing Accuracy:  0.776536312849162 at random state 1\n",
      "Maximum Accuracy: 0.776536312849162 at random state  1\n",
      "Testing Accuracy:  0.8044692737430168 at random state 2\n",
      "Maximum Accuracy: 0.8044692737430168 at random state  2\n",
      "Testing Accuracy:  0.7932960893854749 at random state 3\n",
      "Testing Accuracy:  0.8268156424581006 at random state 4\n",
      "Maximum Accuracy: 0.8268156424581006 at random state  4\n",
      "Testing Accuracy:  0.8156424581005587 at random state 5\n",
      "Testing Accuracy:  0.8156424581005587 at random state 6\n",
      "Testing Accuracy:  0.7653631284916201 at random state 7\n",
      "Testing Accuracy:  0.7877094972067039 at random state 8\n",
      "Testing Accuracy:  0.776536312849162 at random state 9\n",
      "Testing Accuracy:  0.8212290502793296 at random state 10\n",
      "Testing Accuracy:  0.8435754189944135 at random state 11\n",
      "Maximum Accuracy: 0.8435754189944135 at random state  11\n",
      "Testing Accuracy:  0.7597765363128491 at random state 12\n",
      "Testing Accuracy:  0.8212290502793296 at random state 13\n",
      "Testing Accuracy:  0.7932960893854749 at random state 14\n",
      "Testing Accuracy:  0.8044692737430168 at random state 15\n",
      "Testing Accuracy:  0.7653631284916201 at random state 16\n",
      "Testing Accuracy:  0.776536312849162 at random state 17\n",
      "Testing Accuracy:  0.88268156424581 at random state 18\n",
      "Maximum Accuracy: 0.88268156424581 at random state  18\n",
      "Testing Accuracy:  0.8547486033519553 at random state 19\n",
      "Testing Accuracy:  0.8212290502793296 at random state 20\n",
      "Testing Accuracy:  0.8435754189944135 at random state 21\n",
      "Testing Accuracy:  0.7988826815642458 at random state 22\n",
      "Testing Accuracy:  0.8044692737430168 at random state 23\n",
      "Testing Accuracy:  0.8044692737430168 at random state 24\n",
      "Testing Accuracy:  0.770949720670391 at random state 25\n",
      "Testing Accuracy:  0.7988826815642458 at random state 26\n",
      "Testing Accuracy:  0.8156424581005587 at random state 27\n",
      "Testing Accuracy:  0.8044692737430168 at random state 28\n",
      "Testing Accuracy:  0.8044692737430168 at random state 29\n",
      "Testing Accuracy:  0.8100558659217877 at random state 30\n",
      "Testing Accuracy:  0.776536312849162 at random state 31\n",
      "Testing Accuracy:  0.8156424581005587 at random state 32\n",
      "Testing Accuracy:  0.8324022346368715 at random state 33\n",
      "Testing Accuracy:  0.8491620111731844 at random state 34\n",
      "Testing Accuracy:  0.770949720670391 at random state 35\n",
      "Testing Accuracy:  0.8212290502793296 at random state 36\n",
      "Testing Accuracy:  0.7988826815642458 at random state 37\n",
      "Testing Accuracy:  0.8435754189944135 at random state 38\n",
      "Testing Accuracy:  0.8044692737430168 at random state 39\n",
      "Testing Accuracy:  0.8100558659217877 at random state 40\n",
      "Testing Accuracy:  0.8212290502793296 at random state 41\n",
      "Testing Accuracy:  0.8044692737430168 at random state 42\n",
      "Testing Accuracy:  0.8044692737430168 at random state 43\n",
      "Testing Accuracy:  0.7150837988826816 at random state 44\n",
      "Testing Accuracy:  0.8379888268156425 at random state 45\n",
      "Testing Accuracy:  0.8156424581005587 at random state 46\n",
      "Testing Accuracy:  0.770949720670391 at random state 47\n",
      "Testing Accuracy:  0.7653631284916201 at random state 48\n",
      "Testing Accuracy:  0.8715083798882681 at random state 49\n",
      "Testing Accuracy:  0.7821229050279329 at random state 50\n",
      "Testing Accuracy:  0.7988826815642458 at random state 51\n",
      "Testing Accuracy:  0.7821229050279329 at random state 52\n",
      "Testing Accuracy:  0.8044692737430168 at random state 53\n",
      "Testing Accuracy:  0.8044692737430168 at random state 54\n",
      "Testing Accuracy:  0.8044692737430168 at random state 55\n",
      "Testing Accuracy:  0.8100558659217877 at random state 56\n",
      "Testing Accuracy:  0.8379888268156425 at random state 57\n",
      "Testing Accuracy:  0.8100558659217877 at random state 58\n",
      "Testing Accuracy:  0.7932960893854749 at random state 59\n",
      "Testing Accuracy:  0.7988826815642458 at random state 60\n",
      "Testing Accuracy:  0.7932960893854749 at random state 61\n",
      "Testing Accuracy:  0.8212290502793296 at random state 62\n",
      "Testing Accuracy:  0.8156424581005587 at random state 63\n",
      "Testing Accuracy:  0.8212290502793296 at random state 64\n",
      "Testing Accuracy:  0.8268156424581006 at random state 65\n",
      "Testing Accuracy:  0.8435754189944135 at random state 66\n",
      "Testing Accuracy:  0.776536312849162 at random state 67\n",
      "Testing Accuracy:  0.8100558659217877 at random state 68\n",
      "Testing Accuracy:  0.8268156424581006 at random state 69\n",
      "Testing Accuracy:  0.7877094972067039 at random state 70\n",
      "Testing Accuracy:  0.8379888268156425 at random state 71\n",
      "Testing Accuracy:  0.7877094972067039 at random state 72\n",
      "Testing Accuracy:  0.8491620111731844 at random state 73\n",
      "Testing Accuracy:  0.8491620111731844 at random state 74\n",
      "Testing Accuracy:  0.7932960893854749 at random state 75\n",
      "Testing Accuracy:  0.8212290502793296 at random state 76\n",
      "Testing Accuracy:  0.8156424581005587 at random state 77\n",
      "Testing Accuracy:  0.8156424581005587 at random state 78\n",
      "Testing Accuracy:  0.8044692737430168 at random state 79\n",
      "Testing Accuracy:  0.7988826815642458 at random state 80\n",
      "Testing Accuracy:  0.7597765363128491 at random state 81\n",
      "Testing Accuracy:  0.770949720670391 at random state 82\n",
      "Testing Accuracy:  0.8156424581005587 at random state 83\n",
      "Testing Accuracy:  0.7486033519553073 at random state 84\n",
      "Testing Accuracy:  0.7988826815642458 at random state 85\n",
      "Testing Accuracy:  0.8435754189944135 at random state 86\n",
      "Testing Accuracy:  0.8100558659217877 at random state 87\n",
      "Testing Accuracy:  0.7988826815642458 at random state 88\n",
      "Testing Accuracy:  0.8547486033519553 at random state 89\n",
      "Testing Accuracy:  0.8100558659217877 at random state 90\n",
      "Testing Accuracy:  0.8212290502793296 at random state 91\n",
      "Testing Accuracy:  0.8379888268156425 at random state 92\n",
      "Testing Accuracy:  0.8659217877094972 at random state 93\n",
      "Testing Accuracy:  0.7988826815642458 at random state 94\n",
      "Testing Accuracy:  0.8491620111731844 at random state 95\n",
      "Testing Accuracy:  0.7653631284916201 at random state 96\n",
      "Testing Accuracy:  0.8044692737430168 at random state 97\n",
      "Testing Accuracy:  0.7821229050279329 at random state 98\n",
      "Testing Accuracy:  0.8212290502793296 at random state 99\n"
     ]
    }
   ],
   "source": [
    "maxAccu = 0 # Max Accuracy\n",
    "maxRS = 0   # Best random state for which maximum accuracy is achieved\n",
    "\n",
    "for i in range(1,100):\n",
    "    X_train,X_test,y_train,y_test = train_test_split(X,y,test_size=0.2,random_state=i)\n",
    "    #lr = LogisticRegression()\n",
    "    #dt = DecisionTreeClassifier()\n",
    "    rf = RandomForestClassifier()\n",
    "    #knn = KNeighborsClassifier()\n",
    "    #svc = SVC()\n",
    "    #lr.fit(X_train,y_train)   # Training the model\n",
    "    #dt.fit(X_train,y_train)\n",
    "    rf.fit(X_train,y_train)\n",
    "    #knn.fit(X_train,y_train)\n",
    "    #svc.fit(X_train,y_train)\n",
    "    #pred_lr = lr.predict(X_test)  # Predicting the target variable\n",
    "    #pred_dt = dt.predict(X_test)\n",
    "    pred_rf = rf.predict(X_test)\n",
    "    #pred_knn = knn.predict(X_test)\n",
    "    #pred_svc = svc.predict(X_test)\n",
    "    #acc_lr = accuracy_score(y_test,pred_lr)\n",
    "    #acc_dt = accuracy_score(y_test,pred_dt)\n",
    "    acc_rf = accuracy_score(y_test,pred_rf)\n",
    "    #acc_knn = accuracy_score(y_test,pred_knn)\n",
    "    #acc_svc = accuracy_score(y_test,pred_svc)\n",
    "    #print(\"Testing Accuracy: \",acc_lr,\"at random state\", i)\n",
    "    #print(\"Testing Accuracy: \",acc_dt,\"at random state\", i)\n",
    "    print(\"Testing Accuracy: \",acc_rf,\"at random state\", i)\n",
    "    #print(\"Testing Accuracy: \",acc_knn,\"at random state\", i)\n",
    "    #print(\"Testing Accuracy: \",acc_svc,\"at random state\", i)\n",
    "    \n",
    "    #if acc_lr>maxAccu:\n",
    "    #if acc_dt>maxAccu:\n",
    "    if acc_rf>maxAccu:\n",
    "    #if acc_knn>maxAccu:\n",
    "    #if acc_svc>maxAccu:\n",
    "        #maxAccu = acc_lr\n",
    "        #maxAccu = acc_dt\n",
    "        maxAccu = acc_rf\n",
    "        #maxAccu = acc_knn\n",
    "        #maxAccu = acc_svc\n",
    "        \n",
    "        maxRS = i\n",
    "        \n",
    "        print(\"Maximum Accuracy:\",maxAccu,\"at random state \", maxRS)\n",
    "        #print(\"Maximum Accuracy:\",maxAccu,\"at random state \", maxRS)"
   ]
  },
  {
   "cell_type": "code",
   "execution_count": 24,
   "id": "f459930e",
   "metadata": {},
   "outputs": [
    {
     "name": "stdout",
     "output_type": "stream",
     "text": [
      "Best accuracy is  88.26815642458101 on random state 18\n"
     ]
    }
   ],
   "source": [
    "#print(\"Best accuracy is \",maxAccu*100, \"on random state\", maxRS)\n",
    "print(\"Best accuracy is \",maxAccu*100, \"on random state\", maxRS)"
   ]
  },
  {
   "cell_type": "markdown",
   "id": "44667e85",
   "metadata": {},
   "source": [
    "LR: We have found the best **random state = 11** and **max accuracy = 85.47%** ,we will create our train test split for this random state."
   ]
  },
  {
   "cell_type": "markdown",
   "id": "d1c13f35",
   "metadata": {},
   "source": [
    "DT: We have found the best **random state = 46** and **max accuracy = 83.798%** we will create our train test split for this random state."
   ]
  },
  {
   "cell_type": "markdown",
   "id": "c9a3a301",
   "metadata": {},
   "source": [
    "RF: We have found the best **random state = 18** and **max accuracy = 88.26%**, we will create our train test split for this random state."
   ]
  },
  {
   "cell_type": "markdown",
   "id": "85846c5a",
   "metadata": {},
   "source": [
    "KNN: We have found the best **random state = 91** and **max accuracy = 84.92%**, we will create our train test split for this random state."
   ]
  },
  {
   "cell_type": "markdown",
   "id": "07933dc0",
   "metadata": {},
   "source": [
    "SVC: We have found the best **random state = 34** and **max accuracy = 77.65%**, we will create our train test split for this random state."
   ]
  },
  {
   "cell_type": "markdown",
   "id": "88e604d0",
   "metadata": {},
   "source": [
    "# Function for calculating model performance"
   ]
  },
  {
   "cell_type": "code",
   "execution_count": 25,
   "id": "d3a6f4c1",
   "metadata": {},
   "outputs": [],
   "source": [
    "# Defining function for calculating the performance of the classification model\n",
    "def metric_score(clf,X_train,X_test,y_train,y_test,train = True):\n",
    "    if train:\n",
    "        y_pred = clf.predict(X_train)\n",
    "        \n",
    "        print(\"-----------------Train Result--------------------\")\n",
    "        \n",
    "        print(f\"Accuracy Score : {accuracy_score(y_train,y_pred)*100:.2f}%\")\n",
    "        \n",
    "    elif train == False:\n",
    "        \n",
    "        pred = clf.predict(X_test)\n",
    "        \n",
    "        print(\"-----------------Test Result--------------------\")\n",
    "        \n",
    "        print(f\"Accuracy Score : {accuracy_score(y_test,pred)*100:.2f}%\")\n",
    "        \n",
    "        print(\"\\n Test Classification Report \\n \", classification_report(y_test,pred,digits =2))"
   ]
  },
  {
   "cell_type": "markdown",
   "id": "1043226d",
   "metadata": {},
   "source": [
    "# Creating Train_test_split"
   ]
  },
  {
   "cell_type": "code",
   "execution_count": 46,
   "id": "b5b474c3",
   "metadata": {},
   "outputs": [],
   "source": [
    "#X_train,X_test,y_train,y_test = train_test_split(X,y,test_size=0.2,random_state=11)\n",
    "#X_train,X_test,y_train,y_test = train_test_split(X,y,test_size=0.2,random_state=92)\n",
    "X_train,X_test,y_train,y_test = train_test_split(X,y,test_size=0.2,random_state=18)"
   ]
  },
  {
   "cell_type": "code",
   "execution_count": 47,
   "id": "8dcfe925",
   "metadata": {},
   "outputs": [
    {
     "data": {
      "text/plain": [
       "(712, 7)"
      ]
     },
     "execution_count": 47,
     "metadata": {},
     "output_type": "execute_result"
    }
   ],
   "source": [
    "X_train.shape"
   ]
  },
  {
   "cell_type": "markdown",
   "id": "1947bcd6",
   "metadata": {},
   "source": [
    "# Logistic Regression"
   ]
  },
  {
   "cell_type": "code",
   "execution_count": 26,
   "id": "3e376673",
   "metadata": {},
   "outputs": [
    {
     "name": "stdout",
     "output_type": "stream",
     "text": [
      "-----------------Train Result--------------------\n",
      "Accuracy Score : 78.09%\n",
      "-----------------Test Result--------------------\n",
      "Accuracy Score : 85.47%\n",
      "\n",
      " Test Classification Report \n",
      "                precision    recall  f1-score   support\n",
      "\n",
      "           0       0.89      0.89      0.89       118\n",
      "           1       0.79      0.79      0.79        61\n",
      "\n",
      "    accuracy                           0.85       179\n",
      "   macro avg       0.84      0.84      0.84       179\n",
      "weighted avg       0.85      0.85      0.85       179\n",
      "\n"
     ]
    }
   ],
   "source": [
    "X_train,X_test,y_train,y_test = train_test_split(X,y,test_size=0.2,random_state=11)  # train test split at best random state\n",
    "\n",
    "lr = LogisticRegression()\n",
    "\n",
    "lr.fit(X_train,y_train)     # Model training\n",
    "\n",
    "metric_score(lr,X_train,X_test,y_train,y_test,train=True)     # performance calculation on training data\n",
    "\n",
    "metric_score(lr,X_train,X_test,y_train,y_test,train=False)    # performance calculation on test data"
   ]
  },
  {
   "cell_type": "markdown",
   "id": "e1cd0b12",
   "metadata": {},
   "source": [
    "# Decision Tree Classifier"
   ]
  },
  {
   "cell_type": "code",
   "execution_count": 27,
   "id": "3cfc5a8d",
   "metadata": {},
   "outputs": [
    {
     "name": "stdout",
     "output_type": "stream",
     "text": [
      "-----------------Train Result--------------------\n",
      "Accuracy Score : 98.31%\n",
      "-----------------Test Result--------------------\n",
      "Accuracy Score : 82.68%\n",
      "\n",
      " Test Classification Report \n",
      "                precision    recall  f1-score   support\n",
      "\n",
      "           0       0.82      0.90      0.86       104\n",
      "           1       0.84      0.72      0.78        75\n",
      "\n",
      "    accuracy                           0.83       179\n",
      "   macro avg       0.83      0.81      0.82       179\n",
      "weighted avg       0.83      0.83      0.82       179\n",
      "\n"
     ]
    }
   ],
   "source": [
    "X_train,X_test,y_train,y_test = train_test_split(X,y,test_size=0.2,random_state=46)    # train test split at best random state\n",
    "\n",
    "dt = DecisionTreeClassifier()\n",
    "\n",
    "dt.fit(X_train,y_train)\n",
    "\n",
    "metric_score(dt,X_train,X_test,y_train,y_test,train=True)          # performance calculation on training data\n",
    "\n",
    "metric_score(dt,X_train,X_test,y_train,y_test,train=False)         # performance calculation on test data"
   ]
  },
  {
   "cell_type": "markdown",
   "id": "dc3a0390",
   "metadata": {},
   "source": [
    "# Random Forest Classifier"
   ]
  },
  {
   "cell_type": "code",
   "execution_count": 42,
   "id": "b45767bb",
   "metadata": {},
   "outputs": [
    {
     "name": "stdout",
     "output_type": "stream",
     "text": [
      "-----------------Train Result--------------------\n",
      "Accuracy Score : 98.31%\n",
      "-----------------Test Result--------------------\n",
      "Accuracy Score : 87.15%\n",
      "\n",
      " Test Classification Report \n",
      "                precision    recall  f1-score   support\n",
      "\n",
      "           0       0.88      0.92      0.90       109\n",
      "           1       0.86      0.80      0.83        70\n",
      "\n",
      "    accuracy                           0.87       179\n",
      "   macro avg       0.87      0.86      0.86       179\n",
      "weighted avg       0.87      0.87      0.87       179\n",
      "\n"
     ]
    }
   ],
   "source": [
    "X_train,X_test,y_train,y_test = train_test_split(X,y,test_size=0.2,random_state=18)\n",
    "\n",
    "rf = RandomForestClassifier()\n",
    "\n",
    "rf.fit(X_train,y_train)\n",
    "\n",
    "metric_score(rf,X_train,X_test,y_train,y_test,train=True)\n",
    "\n",
    "metric_score(rf,X_train,X_test,y_train,y_test,train=False)"
   ]
  },
  {
   "cell_type": "markdown",
   "id": "294769d0",
   "metadata": {},
   "source": [
    "# K Neighbor Classifier"
   ]
  },
  {
   "cell_type": "code",
   "execution_count": 29,
   "id": "6049b974",
   "metadata": {},
   "outputs": [
    {
     "name": "stdout",
     "output_type": "stream",
     "text": [
      "-----------------Train Result--------------------\n",
      "Accuracy Score : 83.57%\n",
      "-----------------Test Result--------------------\n",
      "Accuracy Score : 84.92%\n",
      "\n",
      " Test Classification Report \n",
      "                precision    recall  f1-score   support\n",
      "\n",
      "           0       0.90      0.87      0.89       120\n",
      "           1       0.75      0.81      0.78        59\n",
      "\n",
      "    accuracy                           0.85       179\n",
      "   macro avg       0.83      0.84      0.83       179\n",
      "weighted avg       0.85      0.85      0.85       179\n",
      "\n"
     ]
    }
   ],
   "source": [
    "X_train,X_test,y_train,y_test = train_test_split(X,y,test_size=0.2,random_state=91)\n",
    "\n",
    "knn = KNeighborsClassifier()\n",
    "\n",
    "knn.fit(X_train,y_train)\n",
    "\n",
    "metric_score(knn,X_train,X_test,y_train,y_test,train=True)\n",
    "\n",
    "metric_score(knn,X_train,X_test,y_train,y_test,train=False)"
   ]
  },
  {
   "cell_type": "markdown",
   "id": "45c0e0b9",
   "metadata": {},
   "source": [
    "# SVC"
   ]
  },
  {
   "cell_type": "code",
   "execution_count": 30,
   "id": "bfc92d92",
   "metadata": {},
   "outputs": [
    {
     "name": "stdout",
     "output_type": "stream",
     "text": [
      "-----------------Train Result--------------------\n",
      "Accuracy Score : 67.98%\n",
      "-----------------Test Result--------------------\n",
      "Accuracy Score : 77.65%\n",
      "\n",
      " Test Classification Report \n",
      "                precision    recall  f1-score   support\n",
      "\n",
      "           0       0.76      0.97      0.85       118\n",
      "           1       0.89      0.39      0.55        61\n",
      "\n",
      "    accuracy                           0.78       179\n",
      "   macro avg       0.82      0.68      0.70       179\n",
      "weighted avg       0.80      0.78      0.75       179\n",
      "\n"
     ]
    }
   ],
   "source": [
    "X_train,X_test,y_train,y_test = train_test_split(X,y,test_size=0.2,random_state=34)\n",
    "\n",
    "svc = SVC()\n",
    "\n",
    "svc.fit(X_train,y_train)\n",
    "\n",
    "metric_score(svc,X_train,X_test,y_train,y_test,train=True)\n",
    "\n",
    "metric_score(svc,X_train,X_test,y_train,y_test,train=False)"
   ]
  },
  {
   "cell_type": "markdown",
   "id": "9d571068",
   "metadata": {},
   "source": [
    "# Cross Validation"
   ]
  },
  {
   "cell_type": "code",
   "execution_count": 31,
   "id": "b4ce06a4",
   "metadata": {},
   "outputs": [
    {
     "name": "stdout",
     "output_type": "stream",
     "text": [
      "Cross validation score of Logistic Regression model : 79.35149274835373\n",
      "Cross validation score of Decision Tree Classifier model : 79.3465445311083\n",
      "Cross validation score of Random Forest Classifier model : 80.92836051743532\n",
      "Cross validation score of K Neighbors Classifier model : 77.3316176009039\n",
      "Cross validation score of Support Vector Classifier (SVC) model : 70.70865508365509\n"
     ]
    }
   ],
   "source": [
    "from sklearn.model_selection import cross_val_score\n",
    "\n",
    "# Validation accuracy\n",
    "\n",
    "cr_lr = cross_val_score(lr,X,y,cv=4)\n",
    "\n",
    "print(\"Cross validation score of Logistic Regression model :\",cr_lr.mean()*100)\n",
    "\n",
    "cr_dt = cross_val_score(dt,X,y,cv=6)\n",
    "\n",
    "print(\"Cross validation score of Decision Tree Classifier model :\",cr_dt.mean()*100)\n",
    "\n",
    "cr_rf = cross_val_score(rf,X,y,cv=7)\n",
    "\n",
    "print(\"Cross validation score of Random Forest Classifier model :\",cr_rf.mean()*100)\n",
    "\n",
    "cr_knn = cross_val_score(knn,X,y,cv=5)\n",
    "\n",
    "print(\"Cross validation score of K Neighbors Classifier model :\",cr_knn.mean()*100)\n",
    "\n",
    "cr_svc = cross_val_score(svc,X,y,cv=8)\n",
    "\n",
    "print(\"Cross validation score of Support Vector Classifier (SVC) model :\",cr_svc.mean()*100)"
   ]
  },
  {
   "cell_type": "markdown",
   "id": "c53de5a6",
   "metadata": {},
   "source": [
    "# Hyperparameter Tuning"
   ]
  },
  {
   "cell_type": "code",
   "execution_count": 32,
   "id": "26670391",
   "metadata": {},
   "outputs": [
    {
     "name": "stdout",
     "output_type": "stream",
     "text": [
      "Best parameters :  {'multi_class': 'auto', 'penalty': 'l1', 'random_state': 4, 'solver': 'liblinear', 'tol': 0.01}\n"
     ]
    }
   ],
   "source": [
    "# For Logistic Regression model\n",
    "\n",
    "lr_params = {'penalty':['l1', 'l2', 'elasticnet', 'none'],\n",
    "             'tol':[0.0001,0.001,0.01],\n",
    "             'random_state':range(1,100),\n",
    "             'solver':['newton-cg', 'lbfgs', 'liblinear', 'sag', 'saga'],\n",
    "             'multi_class':['auto', 'ovr', 'multinomial']}\n",
    "\n",
    "grd_lr = GridSearchCV(lr,param_grid = lr_params,cv = 4, n_jobs =-1)\n",
    "\n",
    "X_train,X_test,y_train,y_test = train_test_split(X,y,test_size=0.2,random_state=11)\n",
    "\n",
    "grd_lr.fit(X_train,y_train)\n",
    "\n",
    "print(\"Best parameters : \",grd_lr.best_params_)"
   ]
  },
  {
   "cell_type": "code",
   "execution_count": 33,
   "id": "ea75ff1d",
   "metadata": {},
   "outputs": [
    {
     "name": "stdout",
     "output_type": "stream",
     "text": [
      "-----------------Train Result--------------------\n",
      "Accuracy Score : 77.95%\n",
      "-----------------Test Result--------------------\n",
      "Accuracy Score : 84.92%\n",
      "\n",
      " Test Classification Report \n",
      "                precision    recall  f1-score   support\n",
      "\n",
      "           0       0.88      0.90      0.89       118\n",
      "           1       0.79      0.75      0.77        61\n",
      "\n",
      "    accuracy                           0.85       179\n",
      "   macro avg       0.83      0.83      0.83       179\n",
      "weighted avg       0.85      0.85      0.85       179\n",
      "\n"
     ]
    }
   ],
   "source": [
    "# Model training and performance calculation for Logistic Regression \n",
    "\n",
    "lr = grd_lr.best_estimator_\n",
    "\n",
    "lr.fit(X_train,y_train)\n",
    "\n",
    "metric_score(lr,X_train,X_test,y_train,y_test,train=True)\n",
    "\n",
    "metric_score(lr,X_train,X_test,y_train,y_test,train=False)"
   ]
  },
  {
   "cell_type": "code",
   "execution_count": 34,
   "id": "3ff99155",
   "metadata": {},
   "outputs": [
    {
     "name": "stdout",
     "output_type": "stream",
     "text": [
      "Best parameters :  {'criterion': 'gini', 'max_depth': 11, 'max_leaf_nodes': 32, 'min_samples_leaf': 3, 'min_samples_split': 2, 'random_state': 52, 'splitter': 'best'}\n"
     ]
    }
   ],
   "source": [
    "# For Decision Tree Classifier model\n",
    "\n",
    "dt_params = {'criterion': ['gini','entropy'],\n",
    "             'splitter': ['best','random'],\n",
    "             'max_depth': range(9,14),\n",
    "              'min_samples_leaf': range(1,7),\n",
    "              'min_samples_split': range(2,7),\n",
    "              'max_leaf_nodes': range(30,40),\n",
    "             'random_state': range(46,56)\n",
    "             }\n",
    "\n",
    "grd_dt = GridSearchCV(estimator = dt, param_grid = dt_params,cv = 7, n_jobs =-1)\n",
    "\n",
    "X_train,X_test,y_train,y_test = train_test_split(X,y,test_size=0.2,random_state=46)\n",
    "\n",
    "grd_dt.fit(X_train,y_train)\n",
    "\n",
    "print(\"Best parameters : \",grd_dt.best_params_)"
   ]
  },
  {
   "cell_type": "code",
   "execution_count": 35,
   "id": "3fdceabe",
   "metadata": {},
   "outputs": [
    {
     "name": "stdout",
     "output_type": "stream",
     "text": [
      "-----------------Train Result--------------------\n",
      "Accuracy Score : 88.34%\n",
      "-----------------Test Result--------------------\n",
      "Accuracy Score : 85.47%\n",
      "\n",
      " Test Classification Report \n",
      "                precision    recall  f1-score   support\n",
      "\n",
      "           0       0.84      0.93      0.88       104\n",
      "           1       0.89      0.75      0.81        75\n",
      "\n",
      "    accuracy                           0.85       179\n",
      "   macro avg       0.86      0.84      0.85       179\n",
      "weighted avg       0.86      0.85      0.85       179\n",
      "\n"
     ]
    }
   ],
   "source": [
    "# Model training and performance calculation for Decision Tree classifier\n",
    "\n",
    "dt = grd_dt.best_estimator_       # Taking the best parameters in the object\n",
    "\n",
    "dt.fit(X_train,y_train)           # Training the model on the best parameters\n",
    "\n",
    "metric_score(dt,X_train,X_test,y_train,y_test,train=True)      # Model performance on training data\n",
    "\n",
    "metric_score(dt,X_train,X_test,y_train,y_test,train=False)     # Model performance on test data"
   ]
  },
  {
   "cell_type": "code",
   "execution_count": 51,
   "id": "bd950e88",
   "metadata": {},
   "outputs": [
    {
     "name": "stdout",
     "output_type": "stream",
     "text": [
      "Best parameters :  {'criterion': 'gini', 'max_depth': 13, 'min_samples_leaf': 2, 'min_samples_split': 5, 'n_estimators': 101}\n"
     ]
    }
   ],
   "source": [
    "# For Random Forest classifier\n",
    "\n",
    "rf_params = {'n_estimators': [98,99,101,102],\n",
    "          'criterion':['gini','entropy'],\n",
    "         'max_depth': [10,12,13,25],\n",
    "         'min_samples_split' :[2,3,4,5],\n",
    "         'min_samples_leaf' :[1,2,3,4]}\n",
    "\n",
    "grd_rf = GridSearchCV(estimator = rf, param_grid = rf_params,cv = 6, n_jobs =-1)\n",
    "\n",
    "X_train,X_test,y_train,y_test = train_test_split(X,y,test_size=0.2,random_state=49)\n",
    "\n",
    "grd_rf.fit(X_train,y_train)\n",
    "\n",
    "print(\"Best parameters : \",grd_rf.best_params_)"
   ]
  },
  {
   "cell_type": "code",
   "execution_count": 52,
   "id": "3bcb6dc1",
   "metadata": {},
   "outputs": [
    {
     "name": "stdout",
     "output_type": "stream",
     "text": [
      "-----------------Train Result--------------------\n",
      "Accuracy Score : 87.50%\n",
      "-----------------Test Result--------------------\n",
      "Accuracy Score : 87.15%\n",
      "\n",
      " Test Classification Report \n",
      "                precision    recall  f1-score   support\n",
      "\n",
      "           0       0.85      0.96      0.91       114\n",
      "           1       0.92      0.71      0.80        65\n",
      "\n",
      "    accuracy                           0.87       179\n",
      "   macro avg       0.89      0.84      0.85       179\n",
      "weighted avg       0.88      0.87      0.87       179\n",
      "\n"
     ]
    }
   ],
   "source": [
    "# Model training and performance calculation for Random Forest classifier\n",
    "\n",
    "dt = grd_dt.best_estimator_           # Taking the best parameters in the object\n",
    "\n",
    "dt.fit(X_train,y_train)               # Training the model on the best parameters\n",
    "\n",
    "metric_score(dt,X_train,X_test,y_train,y_test,train=True)         # Model performance on training data\n",
    "\n",
    "metric_score(dt,X_train,X_test,y_train,y_test,train=False)        # Model performance on test data"
   ]
  },
  {
   "cell_type": "code",
   "execution_count": 53,
   "id": "5f527aa5",
   "metadata": {},
   "outputs": [
    {
     "name": "stdout",
     "output_type": "stream",
     "text": [
      "Best parameters :  {'algorithm': 'auto', 'leaf_size': 25, 'n_neighbors': 5, 'weights': 'distance'}\n"
     ]
    }
   ],
   "source": [
    "# For K Neighbors classifier\n",
    "\n",
    "knn_params = { 'n_neighbors':[4,5,6,7],\n",
    "        'weights':['uniform','distance'],\n",
    "    'algorithm':['auto','ball_tree','kd_tree','brute'],\n",
    "    'leaf_size':[25,30,35]}\n",
    "\n",
    "grd_knn = GridSearchCV(knn,param_grid = knn_params,cv = 5, n_jobs =-1)\n",
    "\n",
    "X_train,X_test,y_train,y_test = train_test_split(X,y,test_size=0.2,random_state=91)\n",
    "\n",
    "grd_knn.fit(X_train,y_train)\n",
    "\n",
    "print(\"Best parameters : \",grd_knn.best_params_)"
   ]
  },
  {
   "cell_type": "code",
   "execution_count": 54,
   "id": "376c8e0f",
   "metadata": {},
   "outputs": [
    {
     "name": "stdout",
     "output_type": "stream",
     "text": [
      "-----------------Train Result--------------------\n",
      "Accuracy Score : 98.17%\n",
      "-----------------Test Result--------------------\n",
      "Accuracy Score : 84.92%\n",
      "\n",
      " Test Classification Report \n",
      "                precision    recall  f1-score   support\n",
      "\n",
      "           0       0.90      0.88      0.89       120\n",
      "           1       0.76      0.80      0.78        59\n",
      "\n",
      "    accuracy                           0.85       179\n",
      "   macro avg       0.83      0.84      0.83       179\n",
      "weighted avg       0.85      0.85      0.85       179\n",
      "\n"
     ]
    }
   ],
   "source": [
    "# Model training and performance calculation for K Neighbors classifier\n",
    "\n",
    "knn = grd_knn.best_estimator_\n",
    "\n",
    "knn.fit(X_train,y_train)\n",
    "\n",
    "metric_score(knn,X_train,X_test,y_train,y_test,train=True)\n",
    "\n",
    "metric_score(knn,X_train,X_test,y_train,y_test,train=False)"
   ]
  },
  {
   "cell_type": "code",
   "execution_count": 36,
   "id": "5962a076",
   "metadata": {},
   "outputs": [
    {
     "name": "stdout",
     "output_type": "stream",
     "text": [
      "Best parameters :  {'decision_function_shape': 'ovr', 'gamma': 'auto', 'kernel': 'rbf'}\n"
     ]
    }
   ],
   "source": [
    "# For SVC\n",
    "\n",
    "svc_params = {'kernel':['rbf','linear','poly','sigmoid'],\n",
    "              'gamma':['scale','auto'],\n",
    "              'decision_function_shape':['ovr','ovo']\n",
    "              }\n",
    "\n",
    "grd_svc = GridSearchCV(svc,param_grid = svc_params,cv = 8, n_jobs =-1)\n",
    "\n",
    "X_train,X_test,y_train,y_test = train_test_split(X,y,test_size=0.2,random_state=34)\n",
    "\n",
    "grd_svc.fit(X_train,y_train)\n",
    "\n",
    "print(\"Best parameters : \",grd_svc.best_params_)"
   ]
  },
  {
   "cell_type": "code",
   "execution_count": 37,
   "id": "fa122953",
   "metadata": {},
   "outputs": [
    {
     "name": "stdout",
     "output_type": "stream",
     "text": [
      "-----------------Train Result--------------------\n",
      "Accuracy Score : 86.80%\n",
      "-----------------Test Result--------------------\n",
      "Accuracy Score : 82.68%\n",
      "\n",
      " Test Classification Report \n",
      "                precision    recall  f1-score   support\n",
      "\n",
      "           0       0.88      0.85      0.87       118\n",
      "           1       0.73      0.79      0.76        61\n",
      "\n",
      "    accuracy                           0.83       179\n",
      "   macro avg       0.81      0.82      0.81       179\n",
      "weighted avg       0.83      0.83      0.83       179\n",
      "\n"
     ]
    }
   ],
   "source": [
    "# Model training and performance calculation for SVC classifier\n",
    "\n",
    "svc = grd_svc.best_estimator_\n",
    "\n",
    "svc.fit(X_train,y_train)\n",
    "\n",
    "metric_score(svc,X_train,X_test,y_train,y_test,train=True)\n",
    "\n",
    "metric_score(svc,X_train,X_test,y_train,y_test,train=False)"
   ]
  },
  {
   "cell_type": "markdown",
   "id": "672f309c",
   "metadata": {},
   "source": [
    "# Plotting ROC AUC Curve"
   ]
  },
  {
   "cell_type": "code",
   "execution_count": 45,
   "id": "e56d3a7d",
   "metadata": {},
   "outputs": [
    {
     "data": {
      "image/png": "[encoded data removed]",
      "text/plain": [
       "<Figure size 432x288 with 1 Axes>"
      ]
     },
     "metadata": {
      "needs_background": "light"
     },
     "output_type": "display_data"
    }
   ],
   "source": [
    "# Plotting ROC AUC curve on training data\n",
    "\n",
    "disp = plot_roc_curve(dt,X_train,y_train)\n",
    "\n",
    "plot_roc_curve(lr,X_train,y_train,ax=disp.ax_)\n",
    "\n",
    "plot_roc_curve(rf,X_train,y_train,ax=disp.ax_)\n",
    "\n",
    "plot_roc_curve(knn,X_train,y_train,ax=disp.ax_)\n",
    "\n",
    "plot_roc_curve(svc,X_train,y_train,ax=disp.ax_)\n",
    "\n",
    "plt.legend(prop={'size':10},loc='lower right')\n",
    "\n",
    "plt.show()"
   ]
  },
  {
   "cell_type": "code",
   "execution_count": 46,
   "id": "46dadf81",
   "metadata": {},
   "outputs": [
    {
     "data": {
      "image/png": "[encoded data removed]",
      "text/plain": [
       "<Figure size 432x288 with 1 Axes>"
      ]
     },
     "metadata": {
      "needs_background": "light"
     },
     "output_type": "display_data"
    }
   ],
   "source": [
    "# Plotting ROC AUC curve on test data\n",
    "\n",
    "disp = plot_roc_curve(dt,X_test,y_test)\n",
    "\n",
    "plot_roc_curve(lr,X_test,y_test,ax=disp.ax_)\n",
    "\n",
    "plot_roc_curve(rf,X_test,y_test,ax=disp.ax_)\n",
    "\n",
    "plot_roc_curve(knn,X_test,y_test,ax=disp.ax_)\n",
    "\n",
    "plot_roc_curve(svc,X_test,y_test,ax=disp.ax_)\n",
    "\n",
    "plt.legend(prop={'size':10},loc='lower right')\n",
    "\n",
    "plt.show()"
   ]
  },
  {
   "cell_type": "markdown",
   "id": "704aeee1",
   "metadata": {},
   "source": [
    "**Best model as per ROC AUC Curve:**\n",
    "\n",
    "* **Random Forest Classifier** "
   ]
  },
  {
   "cell_type": "markdown",
   "id": "4b0d6b0d",
   "metadata": {},
   "source": [
    "# Saving the model in pickle format"
   ]
  },
  {
   "cell_type": "code",
   "execution_count": 47,
   "id": "922ae08a",
   "metadata": {},
   "outputs": [],
   "source": [
    "filename = 'titanic.pkl'\n",
    "pickle.dump(rf,open(filename,'wb'))"
   ]
  },
  {
   "cell_type": "markdown",
   "id": "24608072",
   "metadata": {},
   "source": [
    "# Conclusion"
   ]
  },
  {
   "cell_type": "code",
   "execution_count": 48,
   "id": "d98d2840",
   "metadata": {},
   "outputs": [
    {
     "name": "stdout",
     "output_type": "stream",
     "text": [
      "87.15083798882681\n"
     ]
    }
   ],
   "source": [
    "loaded_model = pickle.load(open('titanic.pkl','rb'))\n",
    "\n",
    "pred_rf = loaded_model.predict(X_test)\n",
    "\n",
    "result = accuracy_score(y_test,pred_rf)\n",
    "\n",
    "print(result*100)"
   ]
  },
  {
   "cell_type": "code",
   "execution_count": 49,
   "id": "c0b1fe0d",
   "metadata": {},
   "outputs": [],
   "source": [
    "conclusion = pd.DataFrame([pred_rf,y_test],index=['Predicted','Original'])"
   ]
  },
  {
   "cell_type": "code",
   "execution_count": 50,
   "id": "11ec0bd6",
   "metadata": {},
   "outputs": [
    {
     "data": {
      "text/html": [
       "<div>\n",
       "<style scoped>\n",
       "    .dataframe tbody tr th:only-of-type {\n",
       "        vertical-align: middle;\n",
       "    }\n",
       "\n",
       "    .dataframe tbody tr th {\n",
       "        vertical-align: top;\n",
       "    }\n",
       "\n",
       "    .dataframe thead th {\n",
       "        text-align: right;\n",
       "    }\n",
       "</style>\n",
       "<table border=\"1\" class=\"dataframe\">\n",
       "  <thead>\n",
       "    <tr style=\"text-align: right;\">\n",
       "      <th></th>\n",
       "      <th>0</th>\n",
       "      <th>1</th>\n",
       "      <th>2</th>\n",
       "      <th>3</th>\n",
       "      <th>4</th>\n",
       "      <th>5</th>\n",
       "      <th>6</th>\n",
       "      <th>7</th>\n",
       "      <th>8</th>\n",
       "      <th>9</th>\n",
       "      <th>...</th>\n",
       "      <th>169</th>\n",
       "      <th>170</th>\n",
       "      <th>171</th>\n",
       "      <th>172</th>\n",
       "      <th>173</th>\n",
       "      <th>174</th>\n",
       "      <th>175</th>\n",
       "      <th>176</th>\n",
       "      <th>177</th>\n",
       "      <th>178</th>\n",
       "    </tr>\n",
       "  </thead>\n",
       "  <tbody>\n",
       "    <tr>\n",
       "      <th>Predicted</th>\n",
       "      <td>0</td>\n",
       "      <td>0</td>\n",
       "      <td>1</td>\n",
       "      <td>0</td>\n",
       "      <td>1</td>\n",
       "      <td>1</td>\n",
       "      <td>1</td>\n",
       "      <td>0</td>\n",
       "      <td>0</td>\n",
       "      <td>0</td>\n",
       "      <td>...</td>\n",
       "      <td>0</td>\n",
       "      <td>1</td>\n",
       "      <td>0</td>\n",
       "      <td>1</td>\n",
       "      <td>1</td>\n",
       "      <td>0</td>\n",
       "      <td>1</td>\n",
       "      <td>1</td>\n",
       "      <td>1</td>\n",
       "      <td>0</td>\n",
       "    </tr>\n",
       "    <tr>\n",
       "      <th>Original</th>\n",
       "      <td>0</td>\n",
       "      <td>0</td>\n",
       "      <td>1</td>\n",
       "      <td>0</td>\n",
       "      <td>1</td>\n",
       "      <td>0</td>\n",
       "      <td>1</td>\n",
       "      <td>0</td>\n",
       "      <td>1</td>\n",
       "      <td>1</td>\n",
       "      <td>...</td>\n",
       "      <td>0</td>\n",
       "      <td>0</td>\n",
       "      <td>0</td>\n",
       "      <td>1</td>\n",
       "      <td>1</td>\n",
       "      <td>0</td>\n",
       "      <td>1</td>\n",
       "      <td>1</td>\n",
       "      <td>1</td>\n",
       "      <td>0</td>\n",
       "    </tr>\n",
       "  </tbody>\n",
       "</table>\n",
       "<p>2 rows × 179 columns</p>\n",
       "</div>"
      ],
      "text/plain": [
       "           0    1    2    3    4    5    6    7    8    9    ...  169  170  \\\n",
       "Predicted    0    0    1    0    1    1    1    0    0    0  ...    0    1   \n",
       "Original     0    0    1    0    1    0    1    0    1    1  ...    0    0   \n",
       "\n",
       "           171  172  173  174  175  176  177  178  \n",
       "Predicted    0    1    1    0    1    1    1    0  \n",
       "Original     0    1    1    0    1    1    1    0  \n",
       "\n",
       "[2 rows x 179 columns]"
      ]
     },
     "execution_count": 50,
     "metadata": {},
     "output_type": "execute_result"
    }
   ],
   "source": [
    "conclusion"
   ]
  },
  {
   "cell_type": "code",
   "execution_count": null,
   "id": "a369dd3d",
   "metadata": {},
   "outputs": [],
   "source": []
  }
 ],
 "metadata": {
  "kernelspec": {
   "display_name": "Python 3 (ipykernel)",
   "language": "python",
   "name": "python3"
  },
  "language_info": {
   "codemirror_mode": {
    "name": "ipython",
    "version": 3
   },
   "file_extension": ".py",
   "mimetype": "text/x-python",
   "name": "python",
   "nbconvert_exporter": "python",
   "pygments_lexer": "ipython3",
   "version": "3.9.12"
  }
 },
 "nbformat": 4,
 "nbformat_minor": 5
}
