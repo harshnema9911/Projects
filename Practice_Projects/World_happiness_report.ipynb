{
 "cells": [
  {
   "cell_type": "code",
   "execution_count": 1,
   "id": "7351b9c7",
   "metadata": {},
   "outputs": [
    {
     "data": {
      "text/html": [
       "<style>.container {width: 100% !impoprtant; }</style>"
      ],
      "text/plain": [
       "<IPython.core.display.HTML object>"
      ]
     },
     "metadata": {},
     "output_type": "display_data"
    }
   ],
   "source": [
    "import pandas as pd\n",
    "import numpy as np\n",
    "from IPython.display import display, HTML\n",
    "display(HTML(\"<style>.container {width: 100% !impoprtant; }</style>\"))\n",
    "import seaborn as sns\n",
    "import matplotlib.pyplot as plt\n",
    "import warnings\n",
    "warnings.filterwarnings('ignore')\n",
    "%matplotlib inline"
   ]
  },
  {
   "cell_type": "code",
   "execution_count": 2,
   "id": "4b911fab",
   "metadata": {},
   "outputs": [],
   "source": [
    "df = pd.read_csv('https://raw.githubusercontent.com/dsrscientist/DSData/master/happiness_score_dataset.csv')"
   ]
  },
  {
   "cell_type": "markdown",
   "id": "39bcad7d",
   "metadata": {},
   "source": [
    "The World Happiness Report is a landmark survey of the state of global happiness. The first report was published in 2012, the second in 2013, the third in 2015, and the fourth in the 2016 Update. The World Happiness 2017, which ranks 155 countries by their happiness levels, was released at the United Nations at an event celebrating International Day of Happiness on March 20th. The report continues to gain global recognition as governments, organizations and civil society increasingly use happiness indicators to inform their policy-making decisions. Leading experts across fields – economics, psychology, survey analysis, national statistics, health, public policy and more – describe how measurements of well-being can be used effectively to assess the progress of nations. The reports review the state of happiness in the world today and show how the new science of happiness explains personal and national variations in happiness.\n",
    "\n",
    "**What is Dystopia?**\n",
    "\n",
    "\n",
    "Dystopia is an imaginary country that has the world’s least-happy people. The purpose in establishing Dystopia is to have a benchmark against which all countries can be favorably compared (no country performs more poorly than Dystopia) in terms of each of the six key variables, thus allowing each sub-bar to be of positive width. The lowest scores observed for the six key variables, therefore, characterize Dystopia. Since life would be very unpleasant in a country with the world’s lowest incomes, lowest life expectancy, lowest generosity, most corruption, least freedom and least social support, it is referred to as “Dystopia,” in contrast to Utopia."
   ]
  },
  {
   "cell_type": "code",
   "execution_count": 3,
   "id": "613be2bc",
   "metadata": {},
   "outputs": [
    {
     "data": {
      "text/html": [
       "<div>\n",
       "<style scoped>\n",
       "    .dataframe tbody tr th:only-of-type {\n",
       "        vertical-align: middle;\n",
       "    }\n",
       "\n",
       "    .dataframe tbody tr th {\n",
       "        vertical-align: top;\n",
       "    }\n",
       "\n",
       "    .dataframe thead th {\n",
       "        text-align: right;\n",
       "    }\n",
       "</style>\n",
       "<table border=\"1\" class=\"dataframe\">\n",
       "  <thead>\n",
       "    <tr style=\"text-align: right;\">\n",
       "      <th></th>\n",
       "      <th>Country</th>\n",
       "      <th>Region</th>\n",
       "      <th>Happiness Rank</th>\n",
       "      <th>Happiness Score</th>\n",
       "      <th>Standard Error</th>\n",
       "      <th>Economy (GDP per Capita)</th>\n",
       "      <th>Family</th>\n",
       "      <th>Health (Life Expectancy)</th>\n",
       "      <th>Freedom</th>\n",
       "      <th>Trust (Government Corruption)</th>\n",
       "      <th>Generosity</th>\n",
       "      <th>Dystopia Residual</th>\n",
       "    </tr>\n",
       "  </thead>\n",
       "  <tbody>\n",
       "    <tr>\n",
       "      <th>0</th>\n",
       "      <td>Switzerland</td>\n",
       "      <td>Western Europe</td>\n",
       "      <td>1</td>\n",
       "      <td>7.587</td>\n",
       "      <td>0.03411</td>\n",
       "      <td>1.39651</td>\n",
       "      <td>1.34951</td>\n",
       "      <td>0.94143</td>\n",
       "      <td>0.66557</td>\n",
       "      <td>0.41978</td>\n",
       "      <td>0.29678</td>\n",
       "      <td>2.51738</td>\n",
       "    </tr>\n",
       "    <tr>\n",
       "      <th>1</th>\n",
       "      <td>Iceland</td>\n",
       "      <td>Western Europe</td>\n",
       "      <td>2</td>\n",
       "      <td>7.561</td>\n",
       "      <td>0.04884</td>\n",
       "      <td>1.30232</td>\n",
       "      <td>1.40223</td>\n",
       "      <td>0.94784</td>\n",
       "      <td>0.62877</td>\n",
       "      <td>0.14145</td>\n",
       "      <td>0.43630</td>\n",
       "      <td>2.70201</td>\n",
       "    </tr>\n",
       "    <tr>\n",
       "      <th>2</th>\n",
       "      <td>Denmark</td>\n",
       "      <td>Western Europe</td>\n",
       "      <td>3</td>\n",
       "      <td>7.527</td>\n",
       "      <td>0.03328</td>\n",
       "      <td>1.32548</td>\n",
       "      <td>1.36058</td>\n",
       "      <td>0.87464</td>\n",
       "      <td>0.64938</td>\n",
       "      <td>0.48357</td>\n",
       "      <td>0.34139</td>\n",
       "      <td>2.49204</td>\n",
       "    </tr>\n",
       "    <tr>\n",
       "      <th>3</th>\n",
       "      <td>Norway</td>\n",
       "      <td>Western Europe</td>\n",
       "      <td>4</td>\n",
       "      <td>7.522</td>\n",
       "      <td>0.03880</td>\n",
       "      <td>1.45900</td>\n",
       "      <td>1.33095</td>\n",
       "      <td>0.88521</td>\n",
       "      <td>0.66973</td>\n",
       "      <td>0.36503</td>\n",
       "      <td>0.34699</td>\n",
       "      <td>2.46531</td>\n",
       "    </tr>\n",
       "    <tr>\n",
       "      <th>4</th>\n",
       "      <td>Canada</td>\n",
       "      <td>North America</td>\n",
       "      <td>5</td>\n",
       "      <td>7.427</td>\n",
       "      <td>0.03553</td>\n",
       "      <td>1.32629</td>\n",
       "      <td>1.32261</td>\n",
       "      <td>0.90563</td>\n",
       "      <td>0.63297</td>\n",
       "      <td>0.32957</td>\n",
       "      <td>0.45811</td>\n",
       "      <td>2.45176</td>\n",
       "    </tr>\n",
       "  </tbody>\n",
       "</table>\n",
       "</div>"
      ],
      "text/plain": [
       "       Country          Region  Happiness Rank  Happiness Score  \\\n",
       "0  Switzerland  Western Europe               1            7.587   \n",
       "1      Iceland  Western Europe               2            7.561   \n",
       "2      Denmark  Western Europe               3            7.527   \n",
       "3       Norway  Western Europe               4            7.522   \n",
       "4       Canada   North America               5            7.427   \n",
       "\n",
       "   Standard Error  Economy (GDP per Capita)   Family  \\\n",
       "0         0.03411                   1.39651  1.34951   \n",
       "1         0.04884                   1.30232  1.40223   \n",
       "2         0.03328                   1.32548  1.36058   \n",
       "3         0.03880                   1.45900  1.33095   \n",
       "4         0.03553                   1.32629  1.32261   \n",
       "\n",
       "   Health (Life Expectancy)  Freedom  Trust (Government Corruption)  \\\n",
       "0                   0.94143  0.66557                        0.41978   \n",
       "1                   0.94784  0.62877                        0.14145   \n",
       "2                   0.87464  0.64938                        0.48357   \n",
       "3                   0.88521  0.66973                        0.36503   \n",
       "4                   0.90563  0.63297                        0.32957   \n",
       "\n",
       "   Generosity  Dystopia Residual  \n",
       "0     0.29678            2.51738  \n",
       "1     0.43630            2.70201  \n",
       "2     0.34139            2.49204  \n",
       "3     0.34699            2.46531  \n",
       "4     0.45811            2.45176  "
      ]
     },
     "execution_count": 3,
     "metadata": {},
     "output_type": "execute_result"
    }
   ],
   "source": [
    "df.head()"
   ]
  },
  {
   "cell_type": "code",
   "execution_count": 4,
   "id": "a1cd1c06",
   "metadata": {},
   "outputs": [
    {
     "data": {
      "text/plain": [
       "(158, 12)"
      ]
     },
     "execution_count": 4,
     "metadata": {},
     "output_type": "execute_result"
    }
   ],
   "source": [
    "df.shape"
   ]
  },
  {
   "cell_type": "code",
   "execution_count": 5,
   "id": "45ed3d99",
   "metadata": {},
   "outputs": [
    {
     "data": {
      "text/plain": [
       "Index(['Country', 'Region', 'Happiness Rank', 'Happiness Score',\n",
       "       'Standard Error', 'Economy (GDP per Capita)', 'Family',\n",
       "       'Health (Life Expectancy)', 'Freedom', 'Trust (Government Corruption)',\n",
       "       'Generosity', 'Dystopia Residual'],\n",
       "      dtype='object')"
      ]
     },
     "execution_count": 5,
     "metadata": {},
     "output_type": "execute_result"
    }
   ],
   "source": [
    "df.columns"
   ]
  },
  {
   "cell_type": "markdown",
   "id": "bf494d93",
   "metadata": {},
   "source": [
    "The following columns:\n",
    "\n",
    "* GDP per Capita\n",
    "* Family\n",
    "* Life Expectancy\n",
    "* Freedom \n",
    "* Generosity\n",
    "* Trust (Government Corruption)\n",
    "\n",
    "describe the extent to which these factors contribute in evaluating the happiness in each country.\n",
    "\n",
    "* **Dystopia Residual** metric actually is the Dystopia Happiness Score(1.85) + the Residual value or the unexplained value for each country.\n",
    "\n",
    "**What are the residuals?**\n",
    "\n",
    "**The residuals**, or unexplained components, differ for each country, reflecting the extent to which the six variables either over- or under-explain average life evaluations. These residuals have an average value of approximately zero over the whole set of countries. "
   ]
  },
  {
   "cell_type": "code",
   "execution_count": 6,
   "id": "f92acc5a",
   "metadata": {},
   "outputs": [
    {
     "data": {
      "text/plain": [
       "Country                          0\n",
       "Region                           0\n",
       "Happiness Rank                   0\n",
       "Happiness Score                  0\n",
       "Standard Error                   0\n",
       "Economy (GDP per Capita)         0\n",
       "Family                           0\n",
       "Health (Life Expectancy)         0\n",
       "Freedom                          0\n",
       "Trust (Government Corruption)    0\n",
       "Generosity                       0\n",
       "Dystopia Residual                0\n",
       "dtype: int64"
      ]
     },
     "execution_count": 6,
     "metadata": {},
     "output_type": "execute_result"
    }
   ],
   "source": [
    "df.isnull().sum()"
   ]
  },
  {
   "cell_type": "markdown",
   "id": "1092d5ba",
   "metadata": {},
   "source": [
    "**No null values present in the dataset. Good to go.**"
   ]
  },
  {
   "cell_type": "markdown",
   "id": "9f8cee29",
   "metadata": {},
   "source": [
    "**Checking the datatypes of the columns**"
   ]
  },
  {
   "cell_type": "code",
   "execution_count": 7,
   "id": "ab29931b",
   "metadata": {},
   "outputs": [
    {
     "data": {
      "text/plain": [
       "Country                           object\n",
       "Region                            object\n",
       "Happiness Rank                     int64\n",
       "Happiness Score                  float64\n",
       "Standard Error                   float64\n",
       "Economy (GDP per Capita)         float64\n",
       "Family                           float64\n",
       "Health (Life Expectancy)         float64\n",
       "Freedom                          float64\n",
       "Trust (Government Corruption)    float64\n",
       "Generosity                       float64\n",
       "Dystopia Residual                float64\n",
       "dtype: object"
      ]
     },
     "execution_count": 7,
     "metadata": {},
     "output_type": "execute_result"
    }
   ],
   "source": [
    "df.dtypes"
   ]
  },
  {
   "cell_type": "markdown",
   "id": "0fc7a26a",
   "metadata": {},
   "source": [
    "**In the above dataset, the target is to predict the Happiness Score. We can observe that 'Happiness Score' has continuous data and float as data type.This dataset can be viewed as Regression task.**"
   ]
  },
  {
   "cell_type": "markdown",
   "id": "b4a9998d",
   "metadata": {},
   "source": [
    "**Making DataFrame for Nominal data**"
   ]
  },
  {
   "cell_type": "code",
   "execution_count": 8,
   "id": "3c75729e",
   "metadata": {},
   "outputs": [],
   "source": [
    "df_nominal = df[['Country','Region']]"
   ]
  },
  {
   "cell_type": "code",
   "execution_count": 9,
   "id": "d8ac4579",
   "metadata": {},
   "outputs": [
    {
     "data": {
      "text/plain": [
       "Index(['Country', 'Region'], dtype='object')"
      ]
     },
     "execution_count": 9,
     "metadata": {},
     "output_type": "execute_result"
    }
   ],
   "source": [
    "df_nominal.columns"
   ]
  },
  {
   "cell_type": "code",
   "execution_count": 10,
   "id": "7bef0895",
   "metadata": {},
   "outputs": [
    {
     "data": {
      "image/png": "[encoded data removed]",
      "text/plain": [
       "<Figure size 360x360 with 1 Axes>"
      ]
     },
     "metadata": {
      "needs_background": "light"
     },
     "output_type": "display_data"
    }
   ],
   "source": [
    "ax = sns.catplot(x='Country',y='Region',data = df_nominal,kind='swarm')"
   ]
  },
  {
   "cell_type": "markdown",
   "id": "cbde8c6f",
   "metadata": {},
   "source": [
    "**Making DataFrame for continuous data**"
   ]
  },
  {
   "cell_type": "code",
   "execution_count": 11,
   "id": "4dbafbba",
   "metadata": {},
   "outputs": [],
   "source": [
    "df_cont = df[['Happiness Score','Standard Error','Economy (GDP per Capita)','Family',\n",
    "       'Health (Life Expectancy)', 'Freedom', 'Trust (Government Corruption)',\n",
    "       'Generosity', 'Dystopia Residual']]"
   ]
  },
  {
   "cell_type": "code",
   "execution_count": 12,
   "id": "c532b4b2",
   "metadata": {},
   "outputs": [
    {
     "data": {
      "text/html": [
       "<div>\n",
       "<style scoped>\n",
       "    .dataframe tbody tr th:only-of-type {\n",
       "        vertical-align: middle;\n",
       "    }\n",
       "\n",
       "    .dataframe tbody tr th {\n",
       "        vertical-align: top;\n",
       "    }\n",
       "\n",
       "    .dataframe thead th {\n",
       "        text-align: right;\n",
       "    }\n",
       "</style>\n",
       "<table border=\"1\" class=\"dataframe\">\n",
       "  <thead>\n",
       "    <tr style=\"text-align: right;\">\n",
       "      <th></th>\n",
       "      <th>Happiness Score</th>\n",
       "      <th>Standard Error</th>\n",
       "      <th>Economy (GDP per Capita)</th>\n",
       "      <th>Family</th>\n",
       "      <th>Health (Life Expectancy)</th>\n",
       "      <th>Freedom</th>\n",
       "      <th>Trust (Government Corruption)</th>\n",
       "      <th>Generosity</th>\n",
       "      <th>Dystopia Residual</th>\n",
       "    </tr>\n",
       "  </thead>\n",
       "  <tbody>\n",
       "    <tr>\n",
       "      <th>count</th>\n",
       "      <td>158.000000</td>\n",
       "      <td>158.000000</td>\n",
       "      <td>158.000000</td>\n",
       "      <td>158.000000</td>\n",
       "      <td>158.000000</td>\n",
       "      <td>158.000000</td>\n",
       "      <td>158.000000</td>\n",
       "      <td>158.000000</td>\n",
       "      <td>158.000000</td>\n",
       "    </tr>\n",
       "    <tr>\n",
       "      <th>mean</th>\n",
       "      <td>5.375734</td>\n",
       "      <td>0.047885</td>\n",
       "      <td>0.846137</td>\n",
       "      <td>0.991046</td>\n",
       "      <td>0.630259</td>\n",
       "      <td>0.428615</td>\n",
       "      <td>0.143422</td>\n",
       "      <td>0.237296</td>\n",
       "      <td>2.098977</td>\n",
       "    </tr>\n",
       "    <tr>\n",
       "      <th>std</th>\n",
       "      <td>1.145010</td>\n",
       "      <td>0.017146</td>\n",
       "      <td>0.403121</td>\n",
       "      <td>0.272369</td>\n",
       "      <td>0.247078</td>\n",
       "      <td>0.150693</td>\n",
       "      <td>0.120034</td>\n",
       "      <td>0.126685</td>\n",
       "      <td>0.553550</td>\n",
       "    </tr>\n",
       "    <tr>\n",
       "      <th>min</th>\n",
       "      <td>2.839000</td>\n",
       "      <td>0.018480</td>\n",
       "      <td>0.000000</td>\n",
       "      <td>0.000000</td>\n",
       "      <td>0.000000</td>\n",
       "      <td>0.000000</td>\n",
       "      <td>0.000000</td>\n",
       "      <td>0.000000</td>\n",
       "      <td>0.328580</td>\n",
       "    </tr>\n",
       "    <tr>\n",
       "      <th>25%</th>\n",
       "      <td>4.526000</td>\n",
       "      <td>0.037268</td>\n",
       "      <td>0.545808</td>\n",
       "      <td>0.856823</td>\n",
       "      <td>0.439185</td>\n",
       "      <td>0.328330</td>\n",
       "      <td>0.061675</td>\n",
       "      <td>0.150553</td>\n",
       "      <td>1.759410</td>\n",
       "    </tr>\n",
       "    <tr>\n",
       "      <th>50%</th>\n",
       "      <td>5.232500</td>\n",
       "      <td>0.043940</td>\n",
       "      <td>0.910245</td>\n",
       "      <td>1.029510</td>\n",
       "      <td>0.696705</td>\n",
       "      <td>0.435515</td>\n",
       "      <td>0.107220</td>\n",
       "      <td>0.216130</td>\n",
       "      <td>2.095415</td>\n",
       "    </tr>\n",
       "    <tr>\n",
       "      <th>75%</th>\n",
       "      <td>6.243750</td>\n",
       "      <td>0.052300</td>\n",
       "      <td>1.158448</td>\n",
       "      <td>1.214405</td>\n",
       "      <td>0.811013</td>\n",
       "      <td>0.549092</td>\n",
       "      <td>0.180255</td>\n",
       "      <td>0.309883</td>\n",
       "      <td>2.462415</td>\n",
       "    </tr>\n",
       "    <tr>\n",
       "      <th>max</th>\n",
       "      <td>7.587000</td>\n",
       "      <td>0.136930</td>\n",
       "      <td>1.690420</td>\n",
       "      <td>1.402230</td>\n",
       "      <td>1.025250</td>\n",
       "      <td>0.669730</td>\n",
       "      <td>0.551910</td>\n",
       "      <td>0.795880</td>\n",
       "      <td>3.602140</td>\n",
       "    </tr>\n",
       "  </tbody>\n",
       "</table>\n",
       "</div>"
      ],
      "text/plain": [
       "       Happiness Score  Standard Error  Economy (GDP per Capita)      Family  \\\n",
       "count       158.000000      158.000000                158.000000  158.000000   \n",
       "mean          5.375734        0.047885                  0.846137    0.991046   \n",
       "std           1.145010        0.017146                  0.403121    0.272369   \n",
       "min           2.839000        0.018480                  0.000000    0.000000   \n",
       "25%           4.526000        0.037268                  0.545808    0.856823   \n",
       "50%           5.232500        0.043940                  0.910245    1.029510   \n",
       "75%           6.243750        0.052300                  1.158448    1.214405   \n",
       "max           7.587000        0.136930                  1.690420    1.402230   \n",
       "\n",
       "       Health (Life Expectancy)     Freedom  Trust (Government Corruption)  \\\n",
       "count                158.000000  158.000000                     158.000000   \n",
       "mean                   0.630259    0.428615                       0.143422   \n",
       "std                    0.247078    0.150693                       0.120034   \n",
       "min                    0.000000    0.000000                       0.000000   \n",
       "25%                    0.439185    0.328330                       0.061675   \n",
       "50%                    0.696705    0.435515                       0.107220   \n",
       "75%                    0.811013    0.549092                       0.180255   \n",
       "max                    1.025250    0.669730                       0.551910   \n",
       "\n",
       "       Generosity  Dystopia Residual  \n",
       "count  158.000000         158.000000  \n",
       "mean     0.237296           2.098977  \n",
       "std      0.126685           0.553550  \n",
       "min      0.000000           0.328580  \n",
       "25%      0.150553           1.759410  \n",
       "50%      0.216130           2.095415  \n",
       "75%      0.309883           2.462415  \n",
       "max      0.795880           3.602140  "
      ]
     },
     "execution_count": 12,
     "metadata": {},
     "output_type": "execute_result"
    }
   ],
   "source": [
    "df_cont.describe()"
   ]
  },
  {
   "cell_type": "markdown",
   "id": "1e89cde9",
   "metadata": {},
   "source": [
    "**Observations:**\n",
    "\n",
    "1. Happiness Score: \n",
    "\n",
    "* Count - 158 means no null values present\n",
    "* Min value - 2.839000\n",
    "* Max value - 7.587000\n",
    "* Mean value - 5.375734\n",
    "\n",
    "2. Standard Error:\n",
    "\n",
    "* Count - 158 means no null values present\n",
    "* Min value - 0.018480\n",
    "* Max value - 0.136930\n",
    "* Mean value - 0.047885\n",
    "\n",
    "3. Economy (GDP per Capita):\n",
    "\n",
    "* Count - 158 means no null values present\n",
    "* Min value - 0.00000\n",
    "* Max value - 1.690420\n",
    "* Mean value - 0.846137\n",
    "\n",
    "4. Family:\n",
    "\n",
    "* Count - 158 means no null values present\n",
    "* Min value - 0.00000\n",
    "* Max value - 1.402230\n",
    "* Mean value - 0.991046\n",
    "\n",
    "5. Health (Life Expectancy):\n",
    "\n",
    "* Count - 158 means no null values present\n",
    "* Min value - 0.00000\n",
    "* Max value - 1.025250\n",
    "* Mean value - 0.630259\n",
    "\n",
    "6. Freedom:\n",
    "\n",
    "* Count - 158 means no null values present\n",
    "* Min value - 0.00000\n",
    "* Max value - 0.669730\n",
    "* Mean value - 0.428615\n",
    "\n",
    "7. Trust (Government Corruption):\n",
    "\n",
    "* Count - 158 means no null values present\n",
    "* Min value - 0.00000\n",
    "* Max value - 0.551910\n",
    "* Mean value - 0.143422\n",
    "\n",
    "8. Generosity:\n",
    "\n",
    "* Count - 158 means no null values present\n",
    "* Min value - 0.00000\n",
    "* Max value - 0.795880\n",
    "* Mean value - 0.237296\n",
    "\n",
    "9. Dystopia Residual:\n",
    "\n",
    "* Count - 158 means no null values present\n",
    "* Min value - 0.328580\n",
    "* Max value - 3.602140\n",
    "* Mean value - 2.098977"
   ]
  },
  {
   "cell_type": "code",
   "execution_count": 13,
   "id": "9498e7e8",
   "metadata": {},
   "outputs": [
    {
     "data": {
      "image/png": "[encoded data removed]",
      "text/plain": [
       "<Figure size 1080x1440 with 9 Axes>"
      ]
     },
     "metadata": {
      "needs_background": "light"
     },
     "output_type": "display_data"
    }
   ],
   "source": [
    "# Distribution plot\n",
    "plt.figure(figsize = (15,20))\n",
    "plotnumber=1\n",
    "\n",
    "for column in df_cont:\n",
    "    if plotnumber<=12:\n",
    "        ax = plt.subplot(5,3,plotnumber)\n",
    "        sns.distplot(df_cont[column])\n",
    "        plt.xlabel(column,fontsize =10)\n",
    "    plotnumber+=1\n",
    "plt.show()"
   ]
  },
  {
   "cell_type": "markdown",
   "id": "c7aca841",
   "metadata": {},
   "source": [
    "**We can observe from the distribution plot of the features that:**\n",
    "\n",
    "a) Data distribution of **'Happiness score'** is normally distributed.\n",
    "\n",
    "b) **'Standard Error'** data is positively skewed.\n",
    "\n",
    "c) **'Economy(GDP per capia)'** data looks normally distributed.\n",
    "\n",
    "d) **'Family'** data is negatively skewed.\n",
    "\n",
    "e) **'Health (Life Expectancy)'** data is negatively skewed.\n",
    "\n",
    "f) **'Freedom'** data looks normally distributed.\n",
    "\n",
    "g) **'Trust(Government corruption)'** is positively skewed.\n",
    "\n",
    "h) **'Generosity'** data is positively skewed.\n",
    "\n",
    "i) **'Dystopia Residual'** is normally distributed.\n",
    "\n",
    "Lets check the skewnes present in the data"
   ]
  },
  {
   "cell_type": "code",
   "execution_count": 14,
   "id": "6915412d",
   "metadata": {},
   "outputs": [
    {
     "data": {
      "text/plain": [
       "Happiness Score                  0.097769\n",
       "Standard Error                   1.983439\n",
       "Economy (GDP per Capita)        -0.317575\n",
       "Family                          -1.006893\n",
       "Health (Life Expectancy)        -0.705328\n",
       "Freedom                         -0.413462\n",
       "Trust (Government Corruption)    1.385463\n",
       "Generosity                       1.001961\n",
       "Dystopia Residual               -0.238911\n",
       "dtype: float64"
      ]
     },
     "execution_count": 14,
     "metadata": {},
     "output_type": "execute_result"
    }
   ],
   "source": [
    "df_cont.skew()"
   ]
  },
  {
   "cell_type": "markdown",
   "id": "5d81f776",
   "metadata": {},
   "source": [
    "**Keeping +/-0.5 as the range of skewness, here are the columns which does not lie within this range.**\n",
    "\n",
    "* Standard Error\n",
    "\n",
    "* Family\n",
    "\n",
    "* Health (Life Expectancy)\n",
    "\n",
    "* Trust (Government Corruption)\n",
    "\n",
    "* Generosity"
   ]
  },
  {
   "cell_type": "markdown",
   "id": "340c6a1d",
   "metadata": {},
   "source": [
    "# Correlation of the columns with the target column (Heatmap)"
   ]
  },
  {
   "cell_type": "code",
   "execution_count": 17,
   "id": "905bdec1",
   "metadata": {},
   "outputs": [
    {
     "data": {
      "image/png": "[encoded data removed]",
      "text/plain": [
       "<Figure size 1008x720 with 2 Axes>"
      ]
     },
     "metadata": {
      "needs_background": "light"
     },
     "output_type": "display_data"
    }
   ],
   "source": [
    "df_corr = df.corr().abs()\n",
    "\n",
    "plt.figure(figsize = (14,10))\n",
    "\n",
    "sns.heatmap(df_corr,annot = True,annot_kws = {'size':10},linecolor='black',linewidth=0.2)\n",
    "\n",
    "plt.show()"
   ]
  },
  {
   "cell_type": "markdown",
   "id": "823f184d",
   "metadata": {},
   "source": [
    "* **Happiness Rank** is strongly correlated with **Happiness Score**. So we can **drop** the column of **Happiness Rank**.\n",
    "\n",
    "\n",
    "* **Health(Life Expectancy)** is positively correlated with **Economy(GDP per capita)**. Need to check the multi collinearity    between them."
   ]
  },
  {
   "cell_type": "markdown",
   "id": "d536ed7b",
   "metadata": {},
   "source": [
    "# Skewness treatment using PowerTransformer"
   ]
  },
  {
   "cell_type": "code",
   "execution_count": 20,
   "id": "aed6d3e1",
   "metadata": {},
   "outputs": [],
   "source": [
    "from sklearn.preprocessing import PowerTransformer"
   ]
  },
  {
   "cell_type": "code",
   "execution_count": 21,
   "id": "6e193d1e",
   "metadata": {},
   "outputs": [],
   "source": [
    "pt = PowerTransformer()"
   ]
  },
  {
   "cell_type": "markdown",
   "id": "496a75a6",
   "metadata": {},
   "source": [
    "**Seperating features and target variable and also dropping Happiness Rank from the feature due to strong correlation with\n",
    "the target and dropping categorical columns 'Country' and 'Region' as they are nominal**"
   ]
  },
  {
   "cell_type": "code",
   "execution_count": 18,
   "id": "052783e2",
   "metadata": {},
   "outputs": [],
   "source": [
    "\n",
    "X = df.drop(['Happiness Score','Country', 'Region', 'Happiness Rank'],axis=1)\n",
    "y= df['Happiness Score']"
   ]
  },
  {
   "cell_type": "code",
   "execution_count": 22,
   "id": "7d686dc5",
   "metadata": {},
   "outputs": [],
   "source": [
    "X_new_pt = pt.fit_transform(X)"
   ]
  },
  {
   "cell_type": "code",
   "execution_count": 23,
   "id": "f7e57bb0",
   "metadata": {},
   "outputs": [],
   "source": [
    "# Converting numpy array(X_new_pt) into Dataframe and reassigning the values\n",
    "\n",
    "X = pd.DataFrame(X_new_pt,columns= X.columns)"
   ]
  },
  {
   "cell_type": "code",
   "execution_count": 24,
   "id": "85f648a2",
   "metadata": {},
   "outputs": [
    {
     "data": {
      "text/plain": [
       "Trust (Government Corruption)    0.185965\n",
       "Dystopia Residual                0.022925\n",
       "Generosity                       0.013320\n",
       "Standard Error                  -0.020092\n",
       "Freedom                         -0.080728\n",
       "Economy (GDP per Capita)        -0.127233\n",
       "Family                          -0.169651\n",
       "Health (Life Expectancy)        -0.183181\n",
       "dtype: float64"
      ]
     },
     "execution_count": 24,
     "metadata": {},
     "output_type": "execute_result"
    }
   ],
   "source": [
    "# Checking Skewness\n",
    "X.skew().sort_values(ascending=False)"
   ]
  },
  {
   "cell_type": "markdown",
   "id": "316122bd",
   "metadata": {},
   "source": [
    "**Skewness reduced in the features data and varies in the range from (-0.18 to 0.18)**"
   ]
  },
  {
   "cell_type": "code",
   "execution_count": 25,
   "id": "7ee0d4d2",
   "metadata": {},
   "outputs": [],
   "source": [
    "df_new = X"
   ]
  },
  {
   "cell_type": "code",
   "execution_count": 26,
   "id": "aad9deff",
   "metadata": {},
   "outputs": [],
   "source": [
    "df_new['Happiness Score'] = y"
   ]
  },
  {
   "cell_type": "code",
   "execution_count": 27,
   "id": "53b18b9e",
   "metadata": {},
   "outputs": [
    {
     "data": {
      "text/html": [
       "<div>\n",
       "<style scoped>\n",
       "    .dataframe tbody tr th:only-of-type {\n",
       "        vertical-align: middle;\n",
       "    }\n",
       "\n",
       "    .dataframe tbody tr th {\n",
       "        vertical-align: top;\n",
       "    }\n",
       "\n",
       "    .dataframe thead th {\n",
       "        text-align: right;\n",
       "    }\n",
       "</style>\n",
       "<table border=\"1\" class=\"dataframe\">\n",
       "  <thead>\n",
       "    <tr style=\"text-align: right;\">\n",
       "      <th></th>\n",
       "      <th>Standard Error</th>\n",
       "      <th>Economy (GDP per Capita)</th>\n",
       "      <th>Family</th>\n",
       "      <th>Health (Life Expectancy)</th>\n",
       "      <th>Freedom</th>\n",
       "      <th>Trust (Government Corruption)</th>\n",
       "      <th>Generosity</th>\n",
       "      <th>Dystopia Residual</th>\n",
       "      <th>Happiness Score</th>\n",
       "    </tr>\n",
       "  </thead>\n",
       "  <tbody>\n",
       "    <tr>\n",
       "      <th>0</th>\n",
       "      <td>-0.972226</td>\n",
       "      <td>1.446061</td>\n",
       "      <td>1.669206</td>\n",
       "      <td>1.491765</td>\n",
       "      <td>1.756335</td>\n",
       "      <td>1.773991</td>\n",
       "      <td>0.622391</td>\n",
       "      <td>0.750992</td>\n",
       "      <td>7.587</td>\n",
       "    </tr>\n",
       "    <tr>\n",
       "      <th>1</th>\n",
       "      <td>0.309350</td>\n",
       "      <td>1.173321</td>\n",
       "      <td>2.012132</td>\n",
       "      <td>1.532348</td>\n",
       "      <td>1.439946</td>\n",
       "      <td>0.315993</td>\n",
       "      <td>1.480995</td>\n",
       "      <td>1.110011</td>\n",
       "      <td>7.561</td>\n",
       "    </tr>\n",
       "    <tr>\n",
       "      <th>2</th>\n",
       "      <td>-1.062017</td>\n",
       "      <td>1.239836</td>\n",
       "      <td>1.739586</td>\n",
       "      <td>1.085223</td>\n",
       "      <td>1.615733</td>\n",
       "      <td>1.906792</td>\n",
       "      <td>0.927973</td>\n",
       "      <td>0.702275</td>\n",
       "      <td>7.527</td>\n",
       "    </tr>\n",
       "    <tr>\n",
       "      <th>3</th>\n",
       "      <td>-0.503610</td>\n",
       "      <td>1.630246</td>\n",
       "      <td>1.553118</td>\n",
       "      <td>1.147600</td>\n",
       "      <td>1.792821</td>\n",
       "      <td>1.624007</td>\n",
       "      <td>0.964080</td>\n",
       "      <td>0.651035</td>\n",
       "      <td>7.522</td>\n",
       "    </tr>\n",
       "    <tr>\n",
       "      <th>4</th>\n",
       "      <td>-0.823548</td>\n",
       "      <td>1.242168</td>\n",
       "      <td>1.501726</td>\n",
       "      <td>1.270179</td>\n",
       "      <td>1.475479</td>\n",
       "      <td>1.503484</td>\n",
       "      <td>1.592224</td>\n",
       "      <td>0.625118</td>\n",
       "      <td>7.427</td>\n",
       "    </tr>\n",
       "    <tr>\n",
       "      <th>...</th>\n",
       "      <td>...</td>\n",
       "      <td>...</td>\n",
       "      <td>...</td>\n",
       "      <td>...</td>\n",
       "      <td>...</td>\n",
       "      <td>...</td>\n",
       "      <td>...</td>\n",
       "      <td>...</td>\n",
       "      <td>...</td>\n",
       "    </tr>\n",
       "    <tr>\n",
       "      <th>153</th>\n",
       "      <td>-0.916014</td>\n",
       "      <td>-1.494046</td>\n",
       "      <td>-0.959885</td>\n",
       "      <td>-0.939459</td>\n",
       "      <td>1.135229</td>\n",
       "      <td>2.012856</td>\n",
       "      <td>0.065304</td>\n",
       "      <td>-2.393259</td>\n",
       "      <td>3.465</td>\n",
       "    </tr>\n",
       "    <tr>\n",
       "      <th>154</th>\n",
       "      <td>-0.719479</td>\n",
       "      <td>-1.360829</td>\n",
       "      <td>-1.896644</td>\n",
       "      <td>-1.276496</td>\n",
       "      <td>0.307514</td>\n",
       "      <td>-0.433835</td>\n",
       "      <td>-0.334169</td>\n",
       "      <td>-0.863565</td>\n",
       "      <td>3.340</td>\n",
       "    </tr>\n",
       "    <tr>\n",
       "      <th>155</th>\n",
       "      <td>0.399137</td>\n",
       "      <td>-0.513469</td>\n",
       "      <td>-1.690664</td>\n",
       "      <td>0.262933</td>\n",
       "      <td>-1.668658</td>\n",
       "      <td>0.738915</td>\n",
       "      <td>1.659336</td>\n",
       "      <td>-2.866216</td>\n",
       "      <td>3.006</td>\n",
       "    </tr>\n",
       "    <tr>\n",
       "      <th>156</th>\n",
       "      <td>1.926902</td>\n",
       "      <td>-1.894954</td>\n",
       "      <td>-1.796803</td>\n",
       "      <td>-1.525700</td>\n",
       "      <td>-1.849903</td>\n",
       "      <td>-0.151946</td>\n",
       "      <td>-0.194829</td>\n",
       "      <td>-0.514801</td>\n",
       "      <td>2.905</td>\n",
       "    </tr>\n",
       "    <tr>\n",
       "      <th>157</th>\n",
       "      <td>1.310323</td>\n",
       "      <td>-1.521226</td>\n",
       "      <td>-2.160397</td>\n",
       "      <td>-1.371811</td>\n",
       "      <td>-0.508362</td>\n",
       "      <td>-0.067326</td>\n",
       "      <td>-0.490415</td>\n",
       "      <td>-0.976645</td>\n",
       "      <td>2.839</td>\n",
       "    </tr>\n",
       "  </tbody>\n",
       "</table>\n",
       "<p>158 rows × 9 columns</p>\n",
       "</div>"
      ],
      "text/plain": [
       "     Standard Error  Economy (GDP per Capita)    Family  \\\n",
       "0         -0.972226                  1.446061  1.669206   \n",
       "1          0.309350                  1.173321  2.012132   \n",
       "2         -1.062017                  1.239836  1.739586   \n",
       "3         -0.503610                  1.630246  1.553118   \n",
       "4         -0.823548                  1.242168  1.501726   \n",
       "..              ...                       ...       ...   \n",
       "153       -0.916014                 -1.494046 -0.959885   \n",
       "154       -0.719479                 -1.360829 -1.896644   \n",
       "155        0.399137                 -0.513469 -1.690664   \n",
       "156        1.926902                 -1.894954 -1.796803   \n",
       "157        1.310323                 -1.521226 -2.160397   \n",
       "\n",
       "     Health (Life Expectancy)   Freedom  Trust (Government Corruption)  \\\n",
       "0                    1.491765  1.756335                       1.773991   \n",
       "1                    1.532348  1.439946                       0.315993   \n",
       "2                    1.085223  1.615733                       1.906792   \n",
       "3                    1.147600  1.792821                       1.624007   \n",
       "4                    1.270179  1.475479                       1.503484   \n",
       "..                        ...       ...                            ...   \n",
       "153                 -0.939459  1.135229                       2.012856   \n",
       "154                 -1.276496  0.307514                      -0.433835   \n",
       "155                  0.262933 -1.668658                       0.738915   \n",
       "156                 -1.525700 -1.849903                      -0.151946   \n",
       "157                 -1.371811 -0.508362                      -0.067326   \n",
       "\n",
       "     Generosity  Dystopia Residual  Happiness Score  \n",
       "0      0.622391           0.750992            7.587  \n",
       "1      1.480995           1.110011            7.561  \n",
       "2      0.927973           0.702275            7.527  \n",
       "3      0.964080           0.651035            7.522  \n",
       "4      1.592224           0.625118            7.427  \n",
       "..          ...                ...              ...  \n",
       "153    0.065304          -2.393259            3.465  \n",
       "154   -0.334169          -0.863565            3.340  \n",
       "155    1.659336          -2.866216            3.006  \n",
       "156   -0.194829          -0.514801            2.905  \n",
       "157   -0.490415          -0.976645            2.839  \n",
       "\n",
       "[158 rows x 9 columns]"
      ]
     },
     "execution_count": 27,
     "metadata": {},
     "output_type": "execute_result"
    }
   ],
   "source": [
    "df_new"
   ]
  },
  {
   "cell_type": "code",
   "execution_count": 28,
   "id": "c9546aa5",
   "metadata": {},
   "outputs": [
    {
     "data": {
      "image/png": "[encoded data removed]",
      "text/plain": [
       "<Figure size 1080x1440 with 9 Axes>"
      ]
     },
     "metadata": {
      "needs_background": "light"
     },
     "output_type": "display_data"
    }
   ],
   "source": [
    "# Checking skewness using Distribution plot\n",
    "plt.figure(figsize = (15,20))\n",
    "plotnumber=1\n",
    "\n",
    "for column in df_new:\n",
    "    if plotnumber<=9:\n",
    "        ax = plt.subplot(5,3,plotnumber)\n",
    "        sns.distplot(df_new[column])\n",
    "        plt.xlabel(column,fontsize =10)\n",
    "    plotnumber+=1\n",
    "plt.show()"
   ]
  },
  {
   "cell_type": "markdown",
   "id": "da65342a",
   "metadata": {},
   "source": [
    "**Adding the categorical columns to the new dataframe**"
   ]
  },
  {
   "cell_type": "code",
   "execution_count": 29,
   "id": "ac6df38d",
   "metadata": {},
   "outputs": [],
   "source": [
    "df_new['Country'] = df['Country']"
   ]
  },
  {
   "cell_type": "code",
   "execution_count": 31,
   "id": "4adb0ce6",
   "metadata": {},
   "outputs": [],
   "source": [
    "df_new['Region'] = df['Region']"
   ]
  },
  {
   "cell_type": "code",
   "execution_count": 32,
   "id": "052359fb",
   "metadata": {},
   "outputs": [
    {
     "data": {
      "text/html": [
       "<div>\n",
       "<style scoped>\n",
       "    .dataframe tbody tr th:only-of-type {\n",
       "        vertical-align: middle;\n",
       "    }\n",
       "\n",
       "    .dataframe tbody tr th {\n",
       "        vertical-align: top;\n",
       "    }\n",
       "\n",
       "    .dataframe thead th {\n",
       "        text-align: right;\n",
       "    }\n",
       "</style>\n",
       "<table border=\"1\" class=\"dataframe\">\n",
       "  <thead>\n",
       "    <tr style=\"text-align: right;\">\n",
       "      <th></th>\n",
       "      <th>Standard Error</th>\n",
       "      <th>Economy (GDP per Capita)</th>\n",
       "      <th>Family</th>\n",
       "      <th>Health (Life Expectancy)</th>\n",
       "      <th>Freedom</th>\n",
       "      <th>Trust (Government Corruption)</th>\n",
       "      <th>Generosity</th>\n",
       "      <th>Dystopia Residual</th>\n",
       "      <th>Happiness Score</th>\n",
       "      <th>Country</th>\n",
       "      <th>Region</th>\n",
       "    </tr>\n",
       "  </thead>\n",
       "  <tbody>\n",
       "    <tr>\n",
       "      <th>0</th>\n",
       "      <td>-0.972226</td>\n",
       "      <td>1.446061</td>\n",
       "      <td>1.669206</td>\n",
       "      <td>1.491765</td>\n",
       "      <td>1.756335</td>\n",
       "      <td>1.773991</td>\n",
       "      <td>0.622391</td>\n",
       "      <td>0.750992</td>\n",
       "      <td>7.587</td>\n",
       "      <td>Switzerland</td>\n",
       "      <td>Western Europe</td>\n",
       "    </tr>\n",
       "    <tr>\n",
       "      <th>1</th>\n",
       "      <td>0.309350</td>\n",
       "      <td>1.173321</td>\n",
       "      <td>2.012132</td>\n",
       "      <td>1.532348</td>\n",
       "      <td>1.439946</td>\n",
       "      <td>0.315993</td>\n",
       "      <td>1.480995</td>\n",
       "      <td>1.110011</td>\n",
       "      <td>7.561</td>\n",
       "      <td>Iceland</td>\n",
       "      <td>Western Europe</td>\n",
       "    </tr>\n",
       "    <tr>\n",
       "      <th>2</th>\n",
       "      <td>-1.062017</td>\n",
       "      <td>1.239836</td>\n",
       "      <td>1.739586</td>\n",
       "      <td>1.085223</td>\n",
       "      <td>1.615733</td>\n",
       "      <td>1.906792</td>\n",
       "      <td>0.927973</td>\n",
       "      <td>0.702275</td>\n",
       "      <td>7.527</td>\n",
       "      <td>Denmark</td>\n",
       "      <td>Western Europe</td>\n",
       "    </tr>\n",
       "    <tr>\n",
       "      <th>3</th>\n",
       "      <td>-0.503610</td>\n",
       "      <td>1.630246</td>\n",
       "      <td>1.553118</td>\n",
       "      <td>1.147600</td>\n",
       "      <td>1.792821</td>\n",
       "      <td>1.624007</td>\n",
       "      <td>0.964080</td>\n",
       "      <td>0.651035</td>\n",
       "      <td>7.522</td>\n",
       "      <td>Norway</td>\n",
       "      <td>Western Europe</td>\n",
       "    </tr>\n",
       "    <tr>\n",
       "      <th>4</th>\n",
       "      <td>-0.823548</td>\n",
       "      <td>1.242168</td>\n",
       "      <td>1.501726</td>\n",
       "      <td>1.270179</td>\n",
       "      <td>1.475479</td>\n",
       "      <td>1.503484</td>\n",
       "      <td>1.592224</td>\n",
       "      <td>0.625118</td>\n",
       "      <td>7.427</td>\n",
       "      <td>Canada</td>\n",
       "      <td>North America</td>\n",
       "    </tr>\n",
       "    <tr>\n",
       "      <th>...</th>\n",
       "      <td>...</td>\n",
       "      <td>...</td>\n",
       "      <td>...</td>\n",
       "      <td>...</td>\n",
       "      <td>...</td>\n",
       "      <td>...</td>\n",
       "      <td>...</td>\n",
       "      <td>...</td>\n",
       "      <td>...</td>\n",
       "      <td>...</td>\n",
       "      <td>...</td>\n",
       "    </tr>\n",
       "    <tr>\n",
       "      <th>153</th>\n",
       "      <td>-0.916014</td>\n",
       "      <td>-1.494046</td>\n",
       "      <td>-0.959885</td>\n",
       "      <td>-0.939459</td>\n",
       "      <td>1.135229</td>\n",
       "      <td>2.012856</td>\n",
       "      <td>0.065304</td>\n",
       "      <td>-2.393259</td>\n",
       "      <td>3.465</td>\n",
       "      <td>Rwanda</td>\n",
       "      <td>Sub-Saharan Africa</td>\n",
       "    </tr>\n",
       "    <tr>\n",
       "      <th>154</th>\n",
       "      <td>-0.719479</td>\n",
       "      <td>-1.360829</td>\n",
       "      <td>-1.896644</td>\n",
       "      <td>-1.276496</td>\n",
       "      <td>0.307514</td>\n",
       "      <td>-0.433835</td>\n",
       "      <td>-0.334169</td>\n",
       "      <td>-0.863565</td>\n",
       "      <td>3.340</td>\n",
       "      <td>Benin</td>\n",
       "      <td>Sub-Saharan Africa</td>\n",
       "    </tr>\n",
       "    <tr>\n",
       "      <th>155</th>\n",
       "      <td>0.399137</td>\n",
       "      <td>-0.513469</td>\n",
       "      <td>-1.690664</td>\n",
       "      <td>0.262933</td>\n",
       "      <td>-1.668658</td>\n",
       "      <td>0.738915</td>\n",
       "      <td>1.659336</td>\n",
       "      <td>-2.866216</td>\n",
       "      <td>3.006</td>\n",
       "      <td>Syria</td>\n",
       "      <td>Middle East and Northern Africa</td>\n",
       "    </tr>\n",
       "    <tr>\n",
       "      <th>156</th>\n",
       "      <td>1.926902</td>\n",
       "      <td>-1.894954</td>\n",
       "      <td>-1.796803</td>\n",
       "      <td>-1.525700</td>\n",
       "      <td>-1.849903</td>\n",
       "      <td>-0.151946</td>\n",
       "      <td>-0.194829</td>\n",
       "      <td>-0.514801</td>\n",
       "      <td>2.905</td>\n",
       "      <td>Burundi</td>\n",
       "      <td>Sub-Saharan Africa</td>\n",
       "    </tr>\n",
       "    <tr>\n",
       "      <th>157</th>\n",
       "      <td>1.310323</td>\n",
       "      <td>-1.521226</td>\n",
       "      <td>-2.160397</td>\n",
       "      <td>-1.371811</td>\n",
       "      <td>-0.508362</td>\n",
       "      <td>-0.067326</td>\n",
       "      <td>-0.490415</td>\n",
       "      <td>-0.976645</td>\n",
       "      <td>2.839</td>\n",
       "      <td>Togo</td>\n",
       "      <td>Sub-Saharan Africa</td>\n",
       "    </tr>\n",
       "  </tbody>\n",
       "</table>\n",
       "<p>158 rows × 11 columns</p>\n",
       "</div>"
      ],
      "text/plain": [
       "     Standard Error  Economy (GDP per Capita)    Family  \\\n",
       "0         -0.972226                  1.446061  1.669206   \n",
       "1          0.309350                  1.173321  2.012132   \n",
       "2         -1.062017                  1.239836  1.739586   \n",
       "3         -0.503610                  1.630246  1.553118   \n",
       "4         -0.823548                  1.242168  1.501726   \n",
       "..              ...                       ...       ...   \n",
       "153       -0.916014                 -1.494046 -0.959885   \n",
       "154       -0.719479                 -1.360829 -1.896644   \n",
       "155        0.399137                 -0.513469 -1.690664   \n",
       "156        1.926902                 -1.894954 -1.796803   \n",
       "157        1.310323                 -1.521226 -2.160397   \n",
       "\n",
       "     Health (Life Expectancy)   Freedom  Trust (Government Corruption)  \\\n",
       "0                    1.491765  1.756335                       1.773991   \n",
       "1                    1.532348  1.439946                       0.315993   \n",
       "2                    1.085223  1.615733                       1.906792   \n",
       "3                    1.147600  1.792821                       1.624007   \n",
       "4                    1.270179  1.475479                       1.503484   \n",
       "..                        ...       ...                            ...   \n",
       "153                 -0.939459  1.135229                       2.012856   \n",
       "154                 -1.276496  0.307514                      -0.433835   \n",
       "155                  0.262933 -1.668658                       0.738915   \n",
       "156                 -1.525700 -1.849903                      -0.151946   \n",
       "157                 -1.371811 -0.508362                      -0.067326   \n",
       "\n",
       "     Generosity  Dystopia Residual  Happiness Score      Country  \\\n",
       "0      0.622391           0.750992            7.587  Switzerland   \n",
       "1      1.480995           1.110011            7.561      Iceland   \n",
       "2      0.927973           0.702275            7.527      Denmark   \n",
       "3      0.964080           0.651035            7.522       Norway   \n",
       "4      1.592224           0.625118            7.427       Canada   \n",
       "..          ...                ...              ...          ...   \n",
       "153    0.065304          -2.393259            3.465       Rwanda   \n",
       "154   -0.334169          -0.863565            3.340        Benin   \n",
       "155    1.659336          -2.866216            3.006        Syria   \n",
       "156   -0.194829          -0.514801            2.905      Burundi   \n",
       "157   -0.490415          -0.976645            2.839         Togo   \n",
       "\n",
       "                              Region  \n",
       "0                     Western Europe  \n",
       "1                     Western Europe  \n",
       "2                     Western Europe  \n",
       "3                     Western Europe  \n",
       "4                      North America  \n",
       "..                               ...  \n",
       "153               Sub-Saharan Africa  \n",
       "154               Sub-Saharan Africa  \n",
       "155  Middle East and Northern Africa  \n",
       "156               Sub-Saharan Africa  \n",
       "157               Sub-Saharan Africa  \n",
       "\n",
       "[158 rows x 11 columns]"
      ]
     },
     "execution_count": 32,
     "metadata": {},
     "output_type": "execute_result"
    }
   ],
   "source": [
    "df_new"
   ]
  },
  {
   "cell_type": "markdown",
   "id": "bed0fdc9",
   "metadata": {},
   "source": [
    "# Outliers Check"
   ]
  },
  {
   "cell_type": "code",
   "execution_count": 33,
   "id": "756f5dbd",
   "metadata": {},
   "outputs": [
    {
     "data": {
      "image/png": "[encoded data removed]",
      "text/plain": [
       "<Figure size 1080x1440 with 9 Axes>"
      ]
     },
     "metadata": {
      "needs_background": "light"
     },
     "output_type": "display_data"
    }
   ],
   "source": [
    "plt.figure(figsize = (15,20))\n",
    "plotnumber=1\n",
    "\n",
    "for column in df_new:\n",
    "    if plotnumber<=9:\n",
    "        ax = plt.subplot(5,3,plotnumber)\n",
    "        sns.boxplot(df_new[column])\n",
    "        plt.xlabel(column,fontsize =10)\n",
    "    plotnumber+=1\n",
    "plt.show()"
   ]
  },
  {
   "cell_type": "markdown",
   "id": "0ece2366",
   "metadata": {},
   "source": [
    "**We will keep the outliers as data is too low to remove the outliers as some important information may be lost**"
   ]
  },
  {
   "cell_type": "markdown",
   "id": "8fd087cf",
   "metadata": {},
   "source": [
    "# Encoding of categorical columns"
   ]
  },
  {
   "cell_type": "code",
   "execution_count": 36,
   "id": "e79c2068",
   "metadata": {},
   "outputs": [],
   "source": [
    "from sklearn.preprocessing import OrdinalEncoder"
   ]
  },
  {
   "cell_type": "code",
   "execution_count": 37,
   "id": "bd344ce1",
   "metadata": {},
   "outputs": [],
   "source": [
    "oen = OrdinalEncoder()"
   ]
  },
  {
   "cell_type": "code",
   "execution_count": 38,
   "id": "469f0fb8",
   "metadata": {},
   "outputs": [],
   "source": [
    "for i in df_new.columns:\n",
    "    if df_new[i].dtypes == \"object\":\n",
    "        df_new[i] = oen.fit_transform(df_new[i].values.reshape(-1,1))"
   ]
  },
  {
   "cell_type": "code",
   "execution_count": 39,
   "id": "d17045c9",
   "metadata": {},
   "outputs": [
    {
     "data": {
      "text/html": [
       "<div>\n",
       "<style scoped>\n",
       "    .dataframe tbody tr th:only-of-type {\n",
       "        vertical-align: middle;\n",
       "    }\n",
       "\n",
       "    .dataframe tbody tr th {\n",
       "        vertical-align: top;\n",
       "    }\n",
       "\n",
       "    .dataframe thead th {\n",
       "        text-align: right;\n",
       "    }\n",
       "</style>\n",
       "<table border=\"1\" class=\"dataframe\">\n",
       "  <thead>\n",
       "    <tr style=\"text-align: right;\">\n",
       "      <th></th>\n",
       "      <th>Standard Error</th>\n",
       "      <th>Economy (GDP per Capita)</th>\n",
       "      <th>Family</th>\n",
       "      <th>Health (Life Expectancy)</th>\n",
       "      <th>Freedom</th>\n",
       "      <th>Trust (Government Corruption)</th>\n",
       "      <th>Generosity</th>\n",
       "      <th>Dystopia Residual</th>\n",
       "      <th>Happiness Score</th>\n",
       "      <th>Country</th>\n",
       "      <th>Region</th>\n",
       "    </tr>\n",
       "  </thead>\n",
       "  <tbody>\n",
       "    <tr>\n",
       "      <th>0</th>\n",
       "      <td>-0.972226</td>\n",
       "      <td>1.446061</td>\n",
       "      <td>1.669206</td>\n",
       "      <td>1.491765</td>\n",
       "      <td>1.756335</td>\n",
       "      <td>1.773991</td>\n",
       "      <td>0.622391</td>\n",
       "      <td>0.750992</td>\n",
       "      <td>7.587</td>\n",
       "      <td>135.0</td>\n",
       "      <td>9.0</td>\n",
       "    </tr>\n",
       "    <tr>\n",
       "      <th>1</th>\n",
       "      <td>0.309350</td>\n",
       "      <td>1.173321</td>\n",
       "      <td>2.012132</td>\n",
       "      <td>1.532348</td>\n",
       "      <td>1.439946</td>\n",
       "      <td>0.315993</td>\n",
       "      <td>1.480995</td>\n",
       "      <td>1.110011</td>\n",
       "      <td>7.561</td>\n",
       "      <td>58.0</td>\n",
       "      <td>9.0</td>\n",
       "    </tr>\n",
       "    <tr>\n",
       "      <th>2</th>\n",
       "      <td>-1.062017</td>\n",
       "      <td>1.239836</td>\n",
       "      <td>1.739586</td>\n",
       "      <td>1.085223</td>\n",
       "      <td>1.615733</td>\n",
       "      <td>1.906792</td>\n",
       "      <td>0.927973</td>\n",
       "      <td>0.702275</td>\n",
       "      <td>7.527</td>\n",
       "      <td>37.0</td>\n",
       "      <td>9.0</td>\n",
       "    </tr>\n",
       "    <tr>\n",
       "      <th>3</th>\n",
       "      <td>-0.503610</td>\n",
       "      <td>1.630246</td>\n",
       "      <td>1.553118</td>\n",
       "      <td>1.147600</td>\n",
       "      <td>1.792821</td>\n",
       "      <td>1.624007</td>\n",
       "      <td>0.964080</td>\n",
       "      <td>0.651035</td>\n",
       "      <td>7.522</td>\n",
       "      <td>105.0</td>\n",
       "      <td>9.0</td>\n",
       "    </tr>\n",
       "    <tr>\n",
       "      <th>4</th>\n",
       "      <td>-0.823548</td>\n",
       "      <td>1.242168</td>\n",
       "      <td>1.501726</td>\n",
       "      <td>1.270179</td>\n",
       "      <td>1.475479</td>\n",
       "      <td>1.503484</td>\n",
       "      <td>1.592224</td>\n",
       "      <td>0.625118</td>\n",
       "      <td>7.427</td>\n",
       "      <td>24.0</td>\n",
       "      <td>5.0</td>\n",
       "    </tr>\n",
       "    <tr>\n",
       "      <th>...</th>\n",
       "      <td>...</td>\n",
       "      <td>...</td>\n",
       "      <td>...</td>\n",
       "      <td>...</td>\n",
       "      <td>...</td>\n",
       "      <td>...</td>\n",
       "      <td>...</td>\n",
       "      <td>...</td>\n",
       "      <td>...</td>\n",
       "      <td>...</td>\n",
       "      <td>...</td>\n",
       "    </tr>\n",
       "    <tr>\n",
       "      <th>153</th>\n",
       "      <td>-0.916014</td>\n",
       "      <td>-1.494046</td>\n",
       "      <td>-0.959885</td>\n",
       "      <td>-0.939459</td>\n",
       "      <td>1.135229</td>\n",
       "      <td>2.012856</td>\n",
       "      <td>0.065304</td>\n",
       "      <td>-2.393259</td>\n",
       "      <td>3.465</td>\n",
       "      <td>118.0</td>\n",
       "      <td>8.0</td>\n",
       "    </tr>\n",
       "    <tr>\n",
       "      <th>154</th>\n",
       "      <td>-0.719479</td>\n",
       "      <td>-1.360829</td>\n",
       "      <td>-1.896644</td>\n",
       "      <td>-1.276496</td>\n",
       "      <td>0.307514</td>\n",
       "      <td>-0.433835</td>\n",
       "      <td>-0.334169</td>\n",
       "      <td>-0.863565</td>\n",
       "      <td>3.340</td>\n",
       "      <td>13.0</td>\n",
       "      <td>8.0</td>\n",
       "    </tr>\n",
       "    <tr>\n",
       "      <th>155</th>\n",
       "      <td>0.399137</td>\n",
       "      <td>-0.513469</td>\n",
       "      <td>-1.690664</td>\n",
       "      <td>0.262933</td>\n",
       "      <td>-1.668658</td>\n",
       "      <td>0.738915</td>\n",
       "      <td>1.659336</td>\n",
       "      <td>-2.866216</td>\n",
       "      <td>3.006</td>\n",
       "      <td>136.0</td>\n",
       "      <td>4.0</td>\n",
       "    </tr>\n",
       "    <tr>\n",
       "      <th>156</th>\n",
       "      <td>1.926902</td>\n",
       "      <td>-1.894954</td>\n",
       "      <td>-1.796803</td>\n",
       "      <td>-1.525700</td>\n",
       "      <td>-1.849903</td>\n",
       "      <td>-0.151946</td>\n",
       "      <td>-0.194829</td>\n",
       "      <td>-0.514801</td>\n",
       "      <td>2.905</td>\n",
       "      <td>21.0</td>\n",
       "      <td>8.0</td>\n",
       "    </tr>\n",
       "    <tr>\n",
       "      <th>157</th>\n",
       "      <td>1.310323</td>\n",
       "      <td>-1.521226</td>\n",
       "      <td>-2.160397</td>\n",
       "      <td>-1.371811</td>\n",
       "      <td>-0.508362</td>\n",
       "      <td>-0.067326</td>\n",
       "      <td>-0.490415</td>\n",
       "      <td>-0.976645</td>\n",
       "      <td>2.839</td>\n",
       "      <td>141.0</td>\n",
       "      <td>8.0</td>\n",
       "    </tr>\n",
       "  </tbody>\n",
       "</table>\n",
       "<p>158 rows × 11 columns</p>\n",
       "</div>"
      ],
      "text/plain": [
       "     Standard Error  Economy (GDP per Capita)    Family  \\\n",
       "0         -0.972226                  1.446061  1.669206   \n",
       "1          0.309350                  1.173321  2.012132   \n",
       "2         -1.062017                  1.239836  1.739586   \n",
       "3         -0.503610                  1.630246  1.553118   \n",
       "4         -0.823548                  1.242168  1.501726   \n",
       "..              ...                       ...       ...   \n",
       "153       -0.916014                 -1.494046 -0.959885   \n",
       "154       -0.719479                 -1.360829 -1.896644   \n",
       "155        0.399137                 -0.513469 -1.690664   \n",
       "156        1.926902                 -1.894954 -1.796803   \n",
       "157        1.310323                 -1.521226 -2.160397   \n",
       "\n",
       "     Health (Life Expectancy)   Freedom  Trust (Government Corruption)  \\\n",
       "0                    1.491765  1.756335                       1.773991   \n",
       "1                    1.532348  1.439946                       0.315993   \n",
       "2                    1.085223  1.615733                       1.906792   \n",
       "3                    1.147600  1.792821                       1.624007   \n",
       "4                    1.270179  1.475479                       1.503484   \n",
       "..                        ...       ...                            ...   \n",
       "153                 -0.939459  1.135229                       2.012856   \n",
       "154                 -1.276496  0.307514                      -0.433835   \n",
       "155                  0.262933 -1.668658                       0.738915   \n",
       "156                 -1.525700 -1.849903                      -0.151946   \n",
       "157                 -1.371811 -0.508362                      -0.067326   \n",
       "\n",
       "     Generosity  Dystopia Residual  Happiness Score  Country  Region  \n",
       "0      0.622391           0.750992            7.587    135.0     9.0  \n",
       "1      1.480995           1.110011            7.561     58.0     9.0  \n",
       "2      0.927973           0.702275            7.527     37.0     9.0  \n",
       "3      0.964080           0.651035            7.522    105.0     9.0  \n",
       "4      1.592224           0.625118            7.427     24.0     5.0  \n",
       "..          ...                ...              ...      ...     ...  \n",
       "153    0.065304          -2.393259            3.465    118.0     8.0  \n",
       "154   -0.334169          -0.863565            3.340     13.0     8.0  \n",
       "155    1.659336          -2.866216            3.006    136.0     4.0  \n",
       "156   -0.194829          -0.514801            2.905     21.0     8.0  \n",
       "157   -0.490415          -0.976645            2.839    141.0     8.0  \n",
       "\n",
       "[158 rows x 11 columns]"
      ]
     },
     "execution_count": 39,
     "metadata": {},
     "output_type": "execute_result"
    }
   ],
   "source": [
    "df_new"
   ]
  },
  {
   "cell_type": "markdown",
   "id": "bb3c6139",
   "metadata": {},
   "source": [
    "# Scaling the data using StandardScaler"
   ]
  },
  {
   "cell_type": "code",
   "execution_count": 34,
   "id": "210d5524",
   "metadata": {},
   "outputs": [],
   "source": [
    "from sklearn.preprocessing import StandardScaler\n",
    "scaler = StandardScaler()"
   ]
  },
  {
   "cell_type": "code",
   "execution_count": 40,
   "id": "e147a27d",
   "metadata": {},
   "outputs": [],
   "source": [
    "X_new = df_new.drop('Happiness Score',axis=1)\n",
    "y_new = df_new['Happiness Score']"
   ]
  },
  {
   "cell_type": "code",
   "execution_count": 41,
   "id": "2ea0947a",
   "metadata": {},
   "outputs": [],
   "source": [
    "X_scaled = scaler.fit_transform(X_new)"
   ]
  },
  {
   "cell_type": "code",
   "execution_count": 42,
   "id": "0d1c2cca",
   "metadata": {},
   "outputs": [
    {
     "data": {
      "text/plain": [
       "array([[-0.9722262 ,  1.44606101,  1.66920633, ...,  0.75099154,\n",
       "         1.23877001,  1.30025593],\n",
       "       [ 0.30934969,  1.17332111,  2.01213244, ...,  1.11001108,\n",
       "        -0.44946522,  1.30025593],\n",
       "       [-1.06201662,  1.23983557,  1.73958573, ...,  0.70227525,\n",
       "        -0.90989302,  1.30025593],\n",
       "       ...,\n",
       "       [ 0.39913742, -0.5134688 , -1.69066357, ..., -2.86621557,\n",
       "         1.26069514, -0.37544095],\n",
       "       [ 1.92690194, -1.89495386, -1.79680304, ..., -0.51480136,\n",
       "        -1.26069514,  0.96511655],\n",
       "       [ 1.31032295, -1.52122584, -2.16039658, ..., -0.97664547,\n",
       "         1.37032081,  0.96511655]])"
      ]
     },
     "execution_count": 42,
     "metadata": {},
     "output_type": "execute_result"
    }
   ],
   "source": [
    "X_scaled"
   ]
  },
  {
   "cell_type": "code",
   "execution_count": 43,
   "id": "95b3dbec",
   "metadata": {},
   "outputs": [],
   "source": [
    "from sklearn.linear_model import LinearRegression\n",
    "from sklearn.metrics import r2_score\n",
    "from sklearn.model_selection import train_test_split\n",
    "lr = LinearRegression()"
   ]
  },
  {
   "cell_type": "markdown",
   "id": "b2ccb064",
   "metadata": {},
   "source": [
    "# Finding the best random state"
   ]
  },
  {
   "cell_type": "code",
   "execution_count": 44,
   "id": "0337d468",
   "metadata": {},
   "outputs": [
    {
     "name": "stdout",
     "output_type": "stream",
     "text": [
      "At random state 0,the training accuracy is :- 0.9931458316254903\n",
      "At random state 0,the test accuracy is :- 0.9927570992881888\n",
      "\n",
      "\n",
      "At random state 1,the training accuracy is :- 0.9931147971410241\n",
      "At random state 1,the test accuracy is :- 0.9925682762225564\n",
      "\n",
      "\n",
      "At random state 2,the training accuracy is :- 0.99236789960157\n",
      "At random state 2,the test accuracy is :- 0.995261918357221\n",
      "\n",
      "\n",
      "At random state 3,the training accuracy is :- 0.9925094672314959\n",
      "At random state 3,the test accuracy is :- 0.9951896726653187\n",
      "\n",
      "\n",
      "At random state 4,the training accuracy is :- 0.9919071542198971\n",
      "At random state 4,the test accuracy is :- 0.9959449122080668\n",
      "\n",
      "\n",
      "At random state 5,the training accuracy is :- 0.9932902376695931\n",
      "At random state 5,the test accuracy is :- 0.9904024884616058\n",
      "\n",
      "\n",
      "At random state 6,the training accuracy is :- 0.9928988385071201\n",
      "At random state 6,the test accuracy is :- 0.9933369597336937\n",
      "\n",
      "\n",
      "At random state 7,the training accuracy is :- 0.9937790065116533\n",
      "At random state 7,the test accuracy is :- 0.9894277776850133\n",
      "\n",
      "\n",
      "At random state 8,the training accuracy is :- 0.9948326774027929\n",
      "At random state 8,the test accuracy is :- 0.9868426933179079\n",
      "\n",
      "\n",
      "At random state 9,the training accuracy is :- 0.9929401673971671\n",
      "At random state 9,the test accuracy is :- 0.9936721584800838\n",
      "\n",
      "\n",
      "At random state 10,the training accuracy is :- 0.9927938244330566\n",
      "At random state 10,the test accuracy is :- 0.9945118154091723\n",
      "\n",
      "\n",
      "At random state 11,the training accuracy is :- 0.9929742426782174\n",
      "At random state 11,the test accuracy is :- 0.9932876240203404\n",
      "\n",
      "\n",
      "At random state 12,the training accuracy is :- 0.9923780858027937\n",
      "At random state 12,the test accuracy is :- 0.9957543034548859\n",
      "\n",
      "\n",
      "At random state 13,the training accuracy is :- 0.9936759793917925\n",
      "At random state 13,the test accuracy is :- 0.9905367166835973\n",
      "\n",
      "\n",
      "At random state 14,the training accuracy is :- 0.9928563579572572\n",
      "At random state 14,the test accuracy is :- 0.9937838045646396\n",
      "\n",
      "\n",
      "At random state 15,the training accuracy is :- 0.9933152297345413\n",
      "At random state 15,the test accuracy is :- 0.9921403735540025\n",
      "\n",
      "\n",
      "At random state 16,the training accuracy is :- 0.9937949858760278\n",
      "At random state 16,the test accuracy is :- 0.9889696036683956\n",
      "\n",
      "\n",
      "At random state 17,the training accuracy is :- 0.9927588158661493\n",
      "At random state 17,the test accuracy is :- 0.9939155192720541\n",
      "\n",
      "\n",
      "At random state 18,the training accuracy is :- 0.9949397074648084\n",
      "At random state 18,the test accuracy is :- 0.9858391099811822\n",
      "\n",
      "\n",
      "At random state 19,the training accuracy is :- 0.9922802681194316\n",
      "At random state 19,the test accuracy is :- 0.9961743595090187\n",
      "\n",
      "\n",
      "At random state 20,the training accuracy is :- 0.9948314811273846\n",
      "At random state 20,the test accuracy is :- 0.9836462774578066\n",
      "\n",
      "\n",
      "At random state 21,the training accuracy is :- 0.9927463621407203\n",
      "At random state 21,the test accuracy is :- 0.9936358564639701\n",
      "\n",
      "\n",
      "At random state 22,the training accuracy is :- 0.9930361030888637\n",
      "At random state 22,the test accuracy is :- 0.9930239630604204\n",
      "\n",
      "\n",
      "At random state 23,the training accuracy is :- 0.994412783458118\n",
      "At random state 23,the test accuracy is :- 0.9853075572614806\n",
      "\n",
      "\n",
      "At random state 24,the training accuracy is :- 0.9930568977793661\n",
      "At random state 24,the test accuracy is :- 0.9933924901213641\n",
      "\n",
      "\n",
      "At random state 25,the training accuracy is :- 0.9932926343317181\n",
      "At random state 25,the test accuracy is :- 0.9908210052065786\n",
      "\n",
      "\n",
      "At random state 26,the training accuracy is :- 0.993773704209641\n",
      "At random state 26,the test accuracy is :- 0.9901377741344154\n",
      "\n",
      "\n",
      "At random state 27,the training accuracy is :- 0.9926235724337705\n",
      "At random state 27,the test accuracy is :- 0.9949447578489037\n",
      "\n",
      "\n",
      "At random state 28,the training accuracy is :- 0.993697908001127\n",
      "At random state 28,the test accuracy is :- 0.988688863505832\n",
      "\n",
      "\n",
      "At random state 29,the training accuracy is :- 0.9932593755430734\n",
      "At random state 29,the test accuracy is :- 0.99227281543215\n",
      "\n",
      "\n",
      "At random state 30,the training accuracy is :- 0.9922441388386917\n",
      "At random state 30,the test accuracy is :- 0.9961829794266523\n",
      "\n",
      "\n",
      "At random state 31,the training accuracy is :- 0.9938690933259207\n",
      "At random state 31,the test accuracy is :- 0.9888308306211812\n",
      "\n",
      "\n",
      "At random state 32,the training accuracy is :- 0.9923207073733659\n",
      "At random state 32,the test accuracy is :- 0.9954002732530379\n",
      "\n",
      "\n",
      "At random state 33,the training accuracy is :- 0.9930132723326442\n",
      "At random state 33,the test accuracy is :- 0.9922868754576112\n",
      "\n",
      "\n",
      "At random state 34,the training accuracy is :- 0.993237860709689\n",
      "At random state 34,the test accuracy is :- 0.9910660195663993\n",
      "\n",
      "\n",
      "At random state 35,the training accuracy is :- 0.9923156442603441\n",
      "At random state 35,the test accuracy is :- 0.996202802327483\n",
      "\n",
      "\n",
      "At random state 36,the training accuracy is :- 0.9940261924956156\n",
      "At random state 36,the test accuracy is :- 0.9874369428694966\n",
      "\n",
      "\n",
      "At random state 37,the training accuracy is :- 0.9939854316253041\n",
      "At random state 37,the test accuracy is :- 0.9897148730997141\n",
      "\n",
      "\n",
      "At random state 38,the training accuracy is :- 0.9936533084630135\n",
      "At random state 38,the test accuracy is :- 0.9886892439422429\n",
      "\n",
      "\n",
      "At random state 39,the training accuracy is :- 0.9944729465771572\n",
      "At random state 39,the test accuracy is :- 0.9880274124904165\n",
      "\n",
      "\n",
      "At random state 40,the training accuracy is :- 0.9930659147884211\n",
      "At random state 40,the test accuracy is :- 0.9927260645008538\n",
      "\n",
      "\n",
      "At random state 41,the training accuracy is :- 0.9942568076642839\n",
      "At random state 41,the test accuracy is :- 0.9882634379828346\n",
      "\n",
      "\n",
      "At random state 42,the training accuracy is :- 0.9933678175532826\n",
      "At random state 42,the test accuracy is :- 0.991321341526922\n",
      "\n",
      "\n",
      "At random state 43,the training accuracy is :- 0.9920657659325721\n",
      "At random state 43,the test accuracy is :- 0.9963959988315274\n",
      "\n",
      "\n",
      "At random state 44,the training accuracy is :- 0.9928731743940835\n",
      "At random state 44,the test accuracy is :- 0.9936319547682829\n",
      "\n",
      "\n",
      "At random state 45,the training accuracy is :- 0.993888718930189\n",
      "At random state 45,the test accuracy is :- 0.9896820083649721\n",
      "\n",
      "\n",
      "At random state 46,the training accuracy is :- 0.9936669174756324\n",
      "At random state 46,the test accuracy is :- 0.9908626742313379\n",
      "\n",
      "\n",
      "At random state 47,the training accuracy is :- 0.9930516817493865\n",
      "At random state 47,the test accuracy is :- 0.9917721333199051\n",
      "\n",
      "\n",
      "At random state 48,the training accuracy is :- 0.9935289160178208\n",
      "At random state 48,the test accuracy is :- 0.9898776629076349\n",
      "\n",
      "\n",
      "At random state 49,the training accuracy is :- 0.9928921236108013\n",
      "At random state 49,the test accuracy is :- 0.9940286767383453\n",
      "\n",
      "\n",
      "At random state 50,the training accuracy is :- 0.9936242501525488\n",
      "At random state 50,the test accuracy is :- 0.9909390868855052\n",
      "\n",
      "\n",
      "At random state 51,the training accuracy is :- 0.9932607173746567\n",
      "At random state 51,the test accuracy is :- 0.9923226422036476\n",
      "\n",
      "\n",
      "At random state 52,the training accuracy is :- 0.9939006128376008\n",
      "At random state 52,the test accuracy is :- 0.9885309768229169\n",
      "\n",
      "\n",
      "At random state 53,the training accuracy is :- 0.9934206064903371\n",
      "At random state 53,the test accuracy is :- 0.9913017611349509\n",
      "\n",
      "\n",
      "At random state 54,the training accuracy is :- 0.9933857255039866\n",
      "At random state 54,the test accuracy is :- 0.9921429859315901\n",
      "\n",
      "\n",
      "At random state 55,the training accuracy is :- 0.9925470915055492\n",
      "At random state 55,the test accuracy is :- 0.9957982747603875\n",
      "\n",
      "\n",
      "At random state 56,the training accuracy is :- 0.9940763583145339\n",
      "At random state 56,the test accuracy is :- 0.9888523504657132\n",
      "\n",
      "\n",
      "At random state 57,the training accuracy is :- 0.9931537092189042\n",
      "At random state 57,the test accuracy is :- 0.9919450893041699\n",
      "\n",
      "\n",
      "At random state 58,the training accuracy is :- 0.9936147308692118\n",
      "At random state 58,the test accuracy is :- 0.9894976808264322\n",
      "\n",
      "\n",
      "At random state 59,the training accuracy is :- 0.9932309914366901\n",
      "At random state 59,the test accuracy is :- 0.9905545102656732\n",
      "\n",
      "\n",
      "At random state 60,the training accuracy is :- 0.9952043624409203\n",
      "At random state 60,the test accuracy is :- 0.9859583038633597\n",
      "\n",
      "\n",
      "At random state 61,the training accuracy is :- 0.9936328694209828\n",
      "At random state 61,the test accuracy is :- 0.9907377589171508\n",
      "\n",
      "\n",
      "At random state 62,the training accuracy is :- 0.9934084745428212\n",
      "At random state 62,the test accuracy is :- 0.9899430514564987\n",
      "\n",
      "\n",
      "At random state 63,the training accuracy is :- 0.9935316079174903\n",
      "At random state 63,the test accuracy is :- 0.9905005750524465\n",
      "\n",
      "\n",
      "At random state 64,the training accuracy is :- 0.9932754694156861\n",
      "At random state 64,the test accuracy is :- 0.9923287859679887\n",
      "\n",
      "\n",
      "At random state 65,the training accuracy is :- 0.9934965497059114\n",
      "At random state 65,the test accuracy is :- 0.9915789439077948\n",
      "\n",
      "\n",
      "At random state 66,the training accuracy is :- 0.994536937575425\n",
      "At random state 66,the test accuracy is :- 0.9856438253644614\n",
      "\n",
      "\n",
      "At random state 67,the training accuracy is :- 0.9955100593708065\n",
      "At random state 67,the test accuracy is :- 0.9814837026396153\n",
      "\n",
      "\n",
      "At random state 68,the training accuracy is :- 0.9930533479815677\n",
      "At random state 68,the test accuracy is :- 0.9933438148023869\n",
      "\n",
      "\n",
      "At random state 69,the training accuracy is :- 0.993097298897168\n",
      "At random state 69,the test accuracy is :- 0.9925701428048147\n",
      "\n",
      "\n",
      "At random state 70,the training accuracy is :- 0.9929200681157033\n",
      "At random state 70,the test accuracy is :- 0.993395856164049\n",
      "\n",
      "\n",
      "At random state 71,the training accuracy is :- 0.9935119052324227\n",
      "At random state 71,the test accuracy is :- 0.9900378405415413\n",
      "\n",
      "\n",
      "At random state 72,the training accuracy is :- 0.9945197019583255\n",
      "At random state 72,the test accuracy is :- 0.988468655589746\n",
      "\n",
      "\n",
      "At random state 73,the training accuracy is :- 0.9937513728814827\n",
      "At random state 73,the test accuracy is :- 0.9902313958423935\n",
      "\n",
      "\n",
      "At random state 74,the training accuracy is :- 0.9934388340121808\n",
      "At random state 74,the test accuracy is :- 0.9913392660003625\n",
      "\n",
      "\n",
      "At random state 75,the training accuracy is :- 0.9938332899122079\n",
      "At random state 75,the test accuracy is :- 0.9877219659804591\n",
      "\n",
      "\n",
      "At random state 76,the training accuracy is :- 0.9932640282871257\n",
      "At random state 76,the test accuracy is :- 0.9913229314869588\n",
      "\n",
      "\n",
      "At random state 77,the training accuracy is :- 0.9928738859401813\n",
      "At random state 77,the test accuracy is :- 0.9940337946516109\n",
      "\n",
      "\n",
      "At random state 78,the training accuracy is :- 0.9940332639208349\n",
      "At random state 78,the test accuracy is :- 0.9862214828220726\n",
      "\n",
      "\n",
      "At random state 79,the training accuracy is :- 0.9944399628287816\n",
      "At random state 79,the test accuracy is :- 0.9864466478315841\n",
      "\n",
      "\n",
      "At random state 80,the training accuracy is :- 0.9927735185383976\n",
      "At random state 80,the test accuracy is :- 0.994001285783294\n",
      "\n",
      "\n",
      "At random state 81,the training accuracy is :- 0.9929076448251067\n",
      "At random state 81,the test accuracy is :- 0.9934675032075104\n",
      "\n",
      "\n",
      "At random state 82,the training accuracy is :- 0.9923637394257294\n",
      "At random state 82,the test accuracy is :- 0.9961139506730906\n",
      "\n",
      "\n",
      "At random state 83,the training accuracy is :- 0.9954281838011588\n",
      "At random state 83,the test accuracy is :- 0.9838437090406551\n",
      "\n",
      "\n",
      "At random state 84,the training accuracy is :- 0.9926900857018385\n",
      "At random state 84,the test accuracy is :- 0.994222993441524\n",
      "\n",
      "\n",
      "At random state 85,the training accuracy is :- 0.9935032589802454\n",
      "At random state 85,the test accuracy is :- 0.9899029032427239\n",
      "\n",
      "\n",
      "At random state 86,the training accuracy is :- 0.993237795345028\n",
      "At random state 86,the test accuracy is :- 0.9922545536187264\n",
      "\n",
      "\n",
      "At random state 87,the training accuracy is :- 0.9923244274867185\n",
      "At random state 87,the test accuracy is :- 0.995711850848583\n",
      "\n",
      "\n",
      "At random state 88,the training accuracy is :- 0.9943492554886534\n",
      "At random state 88,the test accuracy is :- 0.9874691047738214\n",
      "\n",
      "\n",
      "At random state 89,the training accuracy is :- 0.9927846685652656\n",
      "At random state 89,the test accuracy is :- 0.9932197627598615\n",
      "\n",
      "\n",
      "At random state 90,the training accuracy is :- 0.993508102410646\n",
      "At random state 90,the test accuracy is :- 0.9915258272990297\n",
      "\n",
      "\n",
      "At random state 91,the training accuracy is :- 0.9933193394926889\n",
      "At random state 91,the test accuracy is :- 0.9911570349658542\n",
      "\n",
      "\n",
      "At random state 92,the training accuracy is :- 0.9933644572182093\n",
      "At random state 92,the test accuracy is :- 0.9910357955562564\n",
      "\n",
      "\n",
      "At random state 93,the training accuracy is :- 0.9927496488646552\n",
      "At random state 93,the test accuracy is :- 0.9939282823400486\n",
      "\n",
      "\n",
      "At random state 94,the training accuracy is :- 0.9937977357415109\n",
      "At random state 94,the test accuracy is :- 0.9890312171306455\n",
      "\n",
      "\n",
      "At random state 95,the training accuracy is :- 0.9934585604624807\n",
      "At random state 95,the test accuracy is :- 0.99064665938212\n",
      "\n",
      "\n",
      "At random state 96,the training accuracy is :- 0.9923452868537147\n",
      "At random state 96,the test accuracy is :- 0.9965330274913762\n",
      "\n",
      "\n",
      "At random state 97,the training accuracy is :- 0.9923386045665821\n",
      "At random state 97,the test accuracy is :- 0.9963064817502684\n",
      "\n",
      "\n",
      "At random state 98,the training accuracy is :- 0.9931040549798993\n",
      "At random state 98,the test accuracy is :- 0.9928637506632335\n",
      "\n",
      "\n",
      "At random state 99,the training accuracy is :- 0.9926516927952133\n",
      "At random state 99,the test accuracy is :- 0.9932553584165222\n",
      "\n",
      "\n"
     ]
    }
   ],
   "source": [
    "for i in range(0,100):\n",
    "    X_train,X_test,y_train,y_test = train_test_split(X_scaled,y_new,test_size=0.2,random_state=i)\n",
    "    lr.fit(X_train,y_train)\n",
    "    pred_train = lr.predict(X_train)\n",
    "    pred_test = lr.predict(X_test)\n",
    "    print(f\"At random state {i},the training accuracy is :- {r2_score(y_train,pred_train)}\")\n",
    "    print(f\"At random state {i},the test accuracy is :- {r2_score(y_test,pred_test)}\")\n",
    "    print(\"\\n\") "
   ]
  },
  {
   "cell_type": "markdown",
   "id": "793b169d",
   "metadata": {},
   "source": [
    "**Taking the random state where difference between training and testing accuracy is minimum. Taking random state =98**"
   ]
  },
  {
   "cell_type": "markdown",
   "id": "dd124a46",
   "metadata": {},
   "source": [
    "# Model initiation and training - Linear Regression"
   ]
  },
  {
   "cell_type": "code",
   "execution_count": 45,
   "id": "3a408e8c",
   "metadata": {},
   "outputs": [
    {
     "data": {
      "text/html": [
       "<style>#sk-container-id-1 {color: black;background-color: white;}#sk-container-id-1 pre{padding: 0;}#sk-container-id-1 div.sk-toggleable {background-color: white;}#sk-container-id-1 label.sk-toggleable__label {cursor: pointer;display: block;width: 100%;margin-bottom: 0;padding: 0.3em;box-sizing: border-box;text-align: center;}#sk-container-id-1 label.sk-toggleable__label-arrow:before {content: \"▸\";float: left;margin-right: 0.25em;color: #696969;}#sk-container-id-1 label.sk-toggleable__label-arrow:hover:before {color: black;}#sk-container-id-1 div.sk-estimator:hover label.sk-toggleable__label-arrow:before {color: black;}#sk-container-id-1 div.sk-toggleable__content {max-height: 0;max-width: 0;overflow: hidden;text-align: left;background-color: #f0f8ff;}#sk-container-id-1 div.sk-toggleable__content pre {margin: 0.2em;color: black;border-radius: 0.25em;background-color: #f0f8ff;}#sk-container-id-1 input.sk-toggleable__control:checked~div.sk-toggleable__content {max-height: 200px;max-width: 100%;overflow: auto;}#sk-container-id-1 input.sk-toggleable__control:checked~label.sk-toggleable__label-arrow:before {content: \"▾\";}#sk-container-id-1 div.sk-estimator input.sk-toggleable__control:checked~label.sk-toggleable__label {background-color: #d4ebff;}#sk-container-id-1 div.sk-label input.sk-toggleable__control:checked~label.sk-toggleable__label {background-color: #d4ebff;}#sk-container-id-1 input.sk-hidden--visually {border: 0;clip: rect(1px 1px 1px 1px);clip: rect(1px, 1px, 1px, 1px);height: 1px;margin: -1px;overflow: hidden;padding: 0;position: absolute;width: 1px;}#sk-container-id-1 div.sk-estimator {font-family: monospace;background-color: #f0f8ff;border: 1px dotted black;border-radius: 0.25em;box-sizing: border-box;margin-bottom: 0.5em;}#sk-container-id-1 div.sk-estimator:hover {background-color: #d4ebff;}#sk-container-id-1 div.sk-parallel-item::after {content: \"\";width: 100%;border-bottom: 1px solid gray;flex-grow: 1;}#sk-container-id-1 div.sk-label:hover label.sk-toggleable__label {background-color: #d4ebff;}#sk-container-id-1 div.sk-serial::before {content: \"\";position: absolute;border-left: 1px solid gray;box-sizing: border-box;top: 0;bottom: 0;left: 50%;z-index: 0;}#sk-container-id-1 div.sk-serial {display: flex;flex-direction: column;align-items: center;background-color: white;padding-right: 0.2em;padding-left: 0.2em;position: relative;}#sk-container-id-1 div.sk-item {position: relative;z-index: 1;}#sk-container-id-1 div.sk-parallel {display: flex;align-items: stretch;justify-content: center;background-color: white;position: relative;}#sk-container-id-1 div.sk-item::before, #sk-container-id-1 div.sk-parallel-item::before {content: \"\";position: absolute;border-left: 1px solid gray;box-sizing: border-box;top: 0;bottom: 0;left: 50%;z-index: -1;}#sk-container-id-1 div.sk-parallel-item {display: flex;flex-direction: column;z-index: 1;position: relative;background-color: white;}#sk-container-id-1 div.sk-parallel-item:first-child::after {align-self: flex-end;width: 50%;}#sk-container-id-1 div.sk-parallel-item:last-child::after {align-self: flex-start;width: 50%;}#sk-container-id-1 div.sk-parallel-item:only-child::after {width: 0;}#sk-container-id-1 div.sk-dashed-wrapped {border: 1px dashed gray;margin: 0 0.4em 0.5em 0.4em;box-sizing: border-box;padding-bottom: 0.4em;background-color: white;}#sk-container-id-1 div.sk-label label {font-family: monospace;font-weight: bold;display: inline-block;line-height: 1.2em;}#sk-container-id-1 div.sk-label-container {text-align: center;}#sk-container-id-1 div.sk-container {/* jupyter's `normalize.less` sets `[hidden] { display: none; }` but bootstrap.min.css set `[hidden] { display: none !important; }` so we also need the `!important` here to be able to override the default hidden behavior on the sphinx rendered scikit-learn.org. See: https://github.com/scikit-learn/scikit-learn/issues/21755 */display: inline-block !important;position: relative;}#sk-container-id-1 div.sk-text-repr-fallback {display: none;}</style><div id=\"sk-container-id-1\" class=\"sk-top-container\"><div class=\"sk-text-repr-fallback\"><pre>LinearRegression()</pre><b>In a Jupyter environment, please rerun this cell to show the HTML representation or trust the notebook. <br />On GitHub, the HTML representation is unable to render, please try loading this page with nbviewer.org.</b></div><div class=\"sk-container\" hidden><div class=\"sk-item\"><div class=\"sk-estimator sk-toggleable\"><input class=\"sk-toggleable__control sk-hidden--visually\" id=\"sk-estimator-id-1\" type=\"checkbox\" checked><label for=\"sk-estimator-id-1\" class=\"sk-toggleable__label sk-toggleable__label-arrow\">LinearRegression</label><div class=\"sk-toggleable__content\"><pre>LinearRegression()</pre></div></div></div></div></div>"
      ],
      "text/plain": [
       "LinearRegression()"
      ]
     },
     "execution_count": 45,
     "metadata": {},
     "output_type": "execute_result"
    }
   ],
   "source": [
    "X_train,X_test,y_train,y_test = train_test_split(X_scaled,y_new,test_size=0.2,random_state=98)\n",
    "lr.fit(X_train,y_train)"
   ]
  },
  {
   "cell_type": "code",
   "execution_count": 46,
   "id": "d68295b2",
   "metadata": {},
   "outputs": [],
   "source": [
    "pred_test = lr.predict(X_test)"
   ]
  },
  {
   "cell_type": "code",
   "execution_count": 47,
   "id": "b5ed2c9a",
   "metadata": {},
   "outputs": [
    {
     "name": "stdout",
     "output_type": "stream",
     "text": [
      "0.9928637506632335\n"
     ]
    }
   ],
   "source": [
    "print(r2_score(y_test,pred_test))"
   ]
  },
  {
   "cell_type": "markdown",
   "id": "971b7ee8",
   "metadata": {},
   "source": [
    "# Cross-validation of the model"
   ]
  },
  {
   "cell_type": "code",
   "execution_count": 48,
   "id": "55e60f8f",
   "metadata": {},
   "outputs": [
    {
     "name": "stdout",
     "output_type": "stream",
     "text": [
      "At cross fold 2, the cv score is 0.847953479807541 and accuracy score for training is -0.833256932349518 and accuracy for testing is 0.9928637506632335\n",
      "/n\n",
      "At cross fold 3, the cv score is 0.8823066782340477 and accuracy score for training is -0.833256932349518 and accuracy for testing is 0.9928637506632335\n",
      "/n\n",
      "At cross fold 4, the cv score is 0.8376027368371732 and accuracy score for training is -0.833256932349518 and accuracy for testing is 0.9928637506632335\n",
      "/n\n",
      "At cross fold 5, the cv score is 0.7999097859448113 and accuracy score for training is -0.833256932349518 and accuracy for testing is 0.9928637506632335\n",
      "/n\n",
      "At cross fold 6, the cv score is 0.7059215263065437 and accuracy score for training is -0.833256932349518 and accuracy for testing is 0.9928637506632335\n",
      "/n\n",
      "At cross fold 7, the cv score is 0.6006666237357636 and accuracy score for training is -0.833256932349518 and accuracy for testing is 0.9928637506632335\n",
      "/n\n",
      "At cross fold 8, the cv score is 0.5719682665708021 and accuracy score for training is -0.833256932349518 and accuracy for testing is 0.9928637506632335\n",
      "/n\n",
      "At cross fold 9, the cv score is 0.41650920703309774 and accuracy score for training is -0.833256932349518 and accuracy for testing is 0.9928637506632335\n",
      "/n\n"
     ]
    }
   ],
   "source": [
    "Training_accuracy = r2_score(y_train,pred_train)\n",
    "Testing_accuracy = r2_score(y_test,pred_test)\n",
    "\n",
    "from sklearn.model_selection import cross_val_score\n",
    "for j in range(2,10):\n",
    "    cv_score = cross_val_score(lr,X_scaled,y_new,cv=j)\n",
    "    cv_mean = cv_score.mean()\n",
    "    print(f\"At cross fold {j}, the cv score is {cv_mean} and accuracy score for training is {Training_accuracy} and accuracy for testing is {Testing_accuracy}\")\n",
    "    print(\"/n\")"
   ]
  },
  {
   "cell_type": "markdown",
   "id": "f4b1ede1",
   "metadata": {},
   "source": [
    "**Since cv_score is maximum for sv=3, So we will take cv=3**"
   ]
  },
  {
   "cell_type": "code",
   "execution_count": 49,
   "id": "36697ece",
   "metadata": {},
   "outputs": [
    {
     "data": {
      "image/png": "[encoded data removed]",
      "text/plain": [
       "<Figure size 576x432 with 1 Axes>"
      ]
     },
     "metadata": {
      "needs_background": "light"
     },
     "output_type": "display_data"
    }
   ],
   "source": [
    "# Checking Grphically(Actual vs Predicted)\n",
    "plt.figure(figsize=(8,6))\n",
    "plt.scatter(y_test,pred_test,color ='r')\n",
    "plt.plot(y_test,y_test,color ='b')\n",
    "plt.xlabel('Actual Happiness Score',fontsize = 14)\n",
    "plt.ylabel('Predicted Happiness Score',fontsize =14)\n",
    "plt.title('Linear Regression',fontsize = 18)\n",
    "plt.savefig('lr.png')\n",
    "plt.show()"
   ]
  },
  {
   "cell_type": "markdown",
   "id": "c878b667",
   "metadata": {},
   "source": [
    "# Regularization"
   ]
  },
  {
   "cell_type": "code",
   "execution_count": 50,
   "id": "9ef04604",
   "metadata": {},
   "outputs": [],
   "source": [
    "from sklearn.linear_model import Lasso\n",
    "from sklearn.model_selection import GridSearchCV\n",
    "\n",
    "ls = Lasso()"
   ]
  },
  {
   "cell_type": "code",
   "execution_count": 51,
   "id": "da869e0a",
   "metadata": {},
   "outputs": [
    {
     "data": {
      "text/html": [
       "<style>#sk-container-id-2 {color: black;background-color: white;}#sk-container-id-2 pre{padding: 0;}#sk-container-id-2 div.sk-toggleable {background-color: white;}#sk-container-id-2 label.sk-toggleable__label {cursor: pointer;display: block;width: 100%;margin-bottom: 0;padding: 0.3em;box-sizing: border-box;text-align: center;}#sk-container-id-2 label.sk-toggleable__label-arrow:before {content: \"▸\";float: left;margin-right: 0.25em;color: #696969;}#sk-container-id-2 label.sk-toggleable__label-arrow:hover:before {color: black;}#sk-container-id-2 div.sk-estimator:hover label.sk-toggleable__label-arrow:before {color: black;}#sk-container-id-2 div.sk-toggleable__content {max-height: 0;max-width: 0;overflow: hidden;text-align: left;background-color: #f0f8ff;}#sk-container-id-2 div.sk-toggleable__content pre {margin: 0.2em;color: black;border-radius: 0.25em;background-color: #f0f8ff;}#sk-container-id-2 input.sk-toggleable__control:checked~div.sk-toggleable__content {max-height: 200px;max-width: 100%;overflow: auto;}#sk-container-id-2 input.sk-toggleable__control:checked~label.sk-toggleable__label-arrow:before {content: \"▾\";}#sk-container-id-2 div.sk-estimator input.sk-toggleable__control:checked~label.sk-toggleable__label {background-color: #d4ebff;}#sk-container-id-2 div.sk-label input.sk-toggleable__control:checked~label.sk-toggleable__label {background-color: #d4ebff;}#sk-container-id-2 input.sk-hidden--visually {border: 0;clip: rect(1px 1px 1px 1px);clip: rect(1px, 1px, 1px, 1px);height: 1px;margin: -1px;overflow: hidden;padding: 0;position: absolute;width: 1px;}#sk-container-id-2 div.sk-estimator {font-family: monospace;background-color: #f0f8ff;border: 1px dotted black;border-radius: 0.25em;box-sizing: border-box;margin-bottom: 0.5em;}#sk-container-id-2 div.sk-estimator:hover {background-color: #d4ebff;}#sk-container-id-2 div.sk-parallel-item::after {content: \"\";width: 100%;border-bottom: 1px solid gray;flex-grow: 1;}#sk-container-id-2 div.sk-label:hover label.sk-toggleable__label {background-color: #d4ebff;}#sk-container-id-2 div.sk-serial::before {content: \"\";position: absolute;border-left: 1px solid gray;box-sizing: border-box;top: 0;bottom: 0;left: 50%;z-index: 0;}#sk-container-id-2 div.sk-serial {display: flex;flex-direction: column;align-items: center;background-color: white;padding-right: 0.2em;padding-left: 0.2em;position: relative;}#sk-container-id-2 div.sk-item {position: relative;z-index: 1;}#sk-container-id-2 div.sk-parallel {display: flex;align-items: stretch;justify-content: center;background-color: white;position: relative;}#sk-container-id-2 div.sk-item::before, #sk-container-id-2 div.sk-parallel-item::before {content: \"\";position: absolute;border-left: 1px solid gray;box-sizing: border-box;top: 0;bottom: 0;left: 50%;z-index: -1;}#sk-container-id-2 div.sk-parallel-item {display: flex;flex-direction: column;z-index: 1;position: relative;background-color: white;}#sk-container-id-2 div.sk-parallel-item:first-child::after {align-self: flex-end;width: 50%;}#sk-container-id-2 div.sk-parallel-item:last-child::after {align-self: flex-start;width: 50%;}#sk-container-id-2 div.sk-parallel-item:only-child::after {width: 0;}#sk-container-id-2 div.sk-dashed-wrapped {border: 1px dashed gray;margin: 0 0.4em 0.5em 0.4em;box-sizing: border-box;padding-bottom: 0.4em;background-color: white;}#sk-container-id-2 div.sk-label label {font-family: monospace;font-weight: bold;display: inline-block;line-height: 1.2em;}#sk-container-id-2 div.sk-label-container {text-align: center;}#sk-container-id-2 div.sk-container {/* jupyter's `normalize.less` sets `[hidden] { display: none; }` but bootstrap.min.css set `[hidden] { display: none !important; }` so we also need the `!important` here to be able to override the default hidden behavior on the sphinx rendered scikit-learn.org. See: https://github.com/scikit-learn/scikit-learn/issues/21755 */display: inline-block !important;position: relative;}#sk-container-id-2 div.sk-text-repr-fallback {display: none;}</style><div id=\"sk-container-id-2\" class=\"sk-top-container\"><div class=\"sk-text-repr-fallback\"><pre>GridSearchCV(estimator=Lasso(),\n",
       "             param_grid={&#x27;alpha&#x27;: [0.001, 0.01, 0.1, 1, 10],\n",
       "                         &#x27;random_state&#x27;: [0, 1, 2, 3, 4, 5, 6, 7, 8, 9]})</pre><b>In a Jupyter environment, please rerun this cell to show the HTML representation or trust the notebook. <br />On GitHub, the HTML representation is unable to render, please try loading this page with nbviewer.org.</b></div><div class=\"sk-container\" hidden><div class=\"sk-item sk-dashed-wrapped\"><div class=\"sk-label-container\"><div class=\"sk-label sk-toggleable\"><input class=\"sk-toggleable__control sk-hidden--visually\" id=\"sk-estimator-id-2\" type=\"checkbox\" ><label for=\"sk-estimator-id-2\" class=\"sk-toggleable__label sk-toggleable__label-arrow\">GridSearchCV</label><div class=\"sk-toggleable__content\"><pre>GridSearchCV(estimator=Lasso(),\n",
       "             param_grid={&#x27;alpha&#x27;: [0.001, 0.01, 0.1, 1, 10],\n",
       "                         &#x27;random_state&#x27;: [0, 1, 2, 3, 4, 5, 6, 7, 8, 9]})</pre></div></div></div><div class=\"sk-parallel\"><div class=\"sk-parallel-item\"><div class=\"sk-item\"><div class=\"sk-label-container\"><div class=\"sk-label sk-toggleable\"><input class=\"sk-toggleable__control sk-hidden--visually\" id=\"sk-estimator-id-3\" type=\"checkbox\" ><label for=\"sk-estimator-id-3\" class=\"sk-toggleable__label sk-toggleable__label-arrow\">estimator: Lasso</label><div class=\"sk-toggleable__content\"><pre>Lasso()</pre></div></div></div><div class=\"sk-serial\"><div class=\"sk-item\"><div class=\"sk-estimator sk-toggleable\"><input class=\"sk-toggleable__control sk-hidden--visually\" id=\"sk-estimator-id-4\" type=\"checkbox\" ><label for=\"sk-estimator-id-4\" class=\"sk-toggleable__label sk-toggleable__label-arrow\">Lasso</label><div class=\"sk-toggleable__content\"><pre>Lasso()</pre></div></div></div></div></div></div></div></div></div></div>"
      ],
      "text/plain": [
       "GridSearchCV(estimator=Lasso(),\n",
       "             param_grid={'alpha': [0.001, 0.01, 0.1, 1, 10],\n",
       "                         'random_state': [0, 1, 2, 3, 4, 5, 6, 7, 8, 9]})"
      ]
     },
     "execution_count": 51,
     "metadata": {},
     "output_type": "execute_result"
    }
   ],
   "source": [
    "parameters = {'alpha':[0.001,0.01,0.1,1,10],\n",
    "             'random_state':list(range(0,10))}\n",
    "grid_ls = GridSearchCV(ls,parameters)\n",
    "grid_ls.fit(X_train,y_train)"
   ]
  },
  {
   "cell_type": "code",
   "execution_count": 52,
   "id": "6959fe4a",
   "metadata": {},
   "outputs": [
    {
     "data": {
      "text/plain": [
       "{'alpha': 0.001, 'random_state': 0}"
      ]
     },
     "execution_count": 52,
     "metadata": {},
     "output_type": "execute_result"
    }
   ],
   "source": [
    "grid_ls.best_params_"
   ]
  },
  {
   "cell_type": "code",
   "execution_count": 53,
   "id": "09207cca",
   "metadata": {},
   "outputs": [
    {
     "data": {
      "text/plain": [
       "99.3099153069784"
      ]
     },
     "execution_count": 53,
     "metadata": {},
     "output_type": "execute_result"
    }
   ],
   "source": [
    "ls = Lasso(alpha = 0.001,random_state = 0)\n",
    "ls.fit(X_train,y_train)\n",
    "ls_score_training = ls.score(X_train,y_train)\n",
    "pred_ls =ls.predict(X_test)\n",
    "ls_score_training*100"
   ]
  },
  {
   "cell_type": "code",
   "execution_count": 54,
   "id": "add77b2c",
   "metadata": {},
   "outputs": [],
   "source": [
    "ls_score_test = ls.score(X_test,y_test)"
   ]
  },
  {
   "cell_type": "code",
   "execution_count": 55,
   "id": "624392c7",
   "metadata": {},
   "outputs": [
    {
     "data": {
      "text/plain": [
       "99.31604044526689"
      ]
     },
     "execution_count": 55,
     "metadata": {},
     "output_type": "execute_result"
    }
   ],
   "source": [
    "ls_score_test*100"
   ]
  },
  {
   "cell_type": "code",
   "execution_count": 56,
   "id": "fd11458b",
   "metadata": {},
   "outputs": [
    {
     "data": {
      "text/plain": [
       "88.36813029051355"
      ]
     },
     "execution_count": 56,
     "metadata": {},
     "output_type": "execute_result"
    }
   ],
   "source": [
    "cv_score = cross_val_score(ls,X_scaled,y_new,cv=3)\n",
    "cv_mean = cv_score.mean()\n",
    "cv_mean*100"
   ]
  },
  {
   "cell_type": "markdown",
   "id": "a5a428ce",
   "metadata": {},
   "source": [
    "# Ensemble technique"
   ]
  },
  {
   "cell_type": "code",
   "execution_count": 57,
   "id": "d10f3446",
   "metadata": {},
   "outputs": [],
   "source": [
    "from sklearn.ensemble import RandomForestRegressor"
   ]
  },
  {
   "cell_type": "code",
   "execution_count": 58,
   "id": "fb708b8c",
   "metadata": {},
   "outputs": [],
   "source": [
    "rf = RandomForestRegressor()"
   ]
  },
  {
   "cell_type": "code",
   "execution_count": 59,
   "id": "9292c2bf",
   "metadata": {},
   "outputs": [],
   "source": [
    "parameters = {'criterion':['mse','mae'],\n",
    "             'min_samples_split':range(4,9),\n",
    "             'max_features':['auto','sqrt','log2'],\n",
    "             'max_samples':(0.1,0.2,0.25)}"
   ]
  },
  {
   "cell_type": "code",
   "execution_count": 60,
   "id": "c9236271",
   "metadata": {},
   "outputs": [
    {
     "name": "stdout",
     "output_type": "stream",
     "text": [
      "{'criterion': 'mse', 'max_features': 'log2', 'max_samples': 0.25, 'min_samples_split': 4}\n"
     ]
    }
   ],
   "source": [
    "grid_rf = GridSearchCV(rf,parameters)\n",
    "grid_rf.fit(X_train,y_train)\n",
    "print(grid_rf.best_params_)"
   ]
  },
  {
   "cell_type": "code",
   "execution_count": 62,
   "id": "16ff32b9",
   "metadata": {},
   "outputs": [
    {
     "name": "stdout",
     "output_type": "stream",
     "text": [
      "R2 score: 79.81718875293294\n",
      "Cross val score: -626.9162567046036\n"
     ]
    }
   ],
   "source": [
    "rf = RandomForestRegressor(criterion='mse' ,min_samples_split=4 ,max_features='log2' ,max_samples=0.25 )\n",
    "rf.fit(X_train,y_train)\n",
    "rf.score(X_train,y_train)\n",
    "pred_decision = rf.predict(X_test)\n",
    "\n",
    "rfs = r2_score(y_test,pred_decision)\n",
    "print(\"R2 score:\",rfs*100)\n",
    "\n",
    "rf_score = cross_val_score(rf,X_scaled,y_new,cv=5)\n",
    "rfc = rf_score.mean()\n",
    "print(\"Cross val score:\",rfc*100)"
   ]
  },
  {
   "cell_type": "code",
   "execution_count": null,
   "id": "92398419",
   "metadata": {},
   "outputs": [],
   "source": []
  },
  {
   "cell_type": "code",
   "execution_count": null,
   "id": "0757541d",
   "metadata": {},
   "outputs": [],
   "source": []
  }
 ],
 "metadata": {
  "kernelspec": {
   "display_name": "Python 3 (ipykernel)",
   "language": "python",
   "name": "python3"
  },
  "language_info": {
   "codemirror_mode": {
    "name": "ipython",
    "version": 3
   },
   "file_extension": ".py",
   "mimetype": "text/x-python",
   "name": "python",
   "nbconvert_exporter": "python",
   "pygments_lexer": "ipython3",
   "version": "3.9.12"
  }
 },
 "nbformat": 4,
 "nbformat_minor": 5
}
