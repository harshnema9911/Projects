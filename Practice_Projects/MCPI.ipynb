{
 "cells": [
  {
   "cell_type": "code",
   "execution_count": 1,
   "id": "a3313401",
   "metadata": {},
   "outputs": [],
   "source": [
    "import pandas as pd\n",
    "import numpy as np\n",
    "import seaborn as sns\n",
    "import matplotlib.pyplot as plt\n",
    "import warnings\n",
    "warnings.filterwarnings('ignore')\n",
    "%matplotlib inline\n",
    "from collections import Counter\n",
    "from sklearn.model_selection import train_test_split,GridSearchCV\n",
    "from sklearn.linear_model import LinearRegression\n",
    "from sklearn.tree import DecisionTreeRegressor\n",
    "from sklearn.metrics import r2_score,mean_absolute_error,mean_squared_error\n",
    "from sklearn.ensemble import RandomForestRegressor\n",
    "from sklearn.neighbors import KNeighborsRegressor\n",
    "from sklearn.svm import SVR\n",
    "from sklearn.ensemble import AdaBoostRegressor, GradientBoostingRegressor\n",
    "import pickle"
   ]
  },
  {
   "cell_type": "code",
   "execution_count": 2,
   "id": "12358011",
   "metadata": {},
   "outputs": [],
   "source": [
    "df = pd.read_csv('https://raw.githubusercontent.com/dsrscientist/dataset4/main/medical_cost_insurance.csv')"
   ]
  },
  {
   "cell_type": "code",
   "execution_count": 3,
   "id": "41d4abc0",
   "metadata": {},
   "outputs": [
    {
     "data": {
      "text/html": [
       "<div>\n",
       "<style scoped>\n",
       "    .dataframe tbody tr th:only-of-type {\n",
       "        vertical-align: middle;\n",
       "    }\n",
       "\n",
       "    .dataframe tbody tr th {\n",
       "        vertical-align: top;\n",
       "    }\n",
       "\n",
       "    .dataframe thead th {\n",
       "        text-align: right;\n",
       "    }\n",
       "</style>\n",
       "<table border=\"1\" class=\"dataframe\">\n",
       "  <thead>\n",
       "    <tr style=\"text-align: right;\">\n",
       "      <th></th>\n",
       "      <th>age</th>\n",
       "      <th>sex</th>\n",
       "      <th>bmi</th>\n",
       "      <th>children</th>\n",
       "      <th>smoker</th>\n",
       "      <th>region</th>\n",
       "      <th>charges</th>\n",
       "    </tr>\n",
       "  </thead>\n",
       "  <tbody>\n",
       "    <tr>\n",
       "      <th>0</th>\n",
       "      <td>19</td>\n",
       "      <td>female</td>\n",
       "      <td>27.900</td>\n",
       "      <td>0</td>\n",
       "      <td>yes</td>\n",
       "      <td>southwest</td>\n",
       "      <td>16884.92400</td>\n",
       "    </tr>\n",
       "    <tr>\n",
       "      <th>1</th>\n",
       "      <td>18</td>\n",
       "      <td>male</td>\n",
       "      <td>33.770</td>\n",
       "      <td>1</td>\n",
       "      <td>no</td>\n",
       "      <td>southeast</td>\n",
       "      <td>1725.55230</td>\n",
       "    </tr>\n",
       "    <tr>\n",
       "      <th>2</th>\n",
       "      <td>28</td>\n",
       "      <td>male</td>\n",
       "      <td>33.000</td>\n",
       "      <td>3</td>\n",
       "      <td>no</td>\n",
       "      <td>southeast</td>\n",
       "      <td>4449.46200</td>\n",
       "    </tr>\n",
       "    <tr>\n",
       "      <th>3</th>\n",
       "      <td>33</td>\n",
       "      <td>male</td>\n",
       "      <td>22.705</td>\n",
       "      <td>0</td>\n",
       "      <td>no</td>\n",
       "      <td>northwest</td>\n",
       "      <td>21984.47061</td>\n",
       "    </tr>\n",
       "    <tr>\n",
       "      <th>4</th>\n",
       "      <td>32</td>\n",
       "      <td>male</td>\n",
       "      <td>28.880</td>\n",
       "      <td>0</td>\n",
       "      <td>no</td>\n",
       "      <td>northwest</td>\n",
       "      <td>3866.85520</td>\n",
       "    </tr>\n",
       "  </tbody>\n",
       "</table>\n",
       "</div>"
      ],
      "text/plain": [
       "   age     sex     bmi  children smoker     region      charges\n",
       "0   19  female  27.900         0    yes  southwest  16884.92400\n",
       "1   18    male  33.770         1     no  southeast   1725.55230\n",
       "2   28    male  33.000         3     no  southeast   4449.46200\n",
       "3   33    male  22.705         0     no  northwest  21984.47061\n",
       "4   32    male  28.880         0     no  northwest   3866.85520"
      ]
     },
     "execution_count": 3,
     "metadata": {},
     "output_type": "execute_result"
    }
   ],
   "source": [
    "df.head()"
   ]
  },
  {
   "cell_type": "markdown",
   "id": "997e76d6",
   "metadata": {},
   "source": [
    "**Health insurance** is a type of insurance that covers medical expenses that arise due to an illness. These expenses could be related to **hospitalisation costs**, **cost of medicines** or **doctor consultation fees**. The main purpose of medical insurance is to receive the **best medical care** without any strain on your **finances**. Health insurance plans offer **protection against high medical costs**. It covers hospitalization expenses, day care procedures, domiciliary expenses, and ambulance charges, besides many others. Based on certain input features such as age , bmi,,no of dependents ,smoker ,region  medical insurance is calculated ."
   ]
  },
  {
   "cell_type": "code",
   "execution_count": 4,
   "id": "3468a641",
   "metadata": {},
   "outputs": [
    {
     "data": {
      "text/plain": [
       "(1338, 7)"
      ]
     },
     "execution_count": 4,
     "metadata": {},
     "output_type": "execute_result"
    }
   ],
   "source": [
    "df.shape"
   ]
  },
  {
   "cell_type": "markdown",
   "id": "eb300d41",
   "metadata": {},
   "source": [
    "**The dataset has 1338 rows and 7 columns**"
   ]
  },
  {
   "cell_type": "code",
   "execution_count": 5,
   "id": "867b25ef",
   "metadata": {},
   "outputs": [
    {
     "data": {
      "text/plain": [
       "Index(['age', 'sex', 'bmi', 'children', 'smoker', 'region', 'charges'], dtype='object')"
      ]
     },
     "execution_count": 5,
     "metadata": {},
     "output_type": "execute_result"
    }
   ],
   "source": [
    "df.columns"
   ]
  },
  {
   "cell_type": "markdown",
   "id": "9a33dc8a",
   "metadata": {},
   "source": [
    "**Columns**                                          \n",
    "\n",
    "* **age:** age of primary beneficiary\n",
    "\n",
    "* **sex:** beneficiary gender (female or male)\n",
    "\n",
    "* **bmi:** Body mass index, providing an understanding of body, weights that are relatively high or low relative to height,         objective index of body weight (kg / m ^ 2) using the ratio of height to weight, ideally 18.5 to 24.9.\n",
    "\n",
    "* **children:** Number of children covered by health insurance / Number of dependents\n",
    "\n",
    "* **smoker:** Smoker or Non-smoker\n",
    "\n",
    "* **region:** the beneficiary's residential area in the US, northeast, southeast, southwest, northwest.\n",
    "* **charges:** Individual medical costs billed by health insurance"
   ]
  },
  {
   "cell_type": "code",
   "execution_count": 6,
   "id": "9eb35126",
   "metadata": {},
   "outputs": [
    {
     "data": {
      "text/plain": [
       "age           int64\n",
       "sex          object\n",
       "bmi         float64\n",
       "children      int64\n",
       "smoker       object\n",
       "region       object\n",
       "charges     float64\n",
       "dtype: object"
      ]
     },
     "execution_count": 6,
     "metadata": {},
     "output_type": "execute_result"
    }
   ],
   "source": [
    "df.dtypes"
   ]
  },
  {
   "cell_type": "code",
   "execution_count": 7,
   "id": "b00d5da4",
   "metadata": {},
   "outputs": [
    {
     "data": {
      "text/html": [
       "<div>\n",
       "<style scoped>\n",
       "    .dataframe tbody tr th:only-of-type {\n",
       "        vertical-align: middle;\n",
       "    }\n",
       "\n",
       "    .dataframe tbody tr th {\n",
       "        vertical-align: top;\n",
       "    }\n",
       "\n",
       "    .dataframe thead th {\n",
       "        text-align: right;\n",
       "    }\n",
       "</style>\n",
       "<table border=\"1\" class=\"dataframe\">\n",
       "  <thead>\n",
       "    <tr style=\"text-align: right;\">\n",
       "      <th></th>\n",
       "      <th>age</th>\n",
       "      <th>bmi</th>\n",
       "      <th>children</th>\n",
       "      <th>charges</th>\n",
       "    </tr>\n",
       "  </thead>\n",
       "  <tbody>\n",
       "    <tr>\n",
       "      <th>count</th>\n",
       "      <td>1338.000000</td>\n",
       "      <td>1338.000000</td>\n",
       "      <td>1338.000000</td>\n",
       "      <td>1338.000000</td>\n",
       "    </tr>\n",
       "    <tr>\n",
       "      <th>mean</th>\n",
       "      <td>39.207025</td>\n",
       "      <td>30.663397</td>\n",
       "      <td>1.094918</td>\n",
       "      <td>13270.422265</td>\n",
       "    </tr>\n",
       "    <tr>\n",
       "      <th>std</th>\n",
       "      <td>14.049960</td>\n",
       "      <td>6.098187</td>\n",
       "      <td>1.205493</td>\n",
       "      <td>12110.011237</td>\n",
       "    </tr>\n",
       "    <tr>\n",
       "      <th>min</th>\n",
       "      <td>18.000000</td>\n",
       "      <td>15.960000</td>\n",
       "      <td>0.000000</td>\n",
       "      <td>1121.873900</td>\n",
       "    </tr>\n",
       "    <tr>\n",
       "      <th>25%</th>\n",
       "      <td>27.000000</td>\n",
       "      <td>26.296250</td>\n",
       "      <td>0.000000</td>\n",
       "      <td>4740.287150</td>\n",
       "    </tr>\n",
       "    <tr>\n",
       "      <th>50%</th>\n",
       "      <td>39.000000</td>\n",
       "      <td>30.400000</td>\n",
       "      <td>1.000000</td>\n",
       "      <td>9382.033000</td>\n",
       "    </tr>\n",
       "    <tr>\n",
       "      <th>75%</th>\n",
       "      <td>51.000000</td>\n",
       "      <td>34.693750</td>\n",
       "      <td>2.000000</td>\n",
       "      <td>16639.912515</td>\n",
       "    </tr>\n",
       "    <tr>\n",
       "      <th>max</th>\n",
       "      <td>64.000000</td>\n",
       "      <td>53.130000</td>\n",
       "      <td>5.000000</td>\n",
       "      <td>63770.428010</td>\n",
       "    </tr>\n",
       "  </tbody>\n",
       "</table>\n",
       "</div>"
      ],
      "text/plain": [
       "               age          bmi     children       charges\n",
       "count  1338.000000  1338.000000  1338.000000   1338.000000\n",
       "mean     39.207025    30.663397     1.094918  13270.422265\n",
       "std      14.049960     6.098187     1.205493  12110.011237\n",
       "min      18.000000    15.960000     0.000000   1121.873900\n",
       "25%      27.000000    26.296250     0.000000   4740.287150\n",
       "50%      39.000000    30.400000     1.000000   9382.033000\n",
       "75%      51.000000    34.693750     2.000000  16639.912515\n",
       "max      64.000000    53.130000     5.000000  63770.428010"
      ]
     },
     "execution_count": 7,
     "metadata": {},
     "output_type": "execute_result"
    }
   ],
   "source": [
    "df.describe()"
   ]
  },
  {
   "cell_type": "code",
   "execution_count": 8,
   "id": "7d949535",
   "metadata": {},
   "outputs": [
    {
     "data": {
      "text/plain": [
       "age         0\n",
       "sex         0\n",
       "bmi         0\n",
       "children    0\n",
       "smoker      0\n",
       "region      0\n",
       "charges     0\n",
       "dtype: int64"
      ]
     },
     "execution_count": 8,
     "metadata": {},
     "output_type": "execute_result"
    }
   ],
   "source": [
    "df.isnull().sum()"
   ]
  },
  {
   "cell_type": "markdown",
   "id": "0dd4be72",
   "metadata": {},
   "source": [
    "No missing values. Good to proceed further"
   ]
  },
  {
   "cell_type": "markdown",
   "id": "460afd15",
   "metadata": {},
   "source": [
    "# Data Analysis"
   ]
  },
  {
   "cell_type": "markdown",
   "id": "650658c5",
   "metadata": {},
   "source": [
    "*           **a) Categorical Variables**"
   ]
  },
  {
   "cell_type": "code",
   "execution_count": 9,
   "id": "061b312b",
   "metadata": {},
   "outputs": [
    {
     "data": {
      "text/plain": [
       "Counter({'female': 662, 'male': 676})"
      ]
     },
     "execution_count": 9,
     "metadata": {},
     "output_type": "execute_result"
    },
    {
     "data": {
      "image/png": "[encoded data removed]",
      "text/plain": [
       "<Figure size 432x288 with 1 Axes>"
      ]
     },
     "metadata": {
      "needs_background": "light"
     },
     "output_type": "display_data"
    }
   ],
   "source": [
    "sns.countplot(df['sex'])\n",
    "Counter(df['sex'])"
   ]
  },
  {
   "cell_type": "markdown",
   "id": "58fc9670",
   "metadata": {},
   "source": [
    "Almost equal amount male and females are there in the given dataset"
   ]
  },
  {
   "cell_type": "code",
   "execution_count": 10,
   "id": "60c27db8",
   "metadata": {},
   "outputs": [
    {
     "data": {
      "text/plain": [
       "Counter({0: 574, 1: 324, 3: 157, 2: 240, 5: 18, 4: 25})"
      ]
     },
     "execution_count": 10,
     "metadata": {},
     "output_type": "execute_result"
    },
    {
     "data": {
      "image/png": "[encoded data removed]",
      "text/plain": [
       "<Figure size 432x288 with 1 Axes>"
      ]
     },
     "metadata": {
      "needs_background": "light"
     },
     "output_type": "display_data"
    }
   ],
   "source": [
    "sns.countplot(df['children'])\n",
    "Counter(df['children'])"
   ]
  },
  {
   "cell_type": "markdown",
   "id": "d5741068",
   "metadata": {},
   "source": [
    "**Out of 1338 clients, 574 have no child, 324 have single child and remaining have more than one child**"
   ]
  },
  {
   "cell_type": "code",
   "execution_count": 11,
   "id": "b73285a1",
   "metadata": {},
   "outputs": [
    {
     "data": {
      "text/plain": [
       "Counter({'yes': 274, 'no': 1064})"
      ]
     },
     "execution_count": 11,
     "metadata": {},
     "output_type": "execute_result"
    },
    {
     "data": {
      "image/png": "[encoded data removed]",
      "text/plain": [
       "<Figure size 432x288 with 1 Axes>"
      ]
     },
     "metadata": {
      "needs_background": "light"
     },
     "output_type": "display_data"
    }
   ],
   "source": [
    "sns.countplot(df['smoker'])\n",
    "Counter(df['smoker'])"
   ]
  },
  {
   "cell_type": "markdown",
   "id": "7e03bd47",
   "metadata": {},
   "source": [
    "**Majority of non-smokers are there in the given dataset**"
   ]
  },
  {
   "cell_type": "code",
   "execution_count": 12,
   "id": "c407b5c3",
   "metadata": {},
   "outputs": [
    {
     "data": {
      "text/plain": [
       "Counter({'southwest': 325,\n",
       "         'southeast': 364,\n",
       "         'northwest': 325,\n",
       "         'northeast': 324})"
      ]
     },
     "execution_count": 12,
     "metadata": {},
     "output_type": "execute_result"
    },
    {
     "data": {
      "image/png": "[encoded data removed]",
      "text/plain": [
       "<Figure size 432x288 with 1 Axes>"
      ]
     },
     "metadata": {
      "needs_background": "light"
     },
     "output_type": "display_data"
    }
   ],
   "source": [
    "sns.countplot(df['region'])\n",
    "Counter(df['region'])"
   ]
  },
  {
   "cell_type": "markdown",
   "id": "f5d751a6",
   "metadata": {},
   "source": [
    "**We observe almost equal number of clients from each region in the given dataset**"
   ]
  },
  {
   "cell_type": "markdown",
   "id": "b22294e9",
   "metadata": {},
   "source": [
    "* **b) Continuous Variable**"
   ]
  },
  {
   "cell_type": "code",
   "execution_count": 13,
   "id": "097dced9",
   "metadata": {},
   "outputs": [
    {
     "data": {
      "text/plain": [
       "<AxesSubplot:xlabel='age', ylabel='Density'>"
      ]
     },
     "execution_count": 13,
     "metadata": {},
     "output_type": "execute_result"
    },
    {
     "data": {
      "image/png": "[encoded data removed]",
      "text/plain": [
       "<Figure size 432x288 with 1 Axes>"
      ]
     },
     "metadata": {
      "needs_background": "light"
     },
     "output_type": "display_data"
    }
   ],
   "source": [
    "sns.distplot(df['age'])"
   ]
  },
  {
   "cell_type": "code",
   "execution_count": 14,
   "id": "8a5217af",
   "metadata": {},
   "outputs": [
    {
     "data": {
      "text/plain": [
       "<AxesSubplot:xlabel='bmi', ylabel='Density'>"
      ]
     },
     "execution_count": 14,
     "metadata": {},
     "output_type": "execute_result"
    },
    {
     "data": {
      "image/png": "[encoded data removed]",
      "text/plain": [
       "<Figure size 432x288 with 1 Axes>"
      ]
     },
     "metadata": {
      "needs_background": "light"
     },
     "output_type": "display_data"
    }
   ],
   "source": [
    "sns.distplot(df['bmi'])"
   ]
  },
  {
   "cell_type": "markdown",
   "id": "8931cf88",
   "metadata": {},
   "source": [
    "**We observe a perfect bell curve for bmi data distribution**"
   ]
  },
  {
   "cell_type": "code",
   "execution_count": 15,
   "id": "b37b29de",
   "metadata": {},
   "outputs": [
    {
     "data": {
      "text/plain": [
       "<AxesSubplot:xlabel='charges', ylabel='Density'>"
      ]
     },
     "execution_count": 15,
     "metadata": {},
     "output_type": "execute_result"
    },
    {
     "data": {
      "image/png": "[encoded data removed]",
      "text/plain": [
       "<Figure size 432x288 with 1 Axes>"
      ]
     },
     "metadata": {
      "needs_background": "light"
     },
     "output_type": "display_data"
    }
   ],
   "source": [
    "sns.distplot(df['charges'])"
   ]
  },
  {
   "cell_type": "markdown",
   "id": "a2ead34a",
   "metadata": {},
   "source": [
    "**We observe the data of our target variable is positively skewed**"
   ]
  },
  {
   "cell_type": "code",
   "execution_count": 16,
   "id": "17b0e95a",
   "metadata": {},
   "outputs": [
    {
     "data": {
      "image/png": "[encoded data removed]",
      "text/plain": [
       "<Figure size 432x288 with 1 Axes>"
      ]
     },
     "metadata": {
      "needs_background": "light"
     },
     "output_type": "display_data"
    }
   ],
   "source": [
    "age_cost = df.pivot_table(index='smoker',values='charges')\n",
    "age_cost.plot(kind='bar')\n",
    "plt.xlabel('Smoker')\n",
    "plt.ylabel('Avg Charges')\n",
    "plt.xticks(rotation=0)\n",
    "plt.show()"
   ]
  },
  {
   "cell_type": "markdown",
   "id": "b380adf9",
   "metadata": {},
   "source": [
    "**Medical insurance cost for smoker category is much higher than the non smoker category and hence charges data seems to be positively skewed**"
   ]
  },
  {
   "cell_type": "markdown",
   "id": "c00d0088",
   "metadata": {},
   "source": [
    "# Correlation"
   ]
  },
  {
   "cell_type": "code",
   "execution_count": 17,
   "id": "fe59fbd1",
   "metadata": {},
   "outputs": [
    {
     "data": {
      "text/plain": [
       "<AxesSubplot:>"
      ]
     },
     "execution_count": 17,
     "metadata": {},
     "output_type": "execute_result"
    },
    {
     "data": {
      "image/png": "[encoded data removed]",
      "text/plain": [
       "<Figure size 1080x432 with 2 Axes>"
      ]
     },
     "metadata": {
      "needs_background": "light"
     },
     "output_type": "display_data"
    }
   ],
   "source": [
    "plt.figure(figsize=(15,6))\n",
    "sns.heatmap(df.corr(),annot =True,linewidths=0.25,linecolor='white',fmt=\"0.2f\")"
   ]
  },
  {
   "cell_type": "code",
   "execution_count": 18,
   "id": "1f0e66b6",
   "metadata": {},
   "outputs": [
    {
     "data": {
      "image/png": "[encoded data removed]",
      "text/plain": [
       "<Figure size 720x288 with 1 Axes>"
      ]
     },
     "metadata": {
      "needs_background": "light"
     },
     "output_type": "display_data"
    }
   ],
   "source": [
    "plt.figure(figsize = (10,4))\n",
    "df.corr()['charges'].sort_values(ascending=False).drop(['charges']).plot(kind ='bar',color='g')\n",
    "plt.xlabel('Features',fontsize = 20)\n",
    "plt.ylabel('Charges', fontsize =20)\n",
    "plt.title('Correlation',fontsize=24)\n",
    "plt.xticks(rotation=0)\n",
    "plt.show()"
   ]
  },
  {
   "cell_type": "code",
   "execution_count": 19,
   "id": "b41c96b2",
   "metadata": {},
   "outputs": [
    {
     "data": {
      "text/plain": [
       "age         0.055673\n",
       "bmi         0.284047\n",
       "children    0.938380\n",
       "charges     1.515880\n",
       "dtype: float64"
      ]
     },
     "execution_count": 19,
     "metadata": {},
     "output_type": "execute_result"
    }
   ],
   "source": [
    "df.skew()"
   ]
  },
  {
   "cell_type": "markdown",
   "id": "69cc9e6e",
   "metadata": {},
   "source": [
    "**Keeping +/-0.5 as the range of skewness, here are the columns which does not lie within this range.**\n",
    "\n",
    "* **chidren** -Categorical\n",
    "* **charges** - target variale\n",
    "\n",
    "**Since no continuous column has skewness, we will not treat that.**"
   ]
  },
  {
   "cell_type": "code",
   "execution_count": 20,
   "id": "8962b666",
   "metadata": {},
   "outputs": [
    {
     "data": {
      "text/html": [
       "<div>\n",
       "<style scoped>\n",
       "    .dataframe tbody tr th:only-of-type {\n",
       "        vertical-align: middle;\n",
       "    }\n",
       "\n",
       "    .dataframe tbody tr th {\n",
       "        vertical-align: top;\n",
       "    }\n",
       "\n",
       "    .dataframe thead th {\n",
       "        text-align: right;\n",
       "    }\n",
       "</style>\n",
       "<table border=\"1\" class=\"dataframe\">\n",
       "  <thead>\n",
       "    <tr style=\"text-align: right;\">\n",
       "      <th></th>\n",
       "      <th>age</th>\n",
       "      <th>sex</th>\n",
       "      <th>bmi</th>\n",
       "      <th>children</th>\n",
       "      <th>smoker</th>\n",
       "      <th>region</th>\n",
       "      <th>charges</th>\n",
       "    </tr>\n",
       "  </thead>\n",
       "  <tbody>\n",
       "    <tr>\n",
       "      <th>0</th>\n",
       "      <td>19</td>\n",
       "      <td>female</td>\n",
       "      <td>27.900</td>\n",
       "      <td>0</td>\n",
       "      <td>yes</td>\n",
       "      <td>southwest</td>\n",
       "      <td>16884.92400</td>\n",
       "    </tr>\n",
       "    <tr>\n",
       "      <th>1</th>\n",
       "      <td>18</td>\n",
       "      <td>male</td>\n",
       "      <td>33.770</td>\n",
       "      <td>1</td>\n",
       "      <td>no</td>\n",
       "      <td>southeast</td>\n",
       "      <td>1725.55230</td>\n",
       "    </tr>\n",
       "    <tr>\n",
       "      <th>2</th>\n",
       "      <td>28</td>\n",
       "      <td>male</td>\n",
       "      <td>33.000</td>\n",
       "      <td>3</td>\n",
       "      <td>no</td>\n",
       "      <td>southeast</td>\n",
       "      <td>4449.46200</td>\n",
       "    </tr>\n",
       "    <tr>\n",
       "      <th>3</th>\n",
       "      <td>33</td>\n",
       "      <td>male</td>\n",
       "      <td>22.705</td>\n",
       "      <td>0</td>\n",
       "      <td>no</td>\n",
       "      <td>northwest</td>\n",
       "      <td>21984.47061</td>\n",
       "    </tr>\n",
       "    <tr>\n",
       "      <th>4</th>\n",
       "      <td>32</td>\n",
       "      <td>male</td>\n",
       "      <td>28.880</td>\n",
       "      <td>0</td>\n",
       "      <td>no</td>\n",
       "      <td>northwest</td>\n",
       "      <td>3866.85520</td>\n",
       "    </tr>\n",
       "  </tbody>\n",
       "</table>\n",
       "</div>"
      ],
      "text/plain": [
       "   age     sex     bmi  children smoker     region      charges\n",
       "0   19  female  27.900         0    yes  southwest  16884.92400\n",
       "1   18    male  33.770         1     no  southeast   1725.55230\n",
       "2   28    male  33.000         3     no  southeast   4449.46200\n",
       "3   33    male  22.705         0     no  northwest  21984.47061\n",
       "4   32    male  28.880         0     no  northwest   3866.85520"
      ]
     },
     "execution_count": 20,
     "metadata": {},
     "output_type": "execute_result"
    }
   ],
   "source": [
    "df.head()"
   ]
  },
  {
   "cell_type": "markdown",
   "id": "12519865",
   "metadata": {},
   "source": [
    "**sex,smoker and region** needs to be encoded into numbers"
   ]
  },
  {
   "cell_type": "markdown",
   "id": "8b82ffcc",
   "metadata": {},
   "source": [
    "# Encoding of categorical variables"
   ]
  },
  {
   "cell_type": "code",
   "execution_count": 21,
   "id": "183f2b62",
   "metadata": {},
   "outputs": [],
   "source": [
    "from sklearn.preprocessing import OrdinalEncoder"
   ]
  },
  {
   "cell_type": "code",
   "execution_count": 22,
   "id": "84def0e6",
   "metadata": {},
   "outputs": [],
   "source": [
    "oen = OrdinalEncoder()"
   ]
  },
  {
   "cell_type": "code",
   "execution_count": 23,
   "id": "9a58bef7",
   "metadata": {},
   "outputs": [],
   "source": [
    "for i in df.columns:\n",
    "    if df[i].dtypes == \"object\":\n",
    "        df[i] = oen.fit_transform(df[i].values.reshape(-1,1))"
   ]
  },
  {
   "cell_type": "code",
   "execution_count": 24,
   "id": "d91dd9b7",
   "metadata": {},
   "outputs": [
    {
     "data": {
      "text/html": [
       "<div>\n",
       "<style scoped>\n",
       "    .dataframe tbody tr th:only-of-type {\n",
       "        vertical-align: middle;\n",
       "    }\n",
       "\n",
       "    .dataframe tbody tr th {\n",
       "        vertical-align: top;\n",
       "    }\n",
       "\n",
       "    .dataframe thead th {\n",
       "        text-align: right;\n",
       "    }\n",
       "</style>\n",
       "<table border=\"1\" class=\"dataframe\">\n",
       "  <thead>\n",
       "    <tr style=\"text-align: right;\">\n",
       "      <th></th>\n",
       "      <th>age</th>\n",
       "      <th>sex</th>\n",
       "      <th>bmi</th>\n",
       "      <th>children</th>\n",
       "      <th>smoker</th>\n",
       "      <th>region</th>\n",
       "      <th>charges</th>\n",
       "    </tr>\n",
       "  </thead>\n",
       "  <tbody>\n",
       "    <tr>\n",
       "      <th>0</th>\n",
       "      <td>19</td>\n",
       "      <td>0.0</td>\n",
       "      <td>27.900</td>\n",
       "      <td>0</td>\n",
       "      <td>1.0</td>\n",
       "      <td>3.0</td>\n",
       "      <td>16884.92400</td>\n",
       "    </tr>\n",
       "    <tr>\n",
       "      <th>1</th>\n",
       "      <td>18</td>\n",
       "      <td>1.0</td>\n",
       "      <td>33.770</td>\n",
       "      <td>1</td>\n",
       "      <td>0.0</td>\n",
       "      <td>2.0</td>\n",
       "      <td>1725.55230</td>\n",
       "    </tr>\n",
       "    <tr>\n",
       "      <th>2</th>\n",
       "      <td>28</td>\n",
       "      <td>1.0</td>\n",
       "      <td>33.000</td>\n",
       "      <td>3</td>\n",
       "      <td>0.0</td>\n",
       "      <td>2.0</td>\n",
       "      <td>4449.46200</td>\n",
       "    </tr>\n",
       "    <tr>\n",
       "      <th>3</th>\n",
       "      <td>33</td>\n",
       "      <td>1.0</td>\n",
       "      <td>22.705</td>\n",
       "      <td>0</td>\n",
       "      <td>0.0</td>\n",
       "      <td>1.0</td>\n",
       "      <td>21984.47061</td>\n",
       "    </tr>\n",
       "    <tr>\n",
       "      <th>4</th>\n",
       "      <td>32</td>\n",
       "      <td>1.0</td>\n",
       "      <td>28.880</td>\n",
       "      <td>0</td>\n",
       "      <td>0.0</td>\n",
       "      <td>1.0</td>\n",
       "      <td>3866.85520</td>\n",
       "    </tr>\n",
       "  </tbody>\n",
       "</table>\n",
       "</div>"
      ],
      "text/plain": [
       "   age  sex     bmi  children  smoker  region      charges\n",
       "0   19  0.0  27.900         0     1.0     3.0  16884.92400\n",
       "1   18  1.0  33.770         1     0.0     2.0   1725.55230\n",
       "2   28  1.0  33.000         3     0.0     2.0   4449.46200\n",
       "3   33  1.0  22.705         0     0.0     1.0  21984.47061\n",
       "4   32  1.0  28.880         0     0.0     1.0   3866.85520"
      ]
     },
     "execution_count": 24,
     "metadata": {},
     "output_type": "execute_result"
    }
   ],
   "source": [
    "df.head()"
   ]
  },
  {
   "cell_type": "markdown",
   "id": "6a23c1dc",
   "metadata": {},
   "source": [
    "# Scaling the data using StandardScaler"
   ]
  },
  {
   "cell_type": "code",
   "execution_count": 25,
   "id": "dd27e371",
   "metadata": {},
   "outputs": [],
   "source": [
    "from sklearn.preprocessing import StandardScaler"
   ]
  },
  {
   "cell_type": "code",
   "execution_count": 26,
   "id": "1b14a0f7",
   "metadata": {},
   "outputs": [],
   "source": [
    "X = df.drop('charges',axis=1)\n",
    "y = df['charges']"
   ]
  },
  {
   "cell_type": "code",
   "execution_count": 27,
   "id": "0d399e1e",
   "metadata": {},
   "outputs": [
    {
     "data": {
      "text/html": [
       "<div>\n",
       "<style scoped>\n",
       "    .dataframe tbody tr th:only-of-type {\n",
       "        vertical-align: middle;\n",
       "    }\n",
       "\n",
       "    .dataframe tbody tr th {\n",
       "        vertical-align: top;\n",
       "    }\n",
       "\n",
       "    .dataframe thead th {\n",
       "        text-align: right;\n",
       "    }\n",
       "</style>\n",
       "<table border=\"1\" class=\"dataframe\">\n",
       "  <thead>\n",
       "    <tr style=\"text-align: right;\">\n",
       "      <th></th>\n",
       "      <th>age</th>\n",
       "      <th>sex</th>\n",
       "      <th>bmi</th>\n",
       "      <th>children</th>\n",
       "      <th>smoker</th>\n",
       "      <th>region</th>\n",
       "    </tr>\n",
       "  </thead>\n",
       "  <tbody>\n",
       "    <tr>\n",
       "      <th>0</th>\n",
       "      <td>19</td>\n",
       "      <td>0.0</td>\n",
       "      <td>27.900</td>\n",
       "      <td>0</td>\n",
       "      <td>1.0</td>\n",
       "      <td>3.0</td>\n",
       "    </tr>\n",
       "    <tr>\n",
       "      <th>1</th>\n",
       "      <td>18</td>\n",
       "      <td>1.0</td>\n",
       "      <td>33.770</td>\n",
       "      <td>1</td>\n",
       "      <td>0.0</td>\n",
       "      <td>2.0</td>\n",
       "    </tr>\n",
       "    <tr>\n",
       "      <th>2</th>\n",
       "      <td>28</td>\n",
       "      <td>1.0</td>\n",
       "      <td>33.000</td>\n",
       "      <td>3</td>\n",
       "      <td>0.0</td>\n",
       "      <td>2.0</td>\n",
       "    </tr>\n",
       "    <tr>\n",
       "      <th>3</th>\n",
       "      <td>33</td>\n",
       "      <td>1.0</td>\n",
       "      <td>22.705</td>\n",
       "      <td>0</td>\n",
       "      <td>0.0</td>\n",
       "      <td>1.0</td>\n",
       "    </tr>\n",
       "    <tr>\n",
       "      <th>4</th>\n",
       "      <td>32</td>\n",
       "      <td>1.0</td>\n",
       "      <td>28.880</td>\n",
       "      <td>0</td>\n",
       "      <td>0.0</td>\n",
       "      <td>1.0</td>\n",
       "    </tr>\n",
       "    <tr>\n",
       "      <th>...</th>\n",
       "      <td>...</td>\n",
       "      <td>...</td>\n",
       "      <td>...</td>\n",
       "      <td>...</td>\n",
       "      <td>...</td>\n",
       "      <td>...</td>\n",
       "    </tr>\n",
       "    <tr>\n",
       "      <th>1333</th>\n",
       "      <td>50</td>\n",
       "      <td>1.0</td>\n",
       "      <td>30.970</td>\n",
       "      <td>3</td>\n",
       "      <td>0.0</td>\n",
       "      <td>1.0</td>\n",
       "    </tr>\n",
       "    <tr>\n",
       "      <th>1334</th>\n",
       "      <td>18</td>\n",
       "      <td>0.0</td>\n",
       "      <td>31.920</td>\n",
       "      <td>0</td>\n",
       "      <td>0.0</td>\n",
       "      <td>0.0</td>\n",
       "    </tr>\n",
       "    <tr>\n",
       "      <th>1335</th>\n",
       "      <td>18</td>\n",
       "      <td>0.0</td>\n",
       "      <td>36.850</td>\n",
       "      <td>0</td>\n",
       "      <td>0.0</td>\n",
       "      <td>2.0</td>\n",
       "    </tr>\n",
       "    <tr>\n",
       "      <th>1336</th>\n",
       "      <td>21</td>\n",
       "      <td>0.0</td>\n",
       "      <td>25.800</td>\n",
       "      <td>0</td>\n",
       "      <td>0.0</td>\n",
       "      <td>3.0</td>\n",
       "    </tr>\n",
       "    <tr>\n",
       "      <th>1337</th>\n",
       "      <td>61</td>\n",
       "      <td>0.0</td>\n",
       "      <td>29.070</td>\n",
       "      <td>0</td>\n",
       "      <td>1.0</td>\n",
       "      <td>1.0</td>\n",
       "    </tr>\n",
       "  </tbody>\n",
       "</table>\n",
       "<p>1338 rows × 6 columns</p>\n",
       "</div>"
      ],
      "text/plain": [
       "      age  sex     bmi  children  smoker  region\n",
       "0      19  0.0  27.900         0     1.0     3.0\n",
       "1      18  1.0  33.770         1     0.0     2.0\n",
       "2      28  1.0  33.000         3     0.0     2.0\n",
       "3      33  1.0  22.705         0     0.0     1.0\n",
       "4      32  1.0  28.880         0     0.0     1.0\n",
       "...   ...  ...     ...       ...     ...     ...\n",
       "1333   50  1.0  30.970         3     0.0     1.0\n",
       "1334   18  0.0  31.920         0     0.0     0.0\n",
       "1335   18  0.0  36.850         0     0.0     2.0\n",
       "1336   21  0.0  25.800         0     0.0     3.0\n",
       "1337   61  0.0  29.070         0     1.0     1.0\n",
       "\n",
       "[1338 rows x 6 columns]"
      ]
     },
     "execution_count": 27,
     "metadata": {},
     "output_type": "execute_result"
    }
   ],
   "source": [
    "X"
   ]
  },
  {
   "cell_type": "code",
   "execution_count": 28,
   "id": "7c769b0d",
   "metadata": {},
   "outputs": [],
   "source": [
    "scaler = StandardScaler()"
   ]
  },
  {
   "cell_type": "code",
   "execution_count": 29,
   "id": "76dab34b",
   "metadata": {},
   "outputs": [],
   "source": [
    "X_scaled = scaler.fit_transform(X)"
   ]
  },
  {
   "cell_type": "code",
   "execution_count": 30,
   "id": "50bca592",
   "metadata": {},
   "outputs": [
    {
     "data": {
      "text/plain": [
       "array([[-1.43876426, -1.0105187 , -0.45332   , -0.90861367,  1.97058663,\n",
       "         1.34390459],\n",
       "       [-1.50996545,  0.98959079,  0.5096211 , -0.07876719, -0.5074631 ,\n",
       "         0.43849455],\n",
       "       [-0.79795355,  0.98959079,  0.38330685,  1.58092576, -0.5074631 ,\n",
       "         0.43849455],\n",
       "       ...,\n",
       "       [-1.50996545, -1.0105187 ,  1.0148781 , -0.90861367, -0.5074631 ,\n",
       "         0.43849455],\n",
       "       [-1.29636188, -1.0105187 , -0.79781341, -0.90861367, -0.5074631 ,\n",
       "         1.34390459],\n",
       "       [ 1.55168573, -1.0105187 , -0.26138796, -0.90861367,  1.97058663,\n",
       "        -0.46691549]])"
      ]
     },
     "execution_count": 30,
     "metadata": {},
     "output_type": "execute_result"
    }
   ],
   "source": [
    "X_scaled"
   ]
  },
  {
   "cell_type": "markdown",
   "id": "3e10674a",
   "metadata": {},
   "source": [
    "# Checking multicollinearity using variance inflation factor"
   ]
  },
  {
   "cell_type": "code",
   "execution_count": 32,
   "id": "b58519f1",
   "metadata": {},
   "outputs": [
    {
     "data": {
      "text/html": [
       "<div>\n",
       "<style scoped>\n",
       "    .dataframe tbody tr th:only-of-type {\n",
       "        vertical-align: middle;\n",
       "    }\n",
       "\n",
       "    .dataframe tbody tr th {\n",
       "        vertical-align: top;\n",
       "    }\n",
       "\n",
       "    .dataframe thead th {\n",
       "        text-align: right;\n",
       "    }\n",
       "</style>\n",
       "<table border=\"1\" class=\"dataframe\">\n",
       "  <thead>\n",
       "    <tr style=\"text-align: right;\">\n",
       "      <th></th>\n",
       "      <th>vif</th>\n",
       "      <th>Features</th>\n",
       "    </tr>\n",
       "  </thead>\n",
       "  <tbody>\n",
       "    <tr>\n",
       "      <th>0</th>\n",
       "      <td>1.015394</td>\n",
       "      <td>age</td>\n",
       "    </tr>\n",
       "    <tr>\n",
       "      <th>1</th>\n",
       "      <td>1.008889</td>\n",
       "      <td>sex</td>\n",
       "    </tr>\n",
       "    <tr>\n",
       "      <th>2</th>\n",
       "      <td>1.040608</td>\n",
       "      <td>bmi</td>\n",
       "    </tr>\n",
       "    <tr>\n",
       "      <th>3</th>\n",
       "      <td>1.002482</td>\n",
       "      <td>children</td>\n",
       "    </tr>\n",
       "    <tr>\n",
       "      <th>4</th>\n",
       "      <td>1.006466</td>\n",
       "      <td>smoker</td>\n",
       "    </tr>\n",
       "    <tr>\n",
       "      <th>5</th>\n",
       "      <td>1.025966</td>\n",
       "      <td>region</td>\n",
       "    </tr>\n",
       "  </tbody>\n",
       "</table>\n",
       "</div>"
      ],
      "text/plain": [
       "        vif  Features\n",
       "0  1.015394       age\n",
       "1  1.008889       sex\n",
       "2  1.040608       bmi\n",
       "3  1.002482  children\n",
       "4  1.006466    smoker\n",
       "5  1.025966    region"
      ]
     },
     "execution_count": 32,
     "metadata": {},
     "output_type": "execute_result"
    }
   ],
   "source": [
    "from statsmodels.stats.outliers_influence import variance_inflation_factor\n",
    "vif = pd.DataFrame()\n",
    "vif['vif'] = [variance_inflation_factor(X_scaled,i) for i in range(X_scaled.shape[1])]\n",
    "vif['Features'] = X.columns\n",
    "\n",
    "vif"
   ]
  },
  {
   "cell_type": "markdown",
   "id": "dc39cb94",
   "metadata": {},
   "source": [
    "**All the vif values are less than 5 and very low.That means there is no multicollinearity problem exist in this dataset. Now we will find the best random state.**"
   ]
  },
  {
   "cell_type": "markdown",
   "id": "ef2b0028",
   "metadata": {},
   "source": [
    "# Best Random State"
   ]
  },
  {
   "cell_type": "code",
   "execution_count": 33,
   "id": "cf954684",
   "metadata": {},
   "outputs": [
    {
     "name": "stdout",
     "output_type": "stream",
     "text": [
      "R2 Score:  0.7623224022563388 at random state 1\n",
      "Maximum R2 Score: 0.7623224022563388 at random state  1\n",
      "R2 Score:  0.7445422986536503 at random state 2\n",
      "R2 Score:  0.7406256738597918 at random state 3\n",
      "R2 Score:  0.6970099489172212 at random state 4\n",
      "R2 Score:  0.7790865933969187 at random state 5\n",
      "Maximum R2 Score: 0.7790865933969187 at random state  5\n",
      "R2 Score:  0.7785295914318422 at random state 6\n",
      "R2 Score:  0.7644939656224732 at random state 7\n",
      "R2 Score:  0.7250569658128251 at random state 8\n",
      "R2 Score:  0.7778683760574732 at random state 9\n",
      "R2 Score:  0.6957010622294885 at random state 10\n",
      "R2 Score:  0.7993819717035826 at random state 11\n",
      "Maximum R2 Score: 0.7993819717035826 at random state  11\n",
      "R2 Score:  0.7096380405273459 at random state 12\n",
      "R2 Score:  0.7989255552370543 at random state 13\n",
      "R2 Score:  0.7294640312702891 at random state 14\n",
      "R2 Score:  0.7708744759820262 at random state 15\n",
      "R2 Score:  0.7075292952600163 at random state 16\n",
      "R2 Score:  0.7342745730232989 at random state 17\n",
      "R2 Score:  0.7655816748492489 at random state 18\n",
      "R2 Score:  0.7455822176310458 at random state 19\n",
      "R2 Score:  0.7960709949046044 at random state 20\n",
      "R2 Score:  0.734813681387789 at random state 21\n",
      "R2 Score:  0.7577242096466302 at random state 22\n",
      "R2 Score:  0.7531430170965644 at random state 23\n",
      "R2 Score:  0.7765389470136035 at random state 24\n",
      "R2 Score:  0.7575797365475683 at random state 25\n",
      "R2 Score:  0.7344939925387854 at random state 26\n",
      "R2 Score:  0.7315462085856305 at random state 27\n",
      "R2 Score:  0.6955075965076165 at random state 28\n",
      "R2 Score:  0.7105443958312564 at random state 29\n",
      "R2 Score:  0.7602344599010099 at random state 30\n",
      "R2 Score:  0.7062272358690904 at random state 31\n",
      "R2 Score:  0.7814888546122386 at random state 32\n",
      "R2 Score:  0.7013125618353471 at random state 33\n",
      "R2 Score:  0.7461578203319277 at random state 34\n",
      "R2 Score:  0.7211174878662856 at random state 35\n",
      "R2 Score:  0.7533463363236209 at random state 36\n",
      "R2 Score:  0.718170854798325 at random state 37\n",
      "R2 Score:  0.7093731922382558 at random state 38\n",
      "R2 Score:  0.749426988428108 at random state 39\n",
      "R2 Score:  0.7340463835777766 at random state 40\n",
      "R2 Score:  0.6848317051895279 at random state 41\n",
      "R2 Score:  0.7833463107364536 at random state 42\n",
      "R2 Score:  0.6939736014653856 at random state 43\n",
      "R2 Score:  0.7541477784775991 at random state 44\n",
      "R2 Score:  0.7035989194448834 at random state 45\n",
      "R2 Score:  0.7667175533084114 at random state 46\n",
      "R2 Score:  0.7993958934706319 at random state 47\n",
      "Maximum R2 Score: 0.7993958934706319 at random state  47\n",
      "R2 Score:  0.753602623146995 at random state 48\n",
      "R2 Score:  0.7679224122971995 at random state 49\n",
      "R2 Score:  0.7866124253214011 at random state 50\n",
      "R2 Score:  0.7493031580280478 at random state 51\n",
      "R2 Score:  0.691845327852702 at random state 52\n",
      "R2 Score:  0.7730411118060608 at random state 53\n",
      "R2 Score:  0.6551659717360777 at random state 54\n",
      "R2 Score:  0.690682695630576 at random state 55\n",
      "R2 Score:  0.7099514097663596 at random state 56\n",
      "R2 Score:  0.7766936418255062 at random state 57\n",
      "R2 Score:  0.7519853968945415 at random state 58\n",
      "R2 Score:  0.7964661633827785 at random state 59\n",
      "R2 Score:  0.6714775133378288 at random state 60\n",
      "R2 Score:  0.728669376864955 at random state 61\n",
      "R2 Score:  0.6848537585752447 at random state 62\n",
      "R2 Score:  0.7312189817356336 at random state 63\n",
      "R2 Score:  0.7622508746121971 at random state 64\n",
      "R2 Score:  0.7282324880167024 at random state 65\n",
      "R2 Score:  0.7782910086637806 at random state 66\n",
      "R2 Score:  0.7428805437507753 at random state 67\n",
      "R2 Score:  0.7688184963140623 at random state 68\n",
      "R2 Score:  0.7437936173365165 at random state 69\n",
      "R2 Score:  0.6732398081392252 at random state 70\n",
      "R2 Score:  0.7523890751423534 at random state 71\n",
      "R2 Score:  0.7372940561367085 at random state 72\n",
      "R2 Score:  0.7125501410188311 at random state 73\n",
      "R2 Score:  0.7321129831800581 at random state 74\n",
      "R2 Score:  0.7640309975597734 at random state 75\n",
      "R2 Score:  0.760501643463455 at random state 76\n",
      "R2 Score:  0.7478473353232034 at random state 77\n",
      "R2 Score:  0.7324169810915189 at random state 78\n",
      "R2 Score:  0.7400442323761762 at random state 79\n",
      "R2 Score:  0.748979382463947 at random state 80\n",
      "R2 Score:  0.7232829268798442 at random state 81\n",
      "R2 Score:  0.7534198474655436 at random state 82\n",
      "R2 Score:  0.762827218117649 at random state 83\n",
      "R2 Score:  0.7699277885255036 at random state 84\n",
      "R2 Score:  0.7227040105532092 at random state 85\n",
      "R2 Score:  0.7817077229375042 at random state 86\n",
      "R2 Score:  0.7135061029156815 at random state 87\n",
      "R2 Score:  0.7711896639590571 at random state 88\n",
      "R2 Score:  0.7824541911545069 at random state 89\n",
      "R2 Score:  0.7445994293170438 at random state 90\n",
      "R2 Score:  0.7478508258644074 at random state 91\n",
      "R2 Score:  0.7586467749339765 at random state 92\n",
      "R2 Score:  0.7674743233094681 at random state 93\n",
      "R2 Score:  0.7682637208176769 at random state 94\n",
      "R2 Score:  0.7777781737419391 at random state 95\n",
      "R2 Score:  0.6676790449729347 at random state 96\n",
      "R2 Score:  0.7112254059470213 at random state 97\n",
      "R2 Score:  0.7360534169887039 at random state 98\n",
      "R2 Score:  0.7406856516523257 at random state 99\n"
     ]
    }
   ],
   "source": [
    "maxR2score = 0 # Max R2 score\n",
    "maxRS = 0   # Best random state for which maximum r2 score is achieved\n",
    "\n",
    "for i in range(1,100):\n",
    "    X_train,X_test,y_train,y_test = train_test_split(X_scaled,y,test_size=0.2,random_state=i)\n",
    "    \n",
    "    lr = LinearRegression()\n",
    "    \n",
    "    lr.fit(X_train,y_train)\n",
    "    \n",
    "    pred_lr = lr.predict(X_test)\n",
    "   \n",
    "    score_lr = r2_score(y_test,pred_lr)\n",
    "    \n",
    "    print(\"R2 Score: \",score_lr,\"at random state\", i)\n",
    "   \n",
    "    \n",
    "    if score_lr>maxR2score:\n",
    "   \n",
    "        maxR2score = score_lr\n",
    "              \n",
    "        maxRS = i\n",
    "        \n",
    "        print(\"Maximum R2 Score:\",maxR2score,\"at random state \", maxRS)\n",
    "       "
   ]
  },
  {
   "cell_type": "code",
   "execution_count": 34,
   "id": "03c1d9e5",
   "metadata": {},
   "outputs": [
    {
     "name": "stdout",
     "output_type": "stream",
     "text": [
      "Best R2 Score is  79.93958934706319 on random state 47\n"
     ]
    }
   ],
   "source": [
    "print(\"Best R2 Score is \",maxR2score*100, \"on random state\", maxRS)"
   ]
  },
  {
   "cell_type": "markdown",
   "id": "a4b97b91",
   "metadata": {},
   "source": [
    "**For Linear Regression model we get best random state at 47 and r2 score is 79.939%.**"
   ]
  },
  {
   "cell_type": "markdown",
   "id": "60bb8d77",
   "metadata": {},
   "source": [
    "# Linear Regression Model"
   ]
  },
  {
   "cell_type": "code",
   "execution_count": 35,
   "id": "d0af459d",
   "metadata": {},
   "outputs": [
    {
     "name": "stdout",
     "output_type": "stream",
     "text": [
      "Training accuracy: 73.76059448076364\n",
      "Testing accuracy: 79.93958934706319\n"
     ]
    }
   ],
   "source": [
    "lr = LinearRegression()\n",
    "\n",
    "X_train,X_test,y_train,y_test = train_test_split(X_scaled,y,test_size=0.2,random_state=47)\n",
    "\n",
    "lr.fit(X_train,y_train)\n",
    "\n",
    "pred_train = lr.predict(X_train)\n",
    "\n",
    "pred_test = lr.predict(X_test)\n",
    "\n",
    "score_train = r2_score(y_train,pred_train)\n",
    "\n",
    "score_test = r2_score(y_test,pred_test)\n",
    "\n",
    "print(\"Training accuracy:\",score_train*100)\n",
    "\n",
    "print(\"Testing accuracy:\",score_test*100)"
   ]
  },
  {
   "cell_type": "markdown",
   "id": "142f16ec",
   "metadata": {},
   "source": [
    "# Cross validation of model"
   ]
  },
  {
   "cell_type": "code",
   "execution_count": 36,
   "id": "4ae2ad4b",
   "metadata": {},
   "outputs": [
    {
     "name": "stdout",
     "output_type": "stream",
     "text": [
      "At cross fold 2, the cv score is 0.7486033254037109 and accuracy score for training is 0.7376059448076364 and accuracy for testing is 0.7993958934706319\n",
      "/n\n",
      "At cross fold 3, the cv score is 0.7448455049684157 and accuracy score for training is 0.7376059448076364 and accuracy for testing is 0.7993958934706319\n",
      "/n\n",
      "At cross fold 4, the cv score is 0.7465374465214439 and accuracy score for training is 0.7376059448076364 and accuracy for testing is 0.7993958934706319\n",
      "/n\n",
      "At cross fold 5, the cv score is 0.7472559473580954 and accuracy score for training is 0.7376059448076364 and accuracy for testing is 0.7993958934706319\n",
      "/n\n",
      "At cross fold 6, the cv score is 0.7458863313669325 and accuracy score for training is 0.7376059448076364 and accuracy for testing is 0.7993958934706319\n",
      "/n\n",
      "At cross fold 7, the cv score is 0.7452991860582022 and accuracy score for training is 0.7376059448076364 and accuracy for testing is 0.7993958934706319\n",
      "/n\n",
      "At cross fold 8, the cv score is 0.7430633572874522 and accuracy score for training is 0.7376059448076364 and accuracy for testing is 0.7993958934706319\n",
      "/n\n",
      "At cross fold 9, the cv score is 0.7432123565964317 and accuracy score for training is 0.7376059448076364 and accuracy for testing is 0.7993958934706319\n",
      "/n\n"
     ]
    }
   ],
   "source": [
    "Training_accuracy = r2_score(y_train,pred_train)\n",
    "Testing_accuracy = r2_score(y_test,pred_test)\n",
    "\n",
    "from sklearn.model_selection import cross_val_score\n",
    "for j in range(2,10):\n",
    "    cv_score = cross_val_score(lr,X_scaled,y,cv=j)\n",
    "    cv_mean = cv_score.mean()\n",
    "    print(f\"At cross fold {j}, the cv score is {cv_mean} and accuracy score for training is {Training_accuracy} and accuracy for testing is {Testing_accuracy}\")\n",
    "    print(\"/n\")"
   ]
  },
  {
   "cell_type": "markdown",
   "id": "b3b12038",
   "metadata": {},
   "source": [
    "Since cv score is maximum at cv=2, we will take cv = 2"
   ]
  },
  {
   "cell_type": "code",
   "execution_count": 37,
   "id": "4a0619d0",
   "metadata": {},
   "outputs": [
    {
     "data": {
      "image/png": "[encoded data removed]",
      "text/plain": [
       "<Figure size 576x432 with 1 Axes>"
      ]
     },
     "metadata": {
      "needs_background": "light"
     },
     "output_type": "display_data"
    }
   ],
   "source": [
    "# Plotting Predicted vs Actual charges\n",
    "plt.figure(figsize=(8,6))\n",
    "plt.scatter(y_test,pred_test,color ='r')\n",
    "plt.plot(y_test,y_test,color ='b')\n",
    "plt.xlabel('Actual Charges',fontsize = 14)\n",
    "plt.ylabel('Predicted Charges',fontsize =14)\n",
    "plt.title('Linear Regression',fontsize = 18)\n",
    "plt.savefig('lr.png')\n",
    "plt.show()"
   ]
  },
  {
   "cell_type": "markdown",
   "id": "1bd2ef00",
   "metadata": {},
   "source": [
    "# Model Evaluation"
   ]
  },
  {
   "cell_type": "code",
   "execution_count": 38,
   "id": "97ccaff7",
   "metadata": {},
   "outputs": [
    {
     "data": {
      "text/html": [
       "<div>\n",
       "<style scoped>\n",
       "    .dataframe tbody tr th:only-of-type {\n",
       "        vertical-align: middle;\n",
       "    }\n",
       "\n",
       "    .dataframe tbody tr th {\n",
       "        vertical-align: top;\n",
       "    }\n",
       "\n",
       "    .dataframe thead th {\n",
       "        text-align: right;\n",
       "    }\n",
       "</style>\n",
       "<table border=\"1\" class=\"dataframe\">\n",
       "  <thead>\n",
       "    <tr style=\"text-align: right;\">\n",
       "      <th></th>\n",
       "      <th>age</th>\n",
       "      <th>sex</th>\n",
       "      <th>bmi</th>\n",
       "      <th>children</th>\n",
       "      <th>smoker</th>\n",
       "      <th>region</th>\n",
       "      <th>charges</th>\n",
       "    </tr>\n",
       "  </thead>\n",
       "  <tbody>\n",
       "    <tr>\n",
       "      <th>0</th>\n",
       "      <td>19</td>\n",
       "      <td>0.0</td>\n",
       "      <td>27.900</td>\n",
       "      <td>0</td>\n",
       "      <td>1.0</td>\n",
       "      <td>3.0</td>\n",
       "      <td>16884.92400</td>\n",
       "    </tr>\n",
       "    <tr>\n",
       "      <th>1</th>\n",
       "      <td>18</td>\n",
       "      <td>1.0</td>\n",
       "      <td>33.770</td>\n",
       "      <td>1</td>\n",
       "      <td>0.0</td>\n",
       "      <td>2.0</td>\n",
       "      <td>1725.55230</td>\n",
       "    </tr>\n",
       "    <tr>\n",
       "      <th>2</th>\n",
       "      <td>28</td>\n",
       "      <td>1.0</td>\n",
       "      <td>33.000</td>\n",
       "      <td>3</td>\n",
       "      <td>0.0</td>\n",
       "      <td>2.0</td>\n",
       "      <td>4449.46200</td>\n",
       "    </tr>\n",
       "    <tr>\n",
       "      <th>3</th>\n",
       "      <td>33</td>\n",
       "      <td>1.0</td>\n",
       "      <td>22.705</td>\n",
       "      <td>0</td>\n",
       "      <td>0.0</td>\n",
       "      <td>1.0</td>\n",
       "      <td>21984.47061</td>\n",
       "    </tr>\n",
       "    <tr>\n",
       "      <th>4</th>\n",
       "      <td>32</td>\n",
       "      <td>1.0</td>\n",
       "      <td>28.880</td>\n",
       "      <td>0</td>\n",
       "      <td>0.0</td>\n",
       "      <td>1.0</td>\n",
       "      <td>3866.85520</td>\n",
       "    </tr>\n",
       "  </tbody>\n",
       "</table>\n",
       "</div>"
      ],
      "text/plain": [
       "   age  sex     bmi  children  smoker  region      charges\n",
       "0   19  0.0  27.900         0     1.0     3.0  16884.92400\n",
       "1   18  1.0  33.770         1     0.0     2.0   1725.55230\n",
       "2   28  1.0  33.000         3     0.0     2.0   4449.46200\n",
       "3   33  1.0  22.705         0     0.0     1.0  21984.47061\n",
       "4   32  1.0  28.880         0     0.0     1.0   3866.85520"
      ]
     },
     "execution_count": 38,
     "metadata": {},
     "output_type": "execute_result"
    }
   ],
   "source": [
    "df.head()"
   ]
  },
  {
   "cell_type": "code",
   "execution_count": 39,
   "id": "c94cf1b4",
   "metadata": {},
   "outputs": [
    {
     "name": "stdout",
     "output_type": "stream",
     "text": [
      "Mean absolute Error: 3869.7515370573915\n",
      "Mean Squared Error: 30706067.414313678\n",
      "Root mean squared Error: 5541.305569476716\n"
     ]
    }
   ],
   "source": [
    "# MAE - represents avarage error\n",
    "\n",
    "mae = mean_absolute_error(y_test,pred_test)\n",
    "\n",
    "# MSE - ignoring some outliers means larger errors are punished. Hard to interpretate but most popular\n",
    "\n",
    "mse = mean_squared_error(y_test,pred_test)\n",
    "\n",
    "# RMSE\n",
    "\n",
    "rmse = np.sqrt(mse)\n",
    "\n",
    "print(\"Mean absolute Error:\",mae)\n",
    "\n",
    "print(\"Mean Squared Error:\",mse)\n",
    "\n",
    "print(\"Root mean squared Error:\",rmse)"
   ]
  },
  {
   "cell_type": "markdown",
   "id": "37cd39b0",
   "metadata": {},
   "source": [
    "**High values of error suggest that the Linear regression model is not fit for the given dataset**"
   ]
  },
  {
   "cell_type": "markdown",
   "id": "96195250",
   "metadata": {},
   "source": [
    "# Lasso Regularization"
   ]
  },
  {
   "cell_type": "code",
   "execution_count": 40,
   "id": "86ad06c9",
   "metadata": {},
   "outputs": [],
   "source": [
    "from sklearn.linear_model import Lasso,Ridge,LassoCV,RidgeCV"
   ]
  },
  {
   "cell_type": "code",
   "execution_count": 41,
   "id": "22317ffa",
   "metadata": {},
   "outputs": [
    {
     "data": {
      "text/html": [
       "<style>#sk-container-id-1 {color: black;background-color: white;}#sk-container-id-1 pre{padding: 0;}#sk-container-id-1 div.sk-toggleable {background-color: white;}#sk-container-id-1 label.sk-toggleable__label {cursor: pointer;display: block;width: 100%;margin-bottom: 0;padding: 0.3em;box-sizing: border-box;text-align: center;}#sk-container-id-1 label.sk-toggleable__label-arrow:before {content: \"▸\";float: left;margin-right: 0.25em;color: #696969;}#sk-container-id-1 label.sk-toggleable__label-arrow:hover:before {color: black;}#sk-container-id-1 div.sk-estimator:hover label.sk-toggleable__label-arrow:before {color: black;}#sk-container-id-1 div.sk-toggleable__content {max-height: 0;max-width: 0;overflow: hidden;text-align: left;background-color: #f0f8ff;}#sk-container-id-1 div.sk-toggleable__content pre {margin: 0.2em;color: black;border-radius: 0.25em;background-color: #f0f8ff;}#sk-container-id-1 input.sk-toggleable__control:checked~div.sk-toggleable__content {max-height: 200px;max-width: 100%;overflow: auto;}#sk-container-id-1 input.sk-toggleable__control:checked~label.sk-toggleable__label-arrow:before {content: \"▾\";}#sk-container-id-1 div.sk-estimator input.sk-toggleable__control:checked~label.sk-toggleable__label {background-color: #d4ebff;}#sk-container-id-1 div.sk-label input.sk-toggleable__control:checked~label.sk-toggleable__label {background-color: #d4ebff;}#sk-container-id-1 input.sk-hidden--visually {border: 0;clip: rect(1px 1px 1px 1px);clip: rect(1px, 1px, 1px, 1px);height: 1px;margin: -1px;overflow: hidden;padding: 0;position: absolute;width: 1px;}#sk-container-id-1 div.sk-estimator {font-family: monospace;background-color: #f0f8ff;border: 1px dotted black;border-radius: 0.25em;box-sizing: border-box;margin-bottom: 0.5em;}#sk-container-id-1 div.sk-estimator:hover {background-color: #d4ebff;}#sk-container-id-1 div.sk-parallel-item::after {content: \"\";width: 100%;border-bottom: 1px solid gray;flex-grow: 1;}#sk-container-id-1 div.sk-label:hover label.sk-toggleable__label {background-color: #d4ebff;}#sk-container-id-1 div.sk-serial::before {content: \"\";position: absolute;border-left: 1px solid gray;box-sizing: border-box;top: 0;bottom: 0;left: 50%;z-index: 0;}#sk-container-id-1 div.sk-serial {display: flex;flex-direction: column;align-items: center;background-color: white;padding-right: 0.2em;padding-left: 0.2em;position: relative;}#sk-container-id-1 div.sk-item {position: relative;z-index: 1;}#sk-container-id-1 div.sk-parallel {display: flex;align-items: stretch;justify-content: center;background-color: white;position: relative;}#sk-container-id-1 div.sk-item::before, #sk-container-id-1 div.sk-parallel-item::before {content: \"\";position: absolute;border-left: 1px solid gray;box-sizing: border-box;top: 0;bottom: 0;left: 50%;z-index: -1;}#sk-container-id-1 div.sk-parallel-item {display: flex;flex-direction: column;z-index: 1;position: relative;background-color: white;}#sk-container-id-1 div.sk-parallel-item:first-child::after {align-self: flex-end;width: 50%;}#sk-container-id-1 div.sk-parallel-item:last-child::after {align-self: flex-start;width: 50%;}#sk-container-id-1 div.sk-parallel-item:only-child::after {width: 0;}#sk-container-id-1 div.sk-dashed-wrapped {border: 1px dashed gray;margin: 0 0.4em 0.5em 0.4em;box-sizing: border-box;padding-bottom: 0.4em;background-color: white;}#sk-container-id-1 div.sk-label label {font-family: monospace;font-weight: bold;display: inline-block;line-height: 1.2em;}#sk-container-id-1 div.sk-label-container {text-align: center;}#sk-container-id-1 div.sk-container {/* jupyter's `normalize.less` sets `[hidden] { display: none; }` but bootstrap.min.css set `[hidden] { display: none !important; }` so we also need the `!important` here to be able to override the default hidden behavior on the sphinx rendered scikit-learn.org. See: https://github.com/scikit-learn/scikit-learn/issues/21755 */display: inline-block !important;position: relative;}#sk-container-id-1 div.sk-text-repr-fallback {display: none;}</style><div id=\"sk-container-id-1\" class=\"sk-top-container\"><div class=\"sk-text-repr-fallback\"><pre>LassoCV(max_iter=100, normalize=True)</pre><b>In a Jupyter environment, please rerun this cell to show the HTML representation or trust the notebook. <br />On GitHub, the HTML representation is unable to render, please try loading this page with nbviewer.org.</b></div><div class=\"sk-container\" hidden><div class=\"sk-item\"><div class=\"sk-estimator sk-toggleable\"><input class=\"sk-toggleable__control sk-hidden--visually\" id=\"sk-estimator-id-1\" type=\"checkbox\" checked><label for=\"sk-estimator-id-1\" class=\"sk-toggleable__label sk-toggleable__label-arrow\">LassoCV</label><div class=\"sk-toggleable__content\"><pre>LassoCV(max_iter=100, normalize=True)</pre></div></div></div></div></div>"
      ],
      "text/plain": [
       "LassoCV(max_iter=100, normalize=True)"
      ]
     },
     "execution_count": 41,
     "metadata": {},
     "output_type": "execute_result"
    }
   ],
   "source": [
    "#LassoCV will return best alpha after max iteration\n",
    "#Normalize is subtracting the mean and dividing by the L2 norm\n",
    "lasscv = LassoCV(alphas = None, max_iter = 100, normalize = True)\n",
    "lasscv.fit(X_train,y_train)"
   ]
  },
  {
   "cell_type": "code",
   "execution_count": 42,
   "id": "b2bc0c9d",
   "metadata": {},
   "outputs": [
    {
     "data": {
      "text/plain": [
       "0.28558836853618275"
      ]
     },
     "execution_count": 42,
     "metadata": {},
     "output_type": "execute_result"
    }
   ],
   "source": [
    "#Best alpha parameter\n",
    "alpha = lasscv.alpha_\n",
    "alpha"
   ]
  },
  {
   "cell_type": "code",
   "execution_count": 43,
   "id": "f65f5d19",
   "metadata": {},
   "outputs": [
    {
     "data": {
      "text/html": [
       "<style>#sk-container-id-2 {color: black;background-color: white;}#sk-container-id-2 pre{padding: 0;}#sk-container-id-2 div.sk-toggleable {background-color: white;}#sk-container-id-2 label.sk-toggleable__label {cursor: pointer;display: block;width: 100%;margin-bottom: 0;padding: 0.3em;box-sizing: border-box;text-align: center;}#sk-container-id-2 label.sk-toggleable__label-arrow:before {content: \"▸\";float: left;margin-right: 0.25em;color: #696969;}#sk-container-id-2 label.sk-toggleable__label-arrow:hover:before {color: black;}#sk-container-id-2 div.sk-estimator:hover label.sk-toggleable__label-arrow:before {color: black;}#sk-container-id-2 div.sk-toggleable__content {max-height: 0;max-width: 0;overflow: hidden;text-align: left;background-color: #f0f8ff;}#sk-container-id-2 div.sk-toggleable__content pre {margin: 0.2em;color: black;border-radius: 0.25em;background-color: #f0f8ff;}#sk-container-id-2 input.sk-toggleable__control:checked~div.sk-toggleable__content {max-height: 200px;max-width: 100%;overflow: auto;}#sk-container-id-2 input.sk-toggleable__control:checked~label.sk-toggleable__label-arrow:before {content: \"▾\";}#sk-container-id-2 div.sk-estimator input.sk-toggleable__control:checked~label.sk-toggleable__label {background-color: #d4ebff;}#sk-container-id-2 div.sk-label input.sk-toggleable__control:checked~label.sk-toggleable__label {background-color: #d4ebff;}#sk-container-id-2 input.sk-hidden--visually {border: 0;clip: rect(1px 1px 1px 1px);clip: rect(1px, 1px, 1px, 1px);height: 1px;margin: -1px;overflow: hidden;padding: 0;position: absolute;width: 1px;}#sk-container-id-2 div.sk-estimator {font-family: monospace;background-color: #f0f8ff;border: 1px dotted black;border-radius: 0.25em;box-sizing: border-box;margin-bottom: 0.5em;}#sk-container-id-2 div.sk-estimator:hover {background-color: #d4ebff;}#sk-container-id-2 div.sk-parallel-item::after {content: \"\";width: 100%;border-bottom: 1px solid gray;flex-grow: 1;}#sk-container-id-2 div.sk-label:hover label.sk-toggleable__label {background-color: #d4ebff;}#sk-container-id-2 div.sk-serial::before {content: \"\";position: absolute;border-left: 1px solid gray;box-sizing: border-box;top: 0;bottom: 0;left: 50%;z-index: 0;}#sk-container-id-2 div.sk-serial {display: flex;flex-direction: column;align-items: center;background-color: white;padding-right: 0.2em;padding-left: 0.2em;position: relative;}#sk-container-id-2 div.sk-item {position: relative;z-index: 1;}#sk-container-id-2 div.sk-parallel {display: flex;align-items: stretch;justify-content: center;background-color: white;position: relative;}#sk-container-id-2 div.sk-item::before, #sk-container-id-2 div.sk-parallel-item::before {content: \"\";position: absolute;border-left: 1px solid gray;box-sizing: border-box;top: 0;bottom: 0;left: 50%;z-index: -1;}#sk-container-id-2 div.sk-parallel-item {display: flex;flex-direction: column;z-index: 1;position: relative;background-color: white;}#sk-container-id-2 div.sk-parallel-item:first-child::after {align-self: flex-end;width: 50%;}#sk-container-id-2 div.sk-parallel-item:last-child::after {align-self: flex-start;width: 50%;}#sk-container-id-2 div.sk-parallel-item:only-child::after {width: 0;}#sk-container-id-2 div.sk-dashed-wrapped {border: 1px dashed gray;margin: 0 0.4em 0.5em 0.4em;box-sizing: border-box;padding-bottom: 0.4em;background-color: white;}#sk-container-id-2 div.sk-label label {font-family: monospace;font-weight: bold;display: inline-block;line-height: 1.2em;}#sk-container-id-2 div.sk-label-container {text-align: center;}#sk-container-id-2 div.sk-container {/* jupyter's `normalize.less` sets `[hidden] { display: none; }` but bootstrap.min.css set `[hidden] { display: none !important; }` so we also need the `!important` here to be able to override the default hidden behavior on the sphinx rendered scikit-learn.org. See: https://github.com/scikit-learn/scikit-learn/issues/21755 */display: inline-block !important;position: relative;}#sk-container-id-2 div.sk-text-repr-fallback {display: none;}</style><div id=\"sk-container-id-2\" class=\"sk-top-container\"><div class=\"sk-text-repr-fallback\"><pre>Lasso(alpha=0.28558836853618275)</pre><b>In a Jupyter environment, please rerun this cell to show the HTML representation or trust the notebook. <br />On GitHub, the HTML representation is unable to render, please try loading this page with nbviewer.org.</b></div><div class=\"sk-container\" hidden><div class=\"sk-item\"><div class=\"sk-estimator sk-toggleable\"><input class=\"sk-toggleable__control sk-hidden--visually\" id=\"sk-estimator-id-2\" type=\"checkbox\" checked><label for=\"sk-estimator-id-2\" class=\"sk-toggleable__label sk-toggleable__label-arrow\">Lasso</label><div class=\"sk-toggleable__content\"><pre>Lasso(alpha=0.28558836853618275)</pre></div></div></div></div></div>"
      ],
      "text/plain": [
       "Lasso(alpha=0.28558836853618275)"
      ]
     },
     "execution_count": 43,
     "metadata": {},
     "output_type": "execute_result"
    }
   ],
   "source": [
    "lasso_reg =Lasso(alpha)\n",
    "lasso_reg.fit(X_train,y_train)"
   ]
  },
  {
   "cell_type": "code",
   "execution_count": 44,
   "id": "3f2caa90",
   "metadata": {},
   "outputs": [],
   "source": [
    "pred_test = lasso_reg.predict(X_test)"
   ]
  },
  {
   "cell_type": "code",
   "execution_count": 46,
   "id": "ff866704",
   "metadata": {},
   "outputs": [
    {
     "data": {
      "text/plain": [
       "0.7993934406609424"
      ]
     },
     "execution_count": 46,
     "metadata": {},
     "output_type": "execute_result"
    }
   ],
   "source": [
    "lasso_reg.score(X_test,y_test)"
   ]
  },
  {
   "cell_type": "markdown",
   "id": "04eb8a5f",
   "metadata": {},
   "source": [
    "# Ridge Regularization"
   ]
  },
  {
   "cell_type": "code",
   "execution_count": 47,
   "id": "80734b17",
   "metadata": {},
   "outputs": [
    {
     "data": {
      "text/html": [
       "<style>#sk-container-id-3 {color: black;background-color: white;}#sk-container-id-3 pre{padding: 0;}#sk-container-id-3 div.sk-toggleable {background-color: white;}#sk-container-id-3 label.sk-toggleable__label {cursor: pointer;display: block;width: 100%;margin-bottom: 0;padding: 0.3em;box-sizing: border-box;text-align: center;}#sk-container-id-3 label.sk-toggleable__label-arrow:before {content: \"▸\";float: left;margin-right: 0.25em;color: #696969;}#sk-container-id-3 label.sk-toggleable__label-arrow:hover:before {color: black;}#sk-container-id-3 div.sk-estimator:hover label.sk-toggleable__label-arrow:before {color: black;}#sk-container-id-3 div.sk-toggleable__content {max-height: 0;max-width: 0;overflow: hidden;text-align: left;background-color: #f0f8ff;}#sk-container-id-3 div.sk-toggleable__content pre {margin: 0.2em;color: black;border-radius: 0.25em;background-color: #f0f8ff;}#sk-container-id-3 input.sk-toggleable__control:checked~div.sk-toggleable__content {max-height: 200px;max-width: 100%;overflow: auto;}#sk-container-id-3 input.sk-toggleable__control:checked~label.sk-toggleable__label-arrow:before {content: \"▾\";}#sk-container-id-3 div.sk-estimator input.sk-toggleable__control:checked~label.sk-toggleable__label {background-color: #d4ebff;}#sk-container-id-3 div.sk-label input.sk-toggleable__control:checked~label.sk-toggleable__label {background-color: #d4ebff;}#sk-container-id-3 input.sk-hidden--visually {border: 0;clip: rect(1px 1px 1px 1px);clip: rect(1px, 1px, 1px, 1px);height: 1px;margin: -1px;overflow: hidden;padding: 0;position: absolute;width: 1px;}#sk-container-id-3 div.sk-estimator {font-family: monospace;background-color: #f0f8ff;border: 1px dotted black;border-radius: 0.25em;box-sizing: border-box;margin-bottom: 0.5em;}#sk-container-id-3 div.sk-estimator:hover {background-color: #d4ebff;}#sk-container-id-3 div.sk-parallel-item::after {content: \"\";width: 100%;border-bottom: 1px solid gray;flex-grow: 1;}#sk-container-id-3 div.sk-label:hover label.sk-toggleable__label {background-color: #d4ebff;}#sk-container-id-3 div.sk-serial::before {content: \"\";position: absolute;border-left: 1px solid gray;box-sizing: border-box;top: 0;bottom: 0;left: 50%;z-index: 0;}#sk-container-id-3 div.sk-serial {display: flex;flex-direction: column;align-items: center;background-color: white;padding-right: 0.2em;padding-left: 0.2em;position: relative;}#sk-container-id-3 div.sk-item {position: relative;z-index: 1;}#sk-container-id-3 div.sk-parallel {display: flex;align-items: stretch;justify-content: center;background-color: white;position: relative;}#sk-container-id-3 div.sk-item::before, #sk-container-id-3 div.sk-parallel-item::before {content: \"\";position: absolute;border-left: 1px solid gray;box-sizing: border-box;top: 0;bottom: 0;left: 50%;z-index: -1;}#sk-container-id-3 div.sk-parallel-item {display: flex;flex-direction: column;z-index: 1;position: relative;background-color: white;}#sk-container-id-3 div.sk-parallel-item:first-child::after {align-self: flex-end;width: 50%;}#sk-container-id-3 div.sk-parallel-item:last-child::after {align-self: flex-start;width: 50%;}#sk-container-id-3 div.sk-parallel-item:only-child::after {width: 0;}#sk-container-id-3 div.sk-dashed-wrapped {border: 1px dashed gray;margin: 0 0.4em 0.5em 0.4em;box-sizing: border-box;padding-bottom: 0.4em;background-color: white;}#sk-container-id-3 div.sk-label label {font-family: monospace;font-weight: bold;display: inline-block;line-height: 1.2em;}#sk-container-id-3 div.sk-label-container {text-align: center;}#sk-container-id-3 div.sk-container {/* jupyter's `normalize.less` sets `[hidden] { display: none; }` but bootstrap.min.css set `[hidden] { display: none !important; }` so we also need the `!important` here to be able to override the default hidden behavior on the sphinx rendered scikit-learn.org. See: https://github.com/scikit-learn/scikit-learn/issues/21755 */display: inline-block !important;position: relative;}#sk-container-id-3 div.sk-text-repr-fallback {display: none;}</style><div id=\"sk-container-id-3\" class=\"sk-top-container\"><div class=\"sk-text-repr-fallback\"><pre>RidgeCV(alphas=array([0.001, 0.011, 0.021, 0.031, 0.041, 0.051, 0.061, 0.071, 0.081,\n",
       "       0.091]),\n",
       "        normalize=True)</pre><b>In a Jupyter environment, please rerun this cell to show the HTML representation or trust the notebook. <br />On GitHub, the HTML representation is unable to render, please try loading this page with nbviewer.org.</b></div><div class=\"sk-container\" hidden><div class=\"sk-item\"><div class=\"sk-estimator sk-toggleable\"><input class=\"sk-toggleable__control sk-hidden--visually\" id=\"sk-estimator-id-3\" type=\"checkbox\" checked><label for=\"sk-estimator-id-3\" class=\"sk-toggleable__label sk-toggleable__label-arrow\">RidgeCV</label><div class=\"sk-toggleable__content\"><pre>RidgeCV(alphas=array([0.001, 0.011, 0.021, 0.031, 0.041, 0.051, 0.061, 0.071, 0.081,\n",
       "       0.091]),\n",
       "        normalize=True)</pre></div></div></div></div></div>"
      ],
      "text/plain": [
       "RidgeCV(alphas=array([0.001, 0.011, 0.021, 0.031, 0.041, 0.051, 0.061, 0.071, 0.081,\n",
       "       0.091]),\n",
       "        normalize=True)"
      ]
     },
     "execution_count": 47,
     "metadata": {},
     "output_type": "execute_result"
    }
   ],
   "source": [
    "ridgecv = RidgeCV(alphas= np.arange(.001,0.1,.01),normalize = True)\n",
    "ridgecv.fit(X_train,y_train)"
   ]
  },
  {
   "cell_type": "code",
   "execution_count": 48,
   "id": "811d876a",
   "metadata": {},
   "outputs": [
    {
     "data": {
      "text/plain": [
       "0.001"
      ]
     },
     "execution_count": 48,
     "metadata": {},
     "output_type": "execute_result"
    }
   ],
   "source": [
    "alpha = ridgecv.alpha_\n",
    "alpha"
   ]
  },
  {
   "cell_type": "code",
   "execution_count": 49,
   "id": "c5b0ffbb",
   "metadata": {},
   "outputs": [
    {
     "data": {
      "text/html": [
       "<style>#sk-container-id-4 {color: black;background-color: white;}#sk-container-id-4 pre{padding: 0;}#sk-container-id-4 div.sk-toggleable {background-color: white;}#sk-container-id-4 label.sk-toggleable__label {cursor: pointer;display: block;width: 100%;margin-bottom: 0;padding: 0.3em;box-sizing: border-box;text-align: center;}#sk-container-id-4 label.sk-toggleable__label-arrow:before {content: \"▸\";float: left;margin-right: 0.25em;color: #696969;}#sk-container-id-4 label.sk-toggleable__label-arrow:hover:before {color: black;}#sk-container-id-4 div.sk-estimator:hover label.sk-toggleable__label-arrow:before {color: black;}#sk-container-id-4 div.sk-toggleable__content {max-height: 0;max-width: 0;overflow: hidden;text-align: left;background-color: #f0f8ff;}#sk-container-id-4 div.sk-toggleable__content pre {margin: 0.2em;color: black;border-radius: 0.25em;background-color: #f0f8ff;}#sk-container-id-4 input.sk-toggleable__control:checked~div.sk-toggleable__content {max-height: 200px;max-width: 100%;overflow: auto;}#sk-container-id-4 input.sk-toggleable__control:checked~label.sk-toggleable__label-arrow:before {content: \"▾\";}#sk-container-id-4 div.sk-estimator input.sk-toggleable__control:checked~label.sk-toggleable__label {background-color: #d4ebff;}#sk-container-id-4 div.sk-label input.sk-toggleable__control:checked~label.sk-toggleable__label {background-color: #d4ebff;}#sk-container-id-4 input.sk-hidden--visually {border: 0;clip: rect(1px 1px 1px 1px);clip: rect(1px, 1px, 1px, 1px);height: 1px;margin: -1px;overflow: hidden;padding: 0;position: absolute;width: 1px;}#sk-container-id-4 div.sk-estimator {font-family: monospace;background-color: #f0f8ff;border: 1px dotted black;border-radius: 0.25em;box-sizing: border-box;margin-bottom: 0.5em;}#sk-container-id-4 div.sk-estimator:hover {background-color: #d4ebff;}#sk-container-id-4 div.sk-parallel-item::after {content: \"\";width: 100%;border-bottom: 1px solid gray;flex-grow: 1;}#sk-container-id-4 div.sk-label:hover label.sk-toggleable__label {background-color: #d4ebff;}#sk-container-id-4 div.sk-serial::before {content: \"\";position: absolute;border-left: 1px solid gray;box-sizing: border-box;top: 0;bottom: 0;left: 50%;z-index: 0;}#sk-container-id-4 div.sk-serial {display: flex;flex-direction: column;align-items: center;background-color: white;padding-right: 0.2em;padding-left: 0.2em;position: relative;}#sk-container-id-4 div.sk-item {position: relative;z-index: 1;}#sk-container-id-4 div.sk-parallel {display: flex;align-items: stretch;justify-content: center;background-color: white;position: relative;}#sk-container-id-4 div.sk-item::before, #sk-container-id-4 div.sk-parallel-item::before {content: \"\";position: absolute;border-left: 1px solid gray;box-sizing: border-box;top: 0;bottom: 0;left: 50%;z-index: -1;}#sk-container-id-4 div.sk-parallel-item {display: flex;flex-direction: column;z-index: 1;position: relative;background-color: white;}#sk-container-id-4 div.sk-parallel-item:first-child::after {align-self: flex-end;width: 50%;}#sk-container-id-4 div.sk-parallel-item:last-child::after {align-self: flex-start;width: 50%;}#sk-container-id-4 div.sk-parallel-item:only-child::after {width: 0;}#sk-container-id-4 div.sk-dashed-wrapped {border: 1px dashed gray;margin: 0 0.4em 0.5em 0.4em;box-sizing: border-box;padding-bottom: 0.4em;background-color: white;}#sk-container-id-4 div.sk-label label {font-family: monospace;font-weight: bold;display: inline-block;line-height: 1.2em;}#sk-container-id-4 div.sk-label-container {text-align: center;}#sk-container-id-4 div.sk-container {/* jupyter's `normalize.less` sets `[hidden] { display: none; }` but bootstrap.min.css set `[hidden] { display: none !important; }` so we also need the `!important` here to be able to override the default hidden behavior on the sphinx rendered scikit-learn.org. See: https://github.com/scikit-learn/scikit-learn/issues/21755 */display: inline-block !important;position: relative;}#sk-container-id-4 div.sk-text-repr-fallback {display: none;}</style><div id=\"sk-container-id-4\" class=\"sk-top-container\"><div class=\"sk-text-repr-fallback\"><pre>Ridge(alpha=0.001)</pre><b>In a Jupyter environment, please rerun this cell to show the HTML representation or trust the notebook. <br />On GitHub, the HTML representation is unable to render, please try loading this page with nbviewer.org.</b></div><div class=\"sk-container\" hidden><div class=\"sk-item\"><div class=\"sk-estimator sk-toggleable\"><input class=\"sk-toggleable__control sk-hidden--visually\" id=\"sk-estimator-id-4\" type=\"checkbox\" checked><label for=\"sk-estimator-id-4\" class=\"sk-toggleable__label sk-toggleable__label-arrow\">Ridge</label><div class=\"sk-toggleable__content\"><pre>Ridge(alpha=0.001)</pre></div></div></div></div></div>"
      ],
      "text/plain": [
       "Ridge(alpha=0.001)"
      ]
     },
     "execution_count": 49,
     "metadata": {},
     "output_type": "execute_result"
    }
   ],
   "source": [
    "ridge_reg = Ridge(alpha)\n",
    "ridge_reg.fit(X_train,y_train)"
   ]
  },
  {
   "cell_type": "code",
   "execution_count": 50,
   "id": "580be4fb",
   "metadata": {},
   "outputs": [
    {
     "data": {
      "text/plain": [
       "0.7993958502045915"
      ]
     },
     "execution_count": 50,
     "metadata": {},
     "output_type": "execute_result"
    }
   ],
   "source": [
    "ridge_reg.score(X_test,y_test)"
   ]
  },
  {
   "cell_type": "markdown",
   "id": "ed0986fa",
   "metadata": {},
   "source": [
    "**We got around same R2 score using Lasso and ridge regression. So it's safe to say that there is no overfitting.**"
   ]
  },
  {
   "cell_type": "markdown",
   "id": "e0a5ecc1",
   "metadata": {},
   "source": [
    "# Ensemble technique - Random Forest Regressor"
   ]
  },
  {
   "cell_type": "code",
   "execution_count": 58,
   "id": "bfa8a5f2",
   "metadata": {},
   "outputs": [
    {
     "name": "stdout",
     "output_type": "stream",
     "text": [
      "R2 score: 86.3626648085464\n",
      "Cross val score: 83.57553270151477\n"
     ]
    }
   ],
   "source": [
    "rf = RandomForestRegressor()\n",
    "\n",
    "rf.fit(X_train,y_train)\n",
    "\n",
    "rf.score(X_train,y_train)\n",
    "\n",
    "pred_test = rf.predict(X_test)\n",
    "\n",
    "rfs = r2_score(y_test,pred_test)\n",
    "\n",
    "print(\"R2 score:\",rfs*100)\n",
    "\n",
    "rf_score = cross_val_score(rf,X_scaled,y,cv=5)\n",
    "\n",
    "rfc = rf_score.mean()\n",
    "\n",
    "print(\"Cross val score:\",rfc*100)"
   ]
  },
  {
   "cell_type": "markdown",
   "id": "12c1a02d",
   "metadata": {},
   "source": [
    "# Hyperparameter Tuning"
   ]
  },
  {
   "cell_type": "code",
   "execution_count": 59,
   "id": "501506cd",
   "metadata": {},
   "outputs": [
    {
     "name": "stdout",
     "output_type": "stream",
     "text": [
      "{'criterion': 'mse', 'max_features': 'auto', 'max_samples': 0.25, 'min_samples_split': 4}\n"
     ]
    }
   ],
   "source": [
    "# For Random Forest Regressor\n",
    "\n",
    "params_rf = {'criterion':['mse','mae'],\n",
    "             'min_samples_split':range(4,9),\n",
    "             'max_features':['auto','sqrt','log2'],\n",
    "             'max_samples':(0.1,0.2,0.25)}\n",
    "\n",
    "grd_rf = GridSearchCV(rf,params_rf)\n",
    "\n",
    "grd_rf.fit(X_train,y_train)\n",
    "\n",
    "print(grd_rf.best_params_)"
   ]
  },
  {
   "cell_type": "code",
   "execution_count": 60,
   "id": "edbe3fe0",
   "metadata": {},
   "outputs": [
    {
     "name": "stdout",
     "output_type": "stream",
     "text": [
      "R2 score: 88.41281064790252\n",
      "Cross val score: 85.46199418256562\n"
     ]
    }
   ],
   "source": [
    "rf = grd_rf.best_estimator_\n",
    "\n",
    "rf.fit(X_train,y_train)\n",
    "\n",
    "rf.score(X_train,y_train)\n",
    "\n",
    "pred_test = rf.predict(X_test)\n",
    "\n",
    "rfs = r2_score(y_test,pred_test)\n",
    "\n",
    "print(\"R2 score:\",rfs*100)\n",
    "\n",
    "rf_score = cross_val_score(rf,X_scaled,y,cv=5)\n",
    "\n",
    "rfc = rf_score.mean()\n",
    "\n",
    "print(\"Cross val score:\",rfc*100)"
   ]
  },
  {
   "cell_type": "code",
   "execution_count": 61,
   "id": "c0c80c0e",
   "metadata": {},
   "outputs": [
    {
     "name": "stdout",
     "output_type": "stream",
     "text": [
      "Mean absolute Error: 2485.3213064012643\n",
      "Mean Squared Error: 17736277.863077283\n",
      "Root mean squared Error: 4211.446053682426\n"
     ]
    }
   ],
   "source": [
    "# MAE - represents avarage error\n",
    "\n",
    "mae = mean_absolute_error(y_test,pred_test)\n",
    "\n",
    "# MSE - ignoring some outliers means larger errors are punished. Hard to interpretate but most popular\n",
    "\n",
    "mse = mean_squared_error(y_test,pred_test)\n",
    "\n",
    "# RMSE\n",
    "\n",
    "rmse = np.sqrt(mse)\n",
    "\n",
    "print(\"Mean absolute Error:\",mae)\n",
    "\n",
    "print(\"Mean Squared Error:\",mse)\n",
    "\n",
    "print(\"Root mean squared Error:\",rmse)"
   ]
  },
  {
   "cell_type": "markdown",
   "id": "a2df7d1e",
   "metadata": {},
   "source": [
    "# Ensemble technique - AdaBoost Regressor"
   ]
  },
  {
   "cell_type": "code",
   "execution_count": 64,
   "id": "f37ab6e2",
   "metadata": {},
   "outputs": [
    {
     "name": "stdout",
     "output_type": "stream",
     "text": [
      "R square score for training dataset:  0.8303105364777374\n",
      "R square score for test dataset:  0.8467158741515716\n"
     ]
    }
   ],
   "source": [
    "from sklearn import metrics\n",
    "\n",
    "ada = AdaBoostRegressor()\n",
    "\n",
    "ada.fit(X_train,y_train)\n",
    "\n",
    "pred_train = ada.predict(X_train)       # Predicting training data with the model\n",
    "\n",
    "acc_train = metrics.r2_score(y_train,pred_train)    # Training accuracy\n",
    "\n",
    "print(\"R square score for training dataset: \", acc_train)\n",
    "\n",
    "pred_test = ada.predict(X_test)       # Predicting test data with the model\n",
    "\n",
    "acc_test = metrics.r2_score(y_test,pred_test)\n",
    "\n",
    "print(\"R square score for test dataset: \", acc_test)\n"
   ]
  },
  {
   "cell_type": "code",
   "execution_count": 65,
   "id": "7304f557",
   "metadata": {},
   "outputs": [
    {
     "name": "stdout",
     "output_type": "stream",
     "text": [
      "{'learning_rate': 0.9, 'loss': 'linear', 'n_estimators': 51}\n"
     ]
    }
   ],
   "source": [
    "# Hyperparameter tuning for Ada Boost Regressor\n",
    "\n",
    "params_ada = {'n_estimators': [48,49,51,53,60],'learning_rate':[0.90,0.85,0.30,0.95,1.0],'loss' :['linear', 'square', 'exponential'] }\n",
    "\n",
    "grd_ada = GridSearchCV(ada,params_ada)\n",
    "\n",
    "grd_ada.fit(X_train,y_train)\n",
    "\n",
    "print(grd_ada.best_params_)"
   ]
  },
  {
   "cell_type": "code",
   "execution_count": 66,
   "id": "0db42718",
   "metadata": {},
   "outputs": [
    {
     "name": "stdout",
     "output_type": "stream",
     "text": [
      "R square score for training dataset:  0.8316055448267402\n",
      "R square score for test dataset:  0.8523593243394596\n"
     ]
    }
   ],
   "source": [
    "ada = grd_ada.best_estimator_\n",
    "\n",
    "ada.fit(X_train,y_train)\n",
    "\n",
    "pred_train = ada.predict(X_train)       # Predicting training data with the model\n",
    "\n",
    "acc_train = metrics.r2_score(y_train,pred_train)    # Training accuracy\n",
    "\n",
    "print(\"R square score for training dataset: \", acc_train)\n",
    "\n",
    "pred_test = ada.predict(X_test)       # Predicting test data with the model\n",
    "\n",
    "acc_test = metrics.r2_score(y_test,pred_test)\n",
    "\n",
    "print(\"R square score for test dataset: \", acc_test)\n"
   ]
  },
  {
   "cell_type": "code",
   "execution_count": 67,
   "id": "08693cf1",
   "metadata": {},
   "outputs": [
    {
     "name": "stdout",
     "output_type": "stream",
     "text": [
      "Mean absolute Error: 3933.5183907145124\n",
      "Mean Squared Error: 22599061.49659843\n",
      "Root mean squared Error: 4753.847020739985\n"
     ]
    }
   ],
   "source": [
    "# MAE - represents avarage error\n",
    "\n",
    "mae = mean_absolute_error(y_test,pred_test)\n",
    "\n",
    "# MSE - ignoring some outliers means larger errors are punished. Hard to interpretate but most popular\n",
    "\n",
    "mse = mean_squared_error(y_test,pred_test)\n",
    "\n",
    "# RMSE\n",
    "\n",
    "rmse = np.sqrt(mse)\n",
    "\n",
    "print(\"Mean absolute Error:\",mae)\n",
    "\n",
    "print(\"Mean Squared Error:\",mse)\n",
    "\n",
    "print(\"Root mean squared Error:\",rmse)"
   ]
  },
  {
   "cell_type": "markdown",
   "id": "e2cd814b",
   "metadata": {},
   "source": [
    "# K Neighbors Regressor"
   ]
  },
  {
   "cell_type": "code",
   "execution_count": 70,
   "id": "8a4f1119",
   "metadata": {},
   "outputs": [
    {
     "name": "stdout",
     "output_type": "stream",
     "text": [
      "R square score for training dataset:  0.8707429587088804\n",
      "R square score for test dataset:  0.839566440678924\n"
     ]
    }
   ],
   "source": [
    "knn = KNeighborsRegressor()\n",
    "\n",
    "knn.fit(X_train,y_train)\n",
    "\n",
    "pred_train = knn.predict(X_train)       # Predicting training data with the model\n",
    "\n",
    "acc_train = metrics.r2_score(y_train,pred_train)    # Training accuracy\n",
    "\n",
    "print(\"R square score for training dataset: \", acc_train)\n",
    "\n",
    "pred_test = knn.predict(X_test)       # Predicting test data with the model\n",
    "\n",
    "acc_test = metrics.r2_score(y_test,pred_test)\n",
    "\n",
    "print(\"R square score for test dataset: \", acc_test)\n"
   ]
  },
  {
   "cell_type": "code",
   "execution_count": 71,
   "id": "e7ca78aa",
   "metadata": {},
   "outputs": [
    {
     "name": "stdout",
     "output_type": "stream",
     "text": [
      "{'algorithm': 'auto', 'n_jobs': -1, 'n_neighbors': 8, 'weights': 'distance'}\n"
     ]
    }
   ],
   "source": [
    "# Hyperparameter tuning for K Neighbors Regressor\n",
    "\n",
    "params_knn = {'n_neighbors':[4,5,6,7,8],\n",
    "              'weights':['uniform','distance'],\n",
    "              'algorithm':['auto','ball_tree', 'kd_tree', 'brute'],\n",
    "              'n_jobs':[-1,1]\n",
    "             }\n",
    "\n",
    "grd_knn = GridSearchCV(knn,params_knn)\n",
    "\n",
    "grd_knn.fit(X_train,y_train)\n",
    "\n",
    "print(grd_knn.best_params_)"
   ]
  },
  {
   "cell_type": "code",
   "execution_count": 72,
   "id": "5120cf83",
   "metadata": {},
   "outputs": [
    {
     "name": "stdout",
     "output_type": "stream",
     "text": [
      "R square score for training dataset:  0.9994960070762015\n",
      "R square score for test dataset:  0.8427286989934513\n"
     ]
    }
   ],
   "source": [
    "knn = grd_knn.best_estimator_\n",
    "\n",
    "knn.fit(X_train,y_train)\n",
    "\n",
    "pred_train = knn.predict(X_train)       # Predicting training data with the model\n",
    "\n",
    "acc_train = metrics.r2_score(y_train,pred_train)    # Training accuracy\n",
    "\n",
    "print(\"R square score for training dataset: \", acc_train)\n",
    "\n",
    "pred_test = knn.predict(X_test)       # Predicting test data with the model\n",
    "\n",
    "acc_test = metrics.r2_score(y_test,pred_test)\n",
    "\n",
    "print(\"R square score for test dataset: \", acc_test)\n"
   ]
  },
  {
   "cell_type": "code",
   "execution_count": 73,
   "id": "d80767f3",
   "metadata": {},
   "outputs": [
    {
     "name": "stdout",
     "output_type": "stream",
     "text": [
      "Mean absolute Error: 2991.9725954266737\n",
      "Mean Squared Error: 24073201.962776974\n",
      "Root mean squared Error: 4906.444941378327\n"
     ]
    }
   ],
   "source": [
    "# MAE - represents avarage error\n",
    "\n",
    "mae = mean_absolute_error(y_test,pred_test)\n",
    "\n",
    "# MSE - ignoring some outliers means larger errors are punished. Hard to interpretate but most popular\n",
    "\n",
    "mse = mean_squared_error(y_test,pred_test)\n",
    "\n",
    "# RMSE\n",
    "\n",
    "rmse = np.sqrt(mse)\n",
    "\n",
    "print(\"Mean absolute Error:\",mae)\n",
    "\n",
    "print(\"Mean Squared Error:\",mse)\n",
    "\n",
    "print(\"Root mean squared Error:\",rmse)"
   ]
  },
  {
   "cell_type": "markdown",
   "id": "c1cda687",
   "metadata": {},
   "source": [
    "Among all the models, the best r2 score and cv score is given by **Random Forest Regressor**"
   ]
  },
  {
   "cell_type": "markdown",
   "id": "e7f80b2f",
   "metadata": {},
   "source": [
    "# Saving the model in pickle format"
   ]
  },
  {
   "cell_type": "code",
   "execution_count": 75,
   "id": "1dd6170c",
   "metadata": {},
   "outputs": [],
   "source": [
    "import pickle\n",
    "filename = 'mcpi.pkl'\n",
    "pickle.dump(rf,open(filename,'wb'))"
   ]
  },
  {
   "cell_type": "markdown",
   "id": "69323a36",
   "metadata": {},
   "source": [
    "# Conclusion"
   ]
  },
  {
   "cell_type": "code",
   "execution_count": 77,
   "id": "1a704c9a",
   "metadata": {},
   "outputs": [
    {
     "name": "stdout",
     "output_type": "stream",
     "text": [
      "88.41281064790252\n"
     ]
    }
   ],
   "source": [
    "loaded_model = pickle.load(open('mcpi.pkl','rb'))\n",
    "result = loaded_model.score(X_test,y_test)\n",
    "pred_test = loaded_model.predict(X_test)\n",
    "print(result*100)"
   ]
  },
  {
   "cell_type": "code",
   "execution_count": 78,
   "id": "b3e0db46",
   "metadata": {},
   "outputs": [],
   "source": [
    "conclusion = pd.DataFrame([loaded_model.predict(X_test)[:],y_test[:]],index=[\"Predicted\",\"Original\"])"
   ]
  },
  {
   "cell_type": "code",
   "execution_count": 79,
   "id": "381cca1d",
   "metadata": {},
   "outputs": [
    {
     "data": {
      "text/html": [
       "<div>\n",
       "<style scoped>\n",
       "    .dataframe tbody tr th:only-of-type {\n",
       "        vertical-align: middle;\n",
       "    }\n",
       "\n",
       "    .dataframe tbody tr th {\n",
       "        vertical-align: top;\n",
       "    }\n",
       "\n",
       "    .dataframe thead th {\n",
       "        text-align: right;\n",
       "    }\n",
       "</style>\n",
       "<table border=\"1\" class=\"dataframe\">\n",
       "  <thead>\n",
       "    <tr style=\"text-align: right;\">\n",
       "      <th></th>\n",
       "      <th>0</th>\n",
       "      <th>1</th>\n",
       "      <th>2</th>\n",
       "      <th>3</th>\n",
       "      <th>4</th>\n",
       "      <th>5</th>\n",
       "      <th>6</th>\n",
       "      <th>7</th>\n",
       "      <th>8</th>\n",
       "      <th>9</th>\n",
       "      <th>...</th>\n",
       "      <th>258</th>\n",
       "      <th>259</th>\n",
       "      <th>260</th>\n",
       "      <th>261</th>\n",
       "      <th>262</th>\n",
       "      <th>263</th>\n",
       "      <th>264</th>\n",
       "      <th>265</th>\n",
       "      <th>266</th>\n",
       "      <th>267</th>\n",
       "    </tr>\n",
       "  </thead>\n",
       "  <tbody>\n",
       "    <tr>\n",
       "      <th>Predicted</th>\n",
       "      <td>48020.038171</td>\n",
       "      <td>8352.271023</td>\n",
       "      <td>8775.129054</td>\n",
       "      <td>3135.837261</td>\n",
       "      <td>9836.454593</td>\n",
       "      <td>6155.124141</td>\n",
       "      <td>2561.168683</td>\n",
       "      <td>7119.719083</td>\n",
       "      <td>11450.091889</td>\n",
       "      <td>4062.380424</td>\n",
       "      <td>...</td>\n",
       "      <td>12889.816976</td>\n",
       "      <td>5544.587974</td>\n",
       "      <td>9209.069849</td>\n",
       "      <td>12280.685079</td>\n",
       "      <td>5863.721691</td>\n",
       "      <td>3358.330639</td>\n",
       "      <td>4519.723726</td>\n",
       "      <td>7503.596437</td>\n",
       "      <td>43434.60668</td>\n",
       "      <td>10310.235631</td>\n",
       "    </tr>\n",
       "    <tr>\n",
       "      <th>Original</th>\n",
       "      <td>48970.247600</td>\n",
       "      <td>4766.022000</td>\n",
       "      <td>7633.720600</td>\n",
       "      <td>21344.846700</td>\n",
       "      <td>5757.413450</td>\n",
       "      <td>3062.508250</td>\n",
       "      <td>1842.519000</td>\n",
       "      <td>5152.134000</td>\n",
       "      <td>8688.858850</td>\n",
       "      <td>2850.683750</td>\n",
       "      <td>...</td>\n",
       "      <td>30259.995560</td>\n",
       "      <td>3208.787000</td>\n",
       "      <td>8310.839150</td>\n",
       "      <td>11363.283200</td>\n",
       "      <td>5325.651000</td>\n",
       "      <td>2709.243950</td>\n",
       "      <td>3353.284000</td>\n",
       "      <td>4536.259000</td>\n",
       "      <td>40974.16490</td>\n",
       "      <td>8606.217400</td>\n",
       "    </tr>\n",
       "  </tbody>\n",
       "</table>\n",
       "<p>2 rows × 268 columns</p>\n",
       "</div>"
      ],
      "text/plain": [
       "                    0            1            2             3            4    \\\n",
       "Predicted  48020.038171  8352.271023  8775.129054   3135.837261  9836.454593   \n",
       "Original   48970.247600  4766.022000  7633.720600  21344.846700  5757.413450   \n",
       "\n",
       "                   5            6            7             8            9    \\\n",
       "Predicted  6155.124141  2561.168683  7119.719083  11450.091889  4062.380424   \n",
       "Original   3062.508250  1842.519000  5152.134000   8688.858850  2850.683750   \n",
       "\n",
       "           ...           258          259          260           261  \\\n",
       "Predicted  ...  12889.816976  5544.587974  9209.069849  12280.685079   \n",
       "Original   ...  30259.995560  3208.787000  8310.839150  11363.283200   \n",
       "\n",
       "                   262          263          264          265          266  \\\n",
       "Predicted  5863.721691  3358.330639  4519.723726  7503.596437  43434.60668   \n",
       "Original   5325.651000  2709.243950  3353.284000  4536.259000  40974.16490   \n",
       "\n",
       "                    267  \n",
       "Predicted  10310.235631  \n",
       "Original    8606.217400  \n",
       "\n",
       "[2 rows x 268 columns]"
      ]
     },
     "execution_count": 79,
     "metadata": {},
     "output_type": "execute_result"
    }
   ],
   "source": [
    "conclusion"
   ]
  },
  {
   "cell_type": "code",
   "execution_count": null,
   "id": "9516bfef",
   "metadata": {},
   "outputs": [],
   "source": []
  }
 ],
 "metadata": {
  "kernelspec": {
   "display_name": "Python 3 (ipykernel)",
   "language": "python",
   "name": "python3"
  },
  "language_info": {
   "codemirror_mode": {
    "name": "ipython",
    "version": 3
   },
   "file_extension": ".py",
   "mimetype": "text/x-python",
   "name": "python",
   "nbconvert_exporter": "python",
   "pygments_lexer": "ipython3",
   "version": "3.9.12"
  }
 },
 "nbformat": 4,
 "nbformat_minor": 5
}
