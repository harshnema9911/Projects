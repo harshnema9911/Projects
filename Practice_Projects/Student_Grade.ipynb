{
 "cells": [
  {
   "cell_type": "code",
   "execution_count": 1,
   "id": "975c9498",
   "metadata": {},
   "outputs": [],
   "source": [
    "import pandas as pd\n",
    "import numpy as np\n",
    "import seaborn as sns\n",
    "import matplotlib.pyplot as plt\n",
    "import warnings\n",
    "warnings.filterwarnings('ignore')\n",
    "%matplotlib inline\n",
    "from collections import Counter\n",
    "from sklearn.model_selection import train_test_split,GridSearchCV\n",
    "from sklearn.linear_model import LinearRegression\n",
    "from sklearn.tree import DecisionTreeRegressor\n",
    "from sklearn.metrics import r2_score,mean_absolute_error,mean_squared_error\n",
    "from sklearn.ensemble import RandomForestRegressor\n",
    "from sklearn.neighbors import KNeighborsRegressor\n",
    "from sklearn.svm import SVR\n",
    "from sklearn.ensemble import AdaBoostRegressor, GradientBoostingRegressor\n",
    "import pickle"
   ]
  },
  {
   "cell_type": "code",
   "execution_count": 30,
   "id": "d986b426",
   "metadata": {},
   "outputs": [],
   "source": [
    "df = pd.read_csv('https://raw.githubusercontent.com/dsrscientist/dataset4/main/Grades.csv')"
   ]
  },
  {
   "cell_type": "code",
   "execution_count": 31,
   "id": "5845b888",
   "metadata": {},
   "outputs": [
    {
     "data": {
      "text/html": [
       "<div>\n",
       "<style scoped>\n",
       "    .dataframe tbody tr th:only-of-type {\n",
       "        vertical-align: middle;\n",
       "    }\n",
       "\n",
       "    .dataframe tbody tr th {\n",
       "        vertical-align: top;\n",
       "    }\n",
       "\n",
       "    .dataframe thead th {\n",
       "        text-align: right;\n",
       "    }\n",
       "</style>\n",
       "<table border=\"1\" class=\"dataframe\">\n",
       "  <thead>\n",
       "    <tr style=\"text-align: right;\">\n",
       "      <th></th>\n",
       "      <th>Seat No.</th>\n",
       "      <th>PH-121</th>\n",
       "      <th>HS-101</th>\n",
       "      <th>CY-105</th>\n",
       "      <th>HS-105/12</th>\n",
       "      <th>MT-111</th>\n",
       "      <th>CS-105</th>\n",
       "      <th>CS-106</th>\n",
       "      <th>EL-102</th>\n",
       "      <th>EE-119</th>\n",
       "      <th>...</th>\n",
       "      <th>CS-312</th>\n",
       "      <th>CS-317</th>\n",
       "      <th>CS-403</th>\n",
       "      <th>CS-421</th>\n",
       "      <th>CS-406</th>\n",
       "      <th>CS-414</th>\n",
       "      <th>CS-419</th>\n",
       "      <th>CS-423</th>\n",
       "      <th>CS-412</th>\n",
       "      <th>CGPA</th>\n",
       "    </tr>\n",
       "  </thead>\n",
       "  <tbody>\n",
       "    <tr>\n",
       "      <th>0</th>\n",
       "      <td>CS-97001</td>\n",
       "      <td>B-</td>\n",
       "      <td>D+</td>\n",
       "      <td>C-</td>\n",
       "      <td>C</td>\n",
       "      <td>C-</td>\n",
       "      <td>D+</td>\n",
       "      <td>D</td>\n",
       "      <td>C-</td>\n",
       "      <td>B-</td>\n",
       "      <td>...</td>\n",
       "      <td>C-</td>\n",
       "      <td>C-</td>\n",
       "      <td>C-</td>\n",
       "      <td>C-</td>\n",
       "      <td>A-</td>\n",
       "      <td>A</td>\n",
       "      <td>C-</td>\n",
       "      <td>B</td>\n",
       "      <td>A-</td>\n",
       "      <td>2.205</td>\n",
       "    </tr>\n",
       "    <tr>\n",
       "      <th>1</th>\n",
       "      <td>CS-97002</td>\n",
       "      <td>A</td>\n",
       "      <td>D</td>\n",
       "      <td>D+</td>\n",
       "      <td>D</td>\n",
       "      <td>B-</td>\n",
       "      <td>C</td>\n",
       "      <td>D</td>\n",
       "      <td>A</td>\n",
       "      <td>D+</td>\n",
       "      <td>...</td>\n",
       "      <td>D+</td>\n",
       "      <td>D</td>\n",
       "      <td>C</td>\n",
       "      <td>D</td>\n",
       "      <td>A-</td>\n",
       "      <td>B-</td>\n",
       "      <td>C</td>\n",
       "      <td>C</td>\n",
       "      <td>B</td>\n",
       "      <td>2.008</td>\n",
       "    </tr>\n",
       "    <tr>\n",
       "      <th>2</th>\n",
       "      <td>CS-97003</td>\n",
       "      <td>A</td>\n",
       "      <td>B</td>\n",
       "      <td>A</td>\n",
       "      <td>B-</td>\n",
       "      <td>B+</td>\n",
       "      <td>A</td>\n",
       "      <td>B-</td>\n",
       "      <td>B+</td>\n",
       "      <td>A-</td>\n",
       "      <td>...</td>\n",
       "      <td>B</td>\n",
       "      <td>B</td>\n",
       "      <td>A</td>\n",
       "      <td>C</td>\n",
       "      <td>A</td>\n",
       "      <td>A</td>\n",
       "      <td>A</td>\n",
       "      <td>A-</td>\n",
       "      <td>A</td>\n",
       "      <td>3.608</td>\n",
       "    </tr>\n",
       "    <tr>\n",
       "      <th>3</th>\n",
       "      <td>CS-97004</td>\n",
       "      <td>D</td>\n",
       "      <td>C+</td>\n",
       "      <td>D+</td>\n",
       "      <td>D</td>\n",
       "      <td>D</td>\n",
       "      <td>A-</td>\n",
       "      <td>D+</td>\n",
       "      <td>C-</td>\n",
       "      <td>D</td>\n",
       "      <td>...</td>\n",
       "      <td>D+</td>\n",
       "      <td>C</td>\n",
       "      <td>D+</td>\n",
       "      <td>C-</td>\n",
       "      <td>B-</td>\n",
       "      <td>B</td>\n",
       "      <td>C+</td>\n",
       "      <td>C+</td>\n",
       "      <td>C+</td>\n",
       "      <td>1.906</td>\n",
       "    </tr>\n",
       "    <tr>\n",
       "      <th>4</th>\n",
       "      <td>CS-97005</td>\n",
       "      <td>A-</td>\n",
       "      <td>A-</td>\n",
       "      <td>A-</td>\n",
       "      <td>B+</td>\n",
       "      <td>A</td>\n",
       "      <td>A</td>\n",
       "      <td>A-</td>\n",
       "      <td>B+</td>\n",
       "      <td>A</td>\n",
       "      <td>...</td>\n",
       "      <td>B-</td>\n",
       "      <td>B+</td>\n",
       "      <td>B+</td>\n",
       "      <td>B-</td>\n",
       "      <td>A-</td>\n",
       "      <td>A</td>\n",
       "      <td>A-</td>\n",
       "      <td>A-</td>\n",
       "      <td>A</td>\n",
       "      <td>3.448</td>\n",
       "    </tr>\n",
       "  </tbody>\n",
       "</table>\n",
       "<p>5 rows × 43 columns</p>\n",
       "</div>"
      ],
      "text/plain": [
       "   Seat No. PH-121 HS-101 CY-105 HS-105/12 MT-111 CS-105 CS-106 EL-102 EE-119  \\\n",
       "0  CS-97001     B-     D+     C-         C     C-     D+      D     C-     B-   \n",
       "1  CS-97002      A      D     D+         D     B-      C      D      A     D+   \n",
       "2  CS-97003      A      B      A        B-     B+      A     B-     B+     A-   \n",
       "3  CS-97004      D     C+     D+         D      D     A-     D+     C-      D   \n",
       "4  CS-97005     A-     A-     A-        B+      A      A     A-     B+      A   \n",
       "\n",
       "   ... CS-312 CS-317 CS-403 CS-421 CS-406 CS-414 CS-419 CS-423 CS-412   CGPA  \n",
       "0  ...     C-     C-     C-     C-     A-      A     C-      B     A-  2.205  \n",
       "1  ...     D+      D      C      D     A-     B-      C      C      B  2.008  \n",
       "2  ...      B      B      A      C      A      A      A     A-      A  3.608  \n",
       "3  ...     D+      C     D+     C-     B-      B     C+     C+     C+  1.906  \n",
       "4  ...     B-     B+     B+     B-     A-      A     A-     A-      A  3.448  \n",
       "\n",
       "[5 rows x 43 columns]"
      ]
     },
     "execution_count": 31,
     "metadata": {},
     "output_type": "execute_result"
    }
   ],
   "source": [
    "df.head()"
   ]
  },
  {
   "cell_type": "markdown",
   "id": "0cbd14a4",
   "metadata": {},
   "source": [
    "**The dataset contains grades scored by students throughout their university tenure in various courses and their CGPA calculated based on their grades**"
   ]
  },
  {
   "cell_type": "code",
   "execution_count": 33,
   "id": "ef64d0d3",
   "metadata": {},
   "outputs": [
    {
     "data": {
      "text/plain": [
       "(571, 43)"
      ]
     },
     "execution_count": 33,
     "metadata": {},
     "output_type": "execute_result"
    }
   ],
   "source": [
    "df.shape"
   ]
  },
  {
   "cell_type": "code",
   "execution_count": 34,
   "id": "e2c89616",
   "metadata": {},
   "outputs": [
    {
     "data": {
      "text/plain": [
       "Index(['Seat No.', 'PH-121', 'HS-101', 'CY-105', 'HS-105/12', 'MT-111',\n",
       "       'CS-105', 'CS-106', 'EL-102', 'EE-119', 'ME-107', 'CS-107', 'HS-205/20',\n",
       "       'MT-222', 'EE-222', 'MT-224', 'CS-210', 'CS-211', 'CS-203', 'CS-214',\n",
       "       'EE-217', 'CS-212', 'CS-215', 'MT-331', 'EF-303', 'HS-304', 'CS-301',\n",
       "       'CS-302', 'TC-383', 'MT-442', 'EL-332', 'CS-318', 'CS-306', 'CS-312',\n",
       "       'CS-317', 'CS-403', 'CS-421', 'CS-406', 'CS-414', 'CS-419', 'CS-423',\n",
       "       'CS-412', 'CGPA'],\n",
       "      dtype='object')"
      ]
     },
     "execution_count": 34,
     "metadata": {},
     "output_type": "execute_result"
    }
   ],
   "source": [
    "df.columns"
   ]
  },
  {
   "cell_type": "markdown",
   "id": "eb0c80e2",
   "metadata": {},
   "source": [
    "* **Seat No :** The enrolled number of candidate that took the exams\n",
    "\n",
    "\n",
    "\n",
    "* **CGPA :** The cumulative GPA based on the four year total grade progress of each candidate . CGPA is a Final Marks -- provided to student.\n",
    "\n",
    " \n",
    "\n",
    "* **All other columns** are course codes in the format AB-XXX where AB are alphabets representing candidates' departments and XXX are numbers where first X represents the year the canditate took exam\n",
    "\n",
    "* **Predict**   CGPA of a student based on different grades in four years."
   ]
  },
  {
   "cell_type": "code",
   "execution_count": 35,
   "id": "42de865a",
   "metadata": {},
   "outputs": [
    {
     "data": {
      "text/plain": [
       "Seat No.      object\n",
       "PH-121        object\n",
       "HS-101        object\n",
       "CY-105        object\n",
       "HS-105/12     object\n",
       "MT-111        object\n",
       "CS-105        object\n",
       "CS-106        object\n",
       "EL-102        object\n",
       "EE-119        object\n",
       "ME-107        object\n",
       "CS-107        object\n",
       "HS-205/20     object\n",
       "MT-222        object\n",
       "EE-222        object\n",
       "MT-224        object\n",
       "CS-210        object\n",
       "CS-211        object\n",
       "CS-203        object\n",
       "CS-214        object\n",
       "EE-217        object\n",
       "CS-212        object\n",
       "CS-215        object\n",
       "MT-331        object\n",
       "EF-303        object\n",
       "HS-304        object\n",
       "CS-301        object\n",
       "CS-302        object\n",
       "TC-383        object\n",
       "MT-442        object\n",
       "EL-332        object\n",
       "CS-318        object\n",
       "CS-306        object\n",
       "CS-312        object\n",
       "CS-317        object\n",
       "CS-403        object\n",
       "CS-421        object\n",
       "CS-406        object\n",
       "CS-414        object\n",
       "CS-419        object\n",
       "CS-423        object\n",
       "CS-412        object\n",
       "CGPA         float64\n",
       "dtype: object"
      ]
     },
     "execution_count": 35,
     "metadata": {},
     "output_type": "execute_result"
    }
   ],
   "source": [
    "df.dtypes"
   ]
  },
  {
   "cell_type": "markdown",
   "id": "42211e1b",
   "metadata": {},
   "source": [
    "**All the columns are object data type which means all features are categorical in nature**"
   ]
  },
  {
   "cell_type": "code",
   "execution_count": 36,
   "id": "b381c5f0",
   "metadata": {},
   "outputs": [
    {
     "data": {
      "text/plain": [
       "Seat No.      0\n",
       "PH-121        0\n",
       "HS-101        0\n",
       "CY-105        1\n",
       "HS-105/12     1\n",
       "MT-111        2\n",
       "CS-105        0\n",
       "CS-106        2\n",
       "EL-102        2\n",
       "EE-119        2\n",
       "ME-107        2\n",
       "CS-107        2\n",
       "HS-205/20     5\n",
       "MT-222        5\n",
       "EE-222        7\n",
       "MT-224        7\n",
       "CS-210        7\n",
       "CS-211        5\n",
       "CS-203        5\n",
       "CS-214        6\n",
       "EE-217        6\n",
       "CS-212        6\n",
       "CS-215        6\n",
       "MT-331        9\n",
       "EF-303       10\n",
       "HS-304       10\n",
       "CS-301       10\n",
       "CS-302       10\n",
       "TC-383       10\n",
       "MT-442       10\n",
       "EL-332        9\n",
       "CS-318        9\n",
       "CS-306        9\n",
       "CS-312       10\n",
       "CS-317       12\n",
       "CS-403       12\n",
       "CS-421       12\n",
       "CS-406       85\n",
       "CS-414       13\n",
       "CS-419       13\n",
       "CS-423       14\n",
       "CS-412       79\n",
       "CGPA          0\n",
       "dtype: int64"
      ]
     },
     "execution_count": 36,
     "metadata": {},
     "output_type": "execute_result"
    }
   ],
   "source": [
    "df.isnull().sum()"
   ]
  },
  {
   "cell_type": "markdown",
   "id": "e127a0a0",
   "metadata": {},
   "source": [
    "**There are many missing values in the dataset and it needs to be filled as our data is too small.Using Simple Immuter to fill the missing values**"
   ]
  },
  {
   "cell_type": "code",
   "execution_count": 37,
   "id": "4c86a1e1",
   "metadata": {},
   "outputs": [],
   "source": [
    "from sklearn.impute import SimpleImputer\n",
    "from sklearn.compose import make_column_transformer"
   ]
  },
  {
   "cell_type": "code",
   "execution_count": 38,
   "id": "39441ed0",
   "metadata": {},
   "outputs": [],
   "source": [
    "# Using strategy as mode or most frequent to fill missing values\n",
    "si = SimpleImputer(strategy = 'most_frequent')"
   ]
  },
  {
   "cell_type": "code",
   "execution_count": 39,
   "id": "3f32407f",
   "metadata": {},
   "outputs": [],
   "source": [
    "ct = make_column_transformer((si,['CY-105', 'HS-105/12', 'MT-111',\n",
    "        'CS-106', 'EL-102', 'EE-119', 'ME-107', 'CS-107', 'HS-205/20',\n",
    "       'MT-222', 'EE-222', 'MT-224', 'CS-210', 'CS-211', 'CS-203', 'CS-214',\n",
    "       'EE-217', 'CS-212', 'CS-215', 'MT-331', 'EF-303', 'HS-304', 'CS-301',\n",
    "       'CS-302', 'TC-383', 'MT-442', 'EL-332', 'CS-318', 'CS-306', 'CS-312',\n",
    "       'CS-317', 'CS-403', 'CS-421', 'CS-406', 'CS-414', 'CS-419', 'CS-423',\n",
    "       'CS-412']),remainder='passthrough')"
   ]
  },
  {
   "cell_type": "code",
   "execution_count": 12,
   "id": "030abced",
   "metadata": {},
   "outputs": [],
   "source": [
    "# Rename the columns and filling the missing values using Simple imputer and mode as a strategy and making a new dataframe"
   ]
  },
  {
   "cell_type": "code",
   "execution_count": 40,
   "id": "62406e59",
   "metadata": {},
   "outputs": [
    {
     "data": {
      "text/html": [
       "<div>\n",
       "<style scoped>\n",
       "    .dataframe tbody tr th:only-of-type {\n",
       "        vertical-align: middle;\n",
       "    }\n",
       "\n",
       "    .dataframe tbody tr th {\n",
       "        vertical-align: top;\n",
       "    }\n",
       "\n",
       "    .dataframe thead th {\n",
       "        text-align: right;\n",
       "    }\n",
       "</style>\n",
       "<table border=\"1\" class=\"dataframe\">\n",
       "  <thead>\n",
       "    <tr style=\"text-align: right;\">\n",
       "      <th></th>\n",
       "      <th>CY-105</th>\n",
       "      <th>HS-105/12</th>\n",
       "      <th>MT-111</th>\n",
       "      <th>CS-106</th>\n",
       "      <th>EL-102</th>\n",
       "      <th>EE-119</th>\n",
       "      <th>ME-107</th>\n",
       "      <th>CS-107</th>\n",
       "      <th>HS-205/20</th>\n",
       "      <th>MT-222</th>\n",
       "      <th>...</th>\n",
       "      <th>CS-406</th>\n",
       "      <th>CS-414</th>\n",
       "      <th>CS-419</th>\n",
       "      <th>CS-423</th>\n",
       "      <th>CS-412</th>\n",
       "      <th>Seat No.</th>\n",
       "      <th>PH-121</th>\n",
       "      <th>HS-101</th>\n",
       "      <th>CS-105</th>\n",
       "      <th>CGPA</th>\n",
       "    </tr>\n",
       "  </thead>\n",
       "  <tbody>\n",
       "    <tr>\n",
       "      <th>0</th>\n",
       "      <td>C-</td>\n",
       "      <td>C</td>\n",
       "      <td>C-</td>\n",
       "      <td>D</td>\n",
       "      <td>C-</td>\n",
       "      <td>B-</td>\n",
       "      <td>C-</td>\n",
       "      <td>C-</td>\n",
       "      <td>B+</td>\n",
       "      <td>D</td>\n",
       "      <td>...</td>\n",
       "      <td>A-</td>\n",
       "      <td>A</td>\n",
       "      <td>C-</td>\n",
       "      <td>B</td>\n",
       "      <td>A-</td>\n",
       "      <td>CS-97001</td>\n",
       "      <td>B-</td>\n",
       "      <td>D+</td>\n",
       "      <td>D+</td>\n",
       "      <td>2.205</td>\n",
       "    </tr>\n",
       "    <tr>\n",
       "      <th>1</th>\n",
       "      <td>D+</td>\n",
       "      <td>D</td>\n",
       "      <td>B-</td>\n",
       "      <td>D</td>\n",
       "      <td>A</td>\n",
       "      <td>D+</td>\n",
       "      <td>D</td>\n",
       "      <td>B+</td>\n",
       "      <td>C+</td>\n",
       "      <td>B-</td>\n",
       "      <td>...</td>\n",
       "      <td>A-</td>\n",
       "      <td>B-</td>\n",
       "      <td>C</td>\n",
       "      <td>C</td>\n",
       "      <td>B</td>\n",
       "      <td>CS-97002</td>\n",
       "      <td>A</td>\n",
       "      <td>D</td>\n",
       "      <td>C</td>\n",
       "      <td>2.008</td>\n",
       "    </tr>\n",
       "    <tr>\n",
       "      <th>2</th>\n",
       "      <td>A</td>\n",
       "      <td>B-</td>\n",
       "      <td>B+</td>\n",
       "      <td>B-</td>\n",
       "      <td>B+</td>\n",
       "      <td>A-</td>\n",
       "      <td>A-</td>\n",
       "      <td>B-</td>\n",
       "      <td>A-</td>\n",
       "      <td>A</td>\n",
       "      <td>...</td>\n",
       "      <td>A</td>\n",
       "      <td>A</td>\n",
       "      <td>A</td>\n",
       "      <td>A-</td>\n",
       "      <td>A</td>\n",
       "      <td>CS-97003</td>\n",
       "      <td>A</td>\n",
       "      <td>B</td>\n",
       "      <td>A</td>\n",
       "      <td>3.608</td>\n",
       "    </tr>\n",
       "    <tr>\n",
       "      <th>3</th>\n",
       "      <td>D+</td>\n",
       "      <td>D</td>\n",
       "      <td>D</td>\n",
       "      <td>D+</td>\n",
       "      <td>C-</td>\n",
       "      <td>D</td>\n",
       "      <td>C+</td>\n",
       "      <td>D</td>\n",
       "      <td>B</td>\n",
       "      <td>D+</td>\n",
       "      <td>...</td>\n",
       "      <td>B-</td>\n",
       "      <td>B</td>\n",
       "      <td>C+</td>\n",
       "      <td>C+</td>\n",
       "      <td>C+</td>\n",
       "      <td>CS-97004</td>\n",
       "      <td>D</td>\n",
       "      <td>C+</td>\n",
       "      <td>A-</td>\n",
       "      <td>1.906</td>\n",
       "    </tr>\n",
       "    <tr>\n",
       "      <th>4</th>\n",
       "      <td>A-</td>\n",
       "      <td>B+</td>\n",
       "      <td>A</td>\n",
       "      <td>A-</td>\n",
       "      <td>B+</td>\n",
       "      <td>A</td>\n",
       "      <td>A-</td>\n",
       "      <td>C</td>\n",
       "      <td>A</td>\n",
       "      <td>A</td>\n",
       "      <td>...</td>\n",
       "      <td>A-</td>\n",
       "      <td>A</td>\n",
       "      <td>A-</td>\n",
       "      <td>A-</td>\n",
       "      <td>A</td>\n",
       "      <td>CS-97005</td>\n",
       "      <td>A-</td>\n",
       "      <td>A-</td>\n",
       "      <td>A</td>\n",
       "      <td>3.448</td>\n",
       "    </tr>\n",
       "    <tr>\n",
       "      <th>...</th>\n",
       "      <td>...</td>\n",
       "      <td>...</td>\n",
       "      <td>...</td>\n",
       "      <td>...</td>\n",
       "      <td>...</td>\n",
       "      <td>...</td>\n",
       "      <td>...</td>\n",
       "      <td>...</td>\n",
       "      <td>...</td>\n",
       "      <td>...</td>\n",
       "      <td>...</td>\n",
       "      <td>...</td>\n",
       "      <td>...</td>\n",
       "      <td>...</td>\n",
       "      <td>...</td>\n",
       "      <td>...</td>\n",
       "      <td>...</td>\n",
       "      <td>...</td>\n",
       "      <td>...</td>\n",
       "      <td>...</td>\n",
       "      <td>...</td>\n",
       "    </tr>\n",
       "    <tr>\n",
       "      <th>566</th>\n",
       "      <td>A</td>\n",
       "      <td>A-</td>\n",
       "      <td>A+</td>\n",
       "      <td>A-</td>\n",
       "      <td>A-</td>\n",
       "      <td>A+</td>\n",
       "      <td>B+</td>\n",
       "      <td>A+</td>\n",
       "      <td>A</td>\n",
       "      <td>A+</td>\n",
       "      <td>...</td>\n",
       "      <td>A</td>\n",
       "      <td>B+</td>\n",
       "      <td>B+</td>\n",
       "      <td>B</td>\n",
       "      <td>A</td>\n",
       "      <td>CS-97567</td>\n",
       "      <td>B</td>\n",
       "      <td>A</td>\n",
       "      <td>A</td>\n",
       "      <td>3.798</td>\n",
       "    </tr>\n",
       "    <tr>\n",
       "      <th>567</th>\n",
       "      <td>A</td>\n",
       "      <td>A</td>\n",
       "      <td>A</td>\n",
       "      <td>A</td>\n",
       "      <td>A-</td>\n",
       "      <td>A</td>\n",
       "      <td>A</td>\n",
       "      <td>A+</td>\n",
       "      <td>B+</td>\n",
       "      <td>C+</td>\n",
       "      <td>...</td>\n",
       "      <td>A-</td>\n",
       "      <td>B</td>\n",
       "      <td>A-</td>\n",
       "      <td>C</td>\n",
       "      <td>A-</td>\n",
       "      <td>CS-97568</td>\n",
       "      <td>A+</td>\n",
       "      <td>A</td>\n",
       "      <td>A</td>\n",
       "      <td>3.772</td>\n",
       "    </tr>\n",
       "    <tr>\n",
       "      <th>568</th>\n",
       "      <td>A-</td>\n",
       "      <td>B+</td>\n",
       "      <td>A</td>\n",
       "      <td>A</td>\n",
       "      <td>A</td>\n",
       "      <td>A</td>\n",
       "      <td>B</td>\n",
       "      <td>A+</td>\n",
       "      <td>B-</td>\n",
       "      <td>B</td>\n",
       "      <td>...</td>\n",
       "      <td>A</td>\n",
       "      <td>C</td>\n",
       "      <td>B+</td>\n",
       "      <td>A-</td>\n",
       "      <td>A-</td>\n",
       "      <td>CS-97569</td>\n",
       "      <td>B</td>\n",
       "      <td>A</td>\n",
       "      <td>A</td>\n",
       "      <td>3.47</td>\n",
       "    </tr>\n",
       "    <tr>\n",
       "      <th>569</th>\n",
       "      <td>D</td>\n",
       "      <td>A</td>\n",
       "      <td>D</td>\n",
       "      <td>B-</td>\n",
       "      <td>C-</td>\n",
       "      <td>B-</td>\n",
       "      <td>C-</td>\n",
       "      <td>A+</td>\n",
       "      <td>C+</td>\n",
       "      <td>D</td>\n",
       "      <td>...</td>\n",
       "      <td>D</td>\n",
       "      <td>C</td>\n",
       "      <td>B</td>\n",
       "      <td>B-</td>\n",
       "      <td>C</td>\n",
       "      <td>CS-97570</td>\n",
       "      <td>A</td>\n",
       "      <td>B+</td>\n",
       "      <td>D+</td>\n",
       "      <td>2.193</td>\n",
       "    </tr>\n",
       "    <tr>\n",
       "      <th>570</th>\n",
       "      <td>D</td>\n",
       "      <td>C</td>\n",
       "      <td>C</td>\n",
       "      <td>B</td>\n",
       "      <td>C+</td>\n",
       "      <td>C</td>\n",
       "      <td>D+</td>\n",
       "      <td>B-</td>\n",
       "      <td>C+</td>\n",
       "      <td>C-</td>\n",
       "      <td>...</td>\n",
       "      <td>F</td>\n",
       "      <td>C-</td>\n",
       "      <td>B+</td>\n",
       "      <td>D</td>\n",
       "      <td>C-</td>\n",
       "      <td>CS-97571</td>\n",
       "      <td>C</td>\n",
       "      <td>D</td>\n",
       "      <td>D+</td>\n",
       "      <td>1.753</td>\n",
       "    </tr>\n",
       "  </tbody>\n",
       "</table>\n",
       "<p>571 rows × 43 columns</p>\n",
       "</div>"
      ],
      "text/plain": [
       "    CY-105 HS-105/12 MT-111 CS-106 EL-102 EE-119 ME-107 CS-107 HS-205/20  \\\n",
       "0       C-         C     C-      D     C-     B-     C-     C-        B+   \n",
       "1       D+         D     B-      D      A     D+      D     B+        C+   \n",
       "2        A        B-     B+     B-     B+     A-     A-     B-        A-   \n",
       "3       D+         D      D     D+     C-      D     C+      D         B   \n",
       "4       A-        B+      A     A-     B+      A     A-      C         A   \n",
       "..     ...       ...    ...    ...    ...    ...    ...    ...       ...   \n",
       "566      A        A-     A+     A-     A-     A+     B+     A+         A   \n",
       "567      A         A      A      A     A-      A      A     A+        B+   \n",
       "568     A-        B+      A      A      A      A      B     A+        B-   \n",
       "569      D         A      D     B-     C-     B-     C-     A+        C+   \n",
       "570      D         C      C      B     C+      C     D+     B-        C+   \n",
       "\n",
       "    MT-222  ... CS-406 CS-414 CS-419 CS-423 CS-412  Seat No. PH-121 HS-101  \\\n",
       "0        D  ...     A-      A     C-      B     A-  CS-97001     B-     D+   \n",
       "1       B-  ...     A-     B-      C      C      B  CS-97002      A      D   \n",
       "2        A  ...      A      A      A     A-      A  CS-97003      A      B   \n",
       "3       D+  ...     B-      B     C+     C+     C+  CS-97004      D     C+   \n",
       "4        A  ...     A-      A     A-     A-      A  CS-97005     A-     A-   \n",
       "..     ...  ...    ...    ...    ...    ...    ...       ...    ...    ...   \n",
       "566     A+  ...      A     B+     B+      B      A  CS-97567      B      A   \n",
       "567     C+  ...     A-      B     A-      C     A-  CS-97568     A+      A   \n",
       "568      B  ...      A      C     B+     A-     A-  CS-97569      B      A   \n",
       "569      D  ...      D      C      B     B-      C  CS-97570      A     B+   \n",
       "570     C-  ...      F     C-     B+      D     C-  CS-97571      C      D   \n",
       "\n",
       "    CS-105   CGPA  \n",
       "0       D+  2.205  \n",
       "1        C  2.008  \n",
       "2        A  3.608  \n",
       "3       A-  1.906  \n",
       "4        A  3.448  \n",
       "..     ...    ...  \n",
       "566      A  3.798  \n",
       "567      A  3.772  \n",
       "568      A   3.47  \n",
       "569     D+  2.193  \n",
       "570     D+  1.753  \n",
       "\n",
       "[571 rows x 43 columns]"
      ]
     },
     "execution_count": 40,
     "metadata": {},
     "output_type": "execute_result"
    }
   ],
   "source": [
    "df_new = pd.DataFrame(ct.fit_transform(df),columns=['CY-105', 'HS-105/12', 'MT-111',\n",
    "        'CS-106', 'EL-102', 'EE-119', 'ME-107', 'CS-107', 'HS-205/20',\n",
    "       'MT-222', 'EE-222', 'MT-224', 'CS-210', 'CS-211', 'CS-203', 'CS-214',\n",
    "       'EE-217', 'CS-212', 'CS-215', 'MT-331', 'EF-303', 'HS-304', 'CS-301',\n",
    "       'CS-302', 'TC-383', 'MT-442', 'EL-332', 'CS-318', 'CS-306', 'CS-312',\n",
    "       'CS-317', 'CS-403', 'CS-421', 'CS-406', 'CS-414', 'CS-419', 'CS-423',\n",
    "       'CS-412','Seat No.', 'PH-121', 'HS-101','CS-105', 'CGPA'])\n",
    "df_new"
   ]
  },
  {
   "cell_type": "code",
   "execution_count": 41,
   "id": "ef978f6d",
   "metadata": {},
   "outputs": [
    {
     "data": {
      "text/plain": [
       "A     178\n",
       "A-    120\n",
       "B+     50\n",
       "B      49\n",
       "B-     42\n",
       "D      31\n",
       "A+     31\n",
       "C      19\n",
       "C+     17\n",
       "C-     16\n",
       "D+     14\n",
       "WU      3\n",
       "F       1\n",
       "Name: CY-105, dtype: int64"
      ]
     },
     "execution_count": 41,
     "metadata": {},
     "output_type": "execute_result"
    }
   ],
   "source": [
    "df_new['CY-105'].value_counts()"
   ]
  },
  {
   "cell_type": "code",
   "execution_count": 42,
   "id": "79999656",
   "metadata": {},
   "outputs": [
    {
     "data": {
      "text/html": [
       "<div>\n",
       "<style scoped>\n",
       "    .dataframe tbody tr th:only-of-type {\n",
       "        vertical-align: middle;\n",
       "    }\n",
       "\n",
       "    .dataframe tbody tr th {\n",
       "        vertical-align: top;\n",
       "    }\n",
       "\n",
       "    .dataframe thead th {\n",
       "        text-align: right;\n",
       "    }\n",
       "</style>\n",
       "<table border=\"1\" class=\"dataframe\">\n",
       "  <thead>\n",
       "    <tr style=\"text-align: right;\">\n",
       "      <th></th>\n",
       "      <th>CY-105</th>\n",
       "      <th>HS-105/12</th>\n",
       "      <th>MT-111</th>\n",
       "      <th>CS-106</th>\n",
       "      <th>EL-102</th>\n",
       "      <th>EE-119</th>\n",
       "      <th>ME-107</th>\n",
       "      <th>CS-107</th>\n",
       "      <th>HS-205/20</th>\n",
       "      <th>MT-222</th>\n",
       "      <th>...</th>\n",
       "      <th>CS-421</th>\n",
       "      <th>CS-406</th>\n",
       "      <th>CS-414</th>\n",
       "      <th>CS-419</th>\n",
       "      <th>CS-423</th>\n",
       "      <th>CS-412</th>\n",
       "      <th>PH-121</th>\n",
       "      <th>HS-101</th>\n",
       "      <th>CS-105</th>\n",
       "      <th>CGPA</th>\n",
       "    </tr>\n",
       "  </thead>\n",
       "  <tbody>\n",
       "    <tr>\n",
       "      <th>0</th>\n",
       "      <td>C-</td>\n",
       "      <td>C</td>\n",
       "      <td>C-</td>\n",
       "      <td>D</td>\n",
       "      <td>C-</td>\n",
       "      <td>B-</td>\n",
       "      <td>C-</td>\n",
       "      <td>C-</td>\n",
       "      <td>B+</td>\n",
       "      <td>D</td>\n",
       "      <td>...</td>\n",
       "      <td>C-</td>\n",
       "      <td>A-</td>\n",
       "      <td>A</td>\n",
       "      <td>C-</td>\n",
       "      <td>B</td>\n",
       "      <td>A-</td>\n",
       "      <td>B-</td>\n",
       "      <td>D+</td>\n",
       "      <td>D+</td>\n",
       "      <td>2.205</td>\n",
       "    </tr>\n",
       "    <tr>\n",
       "      <th>1</th>\n",
       "      <td>D+</td>\n",
       "      <td>D</td>\n",
       "      <td>B-</td>\n",
       "      <td>D</td>\n",
       "      <td>A</td>\n",
       "      <td>D+</td>\n",
       "      <td>D</td>\n",
       "      <td>B+</td>\n",
       "      <td>C+</td>\n",
       "      <td>B-</td>\n",
       "      <td>...</td>\n",
       "      <td>D</td>\n",
       "      <td>A-</td>\n",
       "      <td>B-</td>\n",
       "      <td>C</td>\n",
       "      <td>C</td>\n",
       "      <td>B</td>\n",
       "      <td>A</td>\n",
       "      <td>D</td>\n",
       "      <td>C</td>\n",
       "      <td>2.008</td>\n",
       "    </tr>\n",
       "    <tr>\n",
       "      <th>2</th>\n",
       "      <td>A</td>\n",
       "      <td>B-</td>\n",
       "      <td>B+</td>\n",
       "      <td>B-</td>\n",
       "      <td>B+</td>\n",
       "      <td>A-</td>\n",
       "      <td>A-</td>\n",
       "      <td>B-</td>\n",
       "      <td>A-</td>\n",
       "      <td>A</td>\n",
       "      <td>...</td>\n",
       "      <td>C</td>\n",
       "      <td>A</td>\n",
       "      <td>A</td>\n",
       "      <td>A</td>\n",
       "      <td>A-</td>\n",
       "      <td>A</td>\n",
       "      <td>A</td>\n",
       "      <td>B</td>\n",
       "      <td>A</td>\n",
       "      <td>3.608</td>\n",
       "    </tr>\n",
       "    <tr>\n",
       "      <th>3</th>\n",
       "      <td>D+</td>\n",
       "      <td>D</td>\n",
       "      <td>D</td>\n",
       "      <td>D+</td>\n",
       "      <td>C-</td>\n",
       "      <td>D</td>\n",
       "      <td>C+</td>\n",
       "      <td>D</td>\n",
       "      <td>B</td>\n",
       "      <td>D+</td>\n",
       "      <td>...</td>\n",
       "      <td>C-</td>\n",
       "      <td>B-</td>\n",
       "      <td>B</td>\n",
       "      <td>C+</td>\n",
       "      <td>C+</td>\n",
       "      <td>C+</td>\n",
       "      <td>D</td>\n",
       "      <td>C+</td>\n",
       "      <td>A-</td>\n",
       "      <td>1.906</td>\n",
       "    </tr>\n",
       "    <tr>\n",
       "      <th>4</th>\n",
       "      <td>A-</td>\n",
       "      <td>B+</td>\n",
       "      <td>A</td>\n",
       "      <td>A-</td>\n",
       "      <td>B+</td>\n",
       "      <td>A</td>\n",
       "      <td>A-</td>\n",
       "      <td>C</td>\n",
       "      <td>A</td>\n",
       "      <td>A</td>\n",
       "      <td>...</td>\n",
       "      <td>B-</td>\n",
       "      <td>A-</td>\n",
       "      <td>A</td>\n",
       "      <td>A-</td>\n",
       "      <td>A-</td>\n",
       "      <td>A</td>\n",
       "      <td>A-</td>\n",
       "      <td>A-</td>\n",
       "      <td>A</td>\n",
       "      <td>3.448</td>\n",
       "    </tr>\n",
       "  </tbody>\n",
       "</table>\n",
       "<p>5 rows × 42 columns</p>\n",
       "</div>"
      ],
      "text/plain": [
       "  CY-105 HS-105/12 MT-111 CS-106 EL-102 EE-119 ME-107 CS-107 HS-205/20 MT-222  \\\n",
       "0     C-         C     C-      D     C-     B-     C-     C-        B+      D   \n",
       "1     D+         D     B-      D      A     D+      D     B+        C+     B-   \n",
       "2      A        B-     B+     B-     B+     A-     A-     B-        A-      A   \n",
       "3     D+         D      D     D+     C-      D     C+      D         B     D+   \n",
       "4     A-        B+      A     A-     B+      A     A-      C         A      A   \n",
       "\n",
       "   ... CS-421 CS-406 CS-414 CS-419 CS-423 CS-412 PH-121 HS-101 CS-105   CGPA  \n",
       "0  ...     C-     A-      A     C-      B     A-     B-     D+     D+  2.205  \n",
       "1  ...      D     A-     B-      C      C      B      A      D      C  2.008  \n",
       "2  ...      C      A      A      A     A-      A      A      B      A  3.608  \n",
       "3  ...     C-     B-      B     C+     C+     C+      D     C+     A-  1.906  \n",
       "4  ...     B-     A-      A     A-     A-      A     A-     A-      A  3.448  \n",
       "\n",
       "[5 rows x 42 columns]"
      ]
     },
     "execution_count": 42,
     "metadata": {},
     "output_type": "execute_result"
    }
   ],
   "source": [
    "# Dropping the nominal column as it is unique number and does not considered as an important attribute in predicting CGPA\n",
    "\n",
    "df_new = df_new.drop('Seat No.',axis=1)\n",
    "df_new.head()"
   ]
  },
  {
   "cell_type": "code",
   "execution_count": 22,
   "id": "c50c1828",
   "metadata": {},
   "outputs": [
    {
     "data": {
      "text/plain": [
       "CY-105       0\n",
       "HS-105/12    0\n",
       "MT-111       0\n",
       "CS-106       0\n",
       "EL-102       0\n",
       "EE-119       0\n",
       "ME-107       0\n",
       "CS-107       0\n",
       "HS-205/20    0\n",
       "MT-222       0\n",
       "EE-222       0\n",
       "MT-224       0\n",
       "CS-210       0\n",
       "CS-211       0\n",
       "CS-203       0\n",
       "CS-214       0\n",
       "EE-217       0\n",
       "CS-212       0\n",
       "CS-215       0\n",
       "MT-331       0\n",
       "EF-303       0\n",
       "HS-304       0\n",
       "CS-301       0\n",
       "CS-302       0\n",
       "TC-383       0\n",
       "MT-442       0\n",
       "EL-332       0\n",
       "CS-318       0\n",
       "CS-306       0\n",
       "CS-312       0\n",
       "CS-317       0\n",
       "CS-403       0\n",
       "CS-421       0\n",
       "CS-406       0\n",
       "CS-414       0\n",
       "CS-419       0\n",
       "CS-423       0\n",
       "CS-412       0\n",
       "PH-121       0\n",
       "HS-101       0\n",
       "CS-105       0\n",
       "CGPA         0\n",
       "dtype: int64"
      ]
     },
     "execution_count": 22,
     "metadata": {},
     "output_type": "execute_result"
    }
   ],
   "source": [
    "df_new.isnull().sum()"
   ]
  },
  {
   "cell_type": "code",
   "execution_count": 43,
   "id": "3b72bdc4",
   "metadata": {},
   "outputs": [
    {
     "data": {
      "text/plain": [
       "CY-105        13\n",
       "HS-105/12     13\n",
       "MT-111        13\n",
       "CS-106        13\n",
       "EL-102        13\n",
       "EE-119        12\n",
       "ME-107        13\n",
       "CS-107        14\n",
       "HS-205/20     13\n",
       "MT-222        14\n",
       "EE-222        13\n",
       "MT-224        14\n",
       "CS-210        14\n",
       "CS-211        14\n",
       "CS-203        13\n",
       "CS-214        13\n",
       "EE-217        13\n",
       "CS-212        12\n",
       "CS-215        14\n",
       "MT-331        12\n",
       "EF-303        12\n",
       "HS-304        14\n",
       "CS-301        12\n",
       "CS-302        11\n",
       "TC-383        12\n",
       "MT-442        12\n",
       "EL-332        13\n",
       "CS-318        14\n",
       "CS-306        13\n",
       "CS-312        14\n",
       "CS-317        12\n",
       "CS-403        11\n",
       "CS-421        13\n",
       "CS-406        14\n",
       "CS-414        13\n",
       "CS-419        12\n",
       "CS-423        12\n",
       "CS-412        13\n",
       "PH-121        13\n",
       "HS-101        12\n",
       "CS-105        11\n",
       "CGPA         491\n",
       "dtype: int64"
      ]
     },
     "execution_count": 43,
     "metadata": {},
     "output_type": "execute_result"
    }
   ],
   "source": [
    "df_new.nunique()"
   ]
  },
  {
   "cell_type": "code",
   "execution_count": 44,
   "id": "e76f6e4c",
   "metadata": {},
   "outputs": [],
   "source": [
    "grades = ['CY-105', 'HS-105/12', 'MT-111',\n",
    "        'CS-106', 'EL-102', 'EE-119', 'ME-107', 'CS-107', 'HS-205/20',\n",
    "       'MT-222', 'EE-222', 'MT-224', 'CS-210', 'CS-211', 'CS-203', 'CS-214',\n",
    "       'EE-217', 'CS-212', 'CS-215', 'MT-331', 'EF-303', 'HS-304', 'CS-301',\n",
    "       'CS-302', 'TC-383', 'MT-442', 'EL-332', 'CS-318', 'CS-306', 'CS-312',\n",
    "       'CS-317', 'CS-403', 'CS-421', 'CS-406', 'CS-414', 'CS-419', 'CS-423',\n",
    "       'CS-412','PH-121', 'HS-101','CS-105',]"
   ]
  },
  {
   "cell_type": "code",
   "execution_count": 45,
   "id": "5ee5879c",
   "metadata": {},
   "outputs": [
    {
     "data": {
      "image/png": "[encoded data removed]",
      "text/plain": [
       "<Figure size 3600x2880 with 41 Axes>"
      ]
     },
     "metadata": {},
     "output_type": "display_data"
    }
   ],
   "source": [
    "plt.figure(figsize=(50,40),facecolor='yellow')\n",
    "plotnumber=1\n",
    "\n",
    "for column in grades:\n",
    "    if plotnumber<=41:\n",
    "        ax = plt.subplot(9,5,plotnumber)\n",
    "        sns.countplot(df_new[column])\n",
    "        plt.xlabel(column,fontsize=20)\n",
    "    plotnumber+=1\n",
    "plt.show()"
   ]
  },
  {
   "cell_type": "code",
   "execution_count": 46,
   "id": "a687fed4",
   "metadata": {},
   "outputs": [
    {
     "data": {
      "text/plain": [
       "<AxesSubplot:xlabel='CGPA', ylabel='Density'>"
      ]
     },
     "execution_count": 46,
     "metadata": {},
     "output_type": "execute_result"
    },
    {
     "data": {
      "image/png": "[encoded data removed]",
      "text/plain": [
       "<Figure size 432x288 with 1 Axes>"
      ]
     },
     "metadata": {
      "needs_background": "light"
     },
     "output_type": "display_data"
    }
   ],
   "source": [
    "sns.distplot(df_new['CGPA'])"
   ]
  },
  {
   "cell_type": "markdown",
   "id": "4c16f2a5",
   "metadata": {},
   "source": [
    "**Data distribution of CGPA (target variable) looks negatively skewed**"
   ]
  },
  {
   "cell_type": "code",
   "execution_count": 47,
   "id": "43ed7bed",
   "metadata": {},
   "outputs": [
    {
     "data": {
      "text/plain": [
       "-0.4972033185635791"
      ]
     },
     "execution_count": 47,
     "metadata": {},
     "output_type": "execute_result"
    }
   ],
   "source": [
    "# Checking skewness in the target variable data\n",
    "df_new['CGPA'].skew()"
   ]
  },
  {
   "cell_type": "code",
   "execution_count": 48,
   "id": "3af2882a",
   "metadata": {},
   "outputs": [
    {
     "data": {
      "text/plain": [
       "A     178\n",
       "A-    120\n",
       "B+     50\n",
       "B      49\n",
       "B-     42\n",
       "D      31\n",
       "A+     31\n",
       "C      19\n",
       "C+     17\n",
       "C-     16\n",
       "D+     14\n",
       "WU      3\n",
       "F       1\n",
       "Name: CY-105, dtype: int64"
      ]
     },
     "execution_count": 48,
     "metadata": {},
     "output_type": "execute_result"
    }
   ],
   "source": [
    "# Checking all the grades available in one of the feature column to help in encoding categories\n",
    "\n",
    "df_new['CY-105'].value_counts()"
   ]
  },
  {
   "cell_type": "markdown",
   "id": "b73912c5",
   "metadata": {},
   "source": [
    "**Academic grading in the United States commonly takes on the form of five, six or seven letter grades. Traditionally, the grades are A+, A, A−, B+, B, B−, C+, C, C−, D+, D, D− and F, with A+ being the highest and F being lowest.**"
   ]
  },
  {
   "cell_type": "code",
   "execution_count": 49,
   "id": "7501f916",
   "metadata": {},
   "outputs": [
    {
     "data": {
      "text/plain": [
       "Index(['CY-105', 'HS-105/12', 'MT-111', 'CS-106', 'EL-102', 'EE-119', 'ME-107',\n",
       "       'CS-107', 'HS-205/20', 'MT-222', 'EE-222', 'MT-224', 'CS-210', 'CS-211',\n",
       "       'CS-203', 'CS-214', 'EE-217', 'CS-212', 'CS-215', 'MT-331', 'EF-303',\n",
       "       'HS-304', 'CS-301', 'CS-302', 'TC-383', 'MT-442', 'EL-332', 'CS-318',\n",
       "       'CS-306', 'CS-312', 'CS-317', 'CS-403', 'CS-421', 'CS-406', 'CS-414',\n",
       "       'CS-419', 'CS-423', 'CS-412', 'PH-121', 'HS-101', 'CS-105', 'CGPA'],\n",
       "      dtype='object')"
      ]
     },
     "execution_count": 49,
     "metadata": {},
     "output_type": "execute_result"
    }
   ],
   "source": [
    "df_new.columns"
   ]
  },
  {
   "cell_type": "code",
   "execution_count": 50,
   "id": "ace97fbb",
   "metadata": {},
   "outputs": [
    {
     "data": {
      "text/plain": [
       "CY-105       object\n",
       "HS-105/12    object\n",
       "MT-111       object\n",
       "CS-106       object\n",
       "EL-102       object\n",
       "EE-119       object\n",
       "ME-107       object\n",
       "CS-107       object\n",
       "HS-205/20    object\n",
       "MT-222       object\n",
       "EE-222       object\n",
       "MT-224       object\n",
       "CS-210       object\n",
       "CS-211       object\n",
       "CS-203       object\n",
       "CS-214       object\n",
       "EE-217       object\n",
       "CS-212       object\n",
       "CS-215       object\n",
       "MT-331       object\n",
       "EF-303       object\n",
       "HS-304       object\n",
       "CS-301       object\n",
       "CS-302       object\n",
       "TC-383       object\n",
       "MT-442       object\n",
       "EL-332       object\n",
       "CS-318       object\n",
       "CS-306       object\n",
       "CS-312       object\n",
       "CS-317       object\n",
       "CS-403       object\n",
       "CS-421       object\n",
       "CS-406       object\n",
       "CS-414       object\n",
       "CS-419       object\n",
       "CS-423       object\n",
       "CS-412       object\n",
       "PH-121       object\n",
       "HS-101       object\n",
       "CS-105       object\n",
       "CGPA         object\n",
       "dtype: object"
      ]
     },
     "execution_count": 50,
     "metadata": {},
     "output_type": "execute_result"
    }
   ],
   "source": [
    "df_new.dtypes"
   ]
  },
  {
   "cell_type": "code",
   "execution_count": 51,
   "id": "4ee795ca",
   "metadata": {},
   "outputs": [
    {
     "data": {
      "text/plain": [
       "<bound method IndexOpsMixin.nunique of 0      2.205\n",
       "1      2.008\n",
       "2      3.608\n",
       "3      1.906\n",
       "4      3.448\n",
       "       ...  \n",
       "566    3.798\n",
       "567    3.772\n",
       "568     3.47\n",
       "569    2.193\n",
       "570    1.753\n",
       "Name: CGPA, Length: 571, dtype: object>"
      ]
     },
     "execution_count": 51,
     "metadata": {},
     "output_type": "execute_result"
    }
   ],
   "source": [
    "df_new['CGPA'].nunique"
   ]
  },
  {
   "cell_type": "markdown",
   "id": "b4550e8f",
   "metadata": {},
   "source": [
    "**Our target variable 'CGPA' is an object datatype but the values in the columns are float type. Need to change its data type to float**"
   ]
  },
  {
   "cell_type": "code",
   "execution_count": 52,
   "id": "df73e8fa",
   "metadata": {},
   "outputs": [],
   "source": [
    "# Converting data type of CGPA into float\n",
    "\n",
    "df_new['CGPA'] = df_new['CGPA'].astype(float)"
   ]
  },
  {
   "cell_type": "markdown",
   "id": "3034689f",
   "metadata": {},
   "source": [
    "# Encoding the categorical columns using Ordinal Encoder"
   ]
  },
  {
   "cell_type": "code",
   "execution_count": 55,
   "id": "75592727",
   "metadata": {},
   "outputs": [],
   "source": [
    "from sklearn.preprocessing import OrdinalEncoder\n",
    "\n",
    "ord_enc = OrdinalEncoder()"
   ]
  },
  {
   "cell_type": "code",
   "execution_count": 56,
   "id": "e973c993",
   "metadata": {},
   "outputs": [],
   "source": [
    "for i in df_new.columns:\n",
    "    if df_new[i].dtypes == \"object\":\n",
    "        df_new[i] = ord_enc.fit_transform(df_new[i].values.reshape(-1,1))"
   ]
  },
  {
   "cell_type": "code",
   "execution_count": 57,
   "id": "f815de29",
   "metadata": {},
   "outputs": [
    {
     "data": {
      "text/html": [
       "<div>\n",
       "<style scoped>\n",
       "    .dataframe tbody tr th:only-of-type {\n",
       "        vertical-align: middle;\n",
       "    }\n",
       "\n",
       "    .dataframe tbody tr th {\n",
       "        vertical-align: top;\n",
       "    }\n",
       "\n",
       "    .dataframe thead th {\n",
       "        text-align: right;\n",
       "    }\n",
       "</style>\n",
       "<table border=\"1\" class=\"dataframe\">\n",
       "  <thead>\n",
       "    <tr style=\"text-align: right;\">\n",
       "      <th></th>\n",
       "      <th>CY-105</th>\n",
       "      <th>HS-105/12</th>\n",
       "      <th>MT-111</th>\n",
       "      <th>CS-106</th>\n",
       "      <th>EL-102</th>\n",
       "      <th>EE-119</th>\n",
       "      <th>ME-107</th>\n",
       "      <th>CS-107</th>\n",
       "      <th>HS-205/20</th>\n",
       "      <th>MT-222</th>\n",
       "      <th>...</th>\n",
       "      <th>CS-421</th>\n",
       "      <th>CS-406</th>\n",
       "      <th>CS-414</th>\n",
       "      <th>CS-419</th>\n",
       "      <th>CS-423</th>\n",
       "      <th>CS-412</th>\n",
       "      <th>PH-121</th>\n",
       "      <th>HS-101</th>\n",
       "      <th>CS-105</th>\n",
       "      <th>CGPA</th>\n",
       "    </tr>\n",
       "  </thead>\n",
       "  <tbody>\n",
       "    <tr>\n",
       "      <th>0</th>\n",
       "      <td>5.0</td>\n",
       "      <td>6.0</td>\n",
       "      <td>5.0</td>\n",
       "      <td>3.0</td>\n",
       "      <td>5.0</td>\n",
       "      <td>8.0</td>\n",
       "      <td>5.0</td>\n",
       "      <td>5.0</td>\n",
       "      <td>10.0</td>\n",
       "      <td>9.0</td>\n",
       "      <td>...</td>\n",
       "      <td>8.0</td>\n",
       "      <td>2.0</td>\n",
       "      <td>0.0</td>\n",
       "      <td>8.0</td>\n",
       "      <td>3.0</td>\n",
       "      <td>2.0</td>\n",
       "      <td>5.0</td>\n",
       "      <td>10.0</td>\n",
       "      <td>10.0</td>\n",
       "      <td>2.205</td>\n",
       "    </tr>\n",
       "    <tr>\n",
       "      <th>1</th>\n",
       "      <td>4.0</td>\n",
       "      <td>3.0</td>\n",
       "      <td>8.0</td>\n",
       "      <td>3.0</td>\n",
       "      <td>12.0</td>\n",
       "      <td>4.0</td>\n",
       "      <td>3.0</td>\n",
       "      <td>10.0</td>\n",
       "      <td>7.0</td>\n",
       "      <td>5.0</td>\n",
       "      <td>...</td>\n",
       "      <td>9.0</td>\n",
       "      <td>2.0</td>\n",
       "      <td>5.0</td>\n",
       "      <td>6.0</td>\n",
       "      <td>6.0</td>\n",
       "      <td>3.0</td>\n",
       "      <td>0.0</td>\n",
       "      <td>9.0</td>\n",
       "      <td>6.0</td>\n",
       "      <td>2.008</td>\n",
       "    </tr>\n",
       "    <tr>\n",
       "      <th>2</th>\n",
       "      <td>12.0</td>\n",
       "      <td>8.0</td>\n",
       "      <td>10.0</td>\n",
       "      <td>8.0</td>\n",
       "      <td>10.0</td>\n",
       "      <td>11.0</td>\n",
       "      <td>11.0</td>\n",
       "      <td>8.0</td>\n",
       "      <td>11.0</td>\n",
       "      <td>0.0</td>\n",
       "      <td>...</td>\n",
       "      <td>6.0</td>\n",
       "      <td>0.0</td>\n",
       "      <td>0.0</td>\n",
       "      <td>0.0</td>\n",
       "      <td>2.0</td>\n",
       "      <td>0.0</td>\n",
       "      <td>0.0</td>\n",
       "      <td>3.0</td>\n",
       "      <td>0.0</td>\n",
       "      <td>3.608</td>\n",
       "    </tr>\n",
       "    <tr>\n",
       "      <th>3</th>\n",
       "      <td>4.0</td>\n",
       "      <td>3.0</td>\n",
       "      <td>3.0</td>\n",
       "      <td>4.0</td>\n",
       "      <td>5.0</td>\n",
       "      <td>3.0</td>\n",
       "      <td>7.0</td>\n",
       "      <td>3.0</td>\n",
       "      <td>9.0</td>\n",
       "      <td>10.0</td>\n",
       "      <td>...</td>\n",
       "      <td>8.0</td>\n",
       "      <td>5.0</td>\n",
       "      <td>3.0</td>\n",
       "      <td>7.0</td>\n",
       "      <td>7.0</td>\n",
       "      <td>7.0</td>\n",
       "      <td>9.0</td>\n",
       "      <td>7.0</td>\n",
       "      <td>2.0</td>\n",
       "      <td>1.906</td>\n",
       "    </tr>\n",
       "    <tr>\n",
       "      <th>4</th>\n",
       "      <td>11.0</td>\n",
       "      <td>10.0</td>\n",
       "      <td>12.0</td>\n",
       "      <td>11.0</td>\n",
       "      <td>10.0</td>\n",
       "      <td>12.0</td>\n",
       "      <td>11.0</td>\n",
       "      <td>6.0</td>\n",
       "      <td>12.0</td>\n",
       "      <td>0.0</td>\n",
       "      <td>...</td>\n",
       "      <td>5.0</td>\n",
       "      <td>2.0</td>\n",
       "      <td>0.0</td>\n",
       "      <td>2.0</td>\n",
       "      <td>2.0</td>\n",
       "      <td>0.0</td>\n",
       "      <td>2.0</td>\n",
       "      <td>2.0</td>\n",
       "      <td>0.0</td>\n",
       "      <td>3.448</td>\n",
       "    </tr>\n",
       "  </tbody>\n",
       "</table>\n",
       "<p>5 rows × 42 columns</p>\n",
       "</div>"
      ],
      "text/plain": [
       "   CY-105  HS-105/12  MT-111  CS-106  EL-102  EE-119  ME-107  CS-107  \\\n",
       "0     5.0        6.0     5.0     3.0     5.0     8.0     5.0     5.0   \n",
       "1     4.0        3.0     8.0     3.0    12.0     4.0     3.0    10.0   \n",
       "2    12.0        8.0    10.0     8.0    10.0    11.0    11.0     8.0   \n",
       "3     4.0        3.0     3.0     4.0     5.0     3.0     7.0     3.0   \n",
       "4    11.0       10.0    12.0    11.0    10.0    12.0    11.0     6.0   \n",
       "\n",
       "   HS-205/20  MT-222  ...  CS-421  CS-406  CS-414  CS-419  CS-423  CS-412  \\\n",
       "0       10.0     9.0  ...     8.0     2.0     0.0     8.0     3.0     2.0   \n",
       "1        7.0     5.0  ...     9.0     2.0     5.0     6.0     6.0     3.0   \n",
       "2       11.0     0.0  ...     6.0     0.0     0.0     0.0     2.0     0.0   \n",
       "3        9.0    10.0  ...     8.0     5.0     3.0     7.0     7.0     7.0   \n",
       "4       12.0     0.0  ...     5.0     2.0     0.0     2.0     2.0     0.0   \n",
       "\n",
       "   PH-121  HS-101  CS-105   CGPA  \n",
       "0     5.0    10.0    10.0  2.205  \n",
       "1     0.0     9.0     6.0  2.008  \n",
       "2     0.0     3.0     0.0  3.608  \n",
       "3     9.0     7.0     2.0  1.906  \n",
       "4     2.0     2.0     0.0  3.448  \n",
       "\n",
       "[5 rows x 42 columns]"
      ]
     },
     "execution_count": 57,
     "metadata": {},
     "output_type": "execute_result"
    }
   ],
   "source": [
    "df_new.head()"
   ]
  },
  {
   "cell_type": "code",
   "execution_count": 58,
   "id": "93296b7b",
   "metadata": {},
   "outputs": [],
   "source": [
    "X = df_new.drop('CGPA',axis=1)\n",
    "y = df_new['CGPA']"
   ]
  },
  {
   "cell_type": "markdown",
   "id": "f3a6bff0",
   "metadata": {},
   "source": [
    "# Best Random State"
   ]
  },
  {
   "cell_type": "code",
   "execution_count": 59,
   "id": "c2d55509",
   "metadata": {},
   "outputs": [
    {
     "name": "stdout",
     "output_type": "stream",
     "text": [
      "R2 Score:  0.9514322012274093 at random state 1\n",
      "Maximum R2 Score: 0.9514322012274093 at random state  1\n",
      "R2 Score:  0.9418863181156014 at random state 2\n",
      "R2 Score:  0.9446209471759685 at random state 3\n",
      "R2 Score:  0.9448956255111141 at random state 4\n",
      "R2 Score:  0.9230882673383377 at random state 5\n",
      "R2 Score:  0.9612671950793665 at random state 6\n",
      "Maximum R2 Score: 0.9612671950793665 at random state  6\n",
      "R2 Score:  0.962402505030461 at random state 7\n",
      "Maximum R2 Score: 0.962402505030461 at random state  7\n",
      "R2 Score:  0.9228206994143274 at random state 8\n",
      "R2 Score:  0.8474470943553678 at random state 9\n",
      "R2 Score:  0.954736193937477 at random state 10\n",
      "R2 Score:  0.7748052690829098 at random state 11\n",
      "R2 Score:  0.9265269505650161 at random state 12\n",
      "R2 Score:  0.9089781454551469 at random state 13\n",
      "R2 Score:  0.7911760751765069 at random state 14\n",
      "R2 Score:  0.8821780378696021 at random state 15\n",
      "R2 Score:  0.8292077750967006 at random state 16\n",
      "R2 Score:  0.8674476907041482 at random state 17\n",
      "R2 Score:  0.787949532387139 at random state 18\n",
      "R2 Score:  0.9651504566175135 at random state 19\n",
      "Maximum R2 Score: 0.9651504566175135 at random state  19\n",
      "R2 Score:  0.960787929773253 at random state 20\n",
      "R2 Score:  0.8552778292155998 at random state 21\n",
      "R2 Score:  0.918454866862251 at random state 22\n",
      "R2 Score:  0.9321629409936416 at random state 23\n",
      "R2 Score:  0.9542188386060679 at random state 24\n",
      "R2 Score:  0.9565112794575495 at random state 25\n",
      "R2 Score:  0.9487217097354098 at random state 26\n",
      "R2 Score:  0.944832047683887 at random state 27\n",
      "R2 Score:  0.89229165817271 at random state 28\n",
      "R2 Score:  0.9346549020231208 at random state 29\n",
      "R2 Score:  0.9571679062639272 at random state 30\n",
      "R2 Score:  0.9184830577037045 at random state 31\n",
      "R2 Score:  0.9113294923877676 at random state 32\n",
      "R2 Score:  0.8815944609279569 at random state 33\n",
      "R2 Score:  0.9198758373849943 at random state 34\n",
      "R2 Score:  0.8700181792165298 at random state 35\n",
      "R2 Score:  0.9564397325463033 at random state 36\n",
      "R2 Score:  0.9495647715823534 at random state 37\n",
      "R2 Score:  0.9613821012480517 at random state 38\n",
      "R2 Score:  0.8646316791096295 at random state 39\n",
      "R2 Score:  0.9460830054766731 at random state 40\n",
      "R2 Score:  0.9429211184820367 at random state 41\n",
      "R2 Score:  0.971827463002223 at random state 42\n",
      "Maximum R2 Score: 0.971827463002223 at random state  42\n",
      "R2 Score:  0.9341129805476388 at random state 43\n",
      "R2 Score:  0.8442881854930149 at random state 44\n",
      "R2 Score:  0.9592904942427892 at random state 45\n",
      "R2 Score:  0.9296003612298168 at random state 46\n",
      "R2 Score:  0.8827236292148655 at random state 47\n",
      "R2 Score:  0.960823215141658 at random state 48\n",
      "R2 Score:  0.9626709822209034 at random state 49\n",
      "R2 Score:  0.8698147669707335 at random state 50\n",
      "R2 Score:  0.9538791013206418 at random state 51\n",
      "R2 Score:  0.9606648273310755 at random state 52\n",
      "R2 Score:  0.9314952429132427 at random state 53\n",
      "R2 Score:  0.905393143253783 at random state 54\n",
      "R2 Score:  0.9548828440739688 at random state 55\n",
      "R2 Score:  0.8577410104352889 at random state 56\n",
      "R2 Score:  0.9100789980966089 at random state 57\n",
      "R2 Score:  0.9619920789271238 at random state 58\n",
      "R2 Score:  0.9598910737095843 at random state 59\n",
      "R2 Score:  0.9299734289413544 at random state 60\n",
      "R2 Score:  0.9146972822177585 at random state 61\n",
      "R2 Score:  0.9446015236894222 at random state 62\n",
      "R2 Score:  0.9316621100359177 at random state 63\n",
      "R2 Score:  0.9561475631846488 at random state 64\n",
      "R2 Score:  0.8894094503984328 at random state 65\n",
      "R2 Score:  0.9448895692445476 at random state 66\n",
      "R2 Score:  0.9326781155939543 at random state 67\n",
      "R2 Score:  0.9450472053522518 at random state 68\n",
      "R2 Score:  0.9226113385029974 at random state 69\n",
      "R2 Score:  0.9449780504938619 at random state 70\n",
      "R2 Score:  0.9547243592959059 at random state 71\n",
      "R2 Score:  0.9730141946879767 at random state 72\n",
      "Maximum R2 Score: 0.9730141946879767 at random state  72\n",
      "R2 Score:  0.880224126125455 at random state 73\n",
      "R2 Score:  0.9456867723494482 at random state 74\n",
      "R2 Score:  0.9608746428256931 at random state 75\n",
      "R2 Score:  0.891120270396894 at random state 76\n",
      "R2 Score:  0.8390163396407188 at random state 77\n",
      "R2 Score:  0.8129798670719908 at random state 78\n",
      "R2 Score:  0.8510167002547256 at random state 79\n",
      "R2 Score:  0.9497596510941908 at random state 80\n",
      "R2 Score:  0.9600342606161173 at random state 81\n",
      "R2 Score:  0.8648900128424694 at random state 82\n",
      "R2 Score:  0.8542236242692667 at random state 83\n",
      "R2 Score:  0.9658899247711809 at random state 84\n",
      "R2 Score:  0.9704706936327848 at random state 85\n",
      "R2 Score:  0.9193890873827012 at random state 86\n",
      "R2 Score:  0.8720890509958719 at random state 87\n",
      "R2 Score:  0.8412895703700174 at random state 88\n",
      "R2 Score:  0.9564285681227916 at random state 89\n",
      "R2 Score:  0.9107894095183473 at random state 90\n",
      "R2 Score:  0.8709693792139486 at random state 91\n",
      "R2 Score:  0.950426694400844 at random state 92\n",
      "R2 Score:  0.9309175302152904 at random state 93\n",
      "R2 Score:  0.855518955048803 at random state 94\n",
      "R2 Score:  0.9595117358142116 at random state 95\n",
      "R2 Score:  0.9462224790371613 at random state 96\n",
      "R2 Score:  0.9551617073817815 at random state 97\n",
      "R2 Score:  0.9488759505945774 at random state 98\n",
      "R2 Score:  0.8778762155566524 at random state 99\n"
     ]
    }
   ],
   "source": [
    "maxR2score = 0 # Max R2 score\n",
    "maxRS = 0   # Best random state for which maximum r2 score is achieved\n",
    "\n",
    "for i in range(1,100):\n",
    "    X_train,X_test,y_train,y_test = train_test_split(X,y,test_size=0.2,random_state=i)\n",
    "    \n",
    "    lr = LinearRegression()\n",
    "    \n",
    "    lr.fit(X_train,y_train)\n",
    "    \n",
    "    pred_lr = lr.predict(X_test)\n",
    "   \n",
    "    score_lr = r2_score(y_test,pred_lr)\n",
    "    \n",
    "    print(\"R2 Score: \",score_lr,\"at random state\", i)\n",
    "   \n",
    "    \n",
    "    if score_lr>maxR2score:\n",
    "   \n",
    "        maxR2score = score_lr\n",
    "              \n",
    "        maxRS = i\n",
    "        \n",
    "        print(\"Maximum R2 Score:\",maxR2score,\"at random state \", maxRS)"
   ]
  },
  {
   "cell_type": "code",
   "execution_count": null,
   "id": "18d71b14",
   "metadata": {},
   "outputs": [],
   "source": [
    "#print(\"Best accuracy is \",maxAccu*100, \"on random state\", maxRS)\n",
    "print(\"Best accuracy is \",maxR2score*100, \"on random state\", maxRS)"
   ]
  },
  {
   "cell_type": "markdown",
   "id": "02abc973",
   "metadata": {},
   "source": [
    "**The best random state comes to be 72 for which we are getting max R2 score as 97.30%**"
   ]
  },
  {
   "cell_type": "markdown",
   "id": "b568c5ef",
   "metadata": {},
   "source": [
    "# Linear Regression Model"
   ]
  },
  {
   "cell_type": "code",
   "execution_count": 60,
   "id": "ae8dcde1",
   "metadata": {},
   "outputs": [
    {
     "name": "stdout",
     "output_type": "stream",
     "text": [
      "Training accuracy: 92.3822025693054\n",
      "Testing accuracy: 97.30141946879766\n"
     ]
    }
   ],
   "source": [
    "lr = LinearRegression()\n",
    "\n",
    "X_train,X_test,y_train,y_test = train_test_split(X,y,test_size=0.2,random_state=72)\n",
    "\n",
    "lr.fit(X_train,y_train)\n",
    "\n",
    "pred_train = lr.predict(X_train)\n",
    "\n",
    "pred_test = lr.predict(X_test)\n",
    "\n",
    "score_train = r2_score(y_train,pred_train)\n",
    "\n",
    "score_test = r2_score(y_test,pred_test)\n",
    "\n",
    "print(\"Training accuracy:\",score_train*100)\n",
    "\n",
    "print(\"Testing accuracy:\",score_test*100)"
   ]
  },
  {
   "cell_type": "markdown",
   "id": "106cb6db",
   "metadata": {},
   "source": [
    "# Cross Validation"
   ]
  },
  {
   "cell_type": "code",
   "execution_count": 61,
   "id": "0e50b765",
   "metadata": {},
   "outputs": [
    {
     "name": "stdout",
     "output_type": "stream",
     "text": [
      "At cross fold 2, the cv score is 0.8269433017340846 and accuracy score for training is 0.923822025693054 and accuracy for testing is 0.9730141946879767\n",
      "/n\n",
      "At cross fold 3, the cv score is 0.8875205304955607 and accuracy score for training is 0.923822025693054 and accuracy for testing is 0.9730141946879767\n",
      "/n\n",
      "At cross fold 4, the cv score is 0.8455716904432227 and accuracy score for training is 0.923822025693054 and accuracy for testing is 0.9730141946879767\n",
      "/n\n",
      "At cross fold 5, the cv score is 0.9069580961055095 and accuracy score for training is 0.923822025693054 and accuracy for testing is 0.9730141946879767\n",
      "/n\n",
      "At cross fold 6, the cv score is 0.9083304032338706 and accuracy score for training is 0.923822025693054 and accuracy for testing is 0.9730141946879767\n",
      "/n\n",
      "At cross fold 7, the cv score is 0.9052747515460299 and accuracy score for training is 0.923822025693054 and accuracy for testing is 0.9730141946879767\n",
      "/n\n",
      "At cross fold 8, the cv score is 0.9059976927943376 and accuracy score for training is 0.923822025693054 and accuracy for testing is 0.9730141946879767\n",
      "/n\n",
      "At cross fold 9, the cv score is 0.9108389242152608 and accuracy score for training is 0.923822025693054 and accuracy for testing is 0.9730141946879767\n",
      "/n\n"
     ]
    }
   ],
   "source": [
    "from sklearn.model_selection import cross_val_score\n",
    "\n",
    "Training_accuracy = r2_score(y_train,pred_train)\n",
    "Testing_accuracy = r2_score(y_test,pred_test)\n",
    "\n",
    "\n",
    "for j in range(2,10):\n",
    "    cv_score = cross_val_score(lr,X,y,cv=j)\n",
    "    cv_mean = cv_score.mean()\n",
    "    print(f\"At cross fold {j}, the cv score is {cv_mean} and accuracy score for training is {Training_accuracy} and accuracy for testing is {Testing_accuracy}\")\n",
    "    print(\"/n\")"
   ]
  },
  {
   "cell_type": "markdown",
   "id": "7eeac740",
   "metadata": {},
   "source": [
    "**At cv = 9, we are getting best cv score as 91.08%**"
   ]
  },
  {
   "cell_type": "code",
   "execution_count": 62,
   "id": "b86eb281",
   "metadata": {},
   "outputs": [
    {
     "data": {
      "image/png": "[encoded data removed]",
      "text/plain": [
       "<Figure size 576x432 with 1 Axes>"
      ]
     },
     "metadata": {
      "needs_background": "light"
     },
     "output_type": "display_data"
    }
   ],
   "source": [
    "# Plotting Predicted vs Actual CGPA\n",
    "plt.figure(figsize=(8,6))\n",
    "plt.scatter(y_test,pred_test,color ='r')\n",
    "plt.plot(y_test,y_test,color ='b')\n",
    "plt.xlabel('Actual CGPA',fontsize = 14)\n",
    "plt.ylabel('Predicted CGPA',fontsize =14)\n",
    "plt.title('Linear Regression',fontsize = 18)\n",
    "plt.show()"
   ]
  },
  {
   "cell_type": "markdown",
   "id": "41c870d3",
   "metadata": {},
   "source": [
    "# Model Evaluation using RMSE"
   ]
  },
  {
   "cell_type": "code",
   "execution_count": 63,
   "id": "bcfa1777",
   "metadata": {},
   "outputs": [
    {
     "name": "stdout",
     "output_type": "stream",
     "text": [
      "Root mean squared Error: 0.10412323714730384\n"
     ]
    }
   ],
   "source": [
    "# MSE - ignoring some outliers means larger errors are punished. Hard to interpretate but most popular\n",
    "\n",
    "mse = mean_squared_error(y_test,pred_test)\n",
    "\n",
    "# RMSE\n",
    "\n",
    "rmse = np.sqrt(mse)\n",
    "\n",
    "print(\"Root mean squared Error:\",rmse)"
   ]
  },
  {
   "cell_type": "markdown",
   "id": "8703c2b4",
   "metadata": {},
   "source": [
    "# Lasso Regularization"
   ]
  },
  {
   "cell_type": "code",
   "execution_count": 64,
   "id": "743e201c",
   "metadata": {},
   "outputs": [],
   "source": [
    "from sklearn.linear_model import Lasso,Ridge,LassoCV,RidgeCV"
   ]
  },
  {
   "cell_type": "code",
   "execution_count": 65,
   "id": "097fe5ef",
   "metadata": {},
   "outputs": [
    {
     "data": {
      "text/html": [
       "<style>#sk-container-id-1 {color: black;background-color: white;}#sk-container-id-1 pre{padding: 0;}#sk-container-id-1 div.sk-toggleable {background-color: white;}#sk-container-id-1 label.sk-toggleable__label {cursor: pointer;display: block;width: 100%;margin-bottom: 0;padding: 0.3em;box-sizing: border-box;text-align: center;}#sk-container-id-1 label.sk-toggleable__label-arrow:before {content: \"▸\";float: left;margin-right: 0.25em;color: #696969;}#sk-container-id-1 label.sk-toggleable__label-arrow:hover:before {color: black;}#sk-container-id-1 div.sk-estimator:hover label.sk-toggleable__label-arrow:before {color: black;}#sk-container-id-1 div.sk-toggleable__content {max-height: 0;max-width: 0;overflow: hidden;text-align: left;background-color: #f0f8ff;}#sk-container-id-1 div.sk-toggleable__content pre {margin: 0.2em;color: black;border-radius: 0.25em;background-color: #f0f8ff;}#sk-container-id-1 input.sk-toggleable__control:checked~div.sk-toggleable__content {max-height: 200px;max-width: 100%;overflow: auto;}#sk-container-id-1 input.sk-toggleable__control:checked~label.sk-toggleable__label-arrow:before {content: \"▾\";}#sk-container-id-1 div.sk-estimator input.sk-toggleable__control:checked~label.sk-toggleable__label {background-color: #d4ebff;}#sk-container-id-1 div.sk-label input.sk-toggleable__control:checked~label.sk-toggleable__label {background-color: #d4ebff;}#sk-container-id-1 input.sk-hidden--visually {border: 0;clip: rect(1px 1px 1px 1px);clip: rect(1px, 1px, 1px, 1px);height: 1px;margin: -1px;overflow: hidden;padding: 0;position: absolute;width: 1px;}#sk-container-id-1 div.sk-estimator {font-family: monospace;background-color: #f0f8ff;border: 1px dotted black;border-radius: 0.25em;box-sizing: border-box;margin-bottom: 0.5em;}#sk-container-id-1 div.sk-estimator:hover {background-color: #d4ebff;}#sk-container-id-1 div.sk-parallel-item::after {content: \"\";width: 100%;border-bottom: 1px solid gray;flex-grow: 1;}#sk-container-id-1 div.sk-label:hover label.sk-toggleable__label {background-color: #d4ebff;}#sk-container-id-1 div.sk-serial::before {content: \"\";position: absolute;border-left: 1px solid gray;box-sizing: border-box;top: 0;bottom: 0;left: 50%;z-index: 0;}#sk-container-id-1 div.sk-serial {display: flex;flex-direction: column;align-items: center;background-color: white;padding-right: 0.2em;padding-left: 0.2em;position: relative;}#sk-container-id-1 div.sk-item {position: relative;z-index: 1;}#sk-container-id-1 div.sk-parallel {display: flex;align-items: stretch;justify-content: center;background-color: white;position: relative;}#sk-container-id-1 div.sk-item::before, #sk-container-id-1 div.sk-parallel-item::before {content: \"\";position: absolute;border-left: 1px solid gray;box-sizing: border-box;top: 0;bottom: 0;left: 50%;z-index: -1;}#sk-container-id-1 div.sk-parallel-item {display: flex;flex-direction: column;z-index: 1;position: relative;background-color: white;}#sk-container-id-1 div.sk-parallel-item:first-child::after {align-self: flex-end;width: 50%;}#sk-container-id-1 div.sk-parallel-item:last-child::after {align-self: flex-start;width: 50%;}#sk-container-id-1 div.sk-parallel-item:only-child::after {width: 0;}#sk-container-id-1 div.sk-dashed-wrapped {border: 1px dashed gray;margin: 0 0.4em 0.5em 0.4em;box-sizing: border-box;padding-bottom: 0.4em;background-color: white;}#sk-container-id-1 div.sk-label label {font-family: monospace;font-weight: bold;display: inline-block;line-height: 1.2em;}#sk-container-id-1 div.sk-label-container {text-align: center;}#sk-container-id-1 div.sk-container {/* jupyter's `normalize.less` sets `[hidden] { display: none; }` but bootstrap.min.css set `[hidden] { display: none !important; }` so we also need the `!important` here to be able to override the default hidden behavior on the sphinx rendered scikit-learn.org. See: https://github.com/scikit-learn/scikit-learn/issues/21755 */display: inline-block !important;position: relative;}#sk-container-id-1 div.sk-text-repr-fallback {display: none;}</style><div id=\"sk-container-id-1\" class=\"sk-top-container\"><div class=\"sk-text-repr-fallback\"><pre>LassoCV(max_iter=100, normalize=True)</pre><b>In a Jupyter environment, please rerun this cell to show the HTML representation or trust the notebook. <br />On GitHub, the HTML representation is unable to render, please try loading this page with nbviewer.org.</b></div><div class=\"sk-container\" hidden><div class=\"sk-item\"><div class=\"sk-estimator sk-toggleable\"><input class=\"sk-toggleable__control sk-hidden--visually\" id=\"sk-estimator-id-1\" type=\"checkbox\" checked><label for=\"sk-estimator-id-1\" class=\"sk-toggleable__label sk-toggleable__label-arrow\">LassoCV</label><div class=\"sk-toggleable__content\"><pre>LassoCV(max_iter=100, normalize=True)</pre></div></div></div></div></div>"
      ],
      "text/plain": [
       "LassoCV(max_iter=100, normalize=True)"
      ]
     },
     "execution_count": 65,
     "metadata": {},
     "output_type": "execute_result"
    }
   ],
   "source": [
    "#LassoCV will return best alpha after max iteration\n",
    "\n",
    "\n",
    "lasscv = LassoCV(alphas = None, max_iter = 100, normalize = True)\n",
    "\n",
    "lasscv.fit(X_train,y_train)"
   ]
  },
  {
   "cell_type": "code",
   "execution_count": 66,
   "id": "a0c10732",
   "metadata": {},
   "outputs": [
    {
     "data": {
      "text/plain": [
       "0.00043704795146790276"
      ]
     },
     "execution_count": 66,
     "metadata": {},
     "output_type": "execute_result"
    }
   ],
   "source": [
    "#Best alpha parameter\n",
    "alpha = lasscv.alpha_\n",
    "alpha"
   ]
  },
  {
   "cell_type": "code",
   "execution_count": 67,
   "id": "ddea57ad",
   "metadata": {},
   "outputs": [
    {
     "data": {
      "text/html": [
       "<style>#sk-container-id-2 {color: black;background-color: white;}#sk-container-id-2 pre{padding: 0;}#sk-container-id-2 div.sk-toggleable {background-color: white;}#sk-container-id-2 label.sk-toggleable__label {cursor: pointer;display: block;width: 100%;margin-bottom: 0;padding: 0.3em;box-sizing: border-box;text-align: center;}#sk-container-id-2 label.sk-toggleable__label-arrow:before {content: \"▸\";float: left;margin-right: 0.25em;color: #696969;}#sk-container-id-2 label.sk-toggleable__label-arrow:hover:before {color: black;}#sk-container-id-2 div.sk-estimator:hover label.sk-toggleable__label-arrow:before {color: black;}#sk-container-id-2 div.sk-toggleable__content {max-height: 0;max-width: 0;overflow: hidden;text-align: left;background-color: #f0f8ff;}#sk-container-id-2 div.sk-toggleable__content pre {margin: 0.2em;color: black;border-radius: 0.25em;background-color: #f0f8ff;}#sk-container-id-2 input.sk-toggleable__control:checked~div.sk-toggleable__content {max-height: 200px;max-width: 100%;overflow: auto;}#sk-container-id-2 input.sk-toggleable__control:checked~label.sk-toggleable__label-arrow:before {content: \"▾\";}#sk-container-id-2 div.sk-estimator input.sk-toggleable__control:checked~label.sk-toggleable__label {background-color: #d4ebff;}#sk-container-id-2 div.sk-label input.sk-toggleable__control:checked~label.sk-toggleable__label {background-color: #d4ebff;}#sk-container-id-2 input.sk-hidden--visually {border: 0;clip: rect(1px 1px 1px 1px);clip: rect(1px, 1px, 1px, 1px);height: 1px;margin: -1px;overflow: hidden;padding: 0;position: absolute;width: 1px;}#sk-container-id-2 div.sk-estimator {font-family: monospace;background-color: #f0f8ff;border: 1px dotted black;border-radius: 0.25em;box-sizing: border-box;margin-bottom: 0.5em;}#sk-container-id-2 div.sk-estimator:hover {background-color: #d4ebff;}#sk-container-id-2 div.sk-parallel-item::after {content: \"\";width: 100%;border-bottom: 1px solid gray;flex-grow: 1;}#sk-container-id-2 div.sk-label:hover label.sk-toggleable__label {background-color: #d4ebff;}#sk-container-id-2 div.sk-serial::before {content: \"\";position: absolute;border-left: 1px solid gray;box-sizing: border-box;top: 0;bottom: 0;left: 50%;z-index: 0;}#sk-container-id-2 div.sk-serial {display: flex;flex-direction: column;align-items: center;background-color: white;padding-right: 0.2em;padding-left: 0.2em;position: relative;}#sk-container-id-2 div.sk-item {position: relative;z-index: 1;}#sk-container-id-2 div.sk-parallel {display: flex;align-items: stretch;justify-content: center;background-color: white;position: relative;}#sk-container-id-2 div.sk-item::before, #sk-container-id-2 div.sk-parallel-item::before {content: \"\";position: absolute;border-left: 1px solid gray;box-sizing: border-box;top: 0;bottom: 0;left: 50%;z-index: -1;}#sk-container-id-2 div.sk-parallel-item {display: flex;flex-direction: column;z-index: 1;position: relative;background-color: white;}#sk-container-id-2 div.sk-parallel-item:first-child::after {align-self: flex-end;width: 50%;}#sk-container-id-2 div.sk-parallel-item:last-child::after {align-self: flex-start;width: 50%;}#sk-container-id-2 div.sk-parallel-item:only-child::after {width: 0;}#sk-container-id-2 div.sk-dashed-wrapped {border: 1px dashed gray;margin: 0 0.4em 0.5em 0.4em;box-sizing: border-box;padding-bottom: 0.4em;background-color: white;}#sk-container-id-2 div.sk-label label {font-family: monospace;font-weight: bold;display: inline-block;line-height: 1.2em;}#sk-container-id-2 div.sk-label-container {text-align: center;}#sk-container-id-2 div.sk-container {/* jupyter's `normalize.less` sets `[hidden] { display: none; }` but bootstrap.min.css set `[hidden] { display: none !important; }` so we also need the `!important` here to be able to override the default hidden behavior on the sphinx rendered scikit-learn.org. See: https://github.com/scikit-learn/scikit-learn/issues/21755 */display: inline-block !important;position: relative;}#sk-container-id-2 div.sk-text-repr-fallback {display: none;}</style><div id=\"sk-container-id-2\" class=\"sk-top-container\"><div class=\"sk-text-repr-fallback\"><pre>Lasso(alpha=0.00043704795146790276)</pre><b>In a Jupyter environment, please rerun this cell to show the HTML representation or trust the notebook. <br />On GitHub, the HTML representation is unable to render, please try loading this page with nbviewer.org.</b></div><div class=\"sk-container\" hidden><div class=\"sk-item\"><div class=\"sk-estimator sk-toggleable\"><input class=\"sk-toggleable__control sk-hidden--visually\" id=\"sk-estimator-id-2\" type=\"checkbox\" checked><label for=\"sk-estimator-id-2\" class=\"sk-toggleable__label sk-toggleable__label-arrow\">Lasso</label><div class=\"sk-toggleable__content\"><pre>Lasso(alpha=0.00043704795146790276)</pre></div></div></div></div></div>"
      ],
      "text/plain": [
       "Lasso(alpha=0.00043704795146790276)"
      ]
     },
     "execution_count": 67,
     "metadata": {},
     "output_type": "execute_result"
    }
   ],
   "source": [
    "lasso_reg =Lasso(alpha)\n",
    "lasso_reg.fit(X_train,y_train)"
   ]
  },
  {
   "cell_type": "code",
   "execution_count": 68,
   "id": "0a17cee8",
   "metadata": {},
   "outputs": [
    {
     "name": "stdout",
     "output_type": "stream",
     "text": [
      "97.33063784076208\n"
     ]
    }
   ],
   "source": [
    "pred_test = lasso_reg.predict(X_test)\n",
    "\n",
    "print(lasso_reg.score(X_test,y_test)*100)"
   ]
  },
  {
   "cell_type": "markdown",
   "id": "42aabc0e",
   "metadata": {},
   "source": [
    "# Ridge Regularization"
   ]
  },
  {
   "cell_type": "code",
   "execution_count": 69,
   "id": "99fac769",
   "metadata": {},
   "outputs": [
    {
     "data": {
      "text/html": [
       "<style>#sk-container-id-3 {color: black;background-color: white;}#sk-container-id-3 pre{padding: 0;}#sk-container-id-3 div.sk-toggleable {background-color: white;}#sk-container-id-3 label.sk-toggleable__label {cursor: pointer;display: block;width: 100%;margin-bottom: 0;padding: 0.3em;box-sizing: border-box;text-align: center;}#sk-container-id-3 label.sk-toggleable__label-arrow:before {content: \"▸\";float: left;margin-right: 0.25em;color: #696969;}#sk-container-id-3 label.sk-toggleable__label-arrow:hover:before {color: black;}#sk-container-id-3 div.sk-estimator:hover label.sk-toggleable__label-arrow:before {color: black;}#sk-container-id-3 div.sk-toggleable__content {max-height: 0;max-width: 0;overflow: hidden;text-align: left;background-color: #f0f8ff;}#sk-container-id-3 div.sk-toggleable__content pre {margin: 0.2em;color: black;border-radius: 0.25em;background-color: #f0f8ff;}#sk-container-id-3 input.sk-toggleable__control:checked~div.sk-toggleable__content {max-height: 200px;max-width: 100%;overflow: auto;}#sk-container-id-3 input.sk-toggleable__control:checked~label.sk-toggleable__label-arrow:before {content: \"▾\";}#sk-container-id-3 div.sk-estimator input.sk-toggleable__control:checked~label.sk-toggleable__label {background-color: #d4ebff;}#sk-container-id-3 div.sk-label input.sk-toggleable__control:checked~label.sk-toggleable__label {background-color: #d4ebff;}#sk-container-id-3 input.sk-hidden--visually {border: 0;clip: rect(1px 1px 1px 1px);clip: rect(1px, 1px, 1px, 1px);height: 1px;margin: -1px;overflow: hidden;padding: 0;position: absolute;width: 1px;}#sk-container-id-3 div.sk-estimator {font-family: monospace;background-color: #f0f8ff;border: 1px dotted black;border-radius: 0.25em;box-sizing: border-box;margin-bottom: 0.5em;}#sk-container-id-3 div.sk-estimator:hover {background-color: #d4ebff;}#sk-container-id-3 div.sk-parallel-item::after {content: \"\";width: 100%;border-bottom: 1px solid gray;flex-grow: 1;}#sk-container-id-3 div.sk-label:hover label.sk-toggleable__label {background-color: #d4ebff;}#sk-container-id-3 div.sk-serial::before {content: \"\";position: absolute;border-left: 1px solid gray;box-sizing: border-box;top: 0;bottom: 0;left: 50%;z-index: 0;}#sk-container-id-3 div.sk-serial {display: flex;flex-direction: column;align-items: center;background-color: white;padding-right: 0.2em;padding-left: 0.2em;position: relative;}#sk-container-id-3 div.sk-item {position: relative;z-index: 1;}#sk-container-id-3 div.sk-parallel {display: flex;align-items: stretch;justify-content: center;background-color: white;position: relative;}#sk-container-id-3 div.sk-item::before, #sk-container-id-3 div.sk-parallel-item::before {content: \"\";position: absolute;border-left: 1px solid gray;box-sizing: border-box;top: 0;bottom: 0;left: 50%;z-index: -1;}#sk-container-id-3 div.sk-parallel-item {display: flex;flex-direction: column;z-index: 1;position: relative;background-color: white;}#sk-container-id-3 div.sk-parallel-item:first-child::after {align-self: flex-end;width: 50%;}#sk-container-id-3 div.sk-parallel-item:last-child::after {align-self: flex-start;width: 50%;}#sk-container-id-3 div.sk-parallel-item:only-child::after {width: 0;}#sk-container-id-3 div.sk-dashed-wrapped {border: 1px dashed gray;margin: 0 0.4em 0.5em 0.4em;box-sizing: border-box;padding-bottom: 0.4em;background-color: white;}#sk-container-id-3 div.sk-label label {font-family: monospace;font-weight: bold;display: inline-block;line-height: 1.2em;}#sk-container-id-3 div.sk-label-container {text-align: center;}#sk-container-id-3 div.sk-container {/* jupyter's `normalize.less` sets `[hidden] { display: none; }` but bootstrap.min.css set `[hidden] { display: none !important; }` so we also need the `!important` here to be able to override the default hidden behavior on the sphinx rendered scikit-learn.org. See: https://github.com/scikit-learn/scikit-learn/issues/21755 */display: inline-block !important;position: relative;}#sk-container-id-3 div.sk-text-repr-fallback {display: none;}</style><div id=\"sk-container-id-3\" class=\"sk-top-container\"><div class=\"sk-text-repr-fallback\"><pre>RidgeCV(alphas=array([0.001, 0.011, 0.021, 0.031, 0.041, 0.051, 0.061, 0.071, 0.081,\n",
       "       0.091]),\n",
       "        normalize=True)</pre><b>In a Jupyter environment, please rerun this cell to show the HTML representation or trust the notebook. <br />On GitHub, the HTML representation is unable to render, please try loading this page with nbviewer.org.</b></div><div class=\"sk-container\" hidden><div class=\"sk-item\"><div class=\"sk-estimator sk-toggleable\"><input class=\"sk-toggleable__control sk-hidden--visually\" id=\"sk-estimator-id-3\" type=\"checkbox\" checked><label for=\"sk-estimator-id-3\" class=\"sk-toggleable__label sk-toggleable__label-arrow\">RidgeCV</label><div class=\"sk-toggleable__content\"><pre>RidgeCV(alphas=array([0.001, 0.011, 0.021, 0.031, 0.041, 0.051, 0.061, 0.071, 0.081,\n",
       "       0.091]),\n",
       "        normalize=True)</pre></div></div></div></div></div>"
      ],
      "text/plain": [
       "RidgeCV(alphas=array([0.001, 0.011, 0.021, 0.031, 0.041, 0.051, 0.061, 0.071, 0.081,\n",
       "       0.091]),\n",
       "        normalize=True)"
      ]
     },
     "execution_count": 69,
     "metadata": {},
     "output_type": "execute_result"
    }
   ],
   "source": [
    "ridgecv = RidgeCV(alphas= np.arange(.001,0.1,.01),normalize = True)\n",
    "ridgecv.fit(X_train,y_train)"
   ]
  },
  {
   "cell_type": "code",
   "execution_count": 70,
   "id": "32ab7705",
   "metadata": {},
   "outputs": [
    {
     "data": {
      "text/plain": [
       "0.09099999999999998"
      ]
     },
     "execution_count": 70,
     "metadata": {},
     "output_type": "execute_result"
    }
   ],
   "source": [
    "alpha = ridgecv.alpha_\n",
    "alpha"
   ]
  },
  {
   "cell_type": "code",
   "execution_count": 71,
   "id": "5cbd1e69",
   "metadata": {},
   "outputs": [
    {
     "data": {
      "text/html": [
       "<style>#sk-container-id-4 {color: black;background-color: white;}#sk-container-id-4 pre{padding: 0;}#sk-container-id-4 div.sk-toggleable {background-color: white;}#sk-container-id-4 label.sk-toggleable__label {cursor: pointer;display: block;width: 100%;margin-bottom: 0;padding: 0.3em;box-sizing: border-box;text-align: center;}#sk-container-id-4 label.sk-toggleable__label-arrow:before {content: \"▸\";float: left;margin-right: 0.25em;color: #696969;}#sk-container-id-4 label.sk-toggleable__label-arrow:hover:before {color: black;}#sk-container-id-4 div.sk-estimator:hover label.sk-toggleable__label-arrow:before {color: black;}#sk-container-id-4 div.sk-toggleable__content {max-height: 0;max-width: 0;overflow: hidden;text-align: left;background-color: #f0f8ff;}#sk-container-id-4 div.sk-toggleable__content pre {margin: 0.2em;color: black;border-radius: 0.25em;background-color: #f0f8ff;}#sk-container-id-4 input.sk-toggleable__control:checked~div.sk-toggleable__content {max-height: 200px;max-width: 100%;overflow: auto;}#sk-container-id-4 input.sk-toggleable__control:checked~label.sk-toggleable__label-arrow:before {content: \"▾\";}#sk-container-id-4 div.sk-estimator input.sk-toggleable__control:checked~label.sk-toggleable__label {background-color: #d4ebff;}#sk-container-id-4 div.sk-label input.sk-toggleable__control:checked~label.sk-toggleable__label {background-color: #d4ebff;}#sk-container-id-4 input.sk-hidden--visually {border: 0;clip: rect(1px 1px 1px 1px);clip: rect(1px, 1px, 1px, 1px);height: 1px;margin: -1px;overflow: hidden;padding: 0;position: absolute;width: 1px;}#sk-container-id-4 div.sk-estimator {font-family: monospace;background-color: #f0f8ff;border: 1px dotted black;border-radius: 0.25em;box-sizing: border-box;margin-bottom: 0.5em;}#sk-container-id-4 div.sk-estimator:hover {background-color: #d4ebff;}#sk-container-id-4 div.sk-parallel-item::after {content: \"\";width: 100%;border-bottom: 1px solid gray;flex-grow: 1;}#sk-container-id-4 div.sk-label:hover label.sk-toggleable__label {background-color: #d4ebff;}#sk-container-id-4 div.sk-serial::before {content: \"\";position: absolute;border-left: 1px solid gray;box-sizing: border-box;top: 0;bottom: 0;left: 50%;z-index: 0;}#sk-container-id-4 div.sk-serial {display: flex;flex-direction: column;align-items: center;background-color: white;padding-right: 0.2em;padding-left: 0.2em;position: relative;}#sk-container-id-4 div.sk-item {position: relative;z-index: 1;}#sk-container-id-4 div.sk-parallel {display: flex;align-items: stretch;justify-content: center;background-color: white;position: relative;}#sk-container-id-4 div.sk-item::before, #sk-container-id-4 div.sk-parallel-item::before {content: \"\";position: absolute;border-left: 1px solid gray;box-sizing: border-box;top: 0;bottom: 0;left: 50%;z-index: -1;}#sk-container-id-4 div.sk-parallel-item {display: flex;flex-direction: column;z-index: 1;position: relative;background-color: white;}#sk-container-id-4 div.sk-parallel-item:first-child::after {align-self: flex-end;width: 50%;}#sk-container-id-4 div.sk-parallel-item:last-child::after {align-self: flex-start;width: 50%;}#sk-container-id-4 div.sk-parallel-item:only-child::after {width: 0;}#sk-container-id-4 div.sk-dashed-wrapped {border: 1px dashed gray;margin: 0 0.4em 0.5em 0.4em;box-sizing: border-box;padding-bottom: 0.4em;background-color: white;}#sk-container-id-4 div.sk-label label {font-family: monospace;font-weight: bold;display: inline-block;line-height: 1.2em;}#sk-container-id-4 div.sk-label-container {text-align: center;}#sk-container-id-4 div.sk-container {/* jupyter's `normalize.less` sets `[hidden] { display: none; }` but bootstrap.min.css set `[hidden] { display: none !important; }` so we also need the `!important` here to be able to override the default hidden behavior on the sphinx rendered scikit-learn.org. See: https://github.com/scikit-learn/scikit-learn/issues/21755 */display: inline-block !important;position: relative;}#sk-container-id-4 div.sk-text-repr-fallback {display: none;}</style><div id=\"sk-container-id-4\" class=\"sk-top-container\"><div class=\"sk-text-repr-fallback\"><pre>Ridge(alpha=0.09099999999999998)</pre><b>In a Jupyter environment, please rerun this cell to show the HTML representation or trust the notebook. <br />On GitHub, the HTML representation is unable to render, please try loading this page with nbviewer.org.</b></div><div class=\"sk-container\" hidden><div class=\"sk-item\"><div class=\"sk-estimator sk-toggleable\"><input class=\"sk-toggleable__control sk-hidden--visually\" id=\"sk-estimator-id-4\" type=\"checkbox\" checked><label for=\"sk-estimator-id-4\" class=\"sk-toggleable__label sk-toggleable__label-arrow\">Ridge</label><div class=\"sk-toggleable__content\"><pre>Ridge(alpha=0.09099999999999998)</pre></div></div></div></div></div>"
      ],
      "text/plain": [
       "Ridge(alpha=0.09099999999999998)"
      ]
     },
     "execution_count": 71,
     "metadata": {},
     "output_type": "execute_result"
    }
   ],
   "source": [
    "ridge_reg = Ridge(alpha)\n",
    "ridge_reg.fit(X_train,y_train)"
   ]
  },
  {
   "cell_type": "code",
   "execution_count": 72,
   "id": "94121884",
   "metadata": {},
   "outputs": [
    {
     "name": "stdout",
     "output_type": "stream",
     "text": [
      "97.30166308240838\n"
     ]
    }
   ],
   "source": [
    "pred_test = ridge_reg.predict(X_test)\n",
    "\n",
    "print(ridge_reg.score(X_test,y_test)*100)"
   ]
  },
  {
   "cell_type": "markdown",
   "id": "69ed9bd7",
   "metadata": {},
   "source": [
    "**We got around same R2 score using Lasso and ridge regression. So it's safe to say that there is no overfitting.**"
   ]
  },
  {
   "cell_type": "markdown",
   "id": "1c63d47b",
   "metadata": {},
   "source": [
    "# Ensemble technique - Random Forest"
   ]
  },
  {
   "cell_type": "code",
   "execution_count": 73,
   "id": "63297845",
   "metadata": {},
   "outputs": [
    {
     "name": "stdout",
     "output_type": "stream",
     "text": [
      "R2 score for Random Forest Model: 94.78459234352992\n",
      "Cross val score for Random Forest model: 90.95029677003527\n",
      "Root mean squared Error for Random Forest model: 0.1447518424813277\n"
     ]
    }
   ],
   "source": [
    "rf = RandomForestRegressor()\n",
    "\n",
    "rf.fit(X_train,y_train)\n",
    "\n",
    "rf.score(X_train,y_train)\n",
    "\n",
    "pred_test = rf.predict(X_test)\n",
    "\n",
    "rfs = r2_score(y_test,pred_test)\n",
    "\n",
    "print(\"R2 score for Random Forest Model:\",rfs*100)\n",
    "\n",
    "rf_score = cross_val_score(rf,X,y,cv=9)\n",
    "\n",
    "rfc = rf_score.mean()\n",
    "\n",
    "print(\"Cross val score for Random Forest model:\",rfc*100)\n",
    "\n",
    "# MSE - ignoring some outliers means larger errors are punished. Hard to interpretate but most popular\n",
    "\n",
    "mse = mean_squared_error(y_test,pred_test)\n",
    "\n",
    "# RMSE\n",
    "\n",
    "rmse = np.sqrt(mse)\n",
    "\n",
    "print(\"Root mean squared Error for Random Forest model:\",rmse)"
   ]
  },
  {
   "cell_type": "markdown",
   "id": "11662082",
   "metadata": {},
   "source": [
    "# Hyperparameter Tuning - For Random Forest"
   ]
  },
  {
   "cell_type": "code",
   "execution_count": 74,
   "id": "b6ef47a4",
   "metadata": {},
   "outputs": [
    {
     "name": "stdout",
     "output_type": "stream",
     "text": [
      "{'criterion': 'mse', 'max_features': 'sqrt', 'max_samples': 0.25, 'min_samples_split': 4}\n"
     ]
    }
   ],
   "source": [
    "# For Random Forest Regressor\n",
    "\n",
    "params_rf = {'criterion':['mse','mae'],\n",
    "             'min_samples_split':range(4,9),\n",
    "             'max_features':['auto','sqrt','log2'],\n",
    "             'max_samples':(0.1,0.2,0.25)}\n",
    "\n",
    "grd_rf = GridSearchCV(rf,params_rf)\n",
    "\n",
    "grd_rf.fit(X_train,y_train)\n",
    "\n",
    "print(grd_rf.best_params_)"
   ]
  },
  {
   "cell_type": "code",
   "execution_count": 75,
   "id": "8687c87f",
   "metadata": {},
   "outputs": [
    {
     "name": "stdout",
     "output_type": "stream",
     "text": [
      "R2 score for Random Forest Model after tuning: 95.60723897171755\n",
      "Cross val score for Random Forest model after tuning: 89.1081653945339\n",
      "Root mean squared Error for Random Forest model after tuning: 0.13284608467560732\n"
     ]
    }
   ],
   "source": [
    "rf = grd_rf.best_estimator_\n",
    "\n",
    "rf.fit(X_train,y_train)\n",
    "\n",
    "rf.score(X_train,y_train)\n",
    "\n",
    "pred_test = rf.predict(X_test)\n",
    "\n",
    "rfs = r2_score(y_test,pred_test)\n",
    "\n",
    "print(\"R2 score for Random Forest Model after tuning:\",rfs*100)\n",
    "\n",
    "rf_score = cross_val_score(rf,X,y,cv=9)\n",
    "\n",
    "rfc = rf_score.mean()\n",
    "\n",
    "print(\"Cross val score for Random Forest model after tuning:\",rfc*100)\n",
    "\n",
    "# MSE - ignoring some outliers means larger errors are punished. Hard to interpretate but most popular\n",
    "\n",
    "mse = mean_squared_error(y_test,pred_test)\n",
    "\n",
    "# RMSE\n",
    "\n",
    "rmse = np.sqrt(mse)\n",
    "\n",
    "print(\"Root mean squared Error for Random Forest model after tuning:\",rmse)"
   ]
  },
  {
   "cell_type": "markdown",
   "id": "5a31ea8d",
   "metadata": {},
   "source": [
    "# Ada BoostRegressor"
   ]
  },
  {
   "cell_type": "code",
   "execution_count": 76,
   "id": "7909a1fa",
   "metadata": {},
   "outputs": [
    {
     "name": "stdout",
     "output_type": "stream",
     "text": [
      "R square score for training dataset for Ada Boost regressor:  0.9362984370682212\n",
      "R square score for test dataset for Ada Boost Regressor:  0.9147457452107461\n",
      "Cross val score for Ada Boost Regresor: 86.95043474666619\n",
      "Root mean squared Error for ada boost Regressor: 0.18507084230043636\n"
     ]
    }
   ],
   "source": [
    "from sklearn import metrics\n",
    "\n",
    "ada = AdaBoostRegressor()\n",
    "\n",
    "ada.fit(X_train,y_train)\n",
    "\n",
    "pred_train = ada.predict(X_train)       # Predicting training data with the model\n",
    "\n",
    "acc_train = metrics.r2_score(y_train,pred_train)    # Training accuracy\n",
    "\n",
    "print(\"R square score for training dataset for Ada Boost regressor: \", acc_train)\n",
    "\n",
    "pred_test = ada.predict(X_test)       # Predicting test data with the model\n",
    "\n",
    "acc_test = metrics.r2_score(y_test,pred_test)\n",
    "\n",
    "print(\"R square score for test dataset for Ada Boost Regressor: \", acc_test)\n",
    "\n",
    "ada_score = cross_val_score(ada,X,y,cv=5)\n",
    "\n",
    "ada_m = ada_score.mean()\n",
    "\n",
    "print(\"Cross val score for Ada Boost Regresor:\",ada_m*100)\n",
    "\n",
    "\n",
    "mse = mean_squared_error(y_test,pred_test)\n",
    "\n",
    "# RMSE\n",
    "\n",
    "rmse = np.sqrt(mse)\n",
    "\n",
    "print(\"Root mean squared Error for ada boost Regressor:\",rmse)"
   ]
  },
  {
   "cell_type": "markdown",
   "id": "1ee06905",
   "metadata": {},
   "source": [
    "# Hyperparameter Tuning- Ada Boost Regressor"
   ]
  },
  {
   "cell_type": "code",
   "execution_count": 77,
   "id": "1a0ca268",
   "metadata": {},
   "outputs": [
    {
     "name": "stdout",
     "output_type": "stream",
     "text": [
      "{'learning_rate': 0.9, 'loss': 'linear', 'n_estimators': 60}\n"
     ]
    }
   ],
   "source": [
    "params_ada = {'n_estimators': [48,49,51,53,60],\n",
    "              'learning_rate':[0.90,0.85,0.30,0.95,1.0],\n",
    "              'loss' :['linear', 'square', 'exponential']\n",
    "             }\n",
    "\n",
    "grd_ada = GridSearchCV(ada,params_ada)\n",
    "\n",
    "grd_ada.fit(X_train,y_train)\n",
    "\n",
    "print(grd_ada.best_params_)"
   ]
  },
  {
   "cell_type": "code",
   "execution_count": 78,
   "id": "b0589c35",
   "metadata": {},
   "outputs": [
    {
     "name": "stdout",
     "output_type": "stream",
     "text": [
      "R square score for training dataset for Ada Boost regressor after tuning:  0.9311733099092447\n",
      "R square score for test dataset for Ada Boost Regressor after tuning:  0.9064943716990783\n",
      "Cross val score for Ada Boost Regresora after tuning: 86.26298064668978\n",
      "Root mean squared Error for ada boost Regressor after tuning: 0.19382011487690046\n"
     ]
    }
   ],
   "source": [
    "ada = grd_ada.best_estimator_\n",
    "\n",
    "ada.fit(X_train,y_train)\n",
    "\n",
    "pred_train = ada.predict(X_train)       # Predicting training data with the model\n",
    "\n",
    "acc_train = metrics.r2_score(y_train,pred_train)    # Training accuracy\n",
    "\n",
    "print(\"R square score for training dataset for Ada Boost regressor after tuning: \", acc_train)\n",
    "\n",
    "pred_test = ada.predict(X_test)       # Predicting test data with the model\n",
    "\n",
    "acc_test = metrics.r2_score(y_test,pred_test)\n",
    "\n",
    "print(\"R square score for test dataset for Ada Boost Regressor after tuning: \", acc_test)\n",
    "\n",
    "ada_score = cross_val_score(ada,X,y,cv=5)\n",
    "\n",
    "ada_m = ada_score.mean()\n",
    "\n",
    "print(\"Cross val score for Ada Boost Regresora after tuning:\",ada_m*100)\n",
    "\n",
    "\n",
    "mse = mean_squared_error(y_test,pred_test)\n",
    "\n",
    "# RMSE\n",
    "\n",
    "rmse = np.sqrt(mse)\n",
    "\n",
    "print(\"Root mean squared Error for ada boost Regressor after tuning:\",rmse)"
   ]
  },
  {
   "cell_type": "markdown",
   "id": "23779e41",
   "metadata": {},
   "source": [
    "# K Neighbors Regressor"
   ]
  },
  {
   "cell_type": "code",
   "execution_count": 79,
   "id": "b5ab5832",
   "metadata": {},
   "outputs": [
    {
     "name": "stdout",
     "output_type": "stream",
     "text": [
      "R square score for training dataset for K Neighbors regressor:  0.9203325100923458\n",
      "R square score for test dataset for K Neighbors Regressor:  0.9732721562762775\n",
      "Cross val score for K Neighbors Regresor: 89.34183740582655\n",
      "Root mean squared Error for K Neighbors Regressor: 0.10362437685342608\n"
     ]
    }
   ],
   "source": [
    "knn = KNeighborsRegressor()\n",
    "\n",
    "knn.fit(X_train,y_train)\n",
    "\n",
    "pred_train = knn.predict(X_train)       # Predicting training data with the model\n",
    "\n",
    "acc_train = metrics.r2_score(y_train,pred_train)    # Training accuracy\n",
    "\n",
    "print(\"R square score for training dataset for K Neighbors regressor: \", acc_train)\n",
    "\n",
    "pred_test = knn.predict(X_test)       # Predicting test data with the model\n",
    "\n",
    "acc_test = metrics.r2_score(y_test,pred_test)\n",
    "\n",
    "print(\"R square score for test dataset for K Neighbors Regressor: \", acc_test)\n",
    "\n",
    "knn_score = cross_val_score(knn,X,y,cv=5)\n",
    "\n",
    "knn_m = knn_score.mean()\n",
    "\n",
    "print(\"Cross val score for K Neighbors Regresor:\",knn_m*100)\n",
    "\n",
    "\n",
    "mse = mean_squared_error(y_test,pred_test)\n",
    "\n",
    "# RMSE\n",
    "\n",
    "rmse = np.sqrt(mse)\n",
    "\n",
    "print(\"Root mean squared Error for K Neighbors Regressor:\",rmse)"
   ]
  },
  {
   "cell_type": "markdown",
   "id": "b6470814",
   "metadata": {},
   "source": [
    "# Hyperparameter Tuning - K Neighbors Regressor"
   ]
  },
  {
   "cell_type": "code",
   "execution_count": 80,
   "id": "a22f2630",
   "metadata": {},
   "outputs": [
    {
     "name": "stdout",
     "output_type": "stream",
     "text": [
      "{'algorithm': 'auto', 'n_jobs': -1, 'n_neighbors': 4, 'weights': 'uniform'}\n"
     ]
    }
   ],
   "source": [
    "# Hyperparameter tuning for K Neighbors Regressor\n",
    "\n",
    "params_knn = {'n_neighbors':[4,5,6,7,8],\n",
    "              'weights':['uniform','distance'],\n",
    "              'algorithm':['auto','ball_tree', 'kd_tree', 'brute'],\n",
    "              'n_jobs':[-1,1]\n",
    "             }\n",
    "\n",
    "grd_knn = GridSearchCV(knn,params_knn)\n",
    "\n",
    "grd_knn.fit(X_train,y_train)\n",
    "\n",
    "print(grd_knn.best_params_)"
   ]
  },
  {
   "cell_type": "code",
   "execution_count": 81,
   "id": "3b0d222d",
   "metadata": {},
   "outputs": [
    {
     "name": "stdout",
     "output_type": "stream",
     "text": [
      "R square score for training dataset for K Neighbors regressor after tuning:  0.9261469052451445\n",
      "R square score for test dataset for K Neighbors Regressor after tuning:  0.9744404269619881\n",
      "Cross val score for K Neighbors Regresor after tuning: 89.19845853545226\n",
      "Root mean squared Error for K Neighbors Regressor after tuning: 0.10133436903551571\n"
     ]
    }
   ],
   "source": [
    "knn = grd_knn.best_estimator_\n",
    "\n",
    "knn.fit(X_train,y_train)\n",
    "\n",
    "pred_train = knn.predict(X_train)       # Predicting training data with the model\n",
    "\n",
    "acc_train = metrics.r2_score(y_train,pred_train)    # Training accuracy\n",
    "\n",
    "print(\"R square score for training dataset for K Neighbors regressor after tuning: \", acc_train)\n",
    "\n",
    "pred_test = knn.predict(X_test)       # Predicting test data with the model\n",
    "\n",
    "acc_test = metrics.r2_score(y_test,pred_test)\n",
    "\n",
    "print(\"R square score for test dataset for K Neighbors Regressor after tuning: \", acc_test)\n",
    "\n",
    "knn_score = cross_val_score(knn,X,y,cv=5)\n",
    "\n",
    "knn_m = knn_score.mean()\n",
    "\n",
    "print(\"Cross val score for K Neighbors Regresor after tuning:\",knn_m*100)\n",
    "\n",
    "\n",
    "mse = mean_squared_error(y_test,pred_test)\n",
    "\n",
    "# RMSE\n",
    "\n",
    "rmse = np.sqrt(mse)\n",
    "\n",
    "print(\"Root mean squared Error for K Neighbors Regressor after tuning:\",rmse)"
   ]
  },
  {
   "cell_type": "markdown",
   "id": "197eab2f",
   "metadata": {},
   "source": [
    "# Support Vector Regressor (SVR)"
   ]
  },
  {
   "cell_type": "code",
   "execution_count": 82,
   "id": "53d6ee6b",
   "metadata": {},
   "outputs": [
    {
     "name": "stdout",
     "output_type": "stream",
     "text": [
      "R square score for training dataset for SVR:  0.9549341266031419\n",
      "R square score for test dataset for SVR:  0.983328330510335\n",
      "Cross val score for SVR: 92.02645037147299\n",
      "Root mean squared Error for SVR: 0.08184073409200668\n"
     ]
    }
   ],
   "source": [
    "svr = SVR()\n",
    "\n",
    "svr.fit(X_train,y_train)\n",
    "\n",
    "pred_train = svr.predict(X_train)       # Predicting training data with the model\n",
    "\n",
    "acc_train = metrics.r2_score(y_train,pred_train)    # Training accuracy\n",
    "\n",
    "print(\"R square score for training dataset for SVR: \", acc_train)\n",
    "\n",
    "pred_test = svr.predict(X_test)       # Predicting test data with the model\n",
    "\n",
    "acc_test = metrics.r2_score(y_test,pred_test)\n",
    "\n",
    "print(\"R square score for test dataset for SVR: \", acc_test)\n",
    "\n",
    "svr_score = cross_val_score(svr,X,y,cv=5)\n",
    "\n",
    "svr_m = svr_score.mean()\n",
    "\n",
    "print(\"Cross val score for SVR:\",svr_m*100)\n",
    "\n",
    "\n",
    "mse = mean_squared_error(y_test,pred_test)\n",
    "\n",
    "# RMSE\n",
    "\n",
    "rmse = np.sqrt(mse)\n",
    "\n",
    "print(\"Root mean squared Error for SVR:\",rmse)"
   ]
  },
  {
   "cell_type": "markdown",
   "id": "a7658eeb",
   "metadata": {},
   "source": [
    "# Hyperparameter Tuning - SVR"
   ]
  },
  {
   "cell_type": "code",
   "execution_count": 83,
   "id": "d525b4b1",
   "metadata": {},
   "outputs": [
    {
     "name": "stdout",
     "output_type": "stream",
     "text": [
      "{'gamma': 'scale', 'kernel': 'rbf'}\n"
     ]
    }
   ],
   "source": [
    "# Hyperparameter tuning for Support Vector Regressor\n",
    "\n",
    "params_svr = {'kernel':['linear', 'rbf', 'sigmoid'],\n",
    "              'gamma':['scale','auto']\n",
    "             }\n",
    "\n",
    "grd_svr = GridSearchCV(svr,params_svr)\n",
    "\n",
    "grd_svr.fit(X_train,y_train)\n",
    "\n",
    "print(grd_svr.best_params_)"
   ]
  },
  {
   "cell_type": "code",
   "execution_count": 84,
   "id": "164546a2",
   "metadata": {},
   "outputs": [
    {
     "name": "stdout",
     "output_type": "stream",
     "text": [
      "R square score for training dataset for SVR after tuning:  0.9549341266031419\n",
      "R square score for test dataset for SVR after tuning:  0.983328330510335\n",
      "Cross val score for SVR after tuning: 92.02645037147299\n",
      "Root mean squared Error for SVR after tuning: 0.08184073409200668\n"
     ]
    }
   ],
   "source": [
    "svr = grd_svr.best_estimator_\n",
    "\n",
    "svr.fit(X_train,y_train)\n",
    "\n",
    "pred_train = svr.predict(X_train)       # Predicting training data with the model\n",
    "\n",
    "acc_train = metrics.r2_score(y_train,pred_train)    # Training accuracy\n",
    "\n",
    "print(\"R square score for training dataset for SVR after tuning: \", acc_train)\n",
    "\n",
    "pred_test = svr.predict(X_test)       # Predicting test data with the model\n",
    "\n",
    "acc_test = metrics.r2_score(y_test,pred_test)\n",
    "\n",
    "print(\"R square score for test dataset for SVR after tuning: \", acc_test)\n",
    "\n",
    "svr_score = cross_val_score(svr,X,y,cv=5)\n",
    "\n",
    "svr_m = svr_score.mean()\n",
    "\n",
    "print(\"Cross val score for SVR after tuning:\",svr_m*100)\n",
    "\n",
    "\n",
    "mse = mean_squared_error(y_test,pred_test)\n",
    "\n",
    "# RMSE\n",
    "\n",
    "rmse = np.sqrt(mse)\n",
    "\n",
    "print(\"Root mean squared Error for SVR after tuning:\",rmse)"
   ]
  },
  {
   "cell_type": "markdown",
   "id": "f697566b",
   "metadata": {},
   "source": [
    "**Among all the models, the best r2 score and cv score is given by Support Vector Regressor Model**"
   ]
  },
  {
   "cell_type": "markdown",
   "id": "c2b9aec9",
   "metadata": {},
   "source": [
    "# Saving the model"
   ]
  },
  {
   "cell_type": "code",
   "execution_count": 85,
   "id": "f2108263",
   "metadata": {},
   "outputs": [],
   "source": [
    "filename = 'grade_student.pkl'\n",
    "pickle.dump(svr,open(filename,'wb'))"
   ]
  },
  {
   "cell_type": "markdown",
   "id": "da2d5d6a",
   "metadata": {},
   "source": [
    "# Conclusion"
   ]
  },
  {
   "cell_type": "code",
   "execution_count": 86,
   "id": "e7ee6eab",
   "metadata": {},
   "outputs": [
    {
     "name": "stdout",
     "output_type": "stream",
     "text": [
      "98.3328330510335 %\n"
     ]
    }
   ],
   "source": [
    "loaded_model = pickle.load(open('grade_student.pkl','rb'))\n",
    "result = loaded_model.score(X_test,y_test)\n",
    "pred_test = loaded_model.predict(X_test)\n",
    "print(result*100,'%')"
   ]
  },
  {
   "cell_type": "code",
   "execution_count": 87,
   "id": "03676f04",
   "metadata": {},
   "outputs": [],
   "source": [
    "conclusion = pd.DataFrame([loaded_model.predict(X_test)[:],y_test[:]],index=[\"Predicted\",\"Original\"])"
   ]
  },
  {
   "cell_type": "code",
   "execution_count": 88,
   "id": "f671f170",
   "metadata": {},
   "outputs": [
    {
     "data": {
      "text/html": [
       "<div>\n",
       "<style scoped>\n",
       "    .dataframe tbody tr th:only-of-type {\n",
       "        vertical-align: middle;\n",
       "    }\n",
       "\n",
       "    .dataframe tbody tr th {\n",
       "        vertical-align: top;\n",
       "    }\n",
       "\n",
       "    .dataframe thead th {\n",
       "        text-align: right;\n",
       "    }\n",
       "</style>\n",
       "<table border=\"1\" class=\"dataframe\">\n",
       "  <thead>\n",
       "    <tr style=\"text-align: right;\">\n",
       "      <th></th>\n",
       "      <th>0</th>\n",
       "      <th>1</th>\n",
       "      <th>2</th>\n",
       "      <th>3</th>\n",
       "      <th>4</th>\n",
       "      <th>5</th>\n",
       "      <th>6</th>\n",
       "      <th>7</th>\n",
       "      <th>8</th>\n",
       "      <th>9</th>\n",
       "      <th>...</th>\n",
       "      <th>105</th>\n",
       "      <th>106</th>\n",
       "      <th>107</th>\n",
       "      <th>108</th>\n",
       "      <th>109</th>\n",
       "      <th>110</th>\n",
       "      <th>111</th>\n",
       "      <th>112</th>\n",
       "      <th>113</th>\n",
       "      <th>114</th>\n",
       "    </tr>\n",
       "  </thead>\n",
       "  <tbody>\n",
       "    <tr>\n",
       "      <th>Predicted</th>\n",
       "      <td>2.206743</td>\n",
       "      <td>3.492185</td>\n",
       "      <td>3.225327</td>\n",
       "      <td>2.383438</td>\n",
       "      <td>2.352144</td>\n",
       "      <td>3.633092</td>\n",
       "      <td>3.328477</td>\n",
       "      <td>3.835703</td>\n",
       "      <td>3.365404</td>\n",
       "      <td>3.841148</td>\n",
       "      <td>...</td>\n",
       "      <td>1.834177</td>\n",
       "      <td>2.904761</td>\n",
       "      <td>3.243662</td>\n",
       "      <td>3.702329</td>\n",
       "      <td>3.458434</td>\n",
       "      <td>3.154805</td>\n",
       "      <td>2.345622</td>\n",
       "      <td>2.01309</td>\n",
       "      <td>2.449091</td>\n",
       "      <td>3.635709</td>\n",
       "    </tr>\n",
       "    <tr>\n",
       "      <th>Original</th>\n",
       "      <td>2.288000</td>\n",
       "      <td>3.566000</td>\n",
       "      <td>3.114000</td>\n",
       "      <td>2.384000</td>\n",
       "      <td>2.311000</td>\n",
       "      <td>3.700000</td>\n",
       "      <td>3.350000</td>\n",
       "      <td>3.943000</td>\n",
       "      <td>3.443000</td>\n",
       "      <td>3.908000</td>\n",
       "      <td>...</td>\n",
       "      <td>1.658000</td>\n",
       "      <td>3.019000</td>\n",
       "      <td>3.334000</td>\n",
       "      <td>3.574000</td>\n",
       "      <td>3.432000</td>\n",
       "      <td>3.208000</td>\n",
       "      <td>2.396000</td>\n",
       "      <td>2.06000</td>\n",
       "      <td>2.407000</td>\n",
       "      <td>3.659000</td>\n",
       "    </tr>\n",
       "  </tbody>\n",
       "</table>\n",
       "<p>2 rows × 115 columns</p>\n",
       "</div>"
      ],
      "text/plain": [
       "                0         1         2         3         4         5    \\\n",
       "Predicted  2.206743  3.492185  3.225327  2.383438  2.352144  3.633092   \n",
       "Original   2.288000  3.566000  3.114000  2.384000  2.311000  3.700000   \n",
       "\n",
       "                6         7         8         9    ...       105       106  \\\n",
       "Predicted  3.328477  3.835703  3.365404  3.841148  ...  1.834177  2.904761   \n",
       "Original   3.350000  3.943000  3.443000  3.908000  ...  1.658000  3.019000   \n",
       "\n",
       "                107       108       109       110       111      112  \\\n",
       "Predicted  3.243662  3.702329  3.458434  3.154805  2.345622  2.01309   \n",
       "Original   3.334000  3.574000  3.432000  3.208000  2.396000  2.06000   \n",
       "\n",
       "                113       114  \n",
       "Predicted  2.449091  3.635709  \n",
       "Original   2.407000  3.659000  \n",
       "\n",
       "[2 rows x 115 columns]"
      ]
     },
     "execution_count": 88,
     "metadata": {},
     "output_type": "execute_result"
    }
   ],
   "source": [
    "conclusion"
   ]
  },
  {
   "cell_type": "code",
   "execution_count": null,
   "id": "f9288cf6",
   "metadata": {},
   "outputs": [],
   "source": []
  }
 ],
 "metadata": {
  "kernelspec": {
   "display_name": "Python 3 (ipykernel)",
   "language": "python",
   "name": "python3"
  },
  "language_info": {
   "codemirror_mode": {
    "name": "ipython",
    "version": 3
   },
   "file_extension": ".py",
   "mimetype": "text/x-python",
   "name": "python",
   "nbconvert_exporter": "python",
   "pygments_lexer": "ipython3",
   "version": "3.9.12"
  }
 },
 "nbformat": 4,
 "nbformat_minor": 5
}
